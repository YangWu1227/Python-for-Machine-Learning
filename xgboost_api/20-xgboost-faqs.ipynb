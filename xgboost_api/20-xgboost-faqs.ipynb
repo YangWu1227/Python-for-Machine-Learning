{
 "cells": [
  {
   "cell_type": "markdown",
   "id": "541dd7f1",
   "metadata": {
    "papermill": {
     "duration": 0.029945,
     "end_time": "2021-09-17T23:31:21.653610",
     "exception": false,
     "start_time": "2021-09-17T23:31:21.623665",
     "status": "completed"
    },
    "tags": []
   },
   "source": [
    "# 20 Burning XGBoost FAQs Answered to Use the Library Like a Pro\n",
    "## Gradient-boost your XGBoost knowledge by learning these crucial lessons\n",
    "![](https://miro.medium.com/max/2000/1*n6aa_ZbeL5c4O5vvKKJMVg.jpeg)\n",
    "<figcaption style=\"text-align: center;\">\n",
    "    <strong>\n",
    "        Photo by \n",
    "        <a href='https://unsplash.com/@haithemfrd_off?utm_source=unsplash&utm_medium=referral&utm_content=creditCopyText'>Haithem Ferdi</a>\n",
    "        on \n",
    "        <a href='https://unsplash.com/s/photos/boost?utm_source=unsplash&utm_medium=referral&utm_content=creditCopyText'>Unsplash.</a> All images are by the author unless specified otherwise.\n",
    "    </strong>\n",
    "</figcaption>"
   ]
  },
  {
   "cell_type": "markdown",
   "id": "53736302",
   "metadata": {
    "_kg_hide-input": true,
    "papermill": {
     "duration": 0.027859,
     "end_time": "2021-09-17T23:31:21.710531",
     "exception": false,
     "start_time": "2021-09-17T23:31:21.682672",
     "status": "completed"
    },
    "tags": []
   },
   "source": [
    "## Setup"
   ]
  },
  {
   "cell_type": "code",
   "execution_count": 1,
   "id": "72736649",
   "metadata": {
    "_kg_hide-input": true,
    "execution": {
     "iopub.execute_input": "2021-09-17T23:31:21.782790Z",
     "iopub.status.busy": "2021-09-17T23:31:21.782122Z",
     "iopub.status.idle": "2021-09-17T23:31:24.769683Z",
     "shell.execute_reply": "2021-09-17T23:31:24.770857Z",
     "shell.execute_reply.started": "2021-07-26T14:32:26.564782Z"
    },
    "papermill": {
     "duration": 3.031476,
     "end_time": "2021-09-17T23:31:24.771198",
     "exception": false,
     "start_time": "2021-09-17T23:31:21.739722",
     "status": "completed"
    },
    "tags": []
   },
   "outputs": [],
   "source": [
    "import warnings\n",
    "\n",
    "import matplotlib.pyplot as plt\n",
    "import numpy as np\n",
    "import pandas as pd\n",
    "import seaborn as sns\n",
    "import xgboost as xgb\n",
    "from matplotlib import rcParams\n",
    "from sklearn.ensemble import RandomForestRegressor\n",
    "from sklearn.model_selection import cross_val_score, cross_validate, train_test_split\n",
    "from sklearn.preprocessing import LabelEncoder, OneHotEncoder\n",
    "\n",
    "rcParams[\"font.size\"] = 15\n",
    "\n",
    "iris = sns.load_dataset(\"iris\").dropna()\n",
    "penguins = sns.load_dataset(\"penguins\").dropna()\n",
    "\n",
    "i_input, i_target = iris.drop(\"species\", axis=1), iris[[\"species\"]]\n",
    "p_input, p_target = penguins.drop(\"body_mass_g\", axis=1), penguins[[\"body_mass_g\"]]\n",
    "\n",
    "p_input = pd.get_dummies(p_input)\n",
    "\n",
    "le = LabelEncoder()\n",
    "i_target = le.fit_transform(i_target.values.ravel())\n",
    "\n",
    "X_train_i, X_test_i, y_train_i, y_test_i = train_test_split(\n",
    "    i_input, i_target, test_size=0.2, random_state=1121218\n",
    ")\n",
    "\n",
    "\n",
    "X_train_p, X_test_p, y_train_p, y_test_p = train_test_split(\n",
    "    p_input, p_target, test_size=0.2, random_state=1121218\n",
    ")"
   ]
  },
  {
   "cell_type": "markdown",
   "id": "69a1f3fd",
   "metadata": {
    "papermill": {
     "duration": 0.050848,
     "end_time": "2021-09-17T23:31:24.875718",
     "exception": false,
     "start_time": "2021-09-17T23:31:24.824870",
     "status": "completed"
    },
    "tags": []
   },
   "source": [
    "XGBoost is a real beast.\n",
    "\n",
    "It is a tree-based power horse that is behind the winning solutions of many tabular competitions and datathons. Currently, it is the “hottest” ML framework of the “sexiest” job in the world.\n",
    "\n",
    "While basic modeling with XGBoost can be straightforward, you need to master the nitty-gritty to achieve maximum performance.\n",
    "\n",
    "With that said, I present you this article, which is the result of\n",
    "- hours of reading the documentation (it wasn't fun)\n",
    "- crying through some awful but useful Kaggle kernels\n",
    "- hundreds of Google keyword searches\n",
    "- completely exhausting my Medium membership by reading a lotta articles\n",
    "\n",
    "The post answers 20 most burning questions on XGBoost and its API. These should be enough to make you look like you have been using the library forever."
   ]
  },
  {
   "cell_type": "markdown",
   "id": "4f942cc3",
   "metadata": {
    "papermill": {
     "duration": 0.048779,
     "end_time": "2021-09-17T23:31:24.973372",
     "exception": false,
     "start_time": "2021-09-17T23:31:24.924593",
     "status": "completed"
    },
    "tags": []
   },
   "source": [
    "## 1. Which API should I choose - Scikit-learn or the core learning API?"
   ]
  },
  {
   "cell_type": "markdown",
   "id": "59410204",
   "metadata": {
    "papermill": {
     "duration": 0.027632,
     "end_time": "2021-09-17T23:31:25.033639",
     "exception": false,
     "start_time": "2021-09-17T23:31:25.006007",
     "status": "completed"
    },
    "tags": []
   },
   "source": [
    "XGBoost in Python has two APIs — Scikit-learn compatible (estimators have the familiar `fit/predict` pattern) and the core XGBoost-native API (a global `train` function for both classification and regression).\n",
    "\n",
    "The majority of the Python community, including Kagglers and myself, use the Scikit-learn API."
   ]
  },
  {
   "cell_type": "code",
   "execution_count": 2,
   "id": "2456a1b7",
   "metadata": {
    "execution": {
     "iopub.execute_input": "2021-09-17T23:31:25.094960Z",
     "iopub.status.busy": "2021-09-17T23:31:25.094143Z",
     "iopub.status.idle": "2021-09-17T23:31:25.097291Z",
     "shell.execute_reply": "2021-09-17T23:31:25.096775Z",
     "shell.execute_reply.started": "2021-07-26T14:32:26.604004Z"
    },
    "papermill": {
     "duration": 0.035999,
     "end_time": "2021-09-17T23:31:25.097401",
     "exception": false,
     "start_time": "2021-09-17T23:31:25.061402",
     "status": "completed"
    },
    "tags": []
   },
   "outputs": [],
   "source": [
    "import xgboost as xgb\n",
    "\n",
    "# Regression\n",
    "reg = xgb.XGBRegressor()\n",
    "# Classification\n",
    "clf = xgb.XGBClassifier()"
   ]
  },
  {
   "cell_type": "markdown",
   "id": "a34f7efe",
   "metadata": {
    "papermill": {
     "duration": 0.027739,
     "end_time": "2021-09-17T23:31:25.152854",
     "exception": false,
     "start_time": "2021-09-17T23:31:25.125115",
     "status": "completed"
    },
    "tags": []
   },
   "source": [
    "```python\n",
    "reg.fit(X_train, y_train)\n",
    "\n",
    "clf.fit(X_train, y_train)\n",
    "```"
   ]
  },
  {
   "cell_type": "markdown",
   "id": "d4c76824",
   "metadata": {
    "papermill": {
     "duration": 0.027504,
     "end_time": "2021-09-17T23:31:25.208485",
     "exception": false,
     "start_time": "2021-09-17T23:31:25.180981",
     "status": "completed"
    },
    "tags": []
   },
   "source": [
    "This API enables you to integrate XGBoost estimators into your familiar workflow. The benefits are (and are not limited to):\n",
    "\n",
    "- the ability to pass core XGB algorithms into [Sklearn pipelines](https://towardsdatascience.com/how-to-use-sklearn-pipelines-for-ridiculously-neat-code-a61ab66ca90d?source=your_stories_page-------------------------------------)\n",
    "- using a more efficient cross-validation workflow\n",
    "- avoiding the hassles that come with learning a new API, etc."
   ]
  },
  {
   "cell_type": "markdown",
   "id": "b210ccf5",
   "metadata": {
    "papermill": {
     "duration": 0.02811,
     "end_time": "2021-09-17T23:31:25.264312",
     "exception": false,
     "start_time": "2021-09-17T23:31:25.236202",
     "status": "completed"
    },
    "tags": []
   },
   "source": [
    "## 2. How do I completely control the randomness in XGBoost?"
   ]
  },
  {
   "cell_type": "markdown",
   "id": "24c21738",
   "metadata": {
    "papermill": {
     "duration": 0.027784,
     "end_time": "2021-09-17T23:31:25.319979",
     "exception": false,
     "start_time": "2021-09-17T23:31:25.292195",
     "status": "completed"
    },
    "tags": []
   },
   "source": [
    "> The rest of the references to XGBoost algorithms mainly imply the Sklearn-compatible XGBRegressor and XGBClassifier (or similar) estimators.\n",
    "\n",
    "The estimators have the `random_state` parameter (the alternative seed has been deprecated but still works). However, running XGBoost with default parameters will yield identical results even with different seeds."
   ]
  },
  {
   "cell_type": "code",
   "execution_count": 3,
   "id": "caa57b90",
   "metadata": {
    "execution": {
     "iopub.execute_input": "2021-09-17T23:31:25.381073Z",
     "iopub.status.busy": "2021-09-17T23:31:25.380488Z",
     "iopub.status.idle": "2021-09-17T23:31:26.760793Z",
     "shell.execute_reply": "2021-09-17T23:31:26.761583Z",
     "shell.execute_reply.started": "2021-07-26T14:32:26.612081Z"
    },
    "papermill": {
     "duration": 1.41405,
     "end_time": "2021-09-17T23:31:26.761755",
     "exception": false,
     "start_time": "2021-09-17T23:31:25.347705",
     "status": "completed"
    },
    "tags": []
   },
   "outputs": [
    {
     "data": {
      "text/plain": [
       "True"
      ]
     },
     "execution_count": 3,
     "metadata": {},
     "output_type": "execute_result"
    }
   ],
   "source": [
    "reg1 = xgb.XGBRegressor(random_state=1).fit(X_train_p, y_train_p)\n",
    "reg2 = xgb.XGBRegressor(random_state=2).fit(X_train_p, y_train_p)\n",
    "\n",
    "reg1.score(X_test_p, y_test_p) == reg2.score(X_test_p, y_test_p)"
   ]
  },
  {
   "cell_type": "markdown",
   "id": "221b25d2",
   "metadata": {
    "papermill": {
     "duration": 0.029165,
     "end_time": "2021-09-17T23:31:26.821612",
     "exception": false,
     "start_time": "2021-09-17T23:31:26.792447",
     "status": "completed"
    },
    "tags": []
   },
   "source": [
    "This behavior is because XGBoost induces randomness only when `subsample` or any other parameter that starts with `colsample_by*` prefix is used. As the names suggest, these parameters have a lot to do with [random sampling](https://towardsdatascience.com/why-bootstrap-sampling-is-the-badass-tool-of-probabilistic-thinking-5d8c7343fb67?source=your_stories_page-------------------------------------)."
   ]
  },
  {
   "cell_type": "markdown",
   "id": "4578a133",
   "metadata": {
    "papermill": {
     "duration": 0.02835,
     "end_time": "2021-09-17T23:31:26.878187",
     "exception": false,
     "start_time": "2021-09-17T23:31:26.849837",
     "status": "completed"
    },
    "tags": []
   },
   "source": [
    "## 3. What are objectives in XGBoost and how to specify them for different tasks?"
   ]
  },
  {
   "cell_type": "markdown",
   "id": "270c46a0",
   "metadata": {
    "papermill": {
     "duration": 0.027801,
     "end_time": "2021-09-17T23:31:26.934412",
     "exception": false,
     "start_time": "2021-09-17T23:31:26.906611",
     "status": "completed"
    },
    "tags": []
   },
   "source": [
    "Both regression and classification tasks have different types. They change depending on the objective function, the distributions they can work with, and their loss function.\n",
    "\n",
    "You can switch between these implementations with the `objective` parameter. It accepts special code strings provided by XGBoost.\n",
    "\n",
    "Regression objectives have the `reg:` prefix while classification starts either with `binary:` or `multi:`.\n",
    "I will leave it to you to explore the full list of objectives from [this documentation page](https://xgboost.readthedocs.io/en/latest/parameter.html#learning-task-parameters) as there are quite a few.\n",
    "\n",
    "Also, specifying the correct objective and metric gets rid of that unbelievably annoying warning you get when fitting XGB classifiers."
   ]
  },
  {
   "cell_type": "markdown",
   "id": "cf86d0c2",
   "metadata": {
    "papermill": {
     "duration": 0.02783,
     "end_time": "2021-09-17T23:31:26.990403",
     "exception": false,
     "start_time": "2021-09-17T23:31:26.962573",
     "status": "completed"
    },
    "tags": []
   },
   "source": [
    "## 4. Which booster should I use in XGBoost - gblinear, gbtree, dart?"
   ]
  },
  {
   "cell_type": "markdown",
   "id": "f1c69c33",
   "metadata": {
    "papermill": {
     "duration": 0.028114,
     "end_time": "2021-09-17T23:31:27.047257",
     "exception": false,
     "start_time": "2021-09-17T23:31:27.019143",
     "status": "completed"
    },
    "tags": []
   },
   "source": [
    "> XGBoost has 3 types of gradient boosted learners - these are gradient boosted (GB) linear functions, GB trees and DART trees. You can switch the learners using the `booster` parameter.\n",
    "\n",
    "If you ask Kagglers, they will choose boosted trees over linear functions on any day (as do I). The reason is that trees can capture non-linear, complex relationships that linear functions cannot.\n",
    "\n",
    "So, the only question is which tree booster should you pass to the `booster` parameter - `gbtree` or `dart`?\n",
    "\n",
    "I won’t bother you with the full differences here. The thing you should know is that XGBoost uses an ensemble of decision tree-based models when used with gbtree booster.\n",
    "\n",
    "DART trees are an improvement (to be yet validated) where they introduce random dropping of the subset of the decision trees to prevent overfitting.\n",
    "\n",
    "In the few small experiments I did with default parameters for `gbtree` and `dart`, I got slightly better scores with dart when I set the `rate_drop` between 0.1 and 0.3.\n",
    "\n",
    "For more details, I refer you to [this page](https://xgboost.readthedocs.io/en/latest/tutorials/dart.html) of the XGB documentation to learn about the nuances and additional hyperparameters."
   ]
  },
  {
   "cell_type": "markdown",
   "id": "2652937c",
   "metadata": {
    "papermill": {
     "duration": 0.028383,
     "end_time": "2021-09-17T23:31:27.104087",
     "exception": false,
     "start_time": "2021-09-17T23:31:27.075704",
     "status": "completed"
    },
    "tags": []
   },
   "source": [
    "## 5. Which tree method should I use in XGBoost?"
   ]
  },
  {
   "cell_type": "markdown",
   "id": "50525522",
   "metadata": {
    "papermill": {
     "duration": 0.027992,
     "end_time": "2021-09-17T23:31:27.160385",
     "exception": false,
     "start_time": "2021-09-17T23:31:27.132393",
     "status": "completed"
    },
    "tags": []
   },
   "source": [
    "There are 5 types of algorithms that control tree construction. You should pass `hist` to `tree_method` if you are doing distributed training.\n",
    "\n",
    "For other scenarios, the default (and recommended) is `auto` which changes from `exact` for small-to-medium datasets to `approx.` for large datasets."
   ]
  },
  {
   "cell_type": "markdown",
   "id": "6697d803",
   "metadata": {
    "papermill": {
     "duration": 0.028084,
     "end_time": "2021-09-17T23:31:27.216853",
     "exception": false,
     "start_time": "2021-09-17T23:31:27.188769",
     "status": "completed"
    },
    "tags": []
   },
   "source": [
    "## 6. What is a boosting round in XGBoost?"
   ]
  },
  {
   "cell_type": "markdown",
   "id": "7555e2bc",
   "metadata": {
    "papermill": {
     "duration": 0.028233,
     "end_time": "2021-09-17T23:31:27.273657",
     "exception": false,
     "start_time": "2021-09-17T23:31:27.245424",
     "status": "completed"
    },
    "tags": []
   },
   "source": [
    "As we said, XGBoost is an ensemble of gradient boosted decision trees. Each tree in the ensemble is called a base or weak learner. A weak learner is any algorithm that performs slightly better than random guessing.\n",
    "\n",
    "By combining the predictions of multiples of weak learners, XGBoost yields a final, robust prediction (skipping a lot of details now).\n",
    "\n",
    "Each time we fit a tree to the data, it is called a single boosting round.\n",
    "\n",
    "So, to specify the number of trees to be built, pass an integer to `num_boost_round` of the Learning API or to `n_estimators` of the Sklearn API.\n",
    "\n",
    "Typically, too few trees lead to underfitting, and a too large number of trees lead to overfitting. You will normally tune this parameter with hyperparameter optimization."
   ]
  },
  {
   "cell_type": "markdown",
   "id": "0d9b07e0",
   "metadata": {
    "papermill": {
     "duration": 0.028078,
     "end_time": "2021-09-17T23:31:27.330033",
     "exception": false,
     "start_time": "2021-09-17T23:31:27.301955",
     "status": "completed"
    },
    "tags": []
   },
   "source": [
    "## 7. What is `early_stopping_rounds` in XGBoost?"
   ]
  },
  {
   "cell_type": "markdown",
   "id": "ce53e4a1",
   "metadata": {
    "papermill": {
     "duration": 0.028413,
     "end_time": "2021-09-17T23:31:27.386856",
     "exception": false,
     "start_time": "2021-09-17T23:31:27.358443",
     "status": "completed"
    },
    "tags": []
   },
   "source": [
    "From one boosting round to the next, XGBoost builds upon the predictions of the last tree.\n",
    "\n",
    "If the predictions do not improve after a sequence of rounds, it is sensible to stop training even if we are not at a hard stop for `num_boost_round` or `n_estimators`.\n",
    "\n",
    "To achieve this, XGBoost provides `early_stopping_rounds` parameter. For example, setting it to 50 means we stop the training if the predictions have not improved for the last 50 rounds.\n",
    "\n",
    "It is a good practice to set a higher number for `n_estimators` and change early stopping accordingly to achieve better results.\n",
    "\n",
    "Before I show an example of how it is done in code, there are two other XGBoost parameters to discuss."
   ]
  },
  {
   "cell_type": "markdown",
   "id": "d960398b",
   "metadata": {
    "papermill": {
     "duration": 0.028526,
     "end_time": "2021-09-17T23:31:27.443855",
     "exception": false,
     "start_time": "2021-09-17T23:31:27.415329",
     "status": "completed"
    },
    "tags": []
   },
   "source": [
    "## 8. What are `eval_set`s in XGBoost?"
   ]
  },
  {
   "cell_type": "markdown",
   "id": "01c6d055",
   "metadata": {
    "papermill": {
     "duration": 0.028204,
     "end_time": "2021-09-17T23:31:27.500295",
     "exception": false,
     "start_time": "2021-09-17T23:31:27.472091",
     "status": "completed"
    },
    "tags": []
   },
   "source": [
    "Early stopping is only enabled when you pass a set of evaluation data to the `fit` method. These evaluation sets are used to keep track of the ensemble's performance from one round to the next.\n",
    "\n",
    "A tree is trained on the passed training sets at each round, and to see if the score has been improving, it makes predictions on the passed evaluation sets. Here is what it looks like in code:"
   ]
  },
  {
   "cell_type": "code",
   "execution_count": 4,
   "id": "a6d207cf",
   "metadata": {
    "execution": {
     "iopub.execute_input": "2021-09-17T23:31:27.563346Z",
     "iopub.status.busy": "2021-09-17T23:31:27.562730Z",
     "iopub.status.idle": "2021-09-17T23:31:27.624576Z",
     "shell.execute_reply": "2021-09-17T23:31:27.625707Z",
     "shell.execute_reply.started": "2021-07-26T14:32:26.813518Z"
    },
    "papermill": {
     "duration": 0.09725,
     "end_time": "2021-09-17T23:31:27.625880",
     "exception": false,
     "start_time": "2021-09-17T23:31:27.528630",
     "status": "completed"
    },
    "tags": []
   },
   "outputs": [
    {
     "name": "stdout",
     "output_type": "stream",
     "text": [
      "[0]\tvalidation_0-rmse:3072.26099\n",
      "[1]\tvalidation_0-rmse:2166.62012\n",
      "[2]\tvalidation_0-rmse:1536.37512\n",
      "[3]\tvalidation_0-rmse:1099.32336\n",
      "[4]\tvalidation_0-rmse:801.08807\n",
      "[5]\tvalidation_0-rmse:603.52167\n",
      "[6]\tvalidation_0-rmse:479.94824\n",
      "[7]\tvalidation_0-rmse:404.80151\n",
      "[8]\tvalidation_0-rmse:355.74329\n",
      "[9]\tvalidation_0-rmse:329.27765\n",
      "[10]\tvalidation_0-rmse:309.89594\n",
      "[11]\tvalidation_0-rmse:305.84320\n",
      "[12]\tvalidation_0-rmse:295.22681\n",
      "[13]\tvalidation_0-rmse:294.97989\n",
      "[14]\tvalidation_0-rmse:292.48813\n",
      "[15]\tvalidation_0-rmse:292.91577\n",
      "[16]\tvalidation_0-rmse:292.78412\n",
      "[17]\tvalidation_0-rmse:294.15451\n",
      "[18]\tvalidation_0-rmse:295.25330\n"
     ]
    }
   ],
   "source": [
    "reg = xgb.XGBRegressor(objective=\"reg:squarederror\", n_estimators=1000)\n",
    "\n",
    "reg = reg.fit(\n",
    "    X_train_p,\n",
    "    y_train_p,\n",
    "    eval_set=[(X_test_p, y_test_p)],\n",
    "    early_stopping_rounds=5,\n",
    ")"
   ]
  },
  {
   "cell_type": "markdown",
   "id": "c08e7a13",
   "metadata": {
    "papermill": {
     "duration": 0.033381,
     "end_time": "2021-09-17T23:31:27.693954",
     "exception": false,
     "start_time": "2021-09-17T23:31:27.660573",
     "status": "completed"
    },
    "tags": []
   },
   "source": [
    "> Set `verbose` to False to get rid of the log messages."
   ]
  },
  {
   "cell_type": "markdown",
   "id": "0040fdb6",
   "metadata": {
    "papermill": {
     "duration": 0.033461,
     "end_time": "2021-09-17T23:31:27.760833",
     "exception": false,
     "start_time": "2021-09-17T23:31:27.727372",
     "status": "completed"
    },
    "tags": []
   },
   "source": [
    "After the 14th iteration, the score starts decreasing. So the training stops at the 19th iteration because 5 rounds of early stopping is applied.\n",
    "\n",
    "It is also possible to pass multiple evaluation sets to `eval_set` as a tuple, but only the last pair will be used when used alongside early stopping.\n",
    "\n",
    "> Check out [this post](https://machinelearningmastery.com/avoid-overfitting-by-early-stopping-with-xgboost-in-python/) to learn more about early stopping and evaluation sets. "
   ]
  },
  {
   "cell_type": "markdown",
   "id": "3878600a",
   "metadata": {
    "papermill": {
     "duration": 0.033012,
     "end_time": "2021-09-17T23:31:27.827530",
     "exception": false,
     "start_time": "2021-09-17T23:31:27.794518",
     "status": "completed"
    },
    "tags": []
   },
   "source": [
    "## 9. When do evaluation metrics have effect in XGBoost?"
   ]
  },
  {
   "cell_type": "markdown",
   "id": "7c249610",
   "metadata": {
    "papermill": {
     "duration": 0.033727,
     "end_time": "2021-09-17T23:31:27.895152",
     "exception": false,
     "start_time": "2021-09-17T23:31:27.861425",
     "status": "completed"
    },
    "tags": []
   },
   "source": [
    "You can specify various evaluation metrics using the `eval_metric` of the fit method. Passed metrics only affect internally - for example, they are used to assess the quality of the predictions during early stopping.\n",
    "\n",
    "You should change the metric according to the objective you choose. You can find the full list of objectives and their supported metrics on [this page](https://xgboost.readthedocs.io/en/latest/parameter.html#learning-task-parameters) of the documentation. \n",
    "\n",
    "Below is an example of an XGBoost classifier with multi-class log loss and ROC AUC as metrics:"
   ]
  },
  {
   "cell_type": "code",
   "execution_count": 5,
   "id": "ceafa656",
   "metadata": {
    "execution": {
     "iopub.execute_input": "2021-09-17T23:31:27.966812Z",
     "iopub.status.busy": "2021-09-17T23:31:27.966184Z",
     "iopub.status.idle": "2021-09-17T23:31:29.587074Z",
     "shell.execute_reply": "2021-09-17T23:31:29.587832Z",
     "shell.execute_reply.started": "2021-07-26T14:32:26.89337Z"
    },
    "papermill": {
     "duration": 1.659948,
     "end_time": "2021-09-17T23:31:29.587997",
     "exception": false,
     "start_time": "2021-09-17T23:31:27.928049",
     "status": "completed"
    },
    "tags": []
   },
   "outputs": [
    {
     "name": "stdout",
     "output_type": "stream",
     "text": [
      "[0]\tvalidation_0-auc:0.97875\tvalidation_0-mlogloss:0.77632\n",
      "[1]\tvalidation_0-auc:0.97875\tvalidation_0-mlogloss:0.58204\n",
      "[2]\tvalidation_0-auc:0.97875\tvalidation_0-mlogloss:0.45879\n",
      "[3]\tvalidation_0-auc:0.97875\tvalidation_0-mlogloss:0.37651\n",
      "[4]\tvalidation_0-auc:0.97384\tvalidation_0-mlogloss:0.31858\n",
      "[5]\tvalidation_0-auc:0.97384\tvalidation_0-mlogloss:0.27883\n",
      "[6]\tvalidation_0-auc:0.95718\tvalidation_0-mlogloss:0.25332\n",
      "[7]\tvalidation_0-auc:0.95718\tvalidation_0-mlogloss:0.23344\n",
      "[8]\tvalidation_0-auc:0.95718\tvalidation_0-mlogloss:0.22527\n",
      "[9]\tvalidation_0-auc:0.95718\tvalidation_0-mlogloss:0.21470\n",
      "[10]\tvalidation_0-auc:0.98062\tvalidation_0-mlogloss:0.21210\n",
      "[11]\tvalidation_0-auc:0.96699\tvalidation_0-mlogloss:0.20545\n",
      "[12]\tvalidation_0-auc:0.98062\tvalidation_0-mlogloss:0.20394\n",
      "[13]\tvalidation_0-auc:0.98062\tvalidation_0-mlogloss:0.20141\n",
      "[14]\tvalidation_0-auc:0.98062\tvalidation_0-mlogloss:0.19812\n",
      "[15]\tvalidation_0-auc:0.98062\tvalidation_0-mlogloss:0.20025\n",
      "[16]\tvalidation_0-auc:0.98062\tvalidation_0-mlogloss:0.20425\n",
      "[17]\tvalidation_0-auc:0.98062\tvalidation_0-mlogloss:0.20991\n",
      "[18]\tvalidation_0-auc:0.98062\tvalidation_0-mlogloss:0.21326\n",
      "[19]\tvalidation_0-auc:0.98062\tvalidation_0-mlogloss:0.21877\n"
     ]
    }
   ],
   "source": [
    "clf = xgb.XGBClassifier(\n",
    "    objective=\"multi:softprob\", n_estimators=200, use_label_encoder=False\n",
    ")\n",
    "\n",
    "eval_set = [(X_test_i, y_test_i)]\n",
    "\n",
    "_ = clf.fit(\n",
    "    X_train_i,\n",
    "    y_train_i,\n",
    "    eval_set=eval_set,\n",
    "    eval_metric=[\"auc\", \"mlogloss\"],\n",
    "    early_stopping_rounds=5,\n",
    ")"
   ]
  },
  {
   "cell_type": "markdown",
   "id": "f1a667ae",
   "metadata": {
    "papermill": {
     "duration": 0.040652,
     "end_time": "2021-09-17T23:31:29.669296",
     "exception": false,
     "start_time": "2021-09-17T23:31:29.628644",
     "status": "completed"
    },
    "tags": []
   },
   "source": [
    "No matter what metric you pass to `eval_metric`, it only affects the fit function. So, when you call `score()` on the classifier, it will still yield accuracy, which is the default in Sklearn:"
   ]
  },
  {
   "cell_type": "markdown",
   "id": "789c6a8a",
   "metadata": {
    "papermill": {
     "duration": 0.040743,
     "end_time": "2021-09-17T23:31:29.753211",
     "exception": false,
     "start_time": "2021-09-17T23:31:29.712468",
     "status": "completed"
    },
    "tags": []
   },
   "source": [
    "## 10. What is learning rate (eta) in XGBoost?"
   ]
  },
  {
   "cell_type": "markdown",
   "id": "4178c493",
   "metadata": {
    "papermill": {
     "duration": 0.041118,
     "end_time": "2021-09-17T23:31:29.834809",
     "exception": false,
     "start_time": "2021-09-17T23:31:29.793691",
     "status": "completed"
    },
    "tags": []
   },
   "source": [
    "Each time XGBoost adds a new tree to the ensemble, it is used to correct the residual errors of the last group of trees.\n",
    "\n",
    "The problem is that this approach is fast and powerful, making the algorithm quickly learn and overfit the training data. So, XGBoost or any other gradient boosting algorithm has a `learning_rate` parameter that controls the speed of fitting and combats overfitting.\n",
    "\n",
    "Typical values for `learning_rate` range from 0.1 to 0.3, but it is possible to go beyond these, especially towards 0.\n",
    "\n",
    "Whatever value passed to `learning_rate`, it plays as a weighting factor for the corrections made by new trees. So, a lower learning rate means we place less importance on the corrections of the new trees, hence avoiding overfitting.\n",
    "\n",
    "A good practice is to set a low number for `learning_rate` and use early stopping with a larger number of estimators (`n_estimators`):"
   ]
  },
  {
   "cell_type": "code",
   "execution_count": 6,
   "id": "45dd72b2",
   "metadata": {
    "execution": {
     "iopub.execute_input": "2021-09-17T23:31:29.921876Z",
     "iopub.status.busy": "2021-09-17T23:31:29.921297Z",
     "iopub.status.idle": "2021-09-17T23:31:30.061892Z",
     "shell.execute_reply": "2021-09-17T23:31:30.061305Z",
     "shell.execute_reply.started": "2021-07-26T14:32:26.967527Z"
    },
    "papermill": {
     "duration": 0.187953,
     "end_time": "2021-09-17T23:31:30.062029",
     "exception": false,
     "start_time": "2021-09-17T23:31:29.874076",
     "status": "completed"
    },
    "tags": []
   },
   "outputs": [],
   "source": [
    "reg = xgb.XGBRegressor(\n",
    "    objective=\"reg:squaredlogerror\", n_estimators=1000, learning_rate=0.01\n",
    ")\n",
    "\n",
    "eval_set = [(X_test_p, y_test_p)]\n",
    "_ = reg.fit(\n",
    "    X_train_p,\n",
    "    y_train_p,\n",
    "    eval_set=eval_set,\n",
    "    early_stopping_rounds=10,\n",
    "    eval_metric=\"rmsle\",\n",
    "    verbose=False,\n",
    ")"
   ]
  },
  {
   "cell_type": "markdown",
   "id": "017f25fb",
   "metadata": {
    "papermill": {
     "duration": 0.037813,
     "end_time": "2021-09-17T23:31:30.138602",
     "exception": false,
     "start_time": "2021-09-17T23:31:30.100789",
     "status": "completed"
    },
    "tags": []
   },
   "source": [
    "You will immediately see the effect of slow `learning_rate` because early stopping will be applied much later during training (in the above case, after the 430th iteration).\n",
    "\n",
    "However, each dataset is different, so you need to tune this parameter with hyperparameter optimization.\n",
    "\n",
    "> Check out [this post](https://machinelearningmastery.com/tune-learning-rate-for-gradient-boosting-with-xgboost-in-python/) on how to tune learning rate. "
   ]
  },
  {
   "cell_type": "markdown",
   "id": "056f2e19",
   "metadata": {
    "papermill": {
     "duration": 0.037488,
     "end_time": "2021-09-17T23:31:30.214125",
     "exception": false,
     "start_time": "2021-09-17T23:31:30.176637",
     "status": "completed"
    },
    "tags": []
   },
   "source": [
    "## 11. Should you let XGBoost deal with missing values?"
   ]
  },
  {
   "cell_type": "markdown",
   "id": "8e00f448",
   "metadata": {
    "papermill": {
     "duration": 0.037842,
     "end_time": "2021-09-17T23:31:30.290279",
     "exception": false,
     "start_time": "2021-09-17T23:31:30.252437",
     "status": "completed"
    },
    "tags": []
   },
   "source": [
    "For this, I will give the advice I've got from two different Kaggle Competition Grandmasters.\n",
    "\n",
    "1. If you give `np.nan` to tree-based models, then, at each node split, the missing values are either send to the left child or the right child of the node, depending on what's best. So, at each split, missing values get special treatment, which may lead to overfitting. A simple solution that works pretty well with trees is to fill in nulls with a value different than the rest of the samples, like -999.\n",
    "\n",
    "2. Even though packages like XGBoost and LightGBM can treat nulls without preprocessing, it is always a good idea to develop your own imputation strategy.\n",
    "\n",
    "For real-world datasets, you should always investigate the type of missingness (MCAR, MAR, MNAR) and choose an imputation strategy (value-based [mean, median, mode] or model-based [KNN imputers or tree-based imputers]).\n",
    "\n",
    "If you are not familiar with these terms, I got you covered [here](https://towardsdatascience.com/going-beyond-the-simpleimputer-for-missing-data-imputation-dd8ba168d505?source=your_stories_page-------------------------------------)."
   ]
  },
  {
   "cell_type": "markdown",
   "id": "0e8ecb3d",
   "metadata": {
    "papermill": {
     "duration": 0.037636,
     "end_time": "2021-09-17T23:31:30.365764",
     "exception": false,
     "start_time": "2021-09-17T23:31:30.328128",
     "status": "completed"
    },
    "tags": []
   },
   "source": [
    "## 12. What is the best way of doing cross-validation with XGBoost?"
   ]
  },
  {
   "cell_type": "markdown",
   "id": "c1bc967f",
   "metadata": {
    "papermill": {
     "duration": 0.038095,
     "end_time": "2021-09-17T23:31:30.441758",
     "exception": false,
     "start_time": "2021-09-17T23:31:30.403663",
     "status": "completed"
    },
    "tags": []
   },
   "source": [
    "Even though XGBoost comes with built-in CV support, always go for the Sklearn CV splitters.\n",
    "\n",
    "When I say Sklearn, I don't mean the basic utility functions like `cross_val_score` or `cross_validate`.\n",
    "No one cross-validates that way in 2021 (well, at least not on Kaggle).\n",
    "\n",
    "The method that gives more flexibility and control over the CV process is to use the `.split` function of Sklearn CV splitters and implement your own CV logic inside a `for` loop.\n",
    "\n",
    "Here is what a 5-fold CV looks like in code:"
   ]
  },
  {
   "cell_type": "code",
   "execution_count": 7,
   "id": "b09b9154",
   "metadata": {
    "execution": {
     "iopub.execute_input": "2021-09-17T23:31:30.527574Z",
     "iopub.status.busy": "2021-09-17T23:31:30.526750Z",
     "iopub.status.idle": "2021-09-17T23:31:31.124962Z",
     "shell.execute_reply": "2021-09-17T23:31:31.125943Z",
     "shell.execute_reply.started": "2021-07-26T14:32:27.139166Z"
    },
    "papermill": {
     "duration": 0.646746,
     "end_time": "2021-09-17T23:31:31.126249",
     "exception": false,
     "start_time": "2021-09-17T23:31:30.479503",
     "status": "completed"
    },
    "tags": []
   },
   "outputs": [
    {
     "name": "stdout",
     "output_type": "stream",
     "text": [
      "Started fold 0...\n",
      "RMSLE of fold 0: 0.0740\n",
      "\n",
      "Started fold 1...\n",
      "RMSLE of fold 1: 0.0713\n",
      "\n",
      "Started fold 2...\n",
      "RMSLE of fold 2: 0.0793\n",
      "\n",
      "Started fold 3...\n",
      "RMSLE of fold 3: 0.0866\n",
      "\n",
      "Started fold 4...\n",
      "RMSLE of fold 4: 0.0777\n",
      "\n",
      "Overall RMSLE: 0.0778\n"
     ]
    }
   ],
   "source": [
    "from sklearn.metrics import mean_squared_log_error\n",
    "from sklearn.model_selection import KFold\n",
    "\n",
    "cv = KFold(\n",
    "    n_splits=5,\n",
    "    shuffle=True,\n",
    "    random_state=1121218,\n",
    ")\n",
    "\n",
    "fold = 0\n",
    "scores = np.empty(5)\n",
    "for train_idx, test_idx in cv.split(p_input, p_target):\n",
    "    print(f\"Started fold {fold}...\")\n",
    "    # Create the training sets from training indices\n",
    "    X_cv_train, y_cv_train = p_input.iloc[train_idx], p_target.iloc[train_idx]\n",
    "    # Create the test sets from test indices\n",
    "    X_cv_test, y_cv_test = p_input.iloc[test_idx], p_target.iloc[test_idx]\n",
    "    # Init/fit XGB\n",
    "    model = xgb.XGBRegressor(\n",
    "        objective=\"reg:squarederror\", n_estimators=10000, learning_rate=0.05\n",
    "    )\n",
    "    model.fit(\n",
    "        X_cv_train,\n",
    "        y_cv_train,\n",
    "        eval_set=[(X_cv_test, y_cv_test)],\n",
    "        early_stopping_rounds=50,\n",
    "        verbose=False,\n",
    "    )\n",
    "    # Generate preds, evaluate\n",
    "    preds = model.predict(X_cv_test)\n",
    "    rmsle = np.sqrt(mean_squared_log_error(y_cv_test, preds))\n",
    "    print(\"RMSLE of fold {}: {:.4f}\\n\".format(fold, rmsle))\n",
    "    scores[fold] = rmsle\n",
    "    fold += 1\n",
    "\n",
    "print(\"Overall RMSLE: {:.4f}\".format(np.mean(scores)))"
   ]
  },
  {
   "cell_type": "markdown",
   "id": "088c9220",
   "metadata": {
    "papermill": {
     "duration": 0.03954,
     "end_time": "2021-09-17T23:31:31.209629",
     "exception": false,
     "start_time": "2021-09-17T23:31:31.170089",
     "status": "completed"
    },
    "tags": []
   },
   "source": [
    "Doing CV inside a `for` loop enables you to use evaluation sets and early stopping, while simple functions like `cross_val_score` does not."
   ]
  },
  {
   "cell_type": "markdown",
   "id": "f35448ad",
   "metadata": {
    "papermill": {
     "duration": 0.039147,
     "end_time": "2021-09-17T23:31:31.288425",
     "exception": false,
     "start_time": "2021-09-17T23:31:31.249278",
     "status": "completed"
    },
    "tags": []
   },
   "source": [
    "## 13. How to use XGBoost in [Sklearn Pipelines](https://towardsdatascience.com/how-to-use-sklearn-pipelines-for-ridiculously-neat-code-a61ab66ca90d)?"
   ]
  },
  {
   "cell_type": "markdown",
   "id": "2a7fafd8",
   "metadata": {
    "papermill": {
     "duration": 0.04027,
     "end_time": "2021-09-17T23:31:31.368517",
     "exception": false,
     "start_time": "2021-09-17T23:31:31.328247",
     "status": "completed"
    },
    "tags": []
   },
   "source": [
    "If you use the Sklearn API, you can include XGBoost estimators as the last step to the pipeline (just like other Sklearn classes):"
   ]
  },
  {
   "cell_type": "code",
   "execution_count": 8,
   "id": "10a2e530",
   "metadata": {
    "execution": {
     "iopub.execute_input": "2021-09-17T23:31:31.452309Z",
     "iopub.status.busy": "2021-09-17T23:31:31.451781Z",
     "iopub.status.idle": "2021-09-17T23:31:31.456529Z",
     "shell.execute_reply": "2021-09-17T23:31:31.456970Z",
     "shell.execute_reply.started": "2021-07-26T14:32:27.850973Z"
    },
    "papermill": {
     "duration": 0.048816,
     "end_time": "2021-09-17T23:31:31.457099",
     "exception": false,
     "start_time": "2021-09-17T23:31:31.408283",
     "status": "completed"
    },
    "tags": []
   },
   "outputs": [],
   "source": [
    "from sklearn.pipeline import Pipeline\n",
    "from sklearn.preprocessing import StandardScaler\n",
    "\n",
    "# Make a simple pipeline\n",
    "xgb_pipe = Pipeline(\n",
    "    steps=[\n",
    "        (\"scale\", StandardScaler()),\n",
    "        (\"clf\", xgb.XGBClassifier(objective=\"multi:softmax\", use_label_encoder=False)),\n",
    "    ]\n",
    ")"
   ]
  },
  {
   "cell_type": "markdown",
   "id": "8580befc",
   "metadata": {
    "papermill": {
     "duration": 0.039029,
     "end_time": "2021-09-17T23:31:31.535060",
     "exception": false,
     "start_time": "2021-09-17T23:31:31.496031",
     "status": "completed"
    },
    "tags": []
   },
   "source": [
    "If you want to use `fit` parameters of XGBoost within pipelines, you can easily pass them to the pipeline's `fit` method. The only difference is that you should use the `stepname__parameter` syntax:"
   ]
  },
  {
   "cell_type": "code",
   "execution_count": 9,
   "id": "c5a1bb8e",
   "metadata": {
    "execution": {
     "iopub.execute_input": "2021-09-17T23:31:31.619281Z",
     "iopub.status.busy": "2021-09-17T23:31:31.618683Z",
     "iopub.status.idle": "2021-09-17T23:31:31.631969Z",
     "shell.execute_reply": "2021-09-17T23:31:31.632788Z",
     "shell.execute_reply.started": "2021-07-26T14:32:27.862903Z"
    },
    "papermill": {
     "duration": 0.058583,
     "end_time": "2021-09-17T23:31:31.632956",
     "exception": false,
     "start_time": "2021-09-17T23:31:31.574373",
     "status": "completed"
    },
    "tags": []
   },
   "outputs": [],
   "source": [
    "_ = xgb_pipe.fit(\n",
    "    X_train_i.values,\n",
    "    y_train_i,  # Make sure to pass the rest after the data\n",
    "    clf__eval_set=[(X_test_i.values, y_test_i)],\n",
    "    clf__eval_metric=\"mlogloss\",\n",
    "    clf__verbose=False,\n",
    "    clf__early_stopping_rounds=10,\n",
    ")"
   ]
  },
  {
   "cell_type": "markdown",
   "id": "9be1d281",
   "metadata": {
    "papermill": {
     "duration": 0.039873,
     "end_time": "2021-09-17T23:31:31.714730",
     "exception": false,
     "start_time": "2021-09-17T23:31:31.674857",
     "status": "completed"
    },
    "tags": []
   },
   "source": [
    "Since we named the XGBoost step as `clf` in the pipeline, every fit parameter should be prefixed with `clf__` for the pipeline to work properly.\n",
    "\n",
    "> Also, since `StandardScaler` removes the column names of the Pandas DataFrames, XGBoost kept throwing errors because of the mismatch between `eval_set`s and the training data. So, I used `.values` on both sets to avoid that."
   ]
  },
  {
   "cell_type": "markdown",
   "id": "9f3c09ea",
   "metadata": {
    "papermill": {
     "duration": 0.038769,
     "end_time": "2021-09-17T23:31:31.792999",
     "exception": false,
     "start_time": "2021-09-17T23:31:31.754230",
     "status": "completed"
    },
    "tags": []
   },
   "source": [
    "## 14. How to improve the default score significantly?"
   ]
  },
  {
   "cell_type": "markdown",
   "id": "e6948136",
   "metadata": {
    "papermill": {
     "duration": 0.038638,
     "end_time": "2021-09-17T23:31:31.872494",
     "exception": false,
     "start_time": "2021-09-17T23:31:31.833856",
     "status": "completed"
    },
    "tags": []
   },
   "source": [
    "After establishing a base performance with default XGBoost settings, what can you do to boost the score significantly?\n",
    "\n",
    "Many hastily move on to hyperparameter tuning, but it does not always give that huge jump in the score you want. Often, the improvements from parameter optimization can be marginal.\n",
    "\n",
    "In practice, any substantial score increase mostly comes from proper feature engineering and using techniques like model blending or stacking.\n",
    "\n",
    "You should spend most of your time feature engineering- effective FE comes from doing proper EDA and having a deep understanding of the dataset. Especially, creating domain-specific features might do wonders to the performance.\n",
    "\n",
    "Then, try combining multiple models as part of an ensemble. What tends to work reasonably well on Kaggle is to stack the big three - XGBoost, CatBoost, and LightGBM."
   ]
  },
  {
   "cell_type": "markdown",
   "id": "f94d7393",
   "metadata": {
    "papermill": {
     "duration": 0.038576,
     "end_time": "2021-09-17T23:31:31.950262",
     "exception": false,
     "start_time": "2021-09-17T23:31:31.911686",
     "status": "completed"
    },
    "tags": []
   },
   "source": [
    "## 15. What are the most important hyperparameters in XGBoost?"
   ]
  },
  {
   "cell_type": "markdown",
   "id": "e034e2ed",
   "metadata": {
    "papermill": {
     "duration": 0.039215,
     "end_time": "2021-09-17T23:31:32.028485",
     "exception": false,
     "start_time": "2021-09-17T23:31:31.989270",
     "status": "completed"
    },
    "tags": []
   },
   "source": [
    "Hyperparameter tuning should always be the last step in your project workflow.\n",
    "\n",
    "If you are short on time, you should prioritize to tune XGBoost's hyperparameters that control overfitting. These are:\n",
    "- `n_estimators`: the number of trees to train\n",
    "- `learning_rate`: step shrinkage or `eta`, used to prevent overfitting\n",
    "- `max_depth`: the depth of each tree\n",
    "- `gamma`: complexity control - pseudo-regularization parameter\n",
    "- `min_child_weight`: another parameter to control tree depth\n",
    "- `reg_alpha`: L1 regularization term (as in LASSO regression)\n",
    "- `reg_lambda`: L2 regularization term (as in Ridge regression)"
   ]
  },
  {
   "cell_type": "markdown",
   "id": "ac3f5a4a",
   "metadata": {
    "papermill": {
     "duration": 0.038807,
     "end_time": "2021-09-17T23:31:32.106746",
     "exception": false,
     "start_time": "2021-09-17T23:31:32.067939",
     "status": "completed"
    },
    "tags": []
   },
   "source": [
    "## 16. How to tune max_depth in XGBoost?"
   ]
  },
  {
   "cell_type": "markdown",
   "id": "96b951fb",
   "metadata": {
    "papermill": {
     "duration": 0.038545,
     "end_time": "2021-09-17T23:31:32.183971",
     "exception": false,
     "start_time": "2021-09-17T23:31:32.145426",
     "status": "completed"
    },
    "tags": []
   },
   "source": [
    "`max_depth` is the longest length between the root node of the tree and the leaf node. It is one of the most important parameters to control overfitting.\n",
    "\n",
    "The typical values range is 3–10, but it rarely needs to be higher than 5–7. Also, using deeper trees make XGBoost extremely memory-consuming."
   ]
  },
  {
   "cell_type": "markdown",
   "id": "1ce35066",
   "metadata": {
    "papermill": {
     "duration": 0.038649,
     "end_time": "2021-09-17T23:31:32.261511",
     "exception": false,
     "start_time": "2021-09-17T23:31:32.222862",
     "status": "completed"
    },
    "tags": []
   },
   "source": [
    "## 17. How to tune min_child_weight in XGBoost?"
   ]
  },
  {
   "cell_type": "markdown",
   "id": "36c81619",
   "metadata": {
    "papermill": {
     "duration": 0.038806,
     "end_time": "2021-09-17T23:31:32.339641",
     "exception": false,
     "start_time": "2021-09-17T23:31:32.300835",
     "status": "completed"
    },
    "tags": []
   },
   "source": [
    "`min_child_weight` controls the sum of weights of all samples in the data when creating a new node. When this value is small, each node will group a smaller and smaller number of samples in each node.\n",
    "\n",
    "If it is small enough, the trees will be highly likely to overfit the peculiarities in the training data. So, set a high value for this parameter to avoid overfitting.\n",
    "\n",
    "The default value is 1, and its value is only limited to the number of rows in the training data. However, a good range to try for tuning is 2–10 or up to 20."
   ]
  },
  {
   "cell_type": "markdown",
   "id": "59def6f5",
   "metadata": {
    "papermill": {
     "duration": 0.038535,
     "end_time": "2021-09-17T23:31:32.416733",
     "exception": false,
     "start_time": "2021-09-17T23:31:32.378198",
     "status": "completed"
    },
    "tags": []
   },
   "source": [
    "## 18. How to tune gamma in XGBoost?"
   ]
  },
  {
   "cell_type": "markdown",
   "id": "00b25a5e",
   "metadata": {
    "papermill": {
     "duration": 0.038601,
     "end_time": "2021-09-17T23:31:32.494246",
     "exception": false,
     "start_time": "2021-09-17T23:31:32.455645",
     "status": "completed"
    },
    "tags": []
   },
   "source": [
    "A more challenging parameter is `gamma`, and for laypeople like me, you can think of it as the complexity control of the model. The higher the gamma, the more regularization is applied.\n",
    "\n",
    "It can range from 0 to infinity - so, tuning it can be tough. Also, it is highly dependent on the dataset and other hyperparameters. This means there can be multiple optimal gammas for a single model.\n",
    "\n",
    "Most often, you can find the best gamma within 0–20."
   ]
  },
  {
   "cell_type": "markdown",
   "id": "165dffbb",
   "metadata": {
    "papermill": {
     "duration": 0.040344,
     "end_time": "2021-09-17T23:31:32.579967",
     "exception": false,
     "start_time": "2021-09-17T23:31:32.539623",
     "status": "completed"
    },
    "tags": []
   },
   "source": [
    "## 19. How to tune reg_alpha and reg_lambda in XGBoost?"
   ]
  },
  {
   "cell_type": "markdown",
   "id": "4fa76a49",
   "metadata": {
    "papermill": {
     "duration": 0.038663,
     "end_time": "2021-09-17T23:31:32.657906",
     "exception": false,
     "start_time": "2021-09-17T23:31:32.619243",
     "status": "completed"
    },
    "tags": []
   },
   "source": [
    "These parameters refer to regularization strength on feature weights. In other words, increasing them will make the algorithm more conservative by placing less importance on features with low coefficients (or weights).\n",
    "\n",
    "`reg_alpha` refers to L1 regularization of Lasso regression and `reg_lambda` for Ridge regression.\n",
    "Tuning them can be a real challenge since their values can also range from 0 to infinity.\n",
    "\n",
    "First, choose a wide interval such as [1e5, 1e2, 0.01, 10, 100]. Then, depending on the optimum value returned from this range, choose a few other nearby values."
   ]
  },
  {
   "cell_type": "markdown",
   "id": "702be9a8",
   "metadata": {
    "papermill": {
     "duration": 0.039352,
     "end_time": "2021-09-17T23:31:32.736007",
     "exception": false,
     "start_time": "2021-09-17T23:31:32.696655",
     "status": "completed"
    },
    "tags": []
   },
   "source": [
    "## 20. How to tune random sampling hyperparameters in XGBoost?"
   ]
  },
  {
   "cell_type": "markdown",
   "id": "901347b8",
   "metadata": {
    "papermill": {
     "duration": 0.038428,
     "end_time": "2021-09-17T23:31:32.813220",
     "exception": false,
     "start_time": "2021-09-17T23:31:32.774792",
     "status": "completed"
    },
    "tags": []
   },
   "source": [
    "After the above 6 parameters, it is highly recommended to tune those that control random sampling. Indeed, random sampling is another method applied in algorithms to further prevent overfitting.\n",
    "\n",
    "- `subsample`: recommended values [0.5 - 0.9]. The proportion of all training samples to be randomly sampled (without replacement) for each boosting round.\n",
    "- `colsample_by*`: parameters that start with this prefix refers to the proportion of columns to be randomly selected for\n",
    "  - `colsample_bytree`: each boosting round\n",
    "  - `colsample_bylevel`: each depth level achieved in a tree\n",
    "  - `colsample_bynode`: each node created or in each split\n",
    "\n",
    "Like `subsample`, the recommended range is [0.5 - 0.9]."
   ]
  },
  {
   "cell_type": "markdown",
   "id": "b3c1cf98",
   "metadata": {
    "papermill": {
     "duration": 0.039297,
     "end_time": "2021-09-17T23:31:32.892417",
     "exception": false,
     "start_time": "2021-09-17T23:31:32.853120",
     "status": "completed"
    },
    "tags": []
   },
   "source": [
    "## Summary"
   ]
  },
  {
   "cell_type": "markdown",
   "id": "02561900",
   "metadata": {
    "papermill": {
     "duration": 0.038962,
     "end_time": "2021-09-17T23:31:32.970412",
     "exception": false,
     "start_time": "2021-09-17T23:31:32.931450",
     "status": "completed"
    },
    "tags": []
   },
   "source": [
    "Finally, this painfully long but hopefully useful article has come to an end.\n",
    "\n",
    "We have covered a lot - how to choose the right API, correct objective and metrics for the task, most important parameters of the fit and some valuable XGBoost best practices collected from constantly updated sources such as Kaggle.\n",
    "\n",
    "If you have further questions on XGBoost, post them in the comments. I will try to answer faster than dudes on StackExchange sites (a favor not received while writing this article😉)."
   ]
  }
 ],
 "metadata": {
  "kernelspec": {
   "display_name": "Python 3",
   "language": "python",
   "name": "python3"
  },
  "language_info": {
   "codemirror_mode": {
    "name": "ipython",
    "version": 3
   },
   "file_extension": ".py",
   "mimetype": "text/x-python",
   "name": "python",
   "nbconvert_exporter": "python",
   "pygments_lexer": "ipython3",
   "version": "3.7.10"
  },
  "papermill": {
   "default_parameters": {},
   "duration": 19.667509,
   "end_time": "2021-09-17T23:31:34.704868",
   "environment_variables": {},
   "exception": null,
   "input_path": "__notebook__.ipynb",
   "output_path": "__notebook__.ipynb",
   "parameters": {},
   "start_time": "2021-09-17T23:31:15.037359",
   "version": "2.3.3"
  }
 },
 "nbformat": 4,
 "nbformat_minor": 5
}
