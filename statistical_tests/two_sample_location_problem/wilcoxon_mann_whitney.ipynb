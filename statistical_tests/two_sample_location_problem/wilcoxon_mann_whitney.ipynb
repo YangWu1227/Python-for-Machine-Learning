{
 "cells": [
  {
   "cell_type": "markdown",
   "metadata": {},
   "source": [
    "## References\n",
    "\n",
    "H.B. Mann and D.R. Whitney, “On a test of whether one of two random variables is stochastically larger than the other”, The Annals of Mathematical Statistics, Vol. 18, pp. 50-60, 1947."
   ]
  },
  {
   "cell_type": "markdown",
   "metadata": {},
   "source": [
    "## Assumptions\n",
    "\n",
    "We obtain $N=m+n$ observations $X_1, \\ldots, X_m$ and $Y_1, \\ldots, Y_n$.\n",
    "\n",
    "\n",
    "* A1. The observations $X_1, \\ldots, X_m$ are a random sample from population 1 ; that is, the $X$ 's are independent and identically distributed. The observations $Y_1, \\ldots, Y_n$ are a random sample from population 2 ; that is, the $Y$ 's are independent and identically distributed.\n",
    "\n",
    "* A2. The $X$ 's and $Y$ 's are mutually independent. Thus, in addition to assumptions of independence within each sample, we also assume independence between the two samples.\n",
    "\n",
    "* A3. Populations 1 and 2 are continuous populations."
   ]
  },
  {
   "cell_type": "markdown",
   "metadata": {},
   "source": [
    "## Hypothesis\n",
    "\n",
    "### Null Hypothesis\n",
    "\n",
    "Let $F$ be the distribution function corresponding to population 1 and let $G$ be the distribution function corresponding to population 2.\n",
    "\n",
    "The null hypothesis $H_0$ is that the two populations are identical, that is:\n",
    "\n",
    "$$\n",
    "\\begin{align*}\n",
    "H_0: F(t) = G(t) \\quad \\text{for all } t.\n",
    "\\end{align*}\n",
    "$$\n",
    "\n",
    "Note that although the null hypothesis asserts that $X$ and $Y$ have the same CDF, the common CDF is not specified.\n",
    "\n",
    "### Alternative Hypothesis\n",
    "\n",
    "The alternative hypothesis in a two-sample location problem typically states that $Y$ is generally larger (or smaller) than $X$. One useful model for this is the **translation model**, also called the **location-shift model**:\n",
    "\n",
    "$$\n",
    "G(t) = F(t - \\Delta), \\quad \\text{for all } t\n",
    "$$\n",
    "\n",
    "This means population 2 is identical to population 1, but shifted by an amount $\\Delta$. Another way to express this is:\n",
    "\n",
    "$$\n",
    "Y \\stackrel{d}{=} X + \\Delta\n",
    "$$\n",
    "\n",
    "where $\\stackrel{d}{=}$ indicates \"has the same distribution as.\" The parameter $\\Delta$ is the **location shift** or **treatment effect**. If $X$ is from population 1 (control) and $Y$ is from population 2 (treatment), then $\\Delta$ represents the **expected effect of the treatment**. If the mean $E(X)$ of population 1 exists, and $E(Y)$ is the mean of population 2, then:\n",
    "\n",
    "$$\n",
    "\\Delta = E(Y) - E(X)\n",
    "$$\n",
    "\n",
    "is the difference in population means. Under the location-shift model, the null hypothesis $H_0$ becomes:\n",
    "\n",
    "$$\n",
    "H_0: \\Delta = 0\n",
    "$$\n",
    "\n",
    "which asserts that the population means are equal, implying no treatment effect."
   ]
  },
  {
   "cell_type": "markdown",
   "metadata": {},
   "source": [
    "## Mann-Whitney Statistic\n",
    "\n",
    "The Mann-Whitney statistic is defined as:\n",
    "\n",
    "$$\n",
    "\\begin{align*}\n",
    "U=\\sum_{i=1}^m \\sum_{j=1}^n \\phi\\left(X_i, Y_j\\right)\n",
    "\\end{align*}\n",
    "$$\n",
    "\n",
    "where\n",
    "\n",
    "$$\n",
    "\\begin{align*}\n",
    "\\phi\\left(X_i, Y_j\\right)= \\begin{cases}1 & \\text { if } X_i<Y_j \\\\ 0 & \\text { otherwise. }\\end{cases}\n",
    "\\end{align*}\n",
    "$$\n",
    "\n",
    "The generalization of the Mann-Whitney statistic to the case of tied observations is:\n",
    "\n",
    "$$\n",
    "\\begin{align*}\n",
    "U=\\sum_{i=1}^m \\sum_{j=1}^n \\phi^*\\left(X_i, Y_j\\right)\n",
    "\\end{align*}\n",
    "$$\n",
    "\n",
    "where\n",
    "\n",
    "$$\n",
    "\\begin{align*}\n",
    "\\phi^*\\left(X_i, Y_j\\right)= \\begin{cases}1, & \\text { if } X_i<Y_j \\\\ \\frac{1}{2}, & \\text { if } X_i=Y_j \\\\ 0, & \\text { if } X_i>Y_j\\end{cases}\n",
    "\\end{align*}\n",
    "$$\n",
    "\n",
    "### Null Distribution\n",
    "\n",
    "Some textbooks and some software find it more convenient to use $U^\\prime$ instead of $U$ as the test statistic. The two statistics are related by\n",
    "\n",
    "$$\n",
    "\\begin{align*}\n",
    "U^{\\prime}=U- mn\n",
    "\\end{align*}\n",
    "$$\n",
    "\n",
    "The possible values of $U$ and $U^{\\prime}$ are $0,1, \\ldots$, $m n$. Furthermore, when $H_0$ is true, the mean and variance of $U$ and $U^{\\prime}$ are, respectively,\n",
    "\n",
    "$$\n",
    "\\begin{align*}\n",
    "E_0(U) & =E_0\\left(U^{\\prime}\\right)=\\frac{mn}{2} \\\\\n",
    "\\operatorname{Var}_0(U) & =\\operatorname{Var}_0\\left(U^{\\prime}\\right)=\\frac{m n(m+n+1)}{12}\n",
    "\\end{align*}\n",
    "$$\n",
    "\n",
    "\n",
    "The null distributions of $U$ and $U^{\\prime}$ are symmetric about the mean $\\frac{mn}{2}$."
   ]
  },
  {
   "cell_type": "markdown",
   "metadata": {},
   "source": [
    "### Alternative Hypotheses\n",
    "\n",
    "Let $F(t)$ and $G(t)$ be the cumulative distribution functions (CDFs) of the distributions underlying $X$ and $Y$, respectively. The alternative hypotheses for the Mann-Whitney U test are defined as follows:\n",
    "\n",
    "#### 1. **Two-Sided Alternative (‘two-sided’)**:\n",
    "\n",
    "   - $F(t) \\neq G(t)$ for at least one $t$.  \n",
    "\n",
    "   - **Interpretation**: The distributions underlying $X$ and $Y$ are not equal.\n",
    "\n",
    "#### 2. **Lower Tail Alternative (‘less’)**:\n",
    "\n",
    "   - $F(t) > G(t)$ for all $t$.  \n",
    "\n",
    "   - **Interpretation**: The distribution underlying $X$ is stochastically **less than** that of $Y$. In other words, $X$ tends to take on smaller values compared to $Y$. This is because the probability that $X$ is less than or equal to any given $t$ is greater than the probability that $Y$ is less than or equal to $t$.\n",
    "\n",
    "#### 3. **Upper Tail Alternative (‘greater’)**:\n",
    "\n",
    "   - $F(t) < G(t)$ for all $t$.  \n",
    "   \n",
    "   - **Interpretation**: The distribution underlying $X$ is stochastically greater than that of $Y$. This implies that $X$ tends to take on larger values compared to $Y$, as the probability of $X$ being less than or equal to any given $t$ is smaller than that of $Y$.\n",
    "\n",
    "These hypotheses describe the relationship between the CDFs. Even though the direction of the inequalities might seem counterintuitive, they correctly indicate that if $F(t) > G(t)$, samples drawn from $X$ tends to be less than those drawn from $Y$. Similarly, if $F(t) < G(t)$, sampples drawn from $X$ tends to be greater than those drawn from $Y$.\n"
   ]
  },
  {
   "cell_type": "markdown",
   "metadata": {},
   "source": [
    "## Cases "
   ]
  },
  {
   "cell_type": "code",
   "execution_count": 22,
   "metadata": {},
   "outputs": [],
   "source": [
    "from scipy.stats import mannwhitneyu, PermutationMethod\n",
    "import numpy as np\n",
    "from scipy.stats import norm\n",
    "import random"
   ]
  },
  {
   "cell_type": "markdown",
   "metadata": {},
   "source": [
    "\n",
    "\n",
    "### No Ties & Either Sample Size is Small (< 8)\n",
    "\n",
    "The `exact` method computes the exact p-value by comparing the observed $U$ statistic to the exact distribution of the $U$ statistic under the null hypothesis; no correction is made for ties."
   ]
  },
  {
   "cell_type": "code",
   "execution_count": 34,
   "metadata": {},
   "outputs": [
    {
     "data": {
      "text/plain": [
       "(array([ 4.90604786,  7.1535022 ,  9.0975125 ,  3.64767472,  6.73705288,\n",
       "        12.11357852,  9.43230283]),\n",
       " array([ 6.91743252,  9.35244026, 10.81840993, 13.30595309, 10.61167553,\n",
       "        10.27983169, 10.44614491, 11.31749122, 18.49084223, 11.56369562,\n",
       "        10.8920939 , 10.76189071]))"
      ]
     },
     "execution_count": 34,
     "metadata": {},
     "output_type": "execute_result"
    }
   ],
   "source": [
    "# Generate random n and m\n",
    "n = random.randint(3, 8)\n",
    "m = random.randint(8, 12)\n",
    "\n",
    "# Define the mean and standard deviation for the normal distribution\n",
    "mean = 10\n",
    "std_dev = 3\n",
    "\n",
    "# Generate data for x and y from the same normal distribution\n",
    "x = norm.rvs(loc=mean, scale=std_dev, size=n)\n",
    "y = norm.rvs(loc=mean, scale=std_dev, size=m)\n",
    "\n",
    "x, y"
   ]
  },
  {
   "cell_type": "code",
   "execution_count": 35,
   "metadata": {},
   "outputs": [
    {
     "data": {
      "text/plain": [
       "MannwhitneyuResult(statistic=np.float64(14.0), pvalue=np.float64(0.01706755576724617))"
      ]
     },
     "execution_count": 35,
     "metadata": {},
     "output_type": "execute_result"
    }
   ],
   "source": [
    "mannwhitneyu(x, y, alternative='two-sided', method=\"exact\")"
   ]
  },
  {
   "cell_type": "markdown",
   "metadata": {},
   "source": [
    "### Ties Present & Either Sample Size is Small (< 8)\n",
    "\n",
    "The `permutation` method conducts the permutation version of the test:\n",
    "\n",
    "**Note**: The variance of the samples are assumed to be equal."
   ]
  },
  {
   "cell_type": "code",
   "execution_count": 65,
   "metadata": {},
   "outputs": [
    {
     "data": {
      "text/plain": [
       "(array([11.69749582, 11.78467761,  9.35781118, 13.36375481, 11.1938952 ,\n",
       "        13.34797627]),\n",
       " array([21.25842092, 16.48838726, 12.10239594, 12.85302506, 11.50726303,\n",
       "        13.41354991, 14.88162135, 12.22757211, 13.11881165, 17.89117204]))"
      ]
     },
     "execution_count": 65,
     "metadata": {},
     "output_type": "execute_result"
    }
   ],
   "source": [
    "# Generate random n and m\n",
    "n = random.randint(3, 7)\n",
    "m = random.randint(8, 12)\n",
    "\n",
    "delta = 5\n",
    "\n",
    "x = norm.rvs(loc=mean, scale=std_dev, size=n)\n",
    "y = norm.rvs(loc=mean + delta, scale=std_dev, size=m)\n",
    "\n",
    "x, y"
   ]
  },
  {
   "cell_type": "code",
   "execution_count": 71,
   "metadata": {},
   "outputs": [
    {
     "data": {
      "text/plain": [
       "MannwhitneyuResult(statistic=np.float64(12.0), pvalue=np.float64(0.027972027972027972))"
      ]
     },
     "execution_count": 71,
     "metadata": {},
     "output_type": "execute_result"
    }
   ],
   "source": [
    "rs = np.random.RandomState(12345)\n",
    "res_wrt_x = mannwhitneyu(x, y, alternative='less', method=PermutationMethod(n_resamples=9999, random_state=rs))\n",
    "res_wrt_x"
   ]
  },
  {
   "cell_type": "markdown",
   "metadata": {},
   "source": [
    "The test statistic in the output is the Mann-Whitney U statistic with respect to the first sample $X$ with the following hypothesese:\n",
    "\n",
    "- $H_0$: The distribution of $X$ is the same as or greater than the distribution of $Y$.\n",
    "\n",
    "- $H_1$: The distribution of $X$ is less than the distribution of $Y$.\n",
    "\n",
    "To obtain the test statistic with respect to the second sample $Y$:\n",
    "\n",
    "$$\n",
    "\\begin{align*}\n",
    "U_{Y} = m \\times n - U_{X}\n",
    "\\end{align*}\n",
    "$$\n",
    "\n",
    "where $U_{X}$ is the Mann-Whitney U statistic with respect to the first sample $X$."
   ]
  },
  {
   "cell_type": "code",
   "execution_count": 73,
   "metadata": {},
   "outputs": [
    {
     "data": {
      "text/plain": [
       "np.float64(48.0)"
      ]
     },
     "execution_count": 73,
     "metadata": {},
     "output_type": "execute_result"
    }
   ],
   "source": [
    "x.shape[0] * y.shape[0] - res_wrt_x.statistic"
   ]
  },
  {
   "cell_type": "code",
   "execution_count": 74,
   "metadata": {},
   "outputs": [
    {
     "data": {
      "text/plain": [
       "MannwhitneyuResult(statistic=np.float64(48.0), pvalue=np.float64(0.027972027972027972))"
      ]
     },
     "execution_count": 74,
     "metadata": {},
     "output_type": "execute_result"
    }
   ],
   "source": [
    "mannwhitneyu(y, x, alternative='greater', method=PermutationMethod(n_resamples=9999, random_state=rs))"
   ]
  }
 ],
 "metadata": {
  "kernelspec": {
   "display_name": "python_for_machine_learning",
   "language": "python",
   "name": "python3"
  },
  "language_info": {
   "codemirror_mode": {
    "name": "ipython",
    "version": 3
   },
   "file_extension": ".py",
   "mimetype": "text/x-python",
   "name": "python",
   "nbconvert_exporter": "python",
   "pygments_lexer": "ipython3",
   "version": "3.11.9"
  }
 },
 "nbformat": 4,
 "nbformat_minor": 2
}
