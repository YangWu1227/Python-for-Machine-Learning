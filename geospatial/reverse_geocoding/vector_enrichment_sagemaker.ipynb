{
 "cells": [
  {
   "attachments": {},
   "cell_type": "markdown",
   "id": "5a201bc4-54f3-4941-919e-bc74d0e30fad",
   "metadata": {},
   "source": [
    "## Reverse Geocoding with Sagemaker\n",
    "\n",
    "**Reverse geocoding** is the process of converting a location as described by geographic coordinates (**latitude*, **longitude**) to a human-readable address or place name. It is the opposite of **forward geocoding** (often referred to as **address geocoding** or simply \"geocoding\"), hence the term reverse. Reverse geocoding permits the identification of nearby street addresses, places, and/or areal subdivisions such as neighbourhoods, county, state, or country."
   ]
  },
  {
   "cell_type": "code",
   "execution_count": 19,
   "id": "41f7bdf7-a553-4700-9d1c-7a0e19bb8f61",
   "metadata": {
    "tags": []
   },
   "outputs": [
    {
     "data": {
      "text/plain": [
       "'2023-05-07-11:22:38'"
      ]
     },
     "execution_count": 19,
     "metadata": {},
     "output_type": "execute_result"
    }
   ],
   "source": [
    "import time\n",
    "from datetime import datetime\n",
    "\n",
    "import boto3\n",
    "import pandas as pd\n",
    "import sagemaker\n",
    "import sagemaker_geospatial_map\n",
    "\n",
    "today = datetime.now().strftime(\"%Y-%m-%d-%H:%M:%S\")\n",
    "today"
   ]
  },
  {
   "attachments": {},
   "cell_type": "markdown",
   "id": "c093f6b8-5c8b-4aae-9d50-f06ba82b6855",
   "metadata": {},
   "source": [
    "## S3"
   ]
  },
  {
   "cell_type": "code",
   "execution_count": 36,
   "id": "ef95096f-d3f8-40db-b437-eb56011eb00e",
   "metadata": {
    "tags": []
   },
   "outputs": [],
   "source": [
    "s3_bucket = \"yang-ml-sagemaker\"\n",
    "s3_key = \"reverse-geocoding\"\n",
    "input_object_key = f\"s3://{s3_bucket}/{s3_key}/housing.csv\"\n",
    "output_object_key = f\"s3://{s3_bucket}/{s3_key}/output/\"\n",
    "\n",
    "s3 = boto3.client(\"s3\")"
   ]
  },
  {
   "attachments": {},
   "cell_type": "markdown",
   "id": "b1a67b7f-7291-47be-b5b9-7d97064acb1f",
   "metadata": {},
   "source": [
    "## Sagemaker"
   ]
  },
  {
   "cell_type": "code",
   "execution_count": null,
   "id": "bf4dce41-5bc0-4468-9756-0c467120f0bf",
   "metadata": {},
   "outputs": [],
   "source": [
    "boto3_session = boto3.Session()\n",
    "role = sagemaker.get_execution_role()\n",
    "geospatial_client = boto3_session.client(service_name=\"sagemaker-geospatial\")"
   ]
  },
  {
   "attachments": {},
   "cell_type": "markdown",
   "id": "b2e404a7-e8fb-41f5-8f11-40656974d23f",
   "metadata": {},
   "source": [
    "## Vector Enrichment Job\n",
    "\n",
    "The job requires that the csv file is uploaded to S3. The \"longitude\" and \"latitude\" headers of the CSV file are used as inputs for the reverse geocoding implementation. Further documentations can be found [here](https://boto3.amazonaws.com/v1/documentation/api/latest/reference/services/sagemaker-geospatial/client/start_vector_enrichment_job.html#).\n",
    "\n",
    "Currently, reverse geocoding jobs only support a maximum of 15000 entries in the input csv."
   ]
  },
  {
   "cell_type": "code",
   "execution_count": 25,
   "id": "1933baf9-b6b9-47a2-9a3e-4201654f4d64",
   "metadata": {
    "tags": []
   },
   "outputs": [
    {
     "data": {
      "text/plain": [
       "'arn:aws:sagemaker-geospatial:us-west-2:722696965592:vector-enrichment-job/2rqtgidf4azn'"
      ]
     },
     "execution_count": 25,
     "metadata": {},
     "output_type": "execute_result"
    }
   ],
   "source": [
    "# Job configuration\n",
    "job_config = {\n",
    "    # The input structure of the csv headers for Reverse Geocoding operation type\n",
    "    \"ReverseGeocodingConfig\": {\n",
    "        \"XAttributeName\": \"longitude\",\n",
    "        \"YAttributeName\": \"latitude\",\n",
    "    },\n",
    "}\n",
    "\n",
    "# Input configuration information for the Vector Enrichment job\n",
    "input_config = {\n",
    "    \"DataSourceConfig\": {\"S3Data\": {\"S3Uri\": input_object_key}},\n",
    "    \"DocumentType\": \"CSV\",\n",
    "}\n",
    "\n",
    "# Create VEJ\n",
    "response = geospatial_client.start_vector_enrichment_job(\n",
    "    Name=f\"reverse-geocoding-{today}\",\n",
    "    ExecutionRoleArn=role,\n",
    "    InputConfig=input_config,\n",
    "    JobConfig=job_config,\n",
    ")\n",
    "\n",
    "# Obtain the Amazon Resource Name (ARN) of the Vector Enrichment job\n",
    "vej_arn = response[\"Arn\"]\n",
    "vej_arn"
   ]
  },
  {
   "attachments": {},
   "cell_type": "markdown",
   "id": "05647ca3-765e-4bce-ac8d-7f646febebe4",
   "metadata": {},
   "source": [
    "Check status of created vector enrichment job:"
   ]
  },
  {
   "cell_type": "code",
   "execution_count": 26,
   "id": "e93574b0-da43-4928-9c41-418327b6da02",
   "metadata": {
    "tags": []
   },
   "outputs": [
    {
     "name": "stdout",
     "output_type": "stream",
     "text": [
      "Job status: COMPLETED (Last update: 2023-05-07 11:43:22.612972)5))\r"
     ]
    }
   ],
   "source": [
    "job_completed = False\n",
    "while not job_completed:\n",
    "    response = geospatial_client.get_vector_enrichment_job(Arn=vej_arn)\n",
    "    print(\n",
    "        \"Job status: {} (Last update: {})\".format(response[\"Status\"], datetime.now()),\n",
    "        end=\"\\r\",\n",
    "    )\n",
    "    job_completed = True if response[\"Status\"] == \"COMPLETED\" else False\n",
    "    if not job_completed:\n",
    "        time.sleep(30)"
   ]
  },
  {
   "attachments": {},
   "cell_type": "markdown",
   "id": "d926bdb6-ff41-44fd-91e3-b78f66b5dcc7",
   "metadata": {},
   "source": [
    "## Export Vector Enrichment Job Output to S3\n",
    "\n",
    "The following output columns will be exported:\n",
    "\n",
    "* reverse_geo.address_number\n",
    "* reverse_geo.country\n",
    "* reverse_geo.label\n",
    "* reverse_geo.municipality\n",
    "* reverse_geo.neighborhood\n",
    "* reverse_geo.postal_code\n",
    "* reverse_geo.region\n",
    "* reverse_geo.status"
   ]
  },
  {
   "cell_type": "code",
   "execution_count": 30,
   "id": "d92d8dfd-c16c-4f92-81a6-549e1a24e7dd",
   "metadata": {
    "tags": []
   },
   "outputs": [],
   "source": [
    "response = geospatial_client.export_vector_enrichment_job(\n",
    "    Arn=vej_arn,\n",
    "    ExecutionRoleArn=role,\n",
    "    OutputConfig={\"S3Data\": {\"S3Uri\": output_object_key}},\n",
    ")"
   ]
  },
  {
   "cell_type": "code",
   "execution_count": 29,
   "id": "3843db9f-f0c4-4728-89a4-84c7e70fc6c0",
   "metadata": {
    "tags": []
   },
   "outputs": [
    {
     "name": "stdout",
     "output_type": "stream",
     "text": [
      "Export status: SUCCEEDED (Last update: 2023-05-07 11:46:24.090958)8)\r"
     ]
    }
   ],
   "source": [
    "while not response[\"ExportStatus\"] == \"SUCCEEDED\":\n",
    "    response = geospatial_client.get_vector_enrichment_job(Arn=vej_arn)\n",
    "    print(\n",
    "        \"Export status: {} (Last update: {})\".format(\n",
    "            response[\"ExportStatus\"], datetime.now()\n",
    "        ),\n",
    "        end=\"\\r\",\n",
    "    )\n",
    "    if not response[\"ExportStatus\"] == \"SUCCEEDED\":\n",
    "        time.sleep(15)"
   ]
  },
  {
   "attachments": {},
   "cell_type": "markdown",
   "id": "510a1565-6741-4bee-9912-d6cce3fc8b04",
   "metadata": {},
   "source": [
    "## Visualize Enriched Data"
   ]
  },
  {
   "cell_type": "code",
   "execution_count": 61,
   "id": "540751d9-d7b9-4dd4-80b3-2131726f24ec",
   "metadata": {
    "tags": []
   },
   "outputs": [
    {
     "data": {
      "text/html": [
       "<div>\n",
       "<style scoped>\n",
       "    .dataframe tbody tr th:only-of-type {\n",
       "        vertical-align: middle;\n",
       "    }\n",
       "\n",
       "    .dataframe tbody tr th {\n",
       "        vertical-align: top;\n",
       "    }\n",
       "\n",
       "    .dataframe thead th {\n",
       "        text-align: right;\n",
       "    }\n",
       "</style>\n",
       "<table border=\"1\" class=\"dataframe\">\n",
       "  <thead>\n",
       "    <tr style=\"text-align: right;\">\n",
       "      <th></th>\n",
       "      <th>longitude</th>\n",
       "      <th>latitude</th>\n",
       "      <th>reverse_geo.address_number</th>\n",
       "      <th>reverse_geo.country</th>\n",
       "      <th>reverse_geo.label</th>\n",
       "      <th>reverse_geo.municipality</th>\n",
       "      <th>reverse_geo.neighborhood</th>\n",
       "      <th>reverse_geo.postal_code</th>\n",
       "      <th>reverse_geo.region</th>\n",
       "      <th>reverse_geo.status</th>\n",
       "    </tr>\n",
       "  </thead>\n",
       "  <tbody>\n",
       "    <tr>\n",
       "      <th>0</th>\n",
       "      <td>-122.23</td>\n",
       "      <td>37.88</td>\n",
       "      <td>NaN</td>\n",
       "      <td>USA</td>\n",
       "      <td>Grizzly Peak Blvd, Berkeley, CA, 94720, USA</td>\n",
       "      <td>Berkeley</td>\n",
       "      <td>NaN</td>\n",
       "      <td>94720</td>\n",
       "      <td>California</td>\n",
       "      <td>Valid Data</td>\n",
       "    </tr>\n",
       "    <tr>\n",
       "      <th>1</th>\n",
       "      <td>-122.22</td>\n",
       "      <td>37.86</td>\n",
       "      <td>2046</td>\n",
       "      <td>USA</td>\n",
       "      <td>2000-2108 Tunnel Rd, Oakland, CA, 94611, USA</td>\n",
       "      <td>Oakland</td>\n",
       "      <td>Merriwood</td>\n",
       "      <td>94611</td>\n",
       "      <td>California</td>\n",
       "      <td>Valid Data</td>\n",
       "    </tr>\n",
       "    <tr>\n",
       "      <th>2</th>\n",
       "      <td>-122.24</td>\n",
       "      <td>37.85</td>\n",
       "      <td>NaN</td>\n",
       "      <td>USA</td>\n",
       "      <td>Exit 4B/Broadway/W, CA-24 W, Oakland, CA, 9461...</td>\n",
       "      <td>Oakland</td>\n",
       "      <td>Upper Rockridge</td>\n",
       "      <td>94618</td>\n",
       "      <td>California</td>\n",
       "      <td>Valid Data</td>\n",
       "    </tr>\n",
       "    <tr>\n",
       "      <th>3</th>\n",
       "      <td>-122.25</td>\n",
       "      <td>37.85</td>\n",
       "      <td>6365</td>\n",
       "      <td>USA</td>\n",
       "      <td>6365 Florio St, Oakland, CA, 94618, USA</td>\n",
       "      <td>Oakland</td>\n",
       "      <td>NaN</td>\n",
       "      <td>94618 1335</td>\n",
       "      <td>California</td>\n",
       "      <td>Valid Data</td>\n",
       "    </tr>\n",
       "    <tr>\n",
       "      <th>4</th>\n",
       "      <td>-122.25</td>\n",
       "      <td>37.85</td>\n",
       "      <td>6365</td>\n",
       "      <td>USA</td>\n",
       "      <td>6365 Florio St, Oakland, CA, 94618, USA</td>\n",
       "      <td>Oakland</td>\n",
       "      <td>NaN</td>\n",
       "      <td>94618 1335</td>\n",
       "      <td>California</td>\n",
       "      <td>Valid Data</td>\n",
       "    </tr>\n",
       "  </tbody>\n",
       "</table>\n",
       "</div>"
      ],
      "text/plain": [
       "   longitude  latitude reverse_geo.address_number reverse_geo.country  \\\n",
       "0    -122.23     37.88                        NaN                 USA   \n",
       "1    -122.22     37.86                       2046                 USA   \n",
       "2    -122.24     37.85                        NaN                 USA   \n",
       "3    -122.25     37.85                       6365                 USA   \n",
       "4    -122.25     37.85                       6365                 USA   \n",
       "\n",
       "                                   reverse_geo.label reverse_geo.municipality  \\\n",
       "0        Grizzly Peak Blvd, Berkeley, CA, 94720, USA                 Berkeley   \n",
       "1       2000-2108 Tunnel Rd, Oakland, CA, 94611, USA                  Oakland   \n",
       "2  Exit 4B/Broadway/W, CA-24 W, Oakland, CA, 9461...                  Oakland   \n",
       "3            6365 Florio St, Oakland, CA, 94618, USA                  Oakland   \n",
       "4            6365 Florio St, Oakland, CA, 94618, USA                  Oakland   \n",
       "\n",
       "  reverse_geo.neighborhood reverse_geo.postal_code reverse_geo.region  \\\n",
       "0                      NaN                   94720         California   \n",
       "1                Merriwood                   94611         California   \n",
       "2          Upper Rockridge                   94618         California   \n",
       "3                      NaN              94618 1335         California   \n",
       "4                      NaN              94618 1335         California   \n",
       "\n",
       "  reverse_geo.status  \n",
       "0         Valid Data  \n",
       "1         Valid Data  \n",
       "2         Valid Data  \n",
       "3         Valid Data  \n",
       "4         Valid Data  "
      ]
     },
     "execution_count": 61,
     "metadata": {},
     "output_type": "execute_result"
    }
   ],
   "source": [
    "s3_bucket_objects = s3.list_objects_v2(Bucket=s3_bucket, Prefix=f\"{s3_key}/output/\")[\n",
    "    \"Contents\"\n",
    "]\n",
    "\n",
    "for s3_object in s3_bucket_objects:\n",
    "    # If any of the objects in the 'output' directory ends with 'csv', read it in as a dataframe\n",
    "    if s3_object[\"Key\"].endswith(\".csv\"):\n",
    "        response = s3.get_object(Bucket=s3_bucket, Key=s3_object[\"Key\"])\n",
    "        df = pd.read_csv(response[\"Body\"])\n",
    "\n",
    "df.head(5)"
   ]
  },
  {
   "attachments": {},
   "cell_type": "markdown",
   "id": "c9d3abda-c4b8-41b2-ac7e-9e3d8d8b915f",
   "metadata": {},
   "source": [
    "Render embedded map:"
   ]
  },
  {
   "cell_type": "code",
   "execution_count": 57,
   "id": "ce5d9ae5-9e2f-4f9b-af0b-3c83f4234475",
   "metadata": {
    "tags": []
   },
   "outputs": [],
   "source": [
    "embedded_map = sagemaker_geospatial_map.create_map({\"is_raster\": True})\n",
    "embedded_map.set_sagemaker_geospatial_client(geospatial_client)"
   ]
  },
  {
   "cell_type": "code",
   "execution_count": null,
   "id": "90e67d38-368c-4e77-b62e-f1a90c7a698a",
   "metadata": {
    "tags": []
   },
   "outputs": [],
   "source": [
    "embedded_map.render()"
   ]
  },
  {
   "attachments": {},
   "cell_type": "markdown",
   "id": "b370a565-5035-4db7-9bf4-e68c7b0c5c8c",
   "metadata": {},
   "source": [
    "Add output data to visualization:"
   ]
  },
  {
   "cell_type": "code",
   "execution_count": 63,
   "id": "1e20eb11-663c-43ae-a059-e93f98f0ab5b",
   "metadata": {
    "tags": []
   },
   "outputs": [],
   "source": [
    "# Return series and remove from frame in place\n",
    "column_to_move = df.pop(\"reverse_geo.label\")\n",
    "\n",
    "# Insert series back as the third column\n",
    "df.insert(2, \"reverse_geo.label\", column_to_move)\n",
    "\n",
    "dataset_links = embedded_map.add_dataset(\n",
    "    {\"data\": df, \"label\": \"vej_output\"}, auto_create_layers=True\n",
    ")"
   ]
  }
 ],
 "metadata": {
  "availableInstances": [
   {
    "_defaultOrder": 0,
    "_isFastLaunch": true,
    "category": "General purpose",
    "gpuNum": 0,
    "hideHardwareSpecs": false,
    "memoryGiB": 4,
    "name": "ml.t3.medium",
    "vcpuNum": 2
   },
   {
    "_defaultOrder": 1,
    "_isFastLaunch": false,
    "category": "General purpose",
    "gpuNum": 0,
    "hideHardwareSpecs": false,
    "memoryGiB": 8,
    "name": "ml.t3.large",
    "vcpuNum": 2
   },
   {
    "_defaultOrder": 2,
    "_isFastLaunch": false,
    "category": "General purpose",
    "gpuNum": 0,
    "hideHardwareSpecs": false,
    "memoryGiB": 16,
    "name": "ml.t3.xlarge",
    "vcpuNum": 4
   },
   {
    "_defaultOrder": 3,
    "_isFastLaunch": false,
    "category": "General purpose",
    "gpuNum": 0,
    "hideHardwareSpecs": false,
    "memoryGiB": 32,
    "name": "ml.t3.2xlarge",
    "vcpuNum": 8
   },
   {
    "_defaultOrder": 4,
    "_isFastLaunch": true,
    "category": "General purpose",
    "gpuNum": 0,
    "hideHardwareSpecs": false,
    "memoryGiB": 8,
    "name": "ml.m5.large",
    "vcpuNum": 2
   },
   {
    "_defaultOrder": 5,
    "_isFastLaunch": false,
    "category": "General purpose",
    "gpuNum": 0,
    "hideHardwareSpecs": false,
    "memoryGiB": 16,
    "name": "ml.m5.xlarge",
    "vcpuNum": 4
   },
   {
    "_defaultOrder": 6,
    "_isFastLaunch": false,
    "category": "General purpose",
    "gpuNum": 0,
    "hideHardwareSpecs": false,
    "memoryGiB": 32,
    "name": "ml.m5.2xlarge",
    "vcpuNum": 8
   },
   {
    "_defaultOrder": 7,
    "_isFastLaunch": false,
    "category": "General purpose",
    "gpuNum": 0,
    "hideHardwareSpecs": false,
    "memoryGiB": 64,
    "name": "ml.m5.4xlarge",
    "vcpuNum": 16
   },
   {
    "_defaultOrder": 8,
    "_isFastLaunch": false,
    "category": "General purpose",
    "gpuNum": 0,
    "hideHardwareSpecs": false,
    "memoryGiB": 128,
    "name": "ml.m5.8xlarge",
    "vcpuNum": 32
   },
   {
    "_defaultOrder": 9,
    "_isFastLaunch": false,
    "category": "General purpose",
    "gpuNum": 0,
    "hideHardwareSpecs": false,
    "memoryGiB": 192,
    "name": "ml.m5.12xlarge",
    "vcpuNum": 48
   },
   {
    "_defaultOrder": 10,
    "_isFastLaunch": false,
    "category": "General purpose",
    "gpuNum": 0,
    "hideHardwareSpecs": false,
    "memoryGiB": 256,
    "name": "ml.m5.16xlarge",
    "vcpuNum": 64
   },
   {
    "_defaultOrder": 11,
    "_isFastLaunch": false,
    "category": "General purpose",
    "gpuNum": 0,
    "hideHardwareSpecs": false,
    "memoryGiB": 384,
    "name": "ml.m5.24xlarge",
    "vcpuNum": 96
   },
   {
    "_defaultOrder": 12,
    "_isFastLaunch": false,
    "category": "General purpose",
    "gpuNum": 0,
    "hideHardwareSpecs": false,
    "memoryGiB": 8,
    "name": "ml.m5d.large",
    "vcpuNum": 2
   },
   {
    "_defaultOrder": 13,
    "_isFastLaunch": false,
    "category": "General purpose",
    "gpuNum": 0,
    "hideHardwareSpecs": false,
    "memoryGiB": 16,
    "name": "ml.m5d.xlarge",
    "vcpuNum": 4
   },
   {
    "_defaultOrder": 14,
    "_isFastLaunch": false,
    "category": "General purpose",
    "gpuNum": 0,
    "hideHardwareSpecs": false,
    "memoryGiB": 32,
    "name": "ml.m5d.2xlarge",
    "vcpuNum": 8
   },
   {
    "_defaultOrder": 15,
    "_isFastLaunch": false,
    "category": "General purpose",
    "gpuNum": 0,
    "hideHardwareSpecs": false,
    "memoryGiB": 64,
    "name": "ml.m5d.4xlarge",
    "vcpuNum": 16
   },
   {
    "_defaultOrder": 16,
    "_isFastLaunch": false,
    "category": "General purpose",
    "gpuNum": 0,
    "hideHardwareSpecs": false,
    "memoryGiB": 128,
    "name": "ml.m5d.8xlarge",
    "vcpuNum": 32
   },
   {
    "_defaultOrder": 17,
    "_isFastLaunch": false,
    "category": "General purpose",
    "gpuNum": 0,
    "hideHardwareSpecs": false,
    "memoryGiB": 192,
    "name": "ml.m5d.12xlarge",
    "vcpuNum": 48
   },
   {
    "_defaultOrder": 18,
    "_isFastLaunch": false,
    "category": "General purpose",
    "gpuNum": 0,
    "hideHardwareSpecs": false,
    "memoryGiB": 256,
    "name": "ml.m5d.16xlarge",
    "vcpuNum": 64
   },
   {
    "_defaultOrder": 19,
    "_isFastLaunch": false,
    "category": "General purpose",
    "gpuNum": 0,
    "hideHardwareSpecs": false,
    "memoryGiB": 384,
    "name": "ml.m5d.24xlarge",
    "vcpuNum": 96
   },
   {
    "_defaultOrder": 20,
    "_isFastLaunch": false,
    "category": "General purpose",
    "gpuNum": 0,
    "hideHardwareSpecs": true,
    "memoryGiB": 0,
    "name": "ml.geospatial.interactive",
    "supportedImageNames": [
     "sagemaker-geospatial-v1-0"
    ],
    "vcpuNum": 0
   },
   {
    "_defaultOrder": 21,
    "_isFastLaunch": true,
    "category": "Compute optimized",
    "gpuNum": 0,
    "hideHardwareSpecs": false,
    "memoryGiB": 4,
    "name": "ml.c5.large",
    "vcpuNum": 2
   },
   {
    "_defaultOrder": 22,
    "_isFastLaunch": false,
    "category": "Compute optimized",
    "gpuNum": 0,
    "hideHardwareSpecs": false,
    "memoryGiB": 8,
    "name": "ml.c5.xlarge",
    "vcpuNum": 4
   },
   {
    "_defaultOrder": 23,
    "_isFastLaunch": false,
    "category": "Compute optimized",
    "gpuNum": 0,
    "hideHardwareSpecs": false,
    "memoryGiB": 16,
    "name": "ml.c5.2xlarge",
    "vcpuNum": 8
   },
   {
    "_defaultOrder": 24,
    "_isFastLaunch": false,
    "category": "Compute optimized",
    "gpuNum": 0,
    "hideHardwareSpecs": false,
    "memoryGiB": 32,
    "name": "ml.c5.4xlarge",
    "vcpuNum": 16
   },
   {
    "_defaultOrder": 25,
    "_isFastLaunch": false,
    "category": "Compute optimized",
    "gpuNum": 0,
    "hideHardwareSpecs": false,
    "memoryGiB": 72,
    "name": "ml.c5.9xlarge",
    "vcpuNum": 36
   },
   {
    "_defaultOrder": 26,
    "_isFastLaunch": false,
    "category": "Compute optimized",
    "gpuNum": 0,
    "hideHardwareSpecs": false,
    "memoryGiB": 96,
    "name": "ml.c5.12xlarge",
    "vcpuNum": 48
   },
   {
    "_defaultOrder": 27,
    "_isFastLaunch": false,
    "category": "Compute optimized",
    "gpuNum": 0,
    "hideHardwareSpecs": false,
    "memoryGiB": 144,
    "name": "ml.c5.18xlarge",
    "vcpuNum": 72
   },
   {
    "_defaultOrder": 28,
    "_isFastLaunch": false,
    "category": "Compute optimized",
    "gpuNum": 0,
    "hideHardwareSpecs": false,
    "memoryGiB": 192,
    "name": "ml.c5.24xlarge",
    "vcpuNum": 96
   },
   {
    "_defaultOrder": 29,
    "_isFastLaunch": true,
    "category": "Accelerated computing",
    "gpuNum": 1,
    "hideHardwareSpecs": false,
    "memoryGiB": 16,
    "name": "ml.g4dn.xlarge",
    "vcpuNum": 4
   },
   {
    "_defaultOrder": 30,
    "_isFastLaunch": false,
    "category": "Accelerated computing",
    "gpuNum": 1,
    "hideHardwareSpecs": false,
    "memoryGiB": 32,
    "name": "ml.g4dn.2xlarge",
    "vcpuNum": 8
   },
   {
    "_defaultOrder": 31,
    "_isFastLaunch": false,
    "category": "Accelerated computing",
    "gpuNum": 1,
    "hideHardwareSpecs": false,
    "memoryGiB": 64,
    "name": "ml.g4dn.4xlarge",
    "vcpuNum": 16
   },
   {
    "_defaultOrder": 32,
    "_isFastLaunch": false,
    "category": "Accelerated computing",
    "gpuNum": 1,
    "hideHardwareSpecs": false,
    "memoryGiB": 128,
    "name": "ml.g4dn.8xlarge",
    "vcpuNum": 32
   },
   {
    "_defaultOrder": 33,
    "_isFastLaunch": false,
    "category": "Accelerated computing",
    "gpuNum": 4,
    "hideHardwareSpecs": false,
    "memoryGiB": 192,
    "name": "ml.g4dn.12xlarge",
    "vcpuNum": 48
   },
   {
    "_defaultOrder": 34,
    "_isFastLaunch": false,
    "category": "Accelerated computing",
    "gpuNum": 1,
    "hideHardwareSpecs": false,
    "memoryGiB": 256,
    "name": "ml.g4dn.16xlarge",
    "vcpuNum": 64
   },
   {
    "_defaultOrder": 35,
    "_isFastLaunch": false,
    "category": "Accelerated computing",
    "gpuNum": 1,
    "hideHardwareSpecs": false,
    "memoryGiB": 61,
    "name": "ml.p3.2xlarge",
    "vcpuNum": 8
   },
   {
    "_defaultOrder": 36,
    "_isFastLaunch": false,
    "category": "Accelerated computing",
    "gpuNum": 4,
    "hideHardwareSpecs": false,
    "memoryGiB": 244,
    "name": "ml.p3.8xlarge",
    "vcpuNum": 32
   },
   {
    "_defaultOrder": 37,
    "_isFastLaunch": false,
    "category": "Accelerated computing",
    "gpuNum": 8,
    "hideHardwareSpecs": false,
    "memoryGiB": 488,
    "name": "ml.p3.16xlarge",
    "vcpuNum": 64
   },
   {
    "_defaultOrder": 38,
    "_isFastLaunch": false,
    "category": "Accelerated computing",
    "gpuNum": 8,
    "hideHardwareSpecs": false,
    "memoryGiB": 768,
    "name": "ml.p3dn.24xlarge",
    "vcpuNum": 96
   },
   {
    "_defaultOrder": 39,
    "_isFastLaunch": false,
    "category": "Memory Optimized",
    "gpuNum": 0,
    "hideHardwareSpecs": false,
    "memoryGiB": 16,
    "name": "ml.r5.large",
    "vcpuNum": 2
   },
   {
    "_defaultOrder": 40,
    "_isFastLaunch": false,
    "category": "Memory Optimized",
    "gpuNum": 0,
    "hideHardwareSpecs": false,
    "memoryGiB": 32,
    "name": "ml.r5.xlarge",
    "vcpuNum": 4
   },
   {
    "_defaultOrder": 41,
    "_isFastLaunch": false,
    "category": "Memory Optimized",
    "gpuNum": 0,
    "hideHardwareSpecs": false,
    "memoryGiB": 64,
    "name": "ml.r5.2xlarge",
    "vcpuNum": 8
   },
   {
    "_defaultOrder": 42,
    "_isFastLaunch": false,
    "category": "Memory Optimized",
    "gpuNum": 0,
    "hideHardwareSpecs": false,
    "memoryGiB": 128,
    "name": "ml.r5.4xlarge",
    "vcpuNum": 16
   },
   {
    "_defaultOrder": 43,
    "_isFastLaunch": false,
    "category": "Memory Optimized",
    "gpuNum": 0,
    "hideHardwareSpecs": false,
    "memoryGiB": 256,
    "name": "ml.r5.8xlarge",
    "vcpuNum": 32
   },
   {
    "_defaultOrder": 44,
    "_isFastLaunch": false,
    "category": "Memory Optimized",
    "gpuNum": 0,
    "hideHardwareSpecs": false,
    "memoryGiB": 384,
    "name": "ml.r5.12xlarge",
    "vcpuNum": 48
   },
   {
    "_defaultOrder": 45,
    "_isFastLaunch": false,
    "category": "Memory Optimized",
    "gpuNum": 0,
    "hideHardwareSpecs": false,
    "memoryGiB": 512,
    "name": "ml.r5.16xlarge",
    "vcpuNum": 64
   },
   {
    "_defaultOrder": 46,
    "_isFastLaunch": false,
    "category": "Memory Optimized",
    "gpuNum": 0,
    "hideHardwareSpecs": false,
    "memoryGiB": 768,
    "name": "ml.r5.24xlarge",
    "vcpuNum": 96
   },
   {
    "_defaultOrder": 47,
    "_isFastLaunch": false,
    "category": "Accelerated computing",
    "gpuNum": 1,
    "hideHardwareSpecs": false,
    "memoryGiB": 16,
    "name": "ml.g5.xlarge",
    "vcpuNum": 4
   },
   {
    "_defaultOrder": 48,
    "_isFastLaunch": false,
    "category": "Accelerated computing",
    "gpuNum": 1,
    "hideHardwareSpecs": false,
    "memoryGiB": 32,
    "name": "ml.g5.2xlarge",
    "vcpuNum": 8
   },
   {
    "_defaultOrder": 49,
    "_isFastLaunch": false,
    "category": "Accelerated computing",
    "gpuNum": 1,
    "hideHardwareSpecs": false,
    "memoryGiB": 64,
    "name": "ml.g5.4xlarge",
    "vcpuNum": 16
   },
   {
    "_defaultOrder": 50,
    "_isFastLaunch": false,
    "category": "Accelerated computing",
    "gpuNum": 1,
    "hideHardwareSpecs": false,
    "memoryGiB": 128,
    "name": "ml.g5.8xlarge",
    "vcpuNum": 32
   },
   {
    "_defaultOrder": 51,
    "_isFastLaunch": false,
    "category": "Accelerated computing",
    "gpuNum": 1,
    "hideHardwareSpecs": false,
    "memoryGiB": 256,
    "name": "ml.g5.16xlarge",
    "vcpuNum": 64
   },
   {
    "_defaultOrder": 52,
    "_isFastLaunch": false,
    "category": "Accelerated computing",
    "gpuNum": 4,
    "hideHardwareSpecs": false,
    "memoryGiB": 192,
    "name": "ml.g5.12xlarge",
    "vcpuNum": 48
   },
   {
    "_defaultOrder": 53,
    "_isFastLaunch": false,
    "category": "Accelerated computing",
    "gpuNum": 4,
    "hideHardwareSpecs": false,
    "memoryGiB": 384,
    "name": "ml.g5.24xlarge",
    "vcpuNum": 96
   },
   {
    "_defaultOrder": 54,
    "_isFastLaunch": false,
    "category": "Accelerated computing",
    "gpuNum": 8,
    "hideHardwareSpecs": false,
    "memoryGiB": 768,
    "name": "ml.g5.48xlarge",
    "vcpuNum": 192
   }
  ],
  "instance_type": "ml.geospatial.interactive",
  "kernelspec": {
   "display_name": "Python 3 (Geospatial 1.0)",
   "language": "python",
   "name": "python3__SAGEMAKER_INTERNAL__arn:aws:sagemaker:us-west-2:081189585635:image/sagemaker-geospatial-v1-0"
  },
  "language_info": {
   "codemirror_mode": {
    "name": "ipython",
    "version": 3
   },
   "file_extension": ".py",
   "mimetype": "text/x-python",
   "name": "python",
   "nbconvert_exporter": "python",
   "pygments_lexer": "ipython3",
   "version": "3.10.4"
  }
 },
 "nbformat": 4,
 "nbformat_minor": 5
}
