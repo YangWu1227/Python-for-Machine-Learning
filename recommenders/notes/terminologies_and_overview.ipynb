{
 "cells": [
  {
   "attachments": {},
   "cell_type": "markdown",
   "metadata": {},
   "source": [
    "Source: [Google Developers Course](https://developers.google.com/machine-learning/recommendation)\n",
    "\n",
    "## Terminologies\n",
    "\n",
    "### Items (also known as documents)\n",
    "\n",
    "The entities a system recommends. For the Google Play store, the items are apps to install. For YouTube, the items are videos.\n",
    "\n",
    "### Query (also known as context)\n",
    "\n",
    "The information a system uses to make recommendations. Queries can be a combination of the following:\n",
    "\n",
    "- user information\n",
    "- the id of the user\n",
    "- items that users previously interacted with\n",
    "- additional context\n",
    "- time of day\n",
    "- the user's device\n",
    "  \n",
    "### Embedding\n",
    "\n",
    "A mapping from a discrete set (in this case, the set of queries, or the set of items to recommend) to a vector space called the **embedding space**. Many recommendation systems rely on learning an appropriate embedding representation of the queries and items.\n",
    "\n",
    "&nbsp;\n",
    "&nbsp;\n",
    "&nbsp;\n",
    "&nbsp;\n",
    "\n",
    "## Recommendation System Overview\n",
    "\n",
    "One common architecture for recommendation systems consists of the following components:\n",
    "- candidate generation\n",
    "- scoring\n",
    "- re-ranking\n",
    "\n",
    "### Candidate Generation\n",
    "\n",
    "In this first stage, the system starts from a potentially huge corpus and generates a much smaller subset of candidates. For example, the candidate generator in YouTube reduces billions of videos down to hundreds or thousands. The model needs to evaluate queries quickly given the enormous size of the corpus. A given model may provide multiple candidate generators, each nominating a different subset of candidates.\n",
    "\n",
    "### Scoring\n",
    "\n",
    "Next, another model scores and ranks the candidates in order to select the set of items (on the order of 10) to display to the user. The phrase \"on the order of 10\" means that the number of items to be displayed to the user will be approximately 10. Since this model evaluates a relatively small subset of items, the system can use a more precise model relying on additional queries--- e.g., user information, user device, additional context.\n",
    "\n",
    "### Re-ranking\n",
    "\n",
    "Finally, the system must take into account additional constraints for the final ranking. For example, the system removes items that the user explicitly disliked or boosts the score of fresher content. Re-ranking can also help ensure diversity, freshness, and fairness."
   ]
  }
 ],
 "metadata": {
  "language_info": {
   "name": "python"
  },
  "orig_nbformat": 4
 },
 "nbformat": 4,
 "nbformat_minor": 2
}
