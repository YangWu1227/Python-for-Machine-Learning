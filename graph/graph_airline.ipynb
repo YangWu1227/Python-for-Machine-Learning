{
 "cells": [
  {
   "cell_type": "code",
   "execution_count": 2,
   "metadata": {},
   "outputs": [],
   "source": [
    "from itertools import combinations\n",
    "\n",
    "import matplotlib.pyplot as plt\n",
    "import networkx as nx\n",
    "import numpy as np\n",
    "import pandas as pd\n",
    "\n",
    "nx.__version__"
   ]
  },
  {
   "cell_type": "code",
   "execution_count": 29,
   "metadata": {},
   "outputs": [],
   "source": [
    "plt.rcParams[\"figure.figsize\"] = [18, 15]"
   ]
  },
  {
   "attachments": {},
   "cell_type": "markdown",
   "metadata": {},
   "source": [
    "## Data"
   ]
  },
  {
   "cell_type": "code",
   "execution_count": 5,
   "metadata": {},
   "outputs": [
    {
     "data": {
      "text/html": [
       "<div>\n",
       "<style scoped>\n",
       "    .dataframe tbody tr th:only-of-type {\n",
       "        vertical-align: middle;\n",
       "    }\n",
       "\n",
       "    .dataframe tbody tr th {\n",
       "        vertical-align: top;\n",
       "    }\n",
       "\n",
       "    .dataframe thead th {\n",
       "        text-align: right;\n",
       "    }\n",
       "</style>\n",
       "<table border=\"1\" class=\"dataframe\">\n",
       "  <thead>\n",
       "    <tr style=\"text-align: right;\">\n",
       "      <th></th>\n",
       "      <th>year</th>\n",
       "      <th>month</th>\n",
       "      <th>day</th>\n",
       "      <th>dep_time</th>\n",
       "      <th>sched_dep_time</th>\n",
       "      <th>dep_delay</th>\n",
       "      <th>arr_time</th>\n",
       "      <th>sched_arr_time</th>\n",
       "      <th>arr_delay</th>\n",
       "      <th>carrier</th>\n",
       "      <th>flight</th>\n",
       "      <th>tailnum</th>\n",
       "      <th>origin</th>\n",
       "      <th>dest</th>\n",
       "      <th>air_time</th>\n",
       "      <th>distance</th>\n",
       "    </tr>\n",
       "  </thead>\n",
       "  <tbody>\n",
       "    <tr>\n",
       "      <th>0</th>\n",
       "      <td>2013</td>\n",
       "      <td>2</td>\n",
       "      <td>26</td>\n",
       "      <td>1807</td>\n",
       "      <td>1630</td>\n",
       "      <td>97</td>\n",
       "      <td>1956</td>\n",
       "      <td>1837</td>\n",
       "      <td>79</td>\n",
       "      <td>EV</td>\n",
       "      <td>4411</td>\n",
       "      <td>N13566</td>\n",
       "      <td>EWR</td>\n",
       "      <td>MEM</td>\n",
       "      <td>144</td>\n",
       "      <td>946</td>\n",
       "    </tr>\n",
       "    <tr>\n",
       "      <th>1</th>\n",
       "      <td>2013</td>\n",
       "      <td>8</td>\n",
       "      <td>17</td>\n",
       "      <td>1459</td>\n",
       "      <td>1445</td>\n",
       "      <td>14</td>\n",
       "      <td>1801</td>\n",
       "      <td>1747</td>\n",
       "      <td>14</td>\n",
       "      <td>B6</td>\n",
       "      <td>1171</td>\n",
       "      <td>N661JB</td>\n",
       "      <td>LGA</td>\n",
       "      <td>FLL</td>\n",
       "      <td>147</td>\n",
       "      <td>1076</td>\n",
       "    </tr>\n",
       "    <tr>\n",
       "      <th>2</th>\n",
       "      <td>2013</td>\n",
       "      <td>2</td>\n",
       "      <td>13</td>\n",
       "      <td>1812</td>\n",
       "      <td>1815</td>\n",
       "      <td>-3</td>\n",
       "      <td>2055</td>\n",
       "      <td>2125</td>\n",
       "      <td>-30</td>\n",
       "      <td>AS</td>\n",
       "      <td>7</td>\n",
       "      <td>N403AS</td>\n",
       "      <td>EWR</td>\n",
       "      <td>SEA</td>\n",
       "      <td>315</td>\n",
       "      <td>2402</td>\n",
       "    </tr>\n",
       "    <tr>\n",
       "      <th>3</th>\n",
       "      <td>2013</td>\n",
       "      <td>4</td>\n",
       "      <td>11</td>\n",
       "      <td>2122</td>\n",
       "      <td>2115</td>\n",
       "      <td>7</td>\n",
       "      <td>2339</td>\n",
       "      <td>2353</td>\n",
       "      <td>-14</td>\n",
       "      <td>B6</td>\n",
       "      <td>97</td>\n",
       "      <td>N656JB</td>\n",
       "      <td>JFK</td>\n",
       "      <td>DEN</td>\n",
       "      <td>221</td>\n",
       "      <td>1626</td>\n",
       "    </tr>\n",
       "    <tr>\n",
       "      <th>4</th>\n",
       "      <td>2013</td>\n",
       "      <td>8</td>\n",
       "      <td>5</td>\n",
       "      <td>1832</td>\n",
       "      <td>1835</td>\n",
       "      <td>-3</td>\n",
       "      <td>2145</td>\n",
       "      <td>2155</td>\n",
       "      <td>-10</td>\n",
       "      <td>AA</td>\n",
       "      <td>269</td>\n",
       "      <td>N3EYAA</td>\n",
       "      <td>JFK</td>\n",
       "      <td>SEA</td>\n",
       "      <td>358</td>\n",
       "      <td>2422</td>\n",
       "    </tr>\n",
       "    <tr>\n",
       "      <th>...</th>\n",
       "      <td>...</td>\n",
       "      <td>...</td>\n",
       "      <td>...</td>\n",
       "      <td>...</td>\n",
       "      <td>...</td>\n",
       "      <td>...</td>\n",
       "      <td>...</td>\n",
       "      <td>...</td>\n",
       "      <td>...</td>\n",
       "      <td>...</td>\n",
       "      <td>...</td>\n",
       "      <td>...</td>\n",
       "      <td>...</td>\n",
       "      <td>...</td>\n",
       "      <td>...</td>\n",
       "      <td>...</td>\n",
       "    </tr>\n",
       "    <tr>\n",
       "      <th>95</th>\n",
       "      <td>2013</td>\n",
       "      <td>11</td>\n",
       "      <td>29</td>\n",
       "      <td>1129</td>\n",
       "      <td>1135</td>\n",
       "      <td>-6</td>\n",
       "      <td>1414</td>\n",
       "      <td>1436</td>\n",
       "      <td>-22</td>\n",
       "      <td>DL</td>\n",
       "      <td>1875</td>\n",
       "      <td>N342NB</td>\n",
       "      <td>LGA</td>\n",
       "      <td>TPA</td>\n",
       "      <td>147</td>\n",
       "      <td>1010</td>\n",
       "    </tr>\n",
       "    <tr>\n",
       "      <th>96</th>\n",
       "      <td>2013</td>\n",
       "      <td>3</td>\n",
       "      <td>10</td>\n",
       "      <td>1029</td>\n",
       "      <td>1029</td>\n",
       "      <td>0</td>\n",
       "      <td>1300</td>\n",
       "      <td>1344</td>\n",
       "      <td>-44</td>\n",
       "      <td>UA</td>\n",
       "      <td>1605</td>\n",
       "      <td>N37465</td>\n",
       "      <td>EWR</td>\n",
       "      <td>LAX</td>\n",
       "      <td>308</td>\n",
       "      <td>2454</td>\n",
       "    </tr>\n",
       "    <tr>\n",
       "      <th>97</th>\n",
       "      <td>2013</td>\n",
       "      <td>11</td>\n",
       "      <td>25</td>\n",
       "      <td>1724</td>\n",
       "      <td>1725</td>\n",
       "      <td>-1</td>\n",
       "      <td>1828</td>\n",
       "      <td>1845</td>\n",
       "      <td>-17</td>\n",
       "      <td>AA</td>\n",
       "      <td>256</td>\n",
       "      <td>N3CTAA</td>\n",
       "      <td>JFK</td>\n",
       "      <td>BOS</td>\n",
       "      <td>40</td>\n",
       "      <td>187</td>\n",
       "    </tr>\n",
       "    <tr>\n",
       "      <th>98</th>\n",
       "      <td>2013</td>\n",
       "      <td>3</td>\n",
       "      <td>5</td>\n",
       "      <td>930</td>\n",
       "      <td>929</td>\n",
       "      <td>1</td>\n",
       "      <td>1421</td>\n",
       "      <td>1426</td>\n",
       "      <td>-5</td>\n",
       "      <td>B6</td>\n",
       "      <td>215</td>\n",
       "      <td>N638JB</td>\n",
       "      <td>EWR</td>\n",
       "      <td>SJU</td>\n",
       "      <td>200</td>\n",
       "      <td>1608</td>\n",
       "    </tr>\n",
       "    <tr>\n",
       "      <th>99</th>\n",
       "      <td>2013</td>\n",
       "      <td>5</td>\n",
       "      <td>21</td>\n",
       "      <td>626</td>\n",
       "      <td>630</td>\n",
       "      <td>-4</td>\n",
       "      <td>858</td>\n",
       "      <td>918</td>\n",
       "      <td>-20</td>\n",
       "      <td>UA</td>\n",
       "      <td>490</td>\n",
       "      <td>N447UA</td>\n",
       "      <td>LGA</td>\n",
       "      <td>IAH</td>\n",
       "      <td>189</td>\n",
       "      <td>1416</td>\n",
       "    </tr>\n",
       "  </tbody>\n",
       "</table>\n",
       "<p>100 rows × 16 columns</p>\n",
       "</div>"
      ],
      "text/plain": [
       "    year  month  day  dep_time  sched_dep_time  dep_delay  arr_time  \\\n",
       "0   2013      2   26      1807            1630         97      1956   \n",
       "1   2013      8   17      1459            1445         14      1801   \n",
       "2   2013      2   13      1812            1815         -3      2055   \n",
       "3   2013      4   11      2122            2115          7      2339   \n",
       "4   2013      8    5      1832            1835         -3      2145   \n",
       "..   ...    ...  ...       ...             ...        ...       ...   \n",
       "95  2013     11   29      1129            1135         -6      1414   \n",
       "96  2013      3   10      1029            1029          0      1300   \n",
       "97  2013     11   25      1724            1725         -1      1828   \n",
       "98  2013      3    5       930             929          1      1421   \n",
       "99  2013      5   21       626             630         -4       858   \n",
       "\n",
       "    sched_arr_time  arr_delay carrier  flight tailnum origin dest  air_time  \\\n",
       "0             1837         79      EV    4411  N13566    EWR  MEM       144   \n",
       "1             1747         14      B6    1171  N661JB    LGA  FLL       147   \n",
       "2             2125        -30      AS       7  N403AS    EWR  SEA       315   \n",
       "3             2353        -14      B6      97  N656JB    JFK  DEN       221   \n",
       "4             2155        -10      AA     269  N3EYAA    JFK  SEA       358   \n",
       "..             ...        ...     ...     ...     ...    ...  ...       ...   \n",
       "95            1436        -22      DL    1875  N342NB    LGA  TPA       147   \n",
       "96            1344        -44      UA    1605  N37465    EWR  LAX       308   \n",
       "97            1845        -17      AA     256  N3CTAA    JFK  BOS        40   \n",
       "98            1426         -5      B6     215  N638JB    EWR  SJU       200   \n",
       "99             918        -20      UA     490  N447UA    LGA  IAH       189   \n",
       "\n",
       "    distance  \n",
       "0        946  \n",
       "1       1076  \n",
       "2       2402  \n",
       "3       1626  \n",
       "4       2422  \n",
       "..       ...  \n",
       "95      1010  \n",
       "96      2454  \n",
       "97       187  \n",
       "98      1608  \n",
       "99      1416  \n",
       "\n",
       "[100 rows x 16 columns]"
      ]
     },
     "execution_count": 5,
     "metadata": {},
     "output_type": "execute_result"
    }
   ],
   "source": [
    "data = pd.read_parquet(\"../data/graph_network/airlines_graph.parquet\")\n",
    "data.shape\n",
    "\n",
    "data"
   ]
  },
  {
   "attachments": {},
   "cell_type": "markdown",
   "metadata": {},
   "source": [
    "### Reformat Time Columns"
   ]
  },
  {
   "cell_type": "code",
   "execution_count": 4,
   "metadata": {},
   "outputs": [
    {
     "data": {
      "text/plain": [
       "sched_dep_time    0\n",
       "sched_arr_time    0\n",
       "dep_time          1\n",
       "arr_time          1\n",
       "year              0\n",
       "month             0\n",
       "day               0\n",
       "dtype: int64"
      ]
     },
     "execution_count": 4,
     "metadata": {},
     "output_type": "execute_result"
    }
   ],
   "source": [
    "# Check for missing values\n",
    "data[\n",
    "    [\"sched_dep_time\", \"sched_arr_time\", \"dep_time\", \"arr_time\", \"year\", \"month\", \"day\"]\n",
    "].isna().sum()"
   ]
  },
  {
   "cell_type": "code",
   "execution_count": 5,
   "metadata": {},
   "outputs": [
    {
     "data": {
      "text/plain": [
       "40    08:30:00\n",
       "69    18:35:00\n",
       "70    15:20:00\n",
       "64    11:15:00\n",
       "82    15:20:00\n",
       "11    09:12:00\n",
       "45    12:00:00\n",
       "0     16:30:00\n",
       "29    20:40:00\n",
       "49    17:15:00\n",
       "Name: std, dtype: object"
      ]
     },
     "execution_count": 5,
     "metadata": {},
     "output_type": "execute_result"
    }
   ],
   "source": [
    "data[\"std\"] = pd.to_datetime(data.sched_dep_time, format=\"%H%M\").dt.strftime(\"%H:%M:%S\")\n",
    "data[\"std\"].sample(10)"
   ]
  },
  {
   "cell_type": "code",
   "execution_count": 6,
   "metadata": {},
   "outputs": [
    {
     "data": {
      "text/plain": [
       "32    21:32:00\n",
       "70    17:05:00\n",
       "73    15:39:00\n",
       "43    13:39:00\n",
       "37    11:00:00\n",
       "54    12:05:00\n",
       "81    16:30:00\n",
       "84    21:30:00\n",
       "39    23:59:00\n",
       "98    14:26:00\n",
       "Name: sta, dtype: object"
      ]
     },
     "execution_count": 6,
     "metadata": {},
     "output_type": "execute_result"
    }
   ],
   "source": [
    "data[\"sta\"] = pd.to_datetime(data.sched_arr_time, format=\"%H%M\").dt.strftime(\"%H:%M:%S\")\n",
    "data[\"sta\"].sample(10)"
   ]
  },
  {
   "cell_type": "code",
   "execution_count": 7,
   "metadata": {},
   "outputs": [
    {
     "data": {
      "text/plain": [
       "79    07:21:00\n",
       "82    15:17:00\n",
       "71    05:59:00\n",
       "97    17:24:00\n",
       "75    19:39:00\n",
       "4     18:32:00\n",
       "1     14:59:00\n",
       "19    06:39:00\n",
       "73    13:37:00\n",
       "86    17:30:00\n",
       "Name: atd, dtype: object"
      ]
     },
     "execution_count": 7,
     "metadata": {},
     "output_type": "execute_result"
    }
   ],
   "source": [
    "data[\"atd\"] = pd.to_datetime(data.dep_time, format=\"%H%M\").dt.strftime(\"%H:%M:%S\")\n",
    "data[\"atd\"].sample(10)"
   ]
  },
  {
   "cell_type": "code",
   "execution_count": 8,
   "metadata": {},
   "outputs": [
    {
     "data": {
      "text/plain": [
       "29    23:59:00\n",
       "86    20:41:00\n",
       "97    18:28:00\n",
       "63    23:45:00\n",
       "61    10:02:00\n",
       "5     17:51:00\n",
       "76    19:57:00\n",
       "90    09:00:00\n",
       "22    17:43:00\n",
       "77    16:39:00\n",
       "Name: ata, dtype: object"
      ]
     },
     "execution_count": 8,
     "metadata": {},
     "output_type": "execute_result"
    }
   ],
   "source": [
    "# Special case in 'arr_time' where time is a single digit == 9\n",
    "data.loc[data.arr_time == 9, \"arr_time\"] = 900\n",
    "\n",
    "data[\"ata\"] = pd.to_datetime(data.arr_time, format=\"%H%M\").dt.strftime(\"%H:%M:%S\")\n",
    "data[\"ata\"].sample(10)"
   ]
  },
  {
   "cell_type": "code",
   "execution_count": 9,
   "metadata": {},
   "outputs": [
    {
     "data": {
      "text/plain": [
       "0    2013-02-26\n",
       "50   2013-07-02\n",
       "53   2013-03-21\n",
       "18   2013-01-02\n",
       "76   2013-02-18\n",
       "2    2013-02-13\n",
       "28   2013-01-30\n",
       "38   2013-07-01\n",
       "91   2013-07-29\n",
       "85   2013-07-01\n",
       "Name: date, dtype: datetime64[ns]"
      ]
     },
     "execution_count": 9,
     "metadata": {},
     "output_type": "execute_result"
    }
   ],
   "source": [
    "data[\"date\"] = pd.to_datetime(data[[\"year\", \"month\", \"day\"]])\n",
    "data.drop(columns=[\"year\", \"month\", \"day\"], axis=1, inplace=True)\n",
    "data[\"date\"].sample(10)"
   ]
  },
  {
   "cell_type": "code",
   "execution_count": 10,
   "metadata": {},
   "outputs": [
    {
     "data": {
      "text/plain": [
       "sched_dep_time    0\n",
       "sched_arr_time    0\n",
       "dep_time          1\n",
       "arr_time          1\n",
       "date              0\n",
       "dtype: int64"
      ]
     },
     "execution_count": 10,
     "metadata": {},
     "output_type": "execute_result"
    }
   ],
   "source": [
    "# Check for missing after conversions\n",
    "data[[\"sched_dep_time\", \"sched_arr_time\", \"dep_time\", \"arr_time\", \"date\"]].isna().sum()"
   ]
  },
  {
   "cell_type": "code",
   "execution_count": 11,
   "metadata": {},
   "outputs": [],
   "source": [
    "# Drop original time columns\n",
    "data.drop(\n",
    "    [\"sched_dep_time\", \"sched_arr_time\", \"dep_time\", \"arr_time\"], axis=1, inplace=True\n",
    ")"
   ]
  },
  {
   "cell_type": "code",
   "execution_count": 12,
   "metadata": {},
   "outputs": [
    {
     "data": {
      "text/html": [
       "<div>\n",
       "<style scoped>\n",
       "    .dataframe tbody tr th:only-of-type {\n",
       "        vertical-align: middle;\n",
       "    }\n",
       "\n",
       "    .dataframe tbody tr th {\n",
       "        vertical-align: top;\n",
       "    }\n",
       "\n",
       "    .dataframe thead th {\n",
       "        text-align: right;\n",
       "    }\n",
       "</style>\n",
       "<table border=\"1\" class=\"dataframe\">\n",
       "  <thead>\n",
       "    <tr style=\"text-align: right;\">\n",
       "      <th></th>\n",
       "      <th>dep_delay</th>\n",
       "      <th>arr_delay</th>\n",
       "      <th>carrier</th>\n",
       "      <th>flight</th>\n",
       "      <th>tailnum</th>\n",
       "      <th>origin</th>\n",
       "      <th>dest</th>\n",
       "      <th>air_time</th>\n",
       "      <th>distance</th>\n",
       "      <th>std</th>\n",
       "      <th>sta</th>\n",
       "      <th>atd</th>\n",
       "      <th>ata</th>\n",
       "      <th>date</th>\n",
       "    </tr>\n",
       "  </thead>\n",
       "  <tbody>\n",
       "    <tr>\n",
       "      <th>0</th>\n",
       "      <td>97.0</td>\n",
       "      <td>79.0</td>\n",
       "      <td>EV</td>\n",
       "      <td>4411</td>\n",
       "      <td>N13566</td>\n",
       "      <td>EWR</td>\n",
       "      <td>MEM</td>\n",
       "      <td>144.0</td>\n",
       "      <td>946</td>\n",
       "      <td>16:30:00</td>\n",
       "      <td>18:37:00</td>\n",
       "      <td>18:07:00</td>\n",
       "      <td>19:56:00</td>\n",
       "      <td>2013-02-26</td>\n",
       "    </tr>\n",
       "    <tr>\n",
       "      <th>1</th>\n",
       "      <td>14.0</td>\n",
       "      <td>14.0</td>\n",
       "      <td>B6</td>\n",
       "      <td>1171</td>\n",
       "      <td>N661JB</td>\n",
       "      <td>LGA</td>\n",
       "      <td>FLL</td>\n",
       "      <td>147.0</td>\n",
       "      <td>1076</td>\n",
       "      <td>14:45:00</td>\n",
       "      <td>17:47:00</td>\n",
       "      <td>14:59:00</td>\n",
       "      <td>18:01:00</td>\n",
       "      <td>2013-08-17</td>\n",
       "    </tr>\n",
       "    <tr>\n",
       "      <th>2</th>\n",
       "      <td>-3.0</td>\n",
       "      <td>-30.0</td>\n",
       "      <td>AS</td>\n",
       "      <td>7</td>\n",
       "      <td>N403AS</td>\n",
       "      <td>EWR</td>\n",
       "      <td>SEA</td>\n",
       "      <td>315.0</td>\n",
       "      <td>2402</td>\n",
       "      <td>18:15:00</td>\n",
       "      <td>21:25:00</td>\n",
       "      <td>18:12:00</td>\n",
       "      <td>20:55:00</td>\n",
       "      <td>2013-02-13</td>\n",
       "    </tr>\n",
       "    <tr>\n",
       "      <th>3</th>\n",
       "      <td>7.0</td>\n",
       "      <td>-14.0</td>\n",
       "      <td>B6</td>\n",
       "      <td>97</td>\n",
       "      <td>N656JB</td>\n",
       "      <td>JFK</td>\n",
       "      <td>DEN</td>\n",
       "      <td>221.0</td>\n",
       "      <td>1626</td>\n",
       "      <td>21:15:00</td>\n",
       "      <td>23:53:00</td>\n",
       "      <td>21:22:00</td>\n",
       "      <td>23:39:00</td>\n",
       "      <td>2013-04-11</td>\n",
       "    </tr>\n",
       "    <tr>\n",
       "      <th>4</th>\n",
       "      <td>-3.0</td>\n",
       "      <td>-10.0</td>\n",
       "      <td>AA</td>\n",
       "      <td>269</td>\n",
       "      <td>N3EYAA</td>\n",
       "      <td>JFK</td>\n",
       "      <td>SEA</td>\n",
       "      <td>358.0</td>\n",
       "      <td>2422</td>\n",
       "      <td>18:35:00</td>\n",
       "      <td>21:55:00</td>\n",
       "      <td>18:32:00</td>\n",
       "      <td>21:45:00</td>\n",
       "      <td>2013-08-05</td>\n",
       "    </tr>\n",
       "    <tr>\n",
       "      <th>5</th>\n",
       "      <td>-5.0</td>\n",
       "      <td>61.0</td>\n",
       "      <td>UA</td>\n",
       "      <td>685</td>\n",
       "      <td>N424UA</td>\n",
       "      <td>LGA</td>\n",
       "      <td>ORD</td>\n",
       "      <td>116.0</td>\n",
       "      <td>733</td>\n",
       "      <td>15:05:00</td>\n",
       "      <td>16:50:00</td>\n",
       "      <td>15:00:00</td>\n",
       "      <td>17:51:00</td>\n",
       "      <td>2013-06-30</td>\n",
       "    </tr>\n",
       "    <tr>\n",
       "      <th>6</th>\n",
       "      <td>-3.0</td>\n",
       "      <td>46.0</td>\n",
       "      <td>UA</td>\n",
       "      <td>346</td>\n",
       "      <td>N446UA</td>\n",
       "      <td>EWR</td>\n",
       "      <td>MIA</td>\n",
       "      <td>200.0</td>\n",
       "      <td>1085</td>\n",
       "      <td>14:45:00</td>\n",
       "      <td>17:47:00</td>\n",
       "      <td>14:42:00</td>\n",
       "      <td>18:33:00</td>\n",
       "      <td>2013-02-14</td>\n",
       "    </tr>\n",
       "    <tr>\n",
       "      <th>7</th>\n",
       "      <td>-3.0</td>\n",
       "      <td>-20.0</td>\n",
       "      <td>DL</td>\n",
       "      <td>2395</td>\n",
       "      <td>N909DL</td>\n",
       "      <td>LGA</td>\n",
       "      <td>PBI</td>\n",
       "      <td>140.0</td>\n",
       "      <td>1035</td>\n",
       "      <td>07:55:00</td>\n",
       "      <td>10:57:00</td>\n",
       "      <td>07:52:00</td>\n",
       "      <td>10:37:00</td>\n",
       "      <td>2013-07-25</td>\n",
       "    </tr>\n",
       "    <tr>\n",
       "      <th>8</th>\n",
       "      <td>-3.0</td>\n",
       "      <td>10.0</td>\n",
       "      <td>MQ</td>\n",
       "      <td>3267</td>\n",
       "      <td>N542MQ</td>\n",
       "      <td>EWR</td>\n",
       "      <td>ORD</td>\n",
       "      <td>113.0</td>\n",
       "      <td>719</td>\n",
       "      <td>06:00:00</td>\n",
       "      <td>07:15:00</td>\n",
       "      <td>05:57:00</td>\n",
       "      <td>07:25:00</td>\n",
       "      <td>2013-07-10</td>\n",
       "    </tr>\n",
       "    <tr>\n",
       "      <th>9</th>\n",
       "      <td>-8.0</td>\n",
       "      <td>-24.0</td>\n",
       "      <td>DL</td>\n",
       "      <td>2159</td>\n",
       "      <td>N909DE</td>\n",
       "      <td>JFK</td>\n",
       "      <td>MCO</td>\n",
       "      <td>138.0</td>\n",
       "      <td>944</td>\n",
       "      <td>19:15:00</td>\n",
       "      <td>22:19:00</td>\n",
       "      <td>19:07:00</td>\n",
       "      <td>21:55:00</td>\n",
       "      <td>2013-12-13</td>\n",
       "    </tr>\n",
       "  </tbody>\n",
       "</table>\n",
       "</div>"
      ],
      "text/plain": [
       "   dep_delay  arr_delay carrier  flight tailnum origin dest  air_time  \\\n",
       "0       97.0       79.0      EV    4411  N13566    EWR  MEM     144.0   \n",
       "1       14.0       14.0      B6    1171  N661JB    LGA  FLL     147.0   \n",
       "2       -3.0      -30.0      AS       7  N403AS    EWR  SEA     315.0   \n",
       "3        7.0      -14.0      B6      97  N656JB    JFK  DEN     221.0   \n",
       "4       -3.0      -10.0      AA     269  N3EYAA    JFK  SEA     358.0   \n",
       "5       -5.0       61.0      UA     685  N424UA    LGA  ORD     116.0   \n",
       "6       -3.0       46.0      UA     346  N446UA    EWR  MIA     200.0   \n",
       "7       -3.0      -20.0      DL    2395  N909DL    LGA  PBI     140.0   \n",
       "8       -3.0       10.0      MQ    3267  N542MQ    EWR  ORD     113.0   \n",
       "9       -8.0      -24.0      DL    2159  N909DE    JFK  MCO     138.0   \n",
       "\n",
       "   distance       std       sta       atd       ata       date  \n",
       "0       946  16:30:00  18:37:00  18:07:00  19:56:00 2013-02-26  \n",
       "1      1076  14:45:00  17:47:00  14:59:00  18:01:00 2013-08-17  \n",
       "2      2402  18:15:00  21:25:00  18:12:00  20:55:00 2013-02-13  \n",
       "3      1626  21:15:00  23:53:00  21:22:00  23:39:00 2013-04-11  \n",
       "4      2422  18:35:00  21:55:00  18:32:00  21:45:00 2013-08-05  \n",
       "5       733  15:05:00  16:50:00  15:00:00  17:51:00 2013-06-30  \n",
       "6      1085  14:45:00  17:47:00  14:42:00  18:33:00 2013-02-14  \n",
       "7      1035  07:55:00  10:57:00  07:52:00  10:37:00 2013-07-25  \n",
       "8       719  06:00:00  07:15:00  05:57:00  07:25:00 2013-07-10  \n",
       "9       944  19:15:00  22:19:00  19:07:00  21:55:00 2013-12-13  "
      ]
     },
     "execution_count": 12,
     "metadata": {},
     "output_type": "execute_result"
    }
   ],
   "source": [
    "data.head(10)"
   ]
  },
  {
   "attachments": {},
   "cell_type": "markdown",
   "metadata": {},
   "source": [
    "## Graph Network"
   ]
  },
  {
   "cell_type": "code",
   "execution_count": 13,
   "metadata": {},
   "outputs": [
    {
     "data": {
      "text/plain": [
       "networkx.classes.graph.Graph"
      ]
     },
     "execution_count": 13,
     "metadata": {},
     "output_type": "execute_result"
    }
   ],
   "source": [
    "edge_attr = list(set(data.columns) - set([\"origin\", \"dest\"]))\n",
    "FG = nx.from_pandas_edgelist(\n",
    "    data, source=\"origin\", target=\"dest\", edge_attr=edge_attr\n",
    ")  # Use all remaining columns as edge attributes\n",
    "type(FG)"
   ]
  },
  {
   "attachments": {},
   "cell_type": "markdown",
   "metadata": {},
   "source": [
    "The nodes or vertices are the airports."
   ]
  },
  {
   "cell_type": "code",
   "execution_count": 14,
   "metadata": {},
   "outputs": [
    {
     "data": {
      "text/plain": [
       "NodeView(('EWR', 'MEM', 'LGA', 'FLL', 'SEA', 'JFK', 'DEN', 'ORD', 'MIA', 'PBI', 'MCO', 'CMH', 'MSP', 'IAD', 'CLT', 'TPA', 'DCA', 'SJU', 'ATL', 'BHM', 'SRQ', 'MSY', 'DTW', 'LAX', 'JAX', 'RDU', 'MDW', 'DFW', 'IAH', 'SFO', 'STL', 'CVG', 'IND', 'RSW', 'BOS', 'CLE'))"
      ]
     },
     "execution_count": 14,
     "metadata": {},
     "output_type": "execute_result"
    }
   ],
   "source": [
    "FG.nodes()"
   ]
  },
  {
   "cell_type": "code",
   "execution_count": 15,
   "metadata": {},
   "outputs": [
    {
     "data": {
      "text/plain": [
       "36"
      ]
     },
     "execution_count": 15,
     "metadata": {},
     "output_type": "execute_result"
    }
   ],
   "source": [
    "len(FG.nodes())"
   ]
  },
  {
   "attachments": {},
   "cell_type": "markdown",
   "metadata": {},
   "source": [
    "Two nodes or vertices have an edge or link if there are flights to and from this pair of origin and destination airports; this is an example of undirected graph network. The `EdgeView` provides set-like operations on the edge-tuples as well as edge attribute lookup. When called, it also provides an `EdgeDataView` object which allows control of access to edge attributes (but does not provide set-like operations). Hence, `G.edges[u, v]['color']` provides the value of the color attribute for edge `(u, v)`. This data structure has support for the iterator protocol via `for (u, v, c) in G.edges.data('color', default='red'):`, which iterates through all the edges yielding the color attribute with default 'red' if no color attribute exists. "
   ]
  },
  {
   "cell_type": "code",
   "execution_count": 17,
   "metadata": {},
   "outputs": [
    {
     "data": {
      "text/plain": [
       "EdgeView([('EWR', 'MEM'), ('EWR', 'SEA'), ('EWR', 'MIA'), ('EWR', 'ORD'), ('EWR', 'MSP'), ('EWR', 'TPA'), ('EWR', 'MSY'), ('EWR', 'DFW'), ('EWR', 'IAH'), ('EWR', 'SFO'), ('EWR', 'CVG'), ('EWR', 'IND'), ('EWR', 'RDU'), ('EWR', 'IAD'), ('EWR', 'RSW'), ('EWR', 'BOS'), ('EWR', 'PBI'), ('EWR', 'LAX'), ('EWR', 'MCO'), ('EWR', 'SJU'), ('LGA', 'FLL'), ('LGA', 'ORD'), ('LGA', 'PBI'), ('LGA', 'CMH'), ('LGA', 'IAD'), ('LGA', 'CLT'), ('LGA', 'MIA'), ('LGA', 'DCA'), ('LGA', 'BHM'), ('LGA', 'RDU'), ('LGA', 'ATL'), ('LGA', 'TPA'), ('LGA', 'MDW'), ('LGA', 'DEN'), ('LGA', 'MSP'), ('LGA', 'DTW'), ('LGA', 'STL'), ('LGA', 'MCO'), ('LGA', 'CVG'), ('LGA', 'IAH'), ('FLL', 'JFK'), ('SEA', 'JFK'), ('JFK', 'DEN'), ('JFK', 'MCO'), ('JFK', 'TPA'), ('JFK', 'SJU'), ('JFK', 'ATL'), ('JFK', 'SRQ'), ('JFK', 'DCA'), ('JFK', 'DTW'), ('JFK', 'LAX'), ('JFK', 'JAX'), ('JFK', 'CLT'), ('JFK', 'PBI'), ('JFK', 'CLE'), ('JFK', 'IAD'), ('JFK', 'BOS')])"
      ]
     },
     "execution_count": 17,
     "metadata": {},
     "output_type": "execute_result"
    }
   ],
   "source": [
    "FG.edges()"
   ]
  },
  {
   "cell_type": "code",
   "execution_count": 19,
   "metadata": {},
   "outputs": [
    {
     "name": "stdout",
     "output_type": "stream",
     "text": [
      "Distance from EWR to MEM is 946 miles\n",
      "Distance from EWR to SEA is 2402 miles\n",
      "Distance from EWR to MIA is 1085 miles\n",
      "Distance from EWR to ORD is 719 miles\n",
      "Distance from EWR to MSP is 1008 miles\n",
      "Distance from EWR to TPA is 997 miles\n",
      "Distance from EWR to MSY is 1167 miles\n",
      "Distance from EWR to DFW is 1372 miles\n",
      "Distance from EWR to IAH is 1400 miles\n",
      "Distance from EWR to SFO is 2565 miles\n"
     ]
    }
   ],
   "source": [
    "for i, (u, v, distance) in enumerate(FG.edges(data=\"distance\")):\n",
    "    if i < 10:\n",
    "        print(f\"Distance from {u} to {v} is {distance} miles\")"
   ]
  },
  {
   "attachments": {},
   "cell_type": "markdown",
   "metadata": {},
   "source": [
    "We can also obtain edge attributes as follows:"
   ]
  },
  {
   "cell_type": "code",
   "execution_count": 20,
   "metadata": {},
   "outputs": [
    {
     "name": "stdout",
     "output_type": "stream",
     "text": [
      "('EWR', 'MEM') --> EV\n",
      "('EWR', 'SEA') --> AS\n",
      "('EWR', 'MIA') --> UA\n",
      "('EWR', 'ORD') --> MQ\n",
      "('EWR', 'MSP') --> EV\n"
     ]
    }
   ],
   "source": [
    "for key_tuple in list(FG.edges())[:5]:\n",
    "    print(key_tuple, \"-->\", nx.get_edge_attributes(FG, \"carrier\")[key_tuple])"
   ]
  },
  {
   "cell_type": "code",
   "execution_count": 27,
   "metadata": {},
   "outputs": [
    {
     "name": "stdout",
     "output_type": "stream",
     "text": [
      "('EWR', 'MEM') ---> departure delay: 97.0 minutes | arrival delay: 79.0 minutes\n",
      "('EWR', 'SEA') ---> departure delay: -3.0 minutes | arrival delay: -30.0 minutes\n",
      "('EWR', 'MIA') ---> departure delay: -4.0 minutes | arrival delay: -11.0 minutes\n",
      "('EWR', 'ORD') ---> departure delay: -3.0 minutes | arrival delay: 10.0 minutes\n",
      "('EWR', 'MSP') ---> departure delay: 9.0 minutes | arrival delay: -11.0 minutes\n"
     ]
    }
   ],
   "source": [
    "for key_tuple in list(FG.edges())[:5]:\n",
    "    print(\n",
    "        f\"{key_tuple} ---> departure delay:\",\n",
    "        nx.get_edge_attributes(FG, \"dep_delay\")[key_tuple],\n",
    "        \"minutes | arrival delay:\",\n",
    "        nx.get_edge_attributes(FG, \"arr_delay\")[key_tuple],\n",
    "        \"minutes\",\n",
    "    )"
   ]
  },
  {
   "attachments": {},
   "cell_type": "markdown",
   "metadata": {},
   "source": [
    "### Visualizing Graph Object\n",
    "\n",
    "The x, y coordinates of the nodes usually carry no meaning in the network plots; the meaning is conveyed in other elements such as node size, edge width, labels, and directional arrows. Consequently, the same network may be depicted by two very different looking plots with different layouts. Dunne and Shneiderman (2009, cited in Golbeck, 2013) listed four plot readability principles:\n",
    "\n",
    "1. Every node should be visible.\n",
    "2. For every node, you should be able to count its *degree*. \n",
    "3. For every link, you should be able to follow it from source to destination. \n",
    "4. Clusters and outliers should be identifiable.\n",
    "\n",
    "There are also algorithms for creating layouts that more clearly reveal structures such as clusters and singletons (unconnected single nodes). The Kamada–Kawai force-directed layout available in `networkx` is an example of such an algorithm."
   ]
  },
  {
   "cell_type": "code",
   "execution_count": 30,
   "metadata": {},
   "outputs": [
    {
     "data": {
      "image/png": "[encoded data removed]",
      "text/plain": [
       "<Figure size 1296x1080 with 1 Axes>"
      ]
     },
     "metadata": {},
     "output_type": "display_data"
    }
   ],
   "source": [
    "pos = nx.kamada_kawai_layout(FG)\n",
    "\n",
    "nx.draw_networkx(\n",
    "    FG,\n",
    "    pos=pos,\n",
    "    with_labels=True,\n",
    "    node_size=1000,\n",
    "    node_color=\"purple\",\n",
    "    edge_color=\"black\",\n",
    "    font_size=8,\n",
    "    font_color=\"white\",\n",
    "    font_weight=\"bold\",\n",
    ")\n",
    "\n",
    "nx.draw_networkx_edge_labels(\n",
    "    FG,\n",
    "    pos=pos,\n",
    "    edge_labels=nx.get_edge_attributes(FG, \"distance\"),\n",
    "    font_size=8,\n",
    "    font_color=\"black\",\n",
    ")\n",
    "\n",
    "plt.show();"
   ]
  },
  {
   "attachments": {},
   "cell_type": "markdown",
   "metadata": {},
   "source": [
    "As can be seen, there appears to be three airports--- JFK, EWR, and LGA--- all of which are in the greater New York area, that have the most flight arrivals and departures."
   ]
  },
  {
   "attachments": {},
   "cell_type": "markdown",
   "metadata": {},
   "source": [
    "### Degree Distribution\n",
    "\n",
    "The first network metric is the degree distribution. The degree measures the number of edges that are connected to the node. In terms of the adjacency matrix $A$, the degree for a node indexed by $i$ in an undirected network is\n",
    "$$\n",
    "k_i=\\sum_j a_{i j}\n",
    "$$\n",
    "where the sum is over all nodes in the network.\n",
    "\n",
    "In a directed network, each node has two degrees. The out-degree is the number of outgoing edges emanating from a node\n",
    "$$\n",
    "k_i^{\\text {out }}=\\sum_j a_{j i}\n",
    "$$\n",
    "and the in-degree is the number of incoming edges onto a node\n",
    "$$\n",
    "k_i^{\\mathrm{in}}=\\sum_j a_{i j}\n",
    "$$\n",
    "The total degree of the node is the sum of its in- and out-degree\n",
    "$$\n",
    "k_i^{\\text {tot }}=k_i^{\\text {in }}+k_i^{\\text {out }}\n",
    "$$\n",
    "\n",
    "The degrees for all nodes in an undirected graph can be obtained as follows:"
   ]
  },
  {
   "cell_type": "code",
   "execution_count": 31,
   "metadata": {},
   "outputs": [
    {
     "data": {
      "text/plain": [
       "DegreeView({'EWR': 20, 'MEM': 1, 'LGA': 20, 'FLL': 2, 'SEA': 2, 'JFK': 17, 'DEN': 2, 'ORD': 2, 'MIA': 2, 'PBI': 3, 'MCO': 3, 'CMH': 1, 'MSP': 2, 'IAD': 3, 'CLT': 2, 'TPA': 3, 'DCA': 2, 'SJU': 2, 'ATL': 2, 'BHM': 1, 'SRQ': 1, 'MSY': 1, 'DTW': 2, 'LAX': 2, 'JAX': 1, 'RDU': 2, 'MDW': 1, 'DFW': 1, 'IAH': 2, 'SFO': 1, 'STL': 1, 'CVG': 2, 'IND': 1, 'RSW': 1, 'BOS': 2, 'CLE': 1})"
      ]
     },
     "execution_count": 31,
     "metadata": {},
     "output_type": "execute_result"
    }
   ],
   "source": [
    "degree_sequence = sorted(\n",
    "    (degree for node, degree in FG.degree()), reverse=True\n",
    ")  # Decreasing order\n",
    "max_degree = max(degree_sequence)\n",
    "\n",
    "FG.degree()"
   ]
  },
  {
   "attachments": {},
   "cell_type": "markdown",
   "metadata": {},
   "source": [
    "We can visualize the degree distribution in two ways:\n",
    "\n",
    "* Degree Rank Plot"
   ]
  },
  {
   "cell_type": "code",
   "execution_count": 32,
   "metadata": {},
   "outputs": [
    {
     "data": {
      "image/png": "[encoded data removed]",
      "text/plain": [
       "<Figure size 864x720 with 1 Axes>"
      ]
     },
     "metadata": {
      "needs_background": "light"
     },
     "output_type": "display_data"
    }
   ],
   "source": [
    "fig, ax = plt.subplots()\n",
    "\n",
    "ax.plot(degree_sequence, \"b-\", marker=\"o\")\n",
    "ax.set_title(\"Degree Rank Plot\")\n",
    "ax.set_ylabel(\"Degree\")\n",
    "ax.set_xlabel(\"Rank\")\n",
    "ax.figure.set_size_inches(12, 10)\n",
    "\n",
    "plt.show();"
   ]
  },
  {
   "attachments": {},
   "cell_type": "markdown",
   "metadata": {},
   "source": [
    "* Degree Histogram"
   ]
  },
  {
   "cell_type": "code",
   "execution_count": 33,
   "metadata": {},
   "outputs": [
    {
     "data": {
      "image/png": "[encoded data removed]",
      "text/plain": [
       "<Figure size 864x720 with 1 Axes>"
      ]
     },
     "metadata": {
      "needs_background": "light"
     },
     "output_type": "display_data"
    }
   ],
   "source": [
    "fig, ax = plt.subplots()\n",
    "\n",
    "ax.bar(*np.unique(degree_sequence, return_counts=True))\n",
    "ax.set_title(\"Degree histogram\")\n",
    "ax.set_xlabel(\"Degree\")\n",
    "ax.set_ylabel(\"# of Nodes\")\n",
    "ax.figure.set_size_inches(12, 10)\n",
    "\n",
    "plt.show();"
   ]
  },
  {
   "attachments": {},
   "cell_type": "markdown",
   "metadata": {},
   "source": [
    "There definitely are two communities--- one consisting of high degree airports and one consisting of relatively lower degree airports. The distribution of degree is disconnected between the two peaks, meaning that the communities are well separated in terms of node degrees. "
   ]
  },
  {
   "attachments": {},
   "cell_type": "markdown",
   "metadata": {},
   "source": [
    "### Density\n",
    "\n",
    "Density is a measure of the overall connectedness of network data; it focuses on both the edges and the nodes. For undirected graphs, this metric is the ratio of the actual number of edges to the maximum number of potential edges in a network with a fixed number of nodes. Formally, this metric is defined as follows:\n",
    "\n",
    "$$\n",
    "\\text { density (undirected) }=\\frac{e}{n(n-1) / 2}\n",
    "$$\n",
    "\n",
    "where $e$ is the number of edges, and $n$ is the number of nodes. This metric ranges between just above 0 (not dense at all) and 1 (as dense as possible)."
   ]
  },
  {
   "cell_type": "code",
   "execution_count": 213,
   "metadata": {},
   "outputs": [
    {
     "data": {
      "text/plain": [
       "0.09047619047619047"
      ]
     },
     "execution_count": 213,
     "metadata": {},
     "output_type": "execute_result"
    }
   ],
   "source": [
    "network_density = len(FG.edges()) / ((len(FG.nodes()) * (len(FG.nodes()) - 1)) / 2)\n",
    "network_density"
   ]
  },
  {
   "attachments": {},
   "cell_type": "markdown",
   "metadata": {},
   "source": [
    "### Other Metrics\n",
    "\n",
    "The **average shortest path length** is\n",
    "$$\n",
    "a=\\sum_{\\substack{s, t \\in V \\\\ s \\neq t}} \\frac{d(s, t)}{n(n-1)}\n",
    "$$\n",
    "where \n",
    "\n",
    "* $V$ is the set of nodes in $G$\n",
    "* $d(s, t)$ is the shortest path distance (number of edges of the shortest path) from $s$ to $t$\n",
    "* $n$ is the number of nodes in $G$"
   ]
  },
  {
   "cell_type": "code",
   "execution_count": 34,
   "metadata": {},
   "outputs": [
    {
     "data": {
      "text/plain": [
       "2.36984126984127"
      ]
     },
     "execution_count": 34,
     "metadata": {},
     "output_type": "execute_result"
    }
   ],
   "source": [
    "nx.average_shortest_path_length(FG)"
   ]
  },
  {
   "attachments": {},
   "cell_type": "markdown",
   "metadata": {},
   "source": [
    "The **average degree connectivity** is the average nearest neighbor degree of nodes with degree $k$. For weighted graphs, an analogous measure can be computed using the weighted average neighbors degree defined in A. Barrat, M. Barthélemy, R. Pastor-Satorras, and A. Vespignani (2004), for a node $i$ as\n",
    "$$\n",
    "k_{n n, i}^w=\\frac{1}{s_i} \\sum_{j \\in N(i)} w_{i j} k_j\n",
    "$$\n",
    "where \n",
    "* $s_i$ is the weighted degree of node $i$ \n",
    "* $w_{i j}$ is the weight of the edge that links $i$ and $j$\n",
    "* $N(i)$ are the neighbors of node $i$\n",
    "\n",
    "This metric answers the question: for a node of degree $k$ (i.e., it has $k$ edges connected to it), what is the average of the degree of this node's neighbors? The value of $k$ is all the possible degrees observed in the network graph. For this example, there are four degrees observed in the graph--- 20, 17, 3, 2, 1."
   ]
  },
  {
   "cell_type": "code",
   "execution_count": 243,
   "metadata": {},
   "outputs": [
    {
     "data": {
      "text/plain": [
       "{20: 1.95, 1: 19.307692307692307, 2: 19.0625, 17: 2.0588235294117645, 3: 19.0}"
      ]
     },
     "execution_count": 243,
     "metadata": {},
     "output_type": "execute_result"
    }
   ],
   "source": [
    "nx.average_degree_connectivity(FG)"
   ]
  },
  {
   "attachments": {},
   "cell_type": "markdown",
   "metadata": {},
   "source": [
    "### Dijkstra’s Algorithm\n",
    "\n",
    "Dijkstra’s algorithm finds the shortest path between nodes in a graph. With the algorithm, we can find the shortest path from a starting node to all the other nodes in the graph. \n",
    "\n",
    "It is a type of greedy algorithm. It only works on weighted graphs with positive weights.  \n",
    "\n",
    "Dijkstra’s algorithm starts at the chosen node (also known as the source node).  The algorithm keeps track of the currently known shortest path from each node to the source node. It updates the path values if it finds a shorter path. When the algorithm finds the shortest path between the source node and another node, that node is marked as “visited” and added to the path. This process continues until all of the nodes have been added to the path. The result of the algorithm is a path that connects the source node to all other nodes in the graph following the shortest path to each node.\n",
    "\n",
    "This algorithm has a time complexity of $O\\left(V^2\\right)$ using the adjacency matrix representation of graph. The time complexity can be reduced to $O((V+E) \\log V)$ using adjacency list representation of graph, where $E$ is the number of edges in the graph and $V$ is the number of vertices in the graph."
   ]
  },
  {
   "cell_type": "code",
   "execution_count": 36,
   "metadata": {},
   "outputs": [
    {
     "data": {
      "text/plain": [
       "['JAX', 'JFK', 'BOS', 'EWR', 'DFW']"
      ]
     },
     "execution_count": 36,
     "metadata": {},
     "output_type": "execute_result"
    }
   ],
   "source": [
    "nx.dijkstra_path(\n",
    "    FG, source=\"JAX\", target=\"DFW\", weight=\"distance\"\n",
    ")  # Shortest path by distance"
   ]
  },
  {
   "cell_type": "code",
   "execution_count": 37,
   "metadata": {},
   "outputs": [
    {
     "data": {
      "text/plain": [
       "['JAX', 'JFK', 'BOS', 'EWR', 'DFW']"
      ]
     },
     "execution_count": 37,
     "metadata": {},
     "output_type": "execute_result"
    }
   ],
   "source": [
    "nx.dijkstra_path(\n",
    "    FG, source=\"JAX\", target=\"DFW\", weight=\"air_time\"\n",
    ")  # Shortest path by air time"
   ]
  },
  {
   "attachments": {},
   "cell_type": "markdown",
   "metadata": {},
   "source": [
    "Note again that the weights have to be positive."
   ]
  },
  {
   "attachments": {},
   "cell_type": "markdown",
   "metadata": {},
   "source": [
    "## Question 2: Maximal Cliques\n",
    "\n",
    "A clique in an undirected graph $G = (V, E)$ is a subset of the vertex (node) set $C \\subset V$ such that, for every two vertices (nodes) in $C$, there exists an edge connecting the two. The connections must all be single edges—a connection via a multi-node path does not count. This is equivalent to saying that the subgraph $H$ induced by $C$ is complete (in some cases, the term clique may also refer to the subgraph).\n",
    "\n",
    "For each node $n$, a maximal clique for $n$ is a largest complete subgraph containing $n$. The largest maximal clique is sometimes called the maximum clique."
   ]
  },
  {
   "cell_type": "code",
   "execution_count": 38,
   "metadata": {},
   "outputs": [
    {
     "name": "stdout",
     "output_type": "stream",
     "text": [
      "There are 57 maximal cliques in the graph\n"
     ]
    }
   ],
   "source": [
    "print(\n",
    "    f\"There are {len(list(nx.find_cliques(FG, nodes=None)))} maximal cliques in the graph\"\n",
    ")"
   ]
  },
  {
   "attachments": {},
   "cell_type": "markdown",
   "metadata": {},
   "source": [
    "To obtain a list of all maximal cliques, use `list(find_cliques(G))`. However, in the worst-case, the length of this list can be exponential in the number of nodes in the graph. This function avoids storing all cliques in memory by only keeping current candidate node lists in memory during its search. \n",
    "\n",
    "### Maximal Cliques\n",
    "\n",
    "To formalize the concept of \"maximal clique\" a bit more, let $H$ be a graph induced by $C \\subset V$ of $G = (V, E)$. The subgraph $H$ is a **maximal clique** in $G$ if $H$ is isomorphic to a complete graph and there is no vertex $v \\in V \\backslash C$ so that $v$ is adjacent to every vertex or node of $H$. The notation $v \\in V \\backslash C$ means that the vertex (node) $v$ is an element of the vertex set of the graph $G$ (denoted $V$) but is not an element of the subset of vertices $H$ (denoted $C$). The symbol $\\backslash$ represents the set difference operation, which gives the set of elements in $V$ that are not in $C$.\n",
    "\n",
    "Put another way, a subgraph $H$ of a graph $G$ is a maximal clique in $G$ if \n",
    "\n",
    "* $H$ is a clique (there is an edge between every pair of vertices in the vertex set $C$ of $H$) \n",
    "* There is no vertex in $v$ in the vertex set $V$ of $G$ but not in the vertex set $C$ of $H$--- that sends an edge to every vertex of in $C$ of $H$. We cannot create a bigger clique in $G$ by adding another vertex to $H$. \n",
    "  \n",
    "To give an example, the diagram below contains four scenarios:\n",
    "\n",
    "<center> <img src=\"data:image/png;base64,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\"> </center> \n",
    "\n",
    "* The red subgraph of the first graph is not a clique, because there are two vertices in it not connected by an edge. \n",
    "* The red subgraph of the second graph is a clique; however, there is a vertex in the larger graph connected to all 3 vertices in the subgraph, it is not a maximal clique. \n",
    "* The red subgraph of the third graph is a maximal clique because it is a clique, and the last vertex not included in the subgraph does not send an edge to every vertex in the subgraph. \n",
    "* The red subgraph of the fourth graph is a maximal clique because it is a clique, and neither of the vertices not included in the subgraph send an edge to every vertex in the subgraph. \n",
    "\n",
    "Note that the third and fourth red subgraphs are both maximal cliques even though the third red subgraph is larger."
   ]
  },
  {
   "attachments": {},
   "cell_type": "markdown",
   "metadata": {},
   "source": [
    "## Question 3: Busiest Airports\n",
    "\n",
    "We can use three measures to quantify busyness of airports.\n",
    "\n",
    "* The **degree centrality** for a node $v$ is the fraction of nodes it is connected to."
   ]
  },
  {
   "cell_type": "code",
   "execution_count": 40,
   "metadata": {},
   "outputs": [
    {
     "data": {
      "text/html": [
       "<div>\n",
       "<style scoped>\n",
       "    .dataframe tbody tr th:only-of-type {\n",
       "        vertical-align: middle;\n",
       "    }\n",
       "\n",
       "    .dataframe tbody tr th {\n",
       "        vertical-align: top;\n",
       "    }\n",
       "\n",
       "    .dataframe thead th {\n",
       "        text-align: right;\n",
       "    }\n",
       "</style>\n",
       "<table border=\"1\" class=\"dataframe\">\n",
       "  <thead>\n",
       "    <tr style=\"text-align: right;\">\n",
       "      <th></th>\n",
       "      <th>degree_centrality</th>\n",
       "    </tr>\n",
       "  </thead>\n",
       "  <tbody>\n",
       "    <tr>\n",
       "      <th>EWR</th>\n",
       "      <td>0.571429</td>\n",
       "    </tr>\n",
       "    <tr>\n",
       "      <th>LGA</th>\n",
       "      <td>0.571429</td>\n",
       "    </tr>\n",
       "    <tr>\n",
       "      <th>JFK</th>\n",
       "      <td>0.485714</td>\n",
       "    </tr>\n",
       "    <tr>\n",
       "      <th>TPA</th>\n",
       "      <td>0.085714</td>\n",
       "    </tr>\n",
       "    <tr>\n",
       "      <th>PBI</th>\n",
       "      <td>0.085714</td>\n",
       "    </tr>\n",
       "  </tbody>\n",
       "</table>\n",
       "</div>"
      ],
      "text/plain": [
       "     degree_centrality\n",
       "EWR           0.571429\n",
       "LGA           0.571429\n",
       "JFK           0.485714\n",
       "TPA           0.085714\n",
       "PBI           0.085714"
      ]
     },
     "execution_count": 40,
     "metadata": {},
     "output_type": "execute_result"
    }
   ],
   "source": [
    "df_degree_centralities = pd.DataFrame().from_dict(\n",
    "    nx.degree_centrality(FG), orient=\"index\", columns=[\"degree_centrality\"]\n",
    ")\n",
    "df_degree_centralities.sort_values(\n",
    "    by=\"degree_centrality\", ascending=False, inplace=True\n",
    ")\n",
    "df_degree_centralities.head(5)"
   ]
  },
  {
   "attachments": {},
   "cell_type": "markdown",
   "metadata": {},
   "source": [
    "* The **closeness centrality** of a node $u$ is the reciprocal of the average shortest path distance to $u$ over all $n-1$ reachable nodes.\n",
    "\n",
    "    $$\n",
    "    C(u)=\\frac{n-1}{\\sum_{v=1}^{n-1} d(v, u)}\n",
    "    $$\n",
    "\n",
    "    where $d(v, u)$ is the shortest-path distance (number of edges of the shortest path) between $v$ and $u$, and $n-1$ is the number of nodes reachable from $u$. Notice that the closeness distance function computes the incoming distance to $u$ for directed graphs. To use outward distance, pass `G.reverse()` to the first keyword argument `G` instead of the original graph object instance. Higher values of closeness indicate higher centrality. The Dijkstra's Algorithm is used to find the shortest path between a given node (which is called the \"source node\") and all other nodes in a graph."
   ]
  },
  {
   "cell_type": "code",
   "execution_count": 41,
   "metadata": {},
   "outputs": [
    {
     "data": {
      "text/html": [
       "<div>\n",
       "<style scoped>\n",
       "    .dataframe tbody tr th:only-of-type {\n",
       "        vertical-align: middle;\n",
       "    }\n",
       "\n",
       "    .dataframe tbody tr th {\n",
       "        vertical-align: top;\n",
       "    }\n",
       "\n",
       "    .dataframe thead th {\n",
       "        text-align: right;\n",
       "    }\n",
       "</style>\n",
       "<table border=\"1\" class=\"dataframe\">\n",
       "  <thead>\n",
       "    <tr style=\"text-align: right;\">\n",
       "      <th></th>\n",
       "      <th>closeness_centrality</th>\n",
       "    </tr>\n",
       "  </thead>\n",
       "  <tbody>\n",
       "    <tr>\n",
       "      <th>EWR</th>\n",
       "      <td>0.555556</td>\n",
       "    </tr>\n",
       "    <tr>\n",
       "      <th>LGA</th>\n",
       "      <td>0.555556</td>\n",
       "    </tr>\n",
       "    <tr>\n",
       "      <th>MCO</th>\n",
       "      <td>0.522388</td>\n",
       "    </tr>\n",
       "    <tr>\n",
       "      <th>TPA</th>\n",
       "      <td>0.522388</td>\n",
       "    </tr>\n",
       "    <tr>\n",
       "      <th>IAD</th>\n",
       "      <td>0.522388</td>\n",
       "    </tr>\n",
       "  </tbody>\n",
       "</table>\n",
       "</div>"
      ],
      "text/plain": [
       "     closeness_centrality\n",
       "EWR              0.555556\n",
       "LGA              0.555556\n",
       "MCO              0.522388\n",
       "TPA              0.522388\n",
       "IAD              0.522388"
      ]
     },
     "execution_count": 41,
     "metadata": {},
     "output_type": "execute_result"
    }
   ],
   "source": [
    "df_closeness_centralities = pd.DataFrame().from_dict(\n",
    "    nx.closeness_centrality(FG), orient=\"index\", columns=[\"closeness_centrality\"]\n",
    ")\n",
    "df_closeness_centralities.sort_values(\n",
    "    by=\"closeness_centrality\", ascending=False, inplace=True\n",
    ")\n",
    "df_closeness_centralities.head(5)"
   ]
  },
  {
   "attachments": {},
   "cell_type": "markdown",
   "metadata": {},
   "source": [
    "* Define the **betweenness** of an edge $(u, v)$ to be the number of pairs of nodes $x$ and $y$ such that the edge $(u, v)$ lies on the shortest path between $x$ and $y$. To be more precise, since there can be several shortest paths between $x$ and $y$, edge $(u, v)$ is credited with the fraction of those shortest paths that include the edge $(u, v)$. A high score is bad; this means that the edge between $u$ and $v$ lies on many shortest paths between many pairs of nodes $x$ and $y$. It suggests that the edge $(u, v)$ runs between two different communities; that is, $u$ and $v$ do not belong to the same community. Below is an example:\n",
    "\n",
    "    <center> <img src=\"data:image/png;base64,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\"> </center> \n",
    "\n",
    "    In the figure above, the edge $(B, D)$ has the highest betweenness. In fact, this edge is on every shortest path between any of $A, B$, and $C$ to any of $D, E, F$, and $G$. Its betweenness is therefore $3 \\times 4=12$. In contrast, the edge $(D, F)$ is on only four shortest paths: those from $A, B, C$, and $D$ to $F$. We often normalize the betweeness of $u$ and $v$ by dividing it by the number of all possible shortest paths. The number of all posible shortest paths is $\\left(\\begin{array}{l}n \\\\ 2 \\end{array}\\right)=\\frac{n(n-1)}{2}$, where $n$ is the number of nodes in the graph."
   ]
  },
  {
   "cell_type": "code",
   "execution_count": 43,
   "metadata": {},
   "outputs": [
    {
     "data": {
      "text/html": [
       "<div>\n",
       "<style scoped>\n",
       "    .dataframe tbody tr th:only-of-type {\n",
       "        vertical-align: middle;\n",
       "    }\n",
       "\n",
       "    .dataframe tbody tr th {\n",
       "        vertical-align: top;\n",
       "    }\n",
       "\n",
       "    .dataframe thead th {\n",
       "        text-align: right;\n",
       "    }\n",
       "</style>\n",
       "<table border=\"1\" class=\"dataframe\">\n",
       "  <thead>\n",
       "    <tr style=\"text-align: right;\">\n",
       "      <th></th>\n",
       "      <th>betweenness_centrality</th>\n",
       "    </tr>\n",
       "  </thead>\n",
       "  <tbody>\n",
       "    <tr>\n",
       "      <th>EWR</th>\n",
       "      <td>0.447339</td>\n",
       "    </tr>\n",
       "    <tr>\n",
       "      <th>LGA</th>\n",
       "      <td>0.409524</td>\n",
       "    </tr>\n",
       "    <tr>\n",
       "      <th>JFK</th>\n",
       "      <td>0.309524</td>\n",
       "    </tr>\n",
       "    <tr>\n",
       "      <th>MCO</th>\n",
       "      <td>0.030812</td>\n",
       "    </tr>\n",
       "    <tr>\n",
       "      <th>TPA</th>\n",
       "      <td>0.030812</td>\n",
       "    </tr>\n",
       "  </tbody>\n",
       "</table>\n",
       "</div>"
      ],
      "text/plain": [
       "     betweenness_centrality\n",
       "EWR                0.447339\n",
       "LGA                0.409524\n",
       "JFK                0.309524\n",
       "MCO                0.030812\n",
       "TPA                0.030812"
      ]
     },
     "execution_count": 43,
     "metadata": {},
     "output_type": "execute_result"
    }
   ],
   "source": [
    "df_betweenness_centralities = pd.DataFrame().from_dict(\n",
    "    nx.betweenness_centrality(FG), orient=\"index\", columns=[\"betweenness_centrality\"]\n",
    ")\n",
    "df_betweenness_centralities.sort_values(\n",
    "    by=\"betweenness_centrality\", ascending=False, inplace=True\n",
    ")\n",
    "df_betweenness_centralities.head(5)"
   ]
  },
  {
   "attachments": {},
   "cell_type": "markdown",
   "metadata": {},
   "source": [
    "The airports that constantly appear in the top 5 are--- EWR, LGA, and TPA. On the other hand, JFK and $MCO$ appear in the top five for two of the three measures of centrality."
   ]
  },
  {
   "attachments": {},
   "cell_type": "markdown",
   "metadata": {},
   "source": [
    "## Question 4: New Routes\n",
    "\n",
    "For identifying new routes, we will assume that the origin destination pairs are symmetric. In the context of delays, I think it makes sense to consider each pair of origin and destination airports as asymmetric; each airport has its own characteristics such as traffic, staffing, and weather condition. However, for recommending new routes (flights) as a strategy, it does not make a lot of sense to consider flights from JFK to EWR a different route than from EWR to JFK. Indeed, while some travelers would opt to book two one-way flights to save on traveling costs, most commercial flights offer two-way tickets that include a returning flight to the origin airport. In other words, if we recommend a new route from, say, EWR to SEA, then it means flights that go both ways.\n",
    "\n",
    "The code that helps identify new routes below contain the following pieces:\n",
    "\n",
    "`FG.nodes(data=True)` returns a `NodeDataView` object that contains the node attributes dictionaries for each airport (empty in our case since we did not specify any node attributes):"
   ]
  },
  {
   "cell_type": "code",
   "execution_count": 48,
   "metadata": {},
   "outputs": [
    {
     "data": {
      "text/plain": [
       "NodeDataView({'EWR': {}, 'MEM': {}, 'LGA': {}, 'FLL': {}, 'SEA': {}, 'JFK': {}, 'DEN': {}, 'ORD': {}, 'MIA': {}, 'PBI': {}, 'MCO': {}, 'CMH': {}, 'MSP': {}, 'IAD': {}, 'CLT': {}, 'TPA': {}, 'DCA': {}, 'SJU': {}, 'ATL': {}, 'BHM': {}, 'SRQ': {}, 'MSY': {}, 'DTW': {}, 'LAX': {}, 'JAX': {}, 'RDU': {}, 'MDW': {}, 'DFW': {}, 'IAH': {}, 'SFO': {}, 'STL': {}, 'CVG': {}, 'IND': {}, 'RSW': {}, 'BOS': {}, 'CLE': {}})"
      ]
     },
     "execution_count": 48,
     "metadata": {},
     "output_type": "execute_result"
    }
   ],
   "source": [
    "FG.nodes(data=True)"
   ]
  },
  {
   "attachments": {},
   "cell_type": "markdown",
   "metadata": {},
   "source": [
    "`FG.neighbors(n)` returns an iterator over all neighbors of node $n$. This is identical to `iter(G[n])`."
   ]
  },
  {
   "cell_type": "code",
   "execution_count": 54,
   "metadata": {},
   "outputs": [
    {
     "data": {
      "text/plain": [
       "['DEN',\n",
       " 'SEA',\n",
       " 'MCO',\n",
       " 'TPA',\n",
       " 'SJU',\n",
       " 'ATL',\n",
       " 'SRQ',\n",
       " 'DCA',\n",
       " 'DTW',\n",
       " 'LAX',\n",
       " 'JAX',\n",
       " 'FLL',\n",
       " 'CLT',\n",
       " 'PBI',\n",
       " 'CLE',\n",
       " 'IAD',\n",
       " 'BOS']"
      ]
     },
     "execution_count": 54,
     "metadata": {},
     "output_type": "execute_result"
    }
   ],
   "source": [
    "list(FG.neighbors(\"JFK\"))"
   ]
  },
  {
   "cell_type": "code",
   "execution_count": 91,
   "metadata": {},
   "outputs": [],
   "source": [
    "# Initialize container ((neighbor_1, neighbor_2) -> combined degree centrality)\n",
    "new_routes = {}\n",
    "\n",
    "# Iterate over all the nodes in the graph\n",
    "for node, node_attr in FG.nodes(data=True):\n",
    "    # Iterate over all possible pairs of neighbors of 'node'\n",
    "    for neighbor_1, neighbor_2 in combinations(FG.neighbors(node), 2):\n",
    "        # If the pair (neighbor_1, neighbor_2) or (neighbor_2, neighbor_1) is already in new_routes, skip it\n",
    "        if (neighbor_1, neighbor_2) in new_routes.keys() or (\n",
    "            neighbor_2,\n",
    "            neighbor_1,\n",
    "        ) in new_routes.keys():\n",
    "            continue\n",
    "\n",
    "        # Check whether 'neighbor_1' and 'neighbor_2' has an edge connecting them to each other\n",
    "        if not FG.has_edge(neighbor_1, neighbor_2):\n",
    "            # If no edges (neighbor_1, neighbor_2) exists, compute the combined degree centrality of 'neighbor_1' and 'neighbor_2'\n",
    "            new_routes[(neighbor_1, neighbor_2)] = float(\n",
    "                df_degree_centralities.loc[neighbor_1]\n",
    "            ) + float(df_degree_centralities.loc[neighbor_2])"
   ]
  },
  {
   "attachments": {},
   "cell_type": "markdown",
   "metadata": {},
   "source": [
    "Next, we identify the top six pairs of origin-destination that have the highest combined degree centralities; these are the recommended new routes:"
   ]
  },
  {
   "cell_type": "code",
   "execution_count": 132,
   "metadata": {},
   "outputs": [
    {
     "data": {
      "text/plain": [
       "[('TPA', 'IAD'),\n",
       " ('TPA', 'PBI'),\n",
       " ('TPA', 'MCO'),\n",
       " ('IAD', 'PBI'),\n",
       " ('IAD', 'MCO'),\n",
       " ('PBI', 'MCO'),\n",
       " ('LGA', 'JFK'),\n",
       " ('EWR', 'JFK'),\n",
       " ('LGA', 'EWR')]"
      ]
     },
     "execution_count": 132,
     "metadata": {},
     "output_type": "execute_result"
    }
   ],
   "source": [
    "degree_centralities_sorted = sorted(new_routes.values())\n",
    "recommended_new_routes = [\n",
    "    origin_dest_pair\n",
    "    for origin_dest_pair, combined_centrality in new_routes.items()\n",
    "    if combined_centrality > np.unique(degree_centralities_sorted)[-4]\n",
    "]\n",
    "recommended_new_routes"
   ]
  },
  {
   "attachments": {},
   "cell_type": "markdown",
   "metadata": {},
   "source": [
    "Any of the 9 pairs of origin and destination have combined degree centrality greater than $0.1429$, which is the fourth highest combined degree centrality out of all pairs. Note that we could have also used other centrality measures--- closeness and betweenness."
   ]
  },
  {
   "cell_type": "code",
   "execution_count": 129,
   "metadata": {},
   "outputs": [],
   "source": [
    "# Initialize container ((neighbor_1, neighbor_2) -> combined degree centrality)\n",
    "new_routes_closeness = {}\n",
    "\n",
    "# Iterate over all the nodes in the graph\n",
    "for node, node_attr in FG.nodes(data=True):\n",
    "    # Iterate over all possible pairs of neighbors of 'node'\n",
    "    for neighbor_1, neighbor_2 in combinations(FG.neighbors(node), 2):\n",
    "        # If the pair (neighbor_1, neighbor_2) or (neighbor_2, neighbor_1) is already in new_routes, skip it\n",
    "        if (neighbor_1, neighbor_2) in new_routes_closeness.keys() or (\n",
    "            neighbor_2,\n",
    "            neighbor_1,\n",
    "        ) in new_routes_closeness.keys():\n",
    "            continue\n",
    "\n",
    "        # Check whether 'neighbor_1' and 'neighbor_2' has an edge connecting them to each other\n",
    "        if not FG.has_edge(neighbor_1, neighbor_2):\n",
    "            # If no edges (neighbor_1, neighbor_2) exists, compute the combined degree centrality of 'neighbor_1' and 'neighbor_2'\n",
    "            new_routes_closeness[(neighbor_1, neighbor_2)] = float(\n",
    "                df_closeness_centralities.loc[neighbor_1]\n",
    "            ) + float(df_closeness_centralities.loc[neighbor_2])"
   ]
  },
  {
   "cell_type": "code",
   "execution_count": 133,
   "metadata": {},
   "outputs": [
    {
     "data": {
      "text/plain": [
       "[('TPA', 'IAD'),\n",
       " ('TPA', 'PBI'),\n",
       " ('TPA', 'MCO'),\n",
       " ('IAD', 'PBI'),\n",
       " ('IAD', 'MCO'),\n",
       " ('PBI', 'MCO'),\n",
       " ('LGA', 'JFK'),\n",
       " ('EWR', 'JFK'),\n",
       " ('LGA', 'EWR')]"
      ]
     },
     "execution_count": 133,
     "metadata": {},
     "output_type": "execute_result"
    }
   ],
   "source": [
    "closeness_centralities_sorted = sorted(new_routes_closeness.values())\n",
    "recommended_new_routes_closeness = [\n",
    "    origin_dest_pair\n",
    "    for origin_dest_pair, combined_centrality in new_routes_closeness.items()\n",
    "    if combined_centrality > np.unique(closeness_centralities_sorted)[-4]\n",
    "]\n",
    "recommended_new_routes_closeness"
   ]
  },
  {
   "cell_type": "code",
   "execution_count": 136,
   "metadata": {},
   "outputs": [],
   "source": [
    "# Initialize container ((neighbor_1, neighbor_2) -> combined degree centrality)\n",
    "new_routes_between = {}\n",
    "\n",
    "# Iterate over all the nodes in the graph\n",
    "for node, node_attr in FG.nodes(data=True):\n",
    "    # Iterate over all possible pairs of neighbors of 'node'\n",
    "    for neighbor_1, neighbor_2 in combinations(FG.neighbors(node), 2):\n",
    "        # If the pair (neighbor_1, neighbor_2) or (neighbor_2, neighbor_1) is already in new_routes, skip it\n",
    "        if (neighbor_1, neighbor_2) in new_routes_between.keys() or (\n",
    "            neighbor_2,\n",
    "            neighbor_1,\n",
    "        ) in new_routes_between.keys():\n",
    "            continue\n",
    "\n",
    "        # Check whether 'neighbor_1' and 'neighbor_2' has an edge connecting them to each other\n",
    "        if not FG.has_edge(neighbor_1, neighbor_2):\n",
    "            # If no edges (neighbor_1, neighbor_2) exists, compute the combined degree centrality of 'neighbor_1' and 'neighbor_2'\n",
    "            new_routes_between[(neighbor_1, neighbor_2)] = float(\n",
    "                df_betweenness_centralities.loc[neighbor_1]\n",
    "            ) + float(df_betweenness_centralities.loc[neighbor_2])"
   ]
  },
  {
   "cell_type": "code",
   "execution_count": 138,
   "metadata": {},
   "outputs": [
    {
     "data": {
      "text/plain": [
       "[('TPA', 'IAD'),\n",
       " ('TPA', 'PBI'),\n",
       " ('TPA', 'MCO'),\n",
       " ('IAD', 'PBI'),\n",
       " ('IAD', 'MCO'),\n",
       " ('PBI', 'MCO'),\n",
       " ('LGA', 'JFK'),\n",
       " ('EWR', 'JFK'),\n",
       " ('LGA', 'EWR')]"
      ]
     },
     "execution_count": 138,
     "metadata": {},
     "output_type": "execute_result"
    }
   ],
   "source": [
    "between_centralities_sorted = sorted(new_routes_between.values())\n",
    "recommended_new_routes_between = [\n",
    "    origin_dest_pair\n",
    "    for origin_dest_pair, combined_centrality in new_routes_between.items()\n",
    "    if combined_centrality > np.unique(between_centralities_sorted)[-5]\n",
    "]\n",
    "recommended_new_routes_between"
   ]
  },
  {
   "attachments": {},
   "cell_type": "markdown",
   "metadata": {},
   "source": [
    "Based on these centrality measures, we recommend the following six new routes:\n",
    "\n",
    "* ('TPA', 'IAD')\n",
    "\n",
    "* ('TPA', 'PBI')\n",
    "\n",
    "* ('LGA', 'EWR')\n",
    "\n",
    "* ('LGA', 'JFK')\n",
    "\n",
    "* ('IAD', 'MCO')\n",
    "\n",
    "* ('EWR', 'JFK')"
   ]
  }
 ],
 "metadata": {
  "kernelspec": {
   "display_name": "python_for_machine_learning",
   "language": "python",
   "name": "python3"
  },
  "language_info": {
   "codemirror_mode": {
    "name": "ipython",
    "version": 3
   },
   "file_extension": ".py",
   "mimetype": "text/x-python",
   "name": "python",
   "nbconvert_exporter": "python",
   "pygments_lexer": "ipython3",
   "version": "3.11.9"
  },
  "vscode": {
   "interpreter": {
    "hash": "40fc6ebffc74793621f684cf09d9f3d0a501c91440a6f462aebac8d38ed47133"
   }
  }
 },
 "nbformat": 4,
 "nbformat_minor": 2
}
