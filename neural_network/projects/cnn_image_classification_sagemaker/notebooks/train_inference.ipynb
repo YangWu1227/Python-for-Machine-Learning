{
 "cells": [
  {
   "cell_type": "code",
   "execution_count": 50,
   "id": "2c9cbca9-7498-415b-9cd4-357f78c71c61",
   "metadata": {
    "tags": []
   },
   "outputs": [
    {
     "data": {
      "text/html": [
       "<div class=\"bk-root\">\n",
       "        <a href=\"https://bokeh.org\" target=\"_blank\" class=\"bk-logo bk-logo-small bk-logo-notebook\"></a>\n",
       "        <span id=\"2128\">Loading BokehJS ...</span>\n",
       "    </div>\n"
      ]
     },
     "metadata": {},
     "output_type": "display_data"
    },
    {
     "data": {
      "application/javascript": [
       "(function(root) {\n",
       "  function now() {\n",
       "    return new Date();\n",
       "  }\n",
       "\n",
       "  const force = true;\n",
       "\n",
       "  if (typeof root._bokeh_onload_callbacks === \"undefined\" || force === true) {\n",
       "    root._bokeh_onload_callbacks = [];\n",
       "    root._bokeh_is_loading = undefined;\n",
       "  }\n",
       "\n",
       "const JS_MIME_TYPE = 'application/javascript';\n",
       "  const HTML_MIME_TYPE = 'text/html';\n",
       "  const EXEC_MIME_TYPE = 'application/vnd.bokehjs_exec.v0+json';\n",
       "  const CLASS_NAME = 'output_bokeh rendered_html';\n",
       "\n",
       "  /**\n",
       "   * Render data to the DOM node\n",
       "   */\n",
       "  function render(props, node) {\n",
       "    const script = document.createElement(\"script\");\n",
       "    node.appendChild(script);\n",
       "  }\n",
       "\n",
       "  /**\n",
       "   * Handle when an output is cleared or removed\n",
       "   */\n",
       "  function handleClearOutput(event, handle) {\n",
       "    const cell = handle.cell;\n",
       "\n",
       "    const id = cell.output_area._bokeh_element_id;\n",
       "    const server_id = cell.output_area._bokeh_server_id;\n",
       "    // Clean up Bokeh references\n",
       "    if (id != null && id in Bokeh.index) {\n",
       "      Bokeh.index[id].model.document.clear();\n",
       "      delete Bokeh.index[id];\n",
       "    }\n",
       "\n",
       "    if (server_id !== undefined) {\n",
       "      // Clean up Bokeh references\n",
       "      const cmd_clean = \"from bokeh.io.state import curstate; print(curstate().uuid_to_server['\" + server_id + \"'].get_sessions()[0].document.roots[0]._id)\";\n",
       "      cell.notebook.kernel.execute(cmd_clean, {\n",
       "        iopub: {\n",
       "          output: function(msg) {\n",
       "            const id = msg.content.text.trim();\n",
       "            if (id in Bokeh.index) {\n",
       "              Bokeh.index[id].model.document.clear();\n",
       "              delete Bokeh.index[id];\n",
       "            }\n",
       "          }\n",
       "        }\n",
       "      });\n",
       "      // Destroy server and session\n",
       "      const cmd_destroy = \"import bokeh.io.notebook as ion; ion.destroy_server('\" + server_id + \"')\";\n",
       "      cell.notebook.kernel.execute(cmd_destroy);\n",
       "    }\n",
       "  }\n",
       "\n",
       "  /**\n",
       "   * Handle when a new output is added\n",
       "   */\n",
       "  function handleAddOutput(event, handle) {\n",
       "    const output_area = handle.output_area;\n",
       "    const output = handle.output;\n",
       "\n",
       "    // limit handleAddOutput to display_data with EXEC_MIME_TYPE content only\n",
       "    if ((output.output_type != \"display_data\") || (!Object.prototype.hasOwnProperty.call(output.data, EXEC_MIME_TYPE))) {\n",
       "      return\n",
       "    }\n",
       "\n",
       "    const toinsert = output_area.element.find(\".\" + CLASS_NAME.split(' ')[0]);\n",
       "\n",
       "    if (output.metadata[EXEC_MIME_TYPE][\"id\"] !== undefined) {\n",
       "      toinsert[toinsert.length - 1].firstChild.textContent = output.data[JS_MIME_TYPE];\n",
       "      // store reference to embed id on output_area\n",
       "      output_area._bokeh_element_id = output.metadata[EXEC_MIME_TYPE][\"id\"];\n",
       "    }\n",
       "    if (output.metadata[EXEC_MIME_TYPE][\"server_id\"] !== undefined) {\n",
       "      const bk_div = document.createElement(\"div\");\n",
       "      bk_div.innerHTML = output.data[HTML_MIME_TYPE];\n",
       "      const script_attrs = bk_div.children[0].attributes;\n",
       "      for (let i = 0; i < script_attrs.length; i++) {\n",
       "        toinsert[toinsert.length - 1].firstChild.setAttribute(script_attrs[i].name, script_attrs[i].value);\n",
       "        toinsert[toinsert.length - 1].firstChild.textContent = bk_div.children[0].textContent\n",
       "      }\n",
       "      // store reference to server id on output_area\n",
       "      output_area._bokeh_server_id = output.metadata[EXEC_MIME_TYPE][\"server_id\"];\n",
       "    }\n",
       "  }\n",
       "\n",
       "  function register_renderer(events, OutputArea) {\n",
       "\n",
       "    function append_mime(data, metadata, element) {\n",
       "      // create a DOM node to render to\n",
       "      const toinsert = this.create_output_subarea(\n",
       "        metadata,\n",
       "        CLASS_NAME,\n",
       "        EXEC_MIME_TYPE\n",
       "      );\n",
       "      this.keyboard_manager.register_events(toinsert);\n",
       "      // Render to node\n",
       "      const props = {data: data, metadata: metadata[EXEC_MIME_TYPE]};\n",
       "      render(props, toinsert[toinsert.length - 1]);\n",
       "      element.append(toinsert);\n",
       "      return toinsert\n",
       "    }\n",
       "\n",
       "    /* Handle when an output is cleared or removed */\n",
       "    events.on('clear_output.CodeCell', handleClearOutput);\n",
       "    events.on('delete.Cell', handleClearOutput);\n",
       "\n",
       "    /* Handle when a new output is added */\n",
       "    events.on('output_added.OutputArea', handleAddOutput);\n",
       "\n",
       "    /**\n",
       "     * Register the mime type and append_mime function with output_area\n",
       "     */\n",
       "    OutputArea.prototype.register_mime_type(EXEC_MIME_TYPE, append_mime, {\n",
       "      /* Is output safe? */\n",
       "      safe: true,\n",
       "      /* Index of renderer in `output_area.display_order` */\n",
       "      index: 0\n",
       "    });\n",
       "  }\n",
       "\n",
       "  // register the mime type if in Jupyter Notebook environment and previously unregistered\n",
       "  if (root.Jupyter !== undefined) {\n",
       "    const events = require('base/js/events');\n",
       "    const OutputArea = require('notebook/js/outputarea').OutputArea;\n",
       "\n",
       "    if (OutputArea.prototype.mime_types().indexOf(EXEC_MIME_TYPE) == -1) {\n",
       "      register_renderer(events, OutputArea);\n",
       "    }\n",
       "  }\n",
       "  if (typeof (root._bokeh_timeout) === \"undefined\" || force === true) {\n",
       "    root._bokeh_timeout = Date.now() + 5000;\n",
       "    root._bokeh_failed_load = false;\n",
       "  }\n",
       "\n",
       "  const NB_LOAD_WARNING = {'data': {'text/html':\n",
       "     \"<div style='background-color: #fdd'>\\n\"+\n",
       "     \"<p>\\n\"+\n",
       "     \"BokehJS does not appear to have successfully loaded. If loading BokehJS from CDN, this \\n\"+\n",
       "     \"may be due to a slow or bad network connection. Possible fixes:\\n\"+\n",
       "     \"</p>\\n\"+\n",
       "     \"<ul>\\n\"+\n",
       "     \"<li>re-rerun `output_notebook()` to attempt to load from CDN again, or</li>\\n\"+\n",
       "     \"<li>use INLINE resources instead, as so:</li>\\n\"+\n",
       "     \"</ul>\\n\"+\n",
       "     \"<code>\\n\"+\n",
       "     \"from bokeh.resources import INLINE\\n\"+\n",
       "     \"output_notebook(resources=INLINE)\\n\"+\n",
       "     \"</code>\\n\"+\n",
       "     \"</div>\"}};\n",
       "\n",
       "  function display_loaded() {\n",
       "    const el = document.getElementById(\"2128\");\n",
       "    if (el != null) {\n",
       "      el.textContent = \"BokehJS is loading...\";\n",
       "    }\n",
       "    if (root.Bokeh !== undefined) {\n",
       "      if (el != null) {\n",
       "        el.textContent = \"BokehJS \" + root.Bokeh.version + \" successfully loaded.\";\n",
       "      }\n",
       "    } else if (Date.now() < root._bokeh_timeout) {\n",
       "      setTimeout(display_loaded, 100)\n",
       "    }\n",
       "  }\n",
       "\n",
       "  function run_callbacks() {\n",
       "    try {\n",
       "      root._bokeh_onload_callbacks.forEach(function(callback) {\n",
       "        if (callback != null)\n",
       "          callback();\n",
       "      });\n",
       "    } finally {\n",
       "      delete root._bokeh_onload_callbacks\n",
       "    }\n",
       "    console.debug(\"Bokeh: all callbacks have finished\");\n",
       "  }\n",
       "\n",
       "  function load_libs(css_urls, js_urls, callback) {\n",
       "    if (css_urls == null) css_urls = [];\n",
       "    if (js_urls == null) js_urls = [];\n",
       "\n",
       "    root._bokeh_onload_callbacks.push(callback);\n",
       "    if (root._bokeh_is_loading > 0) {\n",
       "      console.debug(\"Bokeh: BokehJS is being loaded, scheduling callback at\", now());\n",
       "      return null;\n",
       "    }\n",
       "    if (js_urls == null || js_urls.length === 0) {\n",
       "      run_callbacks();\n",
       "      return null;\n",
       "    }\n",
       "    console.debug(\"Bokeh: BokehJS not loaded, scheduling load and callback at\", now());\n",
       "    root._bokeh_is_loading = css_urls.length + js_urls.length;\n",
       "\n",
       "    function on_load() {\n",
       "      root._bokeh_is_loading--;\n",
       "      if (root._bokeh_is_loading === 0) {\n",
       "        console.debug(\"Bokeh: all BokehJS libraries/stylesheets loaded\");\n",
       "        run_callbacks()\n",
       "      }\n",
       "    }\n",
       "\n",
       "    function on_error(url) {\n",
       "      console.error(\"failed to load \" + url);\n",
       "    }\n",
       "\n",
       "    for (let i = 0; i < css_urls.length; i++) {\n",
       "      const url = css_urls[i];\n",
       "      const element = document.createElement(\"link\");\n",
       "      element.onload = on_load;\n",
       "      element.onerror = on_error.bind(null, url);\n",
       "      element.rel = \"stylesheet\";\n",
       "      element.type = \"text/css\";\n",
       "      element.href = url;\n",
       "      console.debug(\"Bokeh: injecting link tag for BokehJS stylesheet: \", url);\n",
       "      document.body.appendChild(element);\n",
       "    }\n",
       "\n",
       "    for (let i = 0; i < js_urls.length; i++) {\n",
       "      const url = js_urls[i];\n",
       "      const element = document.createElement('script');\n",
       "      element.onload = on_load;\n",
       "      element.onerror = on_error.bind(null, url);\n",
       "      element.async = false;\n",
       "      element.src = url;\n",
       "      console.debug(\"Bokeh: injecting script tag for BokehJS library: \", url);\n",
       "      document.head.appendChild(element);\n",
       "    }\n",
       "  };\n",
       "\n",
       "  function inject_raw_css(css) {\n",
       "    const element = document.createElement(\"style\");\n",
       "    element.appendChild(document.createTextNode(css));\n",
       "    document.body.appendChild(element);\n",
       "  }\n",
       "\n",
       "  const js_urls = [\"https://cdn.bokeh.org/bokeh/release/bokeh-2.4.3.min.js\", \"https://cdn.bokeh.org/bokeh/release/bokeh-gl-2.4.3.min.js\", \"https://cdn.bokeh.org/bokeh/release/bokeh-widgets-2.4.3.min.js\", \"https://cdn.bokeh.org/bokeh/release/bokeh-tables-2.4.3.min.js\", \"https://cdn.bokeh.org/bokeh/release/bokeh-mathjax-2.4.3.min.js\"];\n",
       "  const css_urls = [];\n",
       "\n",
       "  const inline_js = [    function(Bokeh) {\n",
       "      Bokeh.set_log_level(\"info\");\n",
       "    },\n",
       "function(Bokeh) {\n",
       "    }\n",
       "  ];\n",
       "\n",
       "  function run_inline_js() {\n",
       "    if (root.Bokeh !== undefined || force === true) {\n",
       "          for (let i = 0; i < inline_js.length; i++) {\n",
       "      inline_js[i].call(root, root.Bokeh);\n",
       "    }\n",
       "if (force === true) {\n",
       "        display_loaded();\n",
       "      }} else if (Date.now() < root._bokeh_timeout) {\n",
       "      setTimeout(run_inline_js, 100);\n",
       "    } else if (!root._bokeh_failed_load) {\n",
       "      console.log(\"Bokeh: BokehJS failed to load within specified timeout.\");\n",
       "      root._bokeh_failed_load = true;\n",
       "    } else if (force !== true) {\n",
       "      const cell = $(document.getElementById(\"2128\")).parents('.cell').data().cell;\n",
       "      cell.output_area.append_execute_result(NB_LOAD_WARNING)\n",
       "    }\n",
       "  }\n",
       "\n",
       "  if (root._bokeh_is_loading === 0) {\n",
       "    console.debug(\"Bokeh: BokehJS loaded, going straight to plotting\");\n",
       "    run_inline_js();\n",
       "  } else {\n",
       "    load_libs(css_urls, js_urls, function() {\n",
       "      console.debug(\"Bokeh: BokehJS plotting callback run at\", now());\n",
       "      run_inline_js();\n",
       "    });\n",
       "  }\n",
       "}(window));"
      ],
      "application/vnd.bokehjs_load.v0+json": "(function(root) {\n  function now() {\n    return new Date();\n  }\n\n  const force = true;\n\n  if (typeof root._bokeh_onload_callbacks === \"undefined\" || force === true) {\n    root._bokeh_onload_callbacks = [];\n    root._bokeh_is_loading = undefined;\n  }\n\n\n  if (typeof (root._bokeh_timeout) === \"undefined\" || force === true) {\n    root._bokeh_timeout = Date.now() + 5000;\n    root._bokeh_failed_load = false;\n  }\n\n  const NB_LOAD_WARNING = {'data': {'text/html':\n     \"<div style='background-color: #fdd'>\\n\"+\n     \"<p>\\n\"+\n     \"BokehJS does not appear to have successfully loaded. If loading BokehJS from CDN, this \\n\"+\n     \"may be due to a slow or bad network connection. Possible fixes:\\n\"+\n     \"</p>\\n\"+\n     \"<ul>\\n\"+\n     \"<li>re-rerun `output_notebook()` to attempt to load from CDN again, or</li>\\n\"+\n     \"<li>use INLINE resources instead, as so:</li>\\n\"+\n     \"</ul>\\n\"+\n     \"<code>\\n\"+\n     \"from bokeh.resources import INLINE\\n\"+\n     \"output_notebook(resources=INLINE)\\n\"+\n     \"</code>\\n\"+\n     \"</div>\"}};\n\n  function display_loaded() {\n    const el = document.getElementById(\"2128\");\n    if (el != null) {\n      el.textContent = \"BokehJS is loading...\";\n    }\n    if (root.Bokeh !== undefined) {\n      if (el != null) {\n        el.textContent = \"BokehJS \" + root.Bokeh.version + \" successfully loaded.\";\n      }\n    } else if (Date.now() < root._bokeh_timeout) {\n      setTimeout(display_loaded, 100)\n    }\n  }\n\n  function run_callbacks() {\n    try {\n      root._bokeh_onload_callbacks.forEach(function(callback) {\n        if (callback != null)\n          callback();\n      });\n    } finally {\n      delete root._bokeh_onload_callbacks\n    }\n    console.debug(\"Bokeh: all callbacks have finished\");\n  }\n\n  function load_libs(css_urls, js_urls, callback) {\n    if (css_urls == null) css_urls = [];\n    if (js_urls == null) js_urls = [];\n\n    root._bokeh_onload_callbacks.push(callback);\n    if (root._bokeh_is_loading > 0) {\n      console.debug(\"Bokeh: BokehJS is being loaded, scheduling callback at\", now());\n      return null;\n    }\n    if (js_urls == null || js_urls.length === 0) {\n      run_callbacks();\n      return null;\n    }\n    console.debug(\"Bokeh: BokehJS not loaded, scheduling load and callback at\", now());\n    root._bokeh_is_loading = css_urls.length + js_urls.length;\n\n    function on_load() {\n      root._bokeh_is_loading--;\n      if (root._bokeh_is_loading === 0) {\n        console.debug(\"Bokeh: all BokehJS libraries/stylesheets loaded\");\n        run_callbacks()\n      }\n    }\n\n    function on_error(url) {\n      console.error(\"failed to load \" + url);\n    }\n\n    for (let i = 0; i < css_urls.length; i++) {\n      const url = css_urls[i];\n      const element = document.createElement(\"link\");\n      element.onload = on_load;\n      element.onerror = on_error.bind(null, url);\n      element.rel = \"stylesheet\";\n      element.type = \"text/css\";\n      element.href = url;\n      console.debug(\"Bokeh: injecting link tag for BokehJS stylesheet: \", url);\n      document.body.appendChild(element);\n    }\n\n    for (let i = 0; i < js_urls.length; i++) {\n      const url = js_urls[i];\n      const element = document.createElement('script');\n      element.onload = on_load;\n      element.onerror = on_error.bind(null, url);\n      element.async = false;\n      element.src = url;\n      console.debug(\"Bokeh: injecting script tag for BokehJS library: \", url);\n      document.head.appendChild(element);\n    }\n  };\n\n  function inject_raw_css(css) {\n    const element = document.createElement(\"style\");\n    element.appendChild(document.createTextNode(css));\n    document.body.appendChild(element);\n  }\n\n  const js_urls = [\"https://cdn.bokeh.org/bokeh/release/bokeh-2.4.3.min.js\", \"https://cdn.bokeh.org/bokeh/release/bokeh-gl-2.4.3.min.js\", \"https://cdn.bokeh.org/bokeh/release/bokeh-widgets-2.4.3.min.js\", \"https://cdn.bokeh.org/bokeh/release/bokeh-tables-2.4.3.min.js\", \"https://cdn.bokeh.org/bokeh/release/bokeh-mathjax-2.4.3.min.js\"];\n  const css_urls = [];\n\n  const inline_js = [    function(Bokeh) {\n      Bokeh.set_log_level(\"info\");\n    },\nfunction(Bokeh) {\n    }\n  ];\n\n  function run_inline_js() {\n    if (root.Bokeh !== undefined || force === true) {\n          for (let i = 0; i < inline_js.length; i++) {\n      inline_js[i].call(root, root.Bokeh);\n    }\nif (force === true) {\n        display_loaded();\n      }} else if (Date.now() < root._bokeh_timeout) {\n      setTimeout(run_inline_js, 100);\n    } else if (!root._bokeh_failed_load) {\n      console.log(\"Bokeh: BokehJS failed to load within specified timeout.\");\n      root._bokeh_failed_load = true;\n    } else if (force !== true) {\n      const cell = $(document.getElementById(\"2128\")).parents('.cell').data().cell;\n      cell.output_area.append_execute_result(NB_LOAD_WARNING)\n    }\n  }\n\n  if (root._bokeh_is_loading === 0) {\n    console.debug(\"Bokeh: BokehJS loaded, going straight to plotting\");\n    run_inline_js();\n  } else {\n    load_libs(css_urls, js_urls, function() {\n      console.debug(\"Bokeh: BokehJS plotting callback run at\", now());\n      run_inline_js();\n    });\n  }\n}(window));"
     },
     "metadata": {},
     "output_type": "display_data"
    }
   ],
   "source": [
    "%reload_ext autoreload\n",
    "%autoreload 2\n",
    "\n",
    "import sys\n",
    "import os\n",
    "import datetime\n",
    "import json\n",
    "\n",
    "import boto3\n",
    "import sagemaker\n",
    "from sagemaker.tensorflow.estimator import TensorFlow\n",
    "from sagemaker.tensorflow import TensorFlowModel\n",
    "from sagemaker.tuner import ContinuousParameter, IntegerParameter, CategoricalParameter, HyperparameterTuner\n",
    "\n",
    "import numpy as np\n",
    "import pandas as pd\n",
    "from tqdm import tqdm\n",
    "\n",
    "sys.path.append(os.path.dirname(os.getcwd()))\n",
    "from src.custom_utils import HoverHelper, DataHandler\n",
    "\n",
    "from bokeh.plotting import figure, show\n",
    "import bokeh\n",
    "bokeh.io.output_notebook()"
   ]
  },
  {
   "cell_type": "markdown",
   "id": "2fcea4a4-a15a-49f2-b64a-63f87bf42d1c",
   "metadata": {},
   "source": [
    "## S3 & Sagemaker"
   ]
  },
  {
   "cell_type": "code",
   "execution_count": 2,
   "id": "a21e0f69-cd51-4b3f-bb56-f5ce123f7177",
   "metadata": {
    "tags": []
   },
   "outputs": [
    {
     "data": {
      "text/plain": [
       "{'train': 's3://yang-ml-sagemaker/mnist/train-data',\n",
       " 'val': 's3://yang-ml-sagemaker/mnist/val-data'}"
      ]
     },
     "execution_count": 2,
     "metadata": {},
     "output_type": "execute_result"
    }
   ],
   "source": [
    "s3 = boto3.client('s3')\n",
    "\n",
    "s3_bucket = 'yang-ml-sagemaker'\n",
    "s3_key = 'mnist'\n",
    "\n",
    "train_val_path = {'train': f's3://{s3_bucket}/{s3_key}/train-data',\n",
    "                  'val': f's3://{s3_bucket}/{s3_key}/val-data'}\n",
    "train_val_path"
   ]
  },
  {
   "cell_type": "code",
   "execution_count": 3,
   "id": "d1137c22-49f9-4f31-951d-9a59ad22cb3a",
   "metadata": {
    "tags": []
   },
   "outputs": [],
   "source": [
    "sagemaker_session = sagemaker.Session(default_bucket=s3_bucket)\n",
    "sagemaker_session\n",
    "sm_boto3 = boto3.client('sagemaker')\n",
    "role = sagemaker.get_execution_role()\n",
    "instance_type = 'ml.c5.2xlarge'\n",
    "instance_count = 1\n",
    "\n",
    "src_dir_path = os.path.join(os.path.dirname(os.getcwd()), 'src')\n",
    "training_script_path = 'train.py'\n",
    "model_dir = '/opt/ml/model'\n",
    "\n",
    "PY_VERSION='py37'\n",
    "FRAMEWORK_VERSION = '2.2'\n",
    "\n",
    "# Get today's date in YYYYMMDD format\n",
    "today = datetime.datetime.today().strftime('%Y-%m-%d')\n",
    "\n",
    "# Define endpoint name with version and date\n",
    "endpoint_name = f'image-cnn-{today}'"
   ]
  },
  {
   "cell_type": "markdown",
   "id": "a89a0110-5bd0-486e-b48c-11afd47af393",
   "metadata": {},
   "source": [
    "## Tensorflow Estimator"
   ]
  },
  {
   "cell_type": "code",
   "execution_count": 4,
   "id": "edabcb3b-198d-4a9f-9710-11dd132969f8",
   "metadata": {
    "tags": []
   },
   "outputs": [
    {
     "data": {
      "text/plain": [
       "<sagemaker.tensorflow.estimator.TensorFlow at 0x7f1f6bf9a8c0>"
      ]
     },
     "execution_count": 4,
     "metadata": {},
     "output_type": "execute_result"
    }
   ],
   "source": [
    "tf_estimator = TensorFlow(\n",
    "    entry_point=training_script_path,\n",
    "    source_dir=src_dir_path,\n",
    "    role=role,\n",
    "    py_version=PY_VERSION,\n",
    "    framework_version=FRAMEWORK_VERSION,\n",
    "    model_dir=model_dir,\n",
    "    output_path=f's3://{s3_bucket}/{s3_key}/model',\n",
    "    instance_type=instance_type,\n",
    "    instance_count=instance_count\n",
    ")\n",
    "tf_estimator"
   ]
  },
  {
   "cell_type": "markdown",
   "id": "f26724f7-6c64-4acd-89bf-2b0447101bc2",
   "metadata": {},
   "source": [
    "## Hyperparameter Optimization"
   ]
  },
  {
   "cell_type": "code",
   "execution_count": 5,
   "id": "651cd862-4c76-4a20-8a49-3dd23e85eb2f",
   "metadata": {
    "tags": []
   },
   "outputs": [],
   "source": [
    "search_space = {\n",
    "    'filter_dim_1': CategoricalParameter(values=[32, 64, 128]),\n",
    "    'filter_dim_2': CategoricalParameter(values=[32, 64, 128]),\n",
    "    'filter_dim_3': CategoricalParameter(values=[32, 64, 128]),\n",
    "    'filter_dim_4': CategoricalParameter(values=[32, 64, 128]),\n",
    "    'filter_dim_5': CategoricalParameter(values=[32, 64, 128]),\n",
    "    'conv2d_regularizer_decay': ContinuousParameter(min_value=1e-8, max_value=1e-3, scaling_type='Logarithmic'),\n",
    "    'dense_units_1': CategoricalParameter(values=[32, 64]),\n",
    "    'dense_units_2': CategoricalParameter(values=[32, 64]),\n",
    "    'dense_regularizer_decay': ContinuousParameter(min_value=1e-8, max_value=1e-3, scaling_type='Logarithmic'),\n",
    "    'kernel_size': IntegerParameter(min_value=3, max_value=7),\n",
    "    'dropout_rate': ContinuousParameter(min_value=0.0, max_value=0.4),\n",
    "    'batch_norm_momentum': ContinuousParameter(min_value=0.75, max_value=0.99),\n",
    "    'learning_rate': ContinuousParameter(min_value=1e-4, max_value=1e-2, scaling_type='Logarithmic'),\n",
    "    'clipnorm': ContinuousParameter(min_value=0.2, max_value=1.0),\n",
    "    'batch_size': CategoricalParameter(values=[64, 128, 256]),\n",
    "    'epochs': IntegerParameter(min_value=10, max_value=20)\n",
    "}\n",
    "\n",
    "objective_metric_name = 'accuracy'\n",
    "objective_type = 'Maximize'\n",
    "metric_definitions = [\n",
    "    {\n",
    "        'Name': objective_metric_name,\n",
    "        \"Regex\": 'Best validation accuracy: ([0-9\\\\.]+)',\n",
    "    }\n",
    "]\n",
    "base_tuning_job_name = f'cnn-hpo-job-{today}'"
   ]
  },
  {
   "cell_type": "code",
   "execution_count": 6,
   "id": "42bc3aec-40c9-49c9-8171-63c61739c432",
   "metadata": {
    "tags": []
   },
   "outputs": [],
   "source": [
    "hpo_tuner = HyperparameterTuner(\n",
    "    estimator=tf_estimator,\n",
    "    objective_metric_name=objective_metric_name,\n",
    "    hyperparameter_ranges=search_space,\n",
    "    metric_definitions=metric_definitions,\n",
    "    strategy='Bayesian',\n",
    "    objective_type=objective_type,\n",
    "    max_jobs=50,\n",
    "    max_parallel_jobs=5,\n",
    "    base_tuning_job_name=base_tuning_job_name\n",
    ")"
   ]
  },
  {
   "cell_type": "code",
   "execution_count": 7,
   "id": "02e94594-b9ff-4308-b565-fe827b3a712b",
   "metadata": {
    "tags": []
   },
   "outputs": [
    {
     "name": "stderr",
     "output_type": "stream",
     "text": [
      "No finished training job found associated with this estimator. Please make sure this estimator is only used for building workflow config\n"
     ]
    },
    {
     "name": "stdout",
     "output_type": "stream",
     "text": [
      ".......................................................................................................................................................................................................................................................................................!\n"
     ]
    }
   ],
   "source": [
    "hpo_tuner.fit(train_val_path)"
   ]
  },
  {
   "cell_type": "markdown",
   "id": "02463582-794a-48df-8519-8108696e1773",
   "metadata": {},
   "source": [
    "Check optimization results:"
   ]
  },
  {
   "cell_type": "code",
   "execution_count": 8,
   "id": "2eb183fc-7f34-4949-b304-dcd7f9b30565",
   "metadata": {
    "tags": []
   },
   "outputs": [
    {
     "data": {
      "text/html": [
       "<div>\n",
       "<style scoped>\n",
       "    .dataframe tbody tr th:only-of-type {\n",
       "        vertical-align: middle;\n",
       "    }\n",
       "\n",
       "    .dataframe tbody tr th {\n",
       "        vertical-align: top;\n",
       "    }\n",
       "\n",
       "    .dataframe thead th {\n",
       "        text-align: right;\n",
       "    }\n",
       "</style>\n",
       "<table border=\"1\" class=\"dataframe\">\n",
       "  <thead>\n",
       "    <tr style=\"text-align: right;\">\n",
       "      <th></th>\n",
       "      <th>batch_norm_momentum</th>\n",
       "      <th>batch_size</th>\n",
       "      <th>clipnorm</th>\n",
       "      <th>conv2d_regularizer_decay</th>\n",
       "      <th>dense_regularizer_decay</th>\n",
       "      <th>dense_units_1</th>\n",
       "      <th>dense_units_2</th>\n",
       "      <th>dropout_rate</th>\n",
       "      <th>epochs</th>\n",
       "      <th>filter_dim_1</th>\n",
       "      <th>...</th>\n",
       "      <th>filter_dim_4</th>\n",
       "      <th>filter_dim_5</th>\n",
       "      <th>kernel_size</th>\n",
       "      <th>learning_rate</th>\n",
       "      <th>TrainingJobName</th>\n",
       "      <th>TrainingJobStatus</th>\n",
       "      <th>FinalObjectiveValue</th>\n",
       "      <th>TrainingStartTime</th>\n",
       "      <th>TrainingEndTime</th>\n",
       "      <th>TrainingElapsedTimeSeconds</th>\n",
       "    </tr>\n",
       "  </thead>\n",
       "  <tbody>\n",
       "    <tr>\n",
       "      <th>2</th>\n",
       "      <td>0.848839</td>\n",
       "      <td>\"128\"</td>\n",
       "      <td>0.924783</td>\n",
       "      <td>9.246374e-06</td>\n",
       "      <td>1.000000e-08</td>\n",
       "      <td>\"64\"</td>\n",
       "      <td>\"64\"</td>\n",
       "      <td>0.085190</td>\n",
       "      <td>14.0</td>\n",
       "      <td>\"32\"</td>\n",
       "      <td>...</td>\n",
       "      <td>\"32\"</td>\n",
       "      <td>\"128\"</td>\n",
       "      <td>7.0</td>\n",
       "      <td>0.000337</td>\n",
       "      <td>cnn-hpo-job-2023-04--230429-2307-048-37aeaea3</td>\n",
       "      <td>Completed</td>\n",
       "      <td>0.800000</td>\n",
       "      <td>2023-04-29 23:28:54+00:00</td>\n",
       "      <td>2023-04-29 23:30:21+00:00</td>\n",
       "      <td>87.0</td>\n",
       "    </tr>\n",
       "    <tr>\n",
       "      <th>17</th>\n",
       "      <td>0.860214</td>\n",
       "      <td>\"128\"</td>\n",
       "      <td>0.469414</td>\n",
       "      <td>2.190654e-04</td>\n",
       "      <td>1.033873e-07</td>\n",
       "      <td>\"64\"</td>\n",
       "      <td>\"64\"</td>\n",
       "      <td>0.142990</td>\n",
       "      <td>20.0</td>\n",
       "      <td>\"64\"</td>\n",
       "      <td>...</td>\n",
       "      <td>\"32\"</td>\n",
       "      <td>\"128\"</td>\n",
       "      <td>6.0</td>\n",
       "      <td>0.000232</td>\n",
       "      <td>cnn-hpo-job-2023-04--230429-2307-033-c877c889</td>\n",
       "      <td>Completed</td>\n",
       "      <td>0.793333</td>\n",
       "      <td>2023-04-29 23:22:04+00:00</td>\n",
       "      <td>2023-04-29 23:23:46+00:00</td>\n",
       "      <td>102.0</td>\n",
       "    </tr>\n",
       "    <tr>\n",
       "      <th>1</th>\n",
       "      <td>0.857955</td>\n",
       "      <td>\"128\"</td>\n",
       "      <td>0.876657</td>\n",
       "      <td>1.033552e-07</td>\n",
       "      <td>1.283954e-07</td>\n",
       "      <td>\"64\"</td>\n",
       "      <td>\"64\"</td>\n",
       "      <td>0.139166</td>\n",
       "      <td>18.0</td>\n",
       "      <td>\"32\"</td>\n",
       "      <td>...</td>\n",
       "      <td>\"32\"</td>\n",
       "      <td>\"128\"</td>\n",
       "      <td>4.0</td>\n",
       "      <td>0.000222</td>\n",
       "      <td>cnn-hpo-job-2023-04--230429-2307-049-7bf2aa37</td>\n",
       "      <td>Completed</td>\n",
       "      <td>0.780000</td>\n",
       "      <td>2023-04-29 23:29:12+00:00</td>\n",
       "      <td>2023-04-29 23:30:59+00:00</td>\n",
       "      <td>107.0</td>\n",
       "    </tr>\n",
       "    <tr>\n",
       "      <th>0</th>\n",
       "      <td>0.882589</td>\n",
       "      <td>\"128\"</td>\n",
       "      <td>0.535411</td>\n",
       "      <td>8.856170e-05</td>\n",
       "      <td>1.627146e-07</td>\n",
       "      <td>\"64\"</td>\n",
       "      <td>\"64\"</td>\n",
       "      <td>0.186092</td>\n",
       "      <td>17.0</td>\n",
       "      <td>\"32\"</td>\n",
       "      <td>...</td>\n",
       "      <td>\"32\"</td>\n",
       "      <td>\"64\"</td>\n",
       "      <td>7.0</td>\n",
       "      <td>0.000232</td>\n",
       "      <td>cnn-hpo-job-2023-04--230429-2307-050-dd7d90f7</td>\n",
       "      <td>Completed</td>\n",
       "      <td>0.773333</td>\n",
       "      <td>2023-04-29 23:29:30+00:00</td>\n",
       "      <td>2023-04-29 23:31:26+00:00</td>\n",
       "      <td>116.0</td>\n",
       "    </tr>\n",
       "    <tr>\n",
       "      <th>27</th>\n",
       "      <td>0.865835</td>\n",
       "      <td>\"256\"</td>\n",
       "      <td>0.373565</td>\n",
       "      <td>8.195108e-07</td>\n",
       "      <td>1.000000e-03</td>\n",
       "      <td>\"64\"</td>\n",
       "      <td>\"32\"</td>\n",
       "      <td>0.196572</td>\n",
       "      <td>13.0</td>\n",
       "      <td>\"64\"</td>\n",
       "      <td>...</td>\n",
       "      <td>\"128\"</td>\n",
       "      <td>\"128\"</td>\n",
       "      <td>3.0</td>\n",
       "      <td>0.001082</td>\n",
       "      <td>cnn-hpo-job-2023-04--230429-2307-023-5d8b7676</td>\n",
       "      <td>Completed</td>\n",
       "      <td>0.773333</td>\n",
       "      <td>2023-04-29 23:18:03+00:00</td>\n",
       "      <td>2023-04-29 23:19:30+00:00</td>\n",
       "      <td>87.0</td>\n",
       "    </tr>\n",
       "    <tr>\n",
       "      <th>18</th>\n",
       "      <td>0.857444</td>\n",
       "      <td>\"256\"</td>\n",
       "      <td>0.704177</td>\n",
       "      <td>9.581983e-08</td>\n",
       "      <td>1.262980e-04</td>\n",
       "      <td>\"64\"</td>\n",
       "      <td>\"64\"</td>\n",
       "      <td>0.324779</td>\n",
       "      <td>17.0</td>\n",
       "      <td>\"64\"</td>\n",
       "      <td>...</td>\n",
       "      <td>\"128\"</td>\n",
       "      <td>\"128\"</td>\n",
       "      <td>7.0</td>\n",
       "      <td>0.001021</td>\n",
       "      <td>cnn-hpo-job-2023-04--230429-2307-032-3e229e0c</td>\n",
       "      <td>Completed</td>\n",
       "      <td>0.773333</td>\n",
       "      <td>2023-04-29 23:21:45+00:00</td>\n",
       "      <td>2023-04-29 23:23:20+00:00</td>\n",
       "      <td>95.0</td>\n",
       "    </tr>\n",
       "    <tr>\n",
       "      <th>32</th>\n",
       "      <td>0.819796</td>\n",
       "      <td>\"128\"</td>\n",
       "      <td>0.312706</td>\n",
       "      <td>1.110267e-07</td>\n",
       "      <td>1.000000e-03</td>\n",
       "      <td>\"64\"</td>\n",
       "      <td>\"32\"</td>\n",
       "      <td>0.274235</td>\n",
       "      <td>15.0</td>\n",
       "      <td>\"64\"</td>\n",
       "      <td>...</td>\n",
       "      <td>\"32\"</td>\n",
       "      <td>\"128\"</td>\n",
       "      <td>6.0</td>\n",
       "      <td>0.000835</td>\n",
       "      <td>cnn-hpo-job-2023-04--230429-2307-018-e884392b</td>\n",
       "      <td>Completed</td>\n",
       "      <td>0.766667</td>\n",
       "      <td>2023-04-29 23:15:45+00:00</td>\n",
       "      <td>2023-04-29 23:17:03+00:00</td>\n",
       "      <td>78.0</td>\n",
       "    </tr>\n",
       "    <tr>\n",
       "      <th>31</th>\n",
       "      <td>0.767531</td>\n",
       "      <td>\"256\"</td>\n",
       "      <td>0.250630</td>\n",
       "      <td>1.181151e-06</td>\n",
       "      <td>1.160712e-08</td>\n",
       "      <td>\"64\"</td>\n",
       "      <td>\"32\"</td>\n",
       "      <td>0.163670</td>\n",
       "      <td>14.0</td>\n",
       "      <td>\"32\"</td>\n",
       "      <td>...</td>\n",
       "      <td>\"64\"</td>\n",
       "      <td>\"64\"</td>\n",
       "      <td>7.0</td>\n",
       "      <td>0.000191</td>\n",
       "      <td>cnn-hpo-job-2023-04--230429-2307-019-040975bb</td>\n",
       "      <td>Completed</td>\n",
       "      <td>0.766667</td>\n",
       "      <td>2023-04-29 23:16:05+00:00</td>\n",
       "      <td>2023-04-29 23:18:01+00:00</td>\n",
       "      <td>116.0</td>\n",
       "    </tr>\n",
       "    <tr>\n",
       "      <th>30</th>\n",
       "      <td>0.791487</td>\n",
       "      <td>\"256\"</td>\n",
       "      <td>0.902611</td>\n",
       "      <td>2.869177e-08</td>\n",
       "      <td>3.871795e-07</td>\n",
       "      <td>\"64\"</td>\n",
       "      <td>\"64\"</td>\n",
       "      <td>0.142139</td>\n",
       "      <td>15.0</td>\n",
       "      <td>\"64\"</td>\n",
       "      <td>...</td>\n",
       "      <td>\"128\"</td>\n",
       "      <td>\"64\"</td>\n",
       "      <td>3.0</td>\n",
       "      <td>0.002939</td>\n",
       "      <td>cnn-hpo-job-2023-04--230429-2307-020-8b0f4e29</td>\n",
       "      <td>Completed</td>\n",
       "      <td>0.766667</td>\n",
       "      <td>2023-04-29 23:16:23+00:00</td>\n",
       "      <td>2023-04-29 23:17:55+00:00</td>\n",
       "      <td>92.0</td>\n",
       "    </tr>\n",
       "    <tr>\n",
       "      <th>11</th>\n",
       "      <td>0.886720</td>\n",
       "      <td>\"128\"</td>\n",
       "      <td>0.691240</td>\n",
       "      <td>1.563349e-04</td>\n",
       "      <td>5.383220e-06</td>\n",
       "      <td>\"64\"</td>\n",
       "      <td>\"64\"</td>\n",
       "      <td>0.340181</td>\n",
       "      <td>11.0</td>\n",
       "      <td>\"64\"</td>\n",
       "      <td>...</td>\n",
       "      <td>\"32\"</td>\n",
       "      <td>\"128\"</td>\n",
       "      <td>7.0</td>\n",
       "      <td>0.001237</td>\n",
       "      <td>cnn-hpo-job-2023-04--230429-2307-039-efcceea8</td>\n",
       "      <td>Completed</td>\n",
       "      <td>0.763333</td>\n",
       "      <td>2023-04-29 23:24:32+00:00</td>\n",
       "      <td>2023-04-29 23:26:54+00:00</td>\n",
       "      <td>142.0</td>\n",
       "    </tr>\n",
       "  </tbody>\n",
       "</table>\n",
       "<p>10 rows × 22 columns</p>\n",
       "</div>"
      ],
      "text/plain": [
       "    batch_norm_momentum batch_size  clipnorm  conv2d_regularizer_decay  \\\n",
       "2              0.848839      \"128\"  0.924783              9.246374e-06   \n",
       "17             0.860214      \"128\"  0.469414              2.190654e-04   \n",
       "1              0.857955      \"128\"  0.876657              1.033552e-07   \n",
       "0              0.882589      \"128\"  0.535411              8.856170e-05   \n",
       "27             0.865835      \"256\"  0.373565              8.195108e-07   \n",
       "18             0.857444      \"256\"  0.704177              9.581983e-08   \n",
       "32             0.819796      \"128\"  0.312706              1.110267e-07   \n",
       "31             0.767531      \"256\"  0.250630              1.181151e-06   \n",
       "30             0.791487      \"256\"  0.902611              2.869177e-08   \n",
       "11             0.886720      \"128\"  0.691240              1.563349e-04   \n",
       "\n",
       "    dense_regularizer_decay dense_units_1 dense_units_2  dropout_rate  epochs  \\\n",
       "2              1.000000e-08          \"64\"          \"64\"      0.085190    14.0   \n",
       "17             1.033873e-07          \"64\"          \"64\"      0.142990    20.0   \n",
       "1              1.283954e-07          \"64\"          \"64\"      0.139166    18.0   \n",
       "0              1.627146e-07          \"64\"          \"64\"      0.186092    17.0   \n",
       "27             1.000000e-03          \"64\"          \"32\"      0.196572    13.0   \n",
       "18             1.262980e-04          \"64\"          \"64\"      0.324779    17.0   \n",
       "32             1.000000e-03          \"64\"          \"32\"      0.274235    15.0   \n",
       "31             1.160712e-08          \"64\"          \"32\"      0.163670    14.0   \n",
       "30             3.871795e-07          \"64\"          \"64\"      0.142139    15.0   \n",
       "11             5.383220e-06          \"64\"          \"64\"      0.340181    11.0   \n",
       "\n",
       "   filter_dim_1  ... filter_dim_4 filter_dim_5 kernel_size learning_rate  \\\n",
       "2          \"32\"  ...         \"32\"        \"128\"         7.0      0.000337   \n",
       "17         \"64\"  ...         \"32\"        \"128\"         6.0      0.000232   \n",
       "1          \"32\"  ...         \"32\"        \"128\"         4.0      0.000222   \n",
       "0          \"32\"  ...         \"32\"         \"64\"         7.0      0.000232   \n",
       "27         \"64\"  ...        \"128\"        \"128\"         3.0      0.001082   \n",
       "18         \"64\"  ...        \"128\"        \"128\"         7.0      0.001021   \n",
       "32         \"64\"  ...         \"32\"        \"128\"         6.0      0.000835   \n",
       "31         \"32\"  ...         \"64\"         \"64\"         7.0      0.000191   \n",
       "30         \"64\"  ...        \"128\"         \"64\"         3.0      0.002939   \n",
       "11         \"64\"  ...         \"32\"        \"128\"         7.0      0.001237   \n",
       "\n",
       "                                  TrainingJobName  TrainingJobStatus  \\\n",
       "2   cnn-hpo-job-2023-04--230429-2307-048-37aeaea3          Completed   \n",
       "17  cnn-hpo-job-2023-04--230429-2307-033-c877c889          Completed   \n",
       "1   cnn-hpo-job-2023-04--230429-2307-049-7bf2aa37          Completed   \n",
       "0   cnn-hpo-job-2023-04--230429-2307-050-dd7d90f7          Completed   \n",
       "27  cnn-hpo-job-2023-04--230429-2307-023-5d8b7676          Completed   \n",
       "18  cnn-hpo-job-2023-04--230429-2307-032-3e229e0c          Completed   \n",
       "32  cnn-hpo-job-2023-04--230429-2307-018-e884392b          Completed   \n",
       "31  cnn-hpo-job-2023-04--230429-2307-019-040975bb          Completed   \n",
       "30  cnn-hpo-job-2023-04--230429-2307-020-8b0f4e29          Completed   \n",
       "11  cnn-hpo-job-2023-04--230429-2307-039-efcceea8          Completed   \n",
       "\n",
       "   FinalObjectiveValue         TrainingStartTime           TrainingEndTime  \\\n",
       "2             0.800000 2023-04-29 23:28:54+00:00 2023-04-29 23:30:21+00:00   \n",
       "17            0.793333 2023-04-29 23:22:04+00:00 2023-04-29 23:23:46+00:00   \n",
       "1             0.780000 2023-04-29 23:29:12+00:00 2023-04-29 23:30:59+00:00   \n",
       "0             0.773333 2023-04-29 23:29:30+00:00 2023-04-29 23:31:26+00:00   \n",
       "27            0.773333 2023-04-29 23:18:03+00:00 2023-04-29 23:19:30+00:00   \n",
       "18            0.773333 2023-04-29 23:21:45+00:00 2023-04-29 23:23:20+00:00   \n",
       "32            0.766667 2023-04-29 23:15:45+00:00 2023-04-29 23:17:03+00:00   \n",
       "31            0.766667 2023-04-29 23:16:05+00:00 2023-04-29 23:18:01+00:00   \n",
       "30            0.766667 2023-04-29 23:16:23+00:00 2023-04-29 23:17:55+00:00   \n",
       "11            0.763333 2023-04-29 23:24:32+00:00 2023-04-29 23:26:54+00:00   \n",
       "\n",
       "   TrainingElapsedTimeSeconds  \n",
       "2                        87.0  \n",
       "17                      102.0  \n",
       "1                       107.0  \n",
       "0                       116.0  \n",
       "27                       87.0  \n",
       "18                       95.0  \n",
       "32                       78.0  \n",
       "31                      116.0  \n",
       "30                       92.0  \n",
       "11                      142.0  \n",
       "\n",
       "[10 rows x 22 columns]"
      ]
     },
     "execution_count": 8,
     "metadata": {},
     "output_type": "execute_result"
    }
   ],
   "source": [
    "hpo_analytics = sagemaker.HyperparameterTuningJobAnalytics(hpo_tuner.latest_tuning_job.name)\n",
    "\n",
    "hpo_results = hpo_analytics.dataframe()\n",
    "\n",
    "hpo_results.sort_values(\"FinalObjectiveValue\", ascending=False).head(10)"
   ]
  },
  {
   "cell_type": "code",
   "execution_count": 16,
   "id": "3f1a385c-f3f3-4e06-abb8-5c0c8431c95b",
   "metadata": {
    "tags": []
   },
   "outputs": [
    {
     "data": {
      "text/html": [
       "\n",
       "  <div class=\"bk-root\" id=\"bc79c7d6-575a-46dd-9052-a19edb6e36b9\" data-root-id=\"1955\"></div>\n"
      ]
     },
     "metadata": {},
     "output_type": "display_data"
    },
    {
     "data": {
      "application/javascript": [
       "(function(root) {\n",
       "  function embed_document(root) {\n",
       "  const docs_json = {\"7c531439-2658-468b-b5a0-3afa70353794\":{\"defs\":[],\"roots\":{\"references\":[{\"attributes\":{\"below\":[{\"id\":\"1964\"}],\"center\":[{\"id\":\"1967\"},{\"id\":\"1971\"}],\"height\":400,\"left\":[{\"id\":\"1968\"}],\"renderers\":[{\"id\":\"1993\"}],\"title\":{\"id\":\"1995\"},\"toolbar\":{\"id\":\"1979\"},\"width\":900,\"x_range\":{\"id\":\"1956\"},\"x_scale\":{\"id\":\"1960\"},\"y_range\":{\"id\":\"1958\"},\"y_scale\":{\"id\":\"1962\"}},\"id\":\"1955\",\"subtype\":\"Figure\",\"type\":\"Plot\"},{\"attributes\":{\"data\":{\"FinalObjectiveValue\":{\"__ndarray__\":\"AAAAgCW/6D8AAACAwvXoPwAAAKCZmek/AAAAgLHk5z8AAAAAjCXnPwAAAIDrUeg/AAAA4LSB5j8AAACAd3fnPwAAAGBmZuY/AAAAgBSu5z8AAAAAnTboPwAAAAA6beg/AAAAADpt6D8AAABgA53mPwAAAAA6beg/AAAAYLge5T8AAABgA53mPwAAAKD8Yuk/AAAAgCW/6D8AAABguB7lPwAAAACdNug/AAAAYI/C5T8AAACA2kDnPwAAAIDrUeg/AAAA4LSB5j8AAACAThvoPwAAAIA9Cuc/AAAAgCW/6D8AAADgtIHmPwAAAGBmZuY/AAAAgIiI6D8AAACAiIjoPwAAAICIiOg/AAAAgE4b6D8AAACAd3fnPwAAAADGkuc/AAAAAClc5z8AAAAAOm3oPwAAAGC4HuU/AAAAgBSu5z8AAACA61HoPwAAAIDaQOc/AAAAAClc5z8AAADg7u7mPwAAAODu7uY/AAAAgBSu5z8AAAAAAADoPwAAAGBVVeU/AAAAAGPJ5z8AAACAseTnPw==\",\"dtype\":\"float64\",\"order\":\"little\",\"shape\":[50]},\"TrainingElapsedTimeSeconds\":{\"__ndarray__\":\"AAAAAAAAXUAAAAAAAMBaQAAAAAAAwFVAAAAAAADAVUAAAAAAAMBWQAAAAAAAwFZAAAAAAACAVUAAAAAAAIBaQAAAAAAAAFJAAAAAAADAYUAAAAAAAEBYQAAAAAAAwGFAAAAAAACAVEAAAAAAACBhQAAAAAAAAFdAAAAAAADAVUAAAAAAAEBTQAAAAAAAgFlAAAAAAADAV0AAAAAAACBkQAAAAAAAgFRAAAAAAACATEAAAAAAAMBVQAAAAAAAQFNAAAAAAAAAUkAAAAAAAEBhQAAAAAAAQGFAAAAAAADAVUAAAAAAAEBdQAAAAAAAAEpAAAAAAAAAV0AAAAAAAABdQAAAAAAAgFNAAAAAAABAXkAAAAAAAABjQAAAAAAAwFZAAAAAAADAVUAAAAAAAIBdQAAAAAAAwFtAAAAAAADAUUAAAAAAAEBTQAAAAAAAwFVAAAAAAACAUEAAAAAAAMBVQAAAAAAAQFNAAAAAAAAAY0AAAAAAAGBiQAAAAAAAQFlAAAAAAAAAYUAAAAAAAOBiQA==\",\"dtype\":\"float64\",\"order\":\"little\",\"shape\":[50]},\"TrainingEndTime\":{\"__ndarray__\":\"AABLtvV8eEIAgLOv9Xx4QgCAbKb1fHhCAIANofV8eEIAgE+W9Xx4QgCAbZH1fHhCAICRi/V8eEIAgIWN9Xx4QgCAgHn1fHhCAAD0hfV8eEIAgMht9Xx4QgAA43P1fHhCAICfX/V8eEIAgM5s9Xx4QgCALl31fHhCAICITvV8eEIAgEdE9Xx4QgAA/UX1fHhCAACkP/V8eEIAgB1L9Xx4QgCAMDP1fHhCAABGJfV8eEIAALcn9Xx4QgAA4SD1fHhCAADWDfV8eEIAAHYd9Xx4QgCA0hj1fHhCAAB9B/V8eEIAgCwK9Xx4QgAAbPX0fHhCAIBL8PR8eEIAgMLx9Hx4QgCAmeP0fHhCAAC66PR8eEIAgBDl9Hx4QgAARNL0fHhCAABozPR8eEIAAG7L9Hx4QgAAFcX0fHhCAIAqt/R8eEIAgDy09Hx4QgAAELH0fHhCAABepPR8eEIAgBml9Hx4QgCAT5z0fHhCAAAXm/R8eEIAgPaV9Hx4QgAArYL0fHhCAIA+ivR8eEIAAOiN9Hx4Qg==\",\"dtype\":\"float64\",\"order\":\"little\",\"shape\":[50]},\"TrainingJobName\":[\"cnn-hpo-job-2023-04--230429-2307-050-dd7d90f7\",\"cnn-hpo-job-2023-04--230429-2307-049-7bf2aa37\",\"cnn-hpo-job-2023-04--230429-2307-048-37aeaea3\",\"cnn-hpo-job-2023-04--230429-2307-047-46472056\",\"cnn-hpo-job-2023-04--230429-2307-046-779ef099\",\"cnn-hpo-job-2023-04--230429-2307-045-a9c62b32\",\"cnn-hpo-job-2023-04--230429-2307-044-03af83f3\",\"cnn-hpo-job-2023-04--230429-2307-043-dc1ca444\",\"cnn-hpo-job-2023-04--230429-2307-042-9d7f2641\",\"cnn-hpo-job-2023-04--230429-2307-041-c21ae1d1\",\"cnn-hpo-job-2023-04--230429-2307-040-deb00047\",\"cnn-hpo-job-2023-04--230429-2307-039-efcceea8\",\"cnn-hpo-job-2023-04--230429-2307-038-155a88d7\",\"cnn-hpo-job-2023-04--230429-2307-037-1a92cc70\",\"cnn-hpo-job-2023-04--230429-2307-036-5c6526ac\",\"cnn-hpo-job-2023-04--230429-2307-035-540ec71d\",\"cnn-hpo-job-2023-04--230429-2307-034-6dee8e18\",\"cnn-hpo-job-2023-04--230429-2307-033-c877c889\",\"cnn-hpo-job-2023-04--230429-2307-032-3e229e0c\",\"cnn-hpo-job-2023-04--230429-2307-031-683c7643\",\"cnn-hpo-job-2023-04--230429-2307-030-f0b3c80c\",\"cnn-hpo-job-2023-04--230429-2307-029-01f0ea7c\",\"cnn-hpo-job-2023-04--230429-2307-028-f5fe6427\",\"cnn-hpo-job-2023-04--230429-2307-027-bd692e1e\",\"cnn-hpo-job-2023-04--230429-2307-026-bd4e70a8\",\"cnn-hpo-job-2023-04--230429-2307-025-0ea14235\",\"cnn-hpo-job-2023-04--230429-2307-024-a79234e2\",\"cnn-hpo-job-2023-04--230429-2307-023-5d8b7676\",\"cnn-hpo-job-2023-04--230429-2307-022-aa616d2e\",\"cnn-hpo-job-2023-04--230429-2307-021-66eb9f80\",\"cnn-hpo-job-2023-04--230429-2307-020-8b0f4e29\",\"cnn-hpo-job-2023-04--230429-2307-019-040975bb\",\"cnn-hpo-job-2023-04--230429-2307-018-e884392b\",\"cnn-hpo-job-2023-04--230429-2307-017-36e48d22\",\"cnn-hpo-job-2023-04--230429-2307-016-759ff566\",\"cnn-hpo-job-2023-04--230429-2307-015-72cc24c8\",\"cnn-hpo-job-2023-04--230429-2307-014-d4c24fb1\",\"cnn-hpo-job-2023-04--230429-2307-013-ee41c17d\",\"cnn-hpo-job-2023-04--230429-2307-012-e97f70f5\",\"cnn-hpo-job-2023-04--230429-2307-011-6063c460\",\"cnn-hpo-job-2023-04--230429-2307-010-0e7d4b4f\",\"cnn-hpo-job-2023-04--230429-2307-009-965cfa3e\",\"cnn-hpo-job-2023-04--230429-2307-008-5c6e48eb\",\"cnn-hpo-job-2023-04--230429-2307-007-40d5ca3c\",\"cnn-hpo-job-2023-04--230429-2307-006-4535253f\",\"cnn-hpo-job-2023-04--230429-2307-005-bb13d47f\",\"cnn-hpo-job-2023-04--230429-2307-004-2b9010fe\",\"cnn-hpo-job-2023-04--230429-2307-003-21baf431\",\"cnn-hpo-job-2023-04--230429-2307-002-961e39f2\",\"cnn-hpo-job-2023-04--230429-2307-001-943c3e4c\"],\"TrainingJobStatus\":[\"Completed\",\"Completed\",\"Completed\",\"Completed\",\"Completed\",\"Completed\",\"Completed\",\"Completed\",\"Completed\",\"Completed\",\"Completed\",\"Completed\",\"Completed\",\"Completed\",\"Completed\",\"Completed\",\"Completed\",\"Completed\",\"Completed\",\"Completed\",\"Completed\",\"Completed\",\"Completed\",\"Completed\",\"Completed\",\"Completed\",\"Completed\",\"Completed\",\"Completed\",\"Completed\",\"Completed\",\"Completed\",\"Completed\",\"Completed\",\"Completed\",\"Completed\",\"Completed\",\"Completed\",\"Completed\",\"Completed\",\"Completed\",\"Completed\",\"Completed\",\"Completed\",\"Completed\",\"Completed\",\"Completed\",\"Completed\",\"Completed\",\"Completed\"],\"TrainingStartTime\":{\"__ndarray__\":\"AAD5mfV8eEIAAJSV9Xx4QgAAL5H1fHhCAADQi/V8eEIAABiA9Xx4QgAANnv1fHhCAICSdvV8eEIAgKRz9Xx4QgCA7Gf1fHhCAABJY/V8eEIAABpW9Xx4QgAAOFH1fHhCAICaS/V8eEIAAFxL9Xx4QgCAuEb1fHhCAABLOfV8eEIAAHsx9Xx4QgAAFi31fHhCAIByKPV8eEIAAM8j9Xx4QgCAKx/1fHhCAIBbF/V8eEIAgHkS9Xx4QgCAFA71fHhCAABC/PR8eEIAAMX79Hx4QgCAIff0fHhCAIA/8vR8eEIAAJzt9Hx4QgAAuuj0fHhCAIDV2fR8eEIAgHDV9Hx4QgCAjtD0fHhCAIAvy/R8eEIAgPS/9Hx4QgCADLz0fHhCAIAqt/R8eEIAAJ+u9Hx4QgCA+6n0fHhCAADVpfR8eEIAAHCh9Hx4QgCA0pv0fHhCAABBlPR8eEIAANyP9Hx4QgAAg4n0fHhCAAD7dfR8eEIAABNy9Hx4QgCABGr0fHhCAIAKafR8eEIAgApp9Hx4Qg==\",\"dtype\":\"float64\",\"order\":\"little\",\"shape\":[50]},\"batch_norm_momentum\":{\"__ndarray__\":\"JoG+ZSs+7D8EqBAdXnTrP7tQOWWvKes/5LucHHCY7D/AEqtMeM3qPzMyOpfA1+k/zlhLsAPY6D+xITQ/MhvqP/dziGJkweg/2bf4bo4i6j+FwmW44JLoP9RIqVQCYOw/5yEYOwUQ7z/HKHtFbNTsP1536vOOk+g/8SIOiKhP6z/pgrD5l9HrP7P3xILghus/9YM8XC9w6z8AAAAAAADoP3h1QQ80/ek/US9mjxGu7z/mBiEKLBXsP5lnJdYBQ+w/JbHkK7XW6D+BsDJrebvoP2RVbw71VOs/Y+oxqeu06z8NJJyIObTsP6ySsYjDP+k/zf+PaNxT6T/wkgsWno/oPxX8t4rFO+o/7f27vXGa7T8ee4kOdVvqPzf11mrKGes/gX2/03Dj6D8ORvYXo7foP/APBPOh4us/UiGVCYX77j9JavP6tf7pP0j81Z2X7e0/AAAAAAAA6D9pxQhiqSntPy+lvt7sEe0/36sq1l3F7T9kivgPBJfsP/vhaUCcxOs/bkc8ZUXM6D/lKyytmyboPw==\",\"dtype\":\"float64\",\"order\":\"little\",\"shape\":[50]},\"batch_size\":[\"\\\"128\\\"\",\"\\\"128\\\"\",\"\\\"128\\\"\",\"\\\"64\\\"\",\"\\\"128\\\"\",\"\\\"128\\\"\",\"\\\"256\\\"\",\"\\\"64\\\"\",\"\\\"128\\\"\",\"\\\"128\\\"\",\"\\\"256\\\"\",\"\\\"128\\\"\",\"\\\"64\\\"\",\"\\\"256\\\"\",\"\\\"256\\\"\",\"\\\"256\\\"\",\"\\\"256\\\"\",\"\\\"128\\\"\",\"\\\"256\\\"\",\"\\\"256\\\"\",\"\\\"256\\\"\",\"\\\"256\\\"\",\"\\\"256\\\"\",\"\\\"256\\\"\",\"\\\"128\\\"\",\"\\\"256\\\"\",\"\\\"128\\\"\",\"\\\"256\\\"\",\"\\\"256\\\"\",\"\\\"128\\\"\",\"\\\"256\\\"\",\"\\\"256\\\"\",\"\\\"128\\\"\",\"\\\"256\\\"\",\"\\\"128\\\"\",\"\\\"128\\\"\",\"\\\"128\\\"\",\"\\\"128\\\"\",\"\\\"128\\\"\",\"\\\"256\\\"\",\"\\\"128\\\"\",\"\\\"128\\\"\",\"\\\"128\\\"\",\"\\\"256\\\"\",\"\\\"64\\\"\",\"\\\"256\\\"\",\"\\\"128\\\"\",\"\\\"256\\\"\",\"\\\"256\\\"\",\"\\\"128\\\"\"],\"clipnorm\":{\"__ndarray__\":\"p0kAtBYi4T/C62kNkg3sP3rPaYrTl+0/wQbb6W/wzz9+DWc6iHfkP0oLSvuqOtE/pOaDdStA1T9QdMFJ8C/oP3ICiz4Kuds/Kpt0UtQs6j/NyyViQBLiP5ZJfYmjHuY/ThYu7/zq7T+Ar6qSpOLnPyCdX+DPKtQ/PRZeV3OH1j9ophrBl63cP8GISsXgCt4/ItvCRZ2I5j+WYP1R9xLtP3DqdUqJxe8/eHExtjbH6j8+DBchqU/tPwR3qwDb9e4/1qcTEF734j8290GZLCbrP5qZmZmZmck/GlxZ6H3o1z8SFGIBk03sP2rmdQAQ684/DhTdqzDi7D8ayjH4UwrQP1N+enRfA9Q/3rvS6Ap54D/bOrA5RbbXP+4ZAs9/oe0/hLo709t/4D9lgBvizXTKP3xgLtm1Lew/ULzTJSYu6j+kjjJ+N9PuP5qZmZmZmck/XtvxzMrE6z/nRIFIFNzcP08zfCPb09I/FqlapzPG7j8qn2oPGv3mP9c4cOpTlMs/UruOxA7s0T9CsvlmOnzuPw==\",\"dtype\":\"float64\",\"order\":\"little\",\"shape\":[50]},\"conv2d_regularizer_decay\":{\"__ndarray__\":\"xzoCbUY3Fz/YFJmJhL57PmBi9/EbZOM+iKSu8GNo0j5KCWrbLpc6P3QNt6zRlSM/wEmfju0saz6L5dT1KnCBPuKXAYlbfxY/TYZcQ/9Tcj7X9Mh6iK1XPmFgidy6fSQ/LAE2zLV14T7RpuY0imgYP4sqq2OOSoM+st7TCObWeT5qpKkTpHvGPtTDQLOdtiw/SH5JPrC4eT5/vwTQrJElP9VDlkWmPQc/S9oIrAcAnT4hBpFhu63jPqEwmMXjdtw+Ilj2wNrHPz+yJWQC+Z+XPkEyhKIQxOA+XpsCOYt/qz6Ip9e2+50MP4XKCGS7qqg+Y8/3eLvOXj7sRKLiANGzPqkWZnmyzX0+r/GEJHt4WT6giCEjdw7IPp6eR43PwpE+sl4ljbCeKz858dfR64tcPv9EO4B8ctw+gANAmVU8wj6WMt88S/TlPjqMMOKOeUU+/z8I3/JO5D6jI0yPT27HPtNX0sdSJGc+J0JMm3s0IT+/F0SJp37KPl+UpSTx/vs+TEw7uHytkD62ctg76q0PPw==\",\"dtype\":\"float64\",\"order\":\"little\",\"shape\":[50]},\"dense_regularizer_decay\":{\"__ndarray__\":\"KgsL6tTWhT7qh8qmoTuBPjqMMOKOeUU+Ooww4o55RT5ewVLIyoEMPxOm9kRYb1A+rcOMsYi5Bj/TAPolN3AzP+z1g/hyyLg+Ooww4o55RT6kYkkWtcOIPuDFwR0wlNY+Ec1xdKdhHT9zlDl6Saj0PnbjPeiob7U+VEqVQXfQTj9g238SF6j3PgkOND+5wHs+yvzKwtuNID9DzXEfRv6rPv+8L0dKPyE/62jNyHyuNj8Z1QXAMHR4PgGAdQKDpzs/RZUyCu6LMz9mZ8Xk1S1xPqslCk1PfEg//Knx0k1iUD8x/c2KUeU9P59DhHahEFA/2kv5hrH7mT7SuoEeFe1IPvyp8dJNYlA/tez2lRvjSD701skFRZE0P82DOGFNEjg/WjArahn1SD7FI1z/Z2kjP2AZYWljt38+pL+kdYoPtD5vGL4pz5EQPzqMMOKOeUU+S79j29DktD4euSG8NdcSP0LQGZ2IsO4+I41oZGNpNT+H4jhbqAWhPuGGEdSAZK0+7v63kQO9eD6G9LgyQVTePg==\",\"dtype\":\"float64\",\"order\":\"little\",\"shape\":[50]},\"dense_units_1\":[\"\\\"64\\\"\",\"\\\"64\\\"\",\"\\\"64\\\"\",\"\\\"64\\\"\",\"\\\"64\\\"\",\"\\\"64\\\"\",\"\\\"32\\\"\",\"\\\"64\\\"\",\"\\\"64\\\"\",\"\\\"64\\\"\",\"\\\"64\\\"\",\"\\\"64\\\"\",\"\\\"64\\\"\",\"\\\"32\\\"\",\"\\\"64\\\"\",\"\\\"32\\\"\",\"\\\"64\\\"\",\"\\\"64\\\"\",\"\\\"64\\\"\",\"\\\"32\\\"\",\"\\\"64\\\"\",\"\\\"64\\\"\",\"\\\"64\\\"\",\"\\\"64\\\"\",\"\\\"64\\\"\",\"\\\"32\\\"\",\"\\\"64\\\"\",\"\\\"64\\\"\",\"\\\"64\\\"\",\"\\\"64\\\"\",\"\\\"64\\\"\",\"\\\"64\\\"\",\"\\\"64\\\"\",\"\\\"32\\\"\",\"\\\"32\\\"\",\"\\\"64\\\"\",\"\\\"32\\\"\",\"\\\"64\\\"\",\"\\\"32\\\"\",\"\\\"64\\\"\",\"\\\"64\\\"\",\"\\\"32\\\"\",\"\\\"64\\\"\",\"\\\"32\\\"\",\"\\\"32\\\"\",\"\\\"64\\\"\",\"\\\"32\\\"\",\"\\\"32\\\"\",\"\\\"32\\\"\",\"\\\"64\\\"\"],\"dense_units_2\":[\"\\\"64\\\"\",\"\\\"64\\\"\",\"\\\"64\\\"\",\"\\\"64\\\"\",\"\\\"32\\\"\",\"\\\"64\\\"\",\"\\\"32\\\"\",\"\\\"32\\\"\",\"\\\"32\\\"\",\"\\\"64\\\"\",\"\\\"32\\\"\",\"\\\"64\\\"\",\"\\\"64\\\"\",\"\\\"64\\\"\",\"\\\"32\\\"\",\"\\\"32\\\"\",\"\\\"64\\\"\",\"\\\"64\\\"\",\"\\\"64\\\"\",\"\\\"32\\\"\",\"\\\"64\\\"\",\"\\\"32\\\"\",\"\\\"64\\\"\",\"\\\"64\\\"\",\"\\\"32\\\"\",\"\\\"64\\\"\",\"\\\"64\\\"\",\"\\\"32\\\"\",\"\\\"64\\\"\",\"\\\"32\\\"\",\"\\\"64\\\"\",\"\\\"32\\\"\",\"\\\"32\\\"\",\"\\\"32\\\"\",\"\\\"32\\\"\",\"\\\"32\\\"\",\"\\\"64\\\"\",\"\\\"64\\\"\",\"\\\"32\\\"\",\"\\\"32\\\"\",\"\\\"32\\\"\",\"\\\"64\\\"\",\"\\\"64\\\"\",\"\\\"32\\\"\",\"\\\"64\\\"\",\"\\\"32\\\"\",\"\\\"64\\\"\",\"\\\"64\\\"\",\"\\\"32\\\"\",\"\\\"64\\\"\"],\"dropout_rate\":{\"__ndarray__\":\"/8BaN9nRxz8PEwG3MdDBPzGa2vX9zrU/KIsuNZls0j+Q9BAfVxLVPxphNeqw+tM/vT29EZEN0D/ImCGTgoLHP580yl/j7dc/D+NKCn1tzz/NafYlfjPXPwr2NyGFxdU/GiF+dnoShj+WwODCxwbYP621HvWfKsg/n36YJBqO2T8VVu1byUvIPw2vOs6ATcI//PR24y3J1D8Im//hZD/YPwAAAAAAAAAAAAAAAAAAAACVpNAq/p7VP+jnZnoG3qU/5eNValgKyj+gwEwjdp3DP5qZmZmZmdk/7gHiyUQpyT+amZmZmZnZP8DAHFCSVLg/8xUAIJwxwj+0o3yxJvPEP+ftxqkRjdE/bQVte8862D+amZmZmZnZP1g8C1kKJrY/bAAeVMtmpz8mX9+fbai1P/dYHIdzA9E/2qL734wc0D8HDOyXlgyvP5qZmZmZmdk/AAAAAAAAAACg+YxMvXfUPw873TIfhdQ/F86Pmgskxz/Lsqh/33zSP+XQ7gbYVs4/XXxhx1fOvz+UTvk307e+Pw==\",\"dtype\":\"float64\",\"order\":\"little\",\"shape\":[50]},\"epochs\":{\"__ndarray__\":\"AAAAAAAAMUAAAAAAAAAyQAAAAAAAACxAAAAAAAAAMEAAAAAAAAAuQAAAAAAAADNAAAAAAAAAMkAAAAAAAAA0QAAAAAAAADBAAAAAAAAAKEAAAAAAAAAyQAAAAAAAACZAAAAAAAAANEAAAAAAAAAoQAAAAAAAADFAAAAAAAAAM0AAAAAAAAAyQAAAAAAAADRAAAAAAAAAMUAAAAAAAAAkQAAAAAAAADRAAAAAAAAANEAAAAAAAAAkQAAAAAAAADRAAAAAAAAAM0AAAAAAAAAoQAAAAAAAACRAAAAAAAAAKkAAAAAAAAAkQAAAAAAAADFAAAAAAAAALkAAAAAAAAAsQAAAAAAAAC5AAAAAAAAANEAAAAAAAAAsQAAAAAAAADBAAAAAAAAAKEAAAAAAAAAkQAAAAAAAACpAAAAAAAAANEAAAAAAAAA0QAAAAAAAADRAAAAAAAAANEAAAAAAAAAwQAAAAAAAADFAAAAAAAAAKEAAAAAAAAAoQAAAAAAAACxAAAAAAAAAJEAAAAAAAAAmQA==\",\"dtype\":\"float64\",\"order\":\"little\",\"shape\":[50]},\"filter_dim_1\":[\"\\\"32\\\"\",\"\\\"32\\\"\",\"\\\"32\\\"\",\"\\\"64\\\"\",\"\\\"64\\\"\",\"\\\"64\\\"\",\"\\\"64\\\"\",\"\\\"32\\\"\",\"\\\"32\\\"\",\"\\\"128\\\"\",\"\\\"32\\\"\",\"\\\"64\\\"\",\"\\\"64\\\"\",\"\\\"64\\\"\",\"\\\"128\\\"\",\"\\\"64\\\"\",\"\\\"128\\\"\",\"\\\"64\\\"\",\"\\\"64\\\"\",\"\\\"64\\\"\",\"\\\"64\\\"\",\"\\\"64\\\"\",\"\\\"64\\\"\",\"\\\"32\\\"\",\"\\\"32\\\"\",\"\\\"64\\\"\",\"\\\"64\\\"\",\"\\\"64\\\"\",\"\\\"64\\\"\",\"\\\"64\\\"\",\"\\\"64\\\"\",\"\\\"32\\\"\",\"\\\"64\\\"\",\"\\\"64\\\"\",\"\\\"32\\\"\",\"\\\"32\\\"\",\"\\\"64\\\"\",\"\\\"64\\\"\",\"\\\"128\\\"\",\"\\\"128\\\"\",\"\\\"64\\\"\",\"\\\"32\\\"\",\"\\\"64\\\"\",\"\\\"64\\\"\",\"\\\"32\\\"\",\"\\\"32\\\"\",\"\\\"32\\\"\",\"\\\"128\\\"\",\"\\\"64\\\"\",\"\\\"64\\\"\"],\"filter_dim_2\":[\"\\\"32\\\"\",\"\\\"64\\\"\",\"\\\"32\\\"\",\"\\\"32\\\"\",\"\\\"32\\\"\",\"\\\"64\\\"\",\"\\\"128\\\"\",\"\\\"128\\\"\",\"\\\"128\\\"\",\"\\\"32\\\"\",\"\\\"64\\\"\",\"\\\"32\\\"\",\"\\\"128\\\"\",\"\\\"32\\\"\",\"\\\"32\\\"\",\"\\\"32\\\"\",\"\\\"128\\\"\",\"\\\"32\\\"\",\"\\\"32\\\"\",\"\\\"32\\\"\",\"\\\"32\\\"\",\"\\\"32\\\"\",\"\\\"32\\\"\",\"\\\"64\\\"\",\"\\\"128\\\"\",\"\\\"64\\\"\",\"\\\"128\\\"\",\"\\\"32\\\"\",\"\\\"32\\\"\",\"\\\"32\\\"\",\"\\\"64\\\"\",\"\\\"128\\\"\",\"\\\"32\\\"\",\"\\\"32\\\"\",\"\\\"32\\\"\",\"\\\"128\\\"\",\"\\\"32\\\"\",\"\\\"128\\\"\",\"\\\"128\\\"\",\"\\\"32\\\"\",\"\\\"32\\\"\",\"\\\"32\\\"\",\"\\\"32\\\"\",\"\\\"32\\\"\",\"\\\"64\\\"\",\"\\\"128\\\"\",\"\\\"32\\\"\",\"\\\"64\\\"\",\"\\\"32\\\"\",\"\\\"32\\\"\"],\"filter_dim_3\":[\"\\\"128\\\"\",\"\\\"128\\\"\",\"\\\"128\\\"\",\"\\\"128\\\"\",\"\\\"128\\\"\",\"\\\"128\\\"\",\"\\\"64\\\"\",\"\\\"128\\\"\",\"\\\"32\\\"\",\"\\\"128\\\"\",\"\\\"32\\\"\",\"\\\"128\\\"\",\"\\\"128\\\"\",\"\\\"64\\\"\",\"\\\"128\\\"\",\"\\\"32\\\"\",\"\\\"128\\\"\",\"\\\"128\\\"\",\"\\\"32\\\"\",\"\\\"128\\\"\",\"\\\"32\\\"\",\"\\\"32\\\"\",\"\\\"32\\\"\",\"\\\"32\\\"\",\"\\\"64\\\"\",\"\\\"128\\\"\",\"\\\"64\\\"\",\"\\\"32\\\"\",\"\\\"128\\\"\",\"\\\"32\\\"\",\"\\\"64\\\"\",\"\\\"128\\\"\",\"\\\"128\\\"\",\"\\\"128\\\"\",\"\\\"32\\\"\",\"\\\"128\\\"\",\"\\\"128\\\"\",\"\\\"128\\\"\",\"\\\"128\\\"\",\"\\\"32\\\"\",\"\\\"128\\\"\",\"\\\"32\\\"\",\"\\\"32\\\"\",\"\\\"64\\\"\",\"\\\"128\\\"\",\"\\\"128\\\"\",\"\\\"32\\\"\",\"\\\"128\\\"\",\"\\\"64\\\"\",\"\\\"32\\\"\"],\"filter_dim_4\":[\"\\\"32\\\"\",\"\\\"32\\\"\",\"\\\"32\\\"\",\"\\\"64\\\"\",\"\\\"32\\\"\",\"\\\"32\\\"\",\"\\\"64\\\"\",\"\\\"32\\\"\",\"\\\"32\\\"\",\"\\\"32\\\"\",\"\\\"32\\\"\",\"\\\"32\\\"\",\"\\\"32\\\"\",\"\\\"32\\\"\",\"\\\"32\\\"\",\"\\\"128\\\"\",\"\\\"32\\\"\",\"\\\"32\\\"\",\"\\\"128\\\"\",\"\\\"128\\\"\",\"\\\"128\\\"\",\"\\\"128\\\"\",\"\\\"128\\\"\",\"\\\"64\\\"\",\"\\\"128\\\"\",\"\\\"64\\\"\",\"\\\"128\\\"\",\"\\\"128\\\"\",\"\\\"64\\\"\",\"\\\"128\\\"\",\"\\\"128\\\"\",\"\\\"64\\\"\",\"\\\"32\\\"\",\"\\\"32\\\"\",\"\\\"128\\\"\",\"\\\"128\\\"\",\"\\\"32\\\"\",\"\\\"64\\\"\",\"\\\"64\\\"\",\"\\\"32\\\"\",\"\\\"32\\\"\",\"\\\"128\\\"\",\"\\\"128\\\"\",\"\\\"32\\\"\",\"\\\"32\\\"\",\"\\\"64\\\"\",\"\\\"128\\\"\",\"\\\"32\\\"\",\"\\\"32\\\"\",\"\\\"128\\\"\"],\"filter_dim_5\":[\"\\\"64\\\"\",\"\\\"128\\\"\",\"\\\"128\\\"\",\"\\\"128\\\"\",\"\\\"64\\\"\",\"\\\"128\\\"\",\"\\\"64\\\"\",\"\\\"32\\\"\",\"\\\"32\\\"\",\"\\\"32\\\"\",\"\\\"32\\\"\",\"\\\"128\\\"\",\"\\\"128\\\"\",\"\\\"32\\\"\",\"\\\"32\\\"\",\"\\\"128\\\"\",\"\\\"32\\\"\",\"\\\"128\\\"\",\"\\\"128\\\"\",\"\\\"128\\\"\",\"\\\"128\\\"\",\"\\\"128\\\"\",\"\\\"128\\\"\",\"\\\"128\\\"\",\"\\\"64\\\"\",\"\\\"64\\\"\",\"\\\"64\\\"\",\"\\\"128\\\"\",\"\\\"64\\\"\",\"\\\"128\\\"\",\"\\\"64\\\"\",\"\\\"64\\\"\",\"\\\"128\\\"\",\"\\\"32\\\"\",\"\\\"64\\\"\",\"\\\"64\\\"\",\"\\\"32\\\"\",\"\\\"32\\\"\",\"\\\"128\\\"\",\"\\\"32\\\"\",\"\\\"128\\\"\",\"\\\"32\\\"\",\"\\\"64\\\"\",\"\\\"128\\\"\",\"\\\"32\\\"\",\"\\\"32\\\"\",\"\\\"32\\\"\",\"\\\"64\\\"\",\"\\\"128\\\"\",\"\\\"64\\\"\"],\"index\":[0,1,2,3,4,5,6,7,8,9,10,11,12,13,14,15,16,17,18,19,20,21,22,23,24,25,26,27,28,29,30,31,32,33,34,35,36,37,38,39,40,41,42,43,44,45,46,47,48,49],\"kernel_size\":{\"__ndarray__\":\"AAAAAAAAHEAAAAAAAAAQQAAAAAAAABxAAAAAAAAAHEAAAAAAAAAYQAAAAAAAABxAAAAAAAAAHEAAAAAAAAAUQAAAAAAAABBAAAAAAAAAHEAAAAAAAAAIQAAAAAAAABxAAAAAAAAAEEAAAAAAAAAIQAAAAAAAABBAAAAAAAAACEAAAAAAAAAIQAAAAAAAABhAAAAAAAAAHEAAAAAAAAAYQAAAAAAAAAhAAAAAAAAACEAAAAAAAAAYQAAAAAAAABBAAAAAAAAACEAAAAAAAAAIQAAAAAAAABxAAAAAAAAACEAAAAAAAAAUQAAAAAAAABBAAAAAAAAACEAAAAAAAAAcQAAAAAAAABhAAAAAAAAAHEAAAAAAAAAQQAAAAAAAABxAAAAAAAAAGEAAAAAAAAAIQAAAAAAAAAhAAAAAAAAACEAAAAAAAAAYQAAAAAAAABBAAAAAAAAAGEAAAAAAAAAIQAAAAAAAABxAAAAAAAAAHEAAAAAAAAAcQAAAAAAAABBAAAAAAAAAEEAAAAAAAAAQQA==\",\"dtype\":\"float64\",\"order\":\"little\",\"shape\":[50]},\"learning_rate\":{\"__ndarray__\":\"+LqP8XliLj8Vl6zTvREtP5QRTTHAGzY/j3ZiL3M9LD83cTr+ONMxP6P3cy72jTE/wfQPxessGz/cvFTwnFsmP89a6X4cBnw/M0Mc6+I2Gj9/aOTYw6JhP/qZ6yfQRFQ/K5Fvk4BCaz+rmwgOGRomP2SikE9oy0U/GehLKKV0KT8Izp8t2LJ7PxZa0JojYi4/yKoVSMW4UD/sqm1v7RNwPxelDcWiehs/exSuR+F6hD+GSTan7XlMP+UaUNfr+iQ/A3FYLqXFWj+R9fJJ0KskP1oQ6nLbRSc/heNff6q6UT9VhMUDc8tmPxHsF8VcO2I/qoFp+FETaD+FM3iZIxcpPz6z3xIeYEs/CgrHL7O7Zz97FK5H4XqEP+q1lSt292s/QA5PPcFVRD8K7kNqcglJP3sUrkfheoQ/hwBqd4AIcD+B2k0RcCB6P/vBV+xewXk/M0Mc6+I2Gj9CSSRSuIAkP7d8DeIcyIM/WwePzJ7bHT/qG5lVTDk5P1qlBuqeGks/xs21gpe+PT838EEyd4k3Pw==\",\"dtype\":\"float64\",\"order\":\"little\",\"shape\":[50]}},\"selected\":{\"id\":\"2005\"},\"selection_policy\":{\"id\":\"2004\"}},\"id\":\"1988\",\"type\":\"ColumnDataSource\"},{\"attributes\":{},\"id\":\"2004\",\"type\":\"UnionRenderers\"},{\"attributes\":{},\"id\":\"1958\",\"type\":\"DataRange1d\"},{\"attributes\":{},\"id\":\"1972\",\"type\":\"PanTool\"},{\"attributes\":{},\"id\":\"2003\",\"type\":\"AllLabels\"},{\"attributes\":{\"fill_alpha\":{\"value\":0.1},\"fill_color\":{\"value\":\"#1f77b4\"},\"hatch_alpha\":{\"value\":0.1},\"line_alpha\":{\"value\":0.1},\"line_color\":{\"value\":\"#1f77b4\"},\"x\":{\"field\":\"TrainingStartTime\"},\"y\":{\"field\":\"FinalObjectiveValue\"}},\"id\":\"1991\",\"type\":\"Circle\"},{\"attributes\":{\"months\":[0,6]},\"id\":\"2016\",\"type\":\"MonthsTicker\"},{\"attributes\":{},\"id\":\"1960\",\"type\":\"LinearScale\"},{\"attributes\":{\"num_minor_ticks\":5,\"tickers\":[{\"id\":\"2006\"},{\"id\":\"2007\"},{\"id\":\"2008\"},{\"id\":\"2009\"},{\"id\":\"2010\"},{\"id\":\"2011\"},{\"id\":\"2012\"},{\"id\":\"2013\"},{\"id\":\"2014\"},{\"id\":\"2015\"},{\"id\":\"2016\"},{\"id\":\"2017\"}]},\"id\":\"1965\",\"type\":\"DatetimeTicker\"},{\"attributes\":{},\"id\":\"1962\",\"type\":\"LinearScale\"},{\"attributes\":{\"axis\":{\"id\":\"1964\"},\"coordinates\":null,\"group\":null,\"ticker\":null},\"id\":\"1967\",\"type\":\"Grid\"},{\"attributes\":{},\"id\":\"1969\",\"type\":\"BasicTicker\"},{\"attributes\":{\"months\":[0,4,8]},\"id\":\"2015\",\"type\":\"MonthsTicker\"},{\"attributes\":{\"axis_label\":\"Trial\",\"coordinates\":null,\"formatter\":{\"id\":\"2002\"},\"group\":null,\"major_label_policy\":{\"id\":\"2003\"},\"ticker\":{\"id\":\"1965\"}},\"id\":\"1964\",\"type\":\"DatetimeAxis\"},{\"attributes\":{},\"id\":\"1956\",\"type\":\"DataRange1d\"},{\"attributes\":{\"mantissas\":[1,2,5],\"max_interval\":500.0,\"num_minor_ticks\":0},\"id\":\"2006\",\"type\":\"AdaptiveTicker\"},{\"attributes\":{},\"id\":\"1973\",\"type\":\"CrosshairTool\"},{\"attributes\":{},\"id\":\"1978\",\"type\":\"ResetTool\"},{\"attributes\":{},\"id\":\"2017\",\"type\":\"YearsTicker\"},{\"attributes\":{},\"id\":\"1977\",\"type\":\"UndoTool\"},{\"attributes\":{\"days\":[1,8,15,22]},\"id\":\"2011\",\"type\":\"DaysTicker\"},{\"attributes\":{\"days\":[1,15]},\"id\":\"2012\",\"type\":\"DaysTicker\"},{\"attributes\":{\"base\":60,\"mantissas\":[1,2,5,10,15,20,30],\"max_interval\":1800000.0,\"min_interval\":1000.0,\"num_minor_ticks\":0},\"id\":\"2007\",\"type\":\"AdaptiveTicker\"},{\"attributes\":{},\"id\":\"2005\",\"type\":\"Selection\"},{\"attributes\":{\"coordinates\":null,\"data_source\":{\"id\":\"1988\"},\"glyph\":{\"id\":\"1990\"},\"group\":null,\"hover_glyph\":null,\"muted_glyph\":{\"id\":\"1992\"},\"nonselection_glyph\":{\"id\":\"1991\"},\"view\":{\"id\":\"1994\"}},\"id\":\"1993\",\"type\":\"GlyphRenderer\"},{\"attributes\":{\"months\":[0,1,2,3,4,5,6,7,8,9,10,11]},\"id\":\"2013\",\"type\":\"MonthsTicker\"},{\"attributes\":{\"fill_alpha\":{\"value\":0.2},\"fill_color\":{\"value\":\"#1f77b4\"},\"hatch_alpha\":{\"value\":0.2},\"line_alpha\":{\"value\":0.2},\"line_color\":{\"value\":\"#1f77b4\"},\"x\":{\"field\":\"TrainingStartTime\"},\"y\":{\"field\":\"FinalObjectiveValue\"}},\"id\":\"1992\",\"type\":\"Circle\"},{\"attributes\":{\"tools\":[{\"id\":\"1954\"},{\"id\":\"1972\"},{\"id\":\"1973\"},{\"id\":\"1974\"},{\"id\":\"1975\"},{\"id\":\"1976\"},{\"id\":\"1977\"},{\"id\":\"1978\"}]},\"id\":\"1979\",\"type\":\"Toolbar\"},{\"attributes\":{\"fill_color\":{\"value\":\"#1f77b4\"},\"line_color\":{\"value\":\"#1f77b4\"},\"x\":{\"field\":\"TrainingStartTime\"},\"y\":{\"field\":\"FinalObjectiveValue\"}},\"id\":\"1990\",\"type\":\"Circle\"},{\"attributes\":{\"days\":[1,4,7,10,13,16,19,22,25,28]},\"id\":\"2010\",\"type\":\"DaysTicker\"},{\"attributes\":{\"days\":[1,2,3,4,5,6,7,8,9,10,11,12,13,14,15,16,17,18,19,20,21,22,23,24,25,26,27,28,29,30,31]},\"id\":\"2009\",\"type\":\"DaysTicker\"},{\"attributes\":{\"callback\":null,\"tooltips\":[[\"FinalObjectiveValue\",\"@FinalObjectiveValue\"],[\"TrainingJobName\",\"@TrainingJobName\"],[\"kernel_size\",\"@{kernel_size}\"],[\"epochs\",\"@{epochs}\"],[\"conv2d_regularizer_decay\",\"@{conv2d_regularizer_decay}\"],[\"dense_regularizer_decay\",\"@{dense_regularizer_decay}\"],[\"dropout_rate\",\"@{dropout_rate}\"],[\"batch_norm_momentum\",\"@{batch_norm_momentum}\"],[\"learning_rate\",\"@{learning_rate}\"],[\"clipnorm\",\"@{clipnorm}\"],[\"filter_dim_1\",\"@{filter_dim_1}\"],[\"filter_dim_2\",\"@{filter_dim_2}\"],[\"filter_dim_3\",\"@{filter_dim_3}\"],[\"filter_dim_4\",\"@{filter_dim_4}\"],[\"filter_dim_5\",\"@{filter_dim_5}\"],[\"dense_units_1\",\"@{dense_units_1}\"],[\"dense_units_2\",\"@{dense_units_2}\"],[\"batch_size\",\"@{batch_size}\"]]},\"id\":\"1954\",\"type\":\"HoverTool\"},{\"attributes\":{\"base\":24,\"mantissas\":[1,2,4,6,8,12],\"max_interval\":43200000.0,\"min_interval\":3600000.0,\"num_minor_ticks\":0},\"id\":\"2008\",\"type\":\"AdaptiveTicker\"},{\"attributes\":{\"axis\":{\"id\":\"1968\"},\"coordinates\":null,\"dimension\":1,\"group\":null,\"ticker\":null},\"id\":\"1971\",\"type\":\"Grid\"},{\"attributes\":{\"axis_label\":\"Accuracy\",\"coordinates\":null,\"formatter\":{\"id\":\"1999\"},\"group\":null,\"major_label_policy\":{\"id\":\"2000\"},\"ticker\":{\"id\":\"1969\"}},\"id\":\"1968\",\"type\":\"LinearAxis\"},{\"attributes\":{\"source\":{\"id\":\"1988\"}},\"id\":\"1994\",\"type\":\"CDSView\"},{\"attributes\":{},\"id\":\"2000\",\"type\":\"AllLabels\"},{\"attributes\":{},\"id\":\"1975\",\"type\":\"ZoomInTool\"},{\"attributes\":{},\"id\":\"1999\",\"type\":\"BasicTickFormatter\"},{\"attributes\":{},\"id\":\"2002\",\"type\":\"DatetimeTickFormatter\"},{\"attributes\":{\"coordinates\":null,\"group\":null,\"text\":\"HPO Results\"},\"id\":\"1995\",\"type\":\"Title\"},{\"attributes\":{},\"id\":\"1974\",\"type\":\"WheelZoomTool\"},{\"attributes\":{\"months\":[0,2,4,6,8,10]},\"id\":\"2014\",\"type\":\"MonthsTicker\"},{\"attributes\":{},\"id\":\"1976\",\"type\":\"ZoomOutTool\"}],\"root_ids\":[\"1955\"]},\"title\":\"Bokeh Application\",\"version\":\"2.4.3\"}};\n",
       "  const render_items = [{\"docid\":\"7c531439-2658-468b-b5a0-3afa70353794\",\"root_ids\":[\"1955\"],\"roots\":{\"1955\":\"bc79c7d6-575a-46dd-9052-a19edb6e36b9\"}}];\n",
       "  root.Bokeh.embed.embed_items_notebook(docs_json, render_items);\n",
       "  }\n",
       "  if (root.Bokeh !== undefined) {\n",
       "    embed_document(root);\n",
       "  } else {\n",
       "    let attempts = 0;\n",
       "    const timer = setInterval(function(root) {\n",
       "      if (root.Bokeh !== undefined) {\n",
       "        clearInterval(timer);\n",
       "        embed_document(root);\n",
       "      } else {\n",
       "        attempts++;\n",
       "        if (attempts > 100) {\n",
       "          clearInterval(timer);\n",
       "          console.log(\"Bokeh: ERROR: Unable to run BokehJS code because BokehJS library is missing\");\n",
       "        }\n",
       "      }\n",
       "    }, 10, root)\n",
       "  }\n",
       "})(window);"
      ],
      "application/vnd.bokehjs_exec.v0+json": ""
     },
     "metadata": {
      "application/vnd.bokehjs_exec.v0+json": {
       "id": "1955"
      }
     },
     "output_type": "display_data"
    }
   ],
   "source": [
    "hover = HoverHelper(hpo_analytics)\n",
    "\n",
    "p = figure(plot_width=900, plot_height=400, tools=hover.tools(), x_axis_type='datetime')\n",
    "p.circle(source=hpo_results, x='TrainingStartTime', y='FinalObjectiveValue')\n",
    "p.xaxis.axis_label = 'Trial'\n",
    "p.yaxis.axis_label = 'Accuracy' \n",
    "p.title = 'HPO Results'\n",
    "show(p);"
   ]
  },
  {
   "cell_type": "markdown",
   "id": "fdb2a215-de8c-402e-b721-c33cdde57992",
   "metadata": {},
   "source": [
    "### Deploy Best Model\n",
    "\n",
    "Find the s3 uri for the training artifacts of the best model:"
   ]
  },
  {
   "cell_type": "code",
   "execution_count": 17,
   "id": "e9245abc-9fa8-4a52-b254-15506dc81109",
   "metadata": {
    "tags": []
   },
   "outputs": [
    {
     "name": "stdout",
     "output_type": "stream",
     "text": [
      "Best model artifacts persisted at s3://yang-ml-sagemaker/mnist/model/cnn-hpo-job-2023-04--230429-2307-048-37aeaea3/output/model.tar.gz\n"
     ]
    }
   ],
   "source": [
    "# Obtain the name of best training job\n",
    "best_model_name = sm_boto3.describe_hyper_parameter_tuning_job(\n",
    "    HyperParameterTuningJobName=hpo_tuner.latest_tuning_job.name\n",
    ")['BestTrainingJob']['TrainingJobName']\n",
    "\n",
    "# Obtain s3 path to model artifacts\n",
    "best_model_s3_path = sm_boto3.describe_training_job(\n",
    "    TrainingJobName=best_model_name\n",
    ")[\"ModelArtifacts\"][\"S3ModelArtifacts\"]\n",
    "\n",
    "print(f'Best model artifacts persisted at {best_model_s3_path}')"
   ]
  },
  {
   "cell_type": "markdown",
   "id": "23e12215-5a9b-4657-bb21-f2ef697b0648",
   "metadata": {},
   "source": [
    "Deploy directly from artifacts:"
   ]
  },
  {
   "cell_type": "code",
   "execution_count": 18,
   "id": "76b91b5b-f350-453d-a705-f56310e014c8",
   "metadata": {
    "tags": []
   },
   "outputs": [
    {
     "name": "stderr",
     "output_type": "stream",
     "text": [
      "update_endpoint is a no-op in sagemaker>=2.\n",
      "See: https://sagemaker.readthedocs.io/en/stable/v2.html for details.\n"
     ]
    },
    {
     "name": "stdout",
     "output_type": "stream",
     "text": [
      "----!"
     ]
    }
   ],
   "source": [
    "best_model = TensorFlowModel(\n",
    "    model_data=best_model_s3_path,\n",
    "    role=role,\n",
    "    framework_version=FRAMEWORK_VERSION\n",
    ")\n",
    "\n",
    "predictor = best_model.deploy(\n",
    "    initial_instance_count=1,\n",
    "    instance_type='ml.c5.2xlarge',\n",
    "    endpoint_name=endpoint_name + '-v1'\n",
    ")"
   ]
  },
  {
   "cell_type": "markdown",
   "id": "54e5a501-e73a-4a01-a042-59425f8d5d27",
   "metadata": {},
   "source": [
    "## Inference on Test Set"
   ]
  },
  {
   "cell_type": "code",
   "execution_count": 31,
   "id": "eb01b2bb-fcb0-4f4a-9a23-820b93372aa0",
   "metadata": {
    "tags": []
   },
   "outputs": [
    {
     "data": {
      "text/plain": [
       "(10000, 28, 28, 1)"
      ]
     },
     "execution_count": 31,
     "metadata": {},
     "output_type": "execute_result"
    }
   ],
   "source": [
    "# Load test data\n",
    "data_handler = DataHandler(s3_bucket, s3_key)\n",
    "X_test = data_handler.load_data('test')\n",
    "X_test.shape"
   ]
  },
  {
   "cell_type": "markdown",
   "id": "8c54cf53-b77f-436c-9075-caeb51ad5483",
   "metadata": {},
   "source": [
    "Make predictions in batches:"
   ]
  },
  {
   "cell_type": "code",
   "execution_count": 52,
   "id": "e31fdd69-e5b9-47e4-8255-71bc8ea77d66",
   "metadata": {
    "tags": []
   },
   "outputs": [
    {
     "name": "stderr",
     "output_type": "stream",
     "text": [
      "100%|██████████| 10/10 [00:11<00:00,  1.11s/it]\n"
     ]
    },
    {
     "data": {
      "text/plain": [
       "array([6, 5, 4, ..., 2, 2, 6])"
      ]
     },
     "execution_count": 52,
     "metadata": {},
     "output_type": "execute_result"
    }
   ],
   "source": [
    "# Define the batch size\n",
    "batch_size = 1000\n",
    "\n",
    "# Generate predictions in batches\n",
    "num_instances = X_test.shape[0]\n",
    "num_batches = (num_instances + batch_size - 1) // batch_size\n",
    "\n",
    "predicted_labels = []\n",
    "for i in tqdm(range(num_batches)):\n",
    "    start_idx = i * batch_size\n",
    "    end_idx = min(start_idx + batch_size, num_instances)\n",
    "    batch = X_test[start_idx:end_idx]\n",
    "    \n",
    "    # Call the predict method of the TensorFlowPredictor object\n",
    "    predictions = predictor.predict(batch)\n",
    "    \n",
    "    # Extract the predicted labels from the response\n",
    "    predicted_labels_batch = np.argmax(predictions['predictions'], axis=1) # Use axis=1 to find max probability across 10 columns\n",
    "    \n",
    "    # Append the predicted labels to the list\n",
    "    predicted_labels.append(predicted_labels_batch)\n",
    "\n",
    "# Concatenate the predicted labels from all batches\n",
    "predicted_labels = np.concatenate(predicted_labels, axis=0)\n",
    "\n",
    "predicted_labels"
   ]
  },
  {
   "cell_type": "code",
   "execution_count": 54,
   "id": "5077ad2a-93c7-45d7-8e6d-e075d27d5a01",
   "metadata": {
    "tags": []
   },
   "outputs": [
    {
     "data": {
      "text/plain": [
       "(array([0, 1, 2, 3, 4, 5, 6, 7, 8, 9]),\n",
       " array([1154,  990, 1019,  964,  683, 1115, 1149,  970, 1041,  915]))"
      ]
     },
     "execution_count": 54,
     "metadata": {},
     "output_type": "execute_result"
    }
   ],
   "source": [
    "np.unique(predicted_labels, return_counts=True)"
   ]
  },
  {
   "cell_type": "markdown",
   "id": "b2291cc4-8ae8-4f7d-97aa-5bd89f678a6f",
   "metadata": {},
   "source": [
    "## Clean-up"
   ]
  },
  {
   "cell_type": "code",
   "execution_count": 55,
   "id": "fe816ee4-4fb8-4473-8424-21e5c1dcf58d",
   "metadata": {
    "tags": []
   },
   "outputs": [
    {
     "data": {
      "text/plain": [
       "{'ResponseMetadata': {'RequestId': '859aed69-097c-47b5-af7e-b42f27bd556c',\n",
       "  'HTTPStatusCode': 200,\n",
       "  'HTTPHeaders': {'x-amzn-requestid': '859aed69-097c-47b5-af7e-b42f27bd556c',\n",
       "   'content-type': 'application/x-amz-json-1.1',\n",
       "   'content-length': '0',\n",
       "   'date': 'Sun, 30 Apr 2023 00:30:42 GMT'},\n",
       "  'RetryAttempts': 0}}"
      ]
     },
     "execution_count": 55,
     "metadata": {},
     "output_type": "execute_result"
    }
   ],
   "source": [
    "sm_boto3.delete_endpoint(EndpointName=predictor.endpoint_name)\n",
    "sm_boto3.delete_endpoint_config(EndpointConfigName=predictor.endpoint_name)"
   ]
  },
  {
   "cell_type": "code",
   "execution_count": 56,
   "id": "585d5d22-aa20-40a4-9a60-e8bc668772b2",
   "metadata": {
    "tags": []
   },
   "outputs": [],
   "source": [
    "sm_boto3.close()"
   ]
  }
 ],
 "metadata": {
  "kernelspec": {
   "display_name": "conda_tensorflow2_p310",
   "language": "python",
   "name": "conda_tensorflow2_p310"
  },
  "language_info": {
   "codemirror_mode": {
    "name": "ipython",
    "version": 3
   },
   "file_extension": ".py",
   "mimetype": "text/x-python",
   "name": "python",
   "nbconvert_exporter": "python",
   "pygments_lexer": "ipython3",
   "version": "3.10.8"
  }
 },
 "nbformat": 4,
 "nbformat_minor": 5
}
