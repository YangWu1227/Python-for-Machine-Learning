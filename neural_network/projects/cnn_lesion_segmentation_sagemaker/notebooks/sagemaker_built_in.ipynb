{
 "cells": [
  {
   "cell_type": "code",
   "execution_count": 65,
   "id": "2ef79c6d-f7fd-4342-afa9-3fcb9100578d",
   "metadata": {
    "tags": []
   },
   "outputs": [],
   "source": [
    "%reload_ext autoreload\n",
    "%autoreload 2\n",
    "\n",
    "import os\n",
    "import io\n",
    "import pickle\n",
    "import sys\n",
    "import datetime\n",
    "\n",
    "import boto3\n",
    "import sagemaker\n",
    "from sagemaker.tuner import (\n",
    "    ContinuousParameter,\n",
    "    IntegerParameter,\n",
    "    CategoricalParameter,\n",
    "    HyperparameterTuner,\n",
    ")\n",
    "\n",
    "import matplotlib.pyplot as plt\n",
    "\n",
    "sys.path.append(os.path.dirname(os.getcwd()))\n",
    "from src.custom_utils import ImageDeserializer"
   ]
  },
  {
   "attachments": {},
   "cell_type": "markdown",
   "id": "24c95a9d-bb5f-4da3-a048-dc67a6548ca9",
   "metadata": {},
   "source": [
    "## S3"
   ]
  },
  {
   "cell_type": "code",
   "execution_count": 21,
   "id": "25fc60cd-e092-4732-9e11-31d5f1364137",
   "metadata": {
    "tags": []
   },
   "outputs": [
    {
     "data": {
      "text/plain": [
       "{'train': <sagemaker.inputs.TrainingInput at 0x7f8aaab34ac0>,\n",
       " 'validation': <sagemaker.inputs.TrainingInput at 0x7f8aaa6fe610>,\n",
       " 'train_annotation': <sagemaker.inputs.TrainingInput at 0x7f8aaa6fedc0>,\n",
       " 'validation_annotation': <sagemaker.inputs.TrainingInput at 0x7f8aaa6fe8b0>,\n",
       " 'label_map': 's3://yang-ml-sagemaker/lesion-segmentation/input-data/label_map'}"
      ]
     },
     "execution_count": 21,
     "metadata": {},
     "output_type": "execute_result"
    }
   ],
   "source": [
    "s3_bucket = \"yang-ml-sagemaker\"\n",
    "s3_key = \"lesion-segmentation\"\n",
    "\n",
    "# Replicate the entire dataset on each ML compute instance that is launched for model training\n",
    "distribution = \"FullyReplicated\"\n",
    "data_keys = [\"train\", \"validation\", \"train_annotation\", \"validation_annotation\"]\n",
    "s3_data_channels = {\n",
    "    key: sagemaker.inputs.TrainingInput(\n",
    "        s3_data=f\"s3://{s3_bucket}/{s3_key}/input-data/{key}\",\n",
    "        distribution=distribution,\n",
    "        content_type=\"image/png\",\n",
    "        input_mode=\"File\",\n",
    "        s3_data_type=\"S3Prefix\",\n",
    "    )\n",
    "    for key in data_keys\n",
    "}\n",
    "s3_data_channels[\"label_map\"] = f\"s3://{s3_bucket}/{s3_key}/input-data/label_map\"\n",
    "\n",
    "s3_data_channels"
   ]
  },
  {
   "attachments": {},
   "cell_type": "markdown",
   "id": "fd3924d8-f9a6-4da6-9c08-6ef7a323207b",
   "metadata": {},
   "source": [
    "## Sagemaker"
   ]
  },
  {
   "cell_type": "code",
   "execution_count": 3,
   "id": "f41528cf-6a9b-4449-8d5b-741ce58c0595",
   "metadata": {
    "tags": []
   },
   "outputs": [],
   "source": [
    "sagemaker_session = sagemaker.Session(default_bucket=s3_bucket)\n",
    "sagemaker_session\n",
    "sm_boto3 = boto3.client(\"sagemaker\")\n",
    "role = sagemaker.get_execution_role()\n",
    "instance_type = \"ml.p3.2xlarge\"\n",
    "instance_count = 1\n",
    "volume_size = 30\n",
    "model_dir = \"/opt/ml/model\"\n",
    "output_path = f\"s3://{s3_bucket}/{s3_key}/models\"\n",
    "code_location = f\"s3://{s3_bucket}/{s3_key}/code\"\n",
    "\n",
    "checkpoint_s3_uri = f\"s3://{s3_bucket}/{s3_key}/checkpoints\"\n",
    "use_spot_instances = True\n",
    "max_run = 86400\n",
    "max_retry_attempts = 2\n",
    "\n",
    "# Get today's date in YYYYMMDD format\n",
    "today = datetime.datetime.today().strftime(\"%Y-%m-%d\")\n",
    "\n",
    "# Define endpoint name with version and date\n",
    "endpoint_name = f\"built-in-lesion-{today}\""
   ]
  },
  {
   "attachments": {},
   "cell_type": "markdown",
   "id": "d15d8778-e6a2-428e-aa88-a494d8bfd3a1",
   "metadata": {},
   "source": [
    "Docker image for AWS semantic segmentation algorithm:"
   ]
  },
  {
   "cell_type": "code",
   "execution_count": 4,
   "id": "0768e567-0f81-4290-9e2b-ec93a5ddff9c",
   "metadata": {
    "tags": []
   },
   "outputs": [
    {
     "data": {
      "text/plain": [
       "'811284229777.dkr.ecr.us-east-1.amazonaws.com/semantic-segmentation:1'"
      ]
     },
     "execution_count": 4,
     "metadata": {},
     "output_type": "execute_result"
    }
   ],
   "source": [
    "training_image = sagemaker.image_uris.retrieve(\n",
    "    framework=\"semantic-segmentation\", region=sagemaker_session.boto_region_name\n",
    ")\n",
    "training_image"
   ]
  },
  {
   "attachments": {},
   "cell_type": "markdown",
   "id": "aa462a44-1cfc-44f9-88fa-51fcc608b16f",
   "metadata": {},
   "source": [
    "## Estimator"
   ]
  },
  {
   "cell_type": "code",
   "execution_count": 53,
   "id": "743710a8-f62d-4362-b49d-41988fb93290",
   "metadata": {
    "tags": []
   },
   "outputs": [
    {
     "data": {
      "text/plain": [
       "<sagemaker.estimator.Estimator at 0x7f8aa9e7d790>"
      ]
     },
     "execution_count": 53,
     "metadata": {},
     "output_type": "execute_result"
    }
   ],
   "source": [
    "sm_estimator = sagemaker.estimator.Estimator(\n",
    "    image_uri=training_image,\n",
    "    role=role,\n",
    "    instance_count=instance_count,\n",
    "    instance_type=instance_type,\n",
    "    volume_size=volume_size,\n",
    "    sagemaker_session=sagemaker_session,\n",
    "    output_path=output_path,\n",
    "    code_location=code_location,\n",
    "    # Spot training\n",
    "    max_run=max_run,\n",
    "    max_wait=max_run,\n",
    "    max_retry_attempts=max_retry_attempts,\n",
    "    use_spot_instances=use_spot_instances,\n",
    "    checkpoint_s3_uri=checkpoint_s3_uri,\n",
    "    # Hyperparameters\n",
    "    hyperparameters={\n",
    "        # Network architecture hyperparameters\n",
    "        \"backbone\": \"resnet-50\",\n",
    "        \"use_pretrained_model\": True,\n",
    "        \"algorithm\": \"fcn\",\n",
    "        # Data hyperparameters\n",
    "        \"num_classes\": 22,\n",
    "        \"num_training_samples\": len(\n",
    "            sagemaker.s3.S3Downloader.list(\n",
    "                f\"s3://{s3_bucket}/{s3_key}/input-data/train\"\n",
    "            )\n",
    "        ),\n",
    "        # Training Hyperparameters\n",
    "        \"early_stopping\": True,\n",
    "        \"early_stopping_min_epochs\": 5,\n",
    "        \"early_stopping_patience\": 3,\n",
    "        \"epochs\": 15,\n",
    "        \"lr_scheduler\": \"poly\",\n",
    "        \"validation_mini_batch_size\": 1,  # Score validation on the entire image without cropping\n",
    "    },\n",
    ")\n",
    "sm_estimator"
   ]
  },
  {
   "attachments": {},
   "cell_type": "markdown",
   "id": "ba511002-d354-4deb-b626-0aacccba5dec",
   "metadata": {},
   "source": [
    "## Hyperparameter Optimization"
   ]
  },
  {
   "cell_type": "code",
   "execution_count": 54,
   "id": "d385ecfa-91b6-40a3-9e12-ea79623177ee",
   "metadata": {
    "tags": []
   },
   "outputs": [
    {
     "data": {
      "text/plain": [
       "'built-in-segment-hpo-job-2023-05-27'"
      ]
     },
     "execution_count": 54,
     "metadata": {},
     "output_type": "execute_result"
    }
   ],
   "source": [
    "search_space = {\n",
    "    \"learning_rate\": ContinuousParameter(\n",
    "        min_value=1e-5, max_value=1e-1, scaling_type=\"Logarithmic\"\n",
    "    ),\n",
    "    # Used if 'sgd' is used as the optimizer\n",
    "    \"momentum\": ContinuousParameter(min_value=0.9, max_value=0.999),\n",
    "    \"optimizer\": CategoricalParameter(values=[\"adam\", \"sgd\", \"rmsprop\"]),\n",
    "    \"mini_batch_size\": IntegerParameter(min_value=16, max_value=32),\n",
    "    \"weight_decay\": ContinuousParameter(\n",
    "        min_value=1e-5, max_value=1e-3, scaling_type=\"Logarithmic\"\n",
    "    ),\n",
    "}\n",
    "\n",
    "objective_metric_name = \"validation:mIOU\"\n",
    "objective_type = \"Maximize\"\n",
    "base_tuning_job_name = f\"built-in-segment-hpo-job-{today}\"\n",
    "base_tuning_job_name"
   ]
  },
  {
   "cell_type": "code",
   "execution_count": 55,
   "id": "04da69bd-1e44-4c42-af17-478d30501d26",
   "metadata": {
    "tags": []
   },
   "outputs": [],
   "source": [
    "hpo_tuner = HyperparameterTuner(\n",
    "    estimator=sm_estimator,\n",
    "    objective_metric_name=objective_metric_name,\n",
    "    hyperparameter_ranges=search_space,\n",
    "    strategy=\"Bayesian\",\n",
    "    objective_type=objective_type,\n",
    "    max_jobs=20,\n",
    "    max_parallel_jobs=10,\n",
    "    base_tuning_job_name=base_tuning_job_name,\n",
    ")"
   ]
  },
  {
   "cell_type": "code",
   "execution_count": null,
   "id": "f0bf3c0d-7f7a-4706-a59e-578e5dbc0928",
   "metadata": {
    "tags": []
   },
   "outputs": [
    {
     "name": "stderr",
     "output_type": "stream",
     "text": [
      "No finished training job found associated with this estimator. Please make sure this estimator is only used for building workflow config\n"
     ]
    },
    {
     "name": "stdout",
     "output_type": "stream",
     "text": [
      "..............................................................................................................................................................................................................................................................................................................................................................................................................................................................................................................................................................................................................................................................................................................................................................................................................................................................................................................!\n"
     ]
    }
   ],
   "source": [
    "hpo_tuner.fit(inputs=s3_data_channels)"
   ]
  },
  {
   "attachments": {},
   "cell_type": "markdown",
   "id": "d5a7f350-c874-4b31-8c2b-b5d7c9816a48",
   "metadata": {},
   "source": [
    "Check hpo results:"
   ]
  },
  {
   "cell_type": "code",
   "execution_count": 58,
   "id": "4ec8e2dd-bdb7-4db1-8207-ea094fb878f0",
   "metadata": {
    "tags": []
   },
   "outputs": [
    {
     "data": {
      "text/html": [
       "<div>\n",
       "<style scoped>\n",
       "    .dataframe tbody tr th:only-of-type {\n",
       "        vertical-align: middle;\n",
       "    }\n",
       "\n",
       "    .dataframe tbody tr th {\n",
       "        vertical-align: top;\n",
       "    }\n",
       "\n",
       "    .dataframe thead th {\n",
       "        text-align: right;\n",
       "    }\n",
       "</style>\n",
       "<table border=\"1\" class=\"dataframe\">\n",
       "  <thead>\n",
       "    <tr style=\"text-align: right;\">\n",
       "      <th></th>\n",
       "      <th>learning_rate</th>\n",
       "      <th>mini_batch_size</th>\n",
       "      <th>momentum</th>\n",
       "      <th>optimizer</th>\n",
       "      <th>weight_decay</th>\n",
       "      <th>TrainingJobName</th>\n",
       "      <th>TrainingJobStatus</th>\n",
       "      <th>FinalObjectiveValue</th>\n",
       "      <th>TrainingStartTime</th>\n",
       "      <th>TrainingEndTime</th>\n",
       "      <th>TrainingElapsedTimeSeconds</th>\n",
       "    </tr>\n",
       "  </thead>\n",
       "  <tbody>\n",
       "    <tr>\n",
       "      <th>0</th>\n",
       "      <td>0.004413</td>\n",
       "      <td>16.0</td>\n",
       "      <td>0.998535</td>\n",
       "      <td>sgd</td>\n",
       "      <td>0.000010</td>\n",
       "      <td>built-in-segment-hpo-230527-0654-020-5aad825b</td>\n",
       "      <td>Completed</td>\n",
       "      <td>0.045442</td>\n",
       "      <td>2023-05-27 07:33:38+00:00</td>\n",
       "      <td>2023-05-27 08:04:57+00:00</td>\n",
       "      <td>1879.0</td>\n",
       "    </tr>\n",
       "    <tr>\n",
       "      <th>11</th>\n",
       "      <td>0.085438</td>\n",
       "      <td>21.0</td>\n",
       "      <td>0.956085</td>\n",
       "      <td>rmsprop</td>\n",
       "      <td>0.000255</td>\n",
       "      <td>built-in-segment-hpo-230527-0654-009-532b369b</td>\n",
       "      <td>Completed</td>\n",
       "      <td>0.045442</td>\n",
       "      <td>2023-05-27 06:56:13+00:00</td>\n",
       "      <td>2023-05-27 07:33:18+00:00</td>\n",
       "      <td>2225.0</td>\n",
       "    </tr>\n",
       "    <tr>\n",
       "      <th>18</th>\n",
       "      <td>0.014735</td>\n",
       "      <td>20.0</td>\n",
       "      <td>0.995960</td>\n",
       "      <td>sgd</td>\n",
       "      <td>0.000234</td>\n",
       "      <td>built-in-segment-hpo-230527-0654-002-188b9e2a</td>\n",
       "      <td>Completed</td>\n",
       "      <td>0.045442</td>\n",
       "      <td>2023-05-27 06:55:56+00:00</td>\n",
       "      <td>2023-05-27 07:31:35+00:00</td>\n",
       "      <td>2139.0</td>\n",
       "    </tr>\n",
       "    <tr>\n",
       "      <th>17</th>\n",
       "      <td>0.000262</td>\n",
       "      <td>17.0</td>\n",
       "      <td>0.980688</td>\n",
       "      <td>sgd</td>\n",
       "      <td>0.000136</td>\n",
       "      <td>built-in-segment-hpo-230527-0654-003-d4896a13</td>\n",
       "      <td>Completed</td>\n",
       "      <td>0.045442</td>\n",
       "      <td>2023-05-27 06:55:55+00:00</td>\n",
       "      <td>2023-05-27 07:30:13+00:00</td>\n",
       "      <td>2058.0</td>\n",
       "    </tr>\n",
       "    <tr>\n",
       "      <th>16</th>\n",
       "      <td>0.003616</td>\n",
       "      <td>19.0</td>\n",
       "      <td>0.991817</td>\n",
       "      <td>adam</td>\n",
       "      <td>0.000156</td>\n",
       "      <td>built-in-segment-hpo-230527-0654-004-f32f8365</td>\n",
       "      <td>Completed</td>\n",
       "      <td>0.045442</td>\n",
       "      <td>2023-05-27 06:56:08+00:00</td>\n",
       "      <td>2023-05-27 07:32:32+00:00</td>\n",
       "      <td>2184.0</td>\n",
       "    </tr>\n",
       "    <tr>\n",
       "      <th>15</th>\n",
       "      <td>0.000037</td>\n",
       "      <td>24.0</td>\n",
       "      <td>0.996155</td>\n",
       "      <td>rmsprop</td>\n",
       "      <td>0.000107</td>\n",
       "      <td>built-in-segment-hpo-230527-0654-005-c1819399</td>\n",
       "      <td>Completed</td>\n",
       "      <td>0.045442</td>\n",
       "      <td>2023-05-27 06:56:02+00:00</td>\n",
       "      <td>2023-05-27 07:31:01+00:00</td>\n",
       "      <td>2099.0</td>\n",
       "    </tr>\n",
       "    <tr>\n",
       "      <th>14</th>\n",
       "      <td>0.005765</td>\n",
       "      <td>26.0</td>\n",
       "      <td>0.986656</td>\n",
       "      <td>adam</td>\n",
       "      <td>0.000087</td>\n",
       "      <td>built-in-segment-hpo-230527-0654-006-f8369f06</td>\n",
       "      <td>Completed</td>\n",
       "      <td>0.045442</td>\n",
       "      <td>2023-05-27 06:56:15+00:00</td>\n",
       "      <td>2023-05-27 07:27:53+00:00</td>\n",
       "      <td>1898.0</td>\n",
       "    </tr>\n",
       "    <tr>\n",
       "      <th>13</th>\n",
       "      <td>0.000704</td>\n",
       "      <td>28.0</td>\n",
       "      <td>0.984744</td>\n",
       "      <td>sgd</td>\n",
       "      <td>0.000341</td>\n",
       "      <td>built-in-segment-hpo-230527-0654-007-f8d6907c</td>\n",
       "      <td>Completed</td>\n",
       "      <td>0.045442</td>\n",
       "      <td>2023-05-27 06:56:05+00:00</td>\n",
       "      <td>2023-05-27 07:31:29+00:00</td>\n",
       "      <td>2124.0</td>\n",
       "    </tr>\n",
       "    <tr>\n",
       "      <th>12</th>\n",
       "      <td>0.076211</td>\n",
       "      <td>29.0</td>\n",
       "      <td>0.998340</td>\n",
       "      <td>rmsprop</td>\n",
       "      <td>0.000148</td>\n",
       "      <td>built-in-segment-hpo-230527-0654-008-c31180d5</td>\n",
       "      <td>Completed</td>\n",
       "      <td>0.045442</td>\n",
       "      <td>2023-05-27 06:56:12+00:00</td>\n",
       "      <td>2023-05-27 07:32:21+00:00</td>\n",
       "      <td>2169.0</td>\n",
       "    </tr>\n",
       "    <tr>\n",
       "      <th>10</th>\n",
       "      <td>0.089870</td>\n",
       "      <td>28.0</td>\n",
       "      <td>0.911675</td>\n",
       "      <td>sgd</td>\n",
       "      <td>0.000165</td>\n",
       "      <td>built-in-segment-hpo-230527-0654-010-dd5de575</td>\n",
       "      <td>Completed</td>\n",
       "      <td>0.045442</td>\n",
       "      <td>2023-05-27 06:56:08+00:00</td>\n",
       "      <td>2023-05-27 07:31:34+00:00</td>\n",
       "      <td>2126.0</td>\n",
       "    </tr>\n",
       "    <tr>\n",
       "      <th>9</th>\n",
       "      <td>0.000079</td>\n",
       "      <td>31.0</td>\n",
       "      <td>0.958892</td>\n",
       "      <td>sgd</td>\n",
       "      <td>0.000011</td>\n",
       "      <td>built-in-segment-hpo-230527-0654-011-cb0ba415</td>\n",
       "      <td>Completed</td>\n",
       "      <td>0.045442</td>\n",
       "      <td>2023-05-27 07:31:11+00:00</td>\n",
       "      <td>2023-05-27 07:59:39+00:00</td>\n",
       "      <td>1708.0</td>\n",
       "    </tr>\n",
       "    <tr>\n",
       "      <th>8</th>\n",
       "      <td>0.000073</td>\n",
       "      <td>16.0</td>\n",
       "      <td>0.915409</td>\n",
       "      <td>adam</td>\n",
       "      <td>0.000794</td>\n",
       "      <td>built-in-segment-hpo-230527-0654-012-7be7aaa3</td>\n",
       "      <td>Completed</td>\n",
       "      <td>0.045442</td>\n",
       "      <td>2023-05-27 07:30:29+00:00</td>\n",
       "      <td>2023-05-27 08:00:48+00:00</td>\n",
       "      <td>1819.0</td>\n",
       "    </tr>\n",
       "    <tr>\n",
       "      <th>7</th>\n",
       "      <td>0.000015</td>\n",
       "      <td>20.0</td>\n",
       "      <td>0.998607</td>\n",
       "      <td>rmsprop</td>\n",
       "      <td>0.000926</td>\n",
       "      <td>built-in-segment-hpo-230527-0654-013-73580be8</td>\n",
       "      <td>Completed</td>\n",
       "      <td>0.045442</td>\n",
       "      <td>2023-05-27 07:32:17+00:00</td>\n",
       "      <td>2023-05-27 08:01:23+00:00</td>\n",
       "      <td>1746.0</td>\n",
       "    </tr>\n",
       "    <tr>\n",
       "      <th>6</th>\n",
       "      <td>0.073663</td>\n",
       "      <td>16.0</td>\n",
       "      <td>0.978802</td>\n",
       "      <td>rmsprop</td>\n",
       "      <td>0.000025</td>\n",
       "      <td>built-in-segment-hpo-230527-0654-014-2f379557</td>\n",
       "      <td>Completed</td>\n",
       "      <td>0.045442</td>\n",
       "      <td>2023-05-27 07:31:22+00:00</td>\n",
       "      <td>2023-05-27 08:01:27+00:00</td>\n",
       "      <td>1805.0</td>\n",
       "    </tr>\n",
       "    <tr>\n",
       "      <th>5</th>\n",
       "      <td>0.000029</td>\n",
       "      <td>32.0</td>\n",
       "      <td>0.904887</td>\n",
       "      <td>rmsprop</td>\n",
       "      <td>0.000053</td>\n",
       "      <td>built-in-segment-hpo-230527-0654-015-6eb81987</td>\n",
       "      <td>Completed</td>\n",
       "      <td>0.045442</td>\n",
       "      <td>2023-05-27 07:31:45+00:00</td>\n",
       "      <td>2023-05-27 08:03:38+00:00</td>\n",
       "      <td>1913.0</td>\n",
       "    </tr>\n",
       "    <tr>\n",
       "      <th>4</th>\n",
       "      <td>0.000175</td>\n",
       "      <td>16.0</td>\n",
       "      <td>0.998803</td>\n",
       "      <td>sgd</td>\n",
       "      <td>0.000991</td>\n",
       "      <td>built-in-segment-hpo-230527-0654-016-a0c36a80</td>\n",
       "      <td>Completed</td>\n",
       "      <td>0.045442</td>\n",
       "      <td>2023-05-27 07:31:55+00:00</td>\n",
       "      <td>2023-05-27 08:02:03+00:00</td>\n",
       "      <td>1808.0</td>\n",
       "    </tr>\n",
       "    <tr>\n",
       "      <th>3</th>\n",
       "      <td>0.000027</td>\n",
       "      <td>27.0</td>\n",
       "      <td>0.947566</td>\n",
       "      <td>rmsprop</td>\n",
       "      <td>0.000023</td>\n",
       "      <td>built-in-segment-hpo-230527-0654-017-99c7308b</td>\n",
       "      <td>Completed</td>\n",
       "      <td>0.045442</td>\n",
       "      <td>2023-05-27 07:31:56+00:00</td>\n",
       "      <td>2023-05-27 08:03:19+00:00</td>\n",
       "      <td>1883.0</td>\n",
       "    </tr>\n",
       "    <tr>\n",
       "      <th>2</th>\n",
       "      <td>0.000011</td>\n",
       "      <td>30.0</td>\n",
       "      <td>0.998902</td>\n",
       "      <td>sgd</td>\n",
       "      <td>0.000668</td>\n",
       "      <td>built-in-segment-hpo-230527-0654-018-bcbbdb14</td>\n",
       "      <td>Completed</td>\n",
       "      <td>0.045442</td>\n",
       "      <td>2023-05-27 07:32:38+00:00</td>\n",
       "      <td>2023-05-27 08:02:04+00:00</td>\n",
       "      <td>1766.0</td>\n",
       "    </tr>\n",
       "    <tr>\n",
       "      <th>19</th>\n",
       "      <td>0.000119</td>\n",
       "      <td>29.0</td>\n",
       "      <td>0.996965</td>\n",
       "      <td>adam</td>\n",
       "      <td>0.000030</td>\n",
       "      <td>built-in-segment-hpo-230527-0654-001-4b696b95</td>\n",
       "      <td>Completed</td>\n",
       "      <td>0.045442</td>\n",
       "      <td>2023-05-27 06:55:45+00:00</td>\n",
       "      <td>2023-05-27 07:31:04+00:00</td>\n",
       "      <td>2119.0</td>\n",
       "    </tr>\n",
       "    <tr>\n",
       "      <th>1</th>\n",
       "      <td>0.090418</td>\n",
       "      <td>32.0</td>\n",
       "      <td>0.998948</td>\n",
       "      <td>rmsprop</td>\n",
       "      <td>0.000801</td>\n",
       "      <td>built-in-segment-hpo-230527-0654-019-17085532</td>\n",
       "      <td>Completed</td>\n",
       "      <td>0.000003</td>\n",
       "      <td>2023-05-27 07:32:48+00:00</td>\n",
       "      <td>2023-05-27 07:53:54+00:00</td>\n",
       "      <td>1266.0</td>\n",
       "    </tr>\n",
       "  </tbody>\n",
       "</table>\n",
       "</div>"
      ],
      "text/plain": [
       "    learning_rate  mini_batch_size  momentum optimizer  weight_decay  \\\n",
       "0        0.004413             16.0  0.998535       sgd      0.000010   \n",
       "11       0.085438             21.0  0.956085   rmsprop      0.000255   \n",
       "18       0.014735             20.0  0.995960       sgd      0.000234   \n",
       "17       0.000262             17.0  0.980688       sgd      0.000136   \n",
       "16       0.003616             19.0  0.991817      adam      0.000156   \n",
       "15       0.000037             24.0  0.996155   rmsprop      0.000107   \n",
       "14       0.005765             26.0  0.986656      adam      0.000087   \n",
       "13       0.000704             28.0  0.984744       sgd      0.000341   \n",
       "12       0.076211             29.0  0.998340   rmsprop      0.000148   \n",
       "10       0.089870             28.0  0.911675       sgd      0.000165   \n",
       "9        0.000079             31.0  0.958892       sgd      0.000011   \n",
       "8        0.000073             16.0  0.915409      adam      0.000794   \n",
       "7        0.000015             20.0  0.998607   rmsprop      0.000926   \n",
       "6        0.073663             16.0  0.978802   rmsprop      0.000025   \n",
       "5        0.000029             32.0  0.904887   rmsprop      0.000053   \n",
       "4        0.000175             16.0  0.998803       sgd      0.000991   \n",
       "3        0.000027             27.0  0.947566   rmsprop      0.000023   \n",
       "2        0.000011             30.0  0.998902       sgd      0.000668   \n",
       "19       0.000119             29.0  0.996965      adam      0.000030   \n",
       "1        0.090418             32.0  0.998948   rmsprop      0.000801   \n",
       "\n",
       "                                  TrainingJobName TrainingJobStatus  \\\n",
       "0   built-in-segment-hpo-230527-0654-020-5aad825b         Completed   \n",
       "11  built-in-segment-hpo-230527-0654-009-532b369b         Completed   \n",
       "18  built-in-segment-hpo-230527-0654-002-188b9e2a         Completed   \n",
       "17  built-in-segment-hpo-230527-0654-003-d4896a13         Completed   \n",
       "16  built-in-segment-hpo-230527-0654-004-f32f8365         Completed   \n",
       "15  built-in-segment-hpo-230527-0654-005-c1819399         Completed   \n",
       "14  built-in-segment-hpo-230527-0654-006-f8369f06         Completed   \n",
       "13  built-in-segment-hpo-230527-0654-007-f8d6907c         Completed   \n",
       "12  built-in-segment-hpo-230527-0654-008-c31180d5         Completed   \n",
       "10  built-in-segment-hpo-230527-0654-010-dd5de575         Completed   \n",
       "9   built-in-segment-hpo-230527-0654-011-cb0ba415         Completed   \n",
       "8   built-in-segment-hpo-230527-0654-012-7be7aaa3         Completed   \n",
       "7   built-in-segment-hpo-230527-0654-013-73580be8         Completed   \n",
       "6   built-in-segment-hpo-230527-0654-014-2f379557         Completed   \n",
       "5   built-in-segment-hpo-230527-0654-015-6eb81987         Completed   \n",
       "4   built-in-segment-hpo-230527-0654-016-a0c36a80         Completed   \n",
       "3   built-in-segment-hpo-230527-0654-017-99c7308b         Completed   \n",
       "2   built-in-segment-hpo-230527-0654-018-bcbbdb14         Completed   \n",
       "19  built-in-segment-hpo-230527-0654-001-4b696b95         Completed   \n",
       "1   built-in-segment-hpo-230527-0654-019-17085532         Completed   \n",
       "\n",
       "    FinalObjectiveValue         TrainingStartTime           TrainingEndTime  \\\n",
       "0              0.045442 2023-05-27 07:33:38+00:00 2023-05-27 08:04:57+00:00   \n",
       "11             0.045442 2023-05-27 06:56:13+00:00 2023-05-27 07:33:18+00:00   \n",
       "18             0.045442 2023-05-27 06:55:56+00:00 2023-05-27 07:31:35+00:00   \n",
       "17             0.045442 2023-05-27 06:55:55+00:00 2023-05-27 07:30:13+00:00   \n",
       "16             0.045442 2023-05-27 06:56:08+00:00 2023-05-27 07:32:32+00:00   \n",
       "15             0.045442 2023-05-27 06:56:02+00:00 2023-05-27 07:31:01+00:00   \n",
       "14             0.045442 2023-05-27 06:56:15+00:00 2023-05-27 07:27:53+00:00   \n",
       "13             0.045442 2023-05-27 06:56:05+00:00 2023-05-27 07:31:29+00:00   \n",
       "12             0.045442 2023-05-27 06:56:12+00:00 2023-05-27 07:32:21+00:00   \n",
       "10             0.045442 2023-05-27 06:56:08+00:00 2023-05-27 07:31:34+00:00   \n",
       "9              0.045442 2023-05-27 07:31:11+00:00 2023-05-27 07:59:39+00:00   \n",
       "8              0.045442 2023-05-27 07:30:29+00:00 2023-05-27 08:00:48+00:00   \n",
       "7              0.045442 2023-05-27 07:32:17+00:00 2023-05-27 08:01:23+00:00   \n",
       "6              0.045442 2023-05-27 07:31:22+00:00 2023-05-27 08:01:27+00:00   \n",
       "5              0.045442 2023-05-27 07:31:45+00:00 2023-05-27 08:03:38+00:00   \n",
       "4              0.045442 2023-05-27 07:31:55+00:00 2023-05-27 08:02:03+00:00   \n",
       "3              0.045442 2023-05-27 07:31:56+00:00 2023-05-27 08:03:19+00:00   \n",
       "2              0.045442 2023-05-27 07:32:38+00:00 2023-05-27 08:02:04+00:00   \n",
       "19             0.045442 2023-05-27 06:55:45+00:00 2023-05-27 07:31:04+00:00   \n",
       "1              0.000003 2023-05-27 07:32:48+00:00 2023-05-27 07:53:54+00:00   \n",
       "\n",
       "    TrainingElapsedTimeSeconds  \n",
       "0                       1879.0  \n",
       "11                      2225.0  \n",
       "18                      2139.0  \n",
       "17                      2058.0  \n",
       "16                      2184.0  \n",
       "15                      2099.0  \n",
       "14                      1898.0  \n",
       "13                      2124.0  \n",
       "12                      2169.0  \n",
       "10                      2126.0  \n",
       "9                       1708.0  \n",
       "8                       1819.0  \n",
       "7                       1746.0  \n",
       "6                       1805.0  \n",
       "5                       1913.0  \n",
       "4                       1808.0  \n",
       "3                       1883.0  \n",
       "2                       1766.0  \n",
       "19                      2119.0  \n",
       "1                       1266.0  "
      ]
     },
     "execution_count": 58,
     "metadata": {},
     "output_type": "execute_result"
    }
   ],
   "source": [
    "hpo_analytics = sagemaker.HyperparameterTuningJobAnalytics(\n",
    "    hpo_tuner.latest_tuning_job.name\n",
    ")\n",
    "\n",
    "hpo_results = hpo_analytics.dataframe()\n",
    "\n",
    "hpo_results.sort_values(\"FinalObjectiveValue\", ascending=False)"
   ]
  },
  {
   "attachments": {},
   "cell_type": "markdown",
   "id": "f1da71e6-bece-4ff9-8763-b20ac6ecc545",
   "metadata": {},
   "source": [
    "## Deploy Best Model"
   ]
  },
  {
   "cell_type": "code",
   "execution_count": 59,
   "id": "30cc9c03-a2ef-4526-ad17-1c1f99957665",
   "metadata": {
    "tags": []
   },
   "outputs": [
    {
     "name": "stdout",
     "output_type": "stream",
     "text": [
      "Best model artifacts persisted at s3://yang-ml-sagemaker/lesion-segmentation/model/built-in-segment-hpo-230527-0654-006-f8369f06/output/model.tar.gz\n"
     ]
    }
   ],
   "source": [
    "# Obtain the name of best training job\n",
    "best_model_name = sm_boto3.describe_hyper_parameter_tuning_job(\n",
    "    HyperParameterTuningJobName=hpo_tuner.latest_tuning_job.name\n",
    ")[\"BestTrainingJob\"][\"TrainingJobName\"]\n",
    "\n",
    "# Obtain s3 path to model artifacts\n",
    "best_model_s3_path = sm_boto3.describe_training_job(TrainingJobName=best_model_name)[\n",
    "    \"ModelArtifacts\"\n",
    "][\"S3ModelArtifacts\"]\n",
    "\n",
    "print(f\"Best model artifacts persisted at {best_model_s3_path}\")"
   ]
  },
  {
   "cell_type": "code",
   "execution_count": 60,
   "id": "9c77a496-950b-4457-99b4-e6463062c10d",
   "metadata": {
    "tags": []
   },
   "outputs": [
    {
     "name": "stdout",
     "output_type": "stream",
     "text": [
      "\n",
      "2023-05-27 07:31:09 Starting - Preparing the instances for training\n",
      "2023-05-27 07:31:09 Downloading - Downloading input data\n",
      "2023-05-27 07:31:09 Training - Training image download completed. Training in progress.\n",
      "2023-05-27 07:31:09 Uploading - Uploading generated training model\n",
      "2023-05-27 07:31:09 Completed - Resource reused by training job: built-in-segment-hpo-230527-0654-011-cb0ba415\n",
      "----------------!"
     ]
    }
   ],
   "source": [
    "best_model = hpo_tuner.best_estimator()\n",
    "\n",
    "predictor = best_model.deploy(\n",
    "    initial_instance_count=1,\n",
    "    instance_type=\"ml.c5.xlarge\",\n",
    "    endpoint_name=endpoint_name + \"-v1\",\n",
    ")"
   ]
  },
  {
   "attachments": {},
   "cell_type": "markdown",
   "id": "44bc2a5a-35ca-477e-89a9-5a5a733f697f",
   "metadata": {},
   "source": [
    "## Clean-up"
   ]
  },
  {
   "cell_type": "code",
   "execution_count": 70,
   "id": "fd359a67-1046-46ff-a4a0-9007113e9afd",
   "metadata": {
    "tags": []
   },
   "outputs": [
    {
     "data": {
      "text/plain": [
       "{'ResponseMetadata': {'RequestId': 'e178fdde-633e-4e89-9c10-2844d1bf82e0',\n",
       "  'HTTPStatusCode': 200,\n",
       "  'HTTPHeaders': {'x-amzn-requestid': 'e178fdde-633e-4e89-9c10-2844d1bf82e0',\n",
       "   'content-type': 'application/x-amz-json-1.1',\n",
       "   'content-length': '0',\n",
       "   'date': 'Sat, 27 May 2023 08:24:35 GMT'},\n",
       "  'RetryAttempts': 0}}"
      ]
     },
     "execution_count": 70,
     "metadata": {},
     "output_type": "execute_result"
    }
   ],
   "source": [
    "sm_boto3.delete_endpoint(EndpointName=predictor.endpoint_name)\n",
    "sm_boto3.delete_endpoint_config(EndpointConfigName=predictor.endpoint_name)\n",
    "sm_boto3.delete_model(ModelName=best_model.name)"
   ]
  },
  {
   "cell_type": "code",
   "execution_count": 71,
   "id": "d933e56d-bef8-467e-a142-2d91bb228364",
   "metadata": {
    "tags": []
   },
   "outputs": [],
   "source": [
    "sm_boto3.close()"
   ]
  }
 ],
 "metadata": {
  "kernelspec": {
   "display_name": "conda_pytorch_p39",
   "language": "python",
   "name": "conda_pytorch_p39"
  },
  "language_info": {
   "codemirror_mode": {
    "name": "ipython",
    "version": 3
   },
   "file_extension": ".py",
   "mimetype": "text/x-python",
   "name": "python",
   "nbconvert_exporter": "python",
   "pygments_lexer": "ipython3",
   "version": "3.9.15"
  }
 },
 "nbformat": 4,
 "nbformat_minor": 5
}
