{
 "cells": [
  {
   "cell_type": "code",
   "execution_count": 65,
   "id": "560eace8-6cf0-41f6-ac9d-7222f3ed7b56",
   "metadata": {
    "tags": []
   },
   "outputs": [],
   "source": [
    "%reload_ext autoreload\n",
    "%autoreload 2\n",
    "\n",
    "import os\n",
    "import io\n",
    "import pickle\n",
    "import sys\n",
    "import datetime\n",
    "from IPython.display import Image\n",
    "\n",
    "import boto3\n",
    "import sagemaker\n",
    "from sagemaker.tensorflow.estimator import TensorFlow\n",
    "from sagemaker.tensorflow import TensorFlowModel\n",
    "from sklearn.metrics import accuracy_score\n",
    "from tqdm import tqdm\n",
    "\n",
    "import numpy as np\n",
    "os.environ['TF_CPP_MIN_LOG_LEVEL'] = '2'  # Nopep8\n",
    "import tensorflow as tf\n",
    "\n",
    "import optuna\n",
    "\n",
    "sys.path.append(os.path.dirname(os.getcwd()))\n",
    "from src.custom_utils import get_secret"
   ]
  },
  {
   "attachments": {},
   "cell_type": "markdown",
   "id": "5d7ee4f2-773c-4af4-9c3d-0081600918fa",
   "metadata": {},
   "source": [
    "## S3"
   ]
  },
  {
   "cell_type": "code",
   "execution_count": 2,
   "id": "16229031-c3d5-4e0e-8cd1-6b39072dfc79",
   "metadata": {
    "tags": []
   },
   "outputs": [
    {
     "data": {
      "text/plain": [
       "{'train': 's3://yang-ml-sagemaker/weather-classification/input-data/train',\n",
       " 'val': 's3://yang-ml-sagemaker/weather-classification/input-data/val'}"
      ]
     },
     "execution_count": 2,
     "metadata": {},
     "output_type": "execute_result"
    }
   ],
   "source": [
    "s3 = boto3.client('s3')\n",
    "\n",
    "s3_bucket = 'yang-ml-sagemaker'\n",
    "s3_key = 'weather-classification'\n",
    "\n",
    "train_val_path = {'train': f's3://{s3_bucket}/{s3_key}/input-data/train',\n",
    "                  'val': f's3://{s3_bucket}/{s3_key}/input-data/val'}\n",
    "train_val_path"
   ]
  },
  {
   "attachments": {},
   "cell_type": "markdown",
   "id": "8effd030-a39b-4a68-9dac-f3529caf0259",
   "metadata": {},
   "source": [
    "## Sagemaker"
   ]
  },
  {
   "cell_type": "code",
   "execution_count": 52,
   "id": "e5a39831-2618-4a82-9f62-2866c7df6707",
   "metadata": {
    "tags": []
   },
   "outputs": [],
   "source": [
    "sagemaker_session = sagemaker.Session(default_bucket=s3_bucket)\n",
    "sagemaker_session\n",
    "sm_boto3 = boto3.client('sagemaker')\n",
    "role = sagemaker.get_execution_role()\n",
    "s3_uploader = sagemaker.s3.S3Uploader()\n",
    "instance_type = 'ml.c5.9xlarge'\n",
    "instance_count = 1\n",
    "\n",
    "src_dir_path = os.path.join(os.path.dirname(os.getcwd()), 'src')\n",
    "hpo_script_path = 'hpo_entry.py'\n",
    "model_dir = '/opt/ml/model'\n",
    "\n",
    "PY_VERSION = 'py39'\n",
    "FRAMEWORK_VERSION = '2.8' # Avoid bug with regards to data augmentation in tf 2.9 - 2.12\n",
    "\n",
    "# Get today's date in YYYYMMDD format\n",
    "today = datetime.datetime.today().strftime('%Y-%m-%d')\n",
    "\n",
    "# Define endpoint name with version and date\n",
    "endpoint_name = f'weather-classification-cnn-{today}'"
   ]
  },
  {
   "attachments": {},
   "cell_type": "markdown",
   "id": "c5733aea-5abb-4828-be82-c7c03193cb73",
   "metadata": {},
   "source": [
    "## Database Setup"
   ]
  },
  {
   "cell_type": "code",
   "execution_count": 4,
   "id": "6234f83d-05d6-430c-acb7-a6479ebf8b12",
   "metadata": {
    "tags": []
   },
   "outputs": [],
   "source": [
    "stack_name = 'optuna-stack'\n",
    "study_name = 'hpo_cnn'\n",
    "\n",
    "cf = boto3.client('cloudformation')\n",
    "outputs = cf.describe_stacks(StackName=stack_name)['Stacks'][0]['Outputs']\n",
    "\n",
    "# 'Outputs' is a list of dictionaries, and we extract specific outputs based on their OutputKey property\n",
    "host = [out['OutputValue'] for out in outputs if out['OutputKey'] == 'ClusterEndpoint'][0].split(':')[0]\n",
    "db_name = [out['OutputValue'] for out in outputs if out['OutputKey'] == 'DatabaseName'][0]\n",
    "secret_name = [out['OutputValue'] for out in outputs if out['OutputKey'] == 'DBSecretArn'][0].split(':')[-1].split('-')[0]\n",
    "\n",
    "subnets = [out['OutputValue'] for out in outputs if out['OutputKey'] == 'PrivateSubnets'][0].split(',')\n",
    "security_group_ids = [out['OutputValue'] for out in outputs if out['OutputKey'] == 'SageMakerSecurityGroup'][0].split(',')"
   ]
  },
  {
   "attachments": {},
   "cell_type": "markdown",
   "id": "48689848-6dd3-4e19-b52e-603defe248e2",
   "metadata": {},
   "source": [
    "## Tensorflow Estimator"
   ]
  },
  {
   "cell_type": "code",
   "execution_count": 5,
   "id": "10248106-c46d-47d6-8156-27feaacfb44a",
   "metadata": {
    "tags": []
   },
   "outputs": [
    {
     "data": {
      "text/plain": [
       "<sagemaker.tensorflow.estimator.TensorFlow at 0x7f6cd649d330>"
      ]
     },
     "execution_count": 5,
     "metadata": {},
     "output_type": "execute_result"
    }
   ],
   "source": [
    "tf_estimator = TensorFlow(\n",
    "    entry_point=hpo_script_path,\n",
    "    source_dir=src_dir_path,\n",
    "    role=role,\n",
    "    py_version=PY_VERSION,\n",
    "    framework_version=FRAMEWORK_VERSION,\n",
    "    model_dir=model_dir,\n",
    "    instance_type=instance_type,\n",
    "    instance_count=instance_count,\n",
    "    subnets=subnets,\n",
    "    security_group_ids=security_group_ids,\n",
    "    hyperparameters={\n",
    "        'host': host, \n",
    "        'db_name': db_name, \n",
    "        'study_name': study_name,\n",
    "        'db_secret': secret_name, \n",
    "        'region_name': sagemaker_session._region_name, \n",
    "        'n_trials': 10\n",
    "    }\n",
    ")\n",
    "tf_estimator"
   ]
  },
  {
   "attachments": {},
   "cell_type": "markdown",
   "id": "7a695075-de17-480c-afe2-65f813e00529",
   "metadata": {},
   "source": [
    "## HPO"
   ]
  },
  {
   "cell_type": "code",
   "execution_count": 6,
   "id": "0f9836a5-1534-4d2b-a3c9-3f0b5a60af20",
   "metadata": {
    "tags": []
   },
   "outputs": [
    {
     "name": "stderr",
     "output_type": "stream",
     "text": [
      "INFO:sagemaker.image_uris:image_uri is not presented, retrieving image_uri based on instance_type, framework etc.\n",
      "INFO:sagemaker:Creating training-job with name: tensorflow-training-2023-05-06-11-53-51-295\n"
     ]
    },
    {
     "name": "stdout",
     "output_type": "stream",
     "text": [
      "Using provided s3_resource\n",
      "2023-05-06 11:53:51 Starting - Starting the training job......\n",
      "2023-05-06 11:54:36 Starting - Preparing the instances for training......\n",
      "2023-05-06 11:55:33 Downloading - Downloading input data...\n",
      "2023-05-06 11:56:13 Training - Training image download completed. Training in progress...\u001b[34m2023-05-06 11:56:35.593016: W tensorflow/core/profiler/internal/smprofiler_timeline.cc:460] Initializing the SageMaker Profiler.\u001b[0m\n",
      "\u001b[34m2023-05-06 11:56:35.593165: W tensorflow/core/profiler/internal/smprofiler_timeline.cc:105] SageMaker Profiler is not enabled. The timeline writer thread will not be started, future recorded events will be dropped.\u001b[0m\n",
      "\u001b[34m2023-05-06 11:56:35.619795: W tensorflow/core/profiler/internal/smprofiler_timeline.cc:460] Initializing the SageMaker Profiler.\u001b[0m\n",
      "\u001b[34m2023-05-06 11:56:37,245 sagemaker-training-toolkit INFO     Imported framework sagemaker_tensorflow_container.training\u001b[0m\n",
      "\u001b[34m2023-05-06 11:56:37,255 sagemaker-training-toolkit INFO     No GPUs detected (normal if no gpus installed)\u001b[0m\n",
      "\u001b[34m2023-05-06 11:56:37,412 sagemaker-training-toolkit INFO     Installing dependencies from requirements.txt:\u001b[0m\n",
      "\u001b[34m/usr/local/bin/python3.9 -m pip install -r requirements.txt\u001b[0m\n",
      "\u001b[34mCollecting optuna==3.1.0\u001b[0m\n",
      "\u001b[34mDownloading optuna-3.1.0-py3-none-any.whl (365 kB)\u001b[0m\n",
      "\u001b[34m━━━━━━━━━━━━━━━━━━━━━━━━━━━━━━━━━━━━━━ 365.3/365.3 kB 29.5 MB/s eta 0:00:00\u001b[0m\n",
      "\u001b[34mCollecting PyMySQL==1.0.3\u001b[0m\n",
      "\u001b[34mDownloading PyMySQL-1.0.3-py3-none-any.whl (43 kB)\u001b[0m\n",
      "\u001b[34m━━━━━━━━━━━━━━━━━━━━━━━━━━━━━━━━━━━━━━━━ 43.7/43.7 kB 13.1 MB/s eta 0:00:00\u001b[0m\n",
      "\u001b[34mCollecting colorlog\u001b[0m\n",
      "\u001b[34mDownloading colorlog-6.7.0-py2.py3-none-any.whl (11 kB)\u001b[0m\n",
      "\u001b[34mCollecting cmaes>=0.9.1\u001b[0m\n",
      "\u001b[34mDownloading cmaes-0.9.1-py3-none-any.whl (21 kB)\u001b[0m\n",
      "\u001b[34mCollecting alembic>=1.5.0\u001b[0m\n",
      "\u001b[34mDownloading alembic-1.10.4-py3-none-any.whl (212 kB)\u001b[0m\n",
      "\u001b[34m━━━━━━━━━━━━━━━━━━━━━━━━━━━━━━━━━━━━━━ 212.9/212.9 kB 40.8 MB/s eta 0:00:00\u001b[0m\n",
      "\u001b[34mCollecting sqlalchemy>=1.3.0\u001b[0m\n",
      "\u001b[34mDownloading SQLAlchemy-2.0.12-cp39-cp39-manylinux_2_17_x86_64.manylinux2014_x86_64.whl (2.7 MB)\u001b[0m\n",
      "\u001b[34m━━━━━━━━━━━━━━━━━━━━━━━━━━━━━━━━━━━━━━━━ 2.7/2.7 MB 99.8 MB/s eta 0:00:00\u001b[0m\n",
      "\u001b[34mRequirement already satisfied: PyYAML in /usr/local/lib/python3.9/site-packages (from optuna==3.1.0->-r requirements.txt (line 1)) (5.4.1)\u001b[0m\n",
      "\u001b[34mRequirement already satisfied: numpy in /usr/local/lib/python3.9/site-packages (from optuna==3.1.0->-r requirements.txt (line 1)) (1.22.4)\u001b[0m\n",
      "\u001b[34mRequirement already satisfied: packaging>=20.0 in /usr/local/lib/python3.9/site-packages (from optuna==3.1.0->-r requirements.txt (line 1)) (21.3)\u001b[0m\n",
      "\u001b[34mRequirement already satisfied: tqdm in /usr/local/lib/python3.9/site-packages (from optuna==3.1.0->-r requirements.txt (line 1)) (4.64.1)\u001b[0m\n",
      "\u001b[34mRequirement already satisfied: typing-extensions>=4 in /usr/local/lib/python3.9/site-packages (from alembic>=1.5.0->optuna==3.1.0->-r requirements.txt (line 1)) (4.3.0)\u001b[0m\n",
      "\u001b[34mCollecting Mako\u001b[0m\n",
      "\u001b[34mDownloading Mako-1.2.4-py3-none-any.whl (78 kB)\u001b[0m\n",
      "\u001b[34m━━━━━━━━━━━━━━━━━━━━━━━━━━━━━━━━━━━━━━━━ 78.7/78.7 kB 19.7 MB/s eta 0:00:00\u001b[0m\n",
      "\u001b[34mRequirement already satisfied: pyparsing!=3.0.5,>=2.0.2 in /usr/local/lib/python3.9/site-packages (from packaging>=20.0->optuna==3.1.0->-r requirements.txt (line 1)) (3.0.9)\u001b[0m\n",
      "\u001b[34mRequirement already satisfied: greenlet!=0.4.17 in /usr/local/lib/python3.9/site-packages (from sqlalchemy>=1.3.0->optuna==3.1.0->-r requirements.txt (line 1)) (1.1.3)\u001b[0m\n",
      "\u001b[34mRequirement already satisfied: MarkupSafe>=0.9.2 in /usr/local/lib/python3.9/site-packages (from Mako->alembic>=1.5.0->optuna==3.1.0->-r requirements.txt (line 1)) (2.1.1)\u001b[0m\n",
      "\u001b[34mInstalling collected packages: sqlalchemy, PyMySQL, Mako, colorlog, cmaes, alembic, optuna\u001b[0m\n",
      "\u001b[34mSuccessfully installed Mako-1.2.4 PyMySQL-1.0.3 alembic-1.10.4 cmaes-0.9.1 colorlog-6.7.0 optuna-3.1.0 sqlalchemy-2.0.12\u001b[0m\n",
      "\u001b[34mWARNING: Running pip as the 'root' user can result in broken permissions and conflicting behaviour with the system package manager. It is recommended to use a virtual environment instead: https://pip.pypa.io/warnings/venv\u001b[0m\n",
      "\u001b[34m[notice] A new release of pip available: 22.2.2 -> 23.1.2\u001b[0m\n",
      "\u001b[34m[notice] To update, run: pip install --upgrade pip\u001b[0m\n",
      "\u001b[34m2023-05-06 11:56:41,541 sagemaker-training-toolkit INFO     Waiting for the process to finish and give a return code.\u001b[0m\n",
      "\u001b[34m2023-05-06 11:56:41,541 sagemaker-training-toolkit INFO     Done waiting for a return code. Received 0 from exiting process.\u001b[0m\n",
      "\u001b[34m2023-05-06 11:56:41,550 sagemaker-training-toolkit INFO     No GPUs detected (normal if no gpus installed)\u001b[0m\n",
      "\u001b[34m2023-05-06 11:56:41,568 sagemaker-training-toolkit INFO     No GPUs detected (normal if no gpus installed)\u001b[0m\n",
      "\u001b[34m2023-05-06 11:56:41,583 sagemaker-training-toolkit INFO     No GPUs detected (normal if no gpus installed)\u001b[0m\n",
      "\u001b[34m2023-05-06 11:56:41,591 sagemaker-training-toolkit INFO     Invoking user script\u001b[0m\n",
      "\u001b[34mTraining Env:\u001b[0m\n",
      "\u001b[34m{\n",
      "    \"additional_framework_parameters\": {},\n",
      "    \"channel_input_dirs\": {\n",
      "        \"train\": \"/opt/ml/input/data/train\",\n",
      "        \"val\": \"/opt/ml/input/data/val\"\n",
      "    },\n",
      "    \"current_host\": \"algo-1\",\n",
      "    \"current_instance_group\": \"homogeneousCluster\",\n",
      "    \"current_instance_group_hosts\": [\n",
      "        \"algo-1\"\n",
      "    ],\n",
      "    \"current_instance_type\": \"ml.c5.9xlarge\",\n",
      "    \"distribution_hosts\": [],\n",
      "    \"distribution_instance_groups\": [],\n",
      "    \"framework_module\": \"sagemaker_tensorflow_container.training:main\",\n",
      "    \"hosts\": [\n",
      "        \"algo-1\"\n",
      "    ],\n",
      "    \"hyperparameters\": {\n",
      "        \"db_name\": \"optuna\",\n",
      "        \"db_secret\": \"optuna/db\",\n",
      "        \"host\": \"optuna-parameter.cluster-c4aytnni2ebj.us-east-1.rds.amazonaws.com\",\n",
      "        \"model_dir\": \"/opt/ml/model\",\n",
      "        \"n_trials\": 10,\n",
      "        \"region_name\": \"us-east-1\",\n",
      "        \"study_name\": \"hpo_cnn\"\n",
      "    },\n",
      "    \"input_config_dir\": \"/opt/ml/input/config\",\n",
      "    \"input_data_config\": {\n",
      "        \"train\": {\n",
      "            \"TrainingInputMode\": \"File\",\n",
      "            \"S3DistributionType\": \"FullyReplicated\",\n",
      "            \"RecordWrapperType\": \"None\"\n",
      "        },\n",
      "        \"val\": {\n",
      "            \"TrainingInputMode\": \"File\",\n",
      "            \"S3DistributionType\": \"FullyReplicated\",\n",
      "            \"RecordWrapperType\": \"None\"\n",
      "        }\n",
      "    },\n",
      "    \"input_dir\": \"/opt/ml/input\",\n",
      "    \"instance_groups\": [\n",
      "        \"homogeneousCluster\"\n",
      "    ],\n",
      "    \"instance_groups_dict\": {\n",
      "        \"homogeneousCluster\": {\n",
      "            \"instance_group_name\": \"homogeneousCluster\",\n",
      "            \"instance_type\": \"ml.c5.9xlarge\",\n",
      "            \"hosts\": [\n",
      "                \"algo-1\"\n",
      "            ]\n",
      "        }\n",
      "    },\n",
      "    \"is_hetero\": false,\n",
      "    \"is_master\": true,\n",
      "    \"is_modelparallel_enabled\": null,\n",
      "    \"job_name\": \"tensorflow-training-2023-05-06-11-53-51-295\",\n",
      "    \"log_level\": 20,\n",
      "    \"master_hostname\": \"algo-1\",\n",
      "    \"model_dir\": \"/opt/ml/model\",\n",
      "    \"module_dir\": \"s3://sagemaker-us-east-1-722696965592/tensorflow-training-2023-05-06-11-53-51-295/source/sourcedir.tar.gz\",\n",
      "    \"module_name\": \"hpo_entry\",\n",
      "    \"network_interface_name\": \"eth0\",\n",
      "    \"num_cpus\": 36,\n",
      "    \"num_gpus\": 0,\n",
      "    \"output_data_dir\": \"/opt/ml/output/data\",\n",
      "    \"output_dir\": \"/opt/ml/output\",\n",
      "    \"output_intermediate_dir\": \"/opt/ml/output/intermediate\",\n",
      "    \"resource_config\": {\n",
      "        \"current_host\": \"algo-1\",\n",
      "        \"current_instance_type\": \"ml.c5.9xlarge\",\n",
      "        \"current_group_name\": \"homogeneousCluster\",\n",
      "        \"hosts\": [\n",
      "            \"algo-1\"\n",
      "        ],\n",
      "        \"instance_groups\": [\n",
      "            {\n",
      "                \"instance_group_name\": \"homogeneousCluster\",\n",
      "                \"instance_type\": \"ml.c5.9xlarge\",\n",
      "                \"hosts\": [\n",
      "                    \"algo-1\"\n",
      "                ]\n",
      "            }\n",
      "        ],\n",
      "        \"network_interface_name\": \"eth0\"\n",
      "    },\n",
      "    \"user_entry_point\": \"hpo_entry.py\"\u001b[0m\n",
      "\u001b[34m}\u001b[0m\n",
      "\u001b[34mEnvironment variables:\u001b[0m\n",
      "\u001b[34mSM_HOSTS=[\"algo-1\"]\u001b[0m\n",
      "\u001b[34mSM_NETWORK_INTERFACE_NAME=eth0\u001b[0m\n",
      "\u001b[34mSM_HPS={\"db_name\":\"optuna\",\"db_secret\":\"optuna/db\",\"host\":\"optuna-parameter.cluster-c4aytnni2ebj.us-east-1.rds.amazonaws.com\",\"model_dir\":\"/opt/ml/model\",\"n_trials\":10,\"region_name\":\"us-east-1\",\"study_name\":\"hpo_cnn\"}\u001b[0m\n",
      "\u001b[34mSM_USER_ENTRY_POINT=hpo_entry.py\u001b[0m\n",
      "\u001b[34mSM_FRAMEWORK_PARAMS={}\u001b[0m\n",
      "\u001b[34mSM_RESOURCE_CONFIG={\"current_group_name\":\"homogeneousCluster\",\"current_host\":\"algo-1\",\"current_instance_type\":\"ml.c5.9xlarge\",\"hosts\":[\"algo-1\"],\"instance_groups\":[{\"hosts\":[\"algo-1\"],\"instance_group_name\":\"homogeneousCluster\",\"instance_type\":\"ml.c5.9xlarge\"}],\"network_interface_name\":\"eth0\"}\u001b[0m\n",
      "\u001b[34mSM_INPUT_DATA_CONFIG={\"train\":{\"RecordWrapperType\":\"None\",\"S3DistributionType\":\"FullyReplicated\",\"TrainingInputMode\":\"File\"},\"val\":{\"RecordWrapperType\":\"None\",\"S3DistributionType\":\"FullyReplicated\",\"TrainingInputMode\":\"File\"}}\u001b[0m\n",
      "\u001b[34mSM_OUTPUT_DATA_DIR=/opt/ml/output/data\u001b[0m\n",
      "\u001b[34mSM_CHANNELS=[\"train\",\"val\"]\u001b[0m\n",
      "\u001b[34mSM_CURRENT_HOST=algo-1\u001b[0m\n",
      "\u001b[34mSM_CURRENT_INSTANCE_TYPE=ml.c5.9xlarge\u001b[0m\n",
      "\u001b[34mSM_CURRENT_INSTANCE_GROUP=homogeneousCluster\u001b[0m\n",
      "\u001b[34mSM_CURRENT_INSTANCE_GROUP_HOSTS=[\"algo-1\"]\u001b[0m\n",
      "\u001b[34mSM_INSTANCE_GROUPS=[\"homogeneousCluster\"]\u001b[0m\n",
      "\u001b[34mSM_INSTANCE_GROUPS_DICT={\"homogeneousCluster\":{\"hosts\":[\"algo-1\"],\"instance_group_name\":\"homogeneousCluster\",\"instance_type\":\"ml.c5.9xlarge\"}}\u001b[0m\n",
      "\u001b[34mSM_DISTRIBUTION_INSTANCE_GROUPS=[]\u001b[0m\n",
      "\u001b[34mSM_IS_HETERO=false\u001b[0m\n",
      "\u001b[34mSM_MODULE_NAME=hpo_entry\u001b[0m\n",
      "\u001b[34mSM_LOG_LEVEL=20\u001b[0m\n",
      "\u001b[34mSM_FRAMEWORK_MODULE=sagemaker_tensorflow_container.training:main\u001b[0m\n",
      "\u001b[34mSM_INPUT_DIR=/opt/ml/input\u001b[0m\n",
      "\u001b[34mSM_INPUT_CONFIG_DIR=/opt/ml/input/config\u001b[0m\n",
      "\u001b[34mSM_OUTPUT_DIR=/opt/ml/output\u001b[0m\n",
      "\u001b[34mSM_NUM_CPUS=36\u001b[0m\n",
      "\u001b[34mSM_NUM_GPUS=0\u001b[0m\n",
      "\u001b[34mSM_MODEL_DIR=/opt/ml/model\u001b[0m\n",
      "\u001b[34mSM_MODULE_DIR=s3://sagemaker-us-east-1-722696965592/tensorflow-training-2023-05-06-11-53-51-295/source/sourcedir.tar.gz\u001b[0m\n",
      "\u001b[34mSM_TRAINING_ENV={\"additional_framework_parameters\":{},\"channel_input_dirs\":{\"train\":\"/opt/ml/input/data/train\",\"val\":\"/opt/ml/input/data/val\"},\"current_host\":\"algo-1\",\"current_instance_group\":\"homogeneousCluster\",\"current_instance_group_hosts\":[\"algo-1\"],\"current_instance_type\":\"ml.c5.9xlarge\",\"distribution_hosts\":[],\"distribution_instance_groups\":[],\"framework_module\":\"sagemaker_tensorflow_container.training:main\",\"hosts\":[\"algo-1\"],\"hyperparameters\":{\"db_name\":\"optuna\",\"db_secret\":\"optuna/db\",\"host\":\"optuna-parameter.cluster-c4aytnni2ebj.us-east-1.rds.amazonaws.com\",\"model_dir\":\"/opt/ml/model\",\"n_trials\":10,\"region_name\":\"us-east-1\",\"study_name\":\"hpo_cnn\"},\"input_config_dir\":\"/opt/ml/input/config\",\"input_data_config\":{\"train\":{\"RecordWrapperType\":\"None\",\"S3DistributionType\":\"FullyReplicated\",\"TrainingInputMode\":\"File\"},\"val\":{\"RecordWrapperType\":\"None\",\"S3DistributionType\":\"FullyReplicated\",\"TrainingInputMode\":\"File\"}},\"input_dir\":\"/opt/ml/input\",\"instance_groups\":[\"homogeneousCluster\"],\"instance_groups_dict\":{\"homogeneousCluster\":{\"hosts\":[\"algo-1\"],\"instance_group_name\":\"homogeneousCluster\",\"instance_type\":\"ml.c5.9xlarge\"}},\"is_hetero\":false,\"is_master\":true,\"is_modelparallel_enabled\":null,\"job_name\":\"tensorflow-training-2023-05-06-11-53-51-295\",\"log_level\":20,\"master_hostname\":\"algo-1\",\"model_dir\":\"/opt/ml/model\",\"module_dir\":\"s3://sagemaker-us-east-1-722696965592/tensorflow-training-2023-05-06-11-53-51-295/source/sourcedir.tar.gz\",\"module_name\":\"hpo_entry\",\"network_interface_name\":\"eth0\",\"num_cpus\":36,\"num_gpus\":0,\"output_data_dir\":\"/opt/ml/output/data\",\"output_dir\":\"/opt/ml/output\",\"output_intermediate_dir\":\"/opt/ml/output/intermediate\",\"resource_config\":{\"current_group_name\":\"homogeneousCluster\",\"current_host\":\"algo-1\",\"current_instance_type\":\"ml.c5.9xlarge\",\"hosts\":[\"algo-1\"],\"instance_groups\":[{\"hosts\":[\"algo-1\"],\"instance_group_name\":\"homogeneousCluster\",\"instance_type\":\"ml.c5.9xlarge\"}],\"network_interface_name\":\"eth0\"},\"user_entry_point\":\"hpo_entry.py\"}\u001b[0m\n",
      "\u001b[34mSM_USER_ARGS=[\"--db_name\",\"optuna\",\"--db_secret\",\"optuna/db\",\"--host\",\"optuna-parameter.cluster-c4aytnni2ebj.us-east-1.rds.amazonaws.com\",\"--model_dir\",\"/opt/ml/model\",\"--n_trials\",\"10\",\"--region_name\",\"us-east-1\",\"--study_name\",\"hpo_cnn\"]\u001b[0m\n",
      "\u001b[34mSM_OUTPUT_INTERMEDIATE_DIR=/opt/ml/output/intermediate\u001b[0m\n",
      "\u001b[34mSM_CHANNEL_TRAIN=/opt/ml/input/data/train\u001b[0m\n",
      "\u001b[34mSM_CHANNEL_VAL=/opt/ml/input/data/val\u001b[0m\n",
      "\u001b[34mSM_HP_DB_NAME=optuna\u001b[0m\n",
      "\u001b[34mSM_HP_DB_SECRET=optuna/db\u001b[0m\n",
      "\u001b[34mSM_HP_HOST=optuna-parameter.cluster-c4aytnni2ebj.us-east-1.rds.amazonaws.com\u001b[0m\n",
      "\u001b[34mSM_HP_MODEL_DIR=/opt/ml/model\u001b[0m\n",
      "\u001b[34mSM_HP_N_TRIALS=10\u001b[0m\n",
      "\u001b[34mSM_HP_REGION_NAME=us-east-1\u001b[0m\n",
      "\u001b[34mSM_HP_STUDY_NAME=hpo_cnn\u001b[0m\n",
      "\u001b[34mPYTHONPATH=/opt/ml/code:/usr/local/bin:/usr/local/lib/python39.zip:/usr/local/lib/python3.9:/usr/local/lib/python3.9/lib-dynload:/usr/local/lib/python3.9/site-packages:/usr/local/lib/python3.9/site-packages/smdebug-1.0.14b20221003-py3.9.egg:/usr/local/lib/python3.9/site-packages/pyinstrument-3.4.2-py3.9.egg:/usr/local/lib/python3.9/site-packages/pyinstrument_cext-0.2.4-py3.9-linux-x86_64.egg\u001b[0m\n",
      "\u001b[34mInvoking script with the following command:\u001b[0m\n",
      "\u001b[34m/usr/local/bin/python3.9 hpo_entry.py --db_name optuna --db_secret optuna/db --host optuna-parameter.cluster-c4aytnni2ebj.us-east-1.rds.amazonaws.com --model_dir /opt/ml/model --n_trials 10 --region_name us-east-1 --study_name hpo_cnn\u001b[0m\n",
      "\u001b[34mExtension horovod.torch has not been built: /usr/local/lib/python3.9/site-packages/horovod/torch/mpi_lib/_mpi_lib.cpython-39-x86_64-linux-gnu.so not found\u001b[0m\n",
      "\u001b[34mIf this is not expected, reinstall Horovod with HOROVOD_WITH_PYTORCH=1 to debug the build error.\u001b[0m\n",
      "\u001b[34mWarning! MPI libs are missing, but python applications are still available.\u001b[0m\n",
      "\u001b[34m#033[32m[I 2023-05-06 11:56:44,770]#033[0m A new study created in RDB with name: hpo_cnn#033[0m\u001b[0m\n",
      "\u001b[34mEpoch 1/15\u001b[0m\n",
      "\u001b[34mExtension horovod.torch has not been built: /usr/local/lib/python3.9/site-packages/horovod/torch/mpi_lib/_mpi_lib.cpython-39-x86_64-linux-gnu.so not found\u001b[0m\n",
      "\u001b[34mIf this is not expected, reinstall Horovod with HOROVOD_WITH_PYTORCH=1 to debug the build error.\u001b[0m\n",
      "\u001b[34mWarning! MPI libs are missing, but python applications are still available.\u001b[0m\n",
      "\u001b[34mEpoch 1/20\u001b[0m\n",
      "\u001b[34mEpoch 1/26\u001b[0m\n",
      "\u001b[34m[2023-05-06 11:56:51.966 ip-10-0-1-196.ec2.internal:103 INFO utils.py:27] RULE_JOB_STOP_SIGNAL_FILENAME: None\u001b[0m\n",
      "\u001b[34m#033[33m[W 2023-05-06 11:56:52,015]#033[0m Trial 9 failed with parameters: {'random_contrast_factor': 0.6693132057812216, 'random_flip_mode': 'vertical', 'random_rotation_factor': 0.33693997561392763, 'random_zoom_factor': 0.2669848176319668, 'n_conv_layers': 2, 'filters_0': 256, 'filters_1': 128, 'pool_size': 3, 'conv_batch_norm_momentum': 0.9852489724214202, 'conv2d_regularizer_decay': 0.00030201082878846284, 'n_dense_layers': 1, 'units_0': 64, 'dense_batch_norm_momentum': 0.9742179387844153, 'dense_regularizer_decay': 8.455881223520295e-07, 'dropout_rate': 0.19843919454457631, 'learning_rate': 0.09185020850234474, 'clipnorm': 0.9447436312094348, 'epochs': 26} because of the following error: AttributeError('in user code:\\n\\n    File \"/usr/local/lib/python3.9/site-packages/keras/engine/training.py\", line 1021, in train_function  *\\n        return step_function(self, iterator)\\n    File \"/usr/local/lib/python3.9/site-packages/keras/engine/training.py\", line 1010, in step_function  **\\n        outputs = model.distribute_strategy.run(run_step, args=(data,))\\n    File \"/usr/local/lib/python3.9/site-packages/keras/engine/training.py\", line 1000, in run_step  **\\n        outputs = model.train_step(data)\\n    File \"/usr/local/lib/python3.9/site-packages/keras/engine/training.py\", line 858, in train_step\\n        with tf.GradientTape() as tape:\\n\\n    AttributeError: module \\'smdebug.tensorflow\\' has no attribute \\'get_hook\\'\\n').#033[0m\u001b[0m\n",
      "\u001b[34mTraceback (most recent call last):\n",
      "  File \"/usr/local/lib/python3.9/site-packages/optuna/study/_optimize.py\", line 200, in _run_trial\n",
      "    value_or_values = func(trial)\n",
      "  File \"/opt/ml/code/hpo_entry.py\", line 163, in objective_wrapper\n",
      "    def objective_wrapper(trial): return objective(\n",
      "  File \"/opt/ml/code/hpo_entry.py\", line 85, in objective\n",
      "    compiled_cnn_model.fit(\n",
      "  File \"/usr/local/lib/python3.9/site-packages/keras/utils/traceback_utils.py\", line 67, in error_handler\n",
      "    raise e.with_traceback(filtered_tb) from None\n",
      "  File \"/usr/local/lib/python3.9/site-packages/tensorflow/python/framework/func_graph.py\", line 1147, in autograph_handler\n",
      "    raise e.ag_error_metadata.to_exception(e)\u001b[0m\n",
      "\u001b[34mAttributeError: in user code:\n",
      "    File \"/usr/local/lib/python3.9/site-packages/keras/engine/training.py\", line 1021, in train_function  *\n",
      "        return step_function(self, iterator)\n",
      "    File \"/usr/local/lib/python3.9/site-packages/keras/engine/training.py\", line 1010, in step_function  **\n",
      "        outputs = model.distribute_strategy.run(run_step, args=(data,))\n",
      "    File \"/usr/local/lib/python3.9/site-packages/keras/engine/training.py\", line 1000, in run_step  **\n",
      "        outputs = model.train_step(data)\n",
      "    File \"/usr/local/lib/python3.9/site-packages/keras/engine/training.py\", line 858, in train_step\n",
      "        with tf.GradientTape() as tape:\n",
      "    AttributeError: module 'smdebug.tensorflow' has no attribute 'get_hook'\u001b[0m\n",
      "\u001b[34m#033[33m[W 2023-05-06 11:56:52,049]#033[0m Trial 9 failed with value None.#033[0m\u001b[0m\n",
      "\u001b[34m/usr/local/lib/python3.9/site-packages/smdebug-1.0.14b20221003-py3.9.egg/smdebug/profiler/system_metrics_reader.py:63: SyntaxWarning: \"is not\" with a literal. Did you mean \"!=\"?\u001b[0m\n",
      "\u001b[34m/usr/local/lib/python3.9/site-packages/smdebug-1.0.14b20221003-py3.9.egg/smdebug/profiler/system_metrics_reader.py:63: SyntaxWarning: \"is not\" with a literal. Did you mean \"!=\"?\u001b[0m\n",
      "\u001b[34mEpoch 1/24\u001b[0m\n",
      "\u001b[34m#033[33m[W 2023-05-06 11:56:53,252]#033[0m Trial 3 failed with parameters: {'random_contrast_factor': 0.2916983868478077, 'random_flip_mode': 'horizontal_and_vertical', 'random_rotation_factor': 0.22645064168214188, 'random_zoom_factor': 0.4584582710150368, 'n_conv_layers': 2, 'filters_0': 128, 'filters_1': 128, 'pool_size': 3, 'conv_batch_norm_momentum': 0.9101379362152149, 'conv2d_regularizer_decay': 5.947164783237731e-06, 'n_dense_layers': 1, 'units_0': 32, 'dense_batch_norm_momentum': 0.935170829895367, 'dense_regularizer_decay': 3.170989822403506e-06, 'dropout_rate': 0.25999014498205697, 'learning_rate': 0.0010836717557792907, 'clipnorm': 0.46926185211176674, 'epochs': 24} because of the following error: AttributeError('in user code:\\n\\n    File \"/usr/local/lib/python3.9/site-packages/keras/engine/training.py\", line 1021, in train_function  *\\n        return step_function(self, iterator)\\n    File \"/usr/local/lib/python3.9/site-packages/keras/engine/training.py\", line 1010, in step_function  **\\n        outputs = model.distribute_strategy.run(run_step, args=(data,))\\n    File \"/usr/local/lib/python3.9/site-packages/keras/engine/training.py\", line 1000, in run_step  **\\n        outputs = model.train_step(data)\\n    File \"/usr/local/lib/python3.9/site-packages/keras/engine/training.py\", line 858, in train_step\\n        with tf.GradientTape() as tape:\\n\\n    AttributeError: module \\'smdebug.tensorflow\\' has no attribute \\'get_hook\\'\\n').#033[0m\u001b[0m\n",
      "\u001b[34mTraceback (most recent call last):\n",
      "  File \"/usr/local/lib/python3.9/site-packages/optuna/study/_optimize.py\", line 200, in _run_trial\n",
      "    value_or_values = func(trial)\n",
      "  File \"/opt/ml/code/hpo_entry.py\", line 163, in objective_wrapper\n",
      "    def objective_wrapper(trial): return objective(\n",
      "  File \"/opt/ml/code/hpo_entry.py\", line 85, in objective\n",
      "    compiled_cnn_model.fit(\n",
      "  File \"/usr/local/lib/python3.9/site-packages/keras/utils/traceback_utils.py\", line 67, in error_handler\n",
      "    raise e.with_traceback(filtered_tb) from None\n",
      "  File \"/usr/local/lib/python3.9/site-packages/tensorflow/python/framework/func_graph.py\", line 1147, in autograph_handler\n",
      "    raise e.ag_error_metadata.to_exception(e)\u001b[0m\n",
      "\u001b[34mAttributeError: in user code:\n",
      "    File \"/usr/local/lib/python3.9/site-packages/keras/engine/training.py\", line 1021, in train_function  *\n",
      "        return step_function(self, iterator)\n",
      "    File \"/usr/local/lib/python3.9/site-packages/keras/engine/training.py\", line 1010, in step_function  **\n",
      "        outputs = model.distribute_strategy.run(run_step, args=(data,))\n",
      "    File \"/usr/local/lib/python3.9/site-packages/keras/engine/training.py\", line 1000, in run_step  **\n",
      "        outputs = model.train_step(data)\n",
      "    File \"/usr/local/lib/python3.9/site-packages/keras/engine/training.py\", line 858, in train_step\n",
      "        with tf.GradientTape() as tape:\n",
      "    AttributeError: module 'smdebug.tensorflow' has no attribute 'get_hook'\u001b[0m\n",
      "\u001b[34m#033[33m[W 2023-05-06 11:56:53,283]#033[0m Trial 3 failed with value None.#033[0m\u001b[0m\n",
      "\u001b[34m[2023-05-06 11:56:53.329 ip-10-0-1-196.ec2.internal:103 INFO profiler_config_parser.py:111] User has disabled profiler.\u001b[0m\n",
      "\u001b[34mEpoch 1/24\u001b[0m\n",
      "\u001b[34m#033[33m[W 2023-05-06 11:56:54,123]#033[0m Trial 0 failed with parameters: {'random_contrast_factor': 0.8045442576030103, 'random_flip_mode': 'vertical', 'random_rotation_factor': 0.3700693263525541, 'random_zoom_factor': 0.3095352132841516, 'n_conv_layers': 1, 'filters_0': 128, 'pool_size': 2, 'conv_batch_norm_momentum': 0.7532214716456179, 'conv2d_regularizer_decay': 2.230018434439923e-06, 'n_dense_layers': 1, 'units_0': 32, 'dense_batch_norm_momentum': 0.9665319474046891, 'dense_regularizer_decay': 8.025594149606603e-05, 'dropout_rate': 0.4337496367248995, 'learning_rate': 4.235828225302198e-05, 'clipnorm': 0.41866131272651863, 'epochs': 24} because of the following error: AttributeError('in user code:\\n\\n    File \"/usr/local/lib/python3.9/site-packages/keras/engine/training.py\", line 1021, in train_function  *\\n        return step_function(self, iterator)\\n    File \"/usr/local/lib/python3.9/site-packages/keras/engine/training.py\", line 1010, in step_function  **\\n        outputs = model.distribute_strategy.run(run_step, args=(data,))\\n    File \"/usr/local/lib/python3.9/site-packages/keras/engine/training.py\", line 1000, in run_step  **\\n        outputs = model.train_step(data)\\n    File \"/usr/local/lib/python3.9/site-packages/keras/engine/training.py\", line 858, in train_step\\n        with tf.GradientTape() as tape:\\n\\n    AttributeError: module \\'smdebug.tensorflow\\' has no attribute \\'get_hook\\'\\n').#033[0m\u001b[0m\n",
      "\u001b[34mTraceback (most recent call last):\n",
      "  File \"/usr/local/lib/python3.9/site-packages/optuna/study/_optimize.py\", line 200, in _run_trial\n",
      "    value_or_values = func(trial)\n",
      "  File \"/opt/ml/code/hpo_entry.py\", line 163, in objective_wrapper\n",
      "    def objective_wrapper(trial): return objective(\n",
      "  File \"/opt/ml/code/hpo_entry.py\", line 85, in objective\n",
      "    compiled_cnn_model.fit(\n",
      "  File \"/usr/local/lib/python3.9/site-packages/keras/utils/traceback_utils.py\", line 67, in error_handler\n",
      "    raise e.with_traceback(filtered_tb) from None\n",
      "  File \"/usr/local/lib/python3.9/site-packages/tensorflow/python/framework/func_graph.py\", line 1147, in autograph_handler\n",
      "    raise e.ag_error_metadata.to_exception(e)\u001b[0m\n",
      "\u001b[34mAttributeError: in user code:\n",
      "    File \"/usr/local/lib/python3.9/site-packages/keras/engine/training.py\", line 1021, in train_function  *\n",
      "        return step_function(self, iterator)\n",
      "    File \"/usr/local/lib/python3.9/site-packages/keras/engine/training.py\", line 1010, in step_function  **\n",
      "        outputs = model.distribute_strategy.run(run_step, args=(data,))\n",
      "    File \"/usr/local/lib/python3.9/site-packages/keras/engine/training.py\", line 1000, in run_step  **\n",
      "        outputs = model.train_step(data)\n",
      "    File \"/usr/local/lib/python3.9/site-packages/keras/engine/training.py\", line 858, in train_step\n",
      "        with tf.GradientTape() as tape:\n",
      "    AttributeError: module 'smdebug.tensorflow' has no attribute 'get_hook'\u001b[0m\n",
      "\u001b[34m#033[33m[W 2023-05-06 11:56:54,130]#033[0m Trial 0 failed with value None.#033[0m\u001b[0m\n",
      "\u001b[34m[2023-05-06 11:56:54.808 ip-10-0-1-196.ec2.internal:103 INFO json_config.py:91] Creating hook from json_config at /opt/ml/input/config/debughookconfig.json.\u001b[0m\n",
      "\u001b[34m[2023-05-06 11:56:54.810 ip-10-0-1-196.ec2.internal:103 INFO hook.py:201] tensorboard_dir has not been set for the hook. SMDebug will not be exporting tensorboard summaries.\u001b[0m\n",
      "\u001b[34m[2023-05-06 11:56:54.812 ip-10-0-1-196.ec2.internal:103 INFO json_config.py:91] Creating hook from json_config at /opt/ml/input/config/debughookconfig.json.\u001b[0m\n",
      "\u001b[34m[2023-05-06 11:56:54.826 ip-10-0-1-196.ec2.internal:103 INFO hook.py:201] tensorboard_dir has not been set for the hook. SMDebug will not be exporting tensorboard summaries.\u001b[0m\n",
      "\u001b[34m[2023-05-06 11:56:54.850 ip-10-0-1-196.ec2.internal:103 INFO hook.py:254] Saving to /opt/ml/output/tensors\u001b[0m\n",
      "\u001b[34m[2023-05-06 11:56:54.851 ip-10-0-1-196.ec2.internal:103 INFO hook.py:254] Saving to /opt/ml/output/tensors\u001b[0m\n",
      "\u001b[34m[2023-05-06 11:56:54.852 ip-10-0-1-196.ec2.internal:103 INFO state_store.py:77] The checkpoint config file /opt/ml/input/config/checkpointconfig.json does not exist.\u001b[0m\n",
      "\u001b[34m[2023-05-06 11:56:54.853 ip-10-0-1-196.ec2.internal:103 INFO state_store.py:77] The checkpoint config file /opt/ml/input/config/checkpointconfig.json does not exist.\u001b[0m\n",
      "\u001b[34m[2023-05-06 11:56:54.855 ip-10-0-1-196.ec2.internal:103 INFO hook.py:421] Monitoring the collections: sm_metrics, metrics, losses\u001b[0m\n",
      "\u001b[34m[2023-05-06 11:56:54.856 ip-10-0-1-196.ec2.internal:103 INFO hook.py:421] Monitoring the collections: sm_metrics, metrics, losses\u001b[0m\n",
      "\u001b[34m[2023-05-06 11:56:54.863 ip-10-0-1-196.ec2.internal:103 INFO hook.py:421] Monitoring the collections: sm_metrics, metrics, losses\u001b[0m\n",
      "\u001b[34mEpoch 1/17\u001b[0m\n",
      "\u001b[34mEpoch 1/18\u001b[0m\n",
      "\u001b[34mEpoch 1/17\u001b[0m\n",
      "\u001b[34mEpoch 1/15\u001b[0m\n",
      "\u001b[34mEpoch 1/11\u001b[0m\n",
      "\u001b[34mWARNING:tensorflow:5 out of the last 8 calls to <function Model.make_train_function.<locals>.train_function at 0x7f5a08165430> triggered tf.function retracing. Tracing is expensive and the excessive number of tracings could be due to (1) creating @tf.function repeatedly in a loop, (2) passing tensors with different shapes, (3) passing Python objects instead of tensors. For (1), please define your @tf.function outside of the loop. For (2), @tf.function has experimental_relax_shapes=True option that relaxes argument shapes that can avoid unnecessary retracing. For (3), please refer to https://www.tensorflow.org/guide/function#controlling_retracing and https://www.tensorflow.org/api_docs/python/tf/function for  more details.\u001b[0m\n",
      "\u001b[34m2023-05-06 11:57:13,131 WARNING tensorflow: 5 out of the last 8 calls to <function Model.make_train_function.<locals>.train_function at 0x7f5a08165430> triggered tf.function retracing. Tracing is expensive and the excessive number of tracings could be due to (1) creating @tf.function repeatedly in a loop, (2) passing tensors with different shapes, (3) passing Python objects instead of tensors. For (1), please define your @tf.function outside of the loop. For (2), @tf.function has experimental_relax_shapes=True option that relaxes argument shapes that can avoid unnecessary retracing. For (3), please refer to https://www.tensorflow.org/guide/function#controlling_retracing and https://www.tensorflow.org/api_docs/python/tf/function for  more details.\u001b[0m\n",
      "\u001b[34mWARNING:tensorflow:6 out of the last 9 calls to <function Model.make_train_function.<locals>.train_function at 0x7f5a3c2e9310> triggered tf.function retracing. Tracing is expensive and the excessive number of tracings could be due to (1) creating @tf.function repeatedly in a loop, (2) passing tensors with different shapes, (3) passing Python objects instead of tensors. For (1), please define your @tf.function outside of the loop. For (2), @tf.function has experimental_relax_shapes=True option that relaxes argument shapes that can avoid unnecessary retracing. For (3), please refer to https://www.tensorflow.org/guide/function#controlling_retracing and https://www.tensorflow.org/api_docs/python/tf/function for  more details.\u001b[0m\n",
      "\u001b[34m2023-05-06 11:57:13,507 WARNING tensorflow: 6 out of the last 9 calls to <function Model.make_train_function.<locals>.train_function at 0x7f5a3c2e9310> triggered tf.function retracing. Tracing is expensive and the excessive number of tracings could be due to (1) creating @tf.function repeatedly in a loop, (2) passing tensors with different shapes, (3) passing Python objects instead of tensors. For (1), please define your @tf.function outside of the loop. For (2), @tf.function has experimental_relax_shapes=True option that relaxes argument shapes that can avoid unnecessary retracing. For (3), please refer to https://www.tensorflow.org/guide/function#controlling_retracing and https://www.tensorflow.org/api_docs/python/tf/function for  more details.\u001b[0m\n",
      "\u001b[34m25/25 - 94s - loss: 1.1150 - accuracy: 0.7481 - val_loss: 1.2684 - val_accuracy: 0.6108 - 94s/epoch - 4s/step\u001b[0m\n",
      "\u001b[34mEpoch 2/15\u001b[0m\n",
      "\u001b[34m25/25 - 99s - loss: 0.7288 - accuracy: 0.7176 - val_loss: 0.4952 - val_accuracy: 0.8383 - 99s/epoch - 4s/step\u001b[0m\n",
      "\u001b[34mEpoch 2/20\u001b[0m\n",
      "\u001b[34m25/25 - 101s - loss: 0.6838 - accuracy: 0.7150 - val_loss: 1.1804 - val_accuracy: 0.6647 - 101s/epoch - 4s/step\u001b[0m\n",
      "\u001b[34mEpoch 2/17\u001b[0m\n",
      "\u001b[34m25/25 - 101s - loss: 1.2413 - accuracy: 0.6972 - val_loss: 1.0242 - val_accuracy: 0.7605 - 101s/epoch - 4s/step\u001b[0m\n",
      "\u001b[34mEpoch 2/11\u001b[0m\n",
      "\u001b[34m25/25 - 105s - loss: 0.8817 - accuracy: 0.7125 - val_loss: 0.8488 - val_accuracy: 0.7246 - 105s/epoch - 4s/step\u001b[0m\n",
      "\u001b[34mEpoch 2/18\u001b[0m\n",
      "\u001b[34m25/25 - 108s - loss: 0.9348 - accuracy: 0.6781 - val_loss: 0.6786 - val_accuracy: 0.8144 - 108s/epoch - 4s/step\u001b[0m\n",
      "\u001b[34mEpoch 2/15\u001b[0m\n",
      "\u001b[34m25/25 - 115s - loss: 0.9562 - accuracy: 0.7137 - val_loss: 0.7554 - val_accuracy: 0.8383 - 115s/epoch - 5s/step\u001b[0m\n",
      "\u001b[34mEpoch 2/17\u001b[0m\n",
      "\u001b[34m25/25 - 55s - loss: 0.3633 - accuracy: 0.8690 - val_loss: 0.3588 - val_accuracy: 0.8683 - 55s/epoch - 2s/step\u001b[0m\n",
      "\u001b[34mEpoch 3/20\u001b[0m\n",
      "\u001b[34m25/25 - 61s - loss: 0.8510 - accuracy: 0.8550 - val_loss: 1.1654 - val_accuracy: 0.7365 - 61s/epoch - 2s/step\u001b[0m\n",
      "\u001b[34mEpoch 3/15\u001b[0m\n",
      "\u001b[34m25/25 - 90s - loss: 0.8808 - accuracy: 0.8232 - val_loss: 0.8052 - val_accuracy: 0.8323 - 90s/epoch - 4s/step\u001b[0m\n",
      "\u001b[34mEpoch 3/11\u001b[0m\n",
      "\u001b[34m25/25 - 98s - loss: 0.4584 - accuracy: 0.8333 - val_loss: 1.4178 - val_accuracy: 0.6886 - 98s/epoch - 4s/step\u001b[0m\n",
      "\u001b[34mEpoch 3/17\u001b[0m\n",
      "\u001b[34m25/25 - 98s - loss: 0.7909 - accuracy: 0.7583 - val_loss: 0.8267 - val_accuracy: 0.7605 - 98s/epoch - 4s/step\u001b[0m\n",
      "\u001b[34mEpoch 3/15\u001b[0m\n",
      "\u001b[34m25/25 - 103s - loss: 0.4972 - accuracy: 0.8664 - val_loss: 0.7044 - val_accuracy: 0.7605 - 103s/epoch - 4s/step\u001b[0m\n",
      "\u001b[34mEpoch 3/18\u001b[0m\n",
      "\u001b[34m25/25 - 68s - loss: 0.8288 - accuracy: 0.8842 - val_loss: 1.0711 - val_accuracy: 0.7605 - 68s/epoch - 3s/step\u001b[0m\n",
      "\u001b[34mEpoch 4/15\u001b[0m\n",
      "\u001b[34m25/25 - 106s - loss: 0.7530 - accuracy: 0.8181 - val_loss: 1.3651 - val_accuracy: 0.6946 - 106s/epoch - 4s/step\u001b[0m\n",
      "\u001b[34mEpoch 3/17\u001b[0m\n",
      "\u001b[34m25/25 - 77s - loss: 0.3682 - accuracy: 0.8677 - val_loss: 0.3006 - val_accuracy: 0.9162 - 77s/epoch - 3s/step\u001b[0m\n",
      "\u001b[34mEpoch 4/20\u001b[0m\n",
      "\u001b[34m25/25 - 73s - loss: 0.4429 - accuracy: 0.8919 - val_loss: 0.4721 - val_accuracy: 0.8503 - 73s/epoch - 3s/step\u001b[0m\n",
      "\u001b[34mEpoch 4/18\u001b[0m\n",
      "\u001b[34m25/25 - 57s - loss: 0.3881 - accuracy: 0.8715 - val_loss: 0.2996 - val_accuracy: 0.8802 - 57s/epoch - 2s/step\u001b[0m\n",
      "\u001b[34mEpoch 5/20\u001b[0m\n",
      "\u001b[34m25/25 - 92s - loss: 0.7772 - accuracy: 0.8651 - val_loss: 0.7674 - val_accuracy: 0.8743 - 92s/epoch - 4s/step\u001b[0m\n",
      "\u001b[34mEpoch 4/11\u001b[0m\n",
      "\u001b[34m25/25 - 71s - loss: 0.7513 - accuracy: 0.8982 - val_loss: 0.8759 - val_accuracy: 0.8623 - 71s/epoch - 3s/step\u001b[0m\n",
      "\u001b[34mEpoch 5/15\u001b[0m\n",
      "\u001b[34m25/25 - 92s - loss: 0.4186 - accuracy: 0.8575 - val_loss: 0.8891 - val_accuracy: 0.7665 - 92s/epoch - 4s/step\u001b[0m\n",
      "\u001b[34mEpoch 4/17\u001b[0m\n",
      "\u001b[34m25/25 - 92s - loss: 0.7120 - accuracy: 0.8041 - val_loss: 1.0691 - val_accuracy: 0.6707 - 92s/epoch - 4s/step\u001b[0m\n",
      "\u001b[34mEpoch 4/15\u001b[0m\n",
      "\u001b[34m25/25 - 105s - loss: 0.7509 - accuracy: 0.8435 - val_loss: 1.0963 - val_accuracy: 0.7246 - 105s/epoch - 4s/step\u001b[0m\n",
      "\u001b[34mEpoch 4/17\u001b[0m\n",
      "\u001b[34m25/25 - 69s - loss: 0.2994 - accuracy: 0.8995 - val_loss: 0.3329 - val_accuracy: 0.8982 - 69s/epoch - 3s/step\u001b[0m\n",
      "\u001b[34mEpoch 6/20\u001b[0m\n",
      "\u001b[34m25/25 - 71s - loss: 0.4096 - accuracy: 0.8804 - val_loss: 0.4259 - val_accuracy: 0.8862 - 71s/epoch - 3s/step\u001b[0m\n",
      "\u001b[34mEpoch 5/18\u001b[0m\n",
      "\u001b[34m25/25 - 68s - loss: 0.7842 - accuracy: 0.8779 - val_loss: 0.8973 - val_accuracy: 0.8383 - 68s/epoch - 3s/step\u001b[0m\n",
      "\u001b[34mEpoch 6/15\u001b[0m\n",
      "\u001b[34m25/25 - 78s - loss: 0.3825 - accuracy: 0.8575 - val_loss: 6.5453 - val_accuracy: 0.4132 - 78s/epoch - 3s/step\u001b[0m\n",
      "\u001b[34mEpoch 5/17\u001b[0m\n",
      "\u001b[34m25/25 - 93s - loss: 0.7193 - accuracy: 0.8880 - val_loss: 0.7710 - val_accuracy: 0.8683 - 93s/epoch - 4s/step\u001b[0m\n",
      "\u001b[34mEpoch 5/11\u001b[0m\n",
      "\u001b[34m25/25 - 96s - loss: 0.7570 - accuracy: 0.7939 - val_loss: 0.8599 - val_accuracy: 0.8144 - 96s/epoch - 4s/step\u001b[0m\n",
      "\u001b[34mEpoch 5/15\u001b[0m\n",
      "\u001b[34m25/25 - 90s - loss: 0.6991 - accuracy: 0.8601 - val_loss: 0.6859 - val_accuracy: 0.8802 - 90s/epoch - 4s/step\u001b[0m\n",
      "\u001b[34mEpoch 5/17\u001b[0m\n",
      "\u001b[34m25/25 - 65s - loss: 0.7575 - accuracy: 0.8944 - val_loss: 0.8419 - val_accuracy: 0.8623 - 65s/epoch - 3s/step\u001b[0m\n",
      "\u001b[34mEpoch 7/15\u001b[0m\n",
      "\u001b[34m25/25 - 70s - loss: 0.4008 - accuracy: 0.8893 - val_loss: 0.5227 - val_accuracy: 0.8683 - 70s/epoch - 3s/step\u001b[0m\n",
      "\u001b[34mEpoch 6/18\u001b[0m\n",
      "\u001b[34m25/25 - 73s - loss: 0.3227 - accuracy: 0.8753 - val_loss: 0.2800 - val_accuracy: 0.8922 - 73s/epoch - 3s/step\u001b[0m\n",
      "\u001b[34mEpoch 7/20\u001b[0m\n",
      "\u001b[34m25/25 - 84s - loss: 0.3656 - accuracy: 0.8702 - val_loss: 4.3752 - val_accuracy: 0.5449 - 84s/epoch - 3s/step\u001b[0m\n",
      "\u001b[34mEpoch 6/17\u001b[0m\n",
      "\u001b[34m25/25 - 92s - loss: 0.7075 - accuracy: 0.8931 - val_loss: 0.7038 - val_accuracy: 0.9042 - 92s/epoch - 4s/step\u001b[0m\n",
      "\u001b[34mEpoch 6/11\u001b[0m\n",
      "\u001b[34m25/25 - 69s - loss: 0.2537 - accuracy: 0.8957 - val_loss: 0.3199 - val_accuracy: 0.8982 - 69s/epoch - 3s/step\u001b[0m\n",
      "\u001b[34mEpoch 8/20\u001b[0m\n",
      "\u001b[34m25/25 - 100s - loss: 0.6393 - accuracy: 0.8410 - val_loss: 0.8598 - val_accuracy: 0.8323 - 100s/epoch - 4s/step\u001b[0m\n",
      "\u001b[34mEpoch 6/15\u001b[0m\n",
      "\u001b[34m25/25 - 75s - loss: 0.7180 - accuracy: 0.8906 - val_loss: 1.0068 - val_accuracy: 0.8144 - 75s/epoch - 3s/step\u001b[0m\n",
      "\u001b[34mEpoch 8/15\u001b[0m\n",
      "\u001b[34m25/25 - 101s - loss: 0.6874 - accuracy: 0.8537 - val_loss: 0.6632 - val_accuracy: 0.8683 - 101s/epoch - 4s/step\u001b[0m\n",
      "\u001b[34mEpoch 6/17\u001b[0m\n",
      "\u001b[34m25/25 - 99s - loss: 0.3730 - accuracy: 0.9008 - val_loss: 0.4728 - val_accuracy: 0.8862 - 99s/epoch - 4s/step\u001b[0m\n",
      "\u001b[34mEpoch 7/18\u001b[0m\n",
      "\u001b[34m25/25 - 88s - loss: 0.3954 - accuracy: 0.8651 - val_loss: 0.6848 - val_accuracy: 0.8263 - 88s/epoch - 4s/step\u001b[0m\n",
      "\u001b[34mEpoch 7/17\u001b[0m\n",
      "\u001b[34m25/25 - 93s - loss: 0.6735 - accuracy: 0.9008 - val_loss: 0.7537 - val_accuracy: 0.8802 - 93s/epoch - 4s/step\u001b[0m\n",
      "\u001b[34mEpoch 7/11\u001b[0m\n",
      "\u001b[34m25/25 - 69s - loss: 0.2562 - accuracy: 0.9109 - val_loss: 0.5461 - val_accuracy: 0.8024 - 69s/epoch - 3s/step\u001b[0m\n",
      "\u001b[34m25/25 - 72s - loss: 0.7158 - accuracy: 0.9046 - val_loss: 0.7984 - val_accuracy: 0.8683 - 72s/epoch - 3s/step\u001b[0m\n",
      "\u001b[34mEpoch 9/15\u001b[0m\n",
      "\u001b[34mINFO:tensorflow:Assets written to: /tmp/model_trial_8/assets\u001b[0m\n",
      "\u001b[34m2023-05-06 12:06:28,801 INFO tensorflow: Assets written to: /tmp/model_trial_8/assets\u001b[0m\n",
      "\u001b[34m25/25 - 78s - loss: 0.5994 - accuracy: 0.8537 - val_loss: 0.6954 - val_accuracy: 0.8323 - 78s/epoch - 3s/step\u001b[0m\n",
      "\u001b[34mEpoch 7/15\u001b[0m\n",
      "\u001b[34m#033[32m[I 2023-05-06 12:06:29,245]#033[0m Trial 8 finished with value: 0.916167676448822 and parameters: {'random_contrast_factor': 0.22447580566245678, 'random_flip_mode': 'horizontal', 'random_rotation_factor': 0.2571333964756276, 'random_zoom_factor': 0.4507038905813857, 'n_conv_layers': 3, 'filters_0': 64, 'filters_1': 32, 'filters_2': 64, 'pool_size': 3, 'conv_batch_norm_momentum': 0.7759150915142279, 'conv2d_regularizer_decay': 5.589524435813724e-07, 'n_dense_layers': 2, 'units_0': 32, 'units_1': 128, 'dense_batch_norm_momentum': 0.8628145206948581, 'dense_regularizer_decay': 1.851729937289413e-06, 'dropout_rate': 0.4954620662940893, 'learning_rate': 0.0016224533327101214, 'clipnorm': 0.19576879789803114, 'epochs': 20}. Best is trial 8 with value: 0.916167676448822.#033[0m\u001b[0m\n",
      "\u001b[34m25/25 - 75s - loss: 0.6995 - accuracy: 0.8422 - val_loss: 0.6782 - val_accuracy: 0.8563 - 75s/epoch - 3s/step\u001b[0m\n",
      "\u001b[34mEpoch 7/17\u001b[0m\n",
      "\u001b[34m25/25 - 89s - loss: 0.3870 - accuracy: 0.8906 - val_loss: 0.4548 - val_accuracy: 0.8922 - 89s/epoch - 4s/step\u001b[0m\n",
      "\u001b[34mEpoch 8/18\u001b[0m\n",
      "\u001b[34m25/25 - 76s - loss: 0.3883 - accuracy: 0.8728 - val_loss: 0.5358 - val_accuracy: 0.8563 - 76s/epoch - 3s/step\u001b[0m\n",
      "\u001b[34mEpoch 8/17\u001b[0m\n",
      "\u001b[34m25/25 - 57s - loss: 0.6782 - accuracy: 0.9097 - val_loss: 0.8246 - val_accuracy: 0.8623 - 57s/epoch - 2s/step\u001b[0m\n",
      "\u001b[34mEpoch 10/15\u001b[0m\n",
      "\u001b[34m25/25 - 95s - loss: 0.7024 - accuracy: 0.8931 - val_loss: 0.7345 - val_accuracy: 0.8862 - 95s/epoch - 4s/step\u001b[0m\n",
      "\u001b[34mEpoch 8/11\u001b[0m\n",
      "\u001b[34m25/25 - 98s - loss: 0.6131 - accuracy: 0.8511 - val_loss: 0.6743 - val_accuracy: 0.8802 - 98s/epoch - 4s/step\u001b[0m\n",
      "\u001b[34mEpoch 8/15\u001b[0m\n",
      "\u001b[34m25/25 - 87s - loss: 0.6570 - accuracy: 0.8753 - val_loss: 0.9113 - val_accuracy: 0.7246 - 87s/epoch - 3s/step\u001b[0m\n",
      "\u001b[34mEpoch 8/17\u001b[0m\n",
      "\u001b[34m25/25 - 57s - loss: 0.6527 - accuracy: 0.9097 - val_loss: 0.7468 - val_accuracy: 0.8982 - 57s/epoch - 2s/step\u001b[0m\n",
      "\u001b[34mEpoch 11/15\u001b[0m\n",
      "\u001b[34m25/25 - 86s - loss: 0.3479 - accuracy: 0.9122 - val_loss: 0.3896 - val_accuracy: 0.9102 - 86s/epoch - 3s/step\u001b[0m\n",
      "\u001b[34mEpoch 9/18\u001b[0m\n",
      "\u001b[34m25/25 - 82s - loss: 0.3495 - accuracy: 0.8766 - val_loss: 1.5416 - val_accuracy: 0.6886 - 82s/epoch - 3s/step\u001b[0m\n",
      "\u001b[34mEpoch 9/17\u001b[0m\n",
      "\u001b[34m25/25 - 88s - loss: 0.6718 - accuracy: 0.9084 - val_loss: 0.7183 - val_accuracy: 0.8862 - 88s/epoch - 4s/step\u001b[0m\n",
      "\u001b[34mEpoch 9/11\u001b[0m\n",
      "\u001b[34m25/25 - 85s - loss: 0.5946 - accuracy: 0.8473 - val_loss: 0.6352 - val_accuracy: 0.8743 - 85s/epoch - 3s/step\u001b[0m\n",
      "\u001b[34mEpoch 9/15\u001b[0m\n",
      "\u001b[34m25/25 - 75s - loss: 0.6682 - accuracy: 0.9033 - val_loss: 0.7224 - val_accuracy: 0.8743 - 75s/epoch - 3s/step\u001b[0m\n",
      "\u001b[34mEpoch 12/15\u001b[0m\n",
      "\u001b[34m25/25 - 86s - loss: 0.6706 - accuracy: 0.8613 - val_loss: 0.6682 - val_accuracy: 0.8563 - 86s/epoch - 3s/step\u001b[0m\n",
      "\u001b[34mEpoch 9/17\u001b[0m\n",
      "\u001b[34m25/25 - 77s - loss: 0.3271 - accuracy: 0.9122 - val_loss: 0.3835 - val_accuracy: 0.9042 - 77s/epoch - 3s/step\u001b[0m\n",
      "\u001b[34mEpoch 10/18\u001b[0m\n",
      "\u001b[34m25/25 - 95s - loss: 0.3220 - accuracy: 0.8817 - val_loss: 0.7645 - val_accuracy: 0.8084 - 95s/epoch - 4s/step\u001b[0m\n",
      "\u001b[34mEpoch 10/17\u001b[0m\n",
      "\u001b[34m25/25 - 62s - loss: 0.6511 - accuracy: 0.9198 - val_loss: 0.7823 - val_accuracy: 0.8982 - 62s/epoch - 2s/step\u001b[0m\n",
      "\u001b[34mEpoch 13/15\u001b[0m\n",
      "\u001b[34m25/25 - 78s - loss: 0.6228 - accuracy: 0.8397 - val_loss: 0.6129 - val_accuracy: 0.8563 - 78s/epoch - 3s/step\u001b[0m\n",
      "\u001b[34mEpoch 10/15\u001b[0m\n",
      "\u001b[34m25/25 - 88s - loss: 0.6405 - accuracy: 0.9084 - val_loss: 0.6649 - val_accuracy: 0.9222 - 88s/epoch - 4s/step\u001b[0m\n",
      "\u001b[34mEpoch 10/11\u001b[0m\n",
      "\u001b[34m25/25 - 89s - loss: 0.6620 - accuracy: 0.8677 - val_loss: 0.7170 - val_accuracy: 0.8443 - 89s/epoch - 4s/step\u001b[0m\n",
      "\u001b[34m25/25 - 84s - loss: 0.3774 - accuracy: 0.9020 - val_loss: 0.4604 - val_accuracy: 0.8982 - 84s/epoch - 3s/step\u001b[0m\n",
      "\u001b[34mEpoch 11/18\u001b[0m\n",
      "\u001b[34mINFO:tensorflow:Assets written to: /tmp/model_trial_4/assets\u001b[0m\n",
      "\u001b[34m2023-05-06 12:11:20,277 INFO tensorflow: Assets written to: /tmp/model_trial_4/assets\u001b[0m\n",
      "\u001b[34m#033[32m[I 2023-05-06 12:11:20,780]#033[0m Trial 4 finished with value: 0.8802395462989807 and parameters: {'random_contrast_factor': 0.9051329726861699, 'random_flip_mode': 'horizontal', 'random_rotation_factor': 0.18658852199331602, 'random_zoom_factor': 0.48728540849924595, 'n_conv_layers': 3, 'filters_0': 256, 'filters_1': 64, 'filters_2': 128, 'pool_size': 2, 'conv_batch_norm_momentum': 0.7554824689177685, 'conv2d_regularizer_decay': 0.000122456544503266, 'n_dense_layers': 2, 'units_0': 128, 'units_1': 32, 'dense_batch_norm_momentum': 0.8639950777993848, 'dense_regularizer_decay': 9.101346122896926e-05, 'dropout_rate': 0.3411325100654674, 'learning_rate': 0.001806871042499984, 'clipnorm': 0.164658318435881, 'epochs': 17}. Best is trial 8 with value: 0.916167676448822.#033[0m\u001b[0m\n",
      "\u001b[34m25/25 - 76s - loss: 0.3239 - accuracy: 0.8880 - val_loss: 0.8113 - val_accuracy: 0.7725 - 76s/epoch - 3s/step\u001b[0m\n",
      "\u001b[34mEpoch 11/17\u001b[0m\n",
      "\u001b[34m25/25 - 57s - loss: 0.6637 - accuracy: 0.9148 - val_loss: 0.7217 - val_accuracy: 0.8982 - 57s/epoch - 2s/step\u001b[0m\n",
      "\u001b[34mEpoch 14/15\u001b[0m\n",
      "\u001b[34m25/25 - 70s - loss: 0.5996 - accuracy: 0.8435 - val_loss: 0.6024 - val_accuracy: 0.8503 - 70s/epoch - 3s/step\u001b[0m\n",
      "\u001b[34mEpoch 11/15\u001b[0m\n",
      "\u001b[34m25/25 - 78s - loss: 0.6929 - accuracy: 0.8957 - val_loss: 0.7046 - val_accuracy: 0.8922 - 78s/epoch - 3s/step\u001b[0m\n",
      "\u001b[34mEpoch 11/11\u001b[0m\n",
      "\u001b[34m25/25 - 47s - loss: 0.6454 - accuracy: 0.9160 - val_loss: 0.8651 - val_accuracy: 0.8563 - 47s/epoch - 2s/step\u001b[0m\n",
      "\u001b[34mEpoch 15/15\u001b[0m\n",
      "\u001b[34m25/25 - 66s - loss: 0.3635 - accuracy: 0.9084 - val_loss: 0.4983 - val_accuracy: 0.8503 - 66s/epoch - 3s/step\u001b[0m\n",
      "\u001b[34mEpoch 12/18\u001b[0m\n",
      "\u001b[34m25/25 - 58s - loss: 0.3097 - accuracy: 0.8855 - val_loss: 0.6274 - val_accuracy: 0.8204 - 58s/epoch - 2s/step\u001b[0m\n",
      "\u001b[34mEpoch 12/17\u001b[0m\n",
      "\u001b[34m25/25 - 62s - loss: 0.6077 - accuracy: 0.8372 - val_loss: 0.5709 - val_accuracy: 0.8443 - 62s/epoch - 2s/step\u001b[0m\n",
      "\u001b[34mEpoch 12/15\u001b[0m\n",
      "\u001b[34m25/25 - 51s - loss: 0.6073 - accuracy: 0.9198 - val_loss: 0.8077 - val_accuracy: 0.8982 - 51s/epoch - 2s/step\u001b[0m\n",
      "\u001b[34mINFO:tensorflow:Assets written to: /tmp/model_trial_2/assets\u001b[0m\n",
      "\u001b[34m2023-05-06 12:13:17,844 INFO tensorflow: Assets written to: /tmp/model_trial_2/assets\u001b[0m\n",
      "\u001b[34m#033[32m[I 2023-05-06 12:13:18,248]#033[0m Trial 2 finished with value: 0.8982036113739014 and parameters: {'random_contrast_factor': 0.788566457856404, 'random_flip_mode': 'vertical', 'random_rotation_factor': 0.21276139097196978, 'random_zoom_factor': 0.23467160475291943, 'n_conv_layers': 2, 'filters_0': 64, 'filters_1': 256, 'pool_size': 3, 'conv_batch_norm_momentum': 0.9609553369106517, 'conv2d_regularizer_decay': 9.100507455318471e-05, 'n_dense_layers': 2, 'units_0': 128, 'units_1': 128, 'dense_batch_norm_momentum': 0.7826110190583807, 'dense_regularizer_decay': 0.0006847937509584683, 'dropout_rate': 0.1708472531777565, 'learning_rate': 0.00026306288275266783, 'clipnorm': 0.8290406300701513, 'epochs': 15}. Best is trial 8 with value: 0.916167676448822.#033[0m\u001b[0m\n",
      "\u001b[34m25/25 - 62s - loss: 0.3144 - accuracy: 0.9173 - val_loss: 0.4725 - val_accuracy: 0.8563 - 62s/epoch - 2s/step\u001b[0m\n",
      "\u001b[34mEpoch 13/18\u001b[0m\n",
      "\u001b[34m25/25 - 77s - loss: 0.6783 - accuracy: 0.8995 - val_loss: 0.6506 - val_accuracy: 0.9162 - 77s/epoch - 3s/step\u001b[0m\n",
      "\u001b[34m25/25 - 63s - loss: 0.3029 - accuracy: 0.8944 - val_loss: 1.5126 - val_accuracy: 0.6228 - 63s/epoch - 3s/step\u001b[0m\n",
      "\u001b[34mINFO:tensorflow:Assets written to: /tmp/model_trial_1/assets\u001b[0m\n",
      "\u001b[34m2023-05-06 12:13:36,832 INFO tensorflow: Assets written to: /tmp/model_trial_1/assets\u001b[0m\n",
      "\u001b[34m#033[32m[I 2023-05-06 12:13:37,506]#033[0m Trial 1 finished with value: 0.9221556782722473 and parameters: {'random_contrast_factor': 0.7431154030642184, 'random_flip_mode': 'horizontal', 'random_rotation_factor': 0.22306881330545136, 'random_zoom_factor': 0.3902650145388825, 'n_conv_layers': 3, 'filters_0': 256, 'filters_1': 256, 'filters_2': 128, 'pool_size': 3, 'conv_batch_norm_momentum': 0.9267664347414897, 'conv2d_regularizer_decay': 0.00030655764358616234, 'n_dense_layers': 1, 'units_0': 32, 'dense_batch_norm_momentum': 0.7513507274228058, 'dense_regularizer_decay': 0.00022634512603193066, 'dropout_rate': 0.16572780847420504, 'learning_rate': 7.766643600568318e-05, 'clipnorm': 0.695948604543165, 'epochs': 11}. Best is trial 1 with value: 0.9221556782722473.#033[0m\u001b[0m\n",
      "\u001b[34m25/25 - 36s - loss: 0.5484 - accuracy: 0.8537 - val_loss: 0.7843 - val_accuracy: 0.7844 - 36s/epoch - 1s/step\u001b[0m\n",
      "\u001b[34m25/25 - 21s - loss: 0.3101 - accuracy: 0.9326 - val_loss: 0.3334 - val_accuracy: 0.9042 - 21s/epoch - 851ms/step\u001b[0m\n",
      "\u001b[34mINFO:tensorflow:Assets written to: /tmp/model_trial_6/assets\u001b[0m\n",
      "\u001b[34m2023-05-06 12:13:44,779 INFO tensorflow: Assets written to: /tmp/model_trial_6/assets\u001b[0m\n",
      "\u001b[34m#033[32m[I 2023-05-06 12:13:45,013]#033[0m Trial 6 finished with value: 0.85628741979599 and parameters: {'random_contrast_factor': 0.2954712935115274, 'random_flip_mode': 'horizontal', 'random_rotation_factor': 0.4947705998960855, 'random_zoom_factor': 0.12351412832863878, 'n_conv_layers': 2, 'filters_0': 128, 'filters_1': 128, 'pool_size': 2, 'conv_batch_norm_momentum': 0.802480383084598, 'conv2d_regularizer_decay': 5.340996318763287e-06, 'n_dense_layers': 2, 'units_0': 32, 'units_1': 64, 'dense_batch_norm_momentum': 0.872069491130642, 'dense_regularizer_decay': 8.250342682229775e-08, 'dropout_rate': 0.3635152494355314, 'learning_rate': 0.01181085315690205, 'clipnorm': 0.6314309356016544, 'epochs': 17}. Best is trial 1 with value: 0.9221556782722473.#033[0m\u001b[0m\n",
      "\u001b[34mINFO:tensorflow:Assets written to: /tmp/model_trial_7/assets\u001b[0m\n",
      "\u001b[34m2023-05-06 12:13:47,351 INFO tensorflow: Assets written to: /tmp/model_trial_7/assets\u001b[0m\n",
      "\u001b[34m#033[32m[I 2023-05-06 12:13:47,624]#033[0m Trial 7 finished with value: 0.8802395462989807 and parameters: {'random_contrast_factor': 0.6892441225875223, 'random_flip_mode': 'horizontal_and_vertical', 'random_rotation_factor': 0.19932319545278007, 'random_zoom_factor': 0.36815127710152795, 'n_conv_layers': 1, 'filters_0': 256, 'pool_size': 3, 'conv_batch_norm_momentum': 0.7955795139618073, 'conv2d_regularizer_decay': 5.530446143453828e-08, 'n_dense_layers': 2, 'units_0': 32, 'units_1': 128, 'dense_batch_norm_momentum': 0.8907941767598977, 'dense_regularizer_decay': 6.128137016998437e-07, 'dropout_rate': 0.3669019607312721, 'learning_rate': 0.012568916435268744, 'clipnorm': 0.5201459947667623, 'epochs': 15}. Best is trial 1 with value: 0.9221556782722473.#033[0m\u001b[0m\n",
      "\u001b[34mINFO:tensorflow:Assets written to: /tmp/model_trial_5/assets\u001b[0m\n",
      "\u001b[34m2023-05-06 12:13:48,124 INFO tensorflow: Assets written to: /tmp/model_trial_5/assets\u001b[0m\n",
      "\u001b[34m#033[32m[I 2023-05-06 12:13:48,297]#033[0m Trial 5 finished with value: 0.910179615020752 and parameters: {'random_contrast_factor': 0.10118879797629754, 'random_flip_mode': 'horizontal', 'random_rotation_factor': 0.3136281561734831, 'random_zoom_factor': 0.40287949010466606, 'n_conv_layers': 3, 'filters_0': 128, 'filters_1': 256, 'filters_2': 32, 'pool_size': 3, 'conv_batch_norm_momentum': 0.9577583526124535, 'conv2d_regularizer_decay': 0.00011974304081237324, 'n_dense_layers': 2, 'units_0': 32, 'units_1': 128, 'dense_batch_norm_momentum': 0.9282878974073665, 'dense_regularizer_decay': 1.7912462702165235e-05, 'dropout_rate': 0.20403211277160738, 'learning_rate': 0.00043776629620818826, 'clipnorm': 0.101938483156281, 'epochs': 18}. Best is trial 1 with value: 0.9221556782722473.#033[0m\u001b[0m\n",
      "\u001b[34m2023-05-06 12:13:48,336 INFO __main__: Number of pruned trials: 0\u001b[0m\n",
      "\u001b[34m2023-05-06 12:13:48,336 INFO __main__: Number of complete trials: 7\u001b[0m\n",
      "\u001b[34m2023-05-06 12:13:48,336 INFO __main__: Best trial Accuracy: 0.9221556782722473\u001b[0m\n",
      "\u001b[34m2023-05-06 12:13:48,336 INFO __main__: Best trial Params: {'clipnorm': 0.695948604543165, 'conv2d_regularizer_decay': 0.00030655764358616234, 'conv_batch_norm_momentum': 0.9267664347414897, 'dense_batch_norm_momentum': 0.7513507274228058, 'dense_regularizer_decay': 0.00022634512603193066, 'dropout_rate': 0.16572780847420504, 'epochs': 11, 'filters_0': 256, 'filters_1': 256, 'filters_2': 128, 'learning_rate': 7.766643600568318e-05, 'n_conv_layers': 3, 'n_dense_layers': 1, 'pool_size': 3, 'random_contrast_factor': 0.7431154030642184, 'random_flip_mode': 'horizontal', 'random_rotation_factor': 0.22306881330545136, 'random_zoom_factor': 0.3902650145388825, 'units_0': 32}\u001b[0m\n",
      "\u001b[34mINFO:tensorflow:Assets written to: /opt/ml/model/00000000/assets\u001b[0m\n",
      "\u001b[34m2023-05-06 12:13:52,412 INFO tensorflow: Assets written to: /opt/ml/model/00000000/assets\u001b[0m\n",
      "\u001b[34m2023-05-06 12:13:54,488 sagemaker-training-toolkit INFO     Waiting for the process to finish and give a return code.\u001b[0m\n",
      "\u001b[34m2023-05-06 12:13:54,488 sagemaker-training-toolkit INFO     Done waiting for a return code. Received 0 from exiting process.\u001b[0m\n",
      "\u001b[34m2023-05-06 12:13:54,489 sagemaker-training-toolkit INFO     Reporting training SUCCESS\u001b[0m\n",
      "\n",
      "2023-05-06 12:14:29 Uploading - Uploading generated training model\n",
      "2023-05-06 12:14:29 Completed - Training job completed\n",
      "Training seconds: 1136\n",
      "Billable seconds: 1136\n"
     ]
    }
   ],
   "source": [
    "tf_estimator.fit(train_val_path)"
   ]
  },
  {
   "attachments": {},
   "cell_type": "markdown",
   "id": "c2fbaa1e-6696-4302-90b7-55b02a1135d7",
   "metadata": {},
   "source": [
    "## Study Object"
   ]
  },
  {
   "cell_type": "code",
   "execution_count": 9,
   "id": "057a536f-9c1a-46e3-b806-e736ed10e5f4",
   "metadata": {
    "tags": []
   },
   "outputs": [
    {
     "name": "stderr",
     "output_type": "stream",
     "text": [
      "INFO:botocore.credentials:Found credentials from IAM Role: BaseNotebookInstanceEc2InstanceRole\n"
     ]
    },
    {
     "data": {
      "text/plain": [
       "<optuna.study.study.Study at 0x7f6cd5b3dd50>"
      ]
     },
     "execution_count": 9,
     "metadata": {},
     "output_type": "execute_result"
    }
   ],
   "source": [
    "secret = get_secret(secret_name, sagemaker_session._region_name)  \n",
    "db = 'mysql+pymysql://{}:{}@{}/{}'.format(secret['username'], secret['password'], host, db_name)\n",
    "\n",
    "study = optuna.study.load_study(study_name=study_name, storage=db)\n",
    "study"
   ]
  },
  {
   "attachments": {},
   "cell_type": "markdown",
   "id": "91f20bcf-6aa6-4611-a6a9-dc71a22d66e2",
   "metadata": {},
   "source": [
    "Plot optimization history:"
   ]
  },
  {
   "cell_type": "code",
   "execution_count": 11,
   "id": "82007f84-ef91-43ae-b68a-d0156a4de755",
   "metadata": {
    "tags": []
   },
   "outputs": [
    {
     "data": {
      "image/png": "[encoded data removed]",
      "text/plain": [
       "<IPython.core.display.Image object>"
      ]
     },
     "execution_count": 11,
     "metadata": {},
     "output_type": "execute_result"
    }
   ],
   "source": [
    "opt_hist = optuna.visualization.plot_optimization_history(study)\n",
    "\n",
    "opt_hist_image_bytes = opt_hist.to_image(format='png')\n",
    "\n",
    "Image(opt_hist_image_bytes)"
   ]
  },
  {
   "attachments": {},
   "cell_type": "markdown",
   "id": "0efb0c9f-9b66-4562-94b4-5912eeea93d2",
   "metadata": {},
   "source": [
    "## Inference on Test Set"
   ]
  },
  {
   "cell_type": "code",
   "execution_count": 57,
   "id": "58d2bdd3-72f6-4ba4-9b07-132248242b74",
   "metadata": {
    "tags": []
   },
   "outputs": [
    {
     "name": "stderr",
     "output_type": "stream",
     "text": [
      "WARNING:sagemaker.deprecations:update_endpoint is a no-op in sagemaker>=2.\n",
      "See: https://sagemaker.readthedocs.io/en/stable/v2.html for details.\n",
      "INFO:sagemaker.tensorflow.model:image_uri is not presented, retrieving image_uri based on instance_type, framework etc.\n",
      "INFO:sagemaker:Creating model with name: tensorflow-inference-2023-05-06-13-38-08-528\n",
      "INFO:sagemaker:Creating endpoint-config with name weather-classification-cnn-2023-05-06-v1\n",
      "INFO:sagemaker:Creating endpoint with name weather-classification-cnn-2023-05-06-v1\n"
     ]
    },
    {
     "name": "stdout",
     "output_type": "stream",
     "text": [
      "---!"
     ]
    }
   ],
   "source": [
    "best_model_data = os.path.join(tf_estimator.output_path, study.best_trial.user_attrs['job_name'], 'output/model.tar.gz')\n",
    "\n",
    "best_model = TensorFlowModel(\n",
    "    model_data=best_model_data,\n",
    "    role=role,\n",
    "    framework_version=FRAMEWORK_VERSION\n",
    ")\n",
    "\n",
    "predictor = best_model.deploy(\n",
    "    initial_instance_count=1,\n",
    "    instance_type='ml.c5.2xlarge',\n",
    "    endpoint_name=endpoint_name + '-v1'\n",
    ")"
   ]
  },
  {
   "attachments": {},
   "cell_type": "markdown",
   "id": "0978e56d-640a-4fd0-8017-c328c0cb8cfa",
   "metadata": {},
   "source": [
    " Read in test data:"
   ]
  },
  {
   "cell_type": "code",
   "execution_count": 58,
   "id": "d56d8539-b21a-4e81-8be7-0cd2dd447356",
   "metadata": {
    "tags": []
   },
   "outputs": [
    {
     "data": {
      "text/plain": [
       "((172, 256, 256, 3), (172,))"
      ]
     },
     "execution_count": 58,
     "metadata": {},
     "output_type": "execute_result"
    }
   ],
   "source": [
    "# Load test data\n",
    "X_test = np.load(io.BytesIO(s3.get_object(Bucket=s3_bucket, Key=f'{s3_key}/input-data/test/X_test.npy')['Body'].read()))\n",
    "y_test = np.load(io.BytesIO(s3.get_object(Bucket=s3_bucket, Key=f'{s3_key}/input-data/test/y_test.npy')['Body'].read()))\n",
    "\n",
    "X_test.shape, y_test.shape"
   ]
  },
  {
   "attachments": {},
   "cell_type": "markdown",
   "id": "a64d5962-c42f-4bc0-bb55-dded44ca00ce",
   "metadata": {},
   "source": [
    "Make predictions in batches:"
   ]
  },
  {
   "cell_type": "code",
   "execution_count": 66,
   "id": "c8880a38-7b6e-4fba-9bb8-2fd095c3dc2c",
   "metadata": {
    "tags": []
   },
   "outputs": [
    {
     "name": "stderr",
     "output_type": "stream",
     "text": [
      "100%|██████████| 35/35 [00:59<00:00,  1.70s/it]\n"
     ]
    },
    {
     "data": {
      "text/plain": [
       "array([0, 2, 2, 0, 0, 0, 2, 0, 0, 0, 0, 0, 3, 0, 0, 0, 0, 0, 0, 0, 0, 0,\n",
       "       0, 0, 0, 0, 0, 0, 0, 0, 0, 0, 0, 0, 0, 0, 0, 0, 0, 0, 0, 3, 0, 2,\n",
       "       0, 1, 1, 1, 1, 1, 1, 1, 1, 1, 1, 1, 1, 1, 1, 1, 1, 1, 1, 1, 1, 1,\n",
       "       1, 1, 1, 1, 1, 1, 1, 1, 1, 1, 1, 3, 2, 2, 2, 2, 2, 2, 2, 2, 2, 2,\n",
       "       2, 2, 2, 2, 2, 2, 2, 2, 2, 2, 2, 2, 2, 2, 2, 1, 2, 2, 2, 2, 2, 2,\n",
       "       2, 2, 2, 2, 2, 2, 2, 3, 3, 3, 3, 3, 3, 2, 2, 3, 3, 3, 3, 3, 3, 3,\n",
       "       3, 3, 3, 3, 3, 3, 3, 3, 3, 3, 3, 3, 3, 3, 3, 3, 3, 3, 3, 3, 3, 3,\n",
       "       3, 3, 3, 3, 3, 3, 3, 3, 3, 3, 2, 3, 3, 3, 3, 3, 3, 3])"
      ]
     },
     "execution_count": 66,
     "metadata": {},
     "output_type": "execute_result"
    }
   ],
   "source": [
    "# Define the batch size\n",
    "batch_size = 5\n",
    "\n",
    "# Generate predictions in batches\n",
    "num_instances = X_test.shape[0]\n",
    "num_batches = (num_instances + batch_size - 1) // batch_size\n",
    "\n",
    "predicted_labels = []\n",
    "for i in tqdm(range(num_batches)):\n",
    "    start_idx = i * batch_size\n",
    "    end_idx = min(start_idx + batch_size, num_instances)\n",
    "    batch = X_test[start_idx:end_idx]\n",
    "    \n",
    "    # Call the predict method of the TensorFlowPredictor object\n",
    "    predictions = predictor.predict(batch)\n",
    "    \n",
    "    # Extract the predicted labels from the response\n",
    "    predicted_labels_batch = np.argmax(predictions['predictions'], axis=1) # Use axis=1 to find max probability across 4 columns (classes)\n",
    "    \n",
    "    # Append the predicted labels to the list\n",
    "    predicted_labels.append(predicted_labels_batch)\n",
    "\n",
    "# Concatenate the predicted labels from all batches\n",
    "predicted_labels = np.concatenate(predicted_labels, axis=0)\n",
    "\n",
    "predicted_labels"
   ]
  },
  {
   "attachments": {},
   "cell_type": "markdown",
   "id": "b98406e9-bdb0-4912-bd5e-aa311cd9b08e",
   "metadata": {},
   "source": [
    "Accuracy score on test set:"
   ]
  },
  {
   "cell_type": "code",
   "execution_count": 69,
   "id": "814588e9-a312-487a-bf03-1824f066cc1c",
   "metadata": {
    "tags": []
   },
   "outputs": [
    {
     "name": "stdout",
     "output_type": "stream",
     "text": [
      "Accuracy score on test set: 0.936046511627907\n"
     ]
    }
   ],
   "source": [
    "print('Accuracy score on test set:', accuracy_score(y_true=y_test, y_pred=predicted_labels))"
   ]
  },
  {
   "attachments": {},
   "cell_type": "markdown",
   "id": "59ee0302",
   "metadata": {},
   "source": [
    "## Clean Up"
   ]
  },
  {
   "cell_type": "code",
   "execution_count": null,
   "id": "7a06c912",
   "metadata": {},
   "outputs": [],
   "source": [
    "sm_boto3.delete_endpoint(EndpointName=predictor.endpoint_name)\n",
    "sm_boto3.delete_endpoint_config(EndpointConfigName=predictor.endpoint_name)"
   ]
  },
  {
   "cell_type": "code",
   "execution_count": null,
   "id": "665184dd",
   "metadata": {},
   "outputs": [],
   "source": [
    "sm_boto3.close()"
   ]
  }
 ],
 "metadata": {
  "kernelspec": {
   "display_name": "conda_tensorflow2_p310",
   "language": "python",
   "name": "conda_tensorflow2_p310"
  },
  "language_info": {
   "codemirror_mode": {
    "name": "ipython",
    "version": 3
   },
   "file_extension": ".py",
   "mimetype": "text/x-python",
   "name": "python",
   "nbconvert_exporter": "python",
   "pygments_lexer": "ipython3",
   "version": "3.10.8"
  }
 },
 "nbformat": 4,
 "nbformat_minor": 5
}
