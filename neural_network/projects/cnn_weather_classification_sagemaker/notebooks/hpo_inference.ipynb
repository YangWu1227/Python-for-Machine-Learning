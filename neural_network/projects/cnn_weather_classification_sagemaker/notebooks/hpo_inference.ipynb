{
 "cells": [
  {
   "cell_type": "code",
   "execution_count": 65,
   "id": "560eace8-6cf0-41f6-ac9d-7222f3ed7b56",
   "metadata": {
    "tags": []
   },
   "outputs": [],
   "source": [
    "%reload_ext autoreload\n",
    "%autoreload 2\n",
    "\n",
    "import os\n",
    "import io\n",
    "import sys\n",
    "import datetime\n",
    "from IPython.display import Image\n",
    "\n",
    "import boto3\n",
    "import sagemaker\n",
    "from sagemaker.tensorflow.estimator import TensorFlow\n",
    "from sagemaker.tensorflow import TensorFlowModel\n",
    "from sklearn.metrics import accuracy_score\n",
    "from tqdm import tqdm\n",
    "\n",
    "import numpy as np\n",
    "\n",
    "os.environ[\"TF_CPP_MIN_LOG_LEVEL\"] = \"2\"  # Nopep8\n",
    "\n",
    "import optuna\n",
    "\n",
    "sys.path.append(os.path.dirname(os.getcwd()))\n",
    "from src.custom_utils import get_secret"
   ]
  },
  {
   "attachments": {},
   "cell_type": "markdown",
   "id": "5d7ee4f2-773c-4af4-9c3d-0081600918fa",
   "metadata": {},
   "source": [
    "## S3"
   ]
  },
  {
   "cell_type": "code",
   "execution_count": 2,
   "id": "16229031-c3d5-4e0e-8cd1-6b39072dfc79",
   "metadata": {
    "tags": []
   },
   "outputs": [
    {
     "data": {
      "text/plain": [
       "{'train': 's3://yang-ml-sagemaker/weather-classification/input-data/train',\n",
       " 'val': 's3://yang-ml-sagemaker/weather-classification/input-data/val'}"
      ]
     },
     "execution_count": 2,
     "metadata": {},
     "output_type": "execute_result"
    }
   ],
   "source": [
    "s3 = boto3.client(\"s3\")\n",
    "\n",
    "s3_bucket = \"yang-ml-sagemaker\"\n",
    "s3_key = \"weather-classification\"\n",
    "\n",
    "train_val_path = {\n",
    "    \"train\": f\"s3://{s3_bucket}/{s3_key}/input-data/train\",\n",
    "    \"val\": f\"s3://{s3_bucket}/{s3_key}/input-data/val\",\n",
    "}\n",
    "train_val_path"
   ]
  },
  {
   "attachments": {},
   "cell_type": "markdown",
   "id": "8effd030-a39b-4a68-9dac-f3529caf0259",
   "metadata": {},
   "source": [
    "## Sagemaker"
   ]
  },
  {
   "cell_type": "code",
   "execution_count": 52,
   "id": "e5a39831-2618-4a82-9f62-2866c7df6707",
   "metadata": {
    "tags": []
   },
   "outputs": [],
   "source": [
    "sagemaker_session = sagemaker.Session(default_bucket=s3_bucket)\n",
    "sagemaker_session\n",
    "sm_boto3 = boto3.client(\"sagemaker\")\n",
    "role = sagemaker.get_execution_role()\n",
    "s3_uploader = sagemaker.s3.S3Uploader()\n",
    "instance_type = \"ml.c5.9xlarge\"\n",
    "instance_count = 1\n",
    "\n",
    "src_dir_path = os.path.join(os.path.dirname(os.getcwd()), \"src\")\n",
    "hpo_script_path = \"hpo_entry.py\"\n",
    "model_dir = \"/opt/ml/model\"\n",
    "volume_size = 30\n",
    "output_path = f\"s3://{s3_bucket}/{s3_key}/models\"\n",
    "code_location = f\"s3://{s3_bucket}/{s3_key}/code\"\n",
    "\n",
    "checkpoint_s3_uri = f\"s3://{s3_bucket}/{s3_key}/checkpoints\"\n",
    "use_spot_instances = True\n",
    "max_run = 86400\n",
    "max_retry_attempts = 2\n",
    "\n",
    "PY_VERSION = \"py39\"\n",
    "FRAMEWORK_VERSION = (\n",
    "    \"2.8\"  # Avoid bug with regards to data augmentation in tf 2.9 - 2.12\n",
    ")\n",
    "\n",
    "# Get today's date in YYYYMMDD format\n",
    "today = datetime.datetime.today().strftime(\"%Y-%m-%d\")\n",
    "\n",
    "# Define endpoint name with version and date\n",
    "endpoint_name = f\"weather-classification-cnn-{today}\""
   ]
  },
  {
   "attachments": {},
   "cell_type": "markdown",
   "id": "c5733aea-5abb-4828-be82-c7c03193cb73",
   "metadata": {},
   "source": [
    "## Database Setup"
   ]
  },
  {
   "cell_type": "code",
   "execution_count": 4,
   "id": "6234f83d-05d6-430c-acb7-a6479ebf8b12",
   "metadata": {
    "tags": []
   },
   "outputs": [],
   "source": [
    "stack_name = \"optuna-stack\"\n",
    "study_name = \"hpo_cnn\"\n",
    "\n",
    "cf = boto3.client(\"cloudformation\")\n",
    "outputs = cf.describe_stacks(StackName=stack_name)[\"Stacks\"][0][\"Outputs\"]\n",
    "\n",
    "# 'Outputs' is a list of dictionaries, and we extract specific outputs based on their OutputKey property\n",
    "host = [out[\"OutputValue\"] for out in outputs if out[\"OutputKey\"] == \"ClusterEndpoint\"][\n",
    "    0\n",
    "].split(\":\")[0]\n",
    "db_name = [out[\"OutputValue\"] for out in outputs if out[\"OutputKey\"] == \"DatabaseName\"][\n",
    "    0\n",
    "]\n",
    "secret_name = (\n",
    "    [out[\"OutputValue\"] for out in outputs if out[\"OutputKey\"] == \"DBSecretArn\"][0]\n",
    "    .split(\":\")[-1]\n",
    "    .split(\"-\")[0]\n",
    ")\n",
    "\n",
    "subnets = [\n",
    "    out[\"OutputValue\"] for out in outputs if out[\"OutputKey\"] == \"PrivateSubnets\"\n",
    "][0].split(\",\")\n",
    "security_group_ids = [\n",
    "    out[\"OutputValue\"]\n",
    "    for out in outputs\n",
    "    if out[\"OutputKey\"] == \"SageMakerSecurityGroup\"\n",
    "][0].split(\",\")"
   ]
  },
  {
   "attachments": {},
   "cell_type": "markdown",
   "id": "48689848-6dd3-4e19-b52e-603defe248e2",
   "metadata": {},
   "source": [
    "## Tensorflow Estimator"
   ]
  },
  {
   "cell_type": "code",
   "execution_count": 5,
   "id": "10248106-c46d-47d6-8156-27feaacfb44a",
   "metadata": {
    "tags": []
   },
   "outputs": [
    {
     "data": {
      "text/plain": [
       "<sagemaker.tensorflow.estimator.TensorFlow at 0x7f6cd649d330>"
      ]
     },
     "execution_count": 5,
     "metadata": {},
     "output_type": "execute_result"
    }
   ],
   "source": [
    "tf_estimator = TensorFlow(\n",
    "    entry_point=hpo_script_path,\n",
    "    source_dir=src_dir_path,\n",
    "    role=role,\n",
    "    py_version=PY_VERSION,\n",
    "    framework_version=FRAMEWORK_VERSION,\n",
    "    model_dir=model_dir,\n",
    "    output_path=output_path,\n",
    "    code_location=output_path,\n",
    "    instance_type=instance_type,\n",
    "    instance_count=instance_count,\n",
    "    # Spot training\n",
    "    max_run=max_run,\n",
    "    max_wait=max_run,\n",
    "    use_spot_instances=use_spot_instances,\n",
    "    checkpoint_s3_uri=checkpoint_s3_uri,\n",
    "    # Optuna\n",
    "    subnets=subnets,\n",
    "    security_group_ids=security_group_ids,\n",
    "    hyperparameters={\n",
    "        \"host\": host,\n",
    "        \"db_name\": db_name,\n",
    "        \"study_name\": study_name,\n",
    "        \"db_secret\": secret_name,\n",
    "        \"region_name\": sagemaker_session._region_name,\n",
    "        \"n_trials\": 10,\n",
    "    },\n",
    ")\n",
    "tf_estimator"
   ]
  },
  {
   "attachments": {},
   "cell_type": "markdown",
   "id": "7a695075-de17-480c-afe2-65f813e00529",
   "metadata": {},
   "source": [
    "## HPO"
   ]
  },
  {
   "cell_type": "code",
   "execution_count": null,
   "id": "0f9836a5-1534-4d2b-a3c9-3f0b5a60af20",
   "metadata": {
    "tags": []
   },
   "outputs": [],
   "source": [
    "tf_estimator.fit(train_val_path)"
   ]
  },
  {
   "attachments": {},
   "cell_type": "markdown",
   "id": "c2fbaa1e-6696-4302-90b7-55b02a1135d7",
   "metadata": {},
   "source": [
    "## Study Object"
   ]
  },
  {
   "cell_type": "code",
   "execution_count": 9,
   "id": "057a536f-9c1a-46e3-b806-e736ed10e5f4",
   "metadata": {
    "tags": []
   },
   "outputs": [
    {
     "name": "stderr",
     "output_type": "stream",
     "text": [
      "INFO:botocore.credentials:Found credentials from IAM Role: BaseNotebookInstanceEc2InstanceRole\n"
     ]
    },
    {
     "data": {
      "text/plain": [
       "<optuna.study.study.Study at 0x7f6cd5b3dd50>"
      ]
     },
     "execution_count": 9,
     "metadata": {},
     "output_type": "execute_result"
    }
   ],
   "source": [
    "secret = get_secret(secret_name, sagemaker_session._region_name)\n",
    "db = \"mysql+pymysql://{}:{}@{}/{}\".format(\n",
    "    secret[\"username\"], secret[\"password\"], host, db_name\n",
    ")\n",
    "\n",
    "study = optuna.study.load_study(study_name=study_name, storage=db)\n",
    "study"
   ]
  },
  {
   "attachments": {},
   "cell_type": "markdown",
   "id": "91f20bcf-6aa6-4611-a6a9-dc71a22d66e2",
   "metadata": {},
   "source": [
    "Plot optimization history:"
   ]
  },
  {
   "cell_type": "code",
   "execution_count": 11,
   "id": "82007f84-ef91-43ae-b68a-d0156a4de755",
   "metadata": {
    "tags": []
   },
   "outputs": [
    {
     "data": {
      "image/png": "[encoded data removed]",
      "text/plain": [
       "<IPython.core.display.Image object>"
      ]
     },
     "execution_count": 11,
     "metadata": {},
     "output_type": "execute_result"
    }
   ],
   "source": [
    "opt_hist = optuna.visualization.plot_optimization_history(study)\n",
    "\n",
    "opt_hist_image_bytes = opt_hist.to_image(format=\"png\")\n",
    "\n",
    "Image(opt_hist_image_bytes)"
   ]
  },
  {
   "attachments": {},
   "cell_type": "markdown",
   "id": "0efb0c9f-9b66-4562-94b4-5912eeea93d2",
   "metadata": {},
   "source": [
    "## Inference on Test Set"
   ]
  },
  {
   "cell_type": "code",
   "execution_count": null,
   "id": "58d2bdd3-72f6-4ba4-9b07-132248242b74",
   "metadata": {
    "tags": []
   },
   "outputs": [
    {
     "name": "stderr",
     "output_type": "stream",
     "text": [
      "WARNING:sagemaker.deprecations:update_endpoint is a no-op in sagemaker>=2.\n",
      "See: https://sagemaker.readthedocs.io/en/stable/v2.html for details.\n",
      "INFO:sagemaker.tensorflow.model:image_uri is not presented, retrieving image_uri based on instance_type, framework etc.\n",
      "INFO:sagemaker:Creating model with name: tensorflow-inference-2023-05-06-13-38-08-528\n",
      "INFO:sagemaker:Creating endpoint-config with name weather-classification-cnn-2023-05-06-v1\n",
      "INFO:sagemaker:Creating endpoint with name weather-classification-cnn-2023-05-06-v1\n"
     ]
    },
    {
     "name": "stdout",
     "output_type": "stream",
     "text": [
      "---!"
     ]
    }
   ],
   "source": [
    "best_model_data = os.path.join(\n",
    "    tf_estimator.output_path,\n",
    "    study.best_trial.user_attrs[\"job_name\"],\n",
    "    \"output/model.tar.gz\",\n",
    ")\n",
    "\n",
    "best_model = TensorFlowModel(\n",
    "    model_data=best_model_data, role=role, framework_version=FRAMEWORK_VERSION\n",
    ")\n",
    "\n",
    "predictor = best_model.deploy(\n",
    "    initial_instance_count=1,\n",
    "    instance_type=\"ml.c5.2xlarge\",\n",
    "    endpoint_name=endpoint_name + \"-v1\",\n",
    "    container_startup_health_check_timeout=5 * 60,\n",
    ")"
   ]
  },
  {
   "attachments": {},
   "cell_type": "markdown",
   "id": "0978e56d-640a-4fd0-8017-c328c0cb8cfa",
   "metadata": {},
   "source": [
    " Read in test data:"
   ]
  },
  {
   "cell_type": "code",
   "execution_count": 58,
   "id": "d56d8539-b21a-4e81-8be7-0cd2dd447356",
   "metadata": {
    "tags": []
   },
   "outputs": [
    {
     "data": {
      "text/plain": [
       "((172, 256, 256, 3), (172,))"
      ]
     },
     "execution_count": 58,
     "metadata": {},
     "output_type": "execute_result"
    }
   ],
   "source": [
    "# Load test data\n",
    "X_test = np.load(\n",
    "    io.BytesIO(\n",
    "        s3.get_object(Bucket=s3_bucket, Key=f\"{s3_key}/input-data/test/X_test.npy\")[\n",
    "            \"Body\"\n",
    "        ].read()\n",
    "    )\n",
    ")\n",
    "y_test = np.load(\n",
    "    io.BytesIO(\n",
    "        s3.get_object(Bucket=s3_bucket, Key=f\"{s3_key}/input-data/test/y_test.npy\")[\n",
    "            \"Body\"\n",
    "        ].read()\n",
    "    )\n",
    ")\n",
    "\n",
    "X_test.shape, y_test.shape"
   ]
  },
  {
   "attachments": {},
   "cell_type": "markdown",
   "id": "a64d5962-c42f-4bc0-bb55-dded44ca00ce",
   "metadata": {},
   "source": [
    "Make predictions in batches:"
   ]
  },
  {
   "cell_type": "code",
   "execution_count": 66,
   "id": "c8880a38-7b6e-4fba-9bb8-2fd095c3dc2c",
   "metadata": {
    "tags": []
   },
   "outputs": [
    {
     "name": "stderr",
     "output_type": "stream",
     "text": [
      "100%|██████████| 35/35 [00:59<00:00,  1.70s/it]\n"
     ]
    },
    {
     "data": {
      "text/plain": [
       "array([0, 2, 2, 0, 0, 0, 2, 0, 0, 0, 0, 0, 3, 0, 0, 0, 0, 0, 0, 0, 0, 0,\n",
       "       0, 0, 0, 0, 0, 0, 0, 0, 0, 0, 0, 0, 0, 0, 0, 0, 0, 0, 0, 3, 0, 2,\n",
       "       0, 1, 1, 1, 1, 1, 1, 1, 1, 1, 1, 1, 1, 1, 1, 1, 1, 1, 1, 1, 1, 1,\n",
       "       1, 1, 1, 1, 1, 1, 1, 1, 1, 1, 1, 3, 2, 2, 2, 2, 2, 2, 2, 2, 2, 2,\n",
       "       2, 2, 2, 2, 2, 2, 2, 2, 2, 2, 2, 2, 2, 2, 2, 1, 2, 2, 2, 2, 2, 2,\n",
       "       2, 2, 2, 2, 2, 2, 2, 3, 3, 3, 3, 3, 3, 2, 2, 3, 3, 3, 3, 3, 3, 3,\n",
       "       3, 3, 3, 3, 3, 3, 3, 3, 3, 3, 3, 3, 3, 3, 3, 3, 3, 3, 3, 3, 3, 3,\n",
       "       3, 3, 3, 3, 3, 3, 3, 3, 3, 3, 2, 3, 3, 3, 3, 3, 3, 3])"
      ]
     },
     "execution_count": 66,
     "metadata": {},
     "output_type": "execute_result"
    }
   ],
   "source": [
    "# Define the batch size\n",
    "batch_size = 5\n",
    "\n",
    "# Generate predictions in batches\n",
    "num_instances = X_test.shape[0]\n",
    "num_batches = (num_instances + batch_size - 1) // batch_size\n",
    "\n",
    "predicted_labels = []\n",
    "for i in tqdm(range(num_batches)):\n",
    "    start_idx = i * batch_size\n",
    "    end_idx = min(start_idx + batch_size, num_instances)\n",
    "    batch = X_test[start_idx:end_idx]\n",
    "\n",
    "    # Call the predict method of the TensorFlowPredictor object\n",
    "    predictions = predictor.predict(batch)\n",
    "\n",
    "    # Extract the predicted labels from the response\n",
    "    predicted_labels_batch = np.argmax(\n",
    "        predictions[\"predictions\"], axis=1\n",
    "    )  # Use axis=1 to find max probability across 4 columns (classes)\n",
    "\n",
    "    # Append the predicted labels to the list\n",
    "    predicted_labels.append(predicted_labels_batch)\n",
    "\n",
    "# Concatenate the predicted labels from all batches\n",
    "predicted_labels = np.concatenate(predicted_labels, axis=0)\n",
    "\n",
    "predicted_labels"
   ]
  },
  {
   "attachments": {},
   "cell_type": "markdown",
   "id": "b98406e9-bdb0-4912-bd5e-aa311cd9b08e",
   "metadata": {},
   "source": [
    "Accuracy score on test set:"
   ]
  },
  {
   "cell_type": "code",
   "execution_count": 69,
   "id": "814588e9-a312-487a-bf03-1824f066cc1c",
   "metadata": {
    "tags": []
   },
   "outputs": [
    {
     "name": "stdout",
     "output_type": "stream",
     "text": [
      "Accuracy score on test set: 0.936046511627907\n"
     ]
    }
   ],
   "source": [
    "print(\n",
    "    \"Accuracy score on test set:\",\n",
    "    accuracy_score(y_true=y_test, y_pred=predicted_labels),\n",
    ")"
   ]
  },
  {
   "attachments": {},
   "cell_type": "markdown",
   "id": "59ee0302",
   "metadata": {},
   "source": [
    "## Clean Up"
   ]
  },
  {
   "cell_type": "code",
   "execution_count": null,
   "id": "7a06c912",
   "metadata": {},
   "outputs": [],
   "source": [
    "sm_boto3.delete_endpoint(EndpointName=predictor.endpoint_name)\n",
    "sm_boto3.delete_endpoint_config(EndpointConfigName=predictor.endpoint_name)\n",
    "sm_boto3.delete_model(ModelName=best_model.name)"
   ]
  },
  {
   "cell_type": "code",
   "execution_count": null,
   "id": "665184dd",
   "metadata": {},
   "outputs": [],
   "source": [
    "sm_boto3.close()"
   ]
  }
 ],
 "metadata": {
  "kernelspec": {
   "display_name": "conda_tensorflow2_p310",
   "language": "python",
   "name": "conda_tensorflow2_p310"
  },
  "language_info": {
   "codemirror_mode": {
    "name": "ipython",
    "version": 3
   },
   "file_extension": ".py",
   "mimetype": "text/x-python",
   "name": "python",
   "nbconvert_exporter": "python",
   "pygments_lexer": "ipython3",
   "version": "3.10.8"
  }
 },
 "nbformat": 4,
 "nbformat_minor": 5
}
