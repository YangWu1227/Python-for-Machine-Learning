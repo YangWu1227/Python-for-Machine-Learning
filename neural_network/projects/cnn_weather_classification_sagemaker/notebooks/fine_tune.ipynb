{
 "cells": [
  {
   "cell_type": "code",
   "execution_count": 3,
   "id": "466960e7-736e-48c7-b5b3-f057efe1002f",
   "metadata": {
    "tags": []
   },
   "outputs": [
    {
     "data": {
      "text/html": [
       "<div class=\"bk-root\">\n",
       "        <a href=\"https://bokeh.org\" target=\"_blank\" class=\"bk-logo bk-logo-small bk-logo-notebook\"></a>\n",
       "        <span id=\"1002\">Loading BokehJS ...</span>\n",
       "    </div>\n"
      ]
     },
     "metadata": {},
     "output_type": "display_data"
    },
    {
     "data": {
      "application/javascript": "(function(root) {\n  function now() {\n    return new Date();\n  }\n\n  const force = true;\n\n  if (typeof root._bokeh_onload_callbacks === \"undefined\" || force === true) {\n    root._bokeh_onload_callbacks = [];\n    root._bokeh_is_loading = undefined;\n  }\n\nconst JS_MIME_TYPE = 'application/javascript';\n  const HTML_MIME_TYPE = 'text/html';\n  const EXEC_MIME_TYPE = 'application/vnd.bokehjs_exec.v0+json';\n  const CLASS_NAME = 'output_bokeh rendered_html';\n\n  /**\n   * Render data to the DOM node\n   */\n  function render(props, node) {\n    const script = document.createElement(\"script\");\n    node.appendChild(script);\n  }\n\n  /**\n   * Handle when an output is cleared or removed\n   */\n  function handleClearOutput(event, handle) {\n    const cell = handle.cell;\n\n    const id = cell.output_area._bokeh_element_id;\n    const server_id = cell.output_area._bokeh_server_id;\n    // Clean up Bokeh references\n    if (id != null && id in Bokeh.index) {\n      Bokeh.index[id].model.document.clear();\n      delete Bokeh.index[id];\n    }\n\n    if (server_id !== undefined) {\n      // Clean up Bokeh references\n      const cmd_clean = \"from bokeh.io.state import curstate; print(curstate().uuid_to_server['\" + server_id + \"'].get_sessions()[0].document.roots[0]._id)\";\n      cell.notebook.kernel.execute(cmd_clean, {\n        iopub: {\n          output: function(msg) {\n            const id = msg.content.text.trim();\n            if (id in Bokeh.index) {\n              Bokeh.index[id].model.document.clear();\n              delete Bokeh.index[id];\n            }\n          }\n        }\n      });\n      // Destroy server and session\n      const cmd_destroy = \"import bokeh.io.notebook as ion; ion.destroy_server('\" + server_id + \"')\";\n      cell.notebook.kernel.execute(cmd_destroy);\n    }\n  }\n\n  /**\n   * Handle when a new output is added\n   */\n  function handleAddOutput(event, handle) {\n    const output_area = handle.output_area;\n    const output = handle.output;\n\n    // limit handleAddOutput to display_data with EXEC_MIME_TYPE content only\n    if ((output.output_type != \"display_data\") || (!Object.prototype.hasOwnProperty.call(output.data, EXEC_MIME_TYPE))) {\n      return\n    }\n\n    const toinsert = output_area.element.find(\".\" + CLASS_NAME.split(' ')[0]);\n\n    if (output.metadata[EXEC_MIME_TYPE][\"id\"] !== undefined) {\n      toinsert[toinsert.length - 1].firstChild.textContent = output.data[JS_MIME_TYPE];\n      // store reference to embed id on output_area\n      output_area._bokeh_element_id = output.metadata[EXEC_MIME_TYPE][\"id\"];\n    }\n    if (output.metadata[EXEC_MIME_TYPE][\"server_id\"] !== undefined) {\n      const bk_div = document.createElement(\"div\");\n      bk_div.innerHTML = output.data[HTML_MIME_TYPE];\n      const script_attrs = bk_div.children[0].attributes;\n      for (let i = 0; i < script_attrs.length; i++) {\n        toinsert[toinsert.length - 1].firstChild.setAttribute(script_attrs[i].name, script_attrs[i].value);\n        toinsert[toinsert.length - 1].firstChild.textContent = bk_div.children[0].textContent\n      }\n      // store reference to server id on output_area\n      output_area._bokeh_server_id = output.metadata[EXEC_MIME_TYPE][\"server_id\"];\n    }\n  }\n\n  function register_renderer(events, OutputArea) {\n\n    function append_mime(data, metadata, element) {\n      // create a DOM node to render to\n      const toinsert = this.create_output_subarea(\n        metadata,\n        CLASS_NAME,\n        EXEC_MIME_TYPE\n      );\n      this.keyboard_manager.register_events(toinsert);\n      // Render to node\n      const props = {data: data, metadata: metadata[EXEC_MIME_TYPE]};\n      render(props, toinsert[toinsert.length - 1]);\n      element.append(toinsert);\n      return toinsert\n    }\n\n    /* Handle when an output is cleared or removed */\n    events.on('clear_output.CodeCell', handleClearOutput);\n    events.on('delete.Cell', handleClearOutput);\n\n    /* Handle when a new output is added */\n    events.on('output_added.OutputArea', handleAddOutput);\n\n    /**\n     * Register the mime type and append_mime function with output_area\n     */\n    OutputArea.prototype.register_mime_type(EXEC_MIME_TYPE, append_mime, {\n      /* Is output safe? */\n      safe: true,\n      /* Index of renderer in `output_area.display_order` */\n      index: 0\n    });\n  }\n\n  // register the mime type if in Jupyter Notebook environment and previously unregistered\n  if (root.Jupyter !== undefined) {\n    const events = require('base/js/events');\n    const OutputArea = require('notebook/js/outputarea').OutputArea;\n\n    if (OutputArea.prototype.mime_types().indexOf(EXEC_MIME_TYPE) == -1) {\n      register_renderer(events, OutputArea);\n    }\n  }\n  if (typeof (root._bokeh_timeout) === \"undefined\" || force === true) {\n    root._bokeh_timeout = Date.now() + 5000;\n    root._bokeh_failed_load = false;\n  }\n\n  const NB_LOAD_WARNING = {'data': {'text/html':\n     \"<div style='background-color: #fdd'>\\n\"+\n     \"<p>\\n\"+\n     \"BokehJS does not appear to have successfully loaded. If loading BokehJS from CDN, this \\n\"+\n     \"may be due to a slow or bad network connection. Possible fixes:\\n\"+\n     \"</p>\\n\"+\n     \"<ul>\\n\"+\n     \"<li>re-rerun `output_notebook()` to attempt to load from CDN again, or</li>\\n\"+\n     \"<li>use INLINE resources instead, as so:</li>\\n\"+\n     \"</ul>\\n\"+\n     \"<code>\\n\"+\n     \"from bokeh.resources import INLINE\\n\"+\n     \"output_notebook(resources=INLINE)\\n\"+\n     \"</code>\\n\"+\n     \"</div>\"}};\n\n  function display_loaded() {\n    const el = document.getElementById(\"1002\");\n    if (el != null) {\n      el.textContent = \"BokehJS is loading...\";\n    }\n    if (root.Bokeh !== undefined) {\n      if (el != null) {\n        el.textContent = \"BokehJS \" + root.Bokeh.version + \" successfully loaded.\";\n      }\n    } else if (Date.now() < root._bokeh_timeout) {\n      setTimeout(display_loaded, 100)\n    }\n  }\n\n  function run_callbacks() {\n    try {\n      root._bokeh_onload_callbacks.forEach(function(callback) {\n        if (callback != null)\n          callback();\n      });\n    } finally {\n      delete root._bokeh_onload_callbacks\n    }\n    console.debug(\"Bokeh: all callbacks have finished\");\n  }\n\n  function load_libs(css_urls, js_urls, callback) {\n    if (css_urls == null) css_urls = [];\n    if (js_urls == null) js_urls = [];\n\n    root._bokeh_onload_callbacks.push(callback);\n    if (root._bokeh_is_loading > 0) {\n      console.debug(\"Bokeh: BokehJS is being loaded, scheduling callback at\", now());\n      return null;\n    }\n    if (js_urls == null || js_urls.length === 0) {\n      run_callbacks();\n      return null;\n    }\n    console.debug(\"Bokeh: BokehJS not loaded, scheduling load and callback at\", now());\n    root._bokeh_is_loading = css_urls.length + js_urls.length;\n\n    function on_load() {\n      root._bokeh_is_loading--;\n      if (root._bokeh_is_loading === 0) {\n        console.debug(\"Bokeh: all BokehJS libraries/stylesheets loaded\");\n        run_callbacks()\n      }\n    }\n\n    function on_error(url) {\n      console.error(\"failed to load \" + url);\n    }\n\n    for (let i = 0; i < css_urls.length; i++) {\n      const url = css_urls[i];\n      const element = document.createElement(\"link\");\n      element.onload = on_load;\n      element.onerror = on_error.bind(null, url);\n      element.rel = \"stylesheet\";\n      element.type = \"text/css\";\n      element.href = url;\n      console.debug(\"Bokeh: injecting link tag for BokehJS stylesheet: \", url);\n      document.body.appendChild(element);\n    }\n\n    for (let i = 0; i < js_urls.length; i++) {\n      const url = js_urls[i];\n      const element = document.createElement('script');\n      element.onload = on_load;\n      element.onerror = on_error.bind(null, url);\n      element.async = false;\n      element.src = url;\n      console.debug(\"Bokeh: injecting script tag for BokehJS library: \", url);\n      document.head.appendChild(element);\n    }\n  };\n\n  function inject_raw_css(css) {\n    const element = document.createElement(\"style\");\n    element.appendChild(document.createTextNode(css));\n    document.body.appendChild(element);\n  }\n\n  const js_urls = [\"https://cdn.bokeh.org/bokeh/release/bokeh-2.4.3.min.js\", \"https://cdn.bokeh.org/bokeh/release/bokeh-gl-2.4.3.min.js\", \"https://cdn.bokeh.org/bokeh/release/bokeh-widgets-2.4.3.min.js\", \"https://cdn.bokeh.org/bokeh/release/bokeh-tables-2.4.3.min.js\", \"https://cdn.bokeh.org/bokeh/release/bokeh-mathjax-2.4.3.min.js\"];\n  const css_urls = [];\n\n  const inline_js = [    function(Bokeh) {\n      Bokeh.set_log_level(\"info\");\n    },\nfunction(Bokeh) {\n    }\n  ];\n\n  function run_inline_js() {\n    if (root.Bokeh !== undefined || force === true) {\n          for (let i = 0; i < inline_js.length; i++) {\n      inline_js[i].call(root, root.Bokeh);\n    }\nif (force === true) {\n        display_loaded();\n      }} else if (Date.now() < root._bokeh_timeout) {\n      setTimeout(run_inline_js, 100);\n    } else if (!root._bokeh_failed_load) {\n      console.log(\"Bokeh: BokehJS failed to load within specified timeout.\");\n      root._bokeh_failed_load = true;\n    } else if (force !== true) {\n      const cell = $(document.getElementById(\"1002\")).parents('.cell').data().cell;\n      cell.output_area.append_execute_result(NB_LOAD_WARNING)\n    }\n  }\n\n  if (root._bokeh_is_loading === 0) {\n    console.debug(\"Bokeh: BokehJS loaded, going straight to plotting\");\n    run_inline_js();\n  } else {\n    load_libs(css_urls, js_urls, function() {\n      console.debug(\"Bokeh: BokehJS plotting callback run at\", now());\n      run_inline_js();\n    });\n  }\n}(window));",
      "application/vnd.bokehjs_load.v0+json": ""
     },
     "metadata": {},
     "output_type": "display_data"
    }
   ],
   "source": [
    "%reload_ext autoreload\n",
    "%autoreload 2\n",
    "\n",
    "import os\n",
    "import io\n",
    "import sys\n",
    "import datetime\n",
    "\n",
    "import boto3\n",
    "import sagemaker\n",
    "from sagemaker.tensorflow.estimator import TensorFlow\n",
    "from sagemaker.tensorflow import TensorFlowModel\n",
    "from sagemaker.tuner import (\n",
    "    ContinuousParameter,\n",
    "    IntegerParameter,\n",
    "    CategoricalParameter,\n",
    "    HyperparameterTuner,\n",
    ")\n",
    "from sklearn.metrics import accuracy_score\n",
    "from tqdm import tqdm\n",
    "\n",
    "import numpy as np\n",
    "\n",
    "os.environ[\"TF_CPP_MIN_LOG_LEVEL\"] = \"2\"  # Nopep8\n",
    "\n",
    "sys.path.append(os.path.dirname(os.getcwd()))\n",
    "from src.model_utils import HoverHelper\n",
    "\n",
    "from bokeh.plotting import figure, show\n",
    "import bokeh\n",
    "\n",
    "bokeh.io.output_notebook()"
   ]
  },
  {
   "cell_type": "markdown",
   "id": "1b80f103-2d14-4203-8af3-55f154078c1b",
   "metadata": {},
   "source": [
    "## S3"
   ]
  },
  {
   "cell_type": "code",
   "execution_count": 4,
   "id": "a82bb400-e0af-4154-b227-b78e8dffad08",
   "metadata": {
    "tags": []
   },
   "outputs": [
    {
     "data": {
      "text/plain": [
       "{'train': 's3://yang-ml-sagemaker/weather-classification/input-data/train',\n",
       " 'val': 's3://yang-ml-sagemaker/weather-classification/input-data/val'}"
      ]
     },
     "execution_count": 4,
     "metadata": {},
     "output_type": "execute_result"
    }
   ],
   "source": [
    "s3 = boto3.client(\"s3\")\n",
    "\n",
    "s3_bucket = \"yang-ml-sagemaker\"\n",
    "s3_key = \"weather-classification\"\n",
    "\n",
    "train_val_path = {\n",
    "    \"train\": f\"s3://{s3_bucket}/{s3_key}/input-data/train\",\n",
    "    \"val\": f\"s3://{s3_bucket}/{s3_key}/input-data/val\",\n",
    "}\n",
    "train_val_path"
   ]
  },
  {
   "cell_type": "markdown",
   "id": "cacd521d-e565-4b83-a381-2b50f9a77623",
   "metadata": {},
   "source": [
    "## Sagemaker"
   ]
  },
  {
   "cell_type": "code",
   "execution_count": 12,
   "id": "4e5739eb-8fce-423b-ba1d-f87aa3675618",
   "metadata": {
    "tags": []
   },
   "outputs": [],
   "source": [
    "sagemaker_session = sagemaker.Session(default_bucket=s3_bucket)\n",
    "sagemaker_session\n",
    "sm_boto3 = boto3.client(\"sagemaker\")\n",
    "role = sagemaker.get_execution_role()\n",
    "s3_uploader = sagemaker.s3.S3Uploader()\n",
    "instance_type = \"ml.c5.9xlarge\"\n",
    "instance_count = 1\n",
    "\n",
    "src_dir_path = os.path.join(os.path.dirname(os.getcwd()), \"src\")\n",
    "fine_tune_script_path = \"fine_tune_entry.py\"\n",
    "model_dir = \"/opt/ml/model\"\n",
    "volume_size = 30\n",
    "output_path = f\"s3://{s3_bucket}/{s3_key}/models\"\n",
    "code_location = f\"s3://{s3_bucket}/{s3_key}/code\"\n",
    "\n",
    "checkpoint_s3_uri = f\"s3://{s3_bucket}/{s3_key}/checkpoints\"\n",
    "use_spot_instances = True\n",
    "max_run = 86400\n",
    "max_retry_attempts = 2\n",
    "\n",
    "PY_VERSION = \"py39\"\n",
    "FRAMEWORK_VERSION = (\n",
    "    \"2.8\"  # Avoid bug with regards to data augmentation in tf 2.9 - 2.12\n",
    ")\n",
    "\n",
    "# Get today's date in YYYYMMDD format\n",
    "today = datetime.datetime.today().strftime(\"%Y-%m-%d\")\n",
    "\n",
    "# Define endpoint name with version and date\n",
    "endpoint_name = f\"fine-tune-cnn-{today}\""
   ]
  },
  {
   "cell_type": "markdown",
   "id": "9f290c3e-7225-4236-8d07-6204384a0281",
   "metadata": {},
   "source": [
    "## Tensorflow Estimator"
   ]
  },
  {
   "cell_type": "code",
   "execution_count": 13,
   "id": "08468158-3cd8-4118-8bc9-dae98a0321b7",
   "metadata": {
    "tags": []
   },
   "outputs": [
    {
     "data": {
      "text/plain": [
       "<sagemaker.tensorflow.estimator.TensorFlow at 0x7fcdd9e206a0>"
      ]
     },
     "execution_count": 13,
     "metadata": {},
     "output_type": "execute_result"
    }
   ],
   "source": [
    "tf_estimator = TensorFlow(\n",
    "    entry_point=fine_tune_script_path,\n",
    "    source_dir=src_dir_path,\n",
    "    role=role,\n",
    "    py_version=PY_VERSION,\n",
    "    framework_version=FRAMEWORK_VERSION,\n",
    "    volume_size=volume_size,\n",
    "    model_dir=model_dir,\n",
    "    output_path=output_path,\n",
    "    code_location=output_path,\n",
    "    instance_type=instance_type,\n",
    "    instance_count=instance_count,\n",
    "    # Spot training\n",
    "    max_run=max_run,\n",
    "    max_wait=max_run,\n",
    "    max_retry_attempts=max_retry_attempts,\n",
    "    use_spot_instances=use_spot_instances,\n",
    "    checkpoint_s3_uri=checkpoint_s3_uri,\n",
    ")\n",
    "tf_estimator"
   ]
  },
  {
   "cell_type": "markdown",
   "id": "2840257f-2a5a-4bc2-a007-60af95a1158b",
   "metadata": {},
   "source": [
    "## Hyperpameter Optimization"
   ]
  },
  {
   "cell_type": "code",
   "execution_count": 14,
   "id": "c86213d8-c201-40b9-8407-8040bdad419c",
   "metadata": {
    "tags": []
   },
   "outputs": [],
   "source": [
    "search_space = {\n",
    "    \"random_contrast_factor\": ContinuousParameter(min_value=0.1, max_value=1.0),\n",
    "    \"random_flip_mode\": CategoricalParameter(\n",
    "        values=[\"horizontal\", \"vertical\", \"horizontal_and_vertical\"]\n",
    "    ),\n",
    "    \"random_rotation_factor\": ContinuousParameter(min_value=0.1, max_value=0.5),\n",
    "    \"random_zoom_factor\": ContinuousParameter(min_value=0.1, max_value=0.5),\n",
    "    \"dense_units\": CategoricalParameter(values=[64, 128, 256]),\n",
    "    \"dense_weight_decay\": ContinuousParameter(\n",
    "        min_value=1e-8, max_value=1e-3, scaling_type=\"Logarithmic\"\n",
    "    ),\n",
    "    \"dropout_rate\": ContinuousParameter(min_value=0.0, max_value=0.5),\n",
    "    \"learning_rate\": ContinuousParameter(\n",
    "        min_value=1e-4, max_value=1e-2, scaling_type=\"Logarithmic\"\n",
    "    ),\n",
    "    \"clipnorm\": ContinuousParameter(min_value=0.2, max_value=1.0),\n",
    "    \"batch_size\": CategoricalParameter(values=[32, 64, 128]),\n",
    "    \"epochs\": IntegerParameter(min_value=10, max_value=20),\n",
    "}\n",
    "\n",
    "objective_metric_name = \"accuracy\"\n",
    "objective_type = \"Maximize\"\n",
    "metric_definitions = [\n",
    "    {\n",
    "        \"Name\": objective_metric_name,\n",
    "        \"Regex\": \"Best validation accuracy after fine-tuning: ([0-9\\\\.]+)\",\n",
    "    }\n",
    "]\n",
    "base_tuning_job_name = f\"fine-tune-hpo-job-{today}\""
   ]
  },
  {
   "cell_type": "code",
   "execution_count": 15,
   "id": "695bd722-dd1b-44aa-a1f0-3865ea566523",
   "metadata": {
    "tags": []
   },
   "outputs": [],
   "source": [
    "hpo_tuner = HyperparameterTuner(\n",
    "    estimator=tf_estimator,\n",
    "    objective_metric_name=objective_metric_name,\n",
    "    hyperparameter_ranges=search_space,\n",
    "    metric_definitions=metric_definitions,\n",
    "    strategy=\"Bayesian\",\n",
    "    objective_type=objective_type,\n",
    "    max_jobs=25,\n",
    "    max_parallel_jobs=5,\n",
    "    base_tuning_job_name=base_tuning_job_name,\n",
    ")"
   ]
  },
  {
   "cell_type": "code",
   "execution_count": null,
   "id": "a66e584e-ce7b-471a-b48f-99cec5d403c7",
   "metadata": {
    "tags": []
   },
   "outputs": [
    {
     "name": "stderr",
     "output_type": "stream",
     "text": [
      "No finished training job found associated with this estimator. Please make sure this estimator is only used for building workflow config\n"
     ]
    },
    {
     "name": "stdout",
     "output_type": "stream",
     "text": [
      "..............................................................................................................."
     ]
    }
   ],
   "source": [
    "hpo_tuner.fit(train_val_path)"
   ]
  },
  {
   "cell_type": "markdown",
   "id": "ef7aed73-a031-4f0c-b5e7-1eb2cc2d921b",
   "metadata": {},
   "source": [
    "Check hpo results:"
   ]
  },
  {
   "cell_type": "code",
   "execution_count": 17,
   "id": "b0d98468-b8b0-453f-8733-8bbad406f391",
   "metadata": {
    "tags": []
   },
   "outputs": [
    {
     "data": {
      "text/html": [
       "<div>\n",
       "<style scoped>\n",
       "    .dataframe tbody tr th:only-of-type {\n",
       "        vertical-align: middle;\n",
       "    }\n",
       "\n",
       "    .dataframe tbody tr th {\n",
       "        vertical-align: top;\n",
       "    }\n",
       "\n",
       "    .dataframe thead th {\n",
       "        text-align: right;\n",
       "    }\n",
       "</style>\n",
       "<table border=\"1\" class=\"dataframe\">\n",
       "  <thead>\n",
       "    <tr style=\"text-align: right;\">\n",
       "      <th></th>\n",
       "      <th>batch_size</th>\n",
       "      <th>clipnorm</th>\n",
       "      <th>dense_units</th>\n",
       "      <th>dense_weight_decay</th>\n",
       "      <th>dropout_rate</th>\n",
       "      <th>epochs</th>\n",
       "      <th>learning_rate</th>\n",
       "      <th>random_contrast_factor</th>\n",
       "      <th>random_flip_mode</th>\n",
       "      <th>random_rotation_factor</th>\n",
       "      <th>random_zoom_factor</th>\n",
       "      <th>TrainingJobName</th>\n",
       "      <th>TrainingJobStatus</th>\n",
       "      <th>FinalObjectiveValue</th>\n",
       "      <th>TrainingStartTime</th>\n",
       "      <th>TrainingEndTime</th>\n",
       "      <th>TrainingElapsedTimeSeconds</th>\n",
       "    </tr>\n",
       "  </thead>\n",
       "  <tbody>\n",
       "    <tr>\n",
       "      <th>5</th>\n",
       "      <td>\"128\"</td>\n",
       "      <td>0.861308</td>\n",
       "      <td>\"128\"</td>\n",
       "      <td>1.199154e-04</td>\n",
       "      <td>0.205819</td>\n",
       "      <td>12.0</td>\n",
       "      <td>0.000100</td>\n",
       "      <td>0.782325</td>\n",
       "      <td>\"horizontal_and_vertical\"</td>\n",
       "      <td>0.100000</td>\n",
       "      <td>0.249429</td>\n",
       "      <td>fine-tune-hpo-job-20-230512-2030-020-6f6654bb</td>\n",
       "      <td>Completed</td>\n",
       "      <td>0.982036</td>\n",
       "      <td>2023-05-12 20:55:37+00:00</td>\n",
       "      <td>2023-05-12 21:01:09+00:00</td>\n",
       "      <td>332.0</td>\n",
       "    </tr>\n",
       "    <tr>\n",
       "      <th>12</th>\n",
       "      <td>\"128\"</td>\n",
       "      <td>0.431880</td>\n",
       "      <td>\"256\"</td>\n",
       "      <td>1.045473e-04</td>\n",
       "      <td>0.230433</td>\n",
       "      <td>14.0</td>\n",
       "      <td>0.000649</td>\n",
       "      <td>0.448479</td>\n",
       "      <td>\"vertical\"</td>\n",
       "      <td>0.135630</td>\n",
       "      <td>0.463527</td>\n",
       "      <td>fine-tune-hpo-job-20-230512-2030-013-f129f307</td>\n",
       "      <td>Completed</td>\n",
       "      <td>0.976048</td>\n",
       "      <td>2023-05-12 20:46:17+00:00</td>\n",
       "      <td>2023-05-12 20:53:00+00:00</td>\n",
       "      <td>403.0</td>\n",
       "    </tr>\n",
       "    <tr>\n",
       "      <th>16</th>\n",
       "      <td>\"64\"</td>\n",
       "      <td>1.000000</td>\n",
       "      <td>\"64\"</td>\n",
       "      <td>5.557043e-04</td>\n",
       "      <td>0.337955</td>\n",
       "      <td>10.0</td>\n",
       "      <td>0.000149</td>\n",
       "      <td>0.190498</td>\n",
       "      <td>\"horizontal\"</td>\n",
       "      <td>0.320856</td>\n",
       "      <td>0.100000</td>\n",
       "      <td>fine-tune-hpo-job-20-230512-2030-009-1a871ba7</td>\n",
       "      <td>Completed</td>\n",
       "      <td>0.976048</td>\n",
       "      <td>2023-05-12 20:40:13+00:00</td>\n",
       "      <td>2023-05-12 20:45:25+00:00</td>\n",
       "      <td>312.0</td>\n",
       "    </tr>\n",
       "    <tr>\n",
       "      <th>8</th>\n",
       "      <td>\"32\"</td>\n",
       "      <td>0.948598</td>\n",
       "      <td>\"256\"</td>\n",
       "      <td>1.828381e-07</td>\n",
       "      <td>0.000000</td>\n",
       "      <td>19.0</td>\n",
       "      <td>0.000100</td>\n",
       "      <td>1.000000</td>\n",
       "      <td>\"horizontal\"</td>\n",
       "      <td>0.226589</td>\n",
       "      <td>0.480112</td>\n",
       "      <td>fine-tune-hpo-job-20-230512-2030-017-4ba886a4</td>\n",
       "      <td>Completed</td>\n",
       "      <td>0.976048</td>\n",
       "      <td>2023-05-12 20:50:13+00:00</td>\n",
       "      <td>2023-05-12 20:55:41+00:00</td>\n",
       "      <td>328.0</td>\n",
       "    </tr>\n",
       "    <tr>\n",
       "      <th>19</th>\n",
       "      <td>\"64\"</td>\n",
       "      <td>0.537339</td>\n",
       "      <td>\"256\"</td>\n",
       "      <td>1.488429e-08</td>\n",
       "      <td>0.352538</td>\n",
       "      <td>10.0</td>\n",
       "      <td>0.000173</td>\n",
       "      <td>0.102225</td>\n",
       "      <td>\"horizontal\"</td>\n",
       "      <td>0.256750</td>\n",
       "      <td>0.155183</td>\n",
       "      <td>fine-tune-hpo-job-20-230512-2030-006-d0754436</td>\n",
       "      <td>Completed</td>\n",
       "      <td>0.970060</td>\n",
       "      <td>2023-05-12 20:38:33+00:00</td>\n",
       "      <td>2023-05-12 20:42:46+00:00</td>\n",
       "      <td>253.0</td>\n",
       "    </tr>\n",
       "    <tr>\n",
       "      <th>18</th>\n",
       "      <td>\"128\"</td>\n",
       "      <td>0.918315</td>\n",
       "      <td>\"128\"</td>\n",
       "      <td>2.132268e-06</td>\n",
       "      <td>0.037743</td>\n",
       "      <td>20.0</td>\n",
       "      <td>0.000159</td>\n",
       "      <td>1.000000</td>\n",
       "      <td>\"vertical\"</td>\n",
       "      <td>0.224701</td>\n",
       "      <td>0.349533</td>\n",
       "      <td>fine-tune-hpo-job-20-230512-2030-007-919ec30a</td>\n",
       "      <td>Completed</td>\n",
       "      <td>0.970060</td>\n",
       "      <td>2023-05-12 20:39:16+00:00</td>\n",
       "      <td>2023-05-12 20:45:54+00:00</td>\n",
       "      <td>398.0</td>\n",
       "    </tr>\n",
       "    <tr>\n",
       "      <th>4</th>\n",
       "      <td>\"128\"</td>\n",
       "      <td>0.386434</td>\n",
       "      <td>\"256\"</td>\n",
       "      <td>6.816605e-06</td>\n",
       "      <td>0.237063</td>\n",
       "      <td>19.0</td>\n",
       "      <td>0.000100</td>\n",
       "      <td>0.397628</td>\n",
       "      <td>\"horizontal_and_vertical\"</td>\n",
       "      <td>0.271770</td>\n",
       "      <td>0.188863</td>\n",
       "      <td>fine-tune-hpo-job-20-230512-2030-021-33985d06</td>\n",
       "      <td>Completed</td>\n",
       "      <td>0.970060</td>\n",
       "      <td>2023-05-12 20:55:59+00:00</td>\n",
       "      <td>2023-05-12 21:03:30+00:00</td>\n",
       "      <td>451.0</td>\n",
       "    </tr>\n",
       "    <tr>\n",
       "      <th>17</th>\n",
       "      <td>\"128\"</td>\n",
       "      <td>0.200000</td>\n",
       "      <td>\"64\"</td>\n",
       "      <td>1.000000e-08</td>\n",
       "      <td>0.000000</td>\n",
       "      <td>10.0</td>\n",
       "      <td>0.000100</td>\n",
       "      <td>0.791549</td>\n",
       "      <td>\"vertical\"</td>\n",
       "      <td>0.500000</td>\n",
       "      <td>0.369037</td>\n",
       "      <td>fine-tune-hpo-job-20-230512-2030-008-2c331e3f</td>\n",
       "      <td>Completed</td>\n",
       "      <td>0.970060</td>\n",
       "      <td>2023-05-12 20:39:30+00:00</td>\n",
       "      <td>2023-05-12 20:46:08+00:00</td>\n",
       "      <td>398.0</td>\n",
       "    </tr>\n",
       "    <tr>\n",
       "      <th>1</th>\n",
       "      <td>\"128\"</td>\n",
       "      <td>1.000000</td>\n",
       "      <td>\"64\"</td>\n",
       "      <td>3.239013e-05</td>\n",
       "      <td>0.000000</td>\n",
       "      <td>20.0</td>\n",
       "      <td>0.000178</td>\n",
       "      <td>0.100000</td>\n",
       "      <td>\"vertical\"</td>\n",
       "      <td>0.100000</td>\n",
       "      <td>0.479058</td>\n",
       "      <td>fine-tune-hpo-job-20-230512-2030-024-d7d5a4de</td>\n",
       "      <td>Completed</td>\n",
       "      <td>0.970060</td>\n",
       "      <td>2023-05-12 21:00:39+00:00</td>\n",
       "      <td>2023-05-12 21:08:15+00:00</td>\n",
       "      <td>456.0</td>\n",
       "    </tr>\n",
       "    <tr>\n",
       "      <th>10</th>\n",
       "      <td>\"32\"</td>\n",
       "      <td>0.325136</td>\n",
       "      <td>\"128\"</td>\n",
       "      <td>2.628396e-05</td>\n",
       "      <td>0.166228</td>\n",
       "      <td>13.0</td>\n",
       "      <td>0.001136</td>\n",
       "      <td>0.198546</td>\n",
       "      <td>\"horizontal\"</td>\n",
       "      <td>0.492498</td>\n",
       "      <td>0.252394</td>\n",
       "      <td>fine-tune-hpo-job-20-230512-2030-015-fe19df8a</td>\n",
       "      <td>Completed</td>\n",
       "      <td>0.964072</td>\n",
       "      <td>2023-05-12 20:49:58+00:00</td>\n",
       "      <td>2023-05-12 20:57:11+00:00</td>\n",
       "      <td>433.0</td>\n",
       "    </tr>\n",
       "  </tbody>\n",
       "</table>\n",
       "</div>"
      ],
      "text/plain": [
       "   batch_size  clipnorm dense_units  dense_weight_decay  dropout_rate  epochs  \\\n",
       "5       \"128\"  0.861308       \"128\"        1.199154e-04      0.205819    12.0   \n",
       "12      \"128\"  0.431880       \"256\"        1.045473e-04      0.230433    14.0   \n",
       "16       \"64\"  1.000000        \"64\"        5.557043e-04      0.337955    10.0   \n",
       "8        \"32\"  0.948598       \"256\"        1.828381e-07      0.000000    19.0   \n",
       "19       \"64\"  0.537339       \"256\"        1.488429e-08      0.352538    10.0   \n",
       "18      \"128\"  0.918315       \"128\"        2.132268e-06      0.037743    20.0   \n",
       "4       \"128\"  0.386434       \"256\"        6.816605e-06      0.237063    19.0   \n",
       "17      \"128\"  0.200000        \"64\"        1.000000e-08      0.000000    10.0   \n",
       "1       \"128\"  1.000000        \"64\"        3.239013e-05      0.000000    20.0   \n",
       "10       \"32\"  0.325136       \"128\"        2.628396e-05      0.166228    13.0   \n",
       "\n",
       "    learning_rate  random_contrast_factor           random_flip_mode  \\\n",
       "5        0.000100                0.782325  \"horizontal_and_vertical\"   \n",
       "12       0.000649                0.448479                 \"vertical\"   \n",
       "16       0.000149                0.190498               \"horizontal\"   \n",
       "8        0.000100                1.000000               \"horizontal\"   \n",
       "19       0.000173                0.102225               \"horizontal\"   \n",
       "18       0.000159                1.000000                 \"vertical\"   \n",
       "4        0.000100                0.397628  \"horizontal_and_vertical\"   \n",
       "17       0.000100                0.791549                 \"vertical\"   \n",
       "1        0.000178                0.100000                 \"vertical\"   \n",
       "10       0.001136                0.198546               \"horizontal\"   \n",
       "\n",
       "    random_rotation_factor  random_zoom_factor  \\\n",
       "5                 0.100000            0.249429   \n",
       "12                0.135630            0.463527   \n",
       "16                0.320856            0.100000   \n",
       "8                 0.226589            0.480112   \n",
       "19                0.256750            0.155183   \n",
       "18                0.224701            0.349533   \n",
       "4                 0.271770            0.188863   \n",
       "17                0.500000            0.369037   \n",
       "1                 0.100000            0.479058   \n",
       "10                0.492498            0.252394   \n",
       "\n",
       "                                  TrainingJobName TrainingJobStatus  \\\n",
       "5   fine-tune-hpo-job-20-230512-2030-020-6f6654bb         Completed   \n",
       "12  fine-tune-hpo-job-20-230512-2030-013-f129f307         Completed   \n",
       "16  fine-tune-hpo-job-20-230512-2030-009-1a871ba7         Completed   \n",
       "8   fine-tune-hpo-job-20-230512-2030-017-4ba886a4         Completed   \n",
       "19  fine-tune-hpo-job-20-230512-2030-006-d0754436         Completed   \n",
       "18  fine-tune-hpo-job-20-230512-2030-007-919ec30a         Completed   \n",
       "4   fine-tune-hpo-job-20-230512-2030-021-33985d06         Completed   \n",
       "17  fine-tune-hpo-job-20-230512-2030-008-2c331e3f         Completed   \n",
       "1   fine-tune-hpo-job-20-230512-2030-024-d7d5a4de         Completed   \n",
       "10  fine-tune-hpo-job-20-230512-2030-015-fe19df8a         Completed   \n",
       "\n",
       "    FinalObjectiveValue         TrainingStartTime           TrainingEndTime  \\\n",
       "5              0.982036 2023-05-12 20:55:37+00:00 2023-05-12 21:01:09+00:00   \n",
       "12             0.976048 2023-05-12 20:46:17+00:00 2023-05-12 20:53:00+00:00   \n",
       "16             0.976048 2023-05-12 20:40:13+00:00 2023-05-12 20:45:25+00:00   \n",
       "8              0.976048 2023-05-12 20:50:13+00:00 2023-05-12 20:55:41+00:00   \n",
       "19             0.970060 2023-05-12 20:38:33+00:00 2023-05-12 20:42:46+00:00   \n",
       "18             0.970060 2023-05-12 20:39:16+00:00 2023-05-12 20:45:54+00:00   \n",
       "4              0.970060 2023-05-12 20:55:59+00:00 2023-05-12 21:03:30+00:00   \n",
       "17             0.970060 2023-05-12 20:39:30+00:00 2023-05-12 20:46:08+00:00   \n",
       "1              0.970060 2023-05-12 21:00:39+00:00 2023-05-12 21:08:15+00:00   \n",
       "10             0.964072 2023-05-12 20:49:58+00:00 2023-05-12 20:57:11+00:00   \n",
       "\n",
       "    TrainingElapsedTimeSeconds  \n",
       "5                        332.0  \n",
       "12                       403.0  \n",
       "16                       312.0  \n",
       "8                        328.0  \n",
       "19                       253.0  \n",
       "18                       398.0  \n",
       "4                        451.0  \n",
       "17                       398.0  \n",
       "1                        456.0  \n",
       "10                       433.0  "
      ]
     },
     "execution_count": 17,
     "metadata": {},
     "output_type": "execute_result"
    }
   ],
   "source": [
    "hpo_analytics = sagemaker.HyperparameterTuningJobAnalytics(\n",
    "    hpo_tuner.latest_tuning_job.name\n",
    ")\n",
    "\n",
    "hpo_results = hpo_analytics.dataframe()\n",
    "\n",
    "hpo_results.sort_values(\"FinalObjectiveValue\", ascending=False).head(10)"
   ]
  },
  {
   "cell_type": "code",
   "execution_count": 18,
   "id": "798c963e-860f-4656-8fc9-eafbbccce331",
   "metadata": {
    "tags": []
   },
   "outputs": [
    {
     "data": {
      "text/html": [
       "\n",
       "  <div class=\"bk-root\" id=\"34507b9b-11cd-46fa-b962-a981238e75e8\" data-root-id=\"1004\"></div>\n"
      ]
     },
     "metadata": {},
     "output_type": "display_data"
    },
    {
     "data": {
      "application/javascript": "(function(root) {\n  function embed_document(root) {\n  const docs_json = {\"6315cd96-f392-4a6f-ab6b-589bca627fae\":{\"defs\":[],\"roots\":{\"references\":[{\"attributes\":{\"below\":[{\"id\":\"1013\"}],\"center\":[{\"id\":\"1016\"},{\"id\":\"1020\"}],\"height\":400,\"left\":[{\"id\":\"1017\"}],\"renderers\":[{\"id\":\"1042\"}],\"title\":{\"id\":\"1044\"},\"toolbar\":{\"id\":\"1028\"},\"width\":900,\"x_range\":{\"id\":\"1005\"},\"x_scale\":{\"id\":\"1009\"},\"y_range\":{\"id\":\"1007\"},\"y_scale\":{\"id\":\"1011\"}},\"id\":\"1004\",\"subtype\":\"Figure\",\"type\":\"Plot\"},{\"attributes\":{},\"id\":\"1009\",\"type\":\"LinearScale\"},{\"attributes\":{},\"id\":\"1011\",\"type\":\"LinearScale\"},{\"attributes\":{\"data\":{\"FinalObjectiveValue\":{\"__ndarray__\":\"AAAAoEyC7T8AAAAAuwrvPwAAAADSsdQ/AAAAYJ+o7j8AAAAAuwrvPwAAAKDWbO8/AAAAQK3Z7j8AAABAaOTtPwAAAODIO+8/AAAA4PlbzD8AAABArdnuPwAAAAB2Fe4/AAAA4Mg77z8AAACALGXSPwAAAKDZPtE/AAAAoJF37j8AAADgyDvvPwAAAAC7Cu8/AAAAALsK7z8AAAAAuwrvPwAAAKCRd+4/AAAAIB1L6T8AAACgkXfuPwAAAKDZPtE/AAAAQK3Z7j8=\",\"dtype\":\"float64\",\"order\":\"little\",\"shape\":[25]},\"TrainingElapsedTimeSeconds\":{\"__ndarray__\":\"AAAAAACQeEAAAAAAAIB8QAAAAAAAwG1AAAAAAADgeEAAAAAAADB8QAAAAAAAwHRAAAAAAADweEAAAAAAAGBwQAAAAAAAgHRAAAAAAABAc0AAAAAAABB7QAAAAAAAkHNAAAAAAAAweUAAAAAAAGBpQAAAAAAA4HhAAAAAAADgeEAAAAAAAIBzQAAAAAAA4HhAAAAAAADgeEAAAAAAAKBvQAAAAAAA2IJAAAAAAABwekAAAAAAACB6QAAAAAAAcHZAAAAAAADQfUA=\",\"dtype\":\"float64\",\"order\":\"little\",\"shape\":[25]},\"TrainingEndTime\":{\"__ndarray__\":\"AADyrByBeEIAgKGvHIF4QgCA/0wcgXhCAIBRaRyBeEIAAA1qHIF4QgCAoEccgXhCAADCNxyBeEIAgMEDHIF4QgCAjPcbgXhCAIC87xuBeEIAgIUNHIF4QgCAcb0bgXhCAAA+0BuBeEIAAP+bG4F4QgCAqJ8bgXhCAIDAmxuBeEIAgChhG4F4QgAAqGsbgXhCAAA9aBuBeEIAAFc6G4F4QgAAgTMbgXhCAAAqAxuBeEIAgOsCG4F4QgCAvPUagXhCAABZEBuBeEI=\",\"dtype\":\"float64\",\"order\":\"little\",\"shape\":[25]},\"TrainingJobName\":[\"fine-tune-hpo-job-20-230512-2030-025-86aba840\",\"fine-tune-hpo-job-20-230512-2030-024-d7d5a4de\",\"fine-tune-hpo-job-20-230512-2030-023-4f7745f0\",\"fine-tune-hpo-job-20-230512-2030-022-92c65cec\",\"fine-tune-hpo-job-20-230512-2030-021-33985d06\",\"fine-tune-hpo-job-20-230512-2030-020-6f6654bb\",\"fine-tune-hpo-job-20-230512-2030-019-1bc7125c\",\"fine-tune-hpo-job-20-230512-2030-018-38e17830\",\"fine-tune-hpo-job-20-230512-2030-017-4ba886a4\",\"fine-tune-hpo-job-20-230512-2030-016-90df2759\",\"fine-tune-hpo-job-20-230512-2030-015-fe19df8a\",\"fine-tune-hpo-job-20-230512-2030-014-971ffcc2\",\"fine-tune-hpo-job-20-230512-2030-013-f129f307\",\"fine-tune-hpo-job-20-230512-2030-012-048924de\",\"fine-tune-hpo-job-20-230512-2030-011-1954bbf6\",\"fine-tune-hpo-job-20-230512-2030-010-a547ac24\",\"fine-tune-hpo-job-20-230512-2030-009-1a871ba7\",\"fine-tune-hpo-job-20-230512-2030-008-2c331e3f\",\"fine-tune-hpo-job-20-230512-2030-007-919ec30a\",\"fine-tune-hpo-job-20-230512-2030-006-d0754436\",\"fine-tune-hpo-job-20-230512-2030-005-fd73842f\",\"fine-tune-hpo-job-20-230512-2030-004-31fd9497\",\"fine-tune-hpo-job-20-230512-2030-003-ad43ad94\",\"fine-tune-hpo-job-20-230512-2030-002-b385bd64\",\"fine-tune-hpo-job-20-230512-2030-001-48be2201\"],\"TrainingJobStatus\":[\"Completed\",\"Completed\",\"Completed\",\"Completed\",\"Completed\",\"Completed\",\"Completed\",\"Completed\",\"Completed\",\"Completed\",\"Completed\",\"Completed\",\"Completed\",\"Completed\",\"Completed\",\"Completed\",\"Completed\",\"Completed\",\"Completed\",\"Completed\",\"Completed\",\"Completed\",\"Completed\",\"Completed\",\"Completed\"],\"TrainingStartTime\":{\"__ndarray__\":\"AID/TByBeEIAgE1AHIF4QgCA5BIcgXhCAIAmCByBeEIAgPH7G4F4QgCAkvYbgXhCAIBY1huBeEIAgMrDG4F4QgCAeKcbgXhCAICKpBuBeEIAAM+jG4F4QgAAB3EbgXhCAIDabRuBeEIAgG9qG4F4QgCAfT4bgXhCAICVOhuBeEIAgPwUG4F4QgAAfQobgXhCAAASBxuBeEIAgJL8GoF4QgCASaAagXhCAIDkmxqBeEIAgN6cGoF4QgAAF54agXhCAIDkmxqBeEI=\",\"dtype\":\"float64\",\"order\":\"little\",\"shape\":[25]},\"batch_size\":[\"\\\"32\\\"\",\"\\\"128\\\"\",\"\\\"32\\\"\",\"\\\"128\\\"\",\"\\\"128\\\"\",\"\\\"128\\\"\",\"\\\"128\\\"\",\"\\\"128\\\"\",\"\\\"32\\\"\",\"\\\"128\\\"\",\"\\\"32\\\"\",\"\\\"64\\\"\",\"\\\"128\\\"\",\"\\\"64\\\"\",\"\\\"32\\\"\",\"\\\"128\\\"\",\"\\\"64\\\"\",\"\\\"128\\\"\",\"\\\"128\\\"\",\"\\\"64\\\"\",\"\\\"128\\\"\",\"\\\"128\\\"\",\"\\\"128\\\"\",\"\\\"64\\\"\",\"\\\"64\\\"\"],\"clipnorm\":{\"__ndarray__\":\"q3tN0H67zz8AAAAAAADwP0jCV7qJTdY/gGM70Dck5z/+RF4eVbvYP8oGxeDUj+s/Oqphk7oL6D9EmnEvpbLkP9oSrSrqWu4/mpmZmZmZyT8SGNo9CM/UP5hZFAz2suI/L00ywu2j2z/mV2Y9djvcP3qehIcx/Nc/9HsYeJ+X2D8AAAAAAADwP5qZmZmZmck/Xord4dVi7T9pHrtG4jHhP/LAtA7zfeY/DQGVjA7V2j8wzjH9sVjRPxo1cRp18N8/2h8e98wBzD8=\",\"dtype\":\"float64\",\"order\":\"little\",\"shape\":[25]},\"dense_units\":[\"\\\"64\\\"\",\"\\\"64\\\"\",\"\\\"128\\\"\",\"\\\"64\\\"\",\"\\\"256\\\"\",\"\\\"128\\\"\",\"\\\"64\\\"\",\"\\\"256\\\"\",\"\\\"256\\\"\",\"\\\"128\\\"\",\"\\\"128\\\"\",\"\\\"64\\\"\",\"\\\"256\\\"\",\"\\\"256\\\"\",\"\\\"64\\\"\",\"\\\"64\\\"\",\"\\\"64\\\"\",\"\\\"64\\\"\",\"\\\"128\\\"\",\"\\\"256\\\"\",\"\\\"64\\\"\",\"\\\"128\\\"\",\"\\\"64\\\"\",\"\\\"64\\\"\",\"\\\"128\\\"\"],\"dense_weight_decay\":{\"__ndarray__\":\"YMgryz6VKj9H8wNmVPsAPx3NmGMtHrw+3bFSgIhVUz4AfLo8RpfcPhzajq1jbx8/jTdNhmdDdj6ZbtucItdpPloi495Eiog+3dWBicpplD463kTdi4/7Pldjk2bIX8c+cAGd2wxoGz/JAqxqIMmNPhW5rvB6SZI+Nk3gZQb/mj6pId3/lTVCPzqMMOKOeUU+XSvmkALjwT5JWuU5ufZPPgsTANSKR70+064Dma0eGD+RHMF91q6APkalkfRlv2E+hnsBMfbUFT8=\",\"dtype\":\"float64\",\"order\":\"little\",\"shape\":[25]},\"dropout_rate\":{\"__ndarray__\":\"AAAAAAAAAAAAAAAAAAAAAAAAAAAAAOA/AAAAAAAA4D/7XJomE1jOP4AzJWhEWMo/b0hhQ1jz0D8AAAAAAADgPwAAAAAAAAAAAAAAAAAA4D+Yvy4890bFP228pi8bNN8/3Mg43dR+zT/xJRhSOHPYP0xrm+iIp9o/cuQ4vfj3yT9ITtiiDqHVPwAAAAAAAAAAR1ZD/gBToz9gth1u+4/WP+EB8vPOCdA/GurmwNlB2j+0qcfm/s7CP/v1l4sgWNk/gHxXlliZnT8=\",\"dtype\":\"float64\",\"order\":\"little\",\"shape\":[25]},\"epochs\":{\"__ndarray__\":\"AAAAAAAANEAAAAAAAAA0QAAAAAAAADJAAAAAAAAAM0AAAAAAAAAzQAAAAAAAAChAAAAAAAAAJEAAAAAAAAAkQAAAAAAAADNAAAAAAAAAMUAAAAAAAAAqQAAAAAAAADBAAAAAAAAALEAAAAAAAAAwQAAAAAAAADBAAAAAAAAAKkAAAAAAAAAkQAAAAAAAACRAAAAAAAAANEAAAAAAAAAkQAAAAAAAADNAAAAAAAAAMEAAAAAAAAAmQAAAAAAAADRAAAAAAAAAKEA=\",\"dtype\":\"float64\",\"order\":\"little\",\"shape\":[25]},\"index\":[0,1,2,3,4,5,6,7,8,9,10,11,12,13,14,15,16,17,18,19,20,21,22,23,24],\"learning_rate\":{\"__ndarray__\":\"hCFwD/+zZD9QpSGWsGAnP3sUrkfheoQ/M0Mc6+I2Gj8zQxzr4jYaPzNDHOviNho/M0Mc6+I2Gj8zQxzr4jYaPzNDHOviNho/exSuR+F6hD9HzF36n5tSP5j3WlOyRTg/tlR680pHRT9yXQlR9M91P8BaniZVpF4/j6oNO8lDST8RnSFCIo8jPzNDHOviNho/UapcDQTNJD8hJkTsnLkmP0btlHuN9lE/kCh1UIU1dT/77Mfiu6w9PwAkT0NqL3A/2Pq9mk9VHz8=\",\"dtype\":\"float64\",\"order\":\"little\",\"shape\":[25]},\"random_contrast_factor\":{\"__ndarray__\":\"mpmZmZmZuT+amZmZmZm5P6g4At5YqNQ/mpmZmZmZuT9S9loWvXLZP0xnY9HOCOk/cwVIuDDH7D/kCAmOstXkPwAAAAAAAPA/xw82BsmA7j/aSM8R8mnJP6xYP/EZ4u0/5q0IC+Cz3D9uwbU8EsntP/OiKX3Dlrs/mOcXF89T7D/e61XzPWLIP31dYexdVOk/AAAAAAAA8D/EJ+5mayu6P+/RXINh4eI/yleZ/R677j8o2x66hsntP7x/PlPGyr8/BzX9tTAu6T8=\",\"dtype\":\"float64\",\"order\":\"little\",\"shape\":[25]},\"random_flip_mode\":[\"\\\"horizontal\\\"\",\"\\\"vertical\\\"\",\"\\\"vertical\\\"\",\"\\\"horizontal\\\"\",\"\\\"horizontal_and_vertical\\\"\",\"\\\"horizontal_and_vertical\\\"\",\"\\\"horizontal_and_vertical\\\"\",\"\\\"vertical\\\"\",\"\\\"horizontal\\\"\",\"\\\"horizontal_and_vertical\\\"\",\"\\\"horizontal\\\"\",\"\\\"horizontal\\\"\",\"\\\"vertical\\\"\",\"\\\"horizontal_and_vertical\\\"\",\"\\\"vertical\\\"\",\"\\\"vertical\\\"\",\"\\\"horizontal\\\"\",\"\\\"vertical\\\"\",\"\\\"vertical\\\"\",\"\\\"horizontal\\\"\",\"\\\"horizontal_and_vertical\\\"\",\"\\\"horizontal\\\"\",\"\\\"vertical\\\"\",\"\\\"vertical\\\"\",\"\\\"vertical\\\"\"],\"random_rotation_factor\":{\"__ndarray__\":\"AAAAAAAA4D+amZmZmZm5P5qZmZmZmbk/SrN2sV7D2T+LcLr7rWTRP5qZmZmZmbk/soBPssaE0D+sdGqr2uveP0Am+BfhAM0/AAAAAAAA4D+Oqw1DF4XfP2ZZHVBhwNA/f5BqyFRcwT/0QKwSSxjVP7Sz2jRp5ts/ZFKcp7DO1T8+R9dI5ojUPwAAAAAAAOA/Njvx8P/CzD9NWStGmG7QPyKRa1afAtE/UgIduDkW2T/GxjqoB0LZP7CbGDdRFtk/WDR74YcO1D8=\",\"dtype\":\"float64\",\"order\":\"little\",\"shape\":[25]},\"random_zoom_factor\":{\"__ndarray__\":\"Tm01yBw20j9Oyjls5KjePwjV23IINc4/EjvwCoH23D80ndkQqCzIP5EMoVFM7c8//hUsBhAu1T/EHWxf2O/TP9ZwvtIout4/mpmZmZmZuT/RDeoqOSfQPxoDeFxCjd4/yjxlRGyq3T8X1KOZNvfRPzJaleVV3tI/WLkIRA1o2j+amZmZmZm5P6YoilZMntc/rjwQpr1e1j+/qiacCN3DP1/Fg+Z3VMg/wAsw6GX53z/45KIryiDdP4gM2kmXUd8/bBNY+A6f2z8=\",\"dtype\":\"float64\",\"order\":\"little\",\"shape\":[25]}},\"selected\":{\"id\":\"1054\"},\"selection_policy\":{\"id\":\"1053\"}},\"id\":\"1037\",\"type\":\"ColumnDataSource\"},{\"attributes\":{\"axis_label\":\"Trial\",\"coordinates\":null,\"formatter\":{\"id\":\"1051\"},\"group\":null,\"major_label_policy\":{\"id\":\"1052\"},\"ticker\":{\"id\":\"1014\"}},\"id\":\"1013\",\"type\":\"DatetimeAxis\"},{\"attributes\":{},\"id\":\"1007\",\"type\":\"DataRange1d\"},{\"attributes\":{\"months\":[0,2,4,6,8,10]},\"id\":\"1063\",\"type\":\"MonthsTicker\"},{\"attributes\":{\"months\":[0,4,8]},\"id\":\"1064\",\"type\":\"MonthsTicker\"},{\"attributes\":{\"days\":[1,4,7,10,13,16,19,22,25,28]},\"id\":\"1059\",\"type\":\"DaysTicker\"},{\"attributes\":{},\"id\":\"1021\",\"type\":\"PanTool\"},{\"attributes\":{\"days\":[1,2,3,4,5,6,7,8,9,10,11,12,13,14,15,16,17,18,19,20,21,22,23,24,25,26,27,28,29,30,31]},\"id\":\"1058\",\"type\":\"DaysTicker\"},{\"attributes\":{\"days\":[1,15]},\"id\":\"1061\",\"type\":\"DaysTicker\"},{\"attributes\":{\"axis\":{\"id\":\"1017\"},\"coordinates\":null,\"dimension\":1,\"group\":null,\"ticker\":null},\"id\":\"1020\",\"type\":\"Grid\"},{\"attributes\":{\"months\":[0,1,2,3,4,5,6,7,8,9,10,11]},\"id\":\"1062\",\"type\":\"MonthsTicker\"},{\"attributes\":{\"months\":[0,6]},\"id\":\"1065\",\"type\":\"MonthsTicker\"},{\"attributes\":{},\"id\":\"1066\",\"type\":\"YearsTicker\"},{\"attributes\":{\"source\":{\"id\":\"1037\"}},\"id\":\"1043\",\"type\":\"CDSView\"},{\"attributes\":{},\"id\":\"1054\",\"type\":\"Selection\"},{\"attributes\":{\"days\":[1,8,15,22]},\"id\":\"1060\",\"type\":\"DaysTicker\"},{\"attributes\":{\"coordinates\":null,\"data_source\":{\"id\":\"1037\"},\"glyph\":{\"id\":\"1039\"},\"group\":null,\"hover_glyph\":null,\"muted_glyph\":{\"id\":\"1041\"},\"nonselection_glyph\":{\"id\":\"1040\"},\"view\":{\"id\":\"1043\"}},\"id\":\"1042\",\"type\":\"GlyphRenderer\"},{\"attributes\":{\"fill_alpha\":{\"value\":0.2},\"fill_color\":{\"value\":\"#1f77b4\"},\"hatch_alpha\":{\"value\":0.2},\"line_alpha\":{\"value\":0.2},\"line_color\":{\"value\":\"#1f77b4\"},\"x\":{\"field\":\"TrainingStartTime\"},\"y\":{\"field\":\"FinalObjectiveValue\"}},\"id\":\"1041\",\"type\":\"Circle\"},{\"attributes\":{\"base\":24,\"mantissas\":[1,2,4,6,8,12],\"max_interval\":43200000.0,\"min_interval\":3600000.0,\"num_minor_ticks\":0},\"id\":\"1057\",\"type\":\"AdaptiveTicker\"},{\"attributes\":{},\"id\":\"1053\",\"type\":\"UnionRenderers\"},{\"attributes\":{},\"id\":\"1048\",\"type\":\"BasicTickFormatter\"},{\"attributes\":{},\"id\":\"1005\",\"type\":\"DataRange1d\"},{\"attributes\":{\"axis_label\":\"Accuracy\",\"coordinates\":null,\"formatter\":{\"id\":\"1048\"},\"group\":null,\"major_label_policy\":{\"id\":\"1049\"},\"ticker\":{\"id\":\"1018\"}},\"id\":\"1017\",\"type\":\"LinearAxis\"},{\"attributes\":{},\"id\":\"1049\",\"type\":\"AllLabels\"},{\"attributes\":{\"base\":60,\"mantissas\":[1,2,5,10,15,20,30],\"max_interval\":1800000.0,\"min_interval\":1000.0,\"num_minor_ticks\":0},\"id\":\"1056\",\"type\":\"AdaptiveTicker\"},{\"attributes\":{},\"id\":\"1022\",\"type\":\"CrosshairTool\"},{\"attributes\":{\"mantissas\":[1,2,5],\"max_interval\":500.0,\"num_minor_ticks\":0},\"id\":\"1055\",\"type\":\"AdaptiveTicker\"},{\"attributes\":{},\"id\":\"1024\",\"type\":\"ZoomInTool\"},{\"attributes\":{\"axis\":{\"id\":\"1013\"},\"coordinates\":null,\"group\":null,\"ticker\":null},\"id\":\"1016\",\"type\":\"Grid\"},{\"attributes\":{\"num_minor_ticks\":5,\"tickers\":[{\"id\":\"1055\"},{\"id\":\"1056\"},{\"id\":\"1057\"},{\"id\":\"1058\"},{\"id\":\"1059\"},{\"id\":\"1060\"},{\"id\":\"1061\"},{\"id\":\"1062\"},{\"id\":\"1063\"},{\"id\":\"1064\"},{\"id\":\"1065\"},{\"id\":\"1066\"}]},\"id\":\"1014\",\"type\":\"DatetimeTicker\"},{\"attributes\":{\"tools\":[{\"id\":\"1003\"},{\"id\":\"1021\"},{\"id\":\"1022\"},{\"id\":\"1023\"},{\"id\":\"1024\"},{\"id\":\"1025\"},{\"id\":\"1026\"},{\"id\":\"1027\"}]},\"id\":\"1028\",\"type\":\"Toolbar\"},{\"attributes\":{\"fill_alpha\":{\"value\":0.1},\"fill_color\":{\"value\":\"#1f77b4\"},\"hatch_alpha\":{\"value\":0.1},\"line_alpha\":{\"value\":0.1},\"line_color\":{\"value\":\"#1f77b4\"},\"x\":{\"field\":\"TrainingStartTime\"},\"y\":{\"field\":\"FinalObjectiveValue\"}},\"id\":\"1040\",\"type\":\"Circle\"},{\"attributes\":{},\"id\":\"1027\",\"type\":\"ResetTool\"},{\"attributes\":{},\"id\":\"1052\",\"type\":\"AllLabels\"},{\"attributes\":{},\"id\":\"1026\",\"type\":\"UndoTool\"},{\"attributes\":{},\"id\":\"1025\",\"type\":\"ZoomOutTool\"},{\"attributes\":{},\"id\":\"1023\",\"type\":\"WheelZoomTool\"},{\"attributes\":{},\"id\":\"1051\",\"type\":\"DatetimeTickFormatter\"},{\"attributes\":{\"callback\":null,\"tooltips\":[[\"FinalObjectiveValue\",\"@FinalObjectiveValue\"],[\"TrainingJobName\",\"@TrainingJobName\"],[\"epochs\",\"@{epochs}\"],[\"random_contrast_factor\",\"@{random_contrast_factor}\"],[\"random_rotation_factor\",\"@{random_rotation_factor}\"],[\"random_zoom_factor\",\"@{random_zoom_factor}\"],[\"dense_weight_decay\",\"@{dense_weight_decay}\"],[\"dropout_rate\",\"@{dropout_rate}\"],[\"learning_rate\",\"@{learning_rate}\"],[\"clipnorm\",\"@{clipnorm}\"],[\"random_flip_mode\",\"@{random_flip_mode}\"],[\"dense_units\",\"@{dense_units}\"],[\"batch_size\",\"@{batch_size}\"]]},\"id\":\"1003\",\"type\":\"HoverTool\"},{\"attributes\":{},\"id\":\"1018\",\"type\":\"BasicTicker\"},{\"attributes\":{\"fill_color\":{\"value\":\"#1f77b4\"},\"line_color\":{\"value\":\"#1f77b4\"},\"x\":{\"field\":\"TrainingStartTime\"},\"y\":{\"field\":\"FinalObjectiveValue\"}},\"id\":\"1039\",\"type\":\"Circle\"},{\"attributes\":{\"coordinates\":null,\"group\":null,\"text\":\"HPO Results\"},\"id\":\"1044\",\"type\":\"Title\"}],\"root_ids\":[\"1004\"]},\"title\":\"Bokeh Application\",\"version\":\"2.4.3\"}};\n  const render_items = [{\"docid\":\"6315cd96-f392-4a6f-ab6b-589bca627fae\",\"root_ids\":[\"1004\"],\"roots\":{\"1004\":\"34507b9b-11cd-46fa-b962-a981238e75e8\"}}];\n  root.Bokeh.embed.embed_items_notebook(docs_json, render_items);\n  }\n  if (root.Bokeh !== undefined) {\n    embed_document(root);\n  } else {\n    let attempts = 0;\n    const timer = setInterval(function(root) {\n      if (root.Bokeh !== undefined) {\n        clearInterval(timer);\n        embed_document(root);\n      } else {\n        attempts++;\n        if (attempts > 100) {\n          clearInterval(timer);\n          console.log(\"Bokeh: ERROR: Unable to run BokehJS code because BokehJS library is missing\");\n        }\n      }\n    }, 10, root)\n  }\n})(window);",
      "application/vnd.bokehjs_exec.v0+json": ""
     },
     "metadata": {
      "application/vnd.bokehjs_exec.v0+json": {
       "id": "1004"
      }
     },
     "output_type": "display_data"
    }
   ],
   "source": [
    "hover = HoverHelper(hpo_analytics)\n",
    "\n",
    "p = figure(plot_width=900, plot_height=400, tools=hover.tools(), x_axis_type=\"datetime\")\n",
    "p.circle(source=hpo_results, x=\"TrainingStartTime\", y=\"FinalObjectiveValue\")\n",
    "p.xaxis.axis_label = \"Trial\"\n",
    "p.yaxis.axis_label = \"Accuracy\"\n",
    "p.title = \"HPO Results\"\n",
    "show(p);"
   ]
  },
  {
   "cell_type": "markdown",
   "id": "358c8a0d-a785-4a90-9831-a31eb077746b",
   "metadata": {},
   "source": [
    "## Deploy Best Model"
   ]
  },
  {
   "cell_type": "code",
   "execution_count": 19,
   "id": "d20ed41f-f2ff-465a-ba73-89ccef941ddd",
   "metadata": {
    "tags": []
   },
   "outputs": [
    {
     "name": "stdout",
     "output_type": "stream",
     "text": [
      "Best model artifacts persisted at s3://sagemaker-us-east-1-722696965592/fine-tune-hpo-job-20-230512-2030-020-6f6654bb/output/model.tar.gz\n"
     ]
    }
   ],
   "source": [
    "# Obtain the name of best training job\n",
    "best_model_name = sm_boto3.describe_hyper_parameter_tuning_job(\n",
    "    HyperParameterTuningJobName=hpo_tuner.latest_tuning_job.name\n",
    ")[\"BestTrainingJob\"][\"TrainingJobName\"]\n",
    "\n",
    "# Obtain s3 path to model artifacts\n",
    "best_model_s3_path = sm_boto3.describe_training_job(TrainingJobName=best_model_name)[\n",
    "    \"ModelArtifacts\"\n",
    "][\"S3ModelArtifacts\"]\n",
    "\n",
    "print(f\"Best model artifacts persisted at {best_model_s3_path}\")"
   ]
  },
  {
   "cell_type": "code",
   "execution_count": null,
   "id": "c59f1471-1814-4538-98d0-62460010cfbf",
   "metadata": {
    "tags": []
   },
   "outputs": [
    {
     "name": "stderr",
     "output_type": "stream",
     "text": [
      "update_endpoint is a no-op in sagemaker>=2.\n",
      "See: https://sagemaker.readthedocs.io/en/stable/v2.html for details.\n"
     ]
    },
    {
     "name": "stdout",
     "output_type": "stream",
     "text": [
      "---!"
     ]
    }
   ],
   "source": [
    "best_model = TensorFlowModel(\n",
    "    model_data=best_model_s3_path, role=role, framework_version=FRAMEWORK_VERSION\n",
    ")\n",
    "\n",
    "predictor = best_model.deploy(\n",
    "    initial_instance_count=1,\n",
    "    instance_type=\"ml.c5.4xlarge\",\n",
    "    endpoint_name=endpoint_name + \"-v1\",\n",
    "    container_startup_health_check_timeout=5 * 60,\n",
    ")"
   ]
  },
  {
   "cell_type": "markdown",
   "id": "07e1fd97-8199-49c3-bc29-f120151b26ee",
   "metadata": {},
   "source": [
    "## Inference on Test Set"
   ]
  },
  {
   "cell_type": "code",
   "execution_count": 21,
   "id": "1605d12e-bde2-4165-8ba4-a984039ba348",
   "metadata": {
    "tags": []
   },
   "outputs": [
    {
     "data": {
      "text/plain": [
       "((172, 256, 256, 3), (172,))"
      ]
     },
     "execution_count": 21,
     "metadata": {},
     "output_type": "execute_result"
    }
   ],
   "source": [
    "# Load test data\n",
    "X_test = np.load(\n",
    "    io.BytesIO(\n",
    "        s3.get_object(Bucket=s3_bucket, Key=f\"{s3_key}/input-data/test/X_test.npy\")[\n",
    "            \"Body\"\n",
    "        ].read()\n",
    "    )\n",
    ")\n",
    "y_test = np.load(\n",
    "    io.BytesIO(\n",
    "        s3.get_object(Bucket=s3_bucket, Key=f\"{s3_key}/input-data/test/y_test.npy\")[\n",
    "            \"Body\"\n",
    "        ].read()\n",
    "    )\n",
    ")\n",
    "\n",
    "X_test.shape, y_test.shape"
   ]
  },
  {
   "cell_type": "markdown",
   "id": "7e763a35-b058-449f-bb96-8c5183c1bc7d",
   "metadata": {},
   "source": [
    "Make predictions in batches:"
   ]
  },
  {
   "cell_type": "code",
   "execution_count": 22,
   "id": "a33ecf7d-fdd7-44b5-b18c-f017b7885a39",
   "metadata": {
    "tags": []
   },
   "outputs": [
    {
     "name": "stderr",
     "output_type": "stream",
     "text": [
      "100%|██████████| 35/35 [01:01<00:00,  1.77s/it]\n"
     ]
    },
    {
     "data": {
      "text/plain": [
       "array([0, 0, 0, 0, 0, 0, 0, 0, 0, 0, 0, 0, 0, 0, 0, 0, 0, 0, 0, 0, 0, 0,\n",
       "       0, 0, 0, 0, 0, 0, 0, 0, 0, 0, 0, 0, 0, 0, 0, 0, 0, 0, 0, 0, 0, 0,\n",
       "       0, 1, 1, 1, 1, 1, 1, 1, 1, 1, 1, 1, 1, 1, 1, 1, 1, 1, 1, 1, 1, 1,\n",
       "       1, 1, 1, 1, 1, 0, 1, 1, 1, 1, 1, 1, 2, 2, 2, 2, 3, 2, 2, 0, 2, 2,\n",
       "       2, 2, 2, 2, 2, 2, 2, 2, 2, 2, 2, 0, 2, 2, 0, 2, 2, 2, 2, 2, 2, 2,\n",
       "       2, 2, 2, 2, 2, 2, 2, 3, 3, 3, 3, 3, 3, 3, 3, 3, 3, 3, 3, 3, 3, 3,\n",
       "       3, 3, 3, 3, 3, 3, 3, 3, 3, 3, 3, 3, 3, 3, 3, 3, 3, 3, 3, 3, 3, 3,\n",
       "       3, 3, 3, 3, 3, 3, 3, 3, 3, 3, 3, 3, 3, 3, 3, 3, 3, 3])"
      ]
     },
     "execution_count": 22,
     "metadata": {},
     "output_type": "execute_result"
    }
   ],
   "source": [
    "# Define the batch size\n",
    "batch_size = 5\n",
    "\n",
    "# Generate predictions in batches\n",
    "num_instances = X_test.shape[0]\n",
    "num_batches = (num_instances + batch_size - 1) // batch_size\n",
    "\n",
    "predicted_labels = []\n",
    "for i in tqdm(range(num_batches)):\n",
    "    start_idx = i * batch_size\n",
    "    end_idx = min(start_idx + batch_size, num_instances)\n",
    "    batch = X_test[start_idx:end_idx]\n",
    "\n",
    "    # Call the predict method of the TensorFlowPredictor object\n",
    "    predictions = predictor.predict(batch)\n",
    "\n",
    "    # Extract the predicted labels from the response\n",
    "    predicted_labels_batch = np.argmax(\n",
    "        predictions[\"predictions\"], axis=1\n",
    "    )  # Use axis=1 to find max probability across 4 columns (classes)\n",
    "\n",
    "    # Append the predicted labels to the list\n",
    "    predicted_labels.append(predicted_labels_batch)\n",
    "\n",
    "# Concatenate the predicted labels from all batches\n",
    "predicted_labels = np.concatenate(predicted_labels, axis=0)\n",
    "\n",
    "predicted_labels"
   ]
  },
  {
   "cell_type": "code",
   "execution_count": 23,
   "id": "ebee29c9-04e8-4044-ab14-2e2120e3f395",
   "metadata": {
    "tags": []
   },
   "outputs": [
    {
     "name": "stdout",
     "output_type": "stream",
     "text": [
      "Accuracy score on test set: 0.9709302325581395\n"
     ]
    }
   ],
   "source": [
    "print(\n",
    "    \"Accuracy score on test set:\",\n",
    "    accuracy_score(y_true=y_test, y_pred=predicted_labels),\n",
    ")"
   ]
  },
  {
   "cell_type": "markdown",
   "id": "3116e610-d23c-4bd8-ba01-c269e43cd95e",
   "metadata": {},
   "source": [
    "## Clean up"
   ]
  },
  {
   "cell_type": "code",
   "execution_count": 24,
   "id": "93722268-41ba-4cd7-b89c-b0d2210e027e",
   "metadata": {
    "tags": []
   },
   "outputs": [
    {
     "data": {
      "text/plain": [
       "{'ResponseMetadata': {'RequestId': '7a093c1c-d1da-4151-861d-20dcba7db8b9',\n",
       "  'HTTPStatusCode': 200,\n",
       "  'HTTPHeaders': {'x-amzn-requestid': '7a093c1c-d1da-4151-861d-20dcba7db8b9',\n",
       "   'content-type': 'application/x-amz-json-1.1',\n",
       "   'content-length': '0',\n",
       "   'date': 'Fri, 12 May 2023 21:30:49 GMT'},\n",
       "  'RetryAttempts': 0}}"
      ]
     },
     "execution_count": 24,
     "metadata": {},
     "output_type": "execute_result"
    }
   ],
   "source": [
    "sm_boto3.delete_endpoint(EndpointName=predictor.endpoint_name)\n",
    "sm_boto3.delete_endpoint_config(EndpointConfigName=predictor.endpoint_name)\n",
    "sm_boto3.delete_model(ModelName=best_model.name)"
   ]
  },
  {
   "cell_type": "code",
   "execution_count": 25,
   "id": "0f96b91a-ccbd-4008-958b-1cb36191d3e2",
   "metadata": {
    "tags": []
   },
   "outputs": [],
   "source": [
    "sm_boto3.close()"
   ]
  }
 ],
 "metadata": {
  "kernelspec": {
   "display_name": "conda_tensorflow2_p310",
   "language": "python",
   "name": "conda_tensorflow2_p310"
  },
  "language_info": {
   "codemirror_mode": {
    "name": "ipython",
    "version": 3
   },
   "file_extension": ".py",
   "mimetype": "text/x-python",
   "name": "python",
   "nbconvert_exporter": "python",
   "pygments_lexer": "ipython3",
   "version": "3.10.8"
  }
 },
 "nbformat": 4,
 "nbformat_minor": 5
}
