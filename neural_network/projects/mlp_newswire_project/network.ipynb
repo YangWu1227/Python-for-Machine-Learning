{
 "cells": [
  {
   "cell_type": "code",
   "execution_count": 88,
   "metadata": {},
   "outputs": [],
   "source": [
    "# Interactive shell\n",
    "from IPython.core.interactiveshell import InteractiveShell\n",
    "\n",
    "InteractiveShell.ast_node_interactivity = \"all\"\n",
    "\n",
    "# Data wrangling and standard library\n",
    "import copy\n",
    "\n",
    "import matplotlib.pyplot as plt\n",
    "import numpy as np\n",
    "\n",
    "# Machine learning\n",
    "from keras import Input\n",
    "from tensorflow.keras.layers import Dense\n",
    "from tensorflow.keras.losses import CategoricalCrossentropy\n",
    "from tensorflow.keras.models import Sequential\n",
    "from tensorflow.keras.optimizers import Adam, RMSprop\n",
    "from tensorflow.nn import softmax"
   ]
  },
  {
   "cell_type": "code",
   "execution_count": 4,
   "metadata": {},
   "outputs": [],
   "source": [
    "# Keras gets its randomness from numpy rng\n",
    "from numpy.random import seed\n",
    "\n",
    "seed(1227)\n",
    "# Set the global random seed\n",
    "from tensorflow.random import set_seed\n",
    "\n",
    "set_seed(1227)"
   ]
  },
  {
   "attachments": {},
   "cell_type": "markdown",
   "metadata": {},
   "source": [
    "## Helper Functions"
   ]
  },
  {
   "cell_type": "code",
   "execution_count": 68,
   "metadata": {},
   "outputs": [],
   "source": [
    "def eval_plots(history):\n",
    "    \"\"\"Plot the loss and accuracy of the model\"\"\"\n",
    "    # Plot the loss\n",
    "    plt.figure(figsize=(8, 5))\n",
    "    plt.plot(history.history[\"loss\"], \"bo\", label=\"Training Loss\")\n",
    "    plt.plot(history.history[\"val_loss\"], \"b\", label=\"Validation Loss\")\n",
    "    plt.title(\"Loss\")\n",
    "    plt.xlabel(\"Epoch\")\n",
    "    plt.ylabel(\"Loss\")\n",
    "    plt.legend()\n",
    "    plt.show()\n",
    "\n",
    "    # Plot the accuracy\n",
    "    plt.figure(figsize=(8, 5))\n",
    "    plt.plot(history.history[\"accuracy\"], \"bo\", label=\"Training Accuracy\")\n",
    "    plt.plot(history.history[\"val_accuracy\"], \"b\", label=\"Validation Accuracy\")\n",
    "    plt.title(\"Accuracy\")\n",
    "    plt.xlabel(\"Epoch\")\n",
    "    plt.ylabel(\"Accuracy\")\n",
    "    plt.ylim(ymin=0, ymax=1)\n",
    "    plt.legend()\n",
    "    plt.show()"
   ]
  },
  {
   "attachments": {},
   "cell_type": "markdown",
   "metadata": {},
   "source": [
    "## Load Training Data"
   ]
  },
  {
   "cell_type": "code",
   "execution_count": 4,
   "metadata": {},
   "outputs": [],
   "source": [
    "with open(\"data/processed_data.npy\", \"rb\") as f:\n",
    "    train_X = np.load(f, allow_pickle=True)\n",
    "    train_y = np.load(f, allow_pickle=True)\n",
    "    test_X = np.load(f, allow_pickle=True)\n",
    "    test_y = np.load(f, allow_pickle=True)"
   ]
  },
  {
   "cell_type": "code",
   "execution_count": 9,
   "metadata": {},
   "outputs": [
    {
     "data": {
      "text/plain": [
       "((8982, 10000), (8982, 46))"
      ]
     },
     "execution_count": 9,
     "metadata": {},
     "output_type": "execute_result"
    }
   ],
   "source": [
    "train_X.shape, train_y.shape"
   ]
  },
  {
   "cell_type": "code",
   "execution_count": 10,
   "metadata": {},
   "outputs": [
    {
     "data": {
      "text/plain": [
       "((2246, 10000), (2246, 46))"
      ]
     },
     "execution_count": 10,
     "metadata": {},
     "output_type": "execute_result"
    }
   ],
   "source": [
    "test_X.shape, test_y.shape"
   ]
  },
  {
   "cell_type": "code",
   "execution_count": 11,
   "metadata": {},
   "outputs": [
    {
     "data": {
      "text/plain": [
       "(array([[0., 1., 1., ..., 0., 0., 0.],\n",
       "        [0., 1., 1., ..., 0., 0., 0.],\n",
       "        [0., 1., 0., ..., 0., 0., 0.],\n",
       "        ...,\n",
       "        [0., 1., 1., ..., 0., 0., 0.],\n",
       "        [0., 1., 0., ..., 0., 0., 0.],\n",
       "        [0., 1., 0., ..., 0., 0., 0.]]),\n",
       " array([[0., 0., 0., ..., 0., 0., 0.],\n",
       "        [0., 0., 0., ..., 0., 0., 0.],\n",
       "        [0., 0., 0., ..., 0., 0., 0.],\n",
       "        ...,\n",
       "        [0., 0., 0., ..., 0., 0., 0.],\n",
       "        [0., 0., 0., ..., 0., 0., 0.],\n",
       "        [0., 1., 0., ..., 0., 0., 0.]], dtype=float32))"
      ]
     },
     "execution_count": 11,
     "metadata": {},
     "output_type": "execute_result"
    }
   ],
   "source": [
    "train_X, train_y"
   ]
  },
  {
   "cell_type": "code",
   "execution_count": 12,
   "metadata": {},
   "outputs": [
    {
     "data": {
      "text/plain": [
       "(array([[0., 1., 0., ..., 0., 0., 0.],\n",
       "        [0., 1., 1., ..., 0., 0., 0.],\n",
       "        [0., 1., 0., ..., 0., 0., 0.],\n",
       "        ...,\n",
       "        [0., 1., 0., ..., 0., 0., 0.],\n",
       "        [0., 1., 1., ..., 0., 0., 0.],\n",
       "        [0., 1., 1., ..., 0., 0., 0.]]),\n",
       " array([[0., 0., 0., ..., 0., 0., 0.],\n",
       "        [0., 0., 0., ..., 0., 0., 0.],\n",
       "        [0., 0., 0., ..., 0., 0., 0.],\n",
       "        ...,\n",
       "        [0., 0., 0., ..., 0., 0., 0.],\n",
       "        [0., 0., 0., ..., 0., 0., 0.],\n",
       "        [0., 0., 0., ..., 0., 0., 0.]], dtype=float32))"
      ]
     },
     "execution_count": 12,
     "metadata": {},
     "output_type": "execute_result"
    }
   ],
   "source": [
    "test_X, test_y"
   ]
  },
  {
   "attachments": {},
   "cell_type": "markdown",
   "metadata": {},
   "source": [
    "## Network Architecture\n",
    "\n",
    "### Layers\n",
    "\n",
    "In a stack of Dense layers, each layer can only access information present in the output of the previous layer. If one layer drops some information relevant to the classification problem, then this information can never be recovered by later layers; in other words, each layer can potentially become an information bottleneck. For this reason, we will use two 64-dimensional 'reLu' hidden layers to learn to separate 46 different classes. "
   ]
  },
  {
   "cell_type": "code",
   "execution_count": 18,
   "metadata": {},
   "outputs": [],
   "source": [
    "baseline_model = Sequential(\n",
    "    [\n",
    "        Input(shape=(10000,)),  # Expected shape of the input\n",
    "        Dense(units=64, activation=\"relu\", name=\"layer1\"),\n",
    "        Dense(units=64, activation=\"relu\", name=\"layer2\"),\n",
    "        Dense(\n",
    "            units=46, activation=\"linear\", name=\"output_layer\"\n",
    "        ),  # Use linear activation for numerical stability\n",
    "    ],\n",
    "    name=\"newswire_baseline_model\",\n",
    ")"
   ]
  },
  {
   "cell_type": "code",
   "execution_count": 19,
   "metadata": {},
   "outputs": [
    {
     "name": "stdout",
     "output_type": "stream",
     "text": [
      "Model: \"newswire_baseline_model\"\n",
      "_________________________________________________________________\n",
      " Layer (type)                Output Shape              Param #   \n",
      "=================================================================\n",
      " layer1 (Dense)              (None, 64)                640064    \n",
      "                                                                 \n",
      " layer2 (Dense)              (None, 64)                4160      \n",
      "                                                                 \n",
      " output_layer (Dense)        (None, 46)                2990      \n",
      "                                                                 \n",
      "=================================================================\n",
      "Total params: 647,214\n",
      "Trainable params: 647,214\n",
      "Non-trainable params: 0\n",
      "_________________________________________________________________\n"
     ]
    }
   ],
   "source": [
    "baseline_model.summary()"
   ]
  },
  {
   "cell_type": "code",
   "execution_count": 23,
   "metadata": {},
   "outputs": [
    {
     "name": "stdout",
     "output_type": "stream",
     "text": [
      "L1 params =  640064 , L2 params =  4160 , output params =  2990\n"
     ]
    }
   ],
   "source": [
    "L1_num_params = (\n",
    "    (10000 * 64) + 64\n",
    ")  # W1 parameters (64 units times 10000 input features)  + b1 parameters (64 neurons or units)\n",
    "L2_num_params = (\n",
    "    (64 * 64) + 64\n",
    ")  # W2 parameters (64 units times 1 activation vector a1 outputted by layer 1) + b2 parameters (64 neuron or units)\n",
    "output_num_params = (\n",
    "    (64 * 46) + 46\n",
    ")  # W3 parameters (46 units times 1 activation vector a2 outputted by layer 2) + b3 parameters (46 neurons or units)\n",
    "print(\n",
    "    \"L1 params = \",\n",
    "    L1_num_params,\n",
    "    \", L2 params = \",\n",
    "    L2_num_params,\n",
    "    \", output params = \",\n",
    "    output_num_params,\n",
    ")"
   ]
  },
  {
   "attachments": {},
   "cell_type": "markdown",
   "metadata": {},
   "source": [
    "* For each input training example (a row of the data matrix `train_X`), the multilayer perceptron would output a 46-dimensional vector, of which each element represents a topic class from 0 to 45.\n",
    "\n",
    "* Because we used the linear activation function as the output layer, the outputs would not be probabilities, but logit values that range from large negative numbers to large positive numbers. The output must be sent through a softmax function when performing a prediction that expects a probability.  \n"
   ]
  },
  {
   "cell_type": "code",
   "execution_count": 29,
   "metadata": {},
   "outputs": [
    {
     "name": "stdout",
     "output_type": "stream",
     "text": [
      "W1 shape = (10000, 64), b1 shape = (64,)\n",
      "W2 shape = (64, 64), b2 shape = (64,)\n",
      "W3 shape = (64, 46), b3 shape = (46,)\n"
     ]
    }
   ],
   "source": [
    "[layer1, layer2, layer3] = baseline_model.layers\n",
    "# Example the shapes of the parameters\n",
    "W1, b1 = layer1.get_weights()\n",
    "W2, b2 = layer2.get_weights()\n",
    "W3, b3 = layer3.get_weights()\n",
    "print(f\"W1 shape = {W1.shape}, b1 shape = {b1.shape}\")\n",
    "print(f\"W2 shape = {W2.shape}, b2 shape = {b2.shape}\")\n",
    "print(f\"W3 shape = {W3.shape}, b3 shape = {b3.shape}\")"
   ]
  },
  {
   "attachments": {},
   "cell_type": "markdown",
   "metadata": {},
   "source": [
    "### Loss Function & Optimizer\n",
    "\n",
    "Because we used one-hot encoding (a matrix) rather than integer tensor (a tensor) for processing the labels, we need to use `categorical_crossentropy` rather than `sparse_categorical_entropy`.\n",
    "\n",
    "In addition, we will use the 'Adam' optimizers:"
   ]
  },
  {
   "cell_type": "code",
   "execution_count": 28,
   "metadata": {},
   "outputs": [],
   "source": [
    "baseline_model.compile(\n",
    "    optimizer=Adam(learning_rate=0.001),\n",
    "    loss=CategoricalCrossentropy(\n",
    "        from_logits=True\n",
    "    ),  # Use from_logits=True for numerical stability\n",
    "    metrics=[\"accuracy\"],\n",
    ")"
   ]
  },
  {
   "attachments": {},
   "cell_type": "markdown",
   "metadata": {},
   "source": [
    "## Validation Set\n",
    "\n",
    "We set apart 1,000 samples in the training data to use as validation set:"
   ]
  },
  {
   "cell_type": "code",
   "execution_count": 30,
   "metadata": {},
   "outputs": [],
   "source": [
    "validate_X = train_X[:1000]\n",
    "partial_train_X = train_X[1000:]\n",
    "\n",
    "validate_y = train_y[:1000]\n",
    "partial_train_y = train_y[1000:]"
   ]
  },
  {
   "cell_type": "code",
   "execution_count": 31,
   "metadata": {},
   "outputs": [
    {
     "data": {
      "text/plain": [
       "((1000, 10000), (7982, 10000))"
      ]
     },
     "execution_count": 31,
     "metadata": {},
     "output_type": "execute_result"
    }
   ],
   "source": [
    "validate_X.shape, partial_train_X.shape"
   ]
  },
  {
   "cell_type": "code",
   "execution_count": 32,
   "metadata": {},
   "outputs": [
    {
     "data": {
      "text/plain": [
       "((1000, 46), (7982, 46))"
      ]
     },
     "execution_count": 32,
     "metadata": {},
     "output_type": "execute_result"
    }
   ],
   "source": [
    "validate_y.shape, partial_train_y.shape"
   ]
  },
  {
   "attachments": {},
   "cell_type": "markdown",
   "metadata": {},
   "source": [
    "## Training Baseline Model\n",
    "\n",
    "For the baseline model, we wish to find a model that has some statistical power, even if it overfits, so we can prune it later. We will use a batch_size of 512 instead of 32, which is the Tensorflow default; in other words, it takes roughly $(7982 / 512)\\approx16$ iterations to complete one epoch, which is one single pass through of the entire training data. Finally, we will pass the entire training data through the network 25 times.  "
   ]
  },
  {
   "cell_type": "code",
   "execution_count": 35,
   "metadata": {},
   "outputs": [
    {
     "name": "stdout",
     "output_type": "stream",
     "text": [
      "Epoch 1/25\n",
      "16/16 [==============================] - 1s 30ms/step - loss: 0.0663 - accuracy: 0.9625 - val_loss: 1.0999 - val_accuracy: 0.8100\n",
      "Epoch 2/25\n",
      "16/16 [==============================] - 0s 17ms/step - loss: 0.0670 - accuracy: 0.9634 - val_loss: 1.1088 - val_accuracy: 0.8050\n",
      "Epoch 3/25\n",
      "16/16 [==============================] - 0s 16ms/step - loss: 0.0640 - accuracy: 0.9664 - val_loss: 1.1423 - val_accuracy: 0.8070\n",
      "Epoch 4/25\n",
      "16/16 [==============================] - 0s 16ms/step - loss: 0.0654 - accuracy: 0.9642 - val_loss: 1.1147 - val_accuracy: 0.8040\n",
      "Epoch 5/25\n",
      "16/16 [==============================] - 0s 16ms/step - loss: 0.0659 - accuracy: 0.9662 - val_loss: 1.1341 - val_accuracy: 0.8030\n",
      "Epoch 6/25\n",
      "16/16 [==============================] - 0s 21ms/step - loss: 0.0659 - accuracy: 0.9645 - val_loss: 1.1321 - val_accuracy: 0.7990\n",
      "Epoch 7/25\n",
      "16/16 [==============================] - 0s 20ms/step - loss: 0.0662 - accuracy: 0.9638 - val_loss: 1.0995 - val_accuracy: 0.8090\n",
      "Epoch 8/25\n",
      "16/16 [==============================] - 0s 19ms/step - loss: 0.0676 - accuracy: 0.9640 - val_loss: 1.1202 - val_accuracy: 0.8020\n",
      "Epoch 9/25\n",
      "16/16 [==============================] - 0s 18ms/step - loss: 0.0628 - accuracy: 0.9642 - val_loss: 1.1301 - val_accuracy: 0.8040\n",
      "Epoch 10/25\n",
      "16/16 [==============================] - 0s 17ms/step - loss: 0.0664 - accuracy: 0.9652 - val_loss: 1.1386 - val_accuracy: 0.7940\n",
      "Epoch 11/25\n",
      "16/16 [==============================] - 1s 33ms/step - loss: 0.0669 - accuracy: 0.9643 - val_loss: 1.1255 - val_accuracy: 0.8030\n",
      "Epoch 12/25\n",
      "16/16 [==============================] - 0s 21ms/step - loss: 0.0672 - accuracy: 0.9643 - val_loss: 1.1042 - val_accuracy: 0.8050\n",
      "Epoch 13/25\n",
      "16/16 [==============================] - 0s 17ms/step - loss: 0.0657 - accuracy: 0.9648 - val_loss: 1.1184 - val_accuracy: 0.8050\n",
      "Epoch 14/25\n",
      "16/16 [==============================] - 0s 18ms/step - loss: 0.0630 - accuracy: 0.9635 - val_loss: 1.1168 - val_accuracy: 0.7990\n",
      "Epoch 15/25\n",
      "16/16 [==============================] - 0s 18ms/step - loss: 0.0611 - accuracy: 0.9637 - val_loss: 1.1138 - val_accuracy: 0.8040\n",
      "Epoch 16/25\n",
      "16/16 [==============================] - 0s 17ms/step - loss: 0.0612 - accuracy: 0.9662 - val_loss: 1.1334 - val_accuracy: 0.8040\n",
      "Epoch 17/25\n",
      "16/16 [==============================] - 0s 22ms/step - loss: 0.0645 - accuracy: 0.9657 - val_loss: 1.1186 - val_accuracy: 0.8010\n",
      "Epoch 18/25\n",
      "16/16 [==============================] - 0s 27ms/step - loss: 0.0607 - accuracy: 0.9648 - val_loss: 1.1407 - val_accuracy: 0.7980\n",
      "Epoch 19/25\n",
      "16/16 [==============================] - 0s 21ms/step - loss: 0.0636 - accuracy: 0.9640 - val_loss: 1.1225 - val_accuracy: 0.8000\n",
      "Epoch 20/25\n",
      "16/16 [==============================] - 0s 22ms/step - loss: 0.0611 - accuracy: 0.9635 - val_loss: 1.1134 - val_accuracy: 0.8040\n",
      "Epoch 21/25\n",
      "16/16 [==============================] - 0s 26ms/step - loss: 0.0604 - accuracy: 0.9635 - val_loss: 1.1509 - val_accuracy: 0.8000\n",
      "Epoch 22/25\n",
      "16/16 [==============================] - 0s 22ms/step - loss: 0.0621 - accuracy: 0.9627 - val_loss: 1.1404 - val_accuracy: 0.8030\n",
      "Epoch 23/25\n",
      "16/16 [==============================] - 0s 25ms/step - loss: 0.0626 - accuracy: 0.9645 - val_loss: 1.1116 - val_accuracy: 0.8050\n",
      "Epoch 24/25\n",
      "16/16 [==============================] - 0s 20ms/step - loss: 0.0651 - accuracy: 0.9642 - val_loss: 1.1537 - val_accuracy: 0.8030\n",
      "Epoch 25/25\n",
      "16/16 [==============================] - 0s 24ms/step - loss: 0.0658 - accuracy: 0.9663 - val_loss: 1.1037 - val_accuracy: 0.8060\n"
     ]
    }
   ],
   "source": [
    "baseline_history = baseline_model.fit(\n",
    "    partial_train_X,\n",
    "    partial_train_y,\n",
    "    epochs=25,\n",
    "    batch_size=512,\n",
    "    validation_data=(validate_X, validate_y),\n",
    ")"
   ]
  },
  {
   "attachments": {},
   "cell_type": "markdown",
   "metadata": {},
   "source": [
    "### Saving Baseline Model Weights\n",
    "\n",
    "We can manually save the weights as follows:"
   ]
  },
  {
   "cell_type": "code",
   "execution_count": 36,
   "metadata": {},
   "outputs": [],
   "source": [
    "baseline_model.save_weights(\"model_output/baseline_model_weights.h5\")"
   ]
  },
  {
   "attachments": {},
   "cell_type": "markdown",
   "metadata": {},
   "source": [
    "The weights can be restored by creating a new sequential model and calling the `load_weights` method on the model instance:"
   ]
  },
  {
   "cell_type": "code",
   "execution_count": 45,
   "metadata": {},
   "outputs": [],
   "source": [
    "temp_model = Sequential(\n",
    "    [\n",
    "        Input(shape=(10000,)),  # Expected shape of the input\n",
    "        Dense(units=64, activation=\"relu\", name=\"layer1\"),\n",
    "        Dense(units=64, activation=\"relu\", name=\"layer2\"),\n",
    "        Dense(\n",
    "            units=46, activation=\"linear\", name=\"output_layer\"\n",
    "        ),  # Use linear activation for numerical stability\n",
    "    ],\n",
    "    name=\"temp_model\",\n",
    ")\n",
    "temp_model.compile(\n",
    "    optimizer=Adam(learning_rate=0.001),\n",
    "    loss=CategoricalCrossentropy(\n",
    "        from_logits=True\n",
    "    ),  # Use from_logits=True for numerical stability\n",
    "    metrics=[\"accuracy\"],\n",
    ")"
   ]
  },
  {
   "attachments": {},
   "cell_type": "markdown",
   "metadata": {},
   "source": [
    "Initially, the weights of the new model instance are randomly initialized and are not equal to the trained model:"
   ]
  },
  {
   "cell_type": "code",
   "execution_count": 51,
   "metadata": {},
   "outputs": [
    {
     "name": "stdout",
     "output_type": "stream",
     "text": [
      "False\n",
      "False\n",
      "False\n",
      "False\n",
      "False\n",
      "False\n"
     ]
    }
   ],
   "source": [
    "for temp_weight, baseline_weight in zip(\n",
    "    temp_model.get_weights(), baseline_model.get_weights()\n",
    "):\n",
    "    print(np.allclose(temp_weight, baseline_weight))"
   ]
  },
  {
   "attachments": {},
   "cell_type": "markdown",
   "metadata": {},
   "source": [
    "After restoring the weights, the weights should be the same:"
   ]
  },
  {
   "cell_type": "code",
   "execution_count": 52,
   "metadata": {},
   "outputs": [
    {
     "name": "stdout",
     "output_type": "stream",
     "text": [
      "True\n",
      "True\n",
      "True\n",
      "True\n",
      "True\n",
      "True\n"
     ]
    }
   ],
   "source": [
    "temp_model.load_weights(\"model_output/baseline_model_weights.h5\")\n",
    "for temp_weight, baseline_weight in zip(\n",
    "    temp_model.get_weights(), baseline_model.get_weights()\n",
    "):\n",
    "    print(np.allclose(temp_weight, baseline_weight))"
   ]
  },
  {
   "cell_type": "code",
   "execution_count": 53,
   "metadata": {},
   "outputs": [],
   "source": [
    "del temp_model"
   ]
  },
  {
   "attachments": {},
   "cell_type": "markdown",
   "metadata": {},
   "source": [
    "### Saving Baseline Model"
   ]
  },
  {
   "cell_type": "code",
   "execution_count": 55,
   "metadata": {},
   "outputs": [],
   "source": [
    "baseline_model.save(\"model_output/baseline_model.h5\")"
   ]
  },
  {
   "attachments": {},
   "cell_type": "markdown",
   "metadata": {},
   "source": [
    "## Plot Training & Validation Loss"
   ]
  },
  {
   "cell_type": "code",
   "execution_count": 69,
   "metadata": {},
   "outputs": [
    {
     "data": {
      "image/png": "[encoded data removed]",
      "text/plain": [
       "<Figure size 576x360 with 1 Axes>"
      ]
     },
     "metadata": {
      "needs_background": "light"
     },
     "output_type": "display_data"
    },
    {
     "data": {
      "image/png": "[encoded data removed]",
      "text/plain": [
       "<Figure size 576x360 with 1 Axes>"
      ]
     },
     "metadata": {
      "needs_background": "light"
     },
     "output_type": "display_data"
    }
   ],
   "source": [
    "eval_plots(baseline_history)"
   ]
  },
  {
   "attachments": {},
   "cell_type": "markdown",
   "metadata": {},
   "source": [
    "* Using the Adam optimizer leads to ~$80\\%$ validation accuracy starting from just 1 epoch and does not improve over more epochs. \n",
    "\n",
    "* Similarly, both training and validation losses do not decrease over more epochs and stay consistently flat."
   ]
  },
  {
   "attachments": {},
   "cell_type": "markdown",
   "metadata": {},
   "source": [
    "## Evaluation"
   ]
  },
  {
   "cell_type": "code",
   "execution_count": 70,
   "metadata": {},
   "outputs": [
    {
     "name": "stdout",
     "output_type": "stream",
     "text": [
      "71/71 [==============================] - 0s 2ms/step - loss: 1.2600 - accuracy: 0.7939\n"
     ]
    },
    {
     "data": {
      "text/plain": [
       "[1.2599513530731201, 0.7938557267189026]"
      ]
     },
     "execution_count": 70,
     "metadata": {},
     "output_type": "execute_result"
    }
   ],
   "source": [
    "results = baseline_model.evaluate(x=test_X, y=test_y)\n",
    "# Returns the loss value & metrics values\n",
    "results"
   ]
  },
  {
   "attachments": {},
   "cell_type": "markdown",
   "metadata": {},
   "source": [
    "For multiclass classification problems, the baseline accuracy to beat is the purely random classifier."
   ]
  },
  {
   "cell_type": "code",
   "execution_count": 77,
   "metadata": {},
   "outputs": [
    {
     "data": {
      "text/plain": [
       "44.39626001780944"
      ]
     },
     "execution_count": 77,
     "metadata": {},
     "output_type": "execute_result"
    }
   ],
   "source": [
    "# Make a shallow copy of the test labels\n",
    "test_y_copy = copy.copy(test_y)\n",
    "# Randomly shuffle the test labels, so this new order will serve as randomly predicted labels for the test data\n",
    "np.random.shuffle(test_y_copy)\n",
    "# Calculate the accuracy of a random classifier on the test data\n",
    "hits_array = np.array(test_y) == np.array(test_y_copy)\n",
    "float(np.sum(hits_array)) / len(test_y)"
   ]
  },
  {
   "attachments": {},
   "cell_type": "markdown",
   "metadata": {},
   "source": [
    "Just by random guesses, we get about $44\\%$ accuracy on the test set; the $79.39\\%$ accuracy comfortably beats this baseline classifier."
   ]
  },
  {
   "attachments": {},
   "cell_type": "markdown",
   "metadata": {},
   "source": [
    "## Predictions\n",
    "\n",
    "The predictions can be obtained as follows:"
   ]
  },
  {
   "cell_type": "code",
   "execution_count": 78,
   "metadata": {},
   "outputs": [
    {
     "name": "stdout",
     "output_type": "stream",
     "text": [
      "71/71 [==============================] - 0s 2ms/step\n"
     ]
    },
    {
     "data": {
      "text/plain": [
       "(2246, 46)"
      ]
     },
     "execution_count": 78,
     "metadata": {},
     "output_type": "execute_result"
    }
   ],
   "source": [
    "predictions = baseline_model.predict(x=test_X)\n",
    "predictions.shape"
   ]
  },
  {
   "attachments": {},
   "cell_type": "markdown",
   "metadata": {},
   "source": [
    "Each row of the 2246 by 46 matrix contains a vector of logits; each of the 46 elements of the vector of logits represent the value for each topic class:  "
   ]
  },
  {
   "cell_type": "code",
   "execution_count": 80,
   "metadata": {},
   "outputs": [
    {
     "data": {
      "text/plain": [
       "(array([ 7.678684  , -2.2660732 , -1.8776331 , -2.3332567 , -1.9095824 ,\n",
       "        -0.30281326, -0.16676554, -0.49531505, -0.3080081 , -1.038972  ,\n",
       "         2.0388968 , -6.1818933 , -5.32623   , -2.6588871 , -4.0528436 ,\n",
       "        -2.1009994 , -4.184793  , -1.945438  , -1.2769958 ,  0.23134932,\n",
       "        -1.1961191 , -7.276192  , -0.5317315 , -3.2842295 , -0.48287928,\n",
       "        -3.556288  , -0.2768845 , -1.0415691 , -1.0893279 , -0.80837846,\n",
       "        -5.820365  , -8.484936  ,  1.253658  , -0.59512395, -2.8274288 ,\n",
       "        -3.558198  , -1.688417  , -5.1534333 , -3.3189192 , -5.668709  ,\n",
       "        -3.1704473 , -3.9280987 , -2.298363  , -7.2508254 , -2.6753616 ,\n",
       "        -2.838736  ], dtype=float32),\n",
       " array([-3.0301769 , -2.6048262 , -4.6987348 ,  7.1878033 ,  2.1245205 ,\n",
       "        -6.4938645 , -4.3946104 , -3.5894535 ,  0.02900334, -0.8816834 ,\n",
       "        -2.4548125 ,  1.5040354 , -2.0291011 , -1.5224433 , -3.4866014 ,\n",
       "        -2.8003786 ,  0.09166485, -5.668612  , -4.5441294 ,  2.3932142 ,\n",
       "        -0.04904015, -2.031107  , -6.7876916 , -1.4877417 , -3.0491781 ,\n",
       "        -1.7774271 , -6.4233956 , -3.0856538 , -2.4053094 , -3.6156054 ,\n",
       "        -4.3835716 , -4.006812  , -9.327471  , -7.566569  , -3.1139188 ,\n",
       "        -3.8283503 , -0.7079646 , -1.9607159 , -2.1365356 , -5.9782047 ,\n",
       "        -4.864314  , -3.8609867 , -3.349184  , -4.823371  , -3.9616373 ,\n",
       "        -4.813215  ], dtype=float32))"
      ]
     },
     "execution_count": 80,
     "metadata": {},
     "output_type": "execute_result"
    }
   ],
   "source": [
    "predictions[0], predictions[2]"
   ]
  },
  {
   "cell_type": "code",
   "execution_count": 84,
   "metadata": {},
   "outputs": [
    {
     "data": {
      "text/plain": [
       "7.1878033"
      ]
     },
     "execution_count": 84,
     "metadata": {},
     "output_type": "execute_result"
    }
   ],
   "source": [
    "np.max(predictions[2])"
   ]
  },
  {
   "attachments": {},
   "cell_type": "markdown",
   "metadata": {},
   "source": [
    "If we simply wish to obtain the vector of predicted class integers:"
   ]
  },
  {
   "cell_type": "code",
   "execution_count": 87,
   "metadata": {},
   "outputs": [
    {
     "data": {
      "text/plain": [
       "(2246,)"
      ]
     },
     "execution_count": 87,
     "metadata": {},
     "output_type": "execute_result"
    },
    {
     "data": {
      "text/plain": [
       "array([0, 3, 3, ..., 3, 3, 1])"
      ]
     },
     "execution_count": 87,
     "metadata": {},
     "output_type": "execute_result"
    }
   ],
   "source": [
    "# Find max values across the 46 columns in each row\n",
    "predicted_topics = predictions.argmax(axis=1)\n",
    "# This is a 1D array of length 2246 predictions\n",
    "predicted_topics.shape\n",
    "predicted_topics"
   ]
  },
  {
   "attachments": {},
   "cell_type": "markdown",
   "metadata": {},
   "source": [
    "However, if we wish to obtain a matrix of vector of probabilities:"
   ]
  },
  {
   "cell_type": "code",
   "execution_count": 91,
   "metadata": {},
   "outputs": [
    {
     "data": {
      "text/plain": [
       "TensorShape([2246, 46])"
      ]
     },
     "execution_count": 91,
     "metadata": {},
     "output_type": "execute_result"
    }
   ],
   "source": [
    "predicted_probs = softmax(logits=predictions)\n",
    "predicted_probs.shape"
   ]
  },
  {
   "cell_type": "code",
   "execution_count": 94,
   "metadata": {},
   "outputs": [
    {
     "data": {
      "text/plain": [
       "(<tf.Tensor: shape=(46,), dtype=float32, numpy=\n",
       " array([9.9014622e-01, 4.7505739e-05, 7.0055699e-05, 4.4418986e-05,\n",
       "        6.7852860e-05, 3.3836006e-04, 3.8767137e-04, 2.7911086e-04,\n",
       "        3.3660681e-04, 1.6205759e-04, 3.5186063e-03, 9.4651381e-07,\n",
       "        2.2270851e-06, 3.2073713e-05, 7.9572274e-06, 5.6032051e-05,\n",
       "        6.9735906e-06, 6.5463020e-05, 1.2773120e-04, 5.7724869e-04,\n",
       "        1.3849087e-04, 3.1686864e-07, 2.6912935e-04, 1.7161945e-05,\n",
       "        2.8260329e-04, 1.3074136e-05, 3.4724799e-04, 1.6163730e-04,\n",
       "        1.5409909e-04, 2.0408681e-04, 1.3587413e-06, 9.4608104e-08,\n",
       "        1.6045233e-03, 2.5259805e-04, 2.7098948e-05, 1.3049186e-05,\n",
       "        8.4648404e-05, 2.6471691e-06, 1.6576807e-05, 1.5812489e-06,\n",
       "        1.9230092e-05, 9.0144158e-06, 4.5996301e-05, 3.2500907e-07,\n",
       "        3.1549636e-05, 2.6794271e-05], dtype=float32)>,\n",
       " <tf.Tensor: shape=(46,), dtype=float32, numpy=\n",
       " array([3.5706165e-05, 5.4634991e-05, 6.7312862e-06, 9.7803795e-01,\n",
       "        6.1858566e-03, 1.1181063e-06, 9.1238344e-06, 2.0410445e-05,\n",
       "        7.6090125e-04, 3.0607102e-04, 6.3477630e-05, 3.3260344e-03,\n",
       "        9.7163895e-05, 1.6126625e-04, 2.2621476e-05, 4.4930719e-05,\n",
       "        8.1010617e-04, 2.5520296e-06, 7.8567355e-06, 8.0926763e-03,\n",
       "        7.0377608e-04, 9.6969219e-05, 8.3344241e-07, 1.6696079e-04,\n",
       "        3.5034118e-05, 1.2497001e-04, 1.1997406e-06, 3.3779266e-05,\n",
       "        6.6699060e-05, 1.9883597e-05, 9.2251075e-06, 1.3446091e-05,\n",
       "        6.5745091e-08, 3.8248422e-07, 3.2837863e-05, 1.6073154e-05,\n",
       "        3.6413918e-04, 1.0404092e-04, 8.7266344e-05, 1.8725399e-06,\n",
       "        5.7041070e-06, 1.5557049e-05, 2.5953759e-05, 5.9424979e-06,\n",
       "        1.4067441e-05, 6.0031557e-06], dtype=float32)>)"
      ]
     },
     "execution_count": 94,
     "metadata": {},
     "output_type": "execute_result"
    }
   ],
   "source": [
    "predicted_probs[0], predicted_probs[2]"
   ]
  },
  {
   "cell_type": "code",
   "execution_count": 96,
   "metadata": {},
   "outputs": [
    {
     "data": {
      "text/plain": [
       "(2246,)"
      ]
     },
     "execution_count": 96,
     "metadata": {},
     "output_type": "execute_result"
    },
    {
     "data": {
      "text/plain": [
       "array([0, 3, 3, ..., 3, 3, 1])"
      ]
     },
     "execution_count": 96,
     "metadata": {},
     "output_type": "execute_result"
    }
   ],
   "source": [
    "predicted_topics_prob = predicted_probs.numpy().argmax(axis=1)\n",
    "predicted_topics_prob.shape\n",
    "predicted_topics_prob"
   ]
  },
  {
   "attachments": {},
   "cell_type": "markdown",
   "metadata": {},
   "source": [
    "The two methods lead to the same vector of predicted topic labels:"
   ]
  },
  {
   "cell_type": "code",
   "execution_count": 98,
   "metadata": {},
   "outputs": [
    {
     "data": {
      "text/plain": [
       "True"
      ]
     },
     "execution_count": 98,
     "metadata": {},
     "output_type": "execute_result"
    }
   ],
   "source": [
    "np.equal(predicted_topics, predicted_topics_prob).all()"
   ]
  },
  {
   "attachments": {},
   "cell_type": "markdown",
   "metadata": {},
   "source": [
    "## Model Using Root Mean Squared Propagation \n",
    "\n",
    "Finally, we train another neural network using another optimizer:"
   ]
  },
  {
   "cell_type": "code",
   "execution_count": 100,
   "metadata": {},
   "outputs": [
    {
     "name": "stdout",
     "output_type": "stream",
     "text": [
      "Epoch 1/25\n",
      "16/16 [==============================] - 1s 36ms/step - loss: 2.7412 - accuracy: 0.5000 - val_loss: 1.8263 - val_accuracy: 0.6250\n",
      "Epoch 2/25\n",
      "16/16 [==============================] - 0s 17ms/step - loss: 1.5709 - accuracy: 0.6700 - val_loss: 1.4168 - val_accuracy: 0.7150\n",
      "Epoch 3/25\n",
      "16/16 [==============================] - 0s 16ms/step - loss: 1.2143 - accuracy: 0.7415 - val_loss: 1.2229 - val_accuracy: 0.7350\n",
      "Epoch 4/25\n",
      "16/16 [==============================] - 0s 17ms/step - loss: 0.9947 - accuracy: 0.7868 - val_loss: 1.1412 - val_accuracy: 0.7460\n",
      "Epoch 5/25\n",
      "16/16 [==============================] - 0s 16ms/step - loss: 0.8243 - accuracy: 0.8239 - val_loss: 1.0464 - val_accuracy: 0.7800\n",
      "Epoch 6/25\n",
      "16/16 [==============================] - 0s 16ms/step - loss: 0.6917 - accuracy: 0.8500 - val_loss: 0.9872 - val_accuracy: 0.7850\n",
      "Epoch 7/25\n",
      "16/16 [==============================] - 0s 17ms/step - loss: 0.5741 - accuracy: 0.8755 - val_loss: 0.9295 - val_accuracy: 0.7840\n",
      "Epoch 8/25\n",
      "16/16 [==============================] - 0s 18ms/step - loss: 0.4879 - accuracy: 0.8989 - val_loss: 0.9033 - val_accuracy: 0.7830\n",
      "Epoch 9/25\n",
      "16/16 [==============================] - 0s 16ms/step - loss: 0.4070 - accuracy: 0.9137 - val_loss: 0.8946 - val_accuracy: 0.7880\n",
      "Epoch 10/25\n",
      "16/16 [==============================] - 0s 20ms/step - loss: 0.3472 - accuracy: 0.9248 - val_loss: 0.9089 - val_accuracy: 0.7860\n",
      "Epoch 11/25\n",
      "16/16 [==============================] - 0s 18ms/step - loss: 0.3003 - accuracy: 0.9347 - val_loss: 0.8668 - val_accuracy: 0.8080\n",
      "Epoch 12/25\n",
      "16/16 [==============================] - 0s 25ms/step - loss: 0.2617 - accuracy: 0.9421 - val_loss: 0.8829 - val_accuracy: 0.8010\n",
      "Epoch 13/25\n",
      "16/16 [==============================] - 0s 21ms/step - loss: 0.2335 - accuracy: 0.9464 - val_loss: 0.8742 - val_accuracy: 0.8090\n",
      "Epoch 14/25\n",
      "16/16 [==============================] - 0s 16ms/step - loss: 0.2034 - accuracy: 0.9529 - val_loss: 0.8794 - val_accuracy: 0.8060\n",
      "Epoch 15/25\n",
      "16/16 [==============================] - 0s 18ms/step - loss: 0.1866 - accuracy: 0.9511 - val_loss: 0.9045 - val_accuracy: 0.8020\n",
      "Epoch 16/25\n",
      "16/16 [==============================] - 0s 16ms/step - loss: 0.1719 - accuracy: 0.9549 - val_loss: 0.9326 - val_accuracy: 0.7940\n",
      "Epoch 17/25\n",
      "16/16 [==============================] - 0s 18ms/step - loss: 0.1566 - accuracy: 0.9567 - val_loss: 0.9315 - val_accuracy: 0.8100\n",
      "Epoch 18/25\n",
      "16/16 [==============================] - 0s 16ms/step - loss: 0.1523 - accuracy: 0.9575 - val_loss: 0.9244 - val_accuracy: 0.8140\n",
      "Epoch 19/25\n",
      "16/16 [==============================] - 0s 16ms/step - loss: 0.1403 - accuracy: 0.9570 - val_loss: 0.9829 - val_accuracy: 0.7980\n",
      "Epoch 20/25\n",
      "16/16 [==============================] - 0s 22ms/step - loss: 0.1329 - accuracy: 0.9590 - val_loss: 0.9479 - val_accuracy: 0.8050\n",
      "Epoch 21/25\n",
      "16/16 [==============================] - 0s 21ms/step - loss: 0.1310 - accuracy: 0.9585 - val_loss: 0.9526 - val_accuracy: 0.8100\n",
      "Epoch 22/25\n",
      "16/16 [==============================] - 0s 21ms/step - loss: 0.1224 - accuracy: 0.9578 - val_loss: 0.9760 - val_accuracy: 0.8060\n",
      "Epoch 23/25\n",
      "16/16 [==============================] - 0s 25ms/step - loss: 0.1204 - accuracy: 0.9595 - val_loss: 0.9719 - val_accuracy: 0.8040\n",
      "Epoch 24/25\n",
      "16/16 [==============================] - 0s 20ms/step - loss: 0.1152 - accuracy: 0.9599 - val_loss: 1.0152 - val_accuracy: 0.7950\n",
      "Epoch 25/25\n",
      "16/16 [==============================] - 0s 18ms/step - loss: 0.1121 - accuracy: 0.9583 - val_loss: 0.9894 - val_accuracy: 0.8090\n"
     ]
    }
   ],
   "source": [
    "rmsprop_model = Sequential(\n",
    "    [\n",
    "        Input(shape=(10000,)),  # Expected shape of the input\n",
    "        Dense(units=64, activation=\"relu\", name=\"layer1\"),\n",
    "        Dense(units=64, activation=\"relu\", name=\"layer2\"),\n",
    "        Dense(\n",
    "            units=46, activation=\"linear\", name=\"output_layer\"\n",
    "        ),  # Use linear activation for numerical stability\n",
    "    ],\n",
    "    name=\"newswire_rmsprop_model\",\n",
    ")\n",
    "rmsprop_model.compile(\n",
    "    optimizer=RMSprop(learning_rate=0.001),\n",
    "    loss=CategoricalCrossentropy(\n",
    "        from_logits=True\n",
    "    ),  # Use from_logits=True for numerical stability\n",
    "    metrics=[\"accuracy\"],\n",
    ")\n",
    "rmsprop_history = rmsprop_model.fit(\n",
    "    partial_train_X,\n",
    "    partial_train_y,\n",
    "    epochs=25,\n",
    "    batch_size=512,\n",
    "    validation_data=(validate_X, validate_y),\n",
    ")"
   ]
  },
  {
   "cell_type": "code",
   "execution_count": 101,
   "metadata": {},
   "outputs": [],
   "source": [
    "# Save model\n",
    "rmsprop_model.save(\"model_output/rmsprop_model.h5\")"
   ]
  },
  {
   "cell_type": "code",
   "execution_count": 102,
   "metadata": {},
   "outputs": [
    {
     "data": {
      "image/png": "[encoded data removed]",
      "text/plain": [
       "<Figure size 576x360 with 1 Axes>"
      ]
     },
     "metadata": {
      "needs_background": "light"
     },
     "output_type": "display_data"
    },
    {
     "data": {
      "image/png": "[encoded data removed]",
      "text/plain": [
       "<Figure size 576x360 with 1 Axes>"
      ]
     },
     "metadata": {
      "needs_background": "light"
     },
     "output_type": "display_data"
    }
   ],
   "source": [
    "# Evaluation plot\n",
    "eval_plots(rmsprop_history)"
   ]
  },
  {
   "cell_type": "code",
   "execution_count": 103,
   "metadata": {},
   "outputs": [
    {
     "name": "stdout",
     "output_type": "stream",
     "text": [
      "71/71 [==============================] - 0s 2ms/step - loss: 1.0394 - accuracy: 0.8032\n"
     ]
    },
    {
     "data": {
      "text/plain": [
       "[1.0393762588500977, 0.8032057285308838]"
      ]
     },
     "execution_count": 103,
     "metadata": {},
     "output_type": "execute_result"
    }
   ],
   "source": [
    "rmsprop_model.evaluate(x=test_X, y=test_y)"
   ]
  },
  {
   "attachments": {},
   "cell_type": "markdown",
   "metadata": {},
   "source": [
    "Around 5 to 10 epochs, the network begins to overfit as validation accuracy and loss begin to degrade and diverge with training performance."
   ]
  },
  {
   "cell_type": "code",
   "execution_count": 104,
   "metadata": {},
   "outputs": [],
   "source": [
    "del rmsprop_model"
   ]
  },
  {
   "cell_type": "code",
   "execution_count": 106,
   "metadata": {},
   "outputs": [
    {
     "name": "stdout",
     "output_type": "stream",
     "text": [
      "Epoch 1/9\n",
      "16/16 [==============================] - 1s 33ms/step - loss: 2.7018 - accuracy: 0.5048 - val_loss: 1.8157 - val_accuracy: 0.6430\n",
      "Epoch 2/9\n",
      "16/16 [==============================] - 0s 20ms/step - loss: 1.5468 - accuracy: 0.6735 - val_loss: 1.3745 - val_accuracy: 0.7040\n",
      "Epoch 3/9\n",
      "16/16 [==============================] - 0s 16ms/step - loss: 1.1805 - accuracy: 0.7435 - val_loss: 1.1950 - val_accuracy: 0.7320\n",
      "Epoch 4/9\n",
      "16/16 [==============================] - 0s 20ms/step - loss: 0.9492 - accuracy: 0.7952 - val_loss: 1.0643 - val_accuracy: 0.7530\n",
      "Epoch 5/9\n",
      "16/16 [==============================] - 0s 17ms/step - loss: 0.7764 - accuracy: 0.8336 - val_loss: 0.9875 - val_accuracy: 0.7740\n",
      "Epoch 6/9\n",
      "16/16 [==============================] - 0s 16ms/step - loss: 0.6377 - accuracy: 0.8663 - val_loss: 0.9495 - val_accuracy: 0.7810\n",
      "Epoch 7/9\n",
      "16/16 [==============================] - 0s 17ms/step - loss: 0.5300 - accuracy: 0.8874 - val_loss: 0.9232 - val_accuracy: 0.7920\n",
      "Epoch 8/9\n",
      "16/16 [==============================] - 0s 17ms/step - loss: 0.4410 - accuracy: 0.9085 - val_loss: 0.8707 - val_accuracy: 0.8030\n",
      "Epoch 9/9\n",
      "16/16 [==============================] - 0s 20ms/step - loss: 0.3752 - accuracy: 0.9223 - val_loss: 0.8638 - val_accuracy: 0.7970\n"
     ]
    },
    {
     "data": {
      "text/plain": [
       "<keras.callbacks.History at 0x193f62460>"
      ]
     },
     "execution_count": 106,
     "metadata": {},
     "output_type": "execute_result"
    }
   ],
   "source": [
    "# Retrain the model with 9 epochs\n",
    "retrained_rmsprop_model = Sequential(\n",
    "    [\n",
    "        Input(shape=(10000,)),  # Expected shape of the input\n",
    "        Dense(units=64, activation=\"relu\", name=\"layer1\"),\n",
    "        Dense(units=64, activation=\"relu\", name=\"layer2\"),\n",
    "        Dense(\n",
    "            units=46, activation=\"linear\", name=\"output_layer\"\n",
    "        ),  # Use linear activation for numerical stability\n",
    "    ],\n",
    "    name=\"newswire_rmsprop_model\",\n",
    ")\n",
    "retrained_rmsprop_model.compile(\n",
    "    optimizer=RMSprop(learning_rate=0.001),\n",
    "    loss=CategoricalCrossentropy(\n",
    "        from_logits=True\n",
    "    ),  # Use from_logits=True for numerical stability\n",
    "    metrics=[\"accuracy\"],\n",
    ")\n",
    "retrained_rmsprop_model.fit(\n",
    "    partial_train_X,\n",
    "    partial_train_y,\n",
    "    epochs=9,\n",
    "    batch_size=512,\n",
    "    validation_data=(validate_X, validate_y),\n",
    ")"
   ]
  },
  {
   "cell_type": "code",
   "execution_count": 107,
   "metadata": {},
   "outputs": [
    {
     "name": "stdout",
     "output_type": "stream",
     "text": [
      "71/71 [==============================] - 0s 2ms/step - loss: 0.8913 - accuracy: 0.8037\n"
     ]
    },
    {
     "data": {
      "text/plain": [
       "[0.8912642598152161, 0.8036509156227112]"
      ]
     },
     "execution_count": 107,
     "metadata": {},
     "output_type": "execute_result"
    }
   ],
   "source": [
    "# Evaluate the model\n",
    "retrained_rmsprop_model.evaluate(x=test_X, y=test_y)"
   ]
  },
  {
   "attachments": {},
   "cell_type": "markdown",
   "metadata": {},
   "source": [
    "This is indeed the best result out of all three model:"
   ]
  },
  {
   "cell_type": "code",
   "execution_count": 108,
   "metadata": {},
   "outputs": [],
   "source": [
    "retrained_rmsprop_model.save(\"model_output/best_rmsprop_model.h5\")"
   ]
  }
 ],
 "metadata": {
  "kernelspec": {
   "display_name": "python_for_machine_learning",
   "language": "python",
   "name": "python3"
  },
  "language_info": {
   "codemirror_mode": {
    "name": "ipython",
    "version": 3
   },
   "file_extension": ".py",
   "mimetype": "text/x-python",
   "name": "python",
   "nbconvert_exporter": "python",
   "pygments_lexer": "ipython3",
   "version": "3.9.6"
  },
  "orig_nbformat": 4,
  "vscode": {
   "interpreter": {
    "hash": "40fc6ebffc74793621f684cf09d9f3d0a501c91440a6f462aebac8d38ed47133"
   }
  }
 },
 "nbformat": 4,
 "nbformat_minor": 2
}
