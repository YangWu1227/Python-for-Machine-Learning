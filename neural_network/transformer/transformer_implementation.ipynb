{
 "cells": [
  {
   "cell_type": "code",
   "execution_count": 62,
   "metadata": {},
   "outputs": [],
   "source": [
    "from typing import List, Tuple, Dict, Union, Any\n",
    "from IPython.core.interactiveshell import InteractiveShell\n",
    "InteractiveShell.ast_node_interactivity = 'all'\n",
    "\n",
    "import torch\n",
    "import torch.nn as nn\n",
    "import numpy as np"
   ]
  },
  {
   "cell_type": "markdown",
   "metadata": {},
   "source": [
    "## Self-Attention\n",
    "\n",
    "Given three inputs $K, Q, V \\in \\mathbb{R}^{T \\times d}$ (\"keys\", \"queries\", \"values\"):\n",
    "$$\n",
    "K=\\left[\\begin{array}{ccc}\n",
    "- & k_1^{\\top} & - \\\\\n",
    "- & k_2^{\\top} & - \\\\\n",
    "& \\vdots & \\\\\n",
    "- & k_T^{\\top} & -\n",
    "\\end{array}\\right], \\quad Q=\\left[\\begin{array}{ccc}\n",
    "- & q_1^{\\top} & - \\\\\n",
    "- & q_2^{\\top} & - \\\\\n",
    "& \\vdots & \\\\\n",
    "- & q_T^{\\top} & -\n",
    "\\end{array}\\right], \\quad V=\\left[\\begin{array}{ccc}\n",
    "- & v_1^{\\top} & - \\\\\n",
    "- & v_2^{\\top} & - \\\\\n",
    "& \\vdots & \\\\\n",
    "- & v_T^{\\top} & -\n",
    "\\end{array}\\right]\n",
    "$$\n",
    "we define the self attention operation as\n",
    "$$\n",
    "\\underbrace{\\operatorname{SelfAttention}(K, Q, V)}_{T \\times d}=\\underbrace{\\operatorname{softmax}\\left(\\frac{K Q^T}{d^{1 / 2}}\\right)}_{T \\times T} \\underbrace{V}_{T \\times d}\n",
    "$$\n",
    "\n",
    "By convention, however, it's typical to implement self attention in terms of the actual inputs $X$ rather than the $K, Q$, and $V$ values themselves (i.e., instead of having the linear layer separately). It's also common to have an output weight as well (even though this could in theory be folded into the $W_{K}, W_{Q}, W_{V}$ terms), which applies an additional linear layer to the output of the the entire operation. That is, the full operation is given by\n",
    "\n",
    "$$\n",
    "Y=\\left(\\operatorname{softmax}\\left(\\frac{X W_K W_Q^T X^T}{\\sqrt{d}}\\right) X W_V\\right) W_o\n",
    "$$\n",
    "\n",
    "It's possible to also incorporate bias terms into each of these projections, though we won't bother with this, as it is less common for everything but the output weight, and then just largely adds complexity.\n",
    "\n",
    "1. $X \\in \\mathbb{R}^{T \\times d}$ : This is our input matrix.\n",
    "  \n",
    "2. $W_K \\in \\mathbb{R}^{d \\times d}$ : This is the weight matrix for the \"key\", which transforms $X$ from $T \\times d$ to $T \\times d$ again for the keys.\n",
    "  \n",
    "3. $W_Q \\in \\mathbb{R}^{d \\times d}$ : This is the weight matrix for the \"query\", which transforms $X$ from $T \\times d$ to $T \\times d$ again for the queries.\n",
    "  \n",
    "4. $W_V \\in \\mathbb{R}^{d \\times d}$: This is the weight matrix for the \"value\", again for the same reasons above.\n",
    "  \n",
    "5. $W_o \\in \\mathbb{R}^{d \\times d^{\\prime}}$: This is the output weight matrix, which transforms the output to have dimensions $T \\times d^{\\prime}$, where $d^{\\prime}$ can be the same as $d$ or different depending on the desired output dimensionality."
   ]
  },
  {
   "cell_type": "code",
   "execution_count": 2,
   "metadata": {},
   "outputs": [],
   "source": [
    "def softmax(Z: np.ndarray) -> np.ndarray:\n",
    "    \"\"\"\n",
    "    Apply softmax along the last axis of an array.\n",
    "\n",
    "    Parameters\n",
    "    ----------\n",
    "    Z : np.ndarray\n",
    "        The input array.\n",
    "\n",
    "    Returns\n",
    "    -------\n",
    "    np.ndarray\n",
    "        The softmax output.\n",
    "    \"\"\"\n",
    "    # The -1 means the last axis (so the max across the columns in each row)\n",
    "    Z = np.exp(Z - Z.max(axis=-1, keepdims=True))\n",
    "    Z /= Z.sum(axis=-1, keepdims=True)\n",
    "    return Z"
   ]
  },
  {
   "cell_type": "markdown",
   "metadata": {},
   "source": [
    "We can form:\n",
    "\n",
    "$$\n",
    "\\begin{aligned}\n",
    "& K = X W_K \\\\\n",
    "& Q = X W_Q \\\\\n",
    "& V = X W_V\n",
    "\\end{aligned} \\Leftrightarrow \n",
    "\\begin{align*}\n",
    "\\underbrace{\\left[\\begin{array}{lll}\n",
    "K & Q & V\n",
    "\\end{array}\\right]}_{T \\times 3d} &= X\\left[\\begin{array}{lll}\n",
    "W_K & W_Q & W_V \\\\\n",
    "\\end{array}\\right] \\\\\n",
    "&= XW_{KQV}\n",
    "\\end{align*}\n",
    "$$\n",
    "\n",
    "where $W_{KQV} \\in \\mathbb{R}^{d \\times 3d}$"
   ]
  },
  {
   "cell_type": "code",
   "execution_count": 167,
   "metadata": {},
   "outputs": [],
   "source": [
    "def self_attention(X: np.ndarray, mask: np.ndarray, W_KQV: np.ndarray, W_out: np.ndarray) -> Tuple[np.ndarray, np.ndarray]:\n",
    "    \"\"\"\n",
    "    Function that performs self attention on the input matrix X. The function returns the output of the self attention\n",
    "    and the attention weights.\n",
    "\n",
    "    Parameters\n",
    "    ----------\n",
    "    X : np.ndarray\n",
    "        The input matrix of shape (T x d).\n",
    "    mask : np.ndarray\n",
    "        The mask matrix of shape (T x T).\n",
    "    W_KQV : np.ndarray\n",
    "        The combined weight matrix of shape (d x 3d).\n",
    "    W_out : np.ndarray\n",
    "        The output weight matrix of shape (d x d').\n",
    "\n",
    "    Returns\n",
    "    -------\n",
    "    Tuple[np.ndarray, np.ndarray]\n",
    "        The output of the self attention and the attention weights.\n",
    "    \"\"\"\n",
    "    \n",
    "    # X is T x d so we split along the second axis (columns) XW_KQV (T x 3d) -> XW_K (T x d) | XW_Q (T x d) | XW_V (T x d)\n",
    "    K, Q, V = np.split(X @ W_KQV, 3, axis=1)\n",
    "    \n",
    "    # Scalar value\n",
    "    d = X.shape[1]\n",
    "    # Matrix (T x T)\n",
    "    scaled_matrix = (K @ Q.T) / np.sqrt(d) \n",
    "    # Apply softmax to the scaled matrix across the columns in each the row and add the mask\n",
    "    attn_weights = softmax(scaled_matrix + mask) \n",
    "    \n",
    "    return attn_weights @ V @ W_out, attn_weights"
   ]
  },
  {
   "cell_type": "markdown",
   "metadata": {},
   "source": [
    "### Reference Implementation with Pytorch"
   ]
  },
  {
   "cell_type": "code",
   "execution_count": 168,
   "metadata": {},
   "outputs": [],
   "source": [
    "T, d = 100, 64\n",
    "attn = nn.MultiheadAttention(embed_dim=d, num_heads=1, bias=False, batch_first=True)"
   ]
  },
  {
   "cell_type": "code",
   "execution_count": 169,
   "metadata": {},
   "outputs": [
    {
     "data": {
      "text/plain": [
       "tensor([[0., -inf, -inf,  ..., -inf, -inf, -inf],\n",
       "        [0., 0., -inf,  ..., -inf, -inf, -inf],\n",
       "        [0., 0., 0.,  ..., -inf, -inf, -inf],\n",
       "        ...,\n",
       "        [0., 0., 0.,  ..., 0., -inf, -inf],\n",
       "        [0., 0., 0.,  ..., 0., 0., -inf],\n",
       "        [0., 0., 0.,  ..., 0., 0., 0.]])"
      ]
     },
     "execution_count": 169,
     "metadata": {},
     "output_type": "execute_result"
    }
   ],
   "source": [
    "# All elements below and including the diagonal are (0) and all elements above the diagonal are (-inf)\n",
    "mask = torch.triu(input=-np.inf * torch.ones(T, T), diagonal=1)\n",
    "mask"
   ]
  },
  {
   "cell_type": "code",
   "execution_count": 170,
   "metadata": {},
   "outputs": [
    {
     "data": {
      "text/plain": [
       "torch.Size([1, 100, 64])"
      ]
     },
     "execution_count": 170,
     "metadata": {},
     "output_type": "execute_result"
    }
   ],
   "source": [
    "# Shape (1, T, d)\n",
    "X = torch.randn(1, T, d)\n",
    "X.shape"
   ]
  },
  {
   "cell_type": "code",
   "execution_count": 171,
   "metadata": {},
   "outputs": [
    {
     "data": {
      "text/plain": [
       "(torch.Size([1, 100, 64]), torch.Size([1, 100, 100]))"
      ]
     },
     "execution_count": 171,
     "metadata": {},
     "output_type": "execute_result"
    }
   ],
   "source": [
    "# Output of self-attention layer\n",
    "Y_torch, A_torch = attn(query=X, key=X, value=X, attn_mask=mask)\n",
    "Y_torch.shape, A_torch.shape"
   ]
  },
  {
   "cell_type": "markdown",
   "metadata": {},
   "source": [
    "### Custom Implementation"
   ]
  },
  {
   "cell_type": "code",
   "execution_count": 172,
   "metadata": {},
   "outputs": [
    {
     "data": {
      "text/plain": [
       "((64, 192), (64, 64))"
      ]
     },
     "execution_count": 172,
     "metadata": {},
     "output_type": "execute_result"
    }
   ],
   "source": [
    "# Get first batch of data [0] and convert to numpy\n",
    "X = X[0].numpy()\n",
    "# These are graph so we need to call detach before converting to numpy (also we need to transpose)\n",
    "W_KQV = attn.in_proj_weight.detach().numpy().T\n",
    "W_out = attn.out_proj.weight.detach().numpy().T\n",
    "\n",
    "W_KQV.shape, W_out.shape"
   ]
  },
  {
   "cell_type": "markdown",
   "metadata": {},
   "source": [
    "Check implementation:"
   ]
  },
  {
   "cell_type": "code",
   "execution_count": 173,
   "metadata": {},
   "outputs": [
    {
     "data": {
      "text/plain": [
       "((100, 64), (100, 100))"
      ]
     },
     "execution_count": 173,
     "metadata": {},
     "output_type": "execute_result"
    }
   ],
   "source": [
    "Y, A = self_attention(X=X, mask=mask.numpy(), W_KQV=W_KQV, W_out=W_out)\n",
    "Y.shape, A.shape"
   ]
  },
  {
   "cell_type": "code",
   "execution_count": 174,
   "metadata": {},
   "outputs": [
    {
     "data": {
      "text/plain": [
       "2.8810214e-07"
      ]
     },
     "execution_count": 174,
     "metadata": {},
     "output_type": "execute_result"
    },
    {
     "data": {
      "text/plain": [
       "1.918466e-06"
      ]
     },
     "execution_count": 174,
     "metadata": {},
     "output_type": "execute_result"
    }
   ],
   "source": [
    "np.linalg.norm(A - A_torch[0].detach().numpy())\n",
    "np.linalg.norm(Y - Y_torch[0].detach().numpy())"
   ]
  },
  {
   "cell_type": "markdown",
   "metadata": {},
   "source": [
    "## Adding Mini-batching\n",
    "\n",
    "Once we move from single example to minibatches, there is one additional subtlety that comes into play for self-attention. Recall that for each sample in the minibatch, we will have to compute a matrix product, e.g., the $K Q^T$ term. If we need to process examples in a minibatch, we will need to perform this matrix multiplication correspondingly for each sample. This is an operation known as a **batch matrix multiply**.\n",
    "\n",
    "For CNNs, RNNs, and MLP, we had involved the multiplication of a \"batched\" tensor by a single weight matrix. In a ConvNet, we have:\n",
    "\n",
    "$$\n",
    "y=\\operatorname{im} 2 \\operatorname{col}(x) W\n",
    "$$\n",
    "\n",
    "or in the batched setting\n",
    "\n",
    "$$\n",
    "y^{(i)}=\\operatorname{im} 2 \\operatorname{col}\\left(x^{(i)}\\right) W\n",
    "$$\n",
    "\n",
    "But this operation can be accomplished with \"normal\" matrix multiplication by just stacking the multiple samples into the matrix on the left:\n",
    "\n",
    "$$\n",
    "\\left[\\begin{array}{c}\n",
    "y^{(1)} \\\\\n",
    "y^{(2)} \\\\\n",
    "\\vdots \\\\\n",
    "y^{(N)}\n",
    "\\end{array}\\right]=\\left[\\begin{array}{c}\n",
    "\\operatorname{im} 2 \\operatorname{col}\\left(x^{(1)}\\right) \\\\\n",
    "\\operatorname{im} 2 \\operatorname{col}\\left(x^{(2)}\\right) \\\\\n",
    "\\vdots \\\\\n",
    "\\operatorname{im} 2 \\operatorname{col}\\left(x^{(N)}\\right)\n",
    "\\end{array}\\right] W \n",
    "$$\n",
    "\n",
    "This operation is just a normal matrix multiplication, so it can be implemented where matrix multiplication always operates on 2 dimensional NDArrays."
   ]
  },
  {
   "cell_type": "code",
   "execution_count": 175,
   "metadata": {},
   "outputs": [
    {
     "data": {
      "text/plain": [
       "((5, 4, 10, 3), (3, 6))"
      ]
     },
     "execution_count": 175,
     "metadata": {},
     "output_type": "execute_result"
    }
   ],
   "source": [
    "C = np.random.randn(5, 4, 10, 3)\n",
    "D = np.random.randn(3, 6)\n",
    "C.shape, D.shape"
   ]
  },
  {
   "cell_type": "code",
   "execution_count": 176,
   "metadata": {},
   "outputs": [
    {
     "data": {
      "text/plain": [
       "(5, 4, 10, 6)"
      ]
     },
     "execution_count": 176,
     "metadata": {},
     "output_type": "execute_result"
    }
   ],
   "source": [
    "(C @ D).shape"
   ]
  },
  {
   "cell_type": "markdown",
   "metadata": {},
   "source": [
    "The operation `C @ D` is a matrix multiplication between a $10 \\times 3$ matrix and $3 \\times 6$ (the last two dimensions of `C` and `D`) for each input in the leading dimensions of `C`. We can essentially accomplish the same feat by:\n",
    "\n",
    "* Flatten the first three dimensions of `C` , leaving the last dimension to match the first dimension of `D`\n",
    "\n",
    "* Conduct the multiplication between the $200 \\times 3$ matrix ($5 \\times 4 \\times 10$) and the $3 \\times 6$ matrix\n",
    "\n",
    "* Reshape the resulting $200 \\times 6$ matrix back to $5 \\times 4 \\times 10 \\times 6$"
   ]
  },
  {
   "cell_type": "code",
   "execution_count": 177,
   "metadata": {},
   "outputs": [
    {
     "data": {
      "text/plain": [
       "0.0"
      ]
     },
     "execution_count": 177,
     "metadata": {},
     "output_type": "execute_result"
    }
   ],
   "source": [
    "np.linalg.norm((C.reshape(-1, 3) @ D).reshape(5, 4, 10, 6) - (C @ D))"
   ]
  },
  {
   "cell_type": "markdown",
   "metadata": {},
   "source": [
    "Re-implement for batch case:"
   ]
  },
  {
   "cell_type": "code",
   "execution_count": 221,
   "metadata": {},
   "outputs": [],
   "source": [
    "def self_attention_batch(X: np.ndarray, mask: np.ndarray, W_KQV: np.ndarray, W_out: np.ndarray) -> Tuple[np.ndarray, np.ndarray]:\n",
    "    \"\"\"\n",
    "    Function that performs self attention on the input matrix X. The function returns the output of the self attention\n",
    "    and the attention weights.\n",
    "\n",
    "    Parameters\n",
    "    ----------\n",
    "    X : np.ndarray\n",
    "        The input matrix of shape (batch x T x d).\n",
    "    mask : np.ndarray\n",
    "        The mask matrix of shape (batch x T x T).\n",
    "    W_KQV : np.ndarray\n",
    "        The combined weight matrix of shape (batch x d x 3d).\n",
    "    W_out : np.ndarray\n",
    "        The output weight matrix of shape (batch x d x d').\n",
    "\n",
    "    Returns\n",
    "    -------\n",
    "    Tuple[np.ndarray, np.ndarray]\n",
    "        The output of the self attention and the attention weights.\n",
    "    \"\"\"\n",
    "    \n",
    "    # X is (batch x T x d) so we split along the last axis (columns) XW_KQV (batch x T x 3d) -> XW_K (batch x T x d) | XW_Q (batch x T x d) | XW_V (batch xT x d)\n",
    "    K, Q, V = np.split(X @ W_KQV, 3, axis=-1)\n",
    "    \n",
    "    # Scalar value, but this time we get 'd' from the last axis of X, which now has a batch dimension (batch x T x d)\n",
    "    d = X.shape[-1]\n",
    "    # Matrix (batch x T x T), and we use swapaxes to swap the last two dimensions of Q (batch x T x d) -> (batch x d x T)\n",
    "    scaled_matrix = (K @ Q.swapaxes(-1, -2)) / np.sqrt(d) \n",
    "    # Apply softmax to the scaled matrix across the columns in each the row and add the mask\n",
    "    attn_weights = softmax(scaled_matrix + mask) \n",
    "    \n",
    "    return attn_weights @ V @ W_out, attn_weights"
   ]
  },
  {
   "cell_type": "markdown",
   "metadata": {},
   "source": [
    "### Reference Implementation with Pytorch"
   ]
  },
  {
   "cell_type": "code",
   "execution_count": 222,
   "metadata": {},
   "outputs": [
    {
     "data": {
      "text/plain": [
       "MultiheadAttention(\n",
       "  (out_proj): NonDynamicallyQuantizableLinear(in_features=64, out_features=64, bias=False)\n",
       ")"
      ]
     },
     "execution_count": 222,
     "metadata": {},
     "output_type": "execute_result"
    }
   ],
   "source": [
    "B, T, d = 50, 100, 64\n",
    "attn = nn.MultiheadAttention(embed_dim=d, num_heads=1, bias=False, batch_first=True)\n",
    "attn"
   ]
  },
  {
   "cell_type": "code",
   "execution_count": 223,
   "metadata": {},
   "outputs": [],
   "source": [
    "# Add batch dimension with B\n",
    "mask = torch.triu(input=-np.inf * torch.ones(T, T), diagonal=1)"
   ]
  },
  {
   "cell_type": "code",
   "execution_count": 224,
   "metadata": {},
   "outputs": [
    {
     "data": {
      "text/plain": [
       "torch.Size([50, 100, 64])"
      ]
     },
     "execution_count": 224,
     "metadata": {},
     "output_type": "execute_result"
    }
   ],
   "source": [
    "# Add batch dimension\n",
    "X = torch.randn(B, T, d)\n",
    "X.shape"
   ]
  },
  {
   "cell_type": "code",
   "execution_count": 225,
   "metadata": {},
   "outputs": [
    {
     "data": {
      "text/plain": [
       "(torch.Size([50, 100, 64]), torch.Size([50, 100, 100]))"
      ]
     },
     "execution_count": 225,
     "metadata": {},
     "output_type": "execute_result"
    }
   ],
   "source": [
    "Y_torch, A_torch = attn(query=X, key=X, value=X, attn_mask=mask)\n",
    "Y_torch.shape, A_torch.shape"
   ]
  },
  {
   "cell_type": "markdown",
   "metadata": {},
   "source": [
    "### Custom Implementation"
   ]
  },
  {
   "cell_type": "code",
   "execution_count": 226,
   "metadata": {},
   "outputs": [
    {
     "data": {
      "text/plain": [
       "torch.Size([50, 100, 100])"
      ]
     },
     "execution_count": 226,
     "metadata": {},
     "output_type": "execute_result"
    }
   ],
   "source": [
    "# Add batch dimension with B\n",
    "mask = mask.unsqueeze(0).repeat(B, 1, 1)\n",
    "mask.shape"
   ]
  },
  {
   "cell_type": "code",
   "execution_count": 227,
   "metadata": {},
   "outputs": [
    {
     "data": {
      "text/plain": [
       "((64, 192), (64, 64))"
      ]
     },
     "execution_count": 227,
     "metadata": {},
     "output_type": "execute_result"
    }
   ],
   "source": [
    "W_KQV = attn.in_proj_weight.detach().numpy().T\n",
    "W_out = attn.out_proj.weight.detach().numpy().T\n",
    "\n",
    "W_KQV.shape, W_out.shape"
   ]
  },
  {
   "cell_type": "code",
   "execution_count": 228,
   "metadata": {},
   "outputs": [
    {
     "data": {
      "text/plain": [
       "((50, 100, 64), (50, 100, 100))"
      ]
     },
     "execution_count": 228,
     "metadata": {},
     "output_type": "execute_result"
    }
   ],
   "source": [
    "Y, A = self_attention_batch(X=X.numpy(), mask=mask.numpy(), W_KQV=W_KQV, W_out=W_out)\n",
    "Y.shape, A.shape"
   ]
  },
  {
   "cell_type": "markdown",
   "metadata": {},
   "source": [
    "Check implementation:"
   ]
  },
  {
   "cell_type": "code",
   "execution_count": 229,
   "metadata": {},
   "outputs": [
    {
     "data": {
      "text/plain": [
       "1.8201644e-06"
      ]
     },
     "execution_count": 229,
     "metadata": {},
     "output_type": "execute_result"
    },
    {
     "data": {
      "text/plain": [
       "1.3360198e-05"
      ]
     },
     "execution_count": 229,
     "metadata": {},
     "output_type": "execute_result"
    }
   ],
   "source": [
    "np.linalg.norm(A - A_torch.detach().numpy())\n",
    "np.linalg.norm(Y - Y_torch.detach().numpy())"
   ]
  },
  {
   "cell_type": "markdown",
   "metadata": {},
   "source": [
    "## Multi-Head Attention\n",
    "\n",
    "Practical implementations of attention use what is called **multihead attention**, which simply means that we run the self-attention mechanism of different subsets of the $K, Q, V$ terms, then concatenate them together. Formally, we'll partition these terms as\n",
    "\n",
    "$$\n",
    "K = \\underbrace{\\left[\\begin{array}{llll}\n",
    "K_1 & K_2 & \\cdots & K_{\\text{heads}}\n",
    "\\end{array}\\right]}_{T \\times d}\n",
    "$$\n",
    "\n",
    "and similarly for $Q$ and $V$.\n",
    "\n",
    "$$\n",
    "Q = \\underbrace{\\left[\\begin{array}{llll}\n",
    "Q_1 & Q_2 & \\cdots & Q_{\\text{heads}}\n",
    "\\end{array}\\right]}_{T \\times d}\n",
    "$$\n",
    "\n",
    "and \n",
    "\n",
    "$$\n",
    "V = \\underbrace{\\left[\\begin{array}{llll}\n",
    "V_1 & V_2 & \\cdots & V_{\\text{heads}}\n",
    "\\end{array}\\right]}_{T \\times d}\n",
    "$$\n",
    "\n",
    "where $K, Q$, and $V$ are partitioned into \"heads\" matrices, each of $K_{i}, Q_{i}, V_{i}$ will have a dimension of $T \\times\\left(\\frac{d}{\\text { heads }}\\right)$.\n",
    "\n",
    "We form the self attention outputs by concatenating the following individual outputs:\n",
    "\n",
    "$$\n",
    "Y_i = \\operatorname{softmax}\\left(\\frac{K_i Q_i^T}{\\sqrt{d/\\text{heads}}}\\right) V_i\n",
    "$$\n",
    "\n",
    "where each $Y_i$ will have a dimension of $T \\times d$. The concatenated matrix of of $Y_{i}$ as given as follows:\n",
    "\n",
    "$$\n",
    "Y=\\left[\\begin{array}{llll}\n",
    "Y_1 & Y_2 & \\cdots & Y_{\\text {heads }}\n",
    "\\end{array}\\right] W_o \n",
    "$$"
   ]
  },
  {
   "cell_type": "markdown",
   "metadata": {},
   "source": [
    "### High Dimensionality\n",
    "\n",
    "In the context of attention mechanisms, when we talk about high dimensional hidden states (i.e., where \\(d\\) is large), we're referring to each individual key, query, and value having many elements or dimensions. This high dimensionality allows these vectors to encode a lot of information. However, there's a potential pitfall: when you calculate the attention weights using a dot product, you boil down these high-dimensional vectors into a single scalar value. This scalar is used to weight the corresponding value vector in the attention output. \n",
    "\n",
    "### Potential Information Loss\n",
    "\n",
    "The dot product \\(k_t^T q_s\\) is essentially measuring the similarity between two vectors. Now, if both \\(k_t\\) and \\(q_s\\) are high-dimensional, then their dot product is condensing all that rich, multi-dimensional information into just one number. This can mean that nuanced relationships or \"internal structure\" between the vectors might get lost.\n",
    "\n",
    "### Multi-Head Mechanism\n",
    "\n",
    "To mitigate this potential information loss, the multi-head attention mechanism was introduced. Instead of performing the attention operation once on the full dimensionality, multi-head attention splits the \\(d\\) dimensions into multiple \"heads\". Each head processes a subset of the dimensions independently. This allows the model to:\n",
    "\n",
    "1. Capture different types of information in different heads. For example, one head might focus on syntactic information while another might focus on semantic information.\n",
    "2. Reduce the risk of losing nuanced relationships since each head is working with reduced dimensionality.\n",
    "\n",
    "### Concatenation of Outputs\n",
    "\n",
    "After processing, the outputs from all the heads are concatenated together and linearly transformed, ensuring that the subsequent layers still receive a high-dimensional input, but one that has been enriched by the multiple \"views\" or \"perspectives\" from the multiple heads.\n",
    "\n",
    "### Advantages\n",
    "\n",
    "1. **Diversity of Representation**: Each attention head can potentially learn to focus on different aspects of the input data. This allows the model to capture a richer set of patterns and relationships.\n",
    "2. **Parallelism**: The attention heads can operate in parallel, leading to potential computational benefits.\n",
    "3. **Flexibility**: By adjusting the number of heads and their dimensionality, one can trade off between model complexity and representational power.\n",
    "\n",
    "### Heuristic Trade-off\n",
    "\n",
    "While multi-head attention has proven effective in many applications, there isn't a one-size-fits-all answer to how many heads are optimal or how to divide the dimensionality among them. These decisions often come down to experimentation, domain-specific knowledge, and heuristics.\n",
    "\n",
    "In summary, multi-head attention provides a mechanism to capture diverse relationships in the data without squashing high-dimensional information into a single scalar, leading to more expressive and powerful models."
   ]
  },
  {
   "cell_type": "code",
   "execution_count": 303,
   "metadata": {},
   "outputs": [],
   "source": [
    "def multihead_attention(X: np.ndarray, mask: np.ndarray, heads: int, W_KQV: np.ndarray, W_out: np.ndarray) -> Tuple[np.ndarray, np.ndarray]:\n",
    "    \"\"\"\n",
    "    Multihead attention layer for the transformer model. This\n",
    "\n",
    "    Parameters\n",
    "    ----------\n",
    "    X : np.ndarray\n",
    "        Input to the multihead attention layer. Shape is (B, T, d)\n",
    "    mask : np.ndarray\n",
    "        Mask to apply to the attention weights. Shape is (B, T, T)\n",
    "    heads : int \n",
    "        Number of heads to use in the multihead attention layer\n",
    "    W_KQV : np.ndarray\n",
    "        Weights for the K, Q, and V matrices. Shape is (d, 3 * d)\n",
    "    W_out : np.ndarray\n",
    "        Weights for the output matrix. Shape is (d, d)\n",
    "\n",
    "    Returns\n",
    "    -------\n",
    "    Tuple[np.ndarray, np.ndarray]\n",
    "        Tuple containing the output of the multihead attention layer and the attention weights\n",
    "    \"\"\"\n",
    "    B, T, d = X.shape\n",
    "    # Each K, Q, V matrix has shape (B x T x d)\n",
    "    K, Q, V = np.split(X @ W_KQV, 3, axis=-1)\n",
    "    \n",
    "    # Convert from (B x T x d) => (B x heads x T x d/heads), since we have 'heads' number of K_i, Q_i, V_i each with dimension (T x d/heads)\n",
    "    # Note we swap the axes 1 and 2 to go from (T, heads, d/heads) => (heads, T, d/heads)\n",
    "    K = K.reshape(B, T, heads, d // heads).swapaxes(1, 2)\n",
    "    Q = Q.reshape(B, T, heads, d // heads).swapaxes(1, 2)\n",
    "    V = V.reshape(B, T, heads, d // heads).swapaxes(1, 2)\n",
    "\n",
    "    # K is (B x heads x T x d/heads) and Q is (B x heads x d/heads x T), so K @ Q^T is (B x heads x T x T)\n",
    "    scaled_matrix = (K @ Q.swapaxes(-1, -2)) / np.sqrt(d // heads) \n",
    "    attn_weights = softmax(scaled_matrix + mask) \n",
    "    \n",
    "    return ((attn_weights @ V).swapaxes(1, 2).reshape(B, T, d) @ W_out), attn_weights"
   ]
  },
  {
   "cell_type": "markdown",
   "metadata": {},
   "source": [
    "### Reference Implementation with Pytorch"
   ]
  },
  {
   "cell_type": "code",
   "execution_count": 324,
   "metadata": {},
   "outputs": [],
   "source": [
    "heads, B, T, d = 4, 50, 100, 64\n",
    "attn = nn.MultiheadAttention(embed_dim=d, num_heads=heads, bias=False, batch_first=True)"
   ]
  },
  {
   "cell_type": "code",
   "execution_count": 325,
   "metadata": {},
   "outputs": [
    {
     "data": {
      "text/plain": [
       "torch.Size([100, 100])"
      ]
     },
     "execution_count": 325,
     "metadata": {},
     "output_type": "execute_result"
    }
   ],
   "source": [
    "mask = torch.triu(input=-np.inf * torch.ones(T, T), diagonal=1)\n",
    "mask.shape"
   ]
  },
  {
   "cell_type": "code",
   "execution_count": 326,
   "metadata": {},
   "outputs": [
    {
     "data": {
      "text/plain": [
       "torch.Size([50, 100, 64])"
      ]
     },
     "execution_count": 326,
     "metadata": {},
     "output_type": "execute_result"
    }
   ],
   "source": [
    "# Add batch dimension\n",
    "X = torch.randn(B, T, d)\n",
    "X.shape"
   ]
  },
  {
   "cell_type": "code",
   "execution_count": 327,
   "metadata": {},
   "outputs": [
    {
     "data": {
      "text/plain": [
       "(torch.Size([50, 100, 64]), torch.Size([50, 100, 100]))"
      ]
     },
     "execution_count": 327,
     "metadata": {},
     "output_type": "execute_result"
    }
   ],
   "source": [
    "Y_torch, A_torch = attn(query=X, key=X, value=X, attn_mask=mask)\n",
    "Y_torch.shape, A_torch.shape"
   ]
  },
  {
   "cell_type": "markdown",
   "metadata": {},
   "source": [
    "### Custom Implementation\n",
    "\n",
    "This time we need to add the `batch` dimension and the `heads` dimension to `mask`:\n",
    "\n",
    "* Unsqueeze to add 0th and 1st dimensions \n",
    "\n",
    "* For each `B` and `heads`, repeat the last two dimensions $T \\times T$"
   ]
  },
  {
   "cell_type": "code",
   "execution_count": 328,
   "metadata": {},
   "outputs": [
    {
     "data": {
      "text/plain": [
       "torch.Size([50, 4, 100, 100])"
      ]
     },
     "execution_count": 328,
     "metadata": {},
     "output_type": "execute_result"
    }
   ],
   "source": [
    "# Add B and heads dimension to mask\n",
    "mask = mask.unsqueeze(0).unsqueeze(1).repeat(B, heads, 1, 1)\n",
    "mask.shape"
   ]
  },
  {
   "cell_type": "code",
   "execution_count": 329,
   "metadata": {},
   "outputs": [
    {
     "data": {
      "text/plain": [
       "((64, 192), (64, 64))"
      ]
     },
     "execution_count": 329,
     "metadata": {},
     "output_type": "execute_result"
    }
   ],
   "source": [
    "W_KQV = attn.in_proj_weight.detach().numpy().T\n",
    "W_out = attn.out_proj.weight.detach().numpy().T\n",
    "\n",
    "W_KQV.shape, W_out.shape"
   ]
  },
  {
   "cell_type": "code",
   "execution_count": 330,
   "metadata": {},
   "outputs": [
    {
     "data": {
      "text/plain": [
       "((50, 100, 64), (50, 4, 100, 100))"
      ]
     },
     "execution_count": 330,
     "metadata": {},
     "output_type": "execute_result"
    }
   ],
   "source": [
    "Y, A = multihead_attention(X=X.numpy(), mask=mask.numpy(), heads=heads, W_KQV=W_KQV, W_out=W_out) \n",
    "Y.shape, A.shape"
   ]
  },
  {
   "cell_type": "markdown",
   "metadata": {},
   "source": [
    "A note on the the attention matrix:"
   ]
  },
  {
   "cell_type": "code",
   "execution_count": 331,
   "metadata": {},
   "outputs": [
    {
     "data": {
      "text/plain": [
       "(50, 4, 100, 100)"
      ]
     },
     "execution_count": 331,
     "metadata": {},
     "output_type": "execute_result"
    }
   ],
   "source": [
    "# Custom attention matrix shape (B, heads, T, T)\n",
    "A.shape"
   ]
  },
  {
   "cell_type": "markdown",
   "metadata": {},
   "source": [
    "Pytorch's implementation actually returns the average attention over all the heads, so in order to compare the implementations, we have to take the average of the attention over the second axis (`heads`):"
   ]
  },
  {
   "cell_type": "code",
   "execution_count": 332,
   "metadata": {},
   "outputs": [
    {
     "data": {
      "text/plain": [
       "1.0841064e-06"
      ]
     },
     "execution_count": 332,
     "metadata": {},
     "output_type": "execute_result"
    },
    {
     "data": {
      "text/plain": [
       "1.2975037e-05"
      ]
     },
     "execution_count": 332,
     "metadata": {},
     "output_type": "execute_result"
    }
   ],
   "source": [
    "np.linalg.norm(A.mean(axis=1) - A_torch.detach().numpy())\n",
    "np.linalg.norm(Y - Y_torch.detach().numpy())"
   ]
  },
  {
   "cell_type": "markdown",
   "metadata": {},
   "source": [
    "## Transformer Block\n",
    "\n",
    "The Transformer architecture uses a series of attention mechanisms (and feedfoward layers) to process the sequence inputs:\n",
    "\n",
    "$$\n",
    "Z^{(i+1)}=\\text { Transformer }\\left(Z^{(i)}\\right)\n",
    "$$"
   ]
  },
  {
   "cell_type": "markdown",
   "metadata": {},
   "source": [
    "<center>\n",
    "\n",
    "<img height=400 width=350 src='data:image/png;base64,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'>\n",
    "\n",
    "</center>"
   ]
  },
  {
   "cell_type": "markdown",
   "metadata": {},
   "source": [
    "In more detail, the Transformer block has the following form:\n",
    "\n",
    "$$\n",
    "\\begin{aligned}\n",
    "\\tilde{Z}:&=\\operatorname{SelfAttention}\\left(Z^{(i)} W_K, Z^{(i)} W_Q, Z^{(i)} W_V\\right) \\\\\n",
    "&=\\operatorname{softmax}\\left(\\frac{Z^{(i)} W_K W_Q^T Z^{(i)^T}}{d^{1 / 2}}\\right) Z^{(i)} W_V \\\\\n",
    "\\tilde{Z}:&=\\operatorname{LayerNorm}\\left(Z^{(i)}+\\tilde{Z}\\right) \\\\\n",
    "Z^{(i+1)}:&=\\operatorname{LayerNorm}(\\operatorname{ReLU}(\\tilde{Z} W)+\\tilde{Z})\n",
    "\\end{aligned}\n",
    "$$"
   ]
  },
  {
   "cell_type": "markdown",
   "metadata": {},
   "source": [
    "<center>\n",
    "\n",
    "<img height=400 width=150 src='data:image/png;base64,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'>\n",
    "\n",
    "</center>"
   ]
  },
  {
   "cell_type": "code",
   "execution_count": 361,
   "metadata": {},
   "outputs": [],
   "source": [
    "\n",
    "def layer_norm(Z: np.ndarray, eps: float = 1e-9) -> np.ndarray:\n",
    "    \"\"\"\n",
    "    Apply layer normalization to the input tensor Z.\n",
    "\n",
    "    Parameters\n",
    "    ----------\n",
    "    Z : np.ndarray\n",
    "        Input tensor to normalize.\n",
    "    eps : float, optional\n",
    "        A small number to prevent division by zero in normalization.\n",
    "\n",
    "    Returns\n",
    "    -------\n",
    "    np.ndarray\n",
    "        Normalized tensor.\n",
    "    \"\"\"\n",
    "    return (Z - Z.mean(axis=-1, keepdims=True)) / np.sqrt(Z.var(axis=-1, keepdims=True) + eps)\n",
    "\n",
    "def relu(Z: np.ndarray) -> np.ndarray:\n",
    "    \"\"\"\n",
    "    Apply the ReLU activation function element-wise on the input tensor Z.\n",
    "\n",
    "    Parameters\n",
    "    ----------\n",
    "    Z : np.ndarray\n",
    "        Input tensor.\n",
    "\n",
    "    Returns\n",
    "    -------\n",
    "    np.ndarray\n",
    "        Tensor with ReLU activation applied.\n",
    "    \"\"\"\n",
    "    return np.maximum(Z, 0)\n",
    "\n",
    "def transformer(X: np.ndarray, mask: np.ndarray, heads: int, W_KQV: np.ndarray, W_out: np.ndarray, W_ff1: np.ndarray, W_ff2: np.ndarray, eps: float = 1e-9) -> np.ndarray:\n",
    "    \"\"\"\n",
    "    Apply the transformer block on the input tensor X.\n",
    "\n",
    "    Parameters\n",
    "    ----------\n",
    "    X : np.ndarray\n",
    "        Input tensor.\n",
    "    mask : np.ndarray\n",
    "        Attention mask.\n",
    "    heads : int\n",
    "        Number of attention heads.\n",
    "    W_KQV : np.ndarray\n",
    "        Weight matrix for keys, queries, and values.\n",
    "    W_out : np.ndarray\n",
    "        Output weight matrix.\n",
    "    W_ff1 : np.ndarray\n",
    "        First feedforward weight matrix.\n",
    "    W_ff2 : np.ndarray\n",
    "        Second feedforward weight matrix.\n",
    "    eps : float, optional\n",
    "        A small number to prevent division by zero in normalization.\n",
    "\n",
    "    Returns\n",
    "    -------\n",
    "    np.ndarray\n",
    "        Tensor after applying the transformer block.\n",
    "    \"\"\"\n",
    "    # Note that multihead_attention()[0] returns the attention output and + X is the residual connection\n",
    "    Z = layer_norm(multihead_attention(X, mask, heads, W_KQV, W_out)[0] + X, eps)\n",
    "    return layer_norm(Z + relu(Z @ W_ff1) @ W_ff2, eps)"
   ]
  },
  {
   "cell_type": "markdown",
   "metadata": {},
   "source": [
    "### Reference Implementation with Pytorch"
   ]
  },
  {
   "cell_type": "code",
   "execution_count": 372,
   "metadata": {},
   "outputs": [],
   "source": [
    "d, heads, dim_feedforward, dropout, eps = 64, 8, 128, 0.0, 1e-6\n",
    "X = torch.randn(B, T, d)\n",
    "mask = torch.triu(input=-np.inf * torch.ones(T, T), diagonal=1)"
   ]
  },
  {
   "cell_type": "code",
   "execution_count": 373,
   "metadata": {},
   "outputs": [
    {
     "data": {
      "text/plain": [
       "tensor([0., 0., 0., 0., 0., 0., 0., 0., 0., 0., 0., 0., 0., 0., 0., 0., 0., 0., 0., 0., 0., 0., 0., 0.,\n",
       "        0., 0., 0., 0., 0., 0., 0., 0., 0., 0., 0., 0., 0., 0., 0., 0., 0., 0., 0., 0., 0., 0., 0., 0.,\n",
       "        0., 0., 0., 0., 0., 0., 0., 0., 0., 0., 0., 0., 0., 0., 0., 0., 0., 0., 0., 0., 0., 0., 0., 0.,\n",
       "        0., 0., 0., 0., 0., 0., 0., 0., 0., 0., 0., 0., 0., 0., 0., 0., 0., 0., 0., 0., 0., 0., 0., 0.,\n",
       "        0., 0., 0., 0., 0., 0., 0., 0., 0., 0., 0., 0., 0., 0., 0., 0., 0., 0., 0., 0., 0., 0., 0., 0.,\n",
       "        0., 0., 0., 0., 0., 0., 0., 0.])"
      ]
     },
     "execution_count": 373,
     "metadata": {},
     "output_type": "execute_result"
    },
    {
     "data": {
      "text/plain": [
       "tensor([0., 0., 0., 0., 0., 0., 0., 0., 0., 0., 0., 0., 0., 0., 0., 0., 0., 0., 0., 0., 0., 0., 0., 0.,\n",
       "        0., 0., 0., 0., 0., 0., 0., 0., 0., 0., 0., 0., 0., 0., 0., 0., 0., 0., 0., 0., 0., 0., 0., 0.,\n",
       "        0., 0., 0., 0., 0., 0., 0., 0., 0., 0., 0., 0., 0., 0., 0., 0.])"
      ]
     },
     "execution_count": 373,
     "metadata": {},
     "output_type": "execute_result"
    }
   ],
   "source": [
    "trans = nn.TransformerEncoderLayer(\n",
    "    d_model=d,\n",
    "    nhead=heads,\n",
    "    dim_feedforward=dim_feedforward,\n",
    "    dropout=dropout,\n",
    "    activation='relu',\n",
    "    batch_first=True\n",
    ")\n",
    "\n",
    "# Remove biases from the transformer since our custom implementation does not use them\n",
    "trans.linear1.bias.data.zero_()\n",
    "trans.linear2.bias.data.zero_()\n",
    "\n",
    "Y_torch = trans(X, mask)"
   ]
  },
  {
   "cell_type": "markdown",
   "metadata": {},
   "source": [
    "### Custom Implementation"
   ]
  },
  {
   "cell_type": "code",
   "execution_count": 374,
   "metadata": {},
   "outputs": [
    {
     "name": "stdout",
     "output_type": "stream",
     "text": [
      "W_KQV shape: (64, 192)\n",
      "W_out shape: (64, 64)\n",
      "W_ff1 shape: (64, 128)\n",
      "W_ff2 shape: (128, 64)\n"
     ]
    }
   ],
   "source": [
    "# Add B and heads dimension to mask\n",
    "mask = mask.unsqueeze(0).unsqueeze(1).repeat(B, heads, 1, 1)\n",
    "\n",
    "W_KQV = trans.self_attn.in_proj_weight.detach().numpy().T\n",
    "W_out = trans.self_attn.out_proj.weight.detach().numpy().T\n",
    "W_ff1 = trans.linear1.weight.detach().numpy().T\n",
    "W_ff2 = trans.linear2.weight.detach().numpy().T\n",
    "\n",
    "print(f'W_KQV shape: {W_KQV.shape}')\n",
    "print(f'W_out shape: {W_out.shape}')\n",
    "print(f'W_ff1 shape: {W_ff1.shape}')\n",
    "print(f'W_ff2 shape: {W_ff2.shape}')"
   ]
  },
  {
   "cell_type": "code",
   "execution_count": 375,
   "metadata": {},
   "outputs": [],
   "source": [
    "Y = transformer(\n",
    "    X=X.numpy(),\n",
    "    mask=mask.numpy(),\n",
    "    heads=heads,\n",
    "    W_KQV=W_KQV,\n",
    "    W_out=W_out,\n",
    "    W_ff1=W_ff1,\n",
    "    W_ff2=W_ff2,\n",
    "    eps=trans.norm1.eps\n",
    ")"
   ]
  },
  {
   "cell_type": "code",
   "execution_count": 376,
   "metadata": {},
   "outputs": [
    {
     "data": {
      "text/plain": [
       "6.402576e-05"
      ]
     },
     "execution_count": 376,
     "metadata": {},
     "output_type": "execute_result"
    }
   ],
   "source": [
    "np.linalg.norm(Y - Y_torch.detach().numpy())"
   ]
  },
  {
   "cell_type": "markdown",
   "metadata": {},
   "source": [
    "## Efficient Transformers\n",
    "\n",
    "Since the Transformer was first proposed, there have been endless attempts made to make different \"efficient\" versions of the operation. The key drawback of transformers, we have seen, is that they require forming a the $T \\times T$ attention matrix and multiplying by $V$ (an $O\\left(T^2 d\\right)$ operation)\n",
    "\n",
    "$$\n",
    "\\operatorname{softmax}\\left(\\frac{K Q^T}{\\sqrt{d}}\\right) V\n",
    "$$\n",
    "\n",
    "If $T$ is much larger than $d$ (e.g., the sequence is very long, then this operation is quite costly).\n",
    "There are essentially two approaches to making the approach more efficient: by attempting the represent the attention matrix\n",
    "\n",
    "$$\n",
    "A=\\operatorname{softmax}\\left(\\frac{K Q^T}{\\sqrt{d}}\\right)\n",
    "$$\n",
    "\n",
    "either using sparsity or using low rank structure. In general, of course, this matrix neither sparse nor low rank. But we could simply dictate, for example, that we will only compute some subset of the attention weights, thereby decreasing the number of inner products we need to perform (this is the basis of the so-called \"Sparse Attention\" layer: similar approaches have been proposed a number of times, but this is one such example). Alternatively, one could try to infer some kind of hard sparsity by e.g., triangle inequalities or other similar instances (because, remember, we are computing what amounts to a similarly metric between the $x$ terms at different times).\n",
    "\n",
    "Alternatively, we could try to represent $A$ in low rank form instead. To see why this could be appealing, consider the case where we don't have a softmax operation at all, but instead used the \"attention\" layer\n",
    "\n",
    "$$\n",
    "\\left(\\frac{K Q^T}{\\sqrt{d}}\\right) V\n",
    "$$\n",
    "\n",
    "In this case, if $T \\gg d$, we could instead perform our multiplication in the order $K\\left(Q^T V\\right)$, which would only have complexity $O\\left(T d^2\\right)$, potentially much smaller. And some papers advocate for this very thing, or alternatively try to find a low-rank representation of the actual attention weights, to similar effects."
   ]
  }
 ],
 "metadata": {
  "kernelspec": {
   "display_name": "python_for_machine_learning",
   "language": "python",
   "name": "python3"
  },
  "language_info": {
   "codemirror_mode": {
    "name": "ipython",
    "version": 3
   },
   "file_extension": ".py",
   "mimetype": "text/x-python",
   "name": "python",
   "nbconvert_exporter": "python",
   "pygments_lexer": "ipython3",
   "version": "3.9.12"
  },
  "orig_nbformat": 4
 },
 "nbformat": 4,
 "nbformat_minor": 2
}
