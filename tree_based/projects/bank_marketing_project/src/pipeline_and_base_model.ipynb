{
 "cells": [
  {
   "cell_type": "code",
   "execution_count": null,
   "metadata": {},
   "outputs": [
    {
     "name": "stderr",
     "output_type": "stream",
     "text": [
      "<frozen importlib._bootstrap>:228: RuntimeWarning: scipy._lib.messagestream.MessageStream size changed, may indicate binary incompatibility. Expected 56 from C header, got 64 from PyObject\n"
     ]
    },
    {
     "name": "stdout",
     "output_type": "stream",
     "text": [
      "XGB Version 1.7.2\n"
     ]
    }
   ],
   "source": [
    "# Interactive\n",
    "from IPython.core.interactiveshell import InteractiveShell\n",
    "\n",
    "InteractiveShell.ast_node_interactivity = \"all\"\n",
    "\n",
    "# Standard library\n",
    "import warnings\n",
    "\n",
    "import joblib\n",
    "\n",
    "# Data\n",
    "import numpy as np\n",
    "import pandas as pd\n",
    "\n",
    "# Custom transformers\n",
    "import transformers as tfs\n",
    "import xgboost as xgb\n",
    "from sklearn.feature_selection import RFE\n",
    "from sklearn.metrics import (\n",
    "    accuracy_score,\n",
    "    balanced_accuracy_score,\n",
    "    f1_score,\n",
    "    log_loss,\n",
    "    make_scorer,\n",
    ")\n",
    "from sklearn.model_selection import (\n",
    "    HalvingRandomSearchCV,\n",
    "    ParameterGrid,\n",
    "    StratifiedKFold,\n",
    ")\n",
    "\n",
    "# Visualization\n",
    "# Machine Learning\n",
    "from sklearn.pipeline import Pipeline\n",
    "from sklearn.preprocessing import FunctionTransformer, LabelEncoder\n",
    "from sklearn.tree import DecisionTreeClassifier\n",
    "\n",
    "print(\"XGB Version\", xgb.__version__)"
   ]
  },
  {
   "attachments": {},
   "cell_type": "markdown",
   "metadata": {},
   "source": [
    "## Global Settings"
   ]
  },
  {
   "cell_type": "code",
   "execution_count": 3,
   "metadata": {},
   "outputs": [],
   "source": [
    "# Random state\n",
    "seed = 12\n",
    "rs = np.random.RandomState(seed)\n",
    "\n",
    "# Train and test data paths\n",
    "train_path = \"../data/train_test/\"\n",
    "test_path = \"../data/train_test/\"\n",
    "\n",
    "# Other paths\n",
    "model_path = \"../outputs/models/\"\n",
    "plot_path = \"../outputs/plots/\"\n",
    "\n",
    "# K-fold\n",
    "folds = 5\n",
    "\n",
    "# Top x important features to visualize\n",
    "top_num_features = 20\n",
    "\n",
    "warnings.filterwarnings(\"ignore\")"
   ]
  },
  {
   "attachments": {},
   "cell_type": "markdown",
   "metadata": {},
   "source": [
    "## Data"
   ]
  },
  {
   "cell_type": "code",
   "execution_count": 4,
   "metadata": {},
   "outputs": [],
   "source": [
    "train_X, train_y = (\n",
    "    pd.read_parquet(train_path + \"train_X.parquet\"),\n",
    "    pd.read_parquet(train_path + \"train_y.parquet\").to_numpy().ravel(),\n",
    ")\n",
    "test_X, test_y = (\n",
    "    pd.read_parquet(test_path + \"test_X.parquet\"),\n",
    "    pd.read_parquet(test_path + \"test_y.parquet\").to_numpy().ravel(),\n",
    ")"
   ]
  },
  {
   "cell_type": "code",
   "execution_count": 5,
   "metadata": {},
   "outputs": [
    {
     "data": {
      "text/plain": [
       "((32950, 20), (32950,))"
      ]
     },
     "execution_count": 5,
     "metadata": {},
     "output_type": "execute_result"
    }
   ],
   "source": [
    "train_X.shape, train_y.shape"
   ]
  },
  {
   "cell_type": "code",
   "execution_count": 6,
   "metadata": {},
   "outputs": [
    {
     "data": {
      "text/plain": [
       "((8238, 20), (8238,))"
      ]
     },
     "execution_count": 6,
     "metadata": {},
     "output_type": "execute_result"
    }
   ],
   "source": [
    "test_X.shape, test_y.shape"
   ]
  },
  {
   "attachments": {},
   "cell_type": "markdown",
   "metadata": {},
   "source": [
    "## Pipeline\n",
    "\n",
    "We create the following pipelines:\n",
    "\n",
    "* There are no explicit missing values in both the training and test data; in addition, xgboost can handle missing values by default. However, if we expect future unseen data to contain missing values that need special handling, then we may need to invest in writing and testing additional custom transformers to include in the preprocessing steps.\n",
    "\n",
    "* Because the learners are trees, it isn't necessary to perform feature scaling or normalization."
   ]
  },
  {
   "cell_type": "code",
   "execution_count": 7,
   "metadata": {},
   "outputs": [],
   "source": [
    "preprocessor = Pipeline(\n",
    "    [\n",
    "        (\"drop_duration\", tfs.ColumnDropperTransformer([\"duration\"])),\n",
    "        (\n",
    "            \"cat_feature_engineer\",\n",
    "            FunctionTransformer(tfs.cat_feature_engineer, validate=False),\n",
    "        ),  # One hyperparameter: encode_type\n",
    "        (\n",
    "            \"num_feature_engineer\",\n",
    "            FunctionTransformer(tfs.num_feature_engineer, validate=False),\n",
    "        ),  # One hyperparameter: switch\n",
    "        (\n",
    "            \"recursive_feature_selection\",\n",
    "            RFE(\n",
    "                DecisionTreeClassifier(random_state=rs),\n",
    "                n_features_to_select=0.5,\n",
    "                step=0.2,\n",
    "                verbose=0,\n",
    "            ),\n",
    "        ),\n",
    "    ]\n",
    ")\n",
    "label_encoder = LabelEncoder()"
   ]
  },
  {
   "cell_type": "code",
   "execution_count": 8,
   "metadata": {},
   "outputs": [
    {
     "data": {
      "text/plain": [
       "['../outputs/pipeline/preprocessor.joblib']"
      ]
     },
     "execution_count": 8,
     "metadata": {},
     "output_type": "execute_result"
    },
    {
     "data": {
      "text/plain": [
       "['../outputs/pipeline/label_encoder.joblib']"
      ]
     },
     "execution_count": 8,
     "metadata": {},
     "output_type": "execute_result"
    }
   ],
   "source": [
    "# Write preprocessor and label encoder to disk for later use\n",
    "joblib.dump(preprocessor, \"../outputs/pipeline/preprocessor.joblib\")\n",
    "joblib.dump(label_encoder, \"../outputs/pipeline/label_encoder.joblib\")"
   ]
  },
  {
   "cell_type": "code",
   "execution_count": null,
   "metadata": {},
   "outputs": [],
   "source": [
    "train_y = label_encoder.fit_transform(train_y)\n",
    "test_y = label_encoder.transform(test_y)\n",
    "train_y, test_y"
   ]
  },
  {
   "attachments": {},
   "cell_type": "markdown",
   "metadata": {},
   "source": [
    "Next, we construct a final modeling pipeline that includes the gradient-boosting classifier, which we can pass into grid search. Note that the `eval_metric` parameter below is assumed to be a cost function and by default XGBoost will minimize the result during early stopping. This is not the same the `scoring` parameter commonly used in scikit-learn."
   ]
  },
  {
   "cell_type": "code",
   "execution_count": 69,
   "metadata": {},
   "outputs": [
    {
     "data": {
      "text/plain": [
       "['../outputs/pipeline/modeling_pipeline.joblib']"
      ]
     },
     "execution_count": 69,
     "metadata": {},
     "output_type": "execute_result"
    },
    {
     "data": {
      "text/html": [
       "<style>#sk-container-id-3 {color: black;background-color: white;}#sk-container-id-3 pre{padding: 0;}#sk-container-id-3 div.sk-toggleable {background-color: white;}#sk-container-id-3 label.sk-toggleable__label {cursor: pointer;display: block;width: 100%;margin-bottom: 0;padding: 0.3em;box-sizing: border-box;text-align: center;}#sk-container-id-3 label.sk-toggleable__label-arrow:before {content: \"▸\";float: left;margin-right: 0.25em;color: #696969;}#sk-container-id-3 label.sk-toggleable__label-arrow:hover:before {color: black;}#sk-container-id-3 div.sk-estimator:hover label.sk-toggleable__label-arrow:before {color: black;}#sk-container-id-3 div.sk-toggleable__content {max-height: 0;max-width: 0;overflow: hidden;text-align: left;background-color: #f0f8ff;}#sk-container-id-3 div.sk-toggleable__content pre {margin: 0.2em;color: black;border-radius: 0.25em;background-color: #f0f8ff;}#sk-container-id-3 input.sk-toggleable__control:checked~div.sk-toggleable__content {max-height: 200px;max-width: 100%;overflow: auto;}#sk-container-id-3 input.sk-toggleable__control:checked~label.sk-toggleable__label-arrow:before {content: \"▾\";}#sk-container-id-3 div.sk-estimator input.sk-toggleable__control:checked~label.sk-toggleable__label {background-color: #d4ebff;}#sk-container-id-3 div.sk-label input.sk-toggleable__control:checked~label.sk-toggleable__label {background-color: #d4ebff;}#sk-container-id-3 input.sk-hidden--visually {border: 0;clip: rect(1px 1px 1px 1px);clip: rect(1px, 1px, 1px, 1px);height: 1px;margin: -1px;overflow: hidden;padding: 0;position: absolute;width: 1px;}#sk-container-id-3 div.sk-estimator {font-family: monospace;background-color: #f0f8ff;border: 1px dotted black;border-radius: 0.25em;box-sizing: border-box;margin-bottom: 0.5em;}#sk-container-id-3 div.sk-estimator:hover {background-color: #d4ebff;}#sk-container-id-3 div.sk-parallel-item::after {content: \"\";width: 100%;border-bottom: 1px solid gray;flex-grow: 1;}#sk-container-id-3 div.sk-label:hover label.sk-toggleable__label {background-color: #d4ebff;}#sk-container-id-3 div.sk-serial::before {content: \"\";position: absolute;border-left: 1px solid gray;box-sizing: border-box;top: 0;bottom: 0;left: 50%;z-index: 0;}#sk-container-id-3 div.sk-serial {display: flex;flex-direction: column;align-items: center;background-color: white;padding-right: 0.2em;padding-left: 0.2em;position: relative;}#sk-container-id-3 div.sk-item {position: relative;z-index: 1;}#sk-container-id-3 div.sk-parallel {display: flex;align-items: stretch;justify-content: center;background-color: white;position: relative;}#sk-container-id-3 div.sk-item::before, #sk-container-id-3 div.sk-parallel-item::before {content: \"\";position: absolute;border-left: 1px solid gray;box-sizing: border-box;top: 0;bottom: 0;left: 50%;z-index: -1;}#sk-container-id-3 div.sk-parallel-item {display: flex;flex-direction: column;z-index: 1;position: relative;background-color: white;}#sk-container-id-3 div.sk-parallel-item:first-child::after {align-self: flex-end;width: 50%;}#sk-container-id-3 div.sk-parallel-item:last-child::after {align-self: flex-start;width: 50%;}#sk-container-id-3 div.sk-parallel-item:only-child::after {width: 0;}#sk-container-id-3 div.sk-dashed-wrapped {border: 1px dashed gray;margin: 0 0.4em 0.5em 0.4em;box-sizing: border-box;padding-bottom: 0.4em;background-color: white;}#sk-container-id-3 div.sk-label label {font-family: monospace;font-weight: bold;display: inline-block;line-height: 1.2em;}#sk-container-id-3 div.sk-label-container {text-align: center;}#sk-container-id-3 div.sk-container {/* jupyter's `normalize.less` sets `[hidden] { display: none; }` but bootstrap.min.css set `[hidden] { display: none !important; }` so we also need the `!important` here to be able to override the default hidden behavior on the sphinx rendered scikit-learn.org. See: https://github.com/scikit-learn/scikit-learn/issues/21755 */display: inline-block !important;position: relative;}#sk-container-id-3 div.sk-text-repr-fallback {display: none;}</style><div id=\"sk-container-id-3\" class=\"sk-top-container\"><div class=\"sk-text-repr-fallback\"><pre>Pipeline(steps=[(&#x27;preprocessor&#x27;,\n",
       "                 Pipeline(steps=[(&#x27;drop_duration&#x27;,\n",
       "                                  ColumnDropperTransformer(columns=[&#x27;duration&#x27;])),\n",
       "                                 (&#x27;cat_feature_engineer&#x27;,\n",
       "                                  FunctionTransformer(func=&lt;function cat_feature_engineer at 0x171ace040&gt;)),\n",
       "                                 (&#x27;num_feature_engineer&#x27;,\n",
       "                                  FunctionTransformer(func=&lt;function num_feature_engineer at 0x171ace280&gt;)),\n",
       "                                 (&#x27;recursive_feature_selection&#x27;,\n",
       "                                  RFE(estimator=De...\n",
       "                               grow_policy=None, importance_type=None,\n",
       "                               interaction_constraints=None, learning_rate=None,\n",
       "                               max_bin=None, max_cat_threshold=None,\n",
       "                               max_cat_to_onehot=None, max_delta_step=None,\n",
       "                               max_depth=None, max_leaves=None,\n",
       "                               min_child_weight=None, missing=nan,\n",
       "                               monotone_constraints=None, n_estimators=100,\n",
       "                               n_jobs=-1, num_parallel_tree=None,\n",
       "                               predictor=None, random_state=1601311818, ...))])</pre><b>In a Jupyter environment, please rerun this cell to show the HTML representation or trust the notebook. <br />On GitHub, the HTML representation is unable to render, please try loading this page with nbviewer.org.</b></div><div class=\"sk-container\" hidden><div class=\"sk-item sk-dashed-wrapped\"><div class=\"sk-label-container\"><div class=\"sk-label sk-toggleable\"><input class=\"sk-toggleable__control sk-hidden--visually\" id=\"sk-estimator-id-19\" type=\"checkbox\" ><label for=\"sk-estimator-id-19\" class=\"sk-toggleable__label sk-toggleable__label-arrow\">Pipeline</label><div class=\"sk-toggleable__content\"><pre>Pipeline(steps=[(&#x27;preprocessor&#x27;,\n",
       "                 Pipeline(steps=[(&#x27;drop_duration&#x27;,\n",
       "                                  ColumnDropperTransformer(columns=[&#x27;duration&#x27;])),\n",
       "                                 (&#x27;cat_feature_engineer&#x27;,\n",
       "                                  FunctionTransformer(func=&lt;function cat_feature_engineer at 0x171ace040&gt;)),\n",
       "                                 (&#x27;num_feature_engineer&#x27;,\n",
       "                                  FunctionTransformer(func=&lt;function num_feature_engineer at 0x171ace280&gt;)),\n",
       "                                 (&#x27;recursive_feature_selection&#x27;,\n",
       "                                  RFE(estimator=De...\n",
       "                               grow_policy=None, importance_type=None,\n",
       "                               interaction_constraints=None, learning_rate=None,\n",
       "                               max_bin=None, max_cat_threshold=None,\n",
       "                               max_cat_to_onehot=None, max_delta_step=None,\n",
       "                               max_depth=None, max_leaves=None,\n",
       "                               min_child_weight=None, missing=nan,\n",
       "                               monotone_constraints=None, n_estimators=100,\n",
       "                               n_jobs=-1, num_parallel_tree=None,\n",
       "                               predictor=None, random_state=1601311818, ...))])</pre></div></div></div><div class=\"sk-serial\"><div class=\"sk-item\"><div class=\"sk-label-container\"><div class=\"sk-label sk-toggleable\"><input class=\"sk-toggleable__control sk-hidden--visually\" id=\"sk-estimator-id-20\" type=\"checkbox\" ><label for=\"sk-estimator-id-20\" class=\"sk-toggleable__label sk-toggleable__label-arrow\">preprocessor: Pipeline</label><div class=\"sk-toggleable__content\"><pre>Pipeline(steps=[(&#x27;drop_duration&#x27;,\n",
       "                 ColumnDropperTransformer(columns=[&#x27;duration&#x27;])),\n",
       "                (&#x27;cat_feature_engineer&#x27;,\n",
       "                 FunctionTransformer(func=&lt;function cat_feature_engineer at 0x171ace040&gt;)),\n",
       "                (&#x27;num_feature_engineer&#x27;,\n",
       "                 FunctionTransformer(func=&lt;function num_feature_engineer at 0x171ace280&gt;)),\n",
       "                (&#x27;recursive_feature_selection&#x27;,\n",
       "                 RFE(estimator=DecisionTreeClassifier(random_state=RandomState(MT19937) at 0x172596540),\n",
       "                     n_features_to_select=0.5, step=0.2))])</pre></div></div></div><div class=\"sk-serial\"><div class=\"sk-item\"><div class=\"sk-estimator sk-toggleable\"><input class=\"sk-toggleable__control sk-hidden--visually\" id=\"sk-estimator-id-21\" type=\"checkbox\" ><label for=\"sk-estimator-id-21\" class=\"sk-toggleable__label sk-toggleable__label-arrow\">ColumnDropperTransformer</label><div class=\"sk-toggleable__content\"><pre>ColumnDropperTransformer(columns=[&#x27;duration&#x27;])</pre></div></div></div><div class=\"sk-item\"><div class=\"sk-estimator sk-toggleable\"><input class=\"sk-toggleable__control sk-hidden--visually\" id=\"sk-estimator-id-22\" type=\"checkbox\" ><label for=\"sk-estimator-id-22\" class=\"sk-toggleable__label sk-toggleable__label-arrow\">FunctionTransformer</label><div class=\"sk-toggleable__content\"><pre>FunctionTransformer(func=&lt;function cat_feature_engineer at 0x171ace040&gt;)</pre></div></div></div><div class=\"sk-item\"><div class=\"sk-estimator sk-toggleable\"><input class=\"sk-toggleable__control sk-hidden--visually\" id=\"sk-estimator-id-23\" type=\"checkbox\" ><label for=\"sk-estimator-id-23\" class=\"sk-toggleable__label sk-toggleable__label-arrow\">FunctionTransformer</label><div class=\"sk-toggleable__content\"><pre>FunctionTransformer(func=&lt;function num_feature_engineer at 0x171ace280&gt;)</pre></div></div></div><div class=\"sk-item sk-dashed-wrapped\"><div class=\"sk-label-container\"><div class=\"sk-label sk-toggleable\"><input class=\"sk-toggleable__control sk-hidden--visually\" id=\"sk-estimator-id-24\" type=\"checkbox\" ><label for=\"sk-estimator-id-24\" class=\"sk-toggleable__label sk-toggleable__label-arrow\">recursive_feature_selection: RFE</label><div class=\"sk-toggleable__content\"><pre>RFE(estimator=DecisionTreeClassifier(random_state=RandomState(MT19937) at 0x172596540),\n",
       "    n_features_to_select=0.5, step=0.2)</pre></div></div></div><div class=\"sk-parallel\"><div class=\"sk-parallel-item\"><div class=\"sk-item\"><div class=\"sk-label-container\"><div class=\"sk-label sk-toggleable\"><input class=\"sk-toggleable__control sk-hidden--visually\" id=\"sk-estimator-id-25\" type=\"checkbox\" ><label for=\"sk-estimator-id-25\" class=\"sk-toggleable__label sk-toggleable__label-arrow\">estimator: DecisionTreeClassifier</label><div class=\"sk-toggleable__content\"><pre>DecisionTreeClassifier(random_state=RandomState(MT19937) at 0x172596540)</pre></div></div></div><div class=\"sk-serial\"><div class=\"sk-item\"><div class=\"sk-estimator sk-toggleable\"><input class=\"sk-toggleable__control sk-hidden--visually\" id=\"sk-estimator-id-26\" type=\"checkbox\" ><label for=\"sk-estimator-id-26\" class=\"sk-toggleable__label sk-toggleable__label-arrow\">DecisionTreeClassifier</label><div class=\"sk-toggleable__content\"><pre>DecisionTreeClassifier(random_state=RandomState(MT19937) at 0x172596540)</pre></div></div></div></div></div></div></div></div></div></div><div class=\"sk-item\"><div class=\"sk-estimator sk-toggleable\"><input class=\"sk-toggleable__control sk-hidden--visually\" id=\"sk-estimator-id-27\" type=\"checkbox\" ><label for=\"sk-estimator-id-27\" class=\"sk-toggleable__label sk-toggleable__label-arrow\">XGBClassifier</label><div class=\"sk-toggleable__content\"><pre>XGBClassifier(base_score=None, booster=&#x27;gbtree&#x27;, callbacks=None,\n",
       "              colsample_bylevel=None, colsample_bynode=None,\n",
       "              colsample_bytree=None, early_stopping_rounds=None,\n",
       "              enable_categorical=False,\n",
       "              eval_metric=make_scorer(log_loss, labels=[0, 1]),\n",
       "              feature_types=None, gamma=None, gpu_id=None, grow_policy=None,\n",
       "              importance_type=None, interaction_constraints=None,\n",
       "              learning_rate=None, max_bin=None, max_cat_threshold=None,\n",
       "              max_cat_to_onehot=None, max_delta_step=None, max_depth=None,\n",
       "              max_leaves=None, min_child_weight=None, missing=nan,\n",
       "              monotone_constraints=None, n_estimators=100, n_jobs=-1,\n",
       "              num_parallel_tree=None, predictor=None, random_state=1907932429, ...)</pre></div></div></div></div></div></div></div>"
      ],
      "text/plain": [
       "Pipeline(steps=[('preprocessor',\n",
       "                 Pipeline(steps=[('drop_duration',\n",
       "                                  ColumnDropperTransformer(columns=['duration'])),\n",
       "                                 ('cat_feature_engineer',\n",
       "                                  FunctionTransformer(func=<function cat_feature_engineer at 0x171ace040>)),\n",
       "                                 ('num_feature_engineer',\n",
       "                                  FunctionTransformer(func=<function num_feature_engineer at 0x171ace280>)),\n",
       "                                 ('recursive_feature_selection',\n",
       "                                  RFE(estimator=De...\n",
       "                               grow_policy=None, importance_type=None,\n",
       "                               interaction_constraints=None, learning_rate=None,\n",
       "                               max_bin=None, max_cat_threshold=None,\n",
       "                               max_cat_to_onehot=None, max_delta_step=None,\n",
       "                               max_depth=None, max_leaves=None,\n",
       "                               min_child_weight=None, missing=nan,\n",
       "                               monotone_constraints=None, n_estimators=100,\n",
       "                               n_jobs=-1, num_parallel_tree=None,\n",
       "                               predictor=None, random_state=1505292720, ...))])"
      ]
     },
     "execution_count": 69,
     "metadata": {},
     "output_type": "execute_result"
    }
   ],
   "source": [
    "# We will fix these xgboost classifier parameters\n",
    "fixed_params = {\n",
    "    \"objective\": \"binary:logistic\",\n",
    "    \"booster\": \"gbtree\",\n",
    "    \"verbosity\": 1,\n",
    "    \"random_state\": rs,\n",
    "    \"n_jobs\": -1,\n",
    "    \"eval_metric\": make_scorer(\n",
    "        log_loss, labels=[0, 1]\n",
    "    ),  # More robust to imbalance, used for monitoring the training result and early stopping\n",
    "}\n",
    "\n",
    "modeling_pipe = Pipeline(\n",
    "    [\n",
    "        (\n",
    "            \"preprocessor\",\n",
    "            preprocessor,\n",
    "        ),  # This step is in and of itself a pipeline (nested) which needs special handling in GridSearchCV\n",
    "        (\"classifier\", xgb.XGBClassifier(**fixed_params)),\n",
    "    ]\n",
    ")\n",
    "joblib.dump(modeling_pipe, \"../outputs/pipeline/modeling_pipeline.joblib\")\n",
    "modeling_pipe"
   ]
  },
  {
   "attachments": {},
   "cell_type": "markdown",
   "metadata": {},
   "source": [
    "Due to the nested nature of the pipeline, it will be easier to see the entire list of parameters with their tags, so we can select the hyperparameter we need to include in a grid search. "
   ]
  },
  {
   "cell_type": "code",
   "execution_count": 70,
   "metadata": {},
   "outputs": [
    {
     "data": {
      "text/plain": [
       "86"
      ]
     },
     "execution_count": 70,
     "metadata": {},
     "output_type": "execute_result"
    }
   ],
   "source": [
    "hp = sorted(modeling_pipe.get_params().keys())\n",
    "len(hp)"
   ]
  },
  {
   "cell_type": "code",
   "execution_count": 71,
   "metadata": {},
   "outputs": [
    {
     "data": {
      "text/plain": [
       "['classifier',\n",
       " 'classifier__base_score',\n",
       " 'classifier__booster',\n",
       " 'classifier__callbacks',\n",
       " 'classifier__colsample_bylevel',\n",
       " 'classifier__colsample_bynode',\n",
       " 'classifier__colsample_bytree',\n",
       " 'classifier__early_stopping_rounds',\n",
       " 'classifier__enable_categorical',\n",
       " 'classifier__eval_metric',\n",
       " 'classifier__feature_types',\n",
       " 'classifier__gamma',\n",
       " 'classifier__gpu_id',\n",
       " 'classifier__grow_policy',\n",
       " 'classifier__importance_type',\n",
       " 'classifier__interaction_constraints',\n",
       " 'classifier__learning_rate',\n",
       " 'classifier__max_bin',\n",
       " 'classifier__max_cat_threshold',\n",
       " 'classifier__max_cat_to_onehot',\n",
       " 'classifier__max_delta_step',\n",
       " 'classifier__max_depth',\n",
       " 'classifier__max_leaves',\n",
       " 'classifier__min_child_weight',\n",
       " 'classifier__missing',\n",
       " 'classifier__monotone_constraints',\n",
       " 'classifier__n_estimators',\n",
       " 'classifier__n_jobs',\n",
       " 'classifier__num_parallel_tree',\n",
       " 'classifier__objective',\n",
       " 'classifier__predictor',\n",
       " 'classifier__random_state',\n",
       " 'classifier__reg_alpha',\n",
       " 'classifier__reg_lambda',\n",
       " 'classifier__sampling_method',\n",
       " 'classifier__scale_pos_weight',\n",
       " 'classifier__subsample',\n",
       " 'classifier__tree_method',\n",
       " 'classifier__use_label_encoder',\n",
       " 'classifier__validate_parameters',\n",
       " 'classifier__verbosity',\n",
       " 'memory',\n",
       " 'preprocessor',\n",
       " 'preprocessor__cat_feature_engineer',\n",
       " 'preprocessor__cat_feature_engineer__accept_sparse',\n",
       " 'preprocessor__cat_feature_engineer__check_inverse',\n",
       " 'preprocessor__cat_feature_engineer__feature_names_out',\n",
       " 'preprocessor__cat_feature_engineer__func',\n",
       " 'preprocessor__cat_feature_engineer__inv_kw_args',\n",
       " 'preprocessor__cat_feature_engineer__inverse_func',\n",
       " 'preprocessor__cat_feature_engineer__kw_args',\n",
       " 'preprocessor__cat_feature_engineer__validate',\n",
       " 'preprocessor__drop_duration',\n",
       " 'preprocessor__drop_duration__columns',\n",
       " 'preprocessor__memory',\n",
       " 'preprocessor__num_feature_engineer',\n",
       " 'preprocessor__num_feature_engineer__accept_sparse',\n",
       " 'preprocessor__num_feature_engineer__check_inverse',\n",
       " 'preprocessor__num_feature_engineer__feature_names_out',\n",
       " 'preprocessor__num_feature_engineer__func',\n",
       " 'preprocessor__num_feature_engineer__inv_kw_args',\n",
       " 'preprocessor__num_feature_engineer__inverse_func',\n",
       " 'preprocessor__num_feature_engineer__kw_args',\n",
       " 'preprocessor__num_feature_engineer__validate',\n",
       " 'preprocessor__recursive_feature_selection',\n",
       " 'preprocessor__recursive_feature_selection__estimator',\n",
       " 'preprocessor__recursive_feature_selection__estimator__ccp_alpha',\n",
       " 'preprocessor__recursive_feature_selection__estimator__class_weight',\n",
       " 'preprocessor__recursive_feature_selection__estimator__criterion',\n",
       " 'preprocessor__recursive_feature_selection__estimator__max_depth',\n",
       " 'preprocessor__recursive_feature_selection__estimator__max_features',\n",
       " 'preprocessor__recursive_feature_selection__estimator__max_leaf_nodes',\n",
       " 'preprocessor__recursive_feature_selection__estimator__min_impurity_decrease',\n",
       " 'preprocessor__recursive_feature_selection__estimator__min_samples_leaf',\n",
       " 'preprocessor__recursive_feature_selection__estimator__min_samples_split',\n",
       " 'preprocessor__recursive_feature_selection__estimator__min_weight_fraction_leaf',\n",
       " 'preprocessor__recursive_feature_selection__estimator__random_state',\n",
       " 'preprocessor__recursive_feature_selection__estimator__splitter',\n",
       " 'preprocessor__recursive_feature_selection__importance_getter',\n",
       " 'preprocessor__recursive_feature_selection__n_features_to_select',\n",
       " 'preprocessor__recursive_feature_selection__step',\n",
       " 'preprocessor__recursive_feature_selection__verbose',\n",
       " 'preprocessor__steps',\n",
       " 'preprocessor__verbose',\n",
       " 'steps',\n",
       " 'verbose']"
      ]
     },
     "execution_count": 71,
     "metadata": {},
     "output_type": "execute_result"
    }
   ],
   "source": [
    "hp"
   ]
  },
  {
   "attachments": {},
   "cell_type": "markdown",
   "metadata": {},
   "source": [
    "## Hyperparameter Tuning\n",
    "\n",
    "We will first use halving grid search cv to try to find the best combination of hyperparameter for the gradient boosting classifier. Note again, this is done without any over or under-sampling. We will conduct another CV to validate our model once we have solidified a list of parameters to use for the classifier."
   ]
  },
  {
   "cell_type": "code",
   "execution_count": 72,
   "metadata": {},
   "outputs": [],
   "source": [
    "# Grid of hyperparameter values\n",
    "param_grid = {\n",
    "    # XGBoost hyperparameter to tune\n",
    "    \"classifier__learning_rate\": [0.0001, 0.001, 0.01, 0.1],\n",
    "    \"classifier__n_estimators\": list(range(50, 350, 50)),  # Number of trees\n",
    "    \"classifier__max_depth\": list(range(3, 11, 2)),  # Tree size\n",
    "    \"classifier__gamma\": [0, 3],  # Regularization complexity\n",
    "    \"classifier__colsample_bytree\": [\n",
    "        0.4,\n",
    "        0.6,\n",
    "        0.8,\n",
    "        1.0,\n",
    "    ],  # Subsample ratio of columns (features) when constructing each tree\n",
    "    \"classifier__subsample\": [\n",
    "        0.5,\n",
    "        0.75,\n",
    "        1.0,\n",
    "    ],  # Subsample ratio of the rows (training instances) to safeguard against overfitting\n",
    "}"
   ]
  },
  {
   "attachments": {},
   "cell_type": "markdown",
   "metadata": {},
   "source": [
    "The total number of models that could be trained is $k$ (k fold csv) times total number of parameters (product of all values in the grid):"
   ]
  },
  {
   "cell_type": "code",
   "execution_count": 73,
   "metadata": {},
   "outputs": [
    {
     "data": {
      "text/plain": [
       "11520"
      ]
     },
     "execution_count": 73,
     "metadata": {},
     "output_type": "execute_result"
    }
   ],
   "source": [
    "len(ParameterGrid(param_grid=param_grid)) * folds"
   ]
  },
  {
   "attachments": {},
   "cell_type": "markdown",
   "metadata": {},
   "source": [
    "The randomized halving grid search uses successive halving to reduce the training time. Note that the `XGBClassifier` estimator has its own `score` method, which would be used if no `scoring` argument is specified below. "
   ]
  },
  {
   "cell_type": "code",
   "execution_count": 74,
   "metadata": {},
   "outputs": [
    {
     "name": "stdout",
     "output_type": "stream",
     "text": [
      "n_iterations: 7\n",
      "n_required_iterations: 7\n",
      "n_possible_iterations: 7\n",
      "min_resources_: 20\n",
      "max_resources_: 32950\n",
      "aggressive_elimination: False\n",
      "factor: 3\n",
      "----------\n",
      "iter: 0\n",
      "n_candidates: 1647\n",
      "n_resources: 20\n",
      "Fitting 5 folds for each of 1647 candidates, totalling 8235 fits\n"
     ]
    },
    {
     "name": "stderr",
     "output_type": "stream",
     "text": [
      "<frozen importlib._bootstrap>:228: RuntimeWarning: scipy._lib.messagestream.MessageStream size changed, may indicate binary incompatibility. Expected 56 from C header, got 64 from PyObject\n",
      "<frozen importlib._bootstrap>:228: RuntimeWarning: scipy._lib.messagestream.MessageStream size changed, may indicate binary incompatibility. Expected 56 from C header, got 64 from PyObject\n",
      "<frozen importlib._bootstrap>:228: RuntimeWarning: scipy._lib.messagestream.MessageStream size changed, may indicate binary incompatibility. Expected 56 from C header, got 64 from PyObject\n",
      "<frozen importlib._bootstrap>:228: RuntimeWarning: scipy._lib.messagestream.MessageStream size changed, may indicate binary incompatibility. Expected 56 from C header, got 64 from PyObject\n",
      "<frozen importlib._bootstrap>:228: RuntimeWarning: scipy._lib.messagestream.MessageStream size changed, may indicate binary incompatibility. Expected 56 from C header, got 64 from PyObject\n",
      "<frozen importlib._bootstrap>:228: RuntimeWarning: scipy._lib.messagestream.MessageStream size changed, may indicate binary incompatibility. Expected 56 from C header, got 64 from PyObject\n",
      "<frozen importlib._bootstrap>:228: RuntimeWarning: scipy._lib.messagestream.MessageStream size changed, may indicate binary incompatibility. Expected 56 from C header, got 64 from PyObject\n",
      "<frozen importlib._bootstrap>:228: RuntimeWarning: scipy._lib.messagestream.MessageStream size changed, may indicate binary incompatibility. Expected 56 from C header, got 64 from PyObject\n"
     ]
    },
    {
     "name": "stdout",
     "output_type": "stream",
     "text": [
      "----------\n",
      "iter: 1\n",
      "n_candidates: 549\n",
      "n_resources: 60\n",
      "Fitting 5 folds for each of 549 candidates, totalling 2745 fits\n",
      "----------\n",
      "iter: 2\n",
      "n_candidates: 183\n",
      "n_resources: 180\n",
      "Fitting 5 folds for each of 183 candidates, totalling 915 fits\n",
      "----------\n",
      "iter: 3\n",
      "n_candidates: 61\n",
      "n_resources: 540\n",
      "Fitting 5 folds for each of 61 candidates, totalling 305 fits\n",
      "----------\n",
      "iter: 4\n",
      "n_candidates: 21\n",
      "n_resources: 1620\n",
      "Fitting 5 folds for each of 21 candidates, totalling 105 fits\n",
      "----------\n",
      "iter: 5\n",
      "n_candidates: 7\n",
      "n_resources: 4860\n",
      "Fitting 5 folds for each of 7 candidates, totalling 35 fits\n",
      "----------\n",
      "iter: 6\n",
      "n_candidates: 3\n",
      "n_resources: 14580\n",
      "Fitting 5 folds for each of 3 candidates, totalling 15 fits\n"
     ]
    }
   ],
   "source": [
    "search = HalvingRandomSearchCV(\n",
    "    estimator=modeling_pipe,\n",
    "    param_distributions=param_grid,\n",
    "    cv=StratifiedKFold(n_splits=folds),\n",
    "    scoring=make_scorer(\n",
    "        f1_score, average=\"weighted\", labels=[0, 1], zero_division=0\n",
    "    ),  # Alters 'macro f1' to be more robust to class imbalance\n",
    "    refit=True,  # Get best estimator upon completion\n",
    "    random_state=rs,\n",
    "    verbose=1,\n",
    "    n_jobs=-1,  # Use all processors\n",
    ").fit(train_X, train_y)"
   ]
  },
  {
   "cell_type": "code",
   "execution_count": 76,
   "metadata": {},
   "outputs": [
    {
     "data": {
      "text/plain": [
       "['../outputs/models/baseline_model.joblib.dat']"
      ]
     },
     "execution_count": 76,
     "metadata": {},
     "output_type": "execute_result"
    }
   ],
   "source": [
    "# Save base model to disk\n",
    "joblib.dump(\n",
    "    search.best_estimator_[\"classifier\"], model_path + \"baseline_model.joblib.dat\"\n",
    ")"
   ]
  },
  {
   "cell_type": "code",
   "execution_count": 78,
   "metadata": {},
   "outputs": [
    {
     "data": {
      "text/plain": [
       "['../outputs/pipeline/tuned_pipeline_trained.joblib']"
      ]
     },
     "execution_count": 78,
     "metadata": {},
     "output_type": "execute_result"
    }
   ],
   "source": [
    "# Save stored pipeline\n",
    "joblib.dump(search, \"../outputs/pipeline/tuned_pipeline_trained.joblib\")"
   ]
  },
  {
   "cell_type": "code",
   "execution_count": 79,
   "metadata": {},
   "outputs": [
    {
     "data": {
      "text/plain": [
       "(xgboost.sklearn.XGBClassifier,\n",
       " sklearn.pipeline.Pipeline,\n",
       " sklearn.feature_selection._rfe.RFE)"
      ]
     },
     "execution_count": 79,
     "metadata": {},
     "output_type": "execute_result"
    }
   ],
   "source": [
    "# Best model whose parameters we will use to run manual k-fold cross validation\n",
    "model = search.best_estimator_[\"classifier\"]\n",
    "# Preprocessor trained on training data, which we can use to transform test data\n",
    "preprocessor_trained = search.best_estimator_[\"preprocessor\"]\n",
    "# Trained rfe for getting the feature names\n",
    "rfe_trained = search.best_estimator_[\"preprocessor\"][\"recursive_feature_selection\"]\n",
    "type(model), type(preprocessor_trained), type(rfe_trained)"
   ]
  },
  {
   "attachments": {},
   "cell_type": "markdown",
   "metadata": {},
   "source": [
    "## Quick Evaluation\n",
    "\n",
    "We can examine the `model` returned by the randomized halving grid search. We are not evaluating the model in a robust way (via CV) just yet, but we can get a preliminary sense of how this model is performing."
   ]
  },
  {
   "cell_type": "code",
   "execution_count": 133,
   "metadata": {},
   "outputs": [
    {
     "data": {
      "text/plain": [
       "0.5854556818717864"
      ]
     },
     "execution_count": 133,
     "metadata": {},
     "output_type": "execute_result"
    }
   ],
   "source": [
    "balanced = balanced_accuracy_score(\n",
    "    y_true=test_y,\n",
    "    y_pred=model.predict(preprocessor_trained.transform(test_X)),\n",
    "    adjusted=False,\n",
    ")\n",
    "balanced"
   ]
  },
  {
   "attachments": {},
   "cell_type": "markdown",
   "metadata": {},
   "source": [
    "Alternatively, we can set adjusted to true. With `adjusted=True`, balanced accuracy reports the relative increase from balanced accuracy.\n",
    "\n",
    "* When true, the result is adjusted for chance, so that random performance would score 0, while keeping perfect performance at a score of 1. \n",
    "  \n",
    "* In the binary case, this is also known as *Youden’s J statistic*, or informedness. \n",
    "\n",
    "* Instead of taking values from 0 to 1, setting `adjusted=True` rescales the range of the score from $\\frac{1}{1-\\text{number of classes}}=-1$ (number of classes is 2 in our case) to 1."
   ]
  },
  {
   "cell_type": "code",
   "execution_count": 134,
   "metadata": {},
   "outputs": [
    {
     "data": {
      "text/plain": [
       "0.17091136374357285"
      ]
     },
     "execution_count": 134,
     "metadata": {},
     "output_type": "execute_result"
    }
   ],
   "source": [
    "balanced_adj = balanced_accuracy_score(\n",
    "    y_true=test_y,\n",
    "    y_pred=model.predict(preprocessor_trained.transform(test_X)),\n",
    "    adjusted=True,\n",
    ")\n",
    "balanced_adj"
   ]
  },
  {
   "attachments": {},
   "cell_type": "markdown",
   "metadata": {},
   "source": [
    "Compare these to the simple accuracy score:"
   ]
  },
  {
   "cell_type": "code",
   "execution_count": 107,
   "metadata": {},
   "outputs": [
    {
     "data": {
      "text/plain": [
       "0.898761835396941"
      ]
     },
     "execution_count": 107,
     "metadata": {},
     "output_type": "execute_result"
    }
   ],
   "source": [
    "accuracy_score(\n",
    "    y_true=test_y,\n",
    "    y_pred=model.predict(preprocessor_trained.transform(test_X)),\n",
    ")"
   ]
  },
  {
   "cell_type": "code",
   "execution_count": 108,
   "metadata": {},
   "outputs": [
    {
     "data": {
      "text/plain": [
       "0.898761835396941"
      ]
     },
     "execution_count": 108,
     "metadata": {},
     "output_type": "execute_result"
    }
   ],
   "source": [
    "# Using the estimator's own scoring function\n",
    "model.score(X=preprocessor_trained.transform(test_X), y=test_y)"
   ]
  },
  {
   "attachments": {},
   "cell_type": "markdown",
   "metadata": {},
   "source": [
    "Finally, we can compare this to the zero rule benchmark which simply predicts the most frequently occurring classification in a set of data."
   ]
  },
  {
   "cell_type": "code",
   "execution_count": 114,
   "metadata": {},
   "outputs": [
    {
     "data": {
      "text/plain": [
       "0"
      ]
     },
     "execution_count": 114,
     "metadata": {},
     "output_type": "execute_result"
    },
    {
     "data": {
      "text/plain": [
       "array([0, 0, 0, ..., 0, 0, 0])"
      ]
     },
     "execution_count": 114,
     "metadata": {},
     "output_type": "execute_result"
    }
   ],
   "source": [
    "# A classifier that always predicts the majority class (0)\n",
    "test_y_zeror = np.zeros_like(test_y)\n",
    "test_y_zeror.sum()\n",
    "test_y_zeror"
   ]
  },
  {
   "cell_type": "code",
   "execution_count": 136,
   "metadata": {},
   "outputs": [
    {
     "name": "stdout",
     "output_type": "stream",
     "text": [
      "Balanced accuracy (majority class classifier): 0.5 \n",
      "Balanced accuracy (boosted tree): 0.5855 \n",
      "Balanced accuracy (majority class classifier adjusted for chance): 0.0 \n",
      "Balanced accuracy (boosted tree adjusted for change): 0.1709\n"
     ]
    }
   ],
   "source": [
    "print(\n",
    "    f\"Balanced accuracy (majority class classifier): {balanced_accuracy_score(y_true=test_y, y_pred=test_y_zeror, adjusted=False)}\",\n",
    "    f\"\\nBalanced accuracy (boosted tree): {balanced.round(4)}\",\n",
    "    f\"\\nBalanced accuracy (majority class classifier adjusted for chance): {balanced_accuracy_score(y_true=test_y, y_pred=test_y_zeror, adjusted=True)}\",\n",
    "    f\"\\nBalanced accuracy (boosted tree adjusted for change): {balanced_adj.round(4)}\",\n",
    ")"
   ]
  },
  {
   "attachments": {},
   "cell_type": "markdown",
   "metadata": {},
   "source": [
    "As can be seen, our model outperforms that zero rule, but perhaps only slightly."
   ]
  },
  {
   "attachments": {},
   "cell_type": "markdown",
   "metadata": {},
   "source": [
    "## Quick Feature Importance\n",
    "\n",
    "We would like to examine the feature importance plot to evaluate how successful our feature engineering was. Below, we plot the top 20 importance features:"
   ]
  },
  {
   "cell_type": "code",
   "execution_count": 148,
   "metadata": {},
   "outputs": [
    {
     "data": {
      "text/html": [
       "<div>\n",
       "<style scoped>\n",
       "    .dataframe tbody tr th:only-of-type {\n",
       "        vertical-align: middle;\n",
       "    }\n",
       "\n",
       "    .dataframe tbody tr th {\n",
       "        vertical-align: top;\n",
       "    }\n",
       "\n",
       "    .dataframe thead th {\n",
       "        text-align: right;\n",
       "    }\n",
       "</style>\n",
       "<table border=\"1\" class=\"dataframe\">\n",
       "  <thead>\n",
       "    <tr style=\"text-align: right;\">\n",
       "      <th></th>\n",
       "      <th>feat_name</th>\n",
       "      <th>gains</th>\n",
       "    </tr>\n",
       "  </thead>\n",
       "  <tbody>\n",
       "    <tr>\n",
       "      <th>1</th>\n",
       "      <td>marital</td>\n",
       "      <td>0.000000</td>\n",
       "    </tr>\n",
       "    <tr>\n",
       "      <th>42</th>\n",
       "      <td>poutcome_std</td>\n",
       "      <td>0.000000</td>\n",
       "    </tr>\n",
       "    <tr>\n",
       "      <th>41</th>\n",
       "      <td>previous_max</td>\n",
       "      <td>0.000000</td>\n",
       "    </tr>\n",
       "    <tr>\n",
       "      <th>31</th>\n",
       "      <td>month_last</td>\n",
       "      <td>0.000000</td>\n",
       "    </tr>\n",
       "    <tr>\n",
       "      <th>4</th>\n",
       "      <td>housing</td>\n",
       "      <td>0.003098</td>\n",
       "    </tr>\n",
       "    <tr>\n",
       "      <th>51</th>\n",
       "      <td>euribor3m_min</td>\n",
       "      <td>0.004959</td>\n",
       "    </tr>\n",
       "    <tr>\n",
       "      <th>2</th>\n",
       "      <td>education</td>\n",
       "      <td>0.005317</td>\n",
       "    </tr>\n",
       "    <tr>\n",
       "      <th>34</th>\n",
       "      <td>day_of_week_last</td>\n",
       "      <td>0.005543</td>\n",
       "    </tr>\n",
       "    <tr>\n",
       "      <th>0</th>\n",
       "      <td>job</td>\n",
       "      <td>0.005660</td>\n",
       "    </tr>\n",
       "    <tr>\n",
       "      <th>27</th>\n",
       "      <td>loan_std</td>\n",
       "      <td>0.005954</td>\n",
       "    </tr>\n",
       "    <tr>\n",
       "      <th>52</th>\n",
       "      <td>euribor3m_last</td>\n",
       "      <td>0.006007</td>\n",
       "    </tr>\n",
       "    <tr>\n",
       "      <th>28</th>\n",
       "      <td>contact_mean</td>\n",
       "      <td>0.006070</td>\n",
       "    </tr>\n",
       "    <tr>\n",
       "      <th>29</th>\n",
       "      <td>month_mean</td>\n",
       "      <td>0.006326</td>\n",
       "    </tr>\n",
       "    <tr>\n",
       "      <th>5</th>\n",
       "      <td>loan</td>\n",
       "      <td>0.006419</td>\n",
       "    </tr>\n",
       "    <tr>\n",
       "      <th>37</th>\n",
       "      <td>campaign_max</td>\n",
       "      <td>0.006507</td>\n",
       "    </tr>\n",
       "    <tr>\n",
       "      <th>44</th>\n",
       "      <td>emp_var_rate_std</td>\n",
       "      <td>0.006568</td>\n",
       "    </tr>\n",
       "    <tr>\n",
       "      <th>23</th>\n",
       "      <td>education_std</td>\n",
       "      <td>0.006599</td>\n",
       "    </tr>\n",
       "    <tr>\n",
       "      <th>33</th>\n",
       "      <td>day_of_week_std</td>\n",
       "      <td>0.006609</td>\n",
       "    </tr>\n",
       "    <tr>\n",
       "      <th>38</th>\n",
       "      <td>campaign_last</td>\n",
       "      <td>0.006697</td>\n",
       "    </tr>\n",
       "    <tr>\n",
       "      <th>32</th>\n",
       "      <td>day_of_week_mean</td>\n",
       "      <td>0.006962</td>\n",
       "    </tr>\n",
       "    <tr>\n",
       "      <th>45</th>\n",
       "      <td>cons_price_idx_mean</td>\n",
       "      <td>0.006965</td>\n",
       "    </tr>\n",
       "    <tr>\n",
       "      <th>36</th>\n",
       "      <td>campaign_std</td>\n",
       "      <td>0.007020</td>\n",
       "    </tr>\n",
       "    <tr>\n",
       "      <th>26</th>\n",
       "      <td>loan_mean</td>\n",
       "      <td>0.007477</td>\n",
       "    </tr>\n",
       "    <tr>\n",
       "      <th>19</th>\n",
       "      <td>job_std</td>\n",
       "      <td>0.007499</td>\n",
       "    </tr>\n",
       "    <tr>\n",
       "      <th>24</th>\n",
       "      <td>housing_mean</td>\n",
       "      <td>0.007855</td>\n",
       "    </tr>\n",
       "    <tr>\n",
       "      <th>22</th>\n",
       "      <td>education_mean</td>\n",
       "      <td>0.008073</td>\n",
       "    </tr>\n",
       "    <tr>\n",
       "      <th>47</th>\n",
       "      <td>cons_price_idx_last</td>\n",
       "      <td>0.008115</td>\n",
       "    </tr>\n",
       "    <tr>\n",
       "      <th>25</th>\n",
       "      <td>housing_std</td>\n",
       "      <td>0.008129</td>\n",
       "    </tr>\n",
       "    <tr>\n",
       "      <th>9</th>\n",
       "      <td>campaign</td>\n",
       "      <td>0.008351</td>\n",
       "    </tr>\n",
       "    <tr>\n",
       "      <th>35</th>\n",
       "      <td>campaign_mean</td>\n",
       "      <td>0.008503</td>\n",
       "    </tr>\n",
       "    <tr>\n",
       "      <th>50</th>\n",
       "      <td>cons_conf_idx_last</td>\n",
       "      <td>0.008672</td>\n",
       "    </tr>\n",
       "    <tr>\n",
       "      <th>18</th>\n",
       "      <td>job_mean</td>\n",
       "      <td>0.008913</td>\n",
       "    </tr>\n",
       "    <tr>\n",
       "      <th>48</th>\n",
       "      <td>cons_conf_idx_mean</td>\n",
       "      <td>0.009368</td>\n",
       "    </tr>\n",
       "    <tr>\n",
       "      <th>11</th>\n",
       "      <td>previous</td>\n",
       "      <td>0.009450</td>\n",
       "    </tr>\n",
       "    <tr>\n",
       "      <th>8</th>\n",
       "      <td>day_of_week</td>\n",
       "      <td>0.009636</td>\n",
       "    </tr>\n",
       "    <tr>\n",
       "      <th>20</th>\n",
       "      <td>marital_mean</td>\n",
       "      <td>0.010754</td>\n",
       "    </tr>\n",
       "    <tr>\n",
       "      <th>21</th>\n",
       "      <td>marital_std</td>\n",
       "      <td>0.010934</td>\n",
       "    </tr>\n",
       "    <tr>\n",
       "      <th>53</th>\n",
       "      <td>nr_employed_std</td>\n",
       "      <td>0.011057</td>\n",
       "    </tr>\n",
       "    <tr>\n",
       "      <th>43</th>\n",
       "      <td>emp_var_rate_mean</td>\n",
       "      <td>0.012128</td>\n",
       "    </tr>\n",
       "    <tr>\n",
       "      <th>14</th>\n",
       "      <td>cons_price_idx</td>\n",
       "      <td>0.012387</td>\n",
       "    </tr>\n",
       "    <tr>\n",
       "      <th>30</th>\n",
       "      <td>month_std</td>\n",
       "      <td>0.012575</td>\n",
       "    </tr>\n",
       "    <tr>\n",
       "      <th>6</th>\n",
       "      <td>contact</td>\n",
       "      <td>0.012639</td>\n",
       "    </tr>\n",
       "    <tr>\n",
       "      <th>49</th>\n",
       "      <td>cons_conf_idx_std</td>\n",
       "      <td>0.017683</td>\n",
       "    </tr>\n",
       "    <tr>\n",
       "      <th>46</th>\n",
       "      <td>cons_price_idx_std</td>\n",
       "      <td>0.019092</td>\n",
       "    </tr>\n",
       "    <tr>\n",
       "      <th>3</th>\n",
       "      <td>default</td>\n",
       "      <td>0.019846</td>\n",
       "    </tr>\n",
       "    <tr>\n",
       "      <th>39</th>\n",
       "      <td>pdays_mean</td>\n",
       "      <td>0.025157</td>\n",
       "    </tr>\n",
       "    <tr>\n",
       "      <th>40</th>\n",
       "      <td>previous_std</td>\n",
       "      <td>0.029019</td>\n",
       "    </tr>\n",
       "    <tr>\n",
       "      <th>15</th>\n",
       "      <td>cons_conf_idx</td>\n",
       "      <td>0.031965</td>\n",
       "    </tr>\n",
       "    <tr>\n",
       "      <th>7</th>\n",
       "      <td>month</td>\n",
       "      <td>0.038059</td>\n",
       "    </tr>\n",
       "    <tr>\n",
       "      <th>12</th>\n",
       "      <td>poutcome</td>\n",
       "      <td>0.042168</td>\n",
       "    </tr>\n",
       "    <tr>\n",
       "      <th>10</th>\n",
       "      <td>pdays</td>\n",
       "      <td>0.047819</td>\n",
       "    </tr>\n",
       "    <tr>\n",
       "      <th>13</th>\n",
       "      <td>emp_var_rate</td>\n",
       "      <td>0.066625</td>\n",
       "    </tr>\n",
       "    <tr>\n",
       "      <th>16</th>\n",
       "      <td>euribor3m</td>\n",
       "      <td>0.068651</td>\n",
       "    </tr>\n",
       "    <tr>\n",
       "      <th>17</th>\n",
       "      <td>nr_employed</td>\n",
       "      <td>0.292123</td>\n",
       "    </tr>\n",
       "  </tbody>\n",
       "</table>\n",
       "</div>"
      ],
      "text/plain": [
       "              feat_name     gains\n",
       "1               marital  0.000000\n",
       "42         poutcome_std  0.000000\n",
       "41         previous_max  0.000000\n",
       "31           month_last  0.000000\n",
       "4               housing  0.003098\n",
       "51        euribor3m_min  0.004959\n",
       "2             education  0.005317\n",
       "34     day_of_week_last  0.005543\n",
       "0                   job  0.005660\n",
       "27             loan_std  0.005954\n",
       "52       euribor3m_last  0.006007\n",
       "28         contact_mean  0.006070\n",
       "29           month_mean  0.006326\n",
       "5                  loan  0.006419\n",
       "37         campaign_max  0.006507\n",
       "44     emp_var_rate_std  0.006568\n",
       "23        education_std  0.006599\n",
       "33      day_of_week_std  0.006609\n",
       "38        campaign_last  0.006697\n",
       "32     day_of_week_mean  0.006962\n",
       "45  cons_price_idx_mean  0.006965\n",
       "36         campaign_std  0.007020\n",
       "26            loan_mean  0.007477\n",
       "19              job_std  0.007499\n",
       "24         housing_mean  0.007855\n",
       "22       education_mean  0.008073\n",
       "47  cons_price_idx_last  0.008115\n",
       "25          housing_std  0.008129\n",
       "9              campaign  0.008351\n",
       "35        campaign_mean  0.008503\n",
       "50   cons_conf_idx_last  0.008672\n",
       "18             job_mean  0.008913\n",
       "48   cons_conf_idx_mean  0.009368\n",
       "11             previous  0.009450\n",
       "8           day_of_week  0.009636\n",
       "20         marital_mean  0.010754\n",
       "21          marital_std  0.010934\n",
       "53      nr_employed_std  0.011057\n",
       "43    emp_var_rate_mean  0.012128\n",
       "14       cons_price_idx  0.012387\n",
       "30            month_std  0.012575\n",
       "6               contact  0.012639\n",
       "49    cons_conf_idx_std  0.017683\n",
       "46   cons_price_idx_std  0.019092\n",
       "3               default  0.019846\n",
       "39           pdays_mean  0.025157\n",
       "40         previous_std  0.029019\n",
       "15        cons_conf_idx  0.031965\n",
       "7                 month  0.038059\n",
       "12             poutcome  0.042168\n",
       "10                pdays  0.047819\n",
       "13         emp_var_rate  0.066625\n",
       "16            euribor3m  0.068651\n",
       "17          nr_employed  0.292123"
      ]
     },
     "execution_count": 148,
     "metadata": {},
     "output_type": "execute_result"
    }
   ],
   "source": [
    "feat_imp = pd.DataFrame(\n",
    "    {\n",
    "        \"feat_name\": rfe_trained.get_feature_names_out(),\n",
    "        \"gains\": model.feature_importances_,\n",
    "    }\n",
    ")\n",
    "feat_imp.sort_values(by=\"gains\", ascending=True, inplace=True)\n",
    "feat_imp"
   ]
  },
  {
   "cell_type": "code",
   "execution_count": 171,
   "metadata": {},
   "outputs": [
    {
     "data": {
      "text/plain": [
       "<AxesSubplot:ylabel='feat_name'>"
      ]
     },
     "execution_count": 171,
     "metadata": {},
     "output_type": "execute_result"
    },
    {
     "data": {
      "image/png": "[encoded data removed]",
      "text/plain": [
       "<Figure size 1080x936 with 1 Axes>"
      ]
     },
     "metadata": {
      "needs_background": "light"
     },
     "output_type": "display_data"
    }
   ],
   "source": [
    "# Plot\n",
    "feat_imp.iloc[-top_num_features:].plot(\n",
    "    kind=\"barh\", x=\"feat_name\", y=\"gains\", figsize=(15, 13), legend=False\n",
    ")"
   ]
  },
  {
   "attachments": {},
   "cell_type": "markdown",
   "metadata": {},
   "source": [
    "Some of our engineered features certainly made it up the list. For instance, we can compute the percentage of engineered features among the top 20 most important features:"
   ]
  },
  {
   "cell_type": "code",
   "execution_count": 186,
   "metadata": {},
   "outputs": [
    {
     "name": "stdout",
     "output_type": "stream",
     "text": [
      "45% of the top 20 features are engineered from numerical features, not including count of categorical features\n"
     ]
    }
   ],
   "source": [
    "top_names = feat_imp.iloc[-top_num_features:].feat_name.to_list()\n",
    "num_eng_feat = len(\n",
    "    [\n",
    "        name\n",
    "        for name in top_names\n",
    "        if any(map(name.__contains__, [\"_mean\", \"_std\", \"_last\", \"_max\", \"_min\"]))\n",
    "    ]\n",
    ")\n",
    "print(\n",
    "    f\"{int(((num_eng_feat / len(top_names)) * 100))}% of the top {top_num_features} features are engineered from numerical features, not including count of categorical features\"\n",
    ")"
   ]
  }
 ],
 "metadata": {
  "kernelspec": {
   "display_name": "python_for_machine_learning",
   "language": "python",
   "name": "python3"
  },
  "language_info": {
   "codemirror_mode": {
    "name": "ipython",
    "version": 3
   },
   "file_extension": ".py",
   "mimetype": "text/x-python",
   "name": "python",
   "nbconvert_exporter": "python",
   "pygments_lexer": "ipython3",
   "version": "3.9.6"
  },
  "orig_nbformat": 4,
  "vscode": {
   "interpreter": {
    "hash": "40fc6ebffc74793621f684cf09d9f3d0a501c91440a6f462aebac8d38ed47133"
   }
  }
 },
 "nbformat": 4,
 "nbformat_minor": 2
}
