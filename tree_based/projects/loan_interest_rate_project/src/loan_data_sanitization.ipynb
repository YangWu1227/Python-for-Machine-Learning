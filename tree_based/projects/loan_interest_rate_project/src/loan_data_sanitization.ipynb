{
 "cells": [
  {
   "cell_type": "code",
   "execution_count": 1,
   "id": "42f4db71",
   "metadata": {
    "_cell_guid": "b1076dfc-b9ad-4769-8c92-a6c4dae69d19",
    "_uuid": "8f2839f25d086af736a60e9eeb907d3b93b6e0e5",
    "execution": {
     "iopub.execute_input": "2023-02-11T04:18:09.289347Z",
     "iopub.status.busy": "2023-02-11T04:18:09.288435Z",
     "iopub.status.idle": "2023-02-11T04:18:12.518838Z",
     "shell.execute_reply": "2023-02-11T04:18:12.517412Z"
    },
    "papermill": {
     "duration": 3.259363,
     "end_time": "2023-02-11T04:18:12.522159",
     "exception": false,
     "start_time": "2023-02-11T04:18:09.262796",
     "status": "completed"
    },
    "tags": []
   },
   "outputs": [
    {
     "name": "stdout",
     "output_type": "stream",
     "text": [
      "Python 3.7.12\n"
     ]
    }
   ],
   "source": [
    "import pandas as pd\n",
    "import numpy as np\n",
    "import re\n",
    "\n",
    "from nltk.corpus import stopwords\n",
    "\n",
    "!python3 --version"
   ]
  },
  {
   "cell_type": "markdown",
   "id": "799c899d",
   "metadata": {
    "papermill": {
     "duration": 0.021374,
     "end_time": "2023-02-11T04:18:12.576261",
     "exception": false,
     "start_time": "2023-02-11T04:18:12.554887",
     "status": "completed"
    },
    "tags": []
   },
   "source": [
    "## Meta Data"
   ]
  },
  {
   "cell_type": "code",
   "execution_count": 2,
   "id": "1da07ec0",
   "metadata": {
    "execution": {
     "iopub.execute_input": "2023-02-11T04:18:12.621814Z",
     "iopub.status.busy": "2023-02-11T04:18:12.620923Z",
     "iopub.status.idle": "2023-02-11T04:18:12.671491Z",
     "shell.execute_reply": "2023-02-11T04:18:12.670101Z"
    },
    "papermill": {
     "duration": 0.076308,
     "end_time": "2023-02-11T04:18:12.674130",
     "exception": false,
     "start_time": "2023-02-11T04:18:12.597822",
     "status": "completed"
    },
    "tags": []
   },
   "outputs": [
    {
     "data": {
      "text/html": [
       "<div>\n",
       "<style scoped>\n",
       "    .dataframe tbody tr th:only-of-type {\n",
       "        vertical-align: middle;\n",
       "    }\n",
       "\n",
       "    .dataframe tbody tr th {\n",
       "        vertical-align: top;\n",
       "    }\n",
       "\n",
       "    .dataframe thead th {\n",
       "        text-align: right;\n",
       "    }\n",
       "</style>\n",
       "<table border=\"1\" class=\"dataframe\">\n",
       "  <thead>\n",
       "    <tr style=\"text-align: right;\">\n",
       "      <th></th>\n",
       "      <th>Variable</th>\n",
       "      <th>Definition</th>\n",
       "    </tr>\n",
       "  </thead>\n",
       "  <tbody>\n",
       "    <tr>\n",
       "      <th>0</th>\n",
       "      <td>X1</td>\n",
       "      <td>Interest Rate on the loan</td>\n",
       "    </tr>\n",
       "    <tr>\n",
       "      <th>1</th>\n",
       "      <td>X2</td>\n",
       "      <td>A unique id for the loan.</td>\n",
       "    </tr>\n",
       "    <tr>\n",
       "      <th>2</th>\n",
       "      <td>X3</td>\n",
       "      <td>A unique id assigned for the borrower.</td>\n",
       "    </tr>\n",
       "    <tr>\n",
       "      <th>3</th>\n",
       "      <td>X4</td>\n",
       "      <td>Loan amount requested</td>\n",
       "    </tr>\n",
       "    <tr>\n",
       "      <th>4</th>\n",
       "      <td>X5</td>\n",
       "      <td>Loan amount funded</td>\n",
       "    </tr>\n",
       "    <tr>\n",
       "      <th>5</th>\n",
       "      <td>X6</td>\n",
       "      <td>Investor-funded portion of loan</td>\n",
       "    </tr>\n",
       "    <tr>\n",
       "      <th>6</th>\n",
       "      <td>X7</td>\n",
       "      <td>Number of payments (36 or 60)</td>\n",
       "    </tr>\n",
       "    <tr>\n",
       "      <th>7</th>\n",
       "      <td>X8</td>\n",
       "      <td>Loan grade</td>\n",
       "    </tr>\n",
       "    <tr>\n",
       "      <th>8</th>\n",
       "      <td>X9</td>\n",
       "      <td>Loan subgrade</td>\n",
       "    </tr>\n",
       "    <tr>\n",
       "      <th>9</th>\n",
       "      <td>X10</td>\n",
       "      <td>Employer or job title (self-filled)</td>\n",
       "    </tr>\n",
       "    <tr>\n",
       "      <th>10</th>\n",
       "      <td>X11</td>\n",
       "      <td>Number of years employed (0 to 10; 10 = 10 or ...</td>\n",
       "    </tr>\n",
       "    <tr>\n",
       "      <th>11</th>\n",
       "      <td>X12</td>\n",
       "      <td>Home ownership status: RENT, OWN, MORTGAGE, OT...</td>\n",
       "    </tr>\n",
       "    <tr>\n",
       "      <th>12</th>\n",
       "      <td>X13</td>\n",
       "      <td>Annual income of borrower</td>\n",
       "    </tr>\n",
       "    <tr>\n",
       "      <th>13</th>\n",
       "      <td>X14</td>\n",
       "      <td>Income verified, not verified, or income sourc...</td>\n",
       "    </tr>\n",
       "    <tr>\n",
       "      <th>14</th>\n",
       "      <td>X15</td>\n",
       "      <td>Date loan was issued</td>\n",
       "    </tr>\n",
       "    <tr>\n",
       "      <th>15</th>\n",
       "      <td>X16</td>\n",
       "      <td>Reason for loan provided by borrower</td>\n",
       "    </tr>\n",
       "    <tr>\n",
       "      <th>16</th>\n",
       "      <td>X17</td>\n",
       "      <td>Loan category, as provided by borrower</td>\n",
       "    </tr>\n",
       "    <tr>\n",
       "      <th>17</th>\n",
       "      <td>X18</td>\n",
       "      <td>Loan title, as provided by borrower</td>\n",
       "    </tr>\n",
       "    <tr>\n",
       "      <th>18</th>\n",
       "      <td>X19</td>\n",
       "      <td>First 3 numbers of zip code</td>\n",
       "    </tr>\n",
       "    <tr>\n",
       "      <th>19</th>\n",
       "      <td>X20</td>\n",
       "      <td>State of borrower</td>\n",
       "    </tr>\n",
       "    <tr>\n",
       "      <th>20</th>\n",
       "      <td>X21</td>\n",
       "      <td>A ratio calculated using the borrower's total ...</td>\n",
       "    </tr>\n",
       "    <tr>\n",
       "      <th>21</th>\n",
       "      <td>X22</td>\n",
       "      <td>The number of 30+ days past-due incidences of ...</td>\n",
       "    </tr>\n",
       "    <tr>\n",
       "      <th>22</th>\n",
       "      <td>X23</td>\n",
       "      <td>Date the borrower's earliest reported credit l...</td>\n",
       "    </tr>\n",
       "    <tr>\n",
       "      <th>23</th>\n",
       "      <td>X24</td>\n",
       "      <td>Number of inquiries by creditors during the pa...</td>\n",
       "    </tr>\n",
       "    <tr>\n",
       "      <th>24</th>\n",
       "      <td>X25</td>\n",
       "      <td>Number of months since the borrower's last del...</td>\n",
       "    </tr>\n",
       "    <tr>\n",
       "      <th>25</th>\n",
       "      <td>X26</td>\n",
       "      <td>Number of months since the last public record.</td>\n",
       "    </tr>\n",
       "    <tr>\n",
       "      <th>26</th>\n",
       "      <td>X27</td>\n",
       "      <td>Number of open credit lines in the borrower's ...</td>\n",
       "    </tr>\n",
       "    <tr>\n",
       "      <th>27</th>\n",
       "      <td>X28</td>\n",
       "      <td>Number of derogatory public records</td>\n",
       "    </tr>\n",
       "    <tr>\n",
       "      <th>28</th>\n",
       "      <td>X29</td>\n",
       "      <td>Total credit revolving balance</td>\n",
       "    </tr>\n",
       "    <tr>\n",
       "      <th>29</th>\n",
       "      <td>X30</td>\n",
       "      <td>Revolving line utilization rate, or the amount...</td>\n",
       "    </tr>\n",
       "    <tr>\n",
       "      <th>30</th>\n",
       "      <td>X31</td>\n",
       "      <td>The total number of credit lines currently in ...</td>\n",
       "    </tr>\n",
       "    <tr>\n",
       "      <th>31</th>\n",
       "      <td>X32</td>\n",
       "      <td>The initial listing status of the loan. Possib...</td>\n",
       "    </tr>\n",
       "  </tbody>\n",
       "</table>\n",
       "</div>"
      ],
      "text/plain": [
       "   Variable                                         Definition\n",
       "0        X1                          Interest Rate on the loan\n",
       "1        X2                          A unique id for the loan.\n",
       "2        X3             A unique id assigned for the borrower.\n",
       "3        X4                              Loan amount requested\n",
       "4        X5                                 Loan amount funded\n",
       "5        X6                    Investor-funded portion of loan\n",
       "6        X7                      Number of payments (36 or 60)\n",
       "7        X8                                         Loan grade\n",
       "8        X9                                      Loan subgrade\n",
       "9       X10                Employer or job title (self-filled)\n",
       "10      X11  Number of years employed (0 to 10; 10 = 10 or ...\n",
       "11      X12  Home ownership status: RENT, OWN, MORTGAGE, OT...\n",
       "12      X13                          Annual income of borrower\n",
       "13      X14  Income verified, not verified, or income sourc...\n",
       "14      X15                               Date loan was issued\n",
       "15      X16               Reason for loan provided by borrower\n",
       "16      X17             Loan category, as provided by borrower\n",
       "17      X18                Loan title, as provided by borrower\n",
       "18      X19                        First 3 numbers of zip code\n",
       "19      X20                                  State of borrower\n",
       "20      X21  A ratio calculated using the borrower's total ...\n",
       "21      X22  The number of 30+ days past-due incidences of ...\n",
       "22      X23  Date the borrower's earliest reported credit l...\n",
       "23      X24  Number of inquiries by creditors during the pa...\n",
       "24      X25  Number of months since the borrower's last del...\n",
       "25      X26     Number of months since the last public record.\n",
       "26      X27  Number of open credit lines in the borrower's ...\n",
       "27      X28                Number of derogatory public records\n",
       "28      X29                     Total credit revolving balance\n",
       "29      X30  Revolving line utilization rate, or the amount...\n",
       "30      X31  The total number of credit lines currently in ...\n",
       "31      X32  The initial listing status of the loan. Possib..."
      ]
     },
     "execution_count": 2,
     "metadata": {},
     "output_type": "execute_result"
    }
   ],
   "source": [
    "meta_data = pd.read_csv(\n",
    "    \"/kaggle/input/loan-interest-rate-prediction-data/meta_data.csv\"\n",
    ")\n",
    "meta_data"
   ]
  },
  {
   "cell_type": "markdown",
   "id": "4ed22525",
   "metadata": {
    "papermill": {
     "duration": 0.029838,
     "end_time": "2023-02-11T04:18:12.730251",
     "exception": false,
     "start_time": "2023-02-11T04:18:12.700413",
     "status": "completed"
    },
    "tags": []
   },
   "source": [
    "## Data\n",
    "\n",
    "The training and testing data will be sanitized (not processed) before EDA, pipelining, and modeling for:\n",
    "\n",
    "* sensible column names\n",
    "\n",
    "* choosing the appropriate data type and reprsentation for each feature\n",
    "\n",
    "* cleaning the text data in categorical features\n",
    "\n",
    "    - white spaces\n",
    "    \n",
    "    - case inconsistency\n",
    "    \n",
    "    - potential entry errors\n",
    "    \n",
    "* date columns formating\n",
    "\n",
    "* removing training examples with missing values in the target\n",
    "\n",
    "If we were building a live machine learning system and we expect that the raw data will continue to come in the forms similar to these csv files, we would include all of these steps in our pipelines. \n",
    "\n",
    "For this project, however, we we only have two periods--- train time and test time. To save some preprocessing compute time, we can do some ad-hoc processing to both the train and test data at the outset before any EDA, pipelining, and modeling.\n",
    "\n",
    "**Note**: We are not applying any transformers on the test and data sets, and so there would be no data leakage. Nothing is learned from the data set yet. All the sanitization is so that we can spend more time on eda, pipelining, and modeling. "
   ]
  },
  {
   "cell_type": "code",
   "execution_count": 3,
   "id": "45d69ab1",
   "metadata": {
    "execution": {
     "iopub.execute_input": "2023-02-11T04:18:12.776990Z",
     "iopub.status.busy": "2023-02-11T04:18:12.776027Z",
     "iopub.status.idle": "2023-02-11T04:18:18.241324Z",
     "shell.execute_reply": "2023-02-11T04:18:18.240125Z"
    },
    "papermill": {
     "duration": 5.490968,
     "end_time": "2023-02-11T04:18:18.243923",
     "exception": false,
     "start_time": "2023-02-11T04:18:12.752955",
     "status": "completed"
    },
    "tags": []
   },
   "outputs": [
    {
     "data": {
      "text/plain": [
       "((400000, 32), (80000, 32))"
      ]
     },
     "execution_count": 3,
     "metadata": {},
     "output_type": "execute_result"
    }
   ],
   "source": [
    "train = pd.read_csv(\n",
    "    \"/kaggle/input/loan-interest-rate-prediction-data/train.csv\", low_memory=False\n",
    ")\n",
    "test = pd.read_csv(\"/kaggle/input/loan-interest-rate-prediction-data/test.csv\")\n",
    "train.shape, test.shape"
   ]
  },
  {
   "cell_type": "markdown",
   "id": "db808ac0",
   "metadata": {
    "papermill": {
     "duration": 0.020744,
     "end_time": "2023-02-11T04:18:18.286182",
     "exception": false,
     "start_time": "2023-02-11T04:18:18.265438",
     "status": "completed"
    },
    "tags": []
   },
   "source": [
    "## Column Rename"
   ]
  },
  {
   "cell_type": "code",
   "execution_count": 4,
   "id": "1f1cd4a2",
   "metadata": {
    "execution": {
     "iopub.execute_input": "2023-02-11T04:18:18.331756Z",
     "iopub.status.busy": "2023-02-11T04:18:18.331300Z",
     "iopub.status.idle": "2023-02-11T04:18:18.344690Z",
     "shell.execute_reply": "2023-02-11T04:18:18.343486Z"
    },
    "papermill": {
     "duration": 0.038686,
     "end_time": "2023-02-11T04:18:18.347156",
     "exception": false,
     "start_time": "2023-02-11T04:18:18.308470",
     "status": "completed"
    },
    "tags": []
   },
   "outputs": [
    {
     "data": {
      "text/plain": [
       "{'X1': 'Interest Rate on the loan',\n",
       " 'X2': 'A unique id for the loan.',\n",
       " 'X3': 'A unique id assigned for the borrower.',\n",
       " 'X4': 'Loan amount requested',\n",
       " 'X5': 'Loan amount funded',\n",
       " 'X6': 'Investor-funded portion of loan',\n",
       " 'X7': 'Number of payments (36 or 60)',\n",
       " 'X8': 'Loan grade',\n",
       " 'X9': 'Loan subgrade',\n",
       " 'X10': 'Employer or job title (self-filled)',\n",
       " 'X11': 'Number of years employed (0 to 10; 10 = 10 or more)',\n",
       " 'X12': 'Home ownership status: RENT, OWN, MORTGAGE, OTHER.',\n",
       " 'X13': 'Annual income of borrower',\n",
       " 'X14': 'Income verified, not verified, or income source was verified',\n",
       " 'X15': 'Date loan was issued',\n",
       " 'X16': 'Reason for loan provided by borrower',\n",
       " 'X17': 'Loan category, as provided by borrower',\n",
       " 'X18': 'Loan title, as provided by borrower',\n",
       " 'X19': 'First 3 numbers of zip code',\n",
       " 'X20': 'State of borrower',\n",
       " 'X21': \"A ratio calculated using the borrower's total monthly debt payments on the total debt obligations, excluding mortgage and the requested loan, divided by the borrower's self-reported monthly income.\",\n",
       " 'X22': \"The number of 30+ days past-due incidences of delinquency in the borrower's credit file for the past 2 years\",\n",
       " 'X23': \"Date the borrower's earliest reported credit line was opened\",\n",
       " 'X24': 'Number of inquiries by creditors during the past 6 months.',\n",
       " 'X25': \"Number of months since the borrower's last delinquency.\",\n",
       " 'X26': 'Number of months since the last public record.',\n",
       " 'X27': \"Number of open credit lines in the borrower's credit file.\",\n",
       " 'X28': 'Number of derogatory public records',\n",
       " 'X29': 'Total credit revolving balance',\n",
       " 'X30': 'Revolving line utilization rate, or the amount of credit the borrower is using relative to all available revolving credit.',\n",
       " 'X31': \"The total number of credit lines currently in the borrower's credit file\",\n",
       " 'X32': 'The initial listing status of the loan. Possible values are W (whole loans), F (Fractional)'}"
      ]
     },
     "execution_count": 4,
     "metadata": {},
     "output_type": "execute_result"
    }
   ],
   "source": [
    "{key: val for key, val in zip(meta_data.Variable, meta_data.Definition)}"
   ]
  },
  {
   "cell_type": "code",
   "execution_count": 5,
   "id": "275d7c15",
   "metadata": {
    "execution": {
     "iopub.execute_input": "2023-02-11T04:18:18.392668Z",
     "iopub.status.busy": "2023-02-11T04:18:18.392005Z",
     "iopub.status.idle": "2023-02-11T04:18:18.401745Z",
     "shell.execute_reply": "2023-02-11T04:18:18.400776Z"
    },
    "papermill": {
     "duration": 0.035607,
     "end_time": "2023-02-11T04:18:18.404435",
     "exception": false,
     "start_time": "2023-02-11T04:18:18.368828",
     "status": "completed"
    },
    "tags": []
   },
   "outputs": [],
   "source": [
    "rename_dict = {\n",
    "    \"X1\": \"interest_rate\",\n",
    "    \"X2\": \"id_loan\",\n",
    "    \"X3\": \"id_borrower\",\n",
    "    \"X4\": \"loan_amt_requested\",\n",
    "    \"X5\": \"loan_amt_funded\",\n",
    "    \"X6\": \"loan_amt_investor_funded_portion\",\n",
    "    \"X7\": \"num_of_payment_months\",\n",
    "    \"X8\": \"loan_grade\",\n",
    "    \"X9\": \"loan_subgrade\",\n",
    "    \"X10\": \"self_filled_employer_job_title\",\n",
    "    \"X11\": \"num_of_years_employed\",\n",
    "    \"X12\": \"home_ownership_status\",\n",
    "    \"X13\": \"borrower_annual_income\",\n",
    "    \"X14\": \"verify_income_or_source\",\n",
    "    \"X15\": \"loan_issued_date\",\n",
    "    \"X16\": \"borrower_provided_reason_for_loan\",\n",
    "    \"X17\": \"borrower_provided_loan_category\",\n",
    "    \"X18\": \"borrower_provided_loan_title\",\n",
    "    \"X19\": \"zip_first_three\",\n",
    "    \"X20\": \"borrower_state\",\n",
    "    \"X21\": \"monthly_debt_to_income_ratio\",\n",
    "    \"X22\": \"num_of_past_dues\",\n",
    "    \"X23\": \"borrower_earliest_credit_open_date\",\n",
    "    \"X24\": \"num_of_creditor_inquiries\",\n",
    "    \"X25\": \"num_of_months_since_delinquency\",\n",
    "    \"X26\": \"num_of_months_since_public_rec\",\n",
    "    \"X27\": \"num_of_open_credit_line\",\n",
    "    \"X28\": \"num_of_derog_publib_rec\",\n",
    "    \"X29\": \"total_credit_rev_balance\",\n",
    "    \"X30\": \"rev_line_util_rate\",\n",
    "    \"X31\": \"total_credit_line\",\n",
    "    \"X32\": \"init_loan_status\",\n",
    "}"
   ]
  },
  {
   "cell_type": "code",
   "execution_count": 6,
   "id": "415e2a5b",
   "metadata": {
    "execution": {
     "iopub.execute_input": "2023-02-11T04:18:18.450487Z",
     "iopub.status.busy": "2023-02-11T04:18:18.449625Z",
     "iopub.status.idle": "2023-02-11T04:18:18.460210Z",
     "shell.execute_reply": "2023-02-11T04:18:18.458914Z"
    },
    "papermill": {
     "duration": 0.036201,
     "end_time": "2023-02-11T04:18:18.462902",
     "exception": false,
     "start_time": "2023-02-11T04:18:18.426701",
     "status": "completed"
    },
    "tags": []
   },
   "outputs": [],
   "source": [
    "train.rename(columns=rename_dict, inplace=True)\n",
    "test.rename(columns=rename_dict, inplace=True)"
   ]
  },
  {
   "cell_type": "markdown",
   "id": "2192a90c",
   "metadata": {
    "papermill": {
     "duration": 0.021137,
     "end_time": "2023-02-11T04:18:18.505652",
     "exception": false,
     "start_time": "2023-02-11T04:18:18.484515",
     "status": "completed"
    },
    "tags": []
   },
   "source": [
    "## Remove Entirely Missing Rows and Rows with Missing Target "
   ]
  },
  {
   "cell_type": "markdown",
   "id": "c415f490",
   "metadata": {
    "papermill": {
     "duration": 0.021093,
     "end_time": "2023-02-11T04:18:18.548245",
     "exception": false,
     "start_time": "2023-02-11T04:18:18.527152",
     "status": "completed"
    },
    "tags": []
   },
   "source": [
    "Remove all rows with missing target value in the *training* set:"
   ]
  },
  {
   "cell_type": "code",
   "execution_count": 7,
   "id": "34de72eb",
   "metadata": {
    "execution": {
     "iopub.execute_input": "2023-02-11T04:18:18.594361Z",
     "iopub.status.busy": "2023-02-11T04:18:18.593125Z",
     "iopub.status.idle": "2023-02-11T04:18:18.622091Z",
     "shell.execute_reply": "2023-02-11T04:18:18.620785Z"
    },
    "papermill": {
     "duration": 0.055379,
     "end_time": "2023-02-11T04:18:18.625143",
     "exception": false,
     "start_time": "2023-02-11T04:18:18.569764",
     "status": "completed"
    },
    "tags": []
   },
   "outputs": [
    {
     "data": {
      "text/plain": [
       "61010"
      ]
     },
     "execution_count": 7,
     "metadata": {},
     "output_type": "execute_result"
    }
   ],
   "source": [
    "train.interest_rate.isna().sum()"
   ]
  },
  {
   "cell_type": "code",
   "execution_count": 8,
   "id": "79cb9c36",
   "metadata": {
    "execution": {
     "iopub.execute_input": "2023-02-11T04:18:18.672349Z",
     "iopub.status.busy": "2023-02-11T04:18:18.671906Z",
     "iopub.status.idle": "2023-02-11T04:18:18.678656Z",
     "shell.execute_reply": "2023-02-11T04:18:18.677504Z"
    },
    "papermill": {
     "duration": 0.033255,
     "end_time": "2023-02-11T04:18:18.681196",
     "exception": false,
     "start_time": "2023-02-11T04:18:18.647941",
     "status": "completed"
    },
    "tags": []
   },
   "outputs": [
    {
     "data": {
      "text/plain": [
       "(400000, 32)"
      ]
     },
     "execution_count": 8,
     "metadata": {},
     "output_type": "execute_result"
    }
   ],
   "source": [
    "train.shape"
   ]
  },
  {
   "cell_type": "code",
   "execution_count": 9,
   "id": "471ddd3e",
   "metadata": {
    "execution": {
     "iopub.execute_input": "2023-02-11T04:18:18.729277Z",
     "iopub.status.busy": "2023-02-11T04:18:18.728841Z",
     "iopub.status.idle": "2023-02-11T04:18:18.954052Z",
     "shell.execute_reply": "2023-02-11T04:18:18.952599Z"
    },
    "papermill": {
     "duration": 0.25331,
     "end_time": "2023-02-11T04:18:18.956662",
     "exception": false,
     "start_time": "2023-02-11T04:18:18.703352",
     "status": "completed"
    },
    "tags": []
   },
   "outputs": [
    {
     "data": {
      "text/plain": [
       "0"
      ]
     },
     "execution_count": 9,
     "metadata": {},
     "output_type": "execute_result"
    }
   ],
   "source": [
    "train.dropna(axis=0, subset=[\"interest_rate\"], inplace=True)\n",
    "train.interest_rate.isna().sum()"
   ]
  },
  {
   "cell_type": "code",
   "execution_count": 10,
   "id": "5784a9bf",
   "metadata": {
    "execution": {
     "iopub.execute_input": "2023-02-11T04:18:19.002361Z",
     "iopub.status.busy": "2023-02-11T04:18:19.001606Z",
     "iopub.status.idle": "2023-02-11T04:18:19.009438Z",
     "shell.execute_reply": "2023-02-11T04:18:19.008227Z"
    },
    "papermill": {
     "duration": 0.033149,
     "end_time": "2023-02-11T04:18:19.011642",
     "exception": false,
     "start_time": "2023-02-11T04:18:18.978493",
     "status": "completed"
    },
    "tags": []
   },
   "outputs": [
    {
     "data": {
      "text/plain": [
       "(338990, 32)"
      ]
     },
     "execution_count": 10,
     "metadata": {},
     "output_type": "execute_result"
    }
   ],
   "source": [
    "train.shape"
   ]
  },
  {
   "cell_type": "markdown",
   "id": "35bc2d35",
   "metadata": {
    "papermill": {
     "duration": 0.021417,
     "end_time": "2023-02-11T04:18:19.054890",
     "exception": false,
     "start_time": "2023-02-11T04:18:19.033473",
     "status": "completed"
    },
    "tags": []
   },
   "source": [
    "Remove all rows that are complete empty (missing values in all features):"
   ]
  },
  {
   "cell_type": "code",
   "execution_count": 11,
   "id": "763073ce",
   "metadata": {
    "execution": {
     "iopub.execute_input": "2023-02-11T04:18:19.101365Z",
     "iopub.status.busy": "2023-02-11T04:18:19.100954Z",
     "iopub.status.idle": "2023-02-11T04:18:19.109958Z",
     "shell.execute_reply": "2023-02-11T04:18:19.108641Z"
    },
    "papermill": {
     "duration": 0.034909,
     "end_time": "2023-02-11T04:18:19.112499",
     "exception": false,
     "start_time": "2023-02-11T04:18:19.077590",
     "status": "completed"
    },
    "tags": []
   },
   "outputs": [
    {
     "data": {
      "text/plain": [
       "['id_loan',\n",
       " 'id_borrower',\n",
       " 'loan_amt_requested',\n",
       " 'loan_amt_funded',\n",
       " 'loan_amt_investor_funded_portion',\n",
       " 'num_of_payment_months',\n",
       " 'loan_grade',\n",
       " 'loan_subgrade',\n",
       " 'self_filled_employer_job_title',\n",
       " 'num_of_years_employed',\n",
       " 'home_ownership_status',\n",
       " 'borrower_annual_income',\n",
       " 'verify_income_or_source',\n",
       " 'loan_issued_date',\n",
       " 'borrower_provided_reason_for_loan',\n",
       " 'borrower_provided_loan_category',\n",
       " 'borrower_provided_loan_title',\n",
       " 'zip_first_three',\n",
       " 'borrower_state',\n",
       " 'monthly_debt_to_income_ratio',\n",
       " 'num_of_past_dues',\n",
       " 'borrower_earliest_credit_open_date',\n",
       " 'num_of_creditor_inquiries',\n",
       " 'num_of_months_since_delinquency',\n",
       " 'num_of_months_since_public_rec',\n",
       " 'num_of_open_credit_line',\n",
       " 'num_of_derog_publib_rec',\n",
       " 'total_credit_rev_balance',\n",
       " 'rev_line_util_rate',\n",
       " 'total_credit_line',\n",
       " 'init_loan_status']"
      ]
     },
     "execution_count": 11,
     "metadata": {},
     "output_type": "execute_result"
    }
   ],
   "source": [
    "features = train.columns[1:].to_list()\n",
    "features"
   ]
  },
  {
   "cell_type": "code",
   "execution_count": 12,
   "id": "a634c9b7",
   "metadata": {
    "execution": {
     "iopub.execute_input": "2023-02-11T04:18:19.158833Z",
     "iopub.status.busy": "2023-02-11T04:18:19.158403Z",
     "iopub.status.idle": "2023-02-11T04:18:19.165948Z",
     "shell.execute_reply": "2023-02-11T04:18:19.164466Z"
    },
    "papermill": {
     "duration": 0.03361,
     "end_time": "2023-02-11T04:18:19.168229",
     "exception": false,
     "start_time": "2023-02-11T04:18:19.134619",
     "status": "completed"
    },
    "tags": []
   },
   "outputs": [
    {
     "data": {
      "text/plain": [
       "((338990, 32), (80000, 32))"
      ]
     },
     "execution_count": 12,
     "metadata": {},
     "output_type": "execute_result"
    }
   ],
   "source": [
    "train.shape, test.shape"
   ]
  },
  {
   "cell_type": "code",
   "execution_count": 13,
   "id": "3bde9655",
   "metadata": {
    "execution": {
     "iopub.execute_input": "2023-02-11T04:18:19.214949Z",
     "iopub.status.busy": "2023-02-11T04:18:19.214078Z",
     "iopub.status.idle": "2023-02-11T04:18:19.943413Z",
     "shell.execute_reply": "2023-02-11T04:18:19.942100Z"
    },
    "papermill": {
     "duration": 0.755478,
     "end_time": "2023-02-11T04:18:19.946054",
     "exception": false,
     "start_time": "2023-02-11T04:18:19.190576",
     "status": "completed"
    },
    "tags": []
   },
   "outputs": [
    {
     "data": {
      "text/plain": [
       "((338989, 32), (80000, 32))"
      ]
     },
     "execution_count": 13,
     "metadata": {},
     "output_type": "execute_result"
    }
   ],
   "source": [
    "train.dropna(axis=0, how=\"all\", subset=features, inplace=True)\n",
    "test.dropna(axis=0, how=\"all\", subset=features, inplace=True)\n",
    "train.shape, test.shape"
   ]
  },
  {
   "cell_type": "code",
   "execution_count": 14,
   "id": "4b41ab13",
   "metadata": {
    "execution": {
     "iopub.execute_input": "2023-02-11T04:18:19.992894Z",
     "iopub.status.busy": "2023-02-11T04:18:19.992461Z",
     "iopub.status.idle": "2023-02-11T04:18:20.300496Z",
     "shell.execute_reply": "2023-02-11T04:18:20.299633Z"
    },
    "papermill": {
     "duration": 0.334223,
     "end_time": "2023-02-11T04:18:20.303074",
     "exception": false,
     "start_time": "2023-02-11T04:18:19.968851",
     "status": "completed"
    },
    "tags": []
   },
   "outputs": [
    {
     "data": {
      "text/plain": [
       "(418989, 33)"
      ]
     },
     "execution_count": 14,
     "metadata": {},
     "output_type": "execute_result"
    }
   ],
   "source": [
    "# Row bind train and test with indicator variable\n",
    "train[\"is_train\"] = 1\n",
    "test[\"is_train\"] = 0\n",
    "df = pd.concat([train, test], axis=0)\n",
    "df.shape"
   ]
  },
  {
   "cell_type": "markdown",
   "id": "b74ce415",
   "metadata": {
    "papermill": {
     "duration": 0.021811,
     "end_time": "2023-02-11T04:18:20.347250",
     "exception": false,
     "start_time": "2023-02-11T04:18:20.325439",
     "status": "completed"
    },
    "tags": []
   },
   "source": [
    "## Clean String Columns"
   ]
  },
  {
   "cell_type": "code",
   "execution_count": 15,
   "id": "bc9f61ff",
   "metadata": {
    "execution": {
     "iopub.execute_input": "2023-02-11T04:18:20.394272Z",
     "iopub.status.busy": "2023-02-11T04:18:20.393858Z",
     "iopub.status.idle": "2023-02-11T04:18:26.525267Z",
     "shell.execute_reply": "2023-02-11T04:18:26.523941Z"
    },
    "papermill": {
     "duration": 6.158217,
     "end_time": "2023-02-11T04:18:26.528343",
     "exception": false,
     "start_time": "2023-02-11T04:18:20.370126",
     "status": "completed"
    },
    "tags": []
   },
   "outputs": [],
   "source": [
    "# Convert all column strings to lower case and remove leading and trailing white space charaters\n",
    "df[df.select_dtypes(include=\"object\").columns] = df[\n",
    "    df.select_dtypes(include=\"object\").columns\n",
    "].apply(lambda col: col.str.lower().str.strip())"
   ]
  },
  {
   "cell_type": "code",
   "execution_count": 16,
   "id": "8301380d",
   "metadata": {
    "execution": {
     "iopub.execute_input": "2023-02-11T04:18:26.575410Z",
     "iopub.status.busy": "2023-02-11T04:18:26.574951Z",
     "iopub.status.idle": "2023-02-11T04:18:27.540127Z",
     "shell.execute_reply": "2023-02-11T04:18:27.538631Z"
    },
    "papermill": {
     "duration": 0.992097,
     "end_time": "2023-02-11T04:18:27.542961",
     "exception": false,
     "start_time": "2023-02-11T04:18:26.550864",
     "status": "completed"
    },
    "tags": []
   },
   "outputs": [
    {
     "name": "stdout",
     "output_type": "stream",
     "text": [
      "interest_rate : ['11.89%' '10.71%' '16.99%'] \n",
      "\n",
      "\n",
      "loan_amt_requested : ['$25,000' '$7,000' '$1,200'] \n",
      "\n",
      "\n",
      "loan_amt_funded : ['$25,000' '$7,000' '$1,200'] \n",
      "\n",
      "\n",
      "loan_amt_investor_funded_portion : ['$19,080' '$673' '$24,725'] \n",
      "\n",
      "\n",
      "num_of_payment_months : ['36 months' '60 months'] \n",
      "\n",
      "\n",
      "loan_grade : ['b' 'd' 'c'] \n",
      "\n",
      "\n",
      "loan_subgrade : ['b4' 'b5' 'd3'] \n",
      "\n",
      "\n",
      "self_filled_employer_job_title : [nan 'cnn' 'web programmer'] \n",
      "\n",
      "\n",
      "num_of_years_employed : ['< 1 year' '1 year' '10+ years'] \n",
      "\n",
      "\n",
      "home_ownership_status : ['rent' 'own' 'mortgage'] \n",
      "\n",
      "\n",
      "verify_income_or_source : ['verified - income' 'not verified' 'verified - income source'] \n",
      "\n",
      "\n",
      "loan_issued_date : ['aug-09' 'may-08' 'aug-14'] \n",
      "\n",
      "\n",
      "borrower_provided_reason_for_loan : ['due to a lack of personal finance education and exposure to poor financing skills growing up, i was easy prey for credit predators. i am devoted to becoming debt-free and can assure my lenders that i will pay on-time every time. i have never missed a payment during the last 16 years that i have had credit.'\n",
      " 'just want to pay off the last bit of credit card debt at a better rate.'\n",
      " \"trying to pay a friend back for apartment broker's fee incurred from as well as credit card stuff.\"] \n",
      "\n",
      "\n",
      "borrower_provided_loan_category : ['debt_consolidation' 'credit_card' 'car'] \n",
      "\n",
      "\n",
      "borrower_provided_loan_title : ['debt consolidation for on-time payer' 'credit card payoff' 'mlue'] \n",
      "\n",
      "\n",
      "zip_first_three : ['941xx' '112xx' '100xx'] \n",
      "\n",
      "\n",
      "borrower_state : ['ca' 'ny' 'tx'] \n",
      "\n",
      "\n",
      "borrower_earliest_credit_open_date : ['feb-94' 'oct-00' 'jun-00'] \n",
      "\n",
      "\n",
      "rev_line_util_rate : ['52.10%' '76.70%' '66.30%'] \n",
      "\n",
      "\n",
      "init_loan_status : ['f' 'w'] \n",
      "\n",
      "\n"
     ]
    }
   ],
   "source": [
    "for col in df.select_dtypes(include=\"object\").columns:\n",
    "    print(col, \":\", df[col].unique()[:3], \"\\n\\n\")"
   ]
  },
  {
   "cell_type": "markdown",
   "id": "764528a6",
   "metadata": {
    "papermill": {
     "duration": 0.022126,
     "end_time": "2023-02-11T04:18:27.587782",
     "exception": false,
     "start_time": "2023-02-11T04:18:27.565656",
     "status": "completed"
    },
    "tags": []
   },
   "source": [
    "### Dollar Amounts\n",
    "\n",
    "The dollar amount columns should be numeric and so we remove the dollar signs."
   ]
  },
  {
   "cell_type": "code",
   "execution_count": 17,
   "id": "a6202ac4",
   "metadata": {
    "execution": {
     "iopub.execute_input": "2023-02-11T04:18:27.635046Z",
     "iopub.status.busy": "2023-02-11T04:18:27.634584Z",
     "iopub.status.idle": "2023-02-11T04:18:27.719993Z",
     "shell.execute_reply": "2023-02-11T04:18:27.718752Z"
    },
    "papermill": {
     "duration": 0.112548,
     "end_time": "2023-02-11T04:18:27.722877",
     "exception": false,
     "start_time": "2023-02-11T04:18:27.610329",
     "status": "completed"
    },
    "tags": []
   },
   "outputs": [
    {
     "data": {
      "text/plain": [
       "loan_amt_requested                  0\n",
       "loan_amt_funded                     0\n",
       "loan_amt_investor_funded_portion    0\n",
       "dtype: int64"
      ]
     },
     "execution_count": 17,
     "metadata": {},
     "output_type": "execute_result"
    }
   ],
   "source": [
    "dollar_cols = [col for col in df.columns if col.startswith(\"loan_amt\")]\n",
    "# Check missing before processing\n",
    "df[dollar_cols].isna().sum()"
   ]
  },
  {
   "cell_type": "code",
   "execution_count": 18,
   "id": "487df7cb",
   "metadata": {
    "execution": {
     "iopub.execute_input": "2023-02-11T04:18:27.771669Z",
     "iopub.status.busy": "2023-02-11T04:18:27.771041Z",
     "iopub.status.idle": "2023-02-11T04:18:31.231894Z",
     "shell.execute_reply": "2023-02-11T04:18:31.230763Z"
    },
    "papermill": {
     "duration": 3.487458,
     "end_time": "2023-02-11T04:18:31.234566",
     "exception": false,
     "start_time": "2023-02-11T04:18:27.747108",
     "status": "completed"
    },
    "tags": []
   },
   "outputs": [
    {
     "data": {
      "text/html": [
       "<div>\n",
       "<style scoped>\n",
       "    .dataframe tbody tr th:only-of-type {\n",
       "        vertical-align: middle;\n",
       "    }\n",
       "\n",
       "    .dataframe tbody tr th {\n",
       "        vertical-align: top;\n",
       "    }\n",
       "\n",
       "    .dataframe thead th {\n",
       "        text-align: right;\n",
       "    }\n",
       "</style>\n",
       "<table border=\"1\" class=\"dataframe\">\n",
       "  <thead>\n",
       "    <tr style=\"text-align: right;\">\n",
       "      <th></th>\n",
       "      <th>loan_amt_requested</th>\n",
       "      <th>loan_amt_funded</th>\n",
       "      <th>loan_amt_investor_funded_portion</th>\n",
       "    </tr>\n",
       "  </thead>\n",
       "  <tbody>\n",
       "    <tr>\n",
       "      <th>0</th>\n",
       "      <td>25000</td>\n",
       "      <td>25000</td>\n",
       "      <td>19080</td>\n",
       "    </tr>\n",
       "    <tr>\n",
       "      <th>1</th>\n",
       "      <td>7000</td>\n",
       "      <td>7000</td>\n",
       "      <td>673</td>\n",
       "    </tr>\n",
       "    <tr>\n",
       "      <th>2</th>\n",
       "      <td>25000</td>\n",
       "      <td>25000</td>\n",
       "      <td>24725</td>\n",
       "    </tr>\n",
       "    <tr>\n",
       "      <th>3</th>\n",
       "      <td>1200</td>\n",
       "      <td>1200</td>\n",
       "      <td>1200</td>\n",
       "    </tr>\n",
       "    <tr>\n",
       "      <th>4</th>\n",
       "      <td>10800</td>\n",
       "      <td>10800</td>\n",
       "      <td>10692</td>\n",
       "    </tr>\n",
       "    <tr>\n",
       "      <th>...</th>\n",
       "      <td>...</td>\n",
       "      <td>...</td>\n",
       "      <td>...</td>\n",
       "    </tr>\n",
       "    <tr>\n",
       "      <th>79995</th>\n",
       "      <td>6400</td>\n",
       "      <td>6400</td>\n",
       "      <td>6400</td>\n",
       "    </tr>\n",
       "    <tr>\n",
       "      <th>79996</th>\n",
       "      <td>30000</td>\n",
       "      <td>30000</td>\n",
       "      <td>30000</td>\n",
       "    </tr>\n",
       "    <tr>\n",
       "      <th>79997</th>\n",
       "      <td>17600</td>\n",
       "      <td>17600</td>\n",
       "      <td>17600</td>\n",
       "    </tr>\n",
       "    <tr>\n",
       "      <th>79998</th>\n",
       "      <td>2500</td>\n",
       "      <td>2500</td>\n",
       "      <td>2500</td>\n",
       "    </tr>\n",
       "    <tr>\n",
       "      <th>79999</th>\n",
       "      <td>11800</td>\n",
       "      <td>11800</td>\n",
       "      <td>11800</td>\n",
       "    </tr>\n",
       "  </tbody>\n",
       "</table>\n",
       "<p>418989 rows × 3 columns</p>\n",
       "</div>"
      ],
      "text/plain": [
       "       loan_amt_requested  loan_amt_funded  loan_amt_investor_funded_portion\n",
       "0                   25000            25000                             19080\n",
       "1                    7000             7000                               673\n",
       "2                   25000            25000                             24725\n",
       "3                    1200             1200                              1200\n",
       "4                   10800            10800                             10692\n",
       "...                   ...              ...                               ...\n",
       "79995                6400             6400                              6400\n",
       "79996               30000            30000                             30000\n",
       "79997               17600            17600                             17600\n",
       "79998                2500             2500                              2500\n",
       "79999               11800            11800                             11800\n",
       "\n",
       "[418989 rows x 3 columns]"
      ]
     },
     "execution_count": 18,
     "metadata": {},
     "output_type": "execute_result"
    }
   ],
   "source": [
    "df[dollar_cols] = df[dollar_cols].replace(to_replace=\"\\$|,\", value=\"\", regex=True)\n",
    "df[dollar_cols] = df[dollar_cols].astype(np.int32)\n",
    "df[dollar_cols]"
   ]
  },
  {
   "cell_type": "code",
   "execution_count": 19,
   "id": "44eecd3d",
   "metadata": {
    "execution": {
     "iopub.execute_input": "2023-02-11T04:18:31.282163Z",
     "iopub.status.busy": "2023-02-11T04:18:31.281548Z",
     "iopub.status.idle": "2023-02-11T04:18:31.295723Z",
     "shell.execute_reply": "2023-02-11T04:18:31.294381Z"
    },
    "papermill": {
     "duration": 0.040729,
     "end_time": "2023-02-11T04:18:31.298185",
     "exception": false,
     "start_time": "2023-02-11T04:18:31.257456",
     "status": "completed"
    },
    "tags": []
   },
   "outputs": [
    {
     "data": {
      "text/plain": [
       "loan_amt_requested                  0\n",
       "loan_amt_funded                     0\n",
       "loan_amt_investor_funded_portion    0\n",
       "dtype: int64"
      ]
     },
     "execution_count": 19,
     "metadata": {},
     "output_type": "execute_result"
    }
   ],
   "source": [
    "# Check missing after for potential unintended errors\n",
    "df[dollar_cols].isna().sum()"
   ]
  },
  {
   "cell_type": "code",
   "execution_count": 20,
   "id": "4567b262",
   "metadata": {
    "execution": {
     "iopub.execute_input": "2023-02-11T04:18:31.345603Z",
     "iopub.status.busy": "2023-02-11T04:18:31.345149Z",
     "iopub.status.idle": "2023-02-11T04:18:31.356113Z",
     "shell.execute_reply": "2023-02-11T04:18:31.355089Z"
    },
    "papermill": {
     "duration": 0.037159,
     "end_time": "2023-02-11T04:18:31.358274",
     "exception": false,
     "start_time": "2023-02-11T04:18:31.321115",
     "status": "completed"
    },
    "tags": []
   },
   "outputs": [
    {
     "data": {
      "text/plain": [
       "loan_amt_requested                  int32\n",
       "loan_amt_funded                     int32\n",
       "loan_amt_investor_funded_portion    int32\n",
       "dtype: object"
      ]
     },
     "execution_count": 20,
     "metadata": {},
     "output_type": "execute_result"
    }
   ],
   "source": [
    "df[dollar_cols].dtypes"
   ]
  },
  {
   "cell_type": "markdown",
   "id": "f4a46be5",
   "metadata": {
    "papermill": {
     "duration": 0.022541,
     "end_time": "2023-02-11T04:18:31.403899",
     "exception": false,
     "start_time": "2023-02-11T04:18:31.381358",
     "status": "completed"
    },
    "tags": []
   },
   "source": [
    "### Interest Rate and Rate Feature\n",
    "\n",
    "Remove the percentage signs from the rate features:"
   ]
  },
  {
   "cell_type": "code",
   "execution_count": 21,
   "id": "58b230b4",
   "metadata": {
    "execution": {
     "iopub.execute_input": "2023-02-11T04:18:31.452084Z",
     "iopub.status.busy": "2023-02-11T04:18:31.451344Z",
     "iopub.status.idle": "2023-02-11T04:18:31.512197Z",
     "shell.execute_reply": "2023-02-11T04:18:31.510934Z"
    },
    "papermill": {
     "duration": 0.087502,
     "end_time": "2023-02-11T04:18:31.514500",
     "exception": false,
     "start_time": "2023-02-11T04:18:31.426998",
     "status": "completed"
    },
    "tags": []
   },
   "outputs": [
    {
     "data": {
      "text/plain": [
       "interest_rate         80000\n",
       "rev_line_util_rate      254\n",
       "dtype: int64"
      ]
     },
     "execution_count": 21,
     "metadata": {},
     "output_type": "execute_result"
    }
   ],
   "source": [
    "rate_cols = [col for col in df.columns if col.endswith(\"rate\")]\n",
    "# Check missing before processing\n",
    "df[rate_cols].isna().sum()"
   ]
  },
  {
   "cell_type": "code",
   "execution_count": 22,
   "id": "7ec12a27",
   "metadata": {
    "execution": {
     "iopub.execute_input": "2023-02-11T04:18:31.563149Z",
     "iopub.status.busy": "2023-02-11T04:18:31.562720Z",
     "iopub.status.idle": "2023-02-11T04:18:33.620448Z",
     "shell.execute_reply": "2023-02-11T04:18:33.619295Z"
    },
    "papermill": {
     "duration": 2.085556,
     "end_time": "2023-02-11T04:18:33.623197",
     "exception": false,
     "start_time": "2023-02-11T04:18:31.537641",
     "status": "completed"
    },
    "tags": []
   },
   "outputs": [
    {
     "data": {
      "text/html": [
       "<div>\n",
       "<style scoped>\n",
       "    .dataframe tbody tr th:only-of-type {\n",
       "        vertical-align: middle;\n",
       "    }\n",
       "\n",
       "    .dataframe tbody tr th {\n",
       "        vertical-align: top;\n",
       "    }\n",
       "\n",
       "    .dataframe thead th {\n",
       "        text-align: right;\n",
       "    }\n",
       "</style>\n",
       "<table border=\"1\" class=\"dataframe\">\n",
       "  <thead>\n",
       "    <tr style=\"text-align: right;\">\n",
       "      <th></th>\n",
       "      <th>interest_rate</th>\n",
       "      <th>rev_line_util_rate</th>\n",
       "    </tr>\n",
       "  </thead>\n",
       "  <tbody>\n",
       "    <tr>\n",
       "      <th>0</th>\n",
       "      <td>11.89</td>\n",
       "      <td>52.1</td>\n",
       "    </tr>\n",
       "    <tr>\n",
       "      <th>1</th>\n",
       "      <td>10.71</td>\n",
       "      <td>76.7</td>\n",
       "    </tr>\n",
       "    <tr>\n",
       "      <th>2</th>\n",
       "      <td>16.99</td>\n",
       "      <td>66.3</td>\n",
       "    </tr>\n",
       "    <tr>\n",
       "      <th>3</th>\n",
       "      <td>13.11</td>\n",
       "      <td>40.4</td>\n",
       "    </tr>\n",
       "    <tr>\n",
       "      <th>4</th>\n",
       "      <td>13.57</td>\n",
       "      <td>25.6</td>\n",
       "    </tr>\n",
       "    <tr>\n",
       "      <th>...</th>\n",
       "      <td>...</td>\n",
       "      <td>...</td>\n",
       "    </tr>\n",
       "    <tr>\n",
       "      <th>79995</th>\n",
       "      <td>NaN</td>\n",
       "      <td>47.9</td>\n",
       "    </tr>\n",
       "    <tr>\n",
       "      <th>79996</th>\n",
       "      <td>NaN</td>\n",
       "      <td>51.3</td>\n",
       "    </tr>\n",
       "    <tr>\n",
       "      <th>79997</th>\n",
       "      <td>NaN</td>\n",
       "      <td>37.1</td>\n",
       "    </tr>\n",
       "    <tr>\n",
       "      <th>79998</th>\n",
       "      <td>NaN</td>\n",
       "      <td>76.7</td>\n",
       "    </tr>\n",
       "    <tr>\n",
       "      <th>79999</th>\n",
       "      <td>NaN</td>\n",
       "      <td>93.7</td>\n",
       "    </tr>\n",
       "  </tbody>\n",
       "</table>\n",
       "<p>418989 rows × 2 columns</p>\n",
       "</div>"
      ],
      "text/plain": [
       "       interest_rate  rev_line_util_rate\n",
       "0              11.89                52.1\n",
       "1              10.71                76.7\n",
       "2              16.99                66.3\n",
       "3              13.11                40.4\n",
       "4              13.57                25.6\n",
       "...              ...                 ...\n",
       "79995            NaN                47.9\n",
       "79996            NaN                51.3\n",
       "79997            NaN                37.1\n",
       "79998            NaN                76.7\n",
       "79999            NaN                93.7\n",
       "\n",
       "[418989 rows x 2 columns]"
      ]
     },
     "execution_count": 22,
     "metadata": {},
     "output_type": "execute_result"
    }
   ],
   "source": [
    "df[rate_cols] = df[rate_cols].replace(to_replace=\"\\%\", value=\"\", regex=True)\n",
    "df[rate_cols] = df[rate_cols].apply(pd.to_numeric)\n",
    "df[rate_cols]"
   ]
  },
  {
   "cell_type": "code",
   "execution_count": 23,
   "id": "c1e0ef68",
   "metadata": {
    "execution": {
     "iopub.execute_input": "2023-02-11T04:18:33.673259Z",
     "iopub.status.busy": "2023-02-11T04:18:33.672583Z",
     "iopub.status.idle": "2023-02-11T04:18:33.685402Z",
     "shell.execute_reply": "2023-02-11T04:18:33.684149Z"
    },
    "papermill": {
     "duration": 0.041099,
     "end_time": "2023-02-11T04:18:33.687688",
     "exception": false,
     "start_time": "2023-02-11T04:18:33.646589",
     "status": "completed"
    },
    "tags": []
   },
   "outputs": [
    {
     "data": {
      "text/plain": [
       "interest_rate         80000\n",
       "rev_line_util_rate      254\n",
       "dtype: int64"
      ]
     },
     "execution_count": 23,
     "metadata": {},
     "output_type": "execute_result"
    }
   ],
   "source": [
    "# Check missing after for potential unintended errors\n",
    "df[rate_cols].isna().sum()"
   ]
  },
  {
   "cell_type": "code",
   "execution_count": 24,
   "id": "7f36376e",
   "metadata": {
    "execution": {
     "iopub.execute_input": "2023-02-11T04:18:33.737121Z",
     "iopub.status.busy": "2023-02-11T04:18:33.736454Z",
     "iopub.status.idle": "2023-02-11T04:18:33.746829Z",
     "shell.execute_reply": "2023-02-11T04:18:33.745670Z"
    },
    "papermill": {
     "duration": 0.037739,
     "end_time": "2023-02-11T04:18:33.749155",
     "exception": false,
     "start_time": "2023-02-11T04:18:33.711416",
     "status": "completed"
    },
    "tags": []
   },
   "outputs": [
    {
     "data": {
      "text/plain": [
       "interest_rate         float64\n",
       "rev_line_util_rate    float64\n",
       "dtype: object"
      ]
     },
     "execution_count": 24,
     "metadata": {},
     "output_type": "execute_result"
    }
   ],
   "source": [
    "df[rate_cols].dtypes"
   ]
  },
  {
   "cell_type": "markdown",
   "id": "3ef31814",
   "metadata": {
    "papermill": {
     "duration": 0.023316,
     "end_time": "2023-02-11T04:18:33.795956",
     "exception": false,
     "start_time": "2023-02-11T04:18:33.772640",
     "status": "completed"
    },
    "tags": []
   },
   "source": [
    "### Date Columns\n",
    "\n",
    "Some date values have 'month-year' format while others have 'year-month'. We must account for both formats:"
   ]
  },
  {
   "cell_type": "code",
   "execution_count": 25,
   "id": "6d5e948e",
   "metadata": {
    "execution": {
     "iopub.execute_input": "2023-02-11T04:18:33.844964Z",
     "iopub.status.busy": "2023-02-11T04:18:33.844272Z",
     "iopub.status.idle": "2023-02-11T04:18:33.903664Z",
     "shell.execute_reply": "2023-02-11T04:18:33.902805Z"
    },
    "papermill": {
     "duration": 0.086206,
     "end_time": "2023-02-11T04:18:33.905864",
     "exception": false,
     "start_time": "2023-02-11T04:18:33.819658",
     "status": "completed"
    },
    "tags": []
   },
   "outputs": [
    {
     "data": {
      "text/plain": [
       "loan_issued_date                      0\n",
       "borrower_earliest_credit_open_date    0\n",
       "dtype: int64"
      ]
     },
     "execution_count": 25,
     "metadata": {},
     "output_type": "execute_result"
    }
   ],
   "source": [
    "date_cols = [col for col in df.columns if col.endswith(\"date\")]\n",
    "# Check missingness\n",
    "df[date_cols].isna().sum()"
   ]
  },
  {
   "cell_type": "code",
   "execution_count": 26,
   "id": "689d8fcd",
   "metadata": {
    "execution": {
     "iopub.execute_input": "2023-02-11T04:18:33.955758Z",
     "iopub.status.busy": "2023-02-11T04:18:33.955328Z",
     "iopub.status.idle": "2023-02-11T04:18:34.979421Z",
     "shell.execute_reply": "2023-02-11T04:18:34.978216Z"
    },
    "papermill": {
     "duration": 1.052106,
     "end_time": "2023-02-11T04:18:34.982182",
     "exception": false,
     "start_time": "2023-02-11T04:18:33.930076",
     "status": "completed"
    },
    "tags": []
   },
   "outputs": [],
   "source": [
    "# Append zero to single digit years since excel removes the first zero, e.g. 1-sep or 3-sep should really be 01-sep and 03-sep\n",
    "df[date_cols] = df[date_cols].apply(\n",
    "    lambda col: col.apply(lambda val: \"0\" + val if re.match(\"\\d-\\w{3}\", val) else val)\n",
    ")"
   ]
  },
  {
   "cell_type": "code",
   "execution_count": 27,
   "id": "5396daf3",
   "metadata": {
    "execution": {
     "iopub.execute_input": "2023-02-11T04:18:35.032356Z",
     "iopub.status.busy": "2023-02-11T04:18:35.031210Z",
     "iopub.status.idle": "2023-02-11T04:18:35.094984Z",
     "shell.execute_reply": "2023-02-11T04:18:35.093806Z"
    },
    "papermill": {
     "duration": 0.092294,
     "end_time": "2023-02-11T04:18:35.098278",
     "exception": false,
     "start_time": "2023-02-11T04:18:35.005984",
     "status": "completed"
    },
    "tags": []
   },
   "outputs": [
    {
     "data": {
      "text/plain": [
       "loan_issued_date                      0\n",
       "borrower_earliest_credit_open_date    0\n",
       "dtype: int64"
      ]
     },
     "execution_count": 27,
     "metadata": {},
     "output_type": "execute_result"
    }
   ],
   "source": [
    "df[date_cols].isna().sum()"
   ]
  },
  {
   "cell_type": "markdown",
   "id": "adfc1138",
   "metadata": {
    "papermill": {
     "duration": 0.024276,
     "end_time": "2023-02-11T04:18:35.147637",
     "exception": false,
     "start_time": "2023-02-11T04:18:35.123361",
     "status": "completed"
    },
    "tags": []
   },
   "source": [
    "Another issue we must handle is that the years are only reported as two digits. Therefore, there may be confusion when we try to convert those values to the full four-digit format. To use good judgement, we will append 20 to values between 00 and 20; we will append 19 to values between 20 and 99. This is so that we do not end up with year beyond 2020, which does not make sense."
   ]
  },
  {
   "cell_type": "code",
   "execution_count": 28,
   "id": "b4fcd5c7",
   "metadata": {
    "execution": {
     "iopub.execute_input": "2023-02-11T04:18:35.198743Z",
     "iopub.status.busy": "2023-02-11T04:18:35.198278Z",
     "iopub.status.idle": "2023-02-11T04:18:36.277937Z",
     "shell.execute_reply": "2023-02-11T04:18:36.276591Z"
    },
    "papermill": {
     "duration": 1.108103,
     "end_time": "2023-02-11T04:18:36.280869",
     "exception": false,
     "start_time": "2023-02-11T04:18:35.172766",
     "status": "completed"
    },
    "tags": []
   },
   "outputs": [],
   "source": [
    "# Convert all dates to 'month-year' format\n",
    "df[date_cols] = df[date_cols].apply(\n",
    "    lambda col: col.apply(\n",
    "        lambda val: val[-3:] + \"-\" + val[:2] if re.match(\"\\d{2}-\\w{3}\", val) else val\n",
    "    )\n",
    ")"
   ]
  },
  {
   "cell_type": "code",
   "execution_count": 29,
   "id": "26301f26",
   "metadata": {
    "execution": {
     "iopub.execute_input": "2023-02-11T04:18:36.330355Z",
     "iopub.status.busy": "2023-02-11T04:18:36.329895Z",
     "iopub.status.idle": "2023-02-11T04:18:36.391223Z",
     "shell.execute_reply": "2023-02-11T04:18:36.390034Z"
    },
    "papermill": {
     "duration": 0.088755,
     "end_time": "2023-02-11T04:18:36.393496",
     "exception": false,
     "start_time": "2023-02-11T04:18:36.304741",
     "status": "completed"
    },
    "tags": []
   },
   "outputs": [
    {
     "data": {
      "text/plain": [
       "loan_issued_date                      0\n",
       "borrower_earliest_credit_open_date    0\n",
       "dtype: int64"
      ]
     },
     "execution_count": 29,
     "metadata": {},
     "output_type": "execute_result"
    }
   ],
   "source": [
    "df[date_cols].isna().sum()"
   ]
  },
  {
   "cell_type": "code",
   "execution_count": 30,
   "id": "f7edeb90",
   "metadata": {
    "execution": {
     "iopub.execute_input": "2023-02-11T04:18:36.445063Z",
     "iopub.status.busy": "2023-02-11T04:18:36.444352Z",
     "iopub.status.idle": "2023-02-11T04:18:37.433818Z",
     "shell.execute_reply": "2023-02-11T04:18:37.432679Z"
    },
    "papermill": {
     "duration": 1.018595,
     "end_time": "2023-02-11T04:18:37.436635",
     "exception": false,
     "start_time": "2023-02-11T04:18:36.418040",
     "status": "completed"
    },
    "tags": []
   },
   "outputs": [],
   "source": [
    "# Append 20 and 19 accordingly\n",
    "df[date_cols] = df[date_cols].apply(\n",
    "    lambda col: col.apply(\n",
    "        lambda val: (val[:3] + \"-\" + \"20\" + val[-2:])\n",
    "        if int(val[-2:][0]) >= 0 and int(val[-2:][0]) < 2\n",
    "        else (val[:3] + \"-\" + \"19\" + val[-2:])\n",
    "    )\n",
    ")"
   ]
  },
  {
   "cell_type": "markdown",
   "id": "82619904",
   "metadata": {
    "papermill": {
     "duration": 0.023364,
     "end_time": "2023-02-11T04:18:37.484002",
     "exception": false,
     "start_time": "2023-02-11T04:18:37.460638",
     "status": "completed"
    },
    "tags": []
   },
   "source": [
    "Finally, we can now convert to date columns to datetimes:"
   ]
  },
  {
   "cell_type": "code",
   "execution_count": 31,
   "id": "189bd651",
   "metadata": {
    "execution": {
     "iopub.execute_input": "2023-02-11T04:18:37.533282Z",
     "iopub.status.busy": "2023-02-11T04:18:37.532888Z",
     "iopub.status.idle": "2023-02-11T04:18:38.083532Z",
     "shell.execute_reply": "2023-02-11T04:18:38.082574Z"
    },
    "papermill": {
     "duration": 0.578163,
     "end_time": "2023-02-11T04:18:38.085869",
     "exception": false,
     "start_time": "2023-02-11T04:18:37.507706",
     "status": "completed"
    },
    "tags": []
   },
   "outputs": [
    {
     "data": {
      "text/html": [
       "<div>\n",
       "<style scoped>\n",
       "    .dataframe tbody tr th:only-of-type {\n",
       "        vertical-align: middle;\n",
       "    }\n",
       "\n",
       "    .dataframe tbody tr th {\n",
       "        vertical-align: top;\n",
       "    }\n",
       "\n",
       "    .dataframe thead th {\n",
       "        text-align: right;\n",
       "    }\n",
       "</style>\n",
       "<table border=\"1\" class=\"dataframe\">\n",
       "  <thead>\n",
       "    <tr style=\"text-align: right;\">\n",
       "      <th></th>\n",
       "      <th>loan_issued_date</th>\n",
       "      <th>borrower_earliest_credit_open_date</th>\n",
       "    </tr>\n",
       "  </thead>\n",
       "  <tbody>\n",
       "    <tr>\n",
       "      <th>0</th>\n",
       "      <td>2009-08</td>\n",
       "      <td>1994-02</td>\n",
       "    </tr>\n",
       "    <tr>\n",
       "      <th>1</th>\n",
       "      <td>2008-05</td>\n",
       "      <td>2000-10</td>\n",
       "    </tr>\n",
       "    <tr>\n",
       "      <th>2</th>\n",
       "      <td>2014-08</td>\n",
       "      <td>2000-06</td>\n",
       "    </tr>\n",
       "    <tr>\n",
       "      <th>3</th>\n",
       "      <td>2010-03</td>\n",
       "      <td>1985-01</td>\n",
       "    </tr>\n",
       "    <tr>\n",
       "      <th>4</th>\n",
       "      <td>2009-11</td>\n",
       "      <td>1996-12</td>\n",
       "    </tr>\n",
       "    <tr>\n",
       "      <th>...</th>\n",
       "      <td>...</td>\n",
       "      <td>...</td>\n",
       "    </tr>\n",
       "    <tr>\n",
       "      <th>79995</th>\n",
       "      <td>2015-01</td>\n",
       "      <td>2006-04</td>\n",
       "    </tr>\n",
       "    <tr>\n",
       "      <th>79996</th>\n",
       "      <td>2015-01</td>\n",
       "      <td>1996-08</td>\n",
       "    </tr>\n",
       "    <tr>\n",
       "      <th>79997</th>\n",
       "      <td>2015-01</td>\n",
       "      <td>2004-12</td>\n",
       "    </tr>\n",
       "    <tr>\n",
       "      <th>79998</th>\n",
       "      <td>2015-01</td>\n",
       "      <td>1999-06</td>\n",
       "    </tr>\n",
       "    <tr>\n",
       "      <th>79999</th>\n",
       "      <td>2015-01</td>\n",
       "      <td>2005-12</td>\n",
       "    </tr>\n",
       "  </tbody>\n",
       "</table>\n",
       "<p>418989 rows × 2 columns</p>\n",
       "</div>"
      ],
      "text/plain": [
       "      loan_issued_date borrower_earliest_credit_open_date\n",
       "0              2009-08                            1994-02\n",
       "1              2008-05                            2000-10\n",
       "2              2014-08                            2000-06\n",
       "3              2010-03                            1985-01\n",
       "4              2009-11                            1996-12\n",
       "...                ...                                ...\n",
       "79995          2015-01                            2006-04\n",
       "79996          2015-01                            1996-08\n",
       "79997          2015-01                            2004-12\n",
       "79998          2015-01                            1999-06\n",
       "79999          2015-01                            2005-12\n",
       "\n",
       "[418989 rows x 2 columns]"
      ]
     },
     "execution_count": 31,
     "metadata": {},
     "output_type": "execute_result"
    }
   ],
   "source": [
    "df[date_cols] = df[date_cols].apply(\n",
    "    lambda col: pd.to_datetime(col, format=\"%b-%Y\", errors=\"coerce\").dt.to_period(\"M\")\n",
    ")\n",
    "df[date_cols]"
   ]
  },
  {
   "cell_type": "code",
   "execution_count": 32,
   "id": "bb1648d3",
   "metadata": {
    "execution": {
     "iopub.execute_input": "2023-02-11T04:18:38.136596Z",
     "iopub.status.busy": "2023-02-11T04:18:38.135915Z",
     "iopub.status.idle": "2023-02-11T04:18:38.146930Z",
     "shell.execute_reply": "2023-02-11T04:18:38.146011Z"
    },
    "papermill": {
     "duration": 0.038981,
     "end_time": "2023-02-11T04:18:38.149273",
     "exception": false,
     "start_time": "2023-02-11T04:18:38.110292",
     "status": "completed"
    },
    "tags": []
   },
   "outputs": [
    {
     "data": {
      "text/plain": [
       "loan_issued_date                      0\n",
       "borrower_earliest_credit_open_date    0\n",
       "dtype: int64"
      ]
     },
     "execution_count": 32,
     "metadata": {},
     "output_type": "execute_result"
    }
   ],
   "source": [
    "df[date_cols].isna().sum()"
   ]
  },
  {
   "cell_type": "code",
   "execution_count": 33,
   "id": "1a61605e",
   "metadata": {
    "execution": {
     "iopub.execute_input": "2023-02-11T04:18:38.202130Z",
     "iopub.status.busy": "2023-02-11T04:18:38.201458Z",
     "iopub.status.idle": "2023-02-11T04:18:38.210302Z",
     "shell.execute_reply": "2023-02-11T04:18:38.209182Z"
    },
    "papermill": {
     "duration": 0.038396,
     "end_time": "2023-02-11T04:18:38.212627",
     "exception": false,
     "start_time": "2023-02-11T04:18:38.174231",
     "status": "completed"
    },
    "tags": []
   },
   "outputs": [
    {
     "data": {
      "text/plain": [
       "loan_issued_date                      period[M]\n",
       "borrower_earliest_credit_open_date    period[M]\n",
       "dtype: object"
      ]
     },
     "execution_count": 33,
     "metadata": {},
     "output_type": "execute_result"
    }
   ],
   "source": [
    "df[date_cols].dtypes"
   ]
  },
  {
   "cell_type": "markdown",
   "id": "88eb8c93",
   "metadata": {
    "papermill": {
     "duration": 0.024296,
     "end_time": "2023-02-11T04:18:38.261236",
     "exception": false,
     "start_time": "2023-02-11T04:18:38.236940",
     "status": "completed"
    },
    "tags": []
   },
   "source": [
    "The date columns are granular to monthly frequency."
   ]
  },
  {
   "cell_type": "markdown",
   "id": "d2e98850",
   "metadata": {
    "papermill": {
     "duration": 0.023948,
     "end_time": "2023-02-11T04:18:38.309540",
     "exception": false,
     "start_time": "2023-02-11T04:18:38.285592",
     "status": "completed"
    },
    "tags": []
   },
   "source": [
    "### Inspect Remaining Columns"
   ]
  },
  {
   "cell_type": "code",
   "execution_count": 34,
   "id": "336162d3",
   "metadata": {
    "execution": {
     "iopub.execute_input": "2023-02-11T04:18:38.361610Z",
     "iopub.status.busy": "2023-02-11T04:18:38.360754Z",
     "iopub.status.idle": "2023-02-11T04:18:38.467775Z",
     "shell.execute_reply": "2023-02-11T04:18:38.466436Z"
    },
    "papermill": {
     "duration": 0.136656,
     "end_time": "2023-02-11T04:18:38.470547",
     "exception": false,
     "start_time": "2023-02-11T04:18:38.333891",
     "status": "completed"
    },
    "tags": []
   },
   "outputs": [
    {
     "data": {
      "text/plain": [
       "['borrower_provided_loan_category',\n",
       " 'borrower_provided_loan_title',\n",
       " 'borrower_provided_reason_for_loan',\n",
       " 'borrower_state',\n",
       " 'home_ownership_status',\n",
       " 'init_loan_status',\n",
       " 'loan_grade',\n",
       " 'loan_subgrade',\n",
       " 'num_of_payment_months',\n",
       " 'num_of_years_employed',\n",
       " 'self_filled_employer_job_title',\n",
       " 'verify_income_or_source',\n",
       " 'zip_first_three']"
      ]
     },
     "execution_count": 34,
     "metadata": {},
     "output_type": "execute_result"
    }
   ],
   "source": [
    "remainining_cols = list(\n",
    "    set(df.select_dtypes(include=\"object\").columns.to_list())\n",
    "    - set(date_cols + rate_cols + dollar_cols)\n",
    ")\n",
    "remainining_cols.sort()\n",
    "remainining_cols"
   ]
  },
  {
   "cell_type": "markdown",
   "id": "7da7bc96",
   "metadata": {
    "papermill": {
     "duration": 0.023984,
     "end_time": "2023-02-11T04:18:38.518653",
     "exception": false,
     "start_time": "2023-02-11T04:18:38.494669",
     "status": "completed"
    },
    "tags": []
   },
   "source": [
    "### Home Ownership"
   ]
  },
  {
   "cell_type": "code",
   "execution_count": 35,
   "id": "4e1ad010",
   "metadata": {
    "execution": {
     "iopub.execute_input": "2023-02-11T04:18:38.568947Z",
     "iopub.status.busy": "2023-02-11T04:18:38.568514Z",
     "iopub.status.idle": "2023-02-11T04:18:38.616003Z",
     "shell.execute_reply": "2023-02-11T04:18:38.614876Z"
    },
    "papermill": {
     "duration": 0.075511,
     "end_time": "2023-02-11T04:18:38.618348",
     "exception": false,
     "start_time": "2023-02-11T04:18:38.542837",
     "status": "completed"
    },
    "tags": []
   },
   "outputs": [
    {
     "data": {
      "text/plain": [
       "home_ownership_status\n",
       "any              1\n",
       "mortgage    184952\n",
       "none            30\n",
       "other          107\n",
       "own          33204\n",
       "rent        148736\n",
       "NaN          51959\n",
       "dtype: int64"
      ]
     },
     "execution_count": 35,
     "metadata": {},
     "output_type": "execute_result"
    }
   ],
   "source": [
    "df.groupby(remainining_cols[4], dropna=False).size()"
   ]
  },
  {
   "cell_type": "markdown",
   "id": "3d1a2020",
   "metadata": {
    "papermill": {
     "duration": 0.024151,
     "end_time": "2023-02-11T04:18:38.667050",
     "exception": false,
     "start_time": "2023-02-11T04:18:38.642899",
     "status": "completed"
    },
    "tags": []
   },
   "source": [
    "The value `any` only appears once, which is very rare and may be a typo since the meta data does not contain this category. On a real job, I would investigate the source of this data and find out if this category will appear in the test data or even in future data. For this project, we will remove this single training example:"
   ]
  },
  {
   "cell_type": "code",
   "execution_count": 36,
   "id": "fdaf735b",
   "metadata": {
    "execution": {
     "iopub.execute_input": "2023-02-11T04:18:38.717728Z",
     "iopub.status.busy": "2023-02-11T04:18:38.717255Z",
     "iopub.status.idle": "2023-02-11T04:18:38.917114Z",
     "shell.execute_reply": "2023-02-11T04:18:38.915733Z"
    },
    "papermill": {
     "duration": 0.228605,
     "end_time": "2023-02-11T04:18:38.920080",
     "exception": false,
     "start_time": "2023-02-11T04:18:38.691475",
     "status": "completed"
    },
    "tags": []
   },
   "outputs": [],
   "source": [
    "df = df.loc[df[remainining_cols[4]] != \"any\"]"
   ]
  },
  {
   "cell_type": "code",
   "execution_count": 37,
   "id": "17704b1a",
   "metadata": {
    "execution": {
     "iopub.execute_input": "2023-02-11T04:18:38.972513Z",
     "iopub.status.busy": "2023-02-11T04:18:38.972057Z",
     "iopub.status.idle": "2023-02-11T04:18:39.018010Z",
     "shell.execute_reply": "2023-02-11T04:18:39.017052Z"
    },
    "papermill": {
     "duration": 0.075291,
     "end_time": "2023-02-11T04:18:39.020281",
     "exception": false,
     "start_time": "2023-02-11T04:18:38.944990",
     "status": "completed"
    },
    "tags": []
   },
   "outputs": [
    {
     "data": {
      "text/plain": [
       "home_ownership_status\n",
       "mortgage    184952\n",
       "none            30\n",
       "other          107\n",
       "own          33204\n",
       "rent        148736\n",
       "NaN          51959\n",
       "dtype: int64"
      ]
     },
     "execution_count": 37,
     "metadata": {},
     "output_type": "execute_result"
    }
   ],
   "source": [
    "df.groupby(remainining_cols[4], dropna=False).size()"
   ]
  },
  {
   "cell_type": "markdown",
   "id": "b2c7c795",
   "metadata": {
    "papermill": {
     "duration": 0.024269,
     "end_time": "2023-02-11T04:18:39.069468",
     "exception": false,
     "start_time": "2023-02-11T04:18:39.045199",
     "status": "completed"
    },
    "tags": []
   },
   "source": [
    "Note another important thing to keep in mind is that the None category is not the same as NaN; it means that the borrower is not a home owner."
   ]
  },
  {
   "cell_type": "markdown",
   "id": "baf34e1a",
   "metadata": {
    "papermill": {
     "duration": 0.024363,
     "end_time": "2023-02-11T04:18:39.118175",
     "exception": false,
     "start_time": "2023-02-11T04:18:39.093812",
     "status": "completed"
    },
    "tags": []
   },
   "source": [
    "### Verify Income or Income Source"
   ]
  },
  {
   "cell_type": "code",
   "execution_count": 38,
   "id": "9a717c8a",
   "metadata": {
    "execution": {
     "iopub.execute_input": "2023-02-11T04:18:39.169425Z",
     "iopub.status.busy": "2023-02-11T04:18:39.168623Z",
     "iopub.status.idle": "2023-02-11T04:18:39.223269Z",
     "shell.execute_reply": "2023-02-11T04:18:39.222073Z"
    },
    "papermill": {
     "duration": 0.083392,
     "end_time": "2023-02-11T04:18:39.226007",
     "exception": false,
     "start_time": "2023-02-11T04:18:39.142615",
     "status": "completed"
    },
    "tags": []
   },
   "outputs": [
    {
     "data": {
      "text/plain": [
       "verify_income_or_source\n",
       "not verified                129846\n",
       "verified - income           149355\n",
       "verified - income source    139787\n",
       "dtype: int64"
      ]
     },
     "execution_count": 38,
     "metadata": {},
     "output_type": "execute_result"
    }
   ],
   "source": [
    "df.groupby(remainining_cols[-2], dropna=False).size()"
   ]
  },
  {
   "cell_type": "markdown",
   "id": "32e40c35",
   "metadata": {
    "papermill": {
     "duration": 0.024439,
     "end_time": "2023-02-11T04:18:39.275852",
     "exception": false,
     "start_time": "2023-02-11T04:18:39.251413",
     "status": "completed"
    },
    "tags": []
   },
   "source": [
    "### Borrower Provided Loan Category"
   ]
  },
  {
   "cell_type": "code",
   "execution_count": 39,
   "id": "51d516cc",
   "metadata": {
    "execution": {
     "iopub.execute_input": "2023-02-11T04:18:39.327629Z",
     "iopub.status.busy": "2023-02-11T04:18:39.326815Z",
     "iopub.status.idle": "2023-02-11T04:18:39.382383Z",
     "shell.execute_reply": "2023-02-11T04:18:39.381069Z"
    },
    "papermill": {
     "duration": 0.084473,
     "end_time": "2023-02-11T04:18:39.385023",
     "exception": false,
     "start_time": "2023-02-11T04:18:39.300550",
     "status": "completed"
    },
    "tags": []
   },
   "outputs": [
    {
     "data": {
      "text/plain": [
       "borrower_provided_loan_category\n",
       "car                     4688\n",
       "credit_card            94340\n",
       "debt_consolidation    248109\n",
       "educational              279\n",
       "home_improvement       23545\n",
       "house                   1989\n",
       "major_purchase          8544\n",
       "medical                 3948\n",
       "moving                  2531\n",
       "other                  20537\n",
       "renewable_energy         309\n",
       "small_business          6027\n",
       "vacation                2207\n",
       "wedding                 1935\n",
       "dtype: int64"
      ]
     },
     "execution_count": 39,
     "metadata": {},
     "output_type": "execute_result"
    }
   ],
   "source": [
    "df.groupby(remainining_cols[0], dropna=False).size()"
   ]
  },
  {
   "cell_type": "markdown",
   "id": "202a6ca1",
   "metadata": {
    "papermill": {
     "duration": 0.024683,
     "end_time": "2023-02-11T04:18:39.434652",
     "exception": false,
     "start_time": "2023-02-11T04:18:39.409969",
     "status": "completed"
    },
    "tags": []
   },
   "source": [
    "### Number of Years Employed"
   ]
  },
  {
   "cell_type": "code",
   "execution_count": 40,
   "id": "63a81009",
   "metadata": {
    "execution": {
     "iopub.execute_input": "2023-02-11T04:18:39.486685Z",
     "iopub.status.busy": "2023-02-11T04:18:39.486250Z",
     "iopub.status.idle": "2023-02-11T04:18:39.534114Z",
     "shell.execute_reply": "2023-02-11T04:18:39.532705Z"
    },
    "papermill": {
     "duration": 0.076951,
     "end_time": "2023-02-11T04:18:39.536591",
     "exception": false,
     "start_time": "2023-02-11T04:18:39.459640",
     "status": "completed"
    },
    "tags": []
   },
   "outputs": [
    {
     "data": {
      "text/plain": [
       "num_of_years_employed\n",
       "1 year        26526\n",
       "10+ years    135214\n",
       "2 years       37337\n",
       "3 years       33111\n",
       "4 years       24862\n",
       "5 years       27654\n",
       "6 years       22986\n",
       "7 years       23423\n",
       "8 years       20182\n",
       "9 years       16055\n",
       "< 1 year      32462\n",
       "NaN           19176\n",
       "dtype: int64"
      ]
     },
     "execution_count": 40,
     "metadata": {},
     "output_type": "execute_result"
    }
   ],
   "source": [
    "df.groupby(remainining_cols[9], dropna=False).size()"
   ]
  },
  {
   "cell_type": "markdown",
   "id": "4bb2b406",
   "metadata": {
    "papermill": {
     "duration": 0.024843,
     "end_time": "2023-02-11T04:18:39.586607",
     "exception": false,
     "start_time": "2023-02-11T04:18:39.561764",
     "status": "completed"
    },
    "tags": []
   },
   "source": [
    "We can treat this as a categorical variable rather than continous."
   ]
  },
  {
   "cell_type": "markdown",
   "id": "68f0ef4a",
   "metadata": {
    "papermill": {
     "duration": 0.024649,
     "end_time": "2023-02-11T04:18:39.636850",
     "exception": false,
     "start_time": "2023-02-11T04:18:39.612201",
     "status": "completed"
    },
    "tags": []
   },
   "source": [
    "### Number of Payment Months"
   ]
  },
  {
   "cell_type": "code",
   "execution_count": 41,
   "id": "07d76e14",
   "metadata": {
    "execution": {
     "iopub.execute_input": "2023-02-11T04:18:39.688503Z",
     "iopub.status.busy": "2023-02-11T04:18:39.688048Z",
     "iopub.status.idle": "2023-02-11T04:18:39.734596Z",
     "shell.execute_reply": "2023-02-11T04:18:39.733283Z"
    },
    "papermill": {
     "duration": 0.075519,
     "end_time": "2023-02-11T04:18:39.737265",
     "exception": false,
     "start_time": "2023-02-11T04:18:39.661746",
     "status": "completed"
    },
    "tags": []
   },
   "outputs": [
    {
     "data": {
      "text/plain": [
       "num_of_payment_months\n",
       "36 months    301420\n",
       "60 months    117568\n",
       "dtype: int64"
      ]
     },
     "execution_count": 41,
     "metadata": {},
     "output_type": "execute_result"
    }
   ],
   "source": [
    "df.groupby(remainining_cols[8], dropna=False).size()"
   ]
  },
  {
   "cell_type": "markdown",
   "id": "8f36db97",
   "metadata": {
    "papermill": {
     "duration": 0.025039,
     "end_time": "2023-02-11T04:18:39.788667",
     "exception": false,
     "start_time": "2023-02-11T04:18:39.763628",
     "status": "completed"
    },
    "tags": []
   },
   "source": [
    "### Initial Loan Status"
   ]
  },
  {
   "cell_type": "code",
   "execution_count": 42,
   "id": "7ad13d63",
   "metadata": {
    "execution": {
     "iopub.execute_input": "2023-02-11T04:18:39.842103Z",
     "iopub.status.busy": "2023-02-11T04:18:39.841677Z",
     "iopub.status.idle": "2023-02-11T04:18:39.885550Z",
     "shell.execute_reply": "2023-02-11T04:18:39.884631Z"
    },
    "papermill": {
     "duration": 0.073938,
     "end_time": "2023-02-11T04:18:39.888071",
     "exception": false,
     "start_time": "2023-02-11T04:18:39.814133",
     "status": "completed"
    },
    "tags": []
   },
   "outputs": [
    {
     "data": {
      "text/plain": [
       "init_loan_status\n",
       "f    273039\n",
       "w    145949\n",
       "dtype: int64"
      ]
     },
     "execution_count": 42,
     "metadata": {},
     "output_type": "execute_result"
    }
   ],
   "source": [
    "df.groupby(remainining_cols[5], dropna=False).size()"
   ]
  },
  {
   "cell_type": "markdown",
   "id": "55dcc708",
   "metadata": {
    "papermill": {
     "duration": 0.025834,
     "end_time": "2023-02-11T04:18:39.939455",
     "exception": false,
     "start_time": "2023-02-11T04:18:39.913621",
     "status": "completed"
    },
    "tags": []
   },
   "source": [
    "### Borrower Provided Reason For Loan"
   ]
  },
  {
   "cell_type": "code",
   "execution_count": 43,
   "id": "e6804416",
   "metadata": {
    "execution": {
     "iopub.execute_input": "2023-02-11T04:18:39.993125Z",
     "iopub.status.busy": "2023-02-11T04:18:39.992650Z",
     "iopub.status.idle": "2023-02-11T04:18:40.033252Z",
     "shell.execute_reply": "2023-02-11T04:18:40.031966Z"
    },
    "papermill": {
     "duration": 0.070724,
     "end_time": "2023-02-11T04:18:40.035677",
     "exception": false,
     "start_time": "2023-02-11T04:18:39.964953",
     "status": "completed"
    },
    "tags": []
   },
   "outputs": [
    {
     "data": {
      "text/plain": [
       "array(['borrower added on 12/05/10 > we currently have $2300 in our wedding fund, after paying multiple vendor deposits, and are depositing between $660 and $750 per month exclusively for wedding use.  we expect to receive approximately $6,000 from parents to go toward the wedding, but we would not receive that amount until right before the wedding, which is in august.  this loan is more for security than an inability to fund the wedding ourselves.<br/> borrower added on 12/09/10 > the monthly income shown above is only mine.  my fiance has been employed as a data analyst at a financial software company for the past 3+ years.  our combined annual gross income is approximately $96k.  because we are aggressively saving for our wedding and expect to receive contributions from parents, we anticipate paying off this loan earlier than the 60 months terms.<br/>'],\n",
       "      dtype=object)"
      ]
     },
     "execution_count": 43,
     "metadata": {},
     "output_type": "execute_result"
    }
   ],
   "source": [
    "df[remainining_cols[2]].loc[df[remainining_cols[2]].notna()].sample(1).values"
   ]
  },
  {
   "cell_type": "markdown",
   "id": "6d6f745d",
   "metadata": {
    "papermill": {
     "duration": 0.025963,
     "end_time": "2023-02-11T04:18:40.088928",
     "exception": false,
     "start_time": "2023-02-11T04:18:40.062965",
     "status": "completed"
    },
    "tags": []
   },
   "source": [
    "This feature has a lot of text, and should probably be handled with more sophisticated NLP techniques. What we will do here first is to remove non-alphanumeric characters and stop words, effectively trimming the text bodies."
   ]
  },
  {
   "cell_type": "code",
   "execution_count": 44,
   "id": "95aec689",
   "metadata": {
    "execution": {
     "iopub.execute_input": "2023-02-11T04:18:40.142960Z",
     "iopub.status.busy": "2023-02-11T04:18:40.142558Z",
     "iopub.status.idle": "2023-02-11T04:18:40.171618Z",
     "shell.execute_reply": "2023-02-11T04:18:40.170455Z"
    },
    "papermill": {
     "duration": 0.058597,
     "end_time": "2023-02-11T04:18:40.174041",
     "exception": false,
     "start_time": "2023-02-11T04:18:40.115444",
     "status": "completed"
    },
    "tags": []
   },
   "outputs": [
    {
     "data": {
      "text/plain": [
       "313917"
      ]
     },
     "execution_count": 44,
     "metadata": {},
     "output_type": "execute_result"
    }
   ],
   "source": [
    "# Check the number of missing values before processing\n",
    "df[remainining_cols[2]].isna().sum()"
   ]
  },
  {
   "cell_type": "markdown",
   "id": "4fee5b82",
   "metadata": {
    "papermill": {
     "duration": 0.02599,
     "end_time": "2023-02-11T04:18:40.225609",
     "exception": false,
     "start_time": "2023-02-11T04:18:40.199619",
     "status": "completed"
    },
    "tags": []
   },
   "source": [
    "First, create a dataframe containing the original count of words in the text bodies:"
   ]
  },
  {
   "cell_type": "code",
   "execution_count": 45,
   "id": "9fbf80d6",
   "metadata": {
    "execution": {
     "iopub.execute_input": "2023-02-11T04:18:40.279219Z",
     "iopub.status.busy": "2023-02-11T04:18:40.278807Z",
     "iopub.status.idle": "2023-02-11T04:18:40.522906Z",
     "shell.execute_reply": "2023-02-11T04:18:40.521608Z"
    },
    "papermill": {
     "duration": 0.273842,
     "end_time": "2023-02-11T04:18:40.525497",
     "exception": false,
     "start_time": "2023-02-11T04:18:40.251655",
     "status": "completed"
    },
    "tags": []
   },
   "outputs": [
    {
     "data": {
      "text/plain": [
       "count    105071.000000\n",
       "mean        235.828687\n",
       "std         265.428946\n",
       "min           0.000000\n",
       "25%          92.000000\n",
       "50%         163.000000\n",
       "75%         289.000000\n",
       "max        3986.000000\n",
       "Name: original_counts, dtype: float64"
      ]
     },
     "execution_count": 45,
     "metadata": {},
     "output_type": "execute_result"
    }
   ],
   "source": [
    "word_count = pd.DataFrame(\n",
    "    {\n",
    "        \"original_counts\": df[remainining_cols[2]].apply(\n",
    "            lambda val: len(val) if isinstance(val, str) else np.NaN\n",
    "        )\n",
    "    }\n",
    ")\n",
    "word_count.original_counts.describe()"
   ]
  },
  {
   "cell_type": "markdown",
   "id": "2e000f59",
   "metadata": {
    "papermill": {
     "duration": 0.025386,
     "end_time": "2023-02-11T04:18:40.576969",
     "exception": false,
     "start_time": "2023-02-11T04:18:40.551583",
     "status": "completed"
    },
    "tags": []
   },
   "source": [
    "Remove stop words and non-alphanumeric characters:"
   ]
  },
  {
   "cell_type": "code",
   "execution_count": 46,
   "id": "f837d07e",
   "metadata": {
    "execution": {
     "iopub.execute_input": "2023-02-11T04:18:40.631321Z",
     "iopub.status.busy": "2023-02-11T04:18:40.630870Z",
     "iopub.status.idle": "2023-02-11T04:18:54.405649Z",
     "shell.execute_reply": "2023-02-11T04:18:54.404539Z"
    },
    "papermill": {
     "duration": 13.805576,
     "end_time": "2023-02-11T04:18:54.408161",
     "exception": false,
     "start_time": "2023-02-11T04:18:40.602585",
     "status": "completed"
    },
    "tags": []
   },
   "outputs": [],
   "source": [
    "stop_words = set(stopwords.words(\"english\"))\n",
    "\n",
    "# Convert the text column to a numpy array\n",
    "text_array_reason = df[remainining_cols[2]].to_numpy()\n",
    "\n",
    "# Remove the stop words and non-alphanumeric characters using a numpy vectorized operation\n",
    "filtered_text_reason = np.vectorize(\n",
    "    lambda x: \" \".join(\n",
    "        [\n",
    "            re.sub(r\"\\W+\", \"\", word)\n",
    "            for word in x.split()\n",
    "            if word.lower() not in stop_words and re.sub(r\"\\W+\", \"\", word).isalpha()\n",
    "        ]\n",
    "    )\n",
    "    if x is not np.nan\n",
    "    else \"missing\"\n",
    ")(text_array_reason)"
   ]
  },
  {
   "cell_type": "markdown",
   "id": "d8cebf93",
   "metadata": {
    "papermill": {
     "duration": 0.025202,
     "end_time": "2023-02-11T04:18:54.459442",
     "exception": false,
     "start_time": "2023-02-11T04:18:54.434240",
     "status": "completed"
    },
    "tags": []
   },
   "source": [
    "Check word counts after processing:"
   ]
  },
  {
   "cell_type": "code",
   "execution_count": 47,
   "id": "44cea433",
   "metadata": {
    "execution": {
     "iopub.execute_input": "2023-02-11T04:18:54.512918Z",
     "iopub.status.busy": "2023-02-11T04:18:54.512502Z",
     "iopub.status.idle": "2023-02-11T04:18:55.724456Z",
     "shell.execute_reply": "2023-02-11T04:18:55.723157Z"
    },
    "papermill": {
     "duration": 1.241477,
     "end_time": "2023-02-11T04:18:55.726894",
     "exception": false,
     "start_time": "2023-02-11T04:18:54.485417",
     "status": "completed"
    },
    "tags": []
   },
   "outputs": [
    {
     "data": {
      "text/plain": [
       "count    105071.000000\n",
       "mean        146.753053\n",
       "std         162.301272\n",
       "min           0.000000\n",
       "25%          59.000000\n",
       "50%         103.000000\n",
       "75%         177.000000\n",
       "max        2790.000000\n",
       "Name: post_processed_counts, dtype: float64"
      ]
     },
     "execution_count": 47,
     "metadata": {},
     "output_type": "execute_result"
    }
   ],
   "source": [
    "word_count[\"post_processed_counts\"] = np.vectorize(\n",
    "    lambda x: float(len(x)) if x != \"missing\" else np.nan\n",
    ")(filtered_text_reason)\n",
    "word_count[\"post_processed_counts\"].describe()"
   ]
  },
  {
   "cell_type": "code",
   "execution_count": 48,
   "id": "31efe59d",
   "metadata": {
    "execution": {
     "iopub.execute_input": "2023-02-11T04:18:55.781326Z",
     "iopub.status.busy": "2023-02-11T04:18:55.780870Z",
     "iopub.status.idle": "2023-02-11T04:18:55.786014Z",
     "shell.execute_reply": "2023-02-11T04:18:55.784877Z"
    },
    "papermill": {
     "duration": 0.0353,
     "end_time": "2023-02-11T04:18:55.788268",
     "exception": false,
     "start_time": "2023-02-11T04:18:55.752968",
     "status": "completed"
    },
    "tags": []
   },
   "outputs": [],
   "source": [
    "del word_count"
   ]
  },
  {
   "cell_type": "markdown",
   "id": "fee8bac6",
   "metadata": {
    "papermill": {
     "duration": 0.025683,
     "end_time": "2023-02-11T04:18:55.841617",
     "exception": false,
     "start_time": "2023-02-11T04:18:55.815934",
     "status": "completed"
    },
    "tags": []
   },
   "source": [
    "Before re-assignment, check that we have not unintentially created any missing values:"
   ]
  },
  {
   "cell_type": "code",
   "execution_count": 49,
   "id": "75f1aca6",
   "metadata": {
    "execution": {
     "iopub.execute_input": "2023-02-11T04:18:55.896104Z",
     "iopub.status.busy": "2023-02-11T04:18:55.895351Z",
     "iopub.status.idle": "2023-02-11T04:18:56.427967Z",
     "shell.execute_reply": "2023-02-11T04:18:56.426758Z"
    },
    "papermill": {
     "duration": 0.562674,
     "end_time": "2023-02-11T04:18:56.430478",
     "exception": false,
     "start_time": "2023-02-11T04:18:55.867804",
     "status": "completed"
    },
    "tags": []
   },
   "outputs": [
    {
     "data": {
      "text/plain": [
       "True"
      ]
     },
     "execution_count": 49,
     "metadata": {},
     "output_type": "execute_result"
    }
   ],
   "source": [
    "(filtered_text_reason == \"missing\").sum() == df[remainining_cols[2]].isna().sum()"
   ]
  },
  {
   "cell_type": "code",
   "execution_count": 50,
   "id": "1eecc123",
   "metadata": {
    "execution": {
     "iopub.execute_input": "2023-02-11T04:18:56.486137Z",
     "iopub.status.busy": "2023-02-11T04:18:56.485676Z",
     "iopub.status.idle": "2023-02-11T04:18:57.676240Z",
     "shell.execute_reply": "2023-02-11T04:18:57.675122Z"
    },
    "papermill": {
     "duration": 1.220906,
     "end_time": "2023-02-11T04:18:57.678661",
     "exception": false,
     "start_time": "2023-02-11T04:18:56.457755",
     "status": "completed"
    },
    "tags": []
   },
   "outputs": [
    {
     "data": {
      "text/html": [
       "<div>\n",
       "<style scoped>\n",
       "    .dataframe tbody tr th:only-of-type {\n",
       "        vertical-align: middle;\n",
       "    }\n",
       "\n",
       "    .dataframe tbody tr th {\n",
       "        vertical-align: top;\n",
       "    }\n",
       "\n",
       "    .dataframe thead th {\n",
       "        text-align: right;\n",
       "    }\n",
       "</style>\n",
       "<table border=\"1\" class=\"dataframe\">\n",
       "  <thead>\n",
       "    <tr style=\"text-align: right;\">\n",
       "      <th></th>\n",
       "      <th>borrower_provided_reason_for_loan_processed</th>\n",
       "    </tr>\n",
       "    <tr>\n",
       "      <th>original_indices</th>\n",
       "      <th></th>\n",
       "    </tr>\n",
       "  </thead>\n",
       "  <tbody>\n",
       "    <tr>\n",
       "      <th>0</th>\n",
       "      <td>due lack personal finance education exposure p...</td>\n",
       "    </tr>\n",
       "    <tr>\n",
       "      <th>1</th>\n",
       "      <td>want pay last bit credit card debt better rate</td>\n",
       "    </tr>\n",
       "    <tr>\n",
       "      <th>2</th>\n",
       "      <td>trying pay friend back apartment brokers fee i...</td>\n",
       "    </tr>\n",
       "    <tr>\n",
       "      <th>3</th>\n",
       "      <td>funded would use loan consolidate two loans in...</td>\n",
       "    </tr>\n",
       "    <tr>\n",
       "      <th>4</th>\n",
       "      <td>currently personal loan citifinancial high int...</td>\n",
       "    </tr>\n",
       "    <tr>\n",
       "      <th>...</th>\n",
       "      <td>...</td>\n",
       "    </tr>\n",
       "    <tr>\n",
       "      <th>79995</th>\n",
       "      <td>NaN</td>\n",
       "    </tr>\n",
       "    <tr>\n",
       "      <th>79996</th>\n",
       "      <td>NaN</td>\n",
       "    </tr>\n",
       "    <tr>\n",
       "      <th>79997</th>\n",
       "      <td>NaN</td>\n",
       "    </tr>\n",
       "    <tr>\n",
       "      <th>79998</th>\n",
       "      <td>NaN</td>\n",
       "    </tr>\n",
       "    <tr>\n",
       "      <th>79999</th>\n",
       "      <td>NaN</td>\n",
       "    </tr>\n",
       "  </tbody>\n",
       "</table>\n",
       "<p>418988 rows × 1 columns</p>\n",
       "</div>"
      ],
      "text/plain": [
       "                        borrower_provided_reason_for_loan_processed\n",
       "original_indices                                                   \n",
       "0                 due lack personal finance education exposure p...\n",
       "1                    want pay last bit credit card debt better rate\n",
       "2                 trying pay friend back apartment brokers fee i...\n",
       "3                 funded would use loan consolidate two loans in...\n",
       "4                 currently personal loan citifinancial high int...\n",
       "...                                                             ...\n",
       "79995                                                           NaN\n",
       "79996                                                           NaN\n",
       "79997                                                           NaN\n",
       "79998                                                           NaN\n",
       "79999                                                           NaN\n",
       "\n",
       "[418988 rows x 1 columns]"
      ]
     },
     "execution_count": 50,
     "metadata": {},
     "output_type": "execute_result"
    }
   ],
   "source": [
    "# Restore the original indices\n",
    "processed_text_reason = pd.DataFrame(\n",
    "    {\n",
    "        \"original_indices\": df[remainining_cols[2]].index,\n",
    "        remainining_cols[2] + \"_processed\": pd.Series(filtered_text_reason).apply(\n",
    "            lambda val: val if val != \"missing\" else np.NaN\n",
    "        ),\n",
    "    }\n",
    ").set_index(\"original_indices\")\n",
    "processed_text_reason"
   ]
  },
  {
   "cell_type": "code",
   "execution_count": 51,
   "id": "c9dbabf4",
   "metadata": {
    "execution": {
     "iopub.execute_input": "2023-02-11T04:18:57.733634Z",
     "iopub.status.busy": "2023-02-11T04:18:57.733164Z",
     "iopub.status.idle": "2023-02-11T04:18:57.780174Z",
     "shell.execute_reply": "2023-02-11T04:18:57.778941Z"
    },
    "papermill": {
     "duration": 0.077958,
     "end_time": "2023-02-11T04:18:57.782920",
     "exception": false,
     "start_time": "2023-02-11T04:18:57.704962",
     "status": "completed"
    },
    "tags": []
   },
   "outputs": [
    {
     "data": {
      "text/plain": [
       "313917"
      ]
     },
     "execution_count": 51,
     "metadata": {},
     "output_type": "execute_result"
    }
   ],
   "source": [
    "df[remainining_cols[2]] = (\n",
    "    processed_text_reason.borrower_provided_reason_for_loan_processed\n",
    ")\n",
    "df[remainining_cols[2]].isna().sum()"
   ]
  },
  {
   "cell_type": "markdown",
   "id": "a2dec01f",
   "metadata": {
    "papermill": {
     "duration": 0.025921,
     "end_time": "2023-02-11T04:18:57.836176",
     "exception": false,
     "start_time": "2023-02-11T04:18:57.810255",
     "status": "completed"
    },
    "tags": []
   },
   "source": [
    "### Borrower State"
   ]
  },
  {
   "cell_type": "code",
   "execution_count": 52,
   "id": "28572f31",
   "metadata": {
    "execution": {
     "iopub.execute_input": "2023-02-11T04:18:57.890774Z",
     "iopub.status.busy": "2023-02-11T04:18:57.890349Z",
     "iopub.status.idle": "2023-02-11T04:18:57.934131Z",
     "shell.execute_reply": "2023-02-11T04:18:57.933253Z"
    },
    "papermill": {
     "duration": 0.073757,
     "end_time": "2023-02-11T04:18:57.936275",
     "exception": false,
     "start_time": "2023-02-11T04:18:57.862518",
     "status": "completed"
    },
    "tags": []
   },
   "outputs": [
    {
     "data": {
      "text/plain": [
       "borrower_state\n",
       "ak     1149\n",
       "al     5186\n",
       "ar     3078\n",
       "az     9677\n",
       "ca    64288\n",
       "co     8898\n",
       "ct     6323\n",
       "dc     1270\n",
       "de     1139\n",
       "fl    28099\n",
       "ga    13462\n",
       "hi     2234\n",
       "ia        7\n",
       "id        8\n",
       "il    16585\n",
       "in     5980\n",
       "ks     3872\n",
       "ky     3950\n",
       "la     5018\n",
       "ma     9730\n",
       "md     9873\n",
       "me        4\n",
       "mi    10527\n",
       "mn     7521\n",
       "mo     6689\n",
       "ms     1157\n",
       "mt     1248\n",
       "nc    11690\n",
       "ne        6\n",
       "nh     1994\n",
       "nj    15964\n",
       "nm     2322\n",
       "nv     5941\n",
       "ny    35416\n",
       "oh    13706\n",
       "ok     3788\n",
       "or     5509\n",
       "pa    14729\n",
       "ri     1834\n",
       "sc     4879\n",
       "sd      896\n",
       "tn     5515\n",
       "tx    33082\n",
       "ut     3091\n",
       "va    12633\n",
       "vt      770\n",
       "wa     9626\n",
       "wi     5424\n",
       "wv     2140\n",
       "wy     1061\n",
       "dtype: int64"
      ]
     },
     "execution_count": 52,
     "metadata": {},
     "output_type": "execute_result"
    }
   ],
   "source": [
    "df.groupby(remainining_cols[3], dropna=False).size()"
   ]
  },
  {
   "cell_type": "markdown",
   "id": "1c6cd72f",
   "metadata": {
    "papermill": {
     "duration": 0.027603,
     "end_time": "2023-02-11T04:18:57.990420",
     "exception": false,
     "start_time": "2023-02-11T04:18:57.962817",
     "status": "completed"
    },
    "tags": []
   },
   "source": [
    "### Self Filled Employer or Job Title\n",
    "\n",
    "This features is also contains text data. We will again remove stop words and non-alphanumeric charaters to sanitize it:"
   ]
  },
  {
   "cell_type": "code",
   "execution_count": 53,
   "id": "9fb88b2e",
   "metadata": {
    "execution": {
     "iopub.execute_input": "2023-02-11T04:18:58.047885Z",
     "iopub.status.busy": "2023-02-11T04:18:58.047458Z",
     "iopub.status.idle": "2023-02-11T04:18:58.082957Z",
     "shell.execute_reply": "2023-02-11T04:18:58.081754Z"
    },
    "papermill": {
     "duration": 0.067392,
     "end_time": "2023-02-11T04:18:58.085287",
     "exception": false,
     "start_time": "2023-02-11T04:18:58.017895",
     "status": "completed"
    },
    "tags": []
   },
   "outputs": [
    {
     "data": {
      "text/plain": [
       "24650"
      ]
     },
     "execution_count": 53,
     "metadata": {},
     "output_type": "execute_result"
    }
   ],
   "source": [
    "# Check missing values\n",
    "df[remainining_cols[10]].isna().sum()"
   ]
  },
  {
   "cell_type": "code",
   "execution_count": 54,
   "id": "ad96853e",
   "metadata": {
    "execution": {
     "iopub.execute_input": "2023-02-11T04:18:58.141298Z",
     "iopub.status.busy": "2023-02-11T04:18:58.140848Z",
     "iopub.status.idle": "2023-02-11T04:19:01.411028Z",
     "shell.execute_reply": "2023-02-11T04:19:01.410120Z"
    },
    "papermill": {
     "duration": 3.301448,
     "end_time": "2023-02-11T04:19:01.413702",
     "exception": false,
     "start_time": "2023-02-11T04:18:58.112254",
     "status": "completed"
    },
    "tags": []
   },
   "outputs": [],
   "source": [
    "# Convert the text column to a numpy array\n",
    "text_array_job = df[remainining_cols[10]].to_numpy()\n",
    "\n",
    "# Remove the stop words and non-alphanumeric characters using a numpy vectorized operation\n",
    "filtered_text_job = np.vectorize(\n",
    "    lambda x: \" \".join(\n",
    "        [\n",
    "            re.sub(r\"\\W+\", \"\", word)\n",
    "            for word in x.split()\n",
    "            if word.lower() not in stop_words and re.sub(r\"\\W+\", \"\", word).isalpha()\n",
    "        ]\n",
    "    )\n",
    "    if x is not np.nan\n",
    "    else \"missing\"\n",
    ")(text_array_job)"
   ]
  },
  {
   "cell_type": "markdown",
   "id": "589c1b3b",
   "metadata": {
    "papermill": {
     "duration": 0.026837,
     "end_time": "2023-02-11T04:19:01.467555",
     "exception": false,
     "start_time": "2023-02-11T04:19:01.440718",
     "status": "completed"
    },
    "tags": []
   },
   "source": [
    "Check for unintential errors:"
   ]
  },
  {
   "cell_type": "code",
   "execution_count": 55,
   "id": "eda71ba4",
   "metadata": {
    "execution": {
     "iopub.execute_input": "2023-02-11T04:19:01.523246Z",
     "iopub.status.busy": "2023-02-11T04:19:01.522575Z",
     "iopub.status.idle": "2023-02-11T04:19:01.566531Z",
     "shell.execute_reply": "2023-02-11T04:19:01.565333Z"
    },
    "papermill": {
     "duration": 0.074221,
     "end_time": "2023-02-11T04:19:01.569173",
     "exception": false,
     "start_time": "2023-02-11T04:19:01.494952",
     "status": "completed"
    },
    "tags": []
   },
   "outputs": [
    {
     "data": {
      "text/plain": [
       "True"
      ]
     },
     "execution_count": 55,
     "metadata": {},
     "output_type": "execute_result"
    }
   ],
   "source": [
    "(filtered_text_job == \"missing\").sum() == df[remainining_cols[10]].isna().sum()"
   ]
  },
  {
   "cell_type": "code",
   "execution_count": 56,
   "id": "e2d2f9fe",
   "metadata": {
    "execution": {
     "iopub.execute_input": "2023-02-11T04:19:01.624741Z",
     "iopub.status.busy": "2023-02-11T04:19:01.623954Z",
     "iopub.status.idle": "2023-02-11T04:19:01.810918Z",
     "shell.execute_reply": "2023-02-11T04:19:01.809660Z"
    },
    "papermill": {
     "duration": 0.217689,
     "end_time": "2023-02-11T04:19:01.813415",
     "exception": false,
     "start_time": "2023-02-11T04:19:01.595726",
     "status": "completed"
    },
    "tags": []
   },
   "outputs": [
    {
     "data": {
      "text/html": [
       "<div>\n",
       "<style scoped>\n",
       "    .dataframe tbody tr th:only-of-type {\n",
       "        vertical-align: middle;\n",
       "    }\n",
       "\n",
       "    .dataframe tbody tr th {\n",
       "        vertical-align: top;\n",
       "    }\n",
       "\n",
       "    .dataframe thead th {\n",
       "        text-align: right;\n",
       "    }\n",
       "</style>\n",
       "<table border=\"1\" class=\"dataframe\">\n",
       "  <thead>\n",
       "    <tr style=\"text-align: right;\">\n",
       "      <th></th>\n",
       "      <th>self_filled_employer_job_title_processed</th>\n",
       "    </tr>\n",
       "    <tr>\n",
       "      <th>original_indices</th>\n",
       "      <th></th>\n",
       "    </tr>\n",
       "  </thead>\n",
       "  <tbody>\n",
       "    <tr>\n",
       "      <th>0</th>\n",
       "      <td>NaN</td>\n",
       "    </tr>\n",
       "    <tr>\n",
       "      <th>1</th>\n",
       "      <td>cnn</td>\n",
       "    </tr>\n",
       "    <tr>\n",
       "      <th>2</th>\n",
       "      <td>web programmer</td>\n",
       "    </tr>\n",
       "    <tr>\n",
       "      <th>3</th>\n",
       "      <td>city beaumont texas</td>\n",
       "    </tr>\n",
       "    <tr>\n",
       "      <th>4</th>\n",
       "      <td>state farm insurance</td>\n",
       "    </tr>\n",
       "    <tr>\n",
       "      <th>...</th>\n",
       "      <td>...</td>\n",
       "    </tr>\n",
       "    <tr>\n",
       "      <th>79995</th>\n",
       "      <td>supervisor</td>\n",
       "    </tr>\n",
       "    <tr>\n",
       "      <th>79996</th>\n",
       "      <td>manager</td>\n",
       "    </tr>\n",
       "    <tr>\n",
       "      <th>79997</th>\n",
       "      <td>field unit supervisor</td>\n",
       "    </tr>\n",
       "    <tr>\n",
       "      <th>79998</th>\n",
       "      <td>senior project manager</td>\n",
       "    </tr>\n",
       "    <tr>\n",
       "      <th>79999</th>\n",
       "      <td>accountant</td>\n",
       "    </tr>\n",
       "  </tbody>\n",
       "</table>\n",
       "<p>418988 rows × 1 columns</p>\n",
       "</div>"
      ],
      "text/plain": [
       "                 self_filled_employer_job_title_processed\n",
       "original_indices                                         \n",
       "0                                                     NaN\n",
       "1                                                     cnn\n",
       "2                                          web programmer\n",
       "3                                     city beaumont texas\n",
       "4                                    state farm insurance\n",
       "...                                                   ...\n",
       "79995                                          supervisor\n",
       "79996                                             manager\n",
       "79997                               field unit supervisor\n",
       "79998                              senior project manager\n",
       "79999                                          accountant\n",
       "\n",
       "[418988 rows x 1 columns]"
      ]
     },
     "execution_count": 56,
     "metadata": {},
     "output_type": "execute_result"
    }
   ],
   "source": [
    "# Restore the original indices\n",
    "processed_text_job = pd.DataFrame(\n",
    "    {\n",
    "        \"original_indices\": df[remainining_cols[10]].index,\n",
    "        remainining_cols[10] + \"_processed\": pd.Series(filtered_text_job).apply(\n",
    "            lambda val: val if val != \"missing\" else np.NaN\n",
    "        ),\n",
    "    }\n",
    ").set_index(\"original_indices\")\n",
    "processed_text_job"
   ]
  },
  {
   "cell_type": "code",
   "execution_count": 57,
   "id": "b5682ad7",
   "metadata": {
    "execution": {
     "iopub.execute_input": "2023-02-11T04:19:01.870509Z",
     "iopub.status.busy": "2023-02-11T04:19:01.870048Z",
     "iopub.status.idle": "2023-02-11T04:19:01.916250Z",
     "shell.execute_reply": "2023-02-11T04:19:01.915007Z"
    },
    "papermill": {
     "duration": 0.077571,
     "end_time": "2023-02-11T04:19:01.918912",
     "exception": false,
     "start_time": "2023-02-11T04:19:01.841341",
     "status": "completed"
    },
    "tags": []
   },
   "outputs": [
    {
     "data": {
      "text/plain": [
       "24650"
      ]
     },
     "execution_count": 57,
     "metadata": {},
     "output_type": "execute_result"
    }
   ],
   "source": [
    "df[remainining_cols[10]] = processed_text_job.self_filled_employer_job_title_processed\n",
    "df[remainining_cols[10]].isna().sum()"
   ]
  },
  {
   "cell_type": "markdown",
   "id": "ff3c64eb",
   "metadata": {
    "papermill": {
     "duration": 0.026722,
     "end_time": "2023-02-11T04:19:01.973799",
     "exception": false,
     "start_time": "2023-02-11T04:19:01.947077",
     "status": "completed"
    },
    "tags": []
   },
   "source": [
    "### Loan Subgrade"
   ]
  },
  {
   "cell_type": "code",
   "execution_count": 58,
   "id": "6598fd4a",
   "metadata": {
    "execution": {
     "iopub.execute_input": "2023-02-11T04:19:02.029948Z",
     "iopub.status.busy": "2023-02-11T04:19:02.029223Z",
     "iopub.status.idle": "2023-02-11T04:19:02.073598Z",
     "shell.execute_reply": "2023-02-11T04:19:02.072317Z"
    },
    "papermill": {
     "duration": 0.075661,
     "end_time": "2023-02-11T04:19:02.076225",
     "exception": false,
     "start_time": "2023-02-11T04:19:02.000564",
     "status": "completed"
    },
    "tags": []
   },
   "outputs": [
    {
     "data": {
      "text/plain": [
       "loan_subgrade\n",
       "a1      7995\n",
       "a2      8686\n",
       "a3      9706\n",
       "a4     15154\n",
       "a5     17771\n",
       "b1     18010\n",
       "b2     20691\n",
       "b3     24698\n",
       "b4     23952\n",
       "b5     20078\n",
       "c1     21330\n",
       "c2     21313\n",
       "c3     20059\n",
       "c4     19236\n",
       "c5     17377\n",
       "d1     15126\n",
       "d2     13183\n",
       "d3     11532\n",
       "d4     10952\n",
       "d5      9181\n",
       "e1      7289\n",
       "e2      6830\n",
       "e3      5589\n",
       "e4      4706\n",
       "e5      3918\n",
       "f1      3104\n",
       "f2      2295\n",
       "f3      2037\n",
       "f4      1599\n",
       "f5      1205\n",
       "g1       854\n",
       "g2       641\n",
       "g3       469\n",
       "g4       306\n",
       "g5       250\n",
       "NaN    51866\n",
       "dtype: int64"
      ]
     },
     "execution_count": 58,
     "metadata": {},
     "output_type": "execute_result"
    }
   ],
   "source": [
    "df.groupby(remainining_cols[7], dropna=False).size()"
   ]
  },
  {
   "cell_type": "markdown",
   "id": "a3e04b2e",
   "metadata": {
    "papermill": {
     "duration": 0.0275,
     "end_time": "2023-02-11T04:19:02.131149",
     "exception": false,
     "start_time": "2023-02-11T04:19:02.103649",
     "status": "completed"
    },
    "tags": []
   },
   "source": [
    "### Loan Grade"
   ]
  },
  {
   "cell_type": "code",
   "execution_count": 59,
   "id": "5afba14c",
   "metadata": {
    "execution": {
     "iopub.execute_input": "2023-02-11T04:19:02.188302Z",
     "iopub.status.busy": "2023-02-11T04:19:02.187888Z",
     "iopub.status.idle": "2023-02-11T04:19:02.230665Z",
     "shell.execute_reply": "2023-02-11T04:19:02.229517Z"
    },
    "papermill": {
     "duration": 0.074091,
     "end_time": "2023-02-11T04:19:02.232935",
     "exception": false,
     "start_time": "2023-02-11T04:19:02.158844",
     "status": "completed"
    },
    "tags": []
   },
   "outputs": [
    {
     "data": {
      "text/plain": [
       "loan_grade\n",
       "a       59312\n",
       "b      107429\n",
       "c       99315\n",
       "d       59974\n",
       "e       28332\n",
       "f       10240\n",
       "g        2520\n",
       "NaN     51866\n",
       "dtype: int64"
      ]
     },
     "execution_count": 59,
     "metadata": {},
     "output_type": "execute_result"
    }
   ],
   "source": [
    "df.groupby(remainining_cols[6], dropna=False).size()"
   ]
  },
  {
   "cell_type": "markdown",
   "id": "0583f3d3",
   "metadata": {
    "papermill": {
     "duration": 0.026977,
     "end_time": "2023-02-11T04:19:02.287199",
     "exception": false,
     "start_time": "2023-02-11T04:19:02.260222",
     "status": "completed"
    },
    "tags": []
   },
   "source": [
    "### Three Digit Zip"
   ]
  },
  {
   "cell_type": "code",
   "execution_count": 60,
   "id": "7a27dcd3",
   "metadata": {
    "execution": {
     "iopub.execute_input": "2023-02-11T04:19:02.343645Z",
     "iopub.status.busy": "2023-02-11T04:19:02.343154Z",
     "iopub.status.idle": "2023-02-11T04:19:02.383764Z",
     "shell.execute_reply": "2023-02-11T04:19:02.382587Z"
    },
    "papermill": {
     "duration": 0.071751,
     "end_time": "2023-02-11T04:19:02.386205",
     "exception": false,
     "start_time": "2023-02-11T04:19:02.314454",
     "status": "completed"
    },
    "tags": []
   },
   "outputs": [
    {
     "data": {
      "text/plain": [
       "886"
      ]
     },
     "execution_count": 60,
     "metadata": {},
     "output_type": "execute_result"
    }
   ],
   "source": [
    "len(df[remainining_cols[-1]].unique())"
   ]
  },
  {
   "cell_type": "markdown",
   "id": "dd46f59b",
   "metadata": {
    "papermill": {
     "duration": 0.027527,
     "end_time": "2023-02-11T04:19:02.441326",
     "exception": false,
     "start_time": "2023-02-11T04:19:02.413799",
     "status": "completed"
    },
    "tags": []
   },
   "source": [
    "We can creat new features from these zip codes using catboost encoding or target encoding for other numerical columns."
   ]
  },
  {
   "cell_type": "markdown",
   "id": "db145547",
   "metadata": {
    "papermill": {
     "duration": 0.028207,
     "end_time": "2023-02-11T04:19:02.497262",
     "exception": false,
     "start_time": "2023-02-11T04:19:02.469055",
     "status": "completed"
    },
    "tags": []
   },
   "source": [
    "### Loan Title\n",
    "\n",
    "This is a text column; remove stop words and non-alphanumeric characters."
   ]
  },
  {
   "cell_type": "code",
   "execution_count": 61,
   "id": "e7e68383",
   "metadata": {
    "execution": {
     "iopub.execute_input": "2023-02-11T04:19:02.554669Z",
     "iopub.status.busy": "2023-02-11T04:19:02.554252Z",
     "iopub.status.idle": "2023-02-11T04:19:02.579825Z",
     "shell.execute_reply": "2023-02-11T04:19:02.578793Z"
    },
    "papermill": {
     "duration": 0.057135,
     "end_time": "2023-02-11T04:19:02.581865",
     "exception": false,
     "start_time": "2023-02-11T04:19:02.524730",
     "status": "completed"
    },
    "tags": []
   },
   "outputs": [
    {
     "data": {
      "text/plain": [
       "16"
      ]
     },
     "execution_count": 61,
     "metadata": {},
     "output_type": "execute_result"
    }
   ],
   "source": [
    "# Check missing values\n",
    "df[remainining_cols[1]].isna().sum()"
   ]
  },
  {
   "cell_type": "code",
   "execution_count": 62,
   "id": "c26281f2",
   "metadata": {
    "execution": {
     "iopub.execute_input": "2023-02-11T04:19:02.643053Z",
     "iopub.status.busy": "2023-02-11T04:19:02.642632Z",
     "iopub.status.idle": "2023-02-11T04:19:06.009601Z",
     "shell.execute_reply": "2023-02-11T04:19:06.008367Z"
    },
    "papermill": {
     "duration": 3.401838,
     "end_time": "2023-02-11T04:19:06.012699",
     "exception": false,
     "start_time": "2023-02-11T04:19:02.610861",
     "status": "completed"
    },
    "tags": []
   },
   "outputs": [],
   "source": [
    "# Convert the text column to a numpy array\n",
    "text_array_title = df[remainining_cols[1]].to_numpy()\n",
    "\n",
    "# Remove the stop words and non-alphanumeric characters using a numpy vectorized operation\n",
    "filtered_text_title = np.vectorize(\n",
    "    lambda x: \" \".join(\n",
    "        [\n",
    "            re.sub(r\"\\W+\", \"\", word)\n",
    "            for word in x.split()\n",
    "            if word.lower() not in stop_words and re.sub(r\"\\W+\", \"\", word).isalpha()\n",
    "        ]\n",
    "    )\n",
    "    if x is not np.nan\n",
    "    else \"missing\"\n",
    ")(text_array_title)"
   ]
  },
  {
   "cell_type": "markdown",
   "id": "15eb719f",
   "metadata": {
    "papermill": {
     "duration": 0.027414,
     "end_time": "2023-02-11T04:19:06.067975",
     "exception": false,
     "start_time": "2023-02-11T04:19:06.040561",
     "status": "completed"
    },
    "tags": []
   },
   "source": [
    "Check errors:"
   ]
  },
  {
   "cell_type": "code",
   "execution_count": 63,
   "id": "2dc1a9b9",
   "metadata": {
    "execution": {
     "iopub.execute_input": "2023-02-11T04:19:06.125137Z",
     "iopub.status.busy": "2023-02-11T04:19:06.124704Z",
     "iopub.status.idle": "2023-02-11T04:19:06.163810Z",
     "shell.execute_reply": "2023-02-11T04:19:06.162896Z"
    },
    "papermill": {
     "duration": 0.070648,
     "end_time": "2023-02-11T04:19:06.166120",
     "exception": false,
     "start_time": "2023-02-11T04:19:06.095472",
     "status": "completed"
    },
    "tags": []
   },
   "outputs": [
    {
     "data": {
      "text/plain": [
       "True"
      ]
     },
     "execution_count": 63,
     "metadata": {},
     "output_type": "execute_result"
    }
   ],
   "source": [
    "(filtered_text_title == \"missing\").sum() == df[remainining_cols[1]].isna().sum()"
   ]
  },
  {
   "cell_type": "code",
   "execution_count": 64,
   "id": "2eb0abd8",
   "metadata": {
    "execution": {
     "iopub.execute_input": "2023-02-11T04:19:06.224705Z",
     "iopub.status.busy": "2023-02-11T04:19:06.224229Z",
     "iopub.status.idle": "2023-02-11T04:19:06.400047Z",
     "shell.execute_reply": "2023-02-11T04:19:06.399098Z"
    },
    "papermill": {
     "duration": 0.208094,
     "end_time": "2023-02-11T04:19:06.402487",
     "exception": false,
     "start_time": "2023-02-11T04:19:06.194393",
     "status": "completed"
    },
    "tags": []
   },
   "outputs": [
    {
     "data": {
      "text/html": [
       "<div>\n",
       "<style scoped>\n",
       "    .dataframe tbody tr th:only-of-type {\n",
       "        vertical-align: middle;\n",
       "    }\n",
       "\n",
       "    .dataframe tbody tr th {\n",
       "        vertical-align: top;\n",
       "    }\n",
       "\n",
       "    .dataframe thead th {\n",
       "        text-align: right;\n",
       "    }\n",
       "</style>\n",
       "<table border=\"1\" class=\"dataframe\">\n",
       "  <thead>\n",
       "    <tr style=\"text-align: right;\">\n",
       "      <th></th>\n",
       "      <th>borrower_provided_loan_title_processed</th>\n",
       "    </tr>\n",
       "    <tr>\n",
       "      <th>original_indices</th>\n",
       "      <th></th>\n",
       "    </tr>\n",
       "  </thead>\n",
       "  <tbody>\n",
       "    <tr>\n",
       "      <th>0</th>\n",
       "      <td>debt consolidation ontime payer</td>\n",
       "    </tr>\n",
       "    <tr>\n",
       "      <th>1</th>\n",
       "      <td>credit card payoff</td>\n",
       "    </tr>\n",
       "    <tr>\n",
       "      <th>2</th>\n",
       "      <td>mlue</td>\n",
       "    </tr>\n",
       "    <tr>\n",
       "      <th>3</th>\n",
       "      <td>zxcvb</td>\n",
       "    </tr>\n",
       "    <tr>\n",
       "      <th>4</th>\n",
       "      <td></td>\n",
       "    </tr>\n",
       "    <tr>\n",
       "      <th>...</th>\n",
       "      <td>...</td>\n",
       "    </tr>\n",
       "    <tr>\n",
       "      <th>79995</th>\n",
       "      <td>credit card refinancing</td>\n",
       "    </tr>\n",
       "    <tr>\n",
       "      <th>79996</th>\n",
       "      <td>credit card refinancing</td>\n",
       "    </tr>\n",
       "    <tr>\n",
       "      <th>79997</th>\n",
       "      <td>credit card refinancing</td>\n",
       "    </tr>\n",
       "    <tr>\n",
       "      <th>79998</th>\n",
       "      <td>debt consolidation</td>\n",
       "    </tr>\n",
       "    <tr>\n",
       "      <th>79999</th>\n",
       "      <td>debt consolidation</td>\n",
       "    </tr>\n",
       "  </tbody>\n",
       "</table>\n",
       "<p>418988 rows × 1 columns</p>\n",
       "</div>"
      ],
      "text/plain": [
       "                 borrower_provided_loan_title_processed\n",
       "original_indices                                       \n",
       "0                       debt consolidation ontime payer\n",
       "1                                    credit card payoff\n",
       "2                                                  mlue\n",
       "3                                                 zxcvb\n",
       "4                                                      \n",
       "...                                                 ...\n",
       "79995                           credit card refinancing\n",
       "79996                           credit card refinancing\n",
       "79997                           credit card refinancing\n",
       "79998                                debt consolidation\n",
       "79999                                debt consolidation\n",
       "\n",
       "[418988 rows x 1 columns]"
      ]
     },
     "execution_count": 64,
     "metadata": {},
     "output_type": "execute_result"
    }
   ],
   "source": [
    "# Restore the original indices\n",
    "processed_text_title = pd.DataFrame(\n",
    "    {\n",
    "        \"original_indices\": df[remainining_cols[1]].index,\n",
    "        remainining_cols[1] + \"_processed\": pd.Series(filtered_text_title).apply(\n",
    "            lambda val: val if val != \"missing\" else np.NaN\n",
    "        ),\n",
    "    }\n",
    ").set_index(\"original_indices\")\n",
    "processed_text_title"
   ]
  },
  {
   "cell_type": "code",
   "execution_count": 65,
   "id": "83481887",
   "metadata": {
    "execution": {
     "iopub.execute_input": "2023-02-11T04:19:06.462496Z",
     "iopub.status.busy": "2023-02-11T04:19:06.461240Z",
     "iopub.status.idle": "2023-02-11T04:19:06.512098Z",
     "shell.execute_reply": "2023-02-11T04:19:06.511106Z"
    },
    "papermill": {
     "duration": 0.083594,
     "end_time": "2023-02-11T04:19:06.514483",
     "exception": false,
     "start_time": "2023-02-11T04:19:06.430889",
     "status": "completed"
    },
    "tags": []
   },
   "outputs": [
    {
     "data": {
      "text/plain": [
       "16"
      ]
     },
     "execution_count": 65,
     "metadata": {},
     "output_type": "execute_result"
    }
   ],
   "source": [
    "df[remainining_cols[1]] = processed_text_title.borrower_provided_loan_title_processed\n",
    "df[remainining_cols[1]].isna().sum()"
   ]
  },
  {
   "cell_type": "markdown",
   "id": "d4864926",
   "metadata": {
    "papermill": {
     "duration": 0.103899,
     "end_time": "2023-02-11T04:19:06.647434",
     "exception": false,
     "start_time": "2023-02-11T04:19:06.543535",
     "status": "completed"
    },
    "tags": []
   },
   "source": [
    "## Final Check "
   ]
  },
  {
   "cell_type": "code",
   "execution_count": 66,
   "id": "20cdabf6",
   "metadata": {
    "execution": {
     "iopub.execute_input": "2023-02-11T04:19:06.707698Z",
     "iopub.status.busy": "2023-02-11T04:19:06.707257Z",
     "iopub.status.idle": "2023-02-11T04:19:07.335014Z",
     "shell.execute_reply": "2023-02-11T04:19:07.333416Z"
    },
    "papermill": {
     "duration": 0.661913,
     "end_time": "2023-02-11T04:19:07.337804",
     "exception": false,
     "start_time": "2023-02-11T04:19:06.675891",
     "status": "completed"
    },
    "tags": []
   },
   "outputs": [
    {
     "name": "stdout",
     "output_type": "stream",
     "text": [
      "num_of_payment_months : ['36 months' '60 months'] \n",
      "\n",
      "\n",
      "loan_grade : ['b' 'd' 'c'] \n",
      "\n",
      "\n",
      "loan_subgrade : ['b4' 'b5' 'd3'] \n",
      "\n",
      "\n",
      "self_filled_employer_job_title : [nan 'cnn' 'web programmer'] \n",
      "\n",
      "\n",
      "num_of_years_employed : ['< 1 year' '1 year' '10+ years'] \n",
      "\n",
      "\n",
      "home_ownership_status : ['rent' 'own' 'mortgage'] \n",
      "\n",
      "\n",
      "verify_income_or_source : ['verified - income' 'not verified' 'verified - income source'] \n",
      "\n",
      "\n",
      "borrower_provided_reason_for_loan : ['due lack personal finance education exposure poor financing skills growing up easy prey credit predators devoted becoming debtfree assure lenders pay ontime every time never missed payment last years credit'\n",
      " 'want pay last bit credit card debt better rate'\n",
      " 'trying pay friend back apartment brokers fee incurred well credit card stuff'] \n",
      "\n",
      "\n",
      "borrower_provided_loan_category : ['debt_consolidation' 'credit_card' 'car'] \n",
      "\n",
      "\n",
      "borrower_provided_loan_title : ['debt consolidation ontime payer' 'credit card payoff' 'mlue'] \n",
      "\n",
      "\n",
      "zip_first_three : ['941xx' '112xx' '100xx'] \n",
      "\n",
      "\n",
      "borrower_state : ['ca' 'ny' 'tx'] \n",
      "\n",
      "\n",
      "init_loan_status : ['f' 'w'] \n",
      "\n",
      "\n"
     ]
    }
   ],
   "source": [
    "for col in df.select_dtypes(include=\"object\").columns:\n",
    "    print(col, \":\", df[col].unique()[:3], \"\\n\\n\")"
   ]
  },
  {
   "cell_type": "code",
   "execution_count": 67,
   "id": "fe323ced",
   "metadata": {
    "execution": {
     "iopub.execute_input": "2023-02-11T04:19:07.397747Z",
     "iopub.status.busy": "2023-02-11T04:19:07.396680Z",
     "iopub.status.idle": "2023-02-11T04:19:07.406677Z",
     "shell.execute_reply": "2023-02-11T04:19:07.405291Z"
    },
    "papermill": {
     "duration": 0.042892,
     "end_time": "2023-02-11T04:19:07.409456",
     "exception": false,
     "start_time": "2023-02-11T04:19:07.366564",
     "status": "completed"
    },
    "tags": []
   },
   "outputs": [
    {
     "data": {
      "text/plain": [
       "interest_rate                           float64\n",
       "id_loan                                 float64\n",
       "id_borrower                             float64\n",
       "loan_amt_requested                        int32\n",
       "loan_amt_funded                           int32\n",
       "loan_amt_investor_funded_portion          int32\n",
       "num_of_payment_months                    object\n",
       "loan_grade                               object\n",
       "loan_subgrade                            object\n",
       "self_filled_employer_job_title           object\n",
       "num_of_years_employed                    object\n",
       "home_ownership_status                    object\n",
       "borrower_annual_income                  float64\n",
       "verify_income_or_source                  object\n",
       "loan_issued_date                      period[M]\n",
       "borrower_provided_reason_for_loan        object\n",
       "borrower_provided_loan_category          object\n",
       "borrower_provided_loan_title             object\n",
       "zip_first_three                          object\n",
       "borrower_state                           object\n",
       "monthly_debt_to_income_ratio            float64\n",
       "num_of_past_dues                        float64\n",
       "borrower_earliest_credit_open_date    period[M]\n",
       "num_of_creditor_inquiries               float64\n",
       "num_of_months_since_delinquency         float64\n",
       "num_of_months_since_public_rec          float64\n",
       "num_of_open_credit_line                 float64\n",
       "num_of_derog_publib_rec                 float64\n",
       "total_credit_rev_balance                float64\n",
       "rev_line_util_rate                      float64\n",
       "total_credit_line                       float64\n",
       "init_loan_status                         object\n",
       "is_train                                  int64\n",
       "dtype: object"
      ]
     },
     "execution_count": 67,
     "metadata": {},
     "output_type": "execute_result"
    }
   ],
   "source": [
    "df.dtypes"
   ]
  },
  {
   "cell_type": "markdown",
   "id": "d07dab80",
   "metadata": {
    "papermill": {
     "duration": 0.028453,
     "end_time": "2023-02-11T04:19:07.467103",
     "exception": false,
     "start_time": "2023-02-11T04:19:07.438650",
     "status": "completed"
    },
    "tags": []
   },
   "source": [
    "Split the data back into train and test set based on indicator:"
   ]
  },
  {
   "cell_type": "code",
   "execution_count": 68,
   "id": "b96f15de",
   "metadata": {
    "execution": {
     "iopub.execute_input": "2023-02-11T04:19:07.526814Z",
     "iopub.status.busy": "2023-02-11T04:19:07.526336Z",
     "iopub.status.idle": "2023-02-11T04:19:07.835249Z",
     "shell.execute_reply": "2023-02-11T04:19:07.834447Z"
    },
    "papermill": {
     "duration": 0.341597,
     "end_time": "2023-02-11T04:19:07.837645",
     "exception": false,
     "start_time": "2023-02-11T04:19:07.496048",
     "status": "completed"
    },
    "tags": []
   },
   "outputs": [
    {
     "data": {
      "text/plain": [
       "((338988, 32), (80000, 32))"
      ]
     },
     "execution_count": 68,
     "metadata": {},
     "output_type": "execute_result"
    }
   ],
   "source": [
    "train_sanitized, test_sanitized = (\n",
    "    df.loc[df.is_train == 1].drop([\"is_train\"], axis=1),\n",
    "    df.loc[df.is_train != 1].drop([\"is_train\"], axis=1),\n",
    ")\n",
    "train_sanitized.shape, test_sanitized.shape"
   ]
  },
  {
   "cell_type": "markdown",
   "id": "01f09b3e",
   "metadata": {
    "papermill": {
     "duration": 0.029396,
     "end_time": "2023-02-11T04:19:07.895927",
     "exception": false,
     "start_time": "2023-02-11T04:19:07.866531",
     "status": "completed"
    },
    "tags": []
   },
   "source": [
    "## Write to Disk"
   ]
  },
  {
   "cell_type": "code",
   "execution_count": 69,
   "id": "c94e0cc5",
   "metadata": {
    "execution": {
     "iopub.execute_input": "2023-02-11T04:19:07.956264Z",
     "iopub.status.busy": "2023-02-11T04:19:07.955629Z",
     "iopub.status.idle": "2023-02-11T04:19:18.028903Z",
     "shell.execute_reply": "2023-02-11T04:19:18.027829Z"
    },
    "papermill": {
     "duration": 10.10713,
     "end_time": "2023-02-11T04:19:18.031881",
     "exception": false,
     "start_time": "2023-02-11T04:19:07.924751",
     "status": "completed"
    },
    "tags": []
   },
   "outputs": [],
   "source": [
    "train_sanitized.to_csv(\n",
    "    \"/kaggle/working/train_sanitized.csv\", index=False, date_format=\"%y-%b\"\n",
    ")\n",
    "test_sanitized.to_csv(\n",
    "    \"/kaggle/working/test_sanitized.csv\", index=False, date_format=\"%y-%b\"\n",
    ")"
   ]
  }
 ],
 "metadata": {
  "kernelspec": {
   "display_name": "rapids",
   "language": "python",
   "name": "rapids"
  },
  "language_info": {
   "codemirror_mode": {
    "name": "ipython",
    "version": 3
   },
   "file_extension": ".py",
   "mimetype": "text/x-python",
   "name": "python",
   "nbconvert_exporter": "python",
   "pygments_lexer": "ipython3",
   "version": "3.9.15"
  },
  "papermill": {
   "default_parameters": {},
   "duration": 81.162552,
   "end_time": "2023-02-11T04:19:19.487539",
   "environment_variables": {},
   "exception": null,
   "input_path": "__notebook__.ipynb",
   "output_path": "__notebook__.ipynb",
   "parameters": {},
   "start_time": "2023-02-11T04:17:58.324987",
   "version": "2.3.4"
  }
 },
 "nbformat": 4,
 "nbformat_minor": 5
}
