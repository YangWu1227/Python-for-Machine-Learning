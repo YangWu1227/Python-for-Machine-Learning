{
 "cells": [
  {
   "cell_type": "code",
   "execution_count": 1,
   "id": "c12df085-985f-4cde-8802-bedd3856bfde",
   "metadata": {
    "tags": []
   },
   "outputs": [
    {
     "data": {
      "text/plain": [
       "'Sat, 08 April 2023 07:44:50'"
      ]
     },
     "execution_count": 1,
     "metadata": {},
     "output_type": "execute_result"
    }
   ],
   "source": [
    "# Interactive session\n",
    "from IPython.core.interactiveshell import InteractiveShell\n",
    "\n",
    "InteractiveShell.ast_node_interactivity = \"all\"\n",
    "\n",
    "# Standard library and others\n",
    "import os\n",
    "import datetime\n",
    "import pytz\n",
    "import boto3\n",
    "import sagemaker\n",
    "\n",
    "# Data\n",
    "import pandas as pd\n",
    "import numpy as np\n",
    "\n",
    "# Spark\n",
    "from pyspark.sql import SparkSession\n",
    "from pyspark.sql.types import *\n",
    "import pyspark.sql.functions as f\n",
    "\n",
    "datetime.datetime.now(pytz.timezone(\"US/Eastern\")).strftime(\"%a, %d %B %Y %H:%M:%S\")"
   ]
  },
  {
   "cell_type": "markdown",
   "id": "add17bef-cae1-44f0-8c90-d9284002218d",
   "metadata": {},
   "source": [
    "## Spark"
   ]
  },
  {
   "cell_type": "code",
   "execution_count": 19,
   "id": "5ae972b6-59ad-4034-84b3-b2b419e12e63",
   "metadata": {
    "tags": []
   },
   "outputs": [
    {
     "data": {
      "text/html": [
       "\n",
       "            <div>\n",
       "                <p><b>SparkSession - in-memory</b></p>\n",
       "                \n",
       "        <div>\n",
       "            <p><b>SparkContext</b></p>\n",
       "\n",
       "            <p><a href=\"http://ip-172-16-129-198.ec2.internal:4040\">Spark UI</a></p>\n",
       "\n",
       "            <dl>\n",
       "              <dt>Version</dt>\n",
       "                <dd><code>v3.3.0</code></dd>\n",
       "              <dt>Master</dt>\n",
       "                <dd><code>local[*]</code></dd>\n",
       "              <dt>AppName</dt>\n",
       "                <dd><code>credit_card_fraud</code></dd>\n",
       "            </dl>\n",
       "        </div>\n",
       "        \n",
       "            </div>\n",
       "        "
      ],
      "text/plain": [
       "<pyspark.sql.session.SparkSession at 0x7fa8d967add0>"
      ]
     },
     "execution_count": 19,
     "metadata": {},
     "output_type": "execute_result"
    }
   ],
   "source": [
    "spark = (\n",
    "    SparkSession.builder.master(\"local[*]\")\n",
    "    .appName(\"credit_card_fraud\")\n",
    "    .config(\"spark.sql.repl.eagerEval.enabled\", True)\n",
    "    .config(\"spark.sql.repl.eagerEval.maxNumRows\", 15)\n",
    "    .getOrCreate()\n",
    ")\n",
    "spark"
   ]
  },
  {
   "cell_type": "markdown",
   "id": "e471f9ba-ef94-4f1f-9455-66b62373e050",
   "metadata": {},
   "source": [
    "## Sagemaker and S3"
   ]
  },
  {
   "cell_type": "code",
   "execution_count": 4,
   "id": "c97a8127-7b74-4e41-a5d2-7f98726c71c0",
   "metadata": {
    "tags": []
   },
   "outputs": [
    {
     "name": "stdout",
     "output_type": "stream",
     "text": [
      "Default role arn:aws:iam::722696965592:role/service-role/AmazonSageMaker-ExecutionRole-20230116T171380\n",
      "Sagemaker Session <sagemaker.session.Session object at 0x7fa8d3443f40>\n"
     ]
    }
   ],
   "source": [
    "default_role = sagemaker.get_execution_role()\n",
    "sagemaker_session = sagemaker.Session()\n",
    "\n",
    "print(\"Default role\", default_role)\n",
    "print(\"Sagemaker Session\", sagemaker_session)"
   ]
  },
  {
   "cell_type": "code",
   "execution_count": 10,
   "id": "9f5ee0f8-1da7-428b-a38a-1ad9b5e64036",
   "metadata": {
    "tags": []
   },
   "outputs": [
    {
     "name": "stdout",
     "output_type": "stream",
     "text": [
      "customer_churn/raw_data/\n",
      "customer_churn/raw_data/Telco_customer_churn_demographics.csv\n",
      "customer_churn/raw_data/Telco_customer_churn_location.csv\n",
      "customer_churn/raw_data/Telco_customer_churn_population.csv\n",
      "customer_churn/raw_data/Telco_customer_churn_services.csv\n",
      "customer_churn/raw_data/Telco_customer_churn_status.csv\n",
      "customer_churn/raw_data/joined_data.csv\n"
     ]
    }
   ],
   "source": [
    "s3 = boto3.client(\"s3\")\n",
    "\n",
    "bucket_name = \"yang-ml-sagemaker\"\n",
    "raw_data_path = \"customer_churn/raw_data\"\n",
    "\n",
    "objects = s3.list_objects(Bucket=bucket_name, Prefix=raw_data_path)\n",
    "\n",
    "for obj in objects[\"Contents\"]:\n",
    "    print(obj[\"Key\"])"
   ]
  },
  {
   "cell_type": "markdown",
   "id": "9469dabd-369d-4580-8ff6-714f3037bae2",
   "metadata": {},
   "source": [
    "## Data Ingestion\n",
    "\n",
    "This sample data module tracks a fictional telco company's customer churn based on a variety of possible factors. The churn column indicates whether or not the customer left within the last month. Other columns include gender, dependents, monthly charges, and many with information about the types of services each customer has. The Telco customer churn data module is composed of 5 tables:\n",
    "\n",
    "* Telco_customer_churn_demographics.xlsx\n",
    "* Telco_customer_churn_location.xlsx\n",
    "* Telco_customer_churn_population.xlsx\n",
    "* Telco_customer_churn_services.xlsx\n",
    "* Telco_customer_churn_status.xlsx\n",
    "\n",
    "### Data Dictionary\n",
    "\n",
    "| Demographics   | Descriptions                        |\n",
    "|----------------|-------------------------------------|\n",
    "| CustomerID     | A unique ID that identifies each customer. |\n",
    "| Count          | A value used in reporting/dashboarding to sum up the number of customers in a filtered set. |\n",
    "| Gender         | The customer’s gender: Male, Female   |\n",
    "| Age            | The customer’s current age, in years, at the time the fiscal quarter ended. |\n",
    "| Senior Citizen | Indicates if the customer is 65 or older: Yes, No |\n",
    "| Married        | Indicates if the customer is married: Yes, No |\n",
    "| Dependents     | Indicates if the customer lives with any dependents: Yes, No. Dependents could be children, parents, grandparents, etc. |\n",
    "| Number of Dependents | Indicates the number of dependents that live with the customer. |\n",
    "\n",
    "---\n",
    "\n",
    "| Location    | Descriptions                                                       |\n",
    "|-------------|--------------------------------------------------------|\n",
    "| CustomerID  | A unique ID that identifies each customer.              |\n",
    "| Count       | A value used in reporting/dashboarding to sum up the number of customers in a filtered set. |\n",
    "| Country     | The country of the customer’s primary residence.         |\n",
    "| State       | The state of the customer’s primary residence.           |\n",
    "| City        | The city of the customer’s primary residence.            |\n",
    "| Zip Code    | The zip code of the customer’s primary residence.        |\n",
    "| Lat Long    | The combined latitude and longitude of the customer’s primary residence. |\n",
    "| Latitude    | The latitude of the customer’s primary residence.        |\n",
    "| Longitude   | The longitude of the customer’s primary residence.       |\n",
    "\n",
    "---\n",
    "\n",
    "| Population  | Descriptions                                                      |\n",
    "|-------------|------------------------------------------------------|\n",
    "| ID          | A unique ID that identifies each row.                 |\n",
    "| Zip Code    | The zip code of the customer’s primary residence.      |\n",
    "| Population  | A current population estimate for the entire Zip Code area. |\n",
    "\n",
    "---\n",
    "\n",
    "| Services                              |   Descriptions                                                                                                     |\n",
    "|---------------------------------------|--------------------------------------------------------------------------------------------------------|\n",
    "| CustomerID                            | A unique ID that identifies each customer.                                                             |\n",
    "| Count                                 | A value used in reporting/dashboarding to sum up the number of customers in a filtered set.             |\n",
    "| Quarter                               | The fiscal quarter that the data has been derived from (e.g. Q3).                                      |\n",
    "| Referred a Friend                     | Indicates if the customer has ever referred a friend or family member to this company: Yes, No          |\n",
    "| Number of Referrals                   | Indicates the number of referrals to date that the customer has made.                                  |\n",
    "| Tenure in Months                      | Indicates the total amount of months that the customer has been with the company by the end of the quarter specified above.|\n",
    "| Offer                                 | Identifies the last marketing offer that the customer accepted, if applicable. Values include None, Offer A, Offer B, Offer C, Offer D, and Offer E.|\n",
    "| Phone Service                         | Indicates if the customer subscribes to home phone service with the company: Yes, No                   |\n",
    "| Avg Monthly Long Distance Charges     | Indicates the customer’s average long distance charges, calculated to the end of the quarter specified above.|\n",
    "| Multiple Lines                        | Indicates if the customer subscribes to multiple telephone lines with the company: Yes, No             |\n",
    "| Internet Service                      | Indicates if the customer subscribes to Internet service with the company: No, DSL, Fiber Optic, Cable.|\n",
    "| Avg Monthly GB Download               | Indicates the customer’s average download volume in gigabytes, calculated to the end of the quarter specified above.|\n",
    "| Online Security                       | Indicates if the customer subscribes to an additional online security service provided by the company: Yes, No|\n",
    "| Online Backup                         | Indicates if the customer subscribes to an additional online backup service provided by the company: Yes, No|\n",
    "| Device Protection Plan                | Indicates if the customer subscribes to an additional device protection plan for their Internet equipment provided by the company: Yes, No|\n",
    "| Premium Tech Support                  | Indicates if the customer subscribes to an additional technical support plan from the company with reduced wait times: Yes, No|\n",
    "| Streaming TV                          | Indicates if the customer uses their Internet service to stream television programing from a third party provider: Yes, No. The company does not charge an additional fee for this service.|\n",
    "| Streaming Movies                      | Indicates if the customer uses their Internet service to stream movies from a third party provider: Yes, No. The company does not charge an additional fee for this service.|\n",
    "| Streaming Music                       | Indicates if the customer uses their Internet service to stream music from a third party provider: Yes, No. The company does not charge an additional fee for this service.|\n",
    "| Unlimited Data                        | Indicates if the customer has paid an additional monthly fee to have unlimited data downloads/uploads: Yes, No|\n",
    "| Contract                              | Indicates the customer’s current contract type: Month-to-Month, One Year, Two Year.                   |\n",
    "| Paperless Billing                     | Indicates if the customer has chosen paperless billing: Yes, No                                        |\n",
    "| Payment Method                        | Indicates how the customer pays their bill: Bank Withdrawal, Credit Card, Mailed Check                 |\n",
    "| Monthly Charge                        | Indicates the customer’s current total monthly charge for all their services from the company.         |\n",
    "| Total Charges                         | Indicates the customer’s total charges, calculated to the end of the quarter specified above.          |\n",
    "| Total Refunds                         | Indicates the customer’s total refunds, calculated to the end of the quarter specified above.          |\n",
    "| Total Extra Data Charges              | Indicates the customer’s total charges for extra data downloads above those specified in their plan, by the end of the quarter specified above.\n",
    "| Total Long Distance Charges             | Indicates the customer’s total charges for long distance above those specified in their plan, by the end of the quarter specified above. |\n",
    "\n",
    "---\n",
    "\n",
    "| Status         | Description                                                                                                  |\n",
    "|----------------------|--------------------------------------------------------------------------------------------------------------|\n",
    "| CustomerID           | A unique ID that identifies each customer.                                                                    |\n",
    "| Count                | A value used in reporting/dashboarding to sum up the number of customers in a filtered set.                  |\n",
    "| Quarter              | The fiscal quarter that the data has been derived from (e.g. Q3).                                            |\n",
    "| Satisfaction Score   | A customer’s overall satisfaction rating of the company from 1 (Very Unsatisfied) to 5 (Very Satisfied).     |\n",
    "| Satisfaction Score Label | Indicates the text version of the score (1-5) as a text string.                                           |\n",
    "| Customer Status      | Indicates the status of the customer at the end of the quarter: Churned, Stayed, or Joined                   |\n",
    "| Churn Label          | Yes = the customer left the company this quarter. No = the customer remained with the company.              |\n",
    "| Churn Value          | 1 = the customer left the company this quarter. 0 = the customer remained with the company.                 |\n",
    "| Churn Score          | A value from 0-100 that is calculated using the predictive tool IBM SPSS Modeler.                           |\n",
    "| Churn Score Category | A calculation that assigns a Churn Score to one of the following categories: 0-10, 11-20, ..., 91-100       |\n",
    "| CLTV                 | Customer Lifetime Value. A predicted CLTV is calculated using corporate formulas and existing data.         |\n",
    "| CLTV Category        | A calculation that assigns a CLTV value to one of the following categories: 2000-2500, 2501-3000, ..., 6501-7000 |\n",
    "| Churn Category       | A high-level category for the customer’s reason for churning: Attitude, Competitor, Dissatisfaction, Other, Price. |\n",
    "| Churn Reason         | A customer’s specific reason for leaving the company.                                                       |\n"
   ]
  },
  {
   "cell_type": "code",
   "execution_count": 13,
   "id": "4154c2c4-581b-4c03-be58-187e2397e6ed",
   "metadata": {
    "tags": []
   },
   "outputs": [
    {
     "data": {
      "text/plain": [
       "['s3://yang-ml-sagemaker/customer_churn/raw_data',\n",
       " 's3://yang-ml-sagemaker/customer_churn/raw_data/Telco_customer_churn_demographics.csv',\n",
       " 's3://yang-ml-sagemaker/customer_churn/raw_data/Telco_customer_churn_location.csv',\n",
       " 's3://yang-ml-sagemaker/customer_churn/raw_data/Telco_customer_churn_population.csv',\n",
       " 's3://yang-ml-sagemaker/customer_churn/raw_data/Telco_customer_churn_services.csv',\n",
       " 's3://yang-ml-sagemaker/customer_churn/raw_data/Telco_customer_churn_status.csv',\n",
       " 's3://yang-ml-sagemaker/customer_churn/raw_data/joined_data.csv']"
      ]
     },
     "execution_count": 13,
     "metadata": {},
     "output_type": "execute_result"
    },
    {
     "data": {
      "text/plain": [
       "['demographics', 'location', 'population', 'services', 'status']"
      ]
     },
     "execution_count": 13,
     "metadata": {},
     "output_type": "execute_result"
    }
   ],
   "source": [
    "s3_paths = sagemaker.s3.S3Downloader.list(f\"s3://{bucket_name}/{raw_data_path}\")\n",
    "s3_paths\n",
    "\n",
    "tables = [\"demographics\", \"location\", \"population\", \"services\", \"status\"]\n",
    "tables"
   ]
  },
  {
   "cell_type": "code",
   "execution_count": null,
   "id": "687cea16-9973-48e0-b8b2-cb8af758714b",
   "metadata": {},
   "outputs": [],
   "source": [
    "demographics = spark.createDataFrame(pd.read_csv(s3_paths[1]))\n",
    "location = spark.createDataFrame(pd.read_csv(s3_paths[2]))\n",
    "population = spark.createDataFrame(pd.read_csv(s3_paths[3]))\n",
    "services = spark.createDataFrame(pd.read_csv(s3_paths[4]))\n",
    "\n",
    "# The 'Churn Category' and 'Churn Reason' columns have missing values, so we must specify the schema, setting nullable to True\n",
    "status_table_schema = StructType(\n",
    "    [\n",
    "        StructField(\"Status ID\", StringType(), nullable=True),\n",
    "        StructField(\"Customer ID\", StringType(), nullable=True),\n",
    "        StructField(\"Count\", IntegerType(), nullable=True),\n",
    "        StructField(\"Quarter\", StringType(), nullable=True),\n",
    "        StructField(\"Satisfaction Score\", IntegerType(), nullable=True),\n",
    "        StructField(\"Customer Status\", StringType(), nullable=True),\n",
    "        StructField(\"Churn Label\", StringType(), nullable=True),\n",
    "        StructField(\"Churn Value\", IntegerType(), nullable=True),\n",
    "        StructField(\"Churn Score\", IntegerType(), nullable=True),\n",
    "        StructField(\"CLTV\", IntegerType(), nullable=True),\n",
    "        StructField(\"Churn Category\", StringType(), nullable=True),\n",
    "        StructField(\"Churn Reason\", StringType(), nullable=True),\n",
    "    ]\n",
    ")\n",
    "status = spark.createDataFrame(pd.read_csv(s3_paths[5]), schema=status_table_schema)\n",
    "\n",
    "# Convert 'NaN' strings to Null\n",
    "status = status.withColumn(\n",
    "    \"Churn Category\",\n",
    "    f.when(f.col(\"Churn Category\") == \"NaN\", None).otherwise(f.col(\"Churn Category\")),\n",
    ").withColumn(\n",
    "    \"Churn Reason\",\n",
    "    f.when(f.col(\"Churn Reason\") == \"NaN\", None).otherwise(f.col(\"Churn Reason\")),\n",
    ")"
   ]
  },
  {
   "cell_type": "code",
   "execution_count": 20,
   "id": "219d96b6-3375-4206-849c-b6fa06a98517",
   "metadata": {
    "tags": []
   },
   "outputs": [
    {
     "data": {
      "text/plain": [
       "{'demographics': (7043, 9),\n",
       " 'location': (7043, 10),\n",
       " 'population': (1671, 3),\n",
       " 'services': (7043, 31),\n",
       " 'status': (7043, 12)}"
      ]
     },
     "execution_count": 20,
     "metadata": {},
     "output_type": "execute_result"
    }
   ],
   "source": [
    "shapes = {}\n",
    "\n",
    "for name, data in zip(tables, [demographics, location, population, services, status]):\n",
    "    shapes[name] = (data.count(), len(data.columns))\n",
    "\n",
    "shapes"
   ]
  },
  {
   "cell_type": "markdown",
   "id": "abc5c914-7391-4d6e-9705-0f1a243c0591",
   "metadata": {},
   "source": [
    "## Select Features for Modeling\n",
    "\n",
    "We will handpick some features for modeling:"
   ]
  },
  {
   "cell_type": "code",
   "execution_count": 27,
   "id": "1b84d6cc-89d0-4db2-9482-3399ded6c6be",
   "metadata": {
    "tags": []
   },
   "outputs": [
    {
     "name": "stdout",
     "output_type": "stream",
     "text": [
      "The key column is {'Customer ID'}\n"
     ]
    }
   ],
   "source": [
    "demographics_cols = [\n",
    "    \"Customer ID\",\n",
    "    \"Gender\",\n",
    "    \"Age\",\n",
    "    \"Under 30\",\n",
    "    \"Senior Citizen\",\n",
    "    \"Married\",\n",
    "    \"Dependents\",\n",
    "    \"Number of Dependents\",\n",
    "]\n",
    "services_cols = [\n",
    "    \"Customer ID\",\n",
    "    \"Number of Referrals\",\n",
    "    \"Tenure in Months\",\n",
    "    \"Offer\",\n",
    "    \"Phone Service\",\n",
    "    \"Avg Monthly Long Distance Charges\",\n",
    "    \"Multiple Lines\",\n",
    "    \"Internet Service\",\n",
    "    \"Internet Type\",\n",
    "    \"Avg Monthly GB Download\",\n",
    "    \"Online Security\",\n",
    "    \"Online Backup\",\n",
    "    \"Device Protection Plan\",\n",
    "    \"Premium Tech Support\",\n",
    "    \"Streaming TV\",\n",
    "    \"Streaming Movies\",\n",
    "    \"Streaming Music\",\n",
    "    \"Unlimited Data\",\n",
    "    \"Contract\",\n",
    "    \"Paperless Billing\",\n",
    "    \"Payment Method\",\n",
    "    \"Monthly Charge\",\n",
    "    \"Total Charges\",\n",
    "    \"Total Refunds\",\n",
    "    \"Total Extra Data Charges\",\n",
    "    \"Total Long Distance Charges\",\n",
    "]\n",
    "status_cols = [\n",
    "    \"Customer ID\",\n",
    "    \"Satisfaction Score\",\n",
    "    \"Churn Value\",\n",
    "    \"CLTV\",\n",
    "    \"Churn Category\",\n",
    "]\n",
    "\n",
    "# Find key columns for joining\n",
    "print(\n",
    "    \"The key column is\",\n",
    "    set(demographics_cols).intersection(set(services_cols), set(status_cols)),\n",
    ")"
   ]
  },
  {
   "cell_type": "markdown",
   "id": "87fb6c48-9236-4c4a-b7cc-f844fdecd94c",
   "metadata": {},
   "source": [
    "## Left Join"
   ]
  },
  {
   "cell_type": "code",
   "execution_count": 29,
   "id": "d64709cd-d280-4110-8330-64ce7600675a",
   "metadata": {
    "tags": []
   },
   "outputs": [
    {
     "name": "stderr",
     "output_type": "stream",
     "text": [
      "                                                                                \r"
     ]
    },
    {
     "data": {
      "text/html": [
       "<table border='1'>\n",
       "<tr><th>Customer ID</th><th>Gender</th><th>Age</th><th>Under 30</th><th>Senior Citizen</th><th>Married</th><th>Dependents</th><th>Number of Dependents</th><th>Number of Referrals</th><th>Tenure in Months</th><th>Offer</th><th>Phone Service</th><th>Avg Monthly Long Distance Charges</th><th>Multiple Lines</th><th>Internet Service</th><th>Internet Type</th><th>Avg Monthly GB Download</th><th>Online Security</th><th>Online Backup</th><th>Device Protection Plan</th><th>Premium Tech Support</th><th>Streaming TV</th><th>Streaming Movies</th><th>Streaming Music</th><th>Unlimited Data</th><th>Contract</th><th>Paperless Billing</th><th>Payment Method</th><th>Monthly Charge</th><th>Total Charges</th><th>Total Refunds</th><th>Total Extra Data Charges</th><th>Total Long Distance Charges</th><th>Satisfaction Score</th><th>Churn Value</th><th>CLTV</th><th>Churn Category</th></tr>\n",
       "<tr><td>0002-ORFBO</td><td>Female</td><td>37</td><td>No</td><td>No</td><td>Yes</td><td>No</td><td>0</td><td>2</td><td>9</td><td>None</td><td>Yes</td><td>42.39</td><td>No</td><td>Yes</td><td>Cable</td><td>16</td><td>No</td><td>Yes</td><td>No</td><td>Yes</td><td>Yes</td><td>No</td><td>No</td><td>Yes</td><td>One Year</td><td>Yes</td><td>Credit Card</td><td>65.6</td><td>593.3</td><td>0.0</td><td>0</td><td>381.51</td><td>3</td><td>0</td><td>2205</td><td>null</td></tr>\n",
       "<tr><td>0003-MKNFE</td><td>Male</td><td>46</td><td>No</td><td>No</td><td>No</td><td>No</td><td>0</td><td>0</td><td>9</td><td>None</td><td>Yes</td><td>10.69</td><td>Yes</td><td>Yes</td><td>Cable</td><td>10</td><td>No</td><td>No</td><td>No</td><td>No</td><td>No</td><td>Yes</td><td>Yes</td><td>No</td><td>Month-to-Month</td><td>No</td><td>Credit Card</td><td>59.9</td><td>542.4</td><td>38.33</td><td>10</td><td>96.21</td><td>5</td><td>0</td><td>5414</td><td>null</td></tr>\n",
       "<tr><td>0004-TLHLJ</td><td>Male</td><td>50</td><td>No</td><td>No</td><td>No</td><td>No</td><td>0</td><td>0</td><td>4</td><td>Offer E</td><td>Yes</td><td>33.65</td><td>No</td><td>Yes</td><td>Fiber Optic</td><td>30</td><td>No</td><td>No</td><td>Yes</td><td>No</td><td>No</td><td>No</td><td>No</td><td>Yes</td><td>Month-to-Month</td><td>Yes</td><td>Bank Withdrawal</td><td>73.9</td><td>280.85</td><td>0.0</td><td>0</td><td>134.6</td><td>1</td><td>1</td><td>4479</td><td>Competitor</td></tr>\n",
       "<tr><td>0011-IGKFF</td><td>Male</td><td>78</td><td>No</td><td>Yes</td><td>Yes</td><td>No</td><td>0</td><td>1</td><td>13</td><td>Offer D</td><td>Yes</td><td>27.82</td><td>No</td><td>Yes</td><td>Fiber Optic</td><td>4</td><td>No</td><td>Yes</td><td>Yes</td><td>No</td><td>Yes</td><td>Yes</td><td>No</td><td>Yes</td><td>Month-to-Month</td><td>Yes</td><td>Bank Withdrawal</td><td>98.0</td><td>1237.85</td><td>0.0</td><td>0</td><td>361.66</td><td>1</td><td>1</td><td>3714</td><td>Dissatisfaction</td></tr>\n",
       "<tr><td>0013-EXCHZ</td><td>Female</td><td>75</td><td>No</td><td>Yes</td><td>Yes</td><td>No</td><td>0</td><td>3</td><td>3</td><td>None</td><td>Yes</td><td>7.38</td><td>No</td><td>Yes</td><td>Fiber Optic</td><td>11</td><td>No</td><td>No</td><td>No</td><td>Yes</td><td>Yes</td><td>No</td><td>No</td><td>Yes</td><td>Month-to-Month</td><td>Yes</td><td>Credit Card</td><td>83.9</td><td>267.4</td><td>0.0</td><td>0</td><td>22.14</td><td>1</td><td>1</td><td>3464</td><td>Dissatisfaction</td></tr>\n",
       "<tr><td>0013-MHZWF</td><td>Female</td><td>23</td><td>Yes</td><td>No</td><td>No</td><td>Yes</td><td>3</td><td>0</td><td>9</td><td>Offer E</td><td>Yes</td><td>16.77</td><td>No</td><td>Yes</td><td>Cable</td><td>73</td><td>No</td><td>No</td><td>No</td><td>Yes</td><td>Yes</td><td>Yes</td><td>Yes</td><td>Yes</td><td>Month-to-Month</td><td>Yes</td><td>Credit Card</td><td>69.4</td><td>571.45</td><td>0.0</td><td>0</td><td>150.93</td><td>3</td><td>0</td><td>5108</td><td>null</td></tr>\n",
       "<tr><td>0013-SMEOE</td><td>Female</td><td>67</td><td>No</td><td>Yes</td><td>Yes</td><td>No</td><td>0</td><td>1</td><td>71</td><td>Offer A</td><td>Yes</td><td>9.96</td><td>No</td><td>Yes</td><td>Fiber Optic</td><td>14</td><td>Yes</td><td>Yes</td><td>Yes</td><td>Yes</td><td>Yes</td><td>Yes</td><td>Yes</td><td>Yes</td><td>Two Year</td><td>Yes</td><td>Bank Withdrawal</td><td>109.7</td><td>7904.25</td><td>0.0</td><td>0</td><td>707.16</td><td>3</td><td>0</td><td>5011</td><td>null</td></tr>\n",
       "<tr><td>0014-BMAQU</td><td>Male</td><td>52</td><td>No</td><td>No</td><td>Yes</td><td>No</td><td>0</td><td>8</td><td>63</td><td>Offer B</td><td>Yes</td><td>12.96</td><td>Yes</td><td>Yes</td><td>Fiber Optic</td><td>7</td><td>Yes</td><td>No</td><td>No</td><td>Yes</td><td>No</td><td>No</td><td>No</td><td>No</td><td>Two Year</td><td>Yes</td><td>Credit Card</td><td>84.65</td><td>5377.8</td><td>0.0</td><td>20</td><td>816.48</td><td>4</td><td>0</td><td>4604</td><td>null</td></tr>\n",
       "<tr><td>0015-UOCOJ</td><td>Female</td><td>68</td><td>No</td><td>Yes</td><td>No</td><td>No</td><td>0</td><td>0</td><td>7</td><td>Offer E</td><td>Yes</td><td>10.53</td><td>No</td><td>Yes</td><td>DSL</td><td>21</td><td>Yes</td><td>No</td><td>No</td><td>No</td><td>No</td><td>No</td><td>No</td><td>Yes</td><td>Two Year</td><td>Yes</td><td>Bank Withdrawal</td><td>48.2</td><td>340.35</td><td>0.0</td><td>0</td><td>73.71</td><td>3</td><td>0</td><td>5525</td><td>null</td></tr>\n",
       "<tr><td>0016-QLJIS</td><td>Female</td><td>43</td><td>No</td><td>No</td><td>Yes</td><td>Yes</td><td>1</td><td>3</td><td>65</td><td>None</td><td>Yes</td><td>28.46</td><td>Yes</td><td>Yes</td><td>Cable</td><td>14</td><td>Yes</td><td>Yes</td><td>Yes</td><td>Yes</td><td>Yes</td><td>Yes</td><td>Yes</td><td>Yes</td><td>Two Year</td><td>Yes</td><td>Credit Card</td><td>90.45</td><td>5957.9</td><td>0.0</td><td>0</td><td>1849.9</td><td>3</td><td>0</td><td>5509</td><td>null</td></tr>\n",
       "<tr><td>0017-DINOC</td><td>Male</td><td>47</td><td>No</td><td>No</td><td>No</td><td>No</td><td>0</td><td>0</td><td>54</td><td>None</td><td>No</td><td>0.0</td><td>No</td><td>Yes</td><td>Cable</td><td>10</td><td>Yes</td><td>No</td><td>No</td><td>Yes</td><td>Yes</td><td>No</td><td>No</td><td>Yes</td><td>Two Year</td><td>No</td><td>Credit Card</td><td>45.2</td><td>2460.55</td><td>0.0</td><td>0</td><td>0.0</td><td>4</td><td>0</td><td>5435</td><td>null</td></tr>\n",
       "<tr><td>0017-IUDMW</td><td>Female</td><td>25</td><td>Yes</td><td>No</td><td>Yes</td><td>Yes</td><td>2</td><td>2</td><td>72</td><td>None</td><td>Yes</td><td>16.01</td><td>Yes</td><td>Yes</td><td>Fiber Optic</td><td>59</td><td>Yes</td><td>Yes</td><td>Yes</td><td>Yes</td><td>Yes</td><td>Yes</td><td>Yes</td><td>Yes</td><td>Two Year</td><td>Yes</td><td>Credit Card</td><td>116.8</td><td>8456.75</td><td>0.0</td><td>0</td><td>1152.72</td><td>3</td><td>0</td><td>6252</td><td>null</td></tr>\n",
       "<tr><td>0018-NYROU</td><td>Female</td><td>58</td><td>No</td><td>No</td><td>Yes</td><td>No</td><td>0</td><td>0</td><td>5</td><td>None</td><td>Yes</td><td>18.65</td><td>No</td><td>Yes</td><td>Fiber Optic</td><td>10</td><td>No</td><td>No</td><td>No</td><td>No</td><td>No</td><td>No</td><td>No</td><td>Yes</td><td>Month-to-Month</td><td>Yes</td><td>Bank Withdrawal</td><td>68.95</td><td>351.5</td><td>0.0</td><td>0</td><td>93.25</td><td>3</td><td>0</td><td>5536</td><td>null</td></tr>\n",
       "<tr><td>0019-EFAEP</td><td>Female</td><td>32</td><td>No</td><td>No</td><td>No</td><td>No</td><td>0</td><td>0</td><td>72</td><td>Offer A</td><td>Yes</td><td>2.25</td><td>Yes</td><td>Yes</td><td>Fiber Optic</td><td>16</td><td>Yes</td><td>Yes</td><td>Yes</td><td>No</td><td>Yes</td><td>No</td><td>No</td><td>Yes</td><td>Two Year</td><td>Yes</td><td>Bank Withdrawal</td><td>101.3</td><td>7261.25</td><td>0.0</td><td>0</td><td>162.0</td><td>3</td><td>0</td><td>5513</td><td>null</td></tr>\n",
       "<tr><td>0019-GFNTW</td><td>Female</td><td>39</td><td>No</td><td>No</td><td>No</td><td>No</td><td>0</td><td>0</td><td>56</td><td>None</td><td>No</td><td>0.0</td><td>No</td><td>Yes</td><td>DSL</td><td>19</td><td>Yes</td><td>Yes</td><td>Yes</td><td>Yes</td><td>No</td><td>No</td><td>No</td><td>Yes</td><td>Two Year</td><td>No</td><td>Bank Withdrawal</td><td>45.05</td><td>2560.1</td><td>0.0</td><td>0</td><td>0.0</td><td>3</td><td>0</td><td>5795</td><td>null</td></tr>\n",
       "</table>\n",
       "only showing top 15 rows\n"
      ],
      "text/plain": [
       "+-----------+------+---+--------+--------------+-------+----------+--------------------+-------------------+----------------+-------+-------------+---------------------------------+--------------+----------------+-------------+-----------------------+---------------+-------------+----------------------+--------------------+------------+----------------+---------------+--------------+--------------+-----------------+---------------+--------------+-------------+-------------+------------------------+---------------------------+------------------+-----------+----+---------------+\n",
       "|Customer ID|Gender|Age|Under 30|Senior Citizen|Married|Dependents|Number of Dependents|Number of Referrals|Tenure in Months|  Offer|Phone Service|Avg Monthly Long Distance Charges|Multiple Lines|Internet Service|Internet Type|Avg Monthly GB Download|Online Security|Online Backup|Device Protection Plan|Premium Tech Support|Streaming TV|Streaming Movies|Streaming Music|Unlimited Data|      Contract|Paperless Billing| Payment Method|Monthly Charge|Total Charges|Total Refunds|Total Extra Data Charges|Total Long Distance Charges|Satisfaction Score|Churn Value|CLTV| Churn Category|\n",
       "+-----------+------+---+--------+--------------+-------+----------+--------------------+-------------------+----------------+-------+-------------+---------------------------------+--------------+----------------+-------------+-----------------------+---------------+-------------+----------------------+--------------------+------------+----------------+---------------+--------------+--------------+-----------------+---------------+--------------+-------------+-------------+------------------------+---------------------------+------------------+-----------+----+---------------+\n",
       "| 0002-ORFBO|Female| 37|      No|            No|    Yes|        No|                   0|                  2|               9|   None|          Yes|                            42.39|            No|             Yes|        Cable|                     16|             No|          Yes|                    No|                 Yes|         Yes|              No|             No|           Yes|      One Year|              Yes|    Credit Card|          65.6|        593.3|          0.0|                       0|                     381.51|                 3|          0|2205|           null|\n",
       "| 0003-MKNFE|  Male| 46|      No|            No|     No|        No|                   0|                  0|               9|   None|          Yes|                            10.69|           Yes|             Yes|        Cable|                     10|             No|           No|                    No|                  No|          No|             Yes|            Yes|            No|Month-to-Month|               No|    Credit Card|          59.9|        542.4|        38.33|                      10|                      96.21|                 5|          0|5414|           null|\n",
       "| 0004-TLHLJ|  Male| 50|      No|            No|     No|        No|                   0|                  0|               4|Offer E|          Yes|                            33.65|            No|             Yes|  Fiber Optic|                     30|             No|           No|                   Yes|                  No|          No|              No|             No|           Yes|Month-to-Month|              Yes|Bank Withdrawal|          73.9|       280.85|          0.0|                       0|                      134.6|                 1|          1|4479|     Competitor|\n",
       "| 0011-IGKFF|  Male| 78|      No|           Yes|    Yes|        No|                   0|                  1|              13|Offer D|          Yes|                            27.82|            No|             Yes|  Fiber Optic|                      4|             No|          Yes|                   Yes|                  No|         Yes|             Yes|             No|           Yes|Month-to-Month|              Yes|Bank Withdrawal|          98.0|      1237.85|          0.0|                       0|                     361.66|                 1|          1|3714|Dissatisfaction|\n",
       "| 0013-EXCHZ|Female| 75|      No|           Yes|    Yes|        No|                   0|                  3|               3|   None|          Yes|                             7.38|            No|             Yes|  Fiber Optic|                     11|             No|           No|                    No|                 Yes|         Yes|              No|             No|           Yes|Month-to-Month|              Yes|    Credit Card|          83.9|        267.4|          0.0|                       0|                      22.14|                 1|          1|3464|Dissatisfaction|\n",
       "| 0013-MHZWF|Female| 23|     Yes|            No|     No|       Yes|                   3|                  0|               9|Offer E|          Yes|                            16.77|            No|             Yes|        Cable|                     73|             No|           No|                    No|                 Yes|         Yes|             Yes|            Yes|           Yes|Month-to-Month|              Yes|    Credit Card|          69.4|       571.45|          0.0|                       0|                     150.93|                 3|          0|5108|           null|\n",
       "| 0013-SMEOE|Female| 67|      No|           Yes|    Yes|        No|                   0|                  1|              71|Offer A|          Yes|                             9.96|            No|             Yes|  Fiber Optic|                     14|            Yes|          Yes|                   Yes|                 Yes|         Yes|             Yes|            Yes|           Yes|      Two Year|              Yes|Bank Withdrawal|         109.7|      7904.25|          0.0|                       0|                     707.16|                 3|          0|5011|           null|\n",
       "| 0014-BMAQU|  Male| 52|      No|            No|    Yes|        No|                   0|                  8|              63|Offer B|          Yes|                            12.96|           Yes|             Yes|  Fiber Optic|                      7|            Yes|           No|                    No|                 Yes|          No|              No|             No|            No|      Two Year|              Yes|    Credit Card|         84.65|       5377.8|          0.0|                      20|                     816.48|                 4|          0|4604|           null|\n",
       "| 0015-UOCOJ|Female| 68|      No|           Yes|     No|        No|                   0|                  0|               7|Offer E|          Yes|                            10.53|            No|             Yes|          DSL|                     21|            Yes|           No|                    No|                  No|          No|              No|             No|           Yes|      Two Year|              Yes|Bank Withdrawal|          48.2|       340.35|          0.0|                       0|                      73.71|                 3|          0|5525|           null|\n",
       "| 0016-QLJIS|Female| 43|      No|            No|    Yes|       Yes|                   1|                  3|              65|   None|          Yes|                            28.46|           Yes|             Yes|        Cable|                     14|            Yes|          Yes|                   Yes|                 Yes|         Yes|             Yes|            Yes|           Yes|      Two Year|              Yes|    Credit Card|         90.45|       5957.9|          0.0|                       0|                     1849.9|                 3|          0|5509|           null|\n",
       "| 0017-DINOC|  Male| 47|      No|            No|     No|        No|                   0|                  0|              54|   None|           No|                              0.0|            No|             Yes|        Cable|                     10|            Yes|           No|                    No|                 Yes|         Yes|              No|             No|           Yes|      Two Year|               No|    Credit Card|          45.2|      2460.55|          0.0|                       0|                        0.0|                 4|          0|5435|           null|\n",
       "| 0017-IUDMW|Female| 25|     Yes|            No|    Yes|       Yes|                   2|                  2|              72|   None|          Yes|                            16.01|           Yes|             Yes|  Fiber Optic|                     59|            Yes|          Yes|                   Yes|                 Yes|         Yes|             Yes|            Yes|           Yes|      Two Year|              Yes|    Credit Card|         116.8|      8456.75|          0.0|                       0|                    1152.72|                 3|          0|6252|           null|\n",
       "| 0018-NYROU|Female| 58|      No|            No|    Yes|        No|                   0|                  0|               5|   None|          Yes|                            18.65|            No|             Yes|  Fiber Optic|                     10|             No|           No|                    No|                  No|          No|              No|             No|           Yes|Month-to-Month|              Yes|Bank Withdrawal|         68.95|        351.5|          0.0|                       0|                      93.25|                 3|          0|5536|           null|\n",
       "| 0019-EFAEP|Female| 32|      No|            No|     No|        No|                   0|                  0|              72|Offer A|          Yes|                             2.25|           Yes|             Yes|  Fiber Optic|                     16|            Yes|          Yes|                   Yes|                  No|         Yes|              No|             No|           Yes|      Two Year|              Yes|Bank Withdrawal|         101.3|      7261.25|          0.0|                       0|                      162.0|                 3|          0|5513|           null|\n",
       "| 0019-GFNTW|Female| 39|      No|            No|     No|        No|                   0|                  0|              56|   None|           No|                              0.0|            No|             Yes|          DSL|                     19|            Yes|          Yes|                   Yes|                 Yes|          No|              No|             No|           Yes|      Two Year|               No|Bank Withdrawal|         45.05|       2560.1|          0.0|                       0|                        0.0|                 3|          0|5795|           null|\n",
       "+-----------+------+---+--------+--------------+-------+----------+--------------------+-------------------+----------------+-------+-------------+---------------------------------+--------------+----------------+-------------+-----------------------+---------------+-------------+----------------------+--------------------+------------+----------------+---------------+--------------+--------------+-----------------+---------------+--------------+-------------+-------------+------------------------+---------------------------+------------------+-----------+----+---------------+\n",
       "only showing top 15 rows"
      ]
     },
     "execution_count": 29,
     "metadata": {},
     "output_type": "execute_result"
    }
   ],
   "source": [
    "demographics_services = demographics.select(demographics_cols).join(\n",
    "    services.select(services_cols), [\"Customer ID\"], \"left\"\n",
    ")\n",
    "\n",
    "demographics_services_status = demographics_services.join(\n",
    "    status.select(status_cols), [\"Customer ID\"], \"left\"\n",
    ")\n",
    "\n",
    "# Select all columns from the joined dataframe and sort by 'Customer ID'\n",
    "demographics_services_status = demographics_services_status.select(\"*\").orderBy(\n",
    "    f.col(\"Customer ID\")\n",
    ")\n",
    "\n",
    "demographics_services_status"
   ]
  },
  {
   "cell_type": "markdown",
   "id": "1ba1a2dc-5421-4201-a1b2-e15a9426fae4",
   "metadata": {},
   "source": [
    "## Upload to S3"
   ]
  },
  {
   "cell_type": "code",
   "execution_count": 31,
   "id": "2dfe61be-39d4-4294-a89d-7e9912f67424",
   "metadata": {
    "tags": []
   },
   "outputs": [
    {
     "name": "stderr",
     "output_type": "stream",
     "text": [
      "                                                                                \r"
     ]
    }
   ],
   "source": [
    "demographics_services_status.toPandas().to_csv(\n",
    "    f\"s3a://{bucket_name}/{raw_data_path}/joined_data.csv\"\n",
    ")"
   ]
  },
  {
   "cell_type": "code",
   "execution_count": 32,
   "id": "962bafef-0049-48f5-a769-6df40ccf51a9",
   "metadata": {
    "tags": []
   },
   "outputs": [
    {
     "name": "stdout",
     "output_type": "stream",
     "text": [
      "customer_churn/raw_data/\n",
      "customer_churn/raw_data/Telco_customer_churn_demographics.csv\n",
      "customer_churn/raw_data/Telco_customer_churn_location.csv\n",
      "customer_churn/raw_data/Telco_customer_churn_population.csv\n",
      "customer_churn/raw_data/Telco_customer_churn_services.csv\n",
      "customer_churn/raw_data/Telco_customer_churn_status.csv\n",
      "customer_churn/raw_data/joined_data.csv\n"
     ]
    }
   ],
   "source": [
    "objects = s3.list_objects(Bucket=bucket_name, Prefix=raw_data_path)\n",
    "\n",
    "for obj in objects[\"Contents\"]:\n",
    "    print(obj[\"Key\"])"
   ]
  }
 ],
 "metadata": {
  "kernelspec": {
   "display_name": "python3",
   "language": "python",
   "name": "python3"
  },
  "language_info": {
   "codemirror_mode": {
    "name": "ipython",
    "version": 3
   },
   "file_extension": ".py",
   "mimetype": "text/x-python",
   "name": "python",
   "nbconvert_exporter": "python",
   "pygments_lexer": "ipython3",
   "version": "3.10.8"
  },
  "vscode": {
   "interpreter": {
    "hash": "3b41de70bedc0e302a3aeb58a0c77b854f2e56c8930e61a4aaa3340c96b01f1d"
   }
  }
 },
 "nbformat": 4,
 "nbformat_minor": 5
}
