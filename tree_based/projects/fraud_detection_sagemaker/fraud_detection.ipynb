{
 "cells": [
  {
   "cell_type": "markdown",
   "metadata": {},
   "source": [
    "# Fraud Detection using XGBoost on Amazon SageMaker\n",
    "\n",
    "**Note. This notebook should be used with the Python 3 (Data Science) kernel.**\n",
    "\n",
    "* An end to end pipeline to train a fraud detection model using xgboost. \n",
    "\n",
    "* Hyper-Parameter Optimization (HPO) for xgboost."
   ]
  },
  {
   "cell_type": "code",
   "execution_count": null,
   "metadata": {
    "tags": []
   },
   "outputs": [
    {
     "name": "stdout",
     "output_type": "stream",
     "text": [
      "Execution role arn:aws:iam::722696965592:role/service-role/AmazonSageMaker-ExecutionRole-20230116T171380\n",
      "SageMaker session <sagemaker.session.Session object at 0x7f077be27f40>\n"
     ]
    }
   ],
   "source": [
    "# Add the path to the sagemaker_fraud_detection package to the system path\n",
    "import sys\n",
    "import uuid\n",
    "import os\n",
    "\n",
    "sys.path.append(\"./sagemaker_fraud_detection/\")\n",
    "\n",
    "import pandas as pd\n",
    "import numpy as np\n",
    "from sklearn.metrics import roc_curve, auc\n",
    "\n",
    "import boto3\n",
    "import sagemaker\n",
    "from sagemaker.s3 import S3Downloader\n",
    "from sagemaker.s3 import S3Uploader\n",
    "\n",
    "from data_preprocessing.utils import get_data, print_metrics, plot_cm, plot_prc\n",
    "from sagemaker_fraud_detection import config\n",
    "\n",
    "role = config.role\n",
    "sess = sagemaker.Session()\n",
    "\n",
    "print(f\"Execution role {role}\")\n",
    "print(f\"SageMaker session {sess}\")"
   ]
  },
  {
   "cell_type": "markdown",
   "metadata": {},
   "source": [
    "## Dataset and Problem Statement"
   ]
  },
  {
   "cell_type": "markdown",
   "metadata": {},
   "source": [
    "### Generate Synthetic Data\n",
    "\n",
    "The dataset for this project will be generated using the [Faker](https://faker.readthedocs.io/en/master/) package. The script for generating the data is contained in the `data_generation` directory. The dataset is created to mimic typical examples of financial transactions dataset that many companies have. The dataset consists of two tables:\n",
    "\n",
    "* **Transactions** table: Records transactions and metadata about transactions between two users. Examples of columns include the product code for the transaction and features on the card used for the transaction, and a column indicating whether the corresponded transcation is fraud or not.\n",
    "\n",
    "* **Identity** table: Contains information about the identity users performing transactions. Examples of columns here include the device type and device ids used.\n",
    "\n",
    "The two tables can be joined together using the unique identified-key column **TransactionID**."
   ]
  },
  {
   "cell_type": "code",
   "execution_count": 2,
   "metadata": {
    "tags": []
   },
   "outputs": [
    {
     "name": "stdout",
     "output_type": "stream",
     "text": [
      "Looking in indexes: https://pypi.org/simple, https://pip.repos.neuron.amazonaws.com\n",
      "Collecting faker\n",
      "  Downloading Faker-17.6.0-py3-none-any.whl (1.7 MB)\n",
      "\u001b[2K     \u001b[90m━━━━━━━━━━━━━━━━━━━━━━━━━━━━━━━━━━━━━━━━\u001b[0m \u001b[32m1.7/1.7 MB\u001b[0m \u001b[31m17.3 MB/s\u001b[0m eta \u001b[36m0:00:00\u001b[0m00:01\u001b[0m\n",
      "\u001b[?25hRequirement already satisfied: python-dateutil>=2.4 in /home/ec2-user/anaconda3/envs/python3/lib/python3.10/site-packages (from faker) (2.8.2)\n",
      "Requirement already satisfied: six>=1.5 in /home/ec2-user/anaconda3/envs/python3/lib/python3.10/site-packages (from python-dateutil>=2.4->faker) (1.16.0)\n",
      "Installing collected packages: faker\n",
      "Successfully installed faker-17.6.0\n",
      "fraud ratio 0.14157773711975055\n",
      "Data is successfully generated!\n"
     ]
    }
   ],
   "source": [
    "!mkdir -p raw_data\n",
    "!pip3 install faker\n",
    "!python3 data_generation/generate_data.py\n",
    "\n",
    "if os.path.exists(\"raw_data/transaction.csv\") and os.path.exists(\n",
    "    \"raw_data/identity.csv\"\n",
    "):\n",
    "    print(\"Data is successfully generated!\")"
   ]
  },
  {
   "cell_type": "markdown",
   "metadata": {
    "tags": []
   },
   "source": [
    "### Upload raw data to S3\n",
    "\n",
    "Move the raw data from local directory `raw_data` to S3 bucket for this project, where it will be picked up by the preprocessing job and training job."
   ]
  },
  {
   "cell_type": "code",
   "execution_count": 3,
   "metadata": {
    "tags": []
   },
   "outputs": [
    {
     "name": "stdout",
     "output_type": "stream",
     "text": [
      "upload: raw_data/identity.csv to s3://yang-ml-sagemaker/fraud_detection_project/raw_data/identity.csv\n",
      "upload: raw_data/transaction.csv to s3://yang-ml-sagemaker/fraud_detection_project/raw_data/transaction.csv\n"
     ]
    }
   ],
   "source": [
    "# Raw data location\n",
    "raw_data_location = \"raw_data/\"\n",
    "\n",
    "# Target s3 bucket\n",
    "config.s3_prefix\n",
    "s3_raw_data_location = f\"s3://{config.s3_bucket}/{config.s3_prefix}/raw_data/\"\n",
    "\n",
    "# Copy local raw data to s3 bucket\n",
    "!aws s3 cp --recursive $raw_data_location $s3_raw_data_location\n",
    "\n",
    "# Set s3 locations to store processed data for training and post-training results and artifacts respectively\n",
    "train_data = f\"s3://{config.s3_bucket}/{config.s3_prefix}/{config.s3_processing_output}\"\n",
    "train_output = f\"s3://{config.s3_bucket}/{config.s3_prefix}/{config.s3_train_output}\""
   ]
  },
  {
   "cell_type": "code",
   "execution_count": 3,
   "metadata": {
    "tags": []
   },
   "outputs": [
    {
     "name": "stdout",
     "output_type": "stream",
     "text": [
      "Processed data will be stored at s3://yang-ml-sagemaker/fraud_detection_project/preprocessed_data\n",
      "Training output path will be s3://yang-ml-sagemaker/fraud_detection_project/training_output\n"
     ]
    }
   ],
   "source": [
    "print(f\"Processed data will be stored at {train_data}\")\n",
    "print(f\"Training output path will be {train_output}\")"
   ]
  },
  {
   "cell_type": "markdown",
   "metadata": {},
   "source": [
    "### Features\n",
    "\n",
    "Read the tables of transaction.csv and identity.csv and merge them based on the `TransactionID` column.\n",
    "\n",
    "Besides the unique identifier column (**TransactionID**) to identify each transaction, there are two types of feature columns and one target column.\n",
    "\n",
    "* **Identity columns** that contain identity information related to a transaction. The corresponded columns include **card_no**, **card_type**, **email_domain**, **IpAddress**, **PhoneNo**, **DeviceID**. Note that there may be missing values since some transactions do not have values these identity columns. This is so that the data set mimics real world data.\n",
    "\n",
    "* **Categorical or numerical columns** that describes the features of each transaction. The corresponded columns include **ProductCD** and **TransactionAmt**.\n",
    "\n",
    "* Target column **isFraud**.\n",
    "\n",
    "The **goal** is to fully utilize the information in the feature columns to classify each transaction (each row in the table) either as fraud or not fraud."
   ]
  },
  {
   "cell_type": "code",
   "execution_count": 4,
   "metadata": {
    "tags": []
   },
   "outputs": [],
   "source": [
    "transactions_df = pd.read_csv(os.path.join(raw_data_location, \"transaction.csv\"))\n",
    "identity_df = pd.read_csv(os.path.join(raw_data_location, \"identity.csv\"))"
   ]
  },
  {
   "cell_type": "markdown",
   "metadata": {},
   "source": [
    "The first 5 observations in transaction dataset."
   ]
  },
  {
   "cell_type": "code",
   "execution_count": 5,
   "metadata": {
    "tags": []
   },
   "outputs": [
    {
     "data": {
      "text/html": [
       "<div>\n",
       "<style scoped>\n",
       "    .dataframe tbody tr th:only-of-type {\n",
       "        vertical-align: middle;\n",
       "    }\n",
       "\n",
       "    .dataframe tbody tr th {\n",
       "        vertical-align: top;\n",
       "    }\n",
       "\n",
       "    .dataframe thead th {\n",
       "        text-align: right;\n",
       "    }\n",
       "</style>\n",
       "<table border=\"1\" class=\"dataframe\">\n",
       "  <thead>\n",
       "    <tr style=\"text-align: right;\">\n",
       "      <th></th>\n",
       "      <th>TransactionID</th>\n",
       "      <th>TransactionDT</th>\n",
       "      <th>card_no</th>\n",
       "      <th>card_type</th>\n",
       "      <th>email_domain</th>\n",
       "      <th>ProductCD</th>\n",
       "      <th>TransactionAmt</th>\n",
       "      <th>isFraud</th>\n",
       "    </tr>\n",
       "  </thead>\n",
       "  <tbody>\n",
       "    <tr>\n",
       "      <th>0</th>\n",
       "      <td>9c90c7e2-2600-4628-a868-179287eee169</td>\n",
       "      <td>2012-01-15 00:00:20</td>\n",
       "      <td>30545481171260</td>\n",
       "      <td>JCB 16 digit</td>\n",
       "      <td>smith-henry.info</td>\n",
       "      <td>T</td>\n",
       "      <td>1198</td>\n",
       "      <td>0</td>\n",
       "    </tr>\n",
       "    <tr>\n",
       "      <th>1</th>\n",
       "      <td>02951e68-f8ff-4f00-b515-5df8bcb0edcb</td>\n",
       "      <td>2012-01-15 00:00:44</td>\n",
       "      <td>6549624810102543</td>\n",
       "      <td>VISA 13 digit</td>\n",
       "      <td>yahoo.com</td>\n",
       "      <td>Y</td>\n",
       "      <td>409</td>\n",
       "      <td>0</td>\n",
       "    </tr>\n",
       "    <tr>\n",
       "      <th>2</th>\n",
       "      <td>17071ccd-3c3d-476a-a3cd-b73638a803d4</td>\n",
       "      <td>2012-01-15 00:02:18</td>\n",
       "      <td>4792410992636220</td>\n",
       "      <td>JCB 15 digit</td>\n",
       "      <td>hotmail.com</td>\n",
       "      <td>Y</td>\n",
       "      <td>1101</td>\n",
       "      <td>0</td>\n",
       "    </tr>\n",
       "    <tr>\n",
       "      <th>3</th>\n",
       "      <td>5288f832-6673-473a-80f6-fdb98dd99278</td>\n",
       "      <td>2012-01-15 00:03:01</td>\n",
       "      <td>3573503852773765</td>\n",
       "      <td>VISA 16 digit</td>\n",
       "      <td>hotmail.com</td>\n",
       "      <td>Y</td>\n",
       "      <td>2228</td>\n",
       "      <td>0</td>\n",
       "    </tr>\n",
       "    <tr>\n",
       "      <th>4</th>\n",
       "      <td>e37a6dd1-182e-4b87-8b8e-7dd9bf78cea0</td>\n",
       "      <td>2012-01-15 00:03:24</td>\n",
       "      <td>3597910599495184</td>\n",
       "      <td>Diners Club / Carte Blanche</td>\n",
       "      <td>gmail.com</td>\n",
       "      <td>L</td>\n",
       "      <td>2393</td>\n",
       "      <td>0</td>\n",
       "    </tr>\n",
       "  </tbody>\n",
       "</table>\n",
       "</div>"
      ],
      "text/plain": [
       "                          TransactionID        TransactionDT  \\\n",
       "0  9c90c7e2-2600-4628-a868-179287eee169  2012-01-15 00:00:20   \n",
       "1  02951e68-f8ff-4f00-b515-5df8bcb0edcb  2012-01-15 00:00:44   \n",
       "2  17071ccd-3c3d-476a-a3cd-b73638a803d4  2012-01-15 00:02:18   \n",
       "3  5288f832-6673-473a-80f6-fdb98dd99278  2012-01-15 00:03:01   \n",
       "4  e37a6dd1-182e-4b87-8b8e-7dd9bf78cea0  2012-01-15 00:03:24   \n",
       "\n",
       "            card_no                    card_type      email_domain ProductCD  \\\n",
       "0    30545481171260                 JCB 16 digit  smith-henry.info         T   \n",
       "1  6549624810102543                VISA 13 digit         yahoo.com         Y   \n",
       "2  4792410992636220                 JCB 15 digit       hotmail.com         Y   \n",
       "3  3573503852773765                VISA 16 digit       hotmail.com         Y   \n",
       "4  3597910599495184  Diners Club / Carte Blanche         gmail.com         L   \n",
       "\n",
       "   TransactionAmt  isFraud  \n",
       "0            1198        0  \n",
       "1             409        0  \n",
       "2            1101        0  \n",
       "3            2228        0  \n",
       "4            2393        0  "
      ]
     },
     "execution_count": 5,
     "metadata": {},
     "output_type": "execute_result"
    }
   ],
   "source": [
    "transactions_df.head(5)"
   ]
  },
  {
   "cell_type": "markdown",
   "metadata": {},
   "source": [
    "The first 5 observations in identity dataset."
   ]
  },
  {
   "cell_type": "code",
   "execution_count": 6,
   "metadata": {
    "tags": []
   },
   "outputs": [
    {
     "data": {
      "text/html": [
       "<div>\n",
       "<style scoped>\n",
       "    .dataframe tbody tr th:only-of-type {\n",
       "        vertical-align: middle;\n",
       "    }\n",
       "\n",
       "    .dataframe tbody tr th {\n",
       "        vertical-align: top;\n",
       "    }\n",
       "\n",
       "    .dataframe thead th {\n",
       "        text-align: right;\n",
       "    }\n",
       "</style>\n",
       "<table border=\"1\" class=\"dataframe\">\n",
       "  <thead>\n",
       "    <tr style=\"text-align: right;\">\n",
       "      <th></th>\n",
       "      <th>TransactionID</th>\n",
       "      <th>IpAddress</th>\n",
       "      <th>PhoneNo</th>\n",
       "      <th>DeviceID</th>\n",
       "    </tr>\n",
       "  </thead>\n",
       "  <tbody>\n",
       "    <tr>\n",
       "      <th>0</th>\n",
       "      <td>f9980c5d-e8bf-4431-9ddf-15b4e7a9d7ff</td>\n",
       "      <td>104.32.122.67</td>\n",
       "      <td>7993004217</td>\n",
       "      <td>657817920030</td>\n",
       "    </tr>\n",
       "    <tr>\n",
       "      <th>1</th>\n",
       "      <td>011955b3-14fa-4342-85f4-3a9c3759b7d7</td>\n",
       "      <td>164.180.250.14</td>\n",
       "      <td>6712423669</td>\n",
       "      <td>8984812524268</td>\n",
       "    </tr>\n",
       "    <tr>\n",
       "      <th>2</th>\n",
       "      <td>a61677ac-a0cb-4113-9409-87bcfe7e6e44</td>\n",
       "      <td>99.31.120.70</td>\n",
       "      <td>+1-353-046-6749x00004</td>\n",
       "      <td>3092060466768</td>\n",
       "    </tr>\n",
       "    <tr>\n",
       "      <th>3</th>\n",
       "      <td>f46e41fc-5d06-4f60-b730-a5d7ecec90f1</td>\n",
       "      <td>10.225.43.49</td>\n",
       "      <td>125-534-6633x1775</td>\n",
       "      <td>2516617099683</td>\n",
       "    </tr>\n",
       "    <tr>\n",
       "      <th>4</th>\n",
       "      <td>4cc7b6f5-9579-4149-80d8-8cb6c807ee6c</td>\n",
       "      <td>218.46.8.47</td>\n",
       "      <td>(374)448-9917</td>\n",
       "      <td>7683358940269</td>\n",
       "    </tr>\n",
       "  </tbody>\n",
       "</table>\n",
       "</div>"
      ],
      "text/plain": [
       "                          TransactionID       IpAddress  \\\n",
       "0  f9980c5d-e8bf-4431-9ddf-15b4e7a9d7ff   104.32.122.67   \n",
       "1  011955b3-14fa-4342-85f4-3a9c3759b7d7  164.180.250.14   \n",
       "2  a61677ac-a0cb-4113-9409-87bcfe7e6e44    99.31.120.70   \n",
       "3  f46e41fc-5d06-4f60-b730-a5d7ecec90f1    10.225.43.49   \n",
       "4  4cc7b6f5-9579-4149-80d8-8cb6c807ee6c     218.46.8.47   \n",
       "\n",
       "                 PhoneNo       DeviceID  \n",
       "0             7993004217   657817920030  \n",
       "1             6712423669  8984812524268  \n",
       "2  +1-353-046-6749x00004  3092060466768  \n",
       "3      125-534-6633x1775  2516617099683  \n",
       "4          (374)448-9917  7683358940269  "
      ]
     },
     "execution_count": 6,
     "metadata": {},
     "output_type": "execute_result"
    }
   ],
   "source": [
    "identity_df.head(5)"
   ]
  },
  {
   "cell_type": "markdown",
   "metadata": {},
   "source": [
    "Join the two datasets using the **TransactionID** column."
   ]
  },
  {
   "cell_type": "code",
   "execution_count": 7,
   "metadata": {
    "tags": []
   },
   "outputs": [
    {
     "data": {
      "text/html": [
       "<div>\n",
       "<style scoped>\n",
       "    .dataframe tbody tr th:only-of-type {\n",
       "        vertical-align: middle;\n",
       "    }\n",
       "\n",
       "    .dataframe tbody tr th {\n",
       "        vertical-align: top;\n",
       "    }\n",
       "\n",
       "    .dataframe thead th {\n",
       "        text-align: right;\n",
       "    }\n",
       "</style>\n",
       "<table border=\"1\" class=\"dataframe\">\n",
       "  <thead>\n",
       "    <tr style=\"text-align: right;\">\n",
       "      <th></th>\n",
       "      <th>TransactionID</th>\n",
       "      <th>card_no</th>\n",
       "      <th>card_type</th>\n",
       "      <th>email_domain</th>\n",
       "      <th>IpAddress</th>\n",
       "      <th>PhoneNo</th>\n",
       "      <th>DeviceID</th>\n",
       "      <th>ProductCD</th>\n",
       "      <th>TransactionAmt</th>\n",
       "      <th>isFraud</th>\n",
       "    </tr>\n",
       "  </thead>\n",
       "  <tbody>\n",
       "    <tr>\n",
       "      <th>0</th>\n",
       "      <td>9c90c7e2-2600-4628-a868-179287eee169</td>\n",
       "      <td>30545481171260</td>\n",
       "      <td>JCB 16 digit</td>\n",
       "      <td>smith-henry.info</td>\n",
       "      <td>121.92.230.58</td>\n",
       "      <td>+1-038-395-3162x55186</td>\n",
       "      <td>7.163249e+12</td>\n",
       "      <td>T</td>\n",
       "      <td>1198</td>\n",
       "      <td>0</td>\n",
       "    </tr>\n",
       "    <tr>\n",
       "      <th>1</th>\n",
       "      <td>02951e68-f8ff-4f00-b515-5df8bcb0edcb</td>\n",
       "      <td>6549624810102543</td>\n",
       "      <td>VISA 13 digit</td>\n",
       "      <td>yahoo.com</td>\n",
       "      <td>118.244.38.209</td>\n",
       "      <td>001-923-541-7445x63231</td>\n",
       "      <td>3.807589e+12</td>\n",
       "      <td>Y</td>\n",
       "      <td>409</td>\n",
       "      <td>0</td>\n",
       "    </tr>\n",
       "    <tr>\n",
       "      <th>2</th>\n",
       "      <td>17071ccd-3c3d-476a-a3cd-b73638a803d4</td>\n",
       "      <td>4792410992636220</td>\n",
       "      <td>JCB 15 digit</td>\n",
       "      <td>hotmail.com</td>\n",
       "      <td>66.25.190.213</td>\n",
       "      <td>955-326-1614</td>\n",
       "      <td>9.673129e+12</td>\n",
       "      <td>Y</td>\n",
       "      <td>1101</td>\n",
       "      <td>0</td>\n",
       "    </tr>\n",
       "    <tr>\n",
       "      <th>3</th>\n",
       "      <td>5288f832-6673-473a-80f6-fdb98dd99278</td>\n",
       "      <td>3573503852773765</td>\n",
       "      <td>VISA 16 digit</td>\n",
       "      <td>hotmail.com</td>\n",
       "      <td>42.93.10.194</td>\n",
       "      <td>+1-339-892-9034x139</td>\n",
       "      <td>9.965894e+12</td>\n",
       "      <td>Y</td>\n",
       "      <td>2228</td>\n",
       "      <td>0</td>\n",
       "    </tr>\n",
       "    <tr>\n",
       "      <th>4</th>\n",
       "      <td>e37a6dd1-182e-4b87-8b8e-7dd9bf78cea0</td>\n",
       "      <td>3597910599495184</td>\n",
       "      <td>Diners Club / Carte Blanche</td>\n",
       "      <td>gmail.com</td>\n",
       "      <td>154.168.168.7</td>\n",
       "      <td>278.713.5654</td>\n",
       "      <td>7.523612e+12</td>\n",
       "      <td>L</td>\n",
       "      <td>2393</td>\n",
       "      <td>0</td>\n",
       "    </tr>\n",
       "  </tbody>\n",
       "</table>\n",
       "</div>"
      ],
      "text/plain": [
       "                          TransactionID           card_no  \\\n",
       "0  9c90c7e2-2600-4628-a868-179287eee169    30545481171260   \n",
       "1  02951e68-f8ff-4f00-b515-5df8bcb0edcb  6549624810102543   \n",
       "2  17071ccd-3c3d-476a-a3cd-b73638a803d4  4792410992636220   \n",
       "3  5288f832-6673-473a-80f6-fdb98dd99278  3573503852773765   \n",
       "4  e37a6dd1-182e-4b87-8b8e-7dd9bf78cea0  3597910599495184   \n",
       "\n",
       "                     card_type      email_domain       IpAddress  \\\n",
       "0                 JCB 16 digit  smith-henry.info   121.92.230.58   \n",
       "1                VISA 13 digit         yahoo.com  118.244.38.209   \n",
       "2                 JCB 15 digit       hotmail.com   66.25.190.213   \n",
       "3                VISA 16 digit       hotmail.com    42.93.10.194   \n",
       "4  Diners Club / Carte Blanche         gmail.com   154.168.168.7   \n",
       "\n",
       "                  PhoneNo      DeviceID ProductCD  TransactionAmt  isFraud  \n",
       "0   +1-038-395-3162x55186  7.163249e+12         T            1198        0  \n",
       "1  001-923-541-7445x63231  3.807589e+12         Y             409        0  \n",
       "2            955-326-1614  9.673129e+12         Y            1101        0  \n",
       "3     +1-339-892-9034x139  9.965894e+12         Y            2228        0  \n",
       "4            278.713.5654  7.523612e+12         L            2393        0  "
      ]
     },
     "execution_count": 7,
     "metadata": {},
     "output_type": "execute_result"
    }
   ],
   "source": [
    "full_identity_df = transactions_df.merge(identity_df, on=\"TransactionID\", how=\"left\")\n",
    "\n",
    "# Drop transcations time column as it is not useful for modeling\n",
    "full_identity_df.drop([\"TransactionDT\"], axis=1, inplace=True)\n",
    "\n",
    "# Re-arange the order of column names for better visualization\n",
    "full_identity_df = full_identity_df[\n",
    "    [\n",
    "        \"TransactionID\",\n",
    "        \"card_no\",\n",
    "        \"card_type\",\n",
    "        \"email_domain\",\n",
    "        \"IpAddress\",\n",
    "        \"PhoneNo\",\n",
    "        \"DeviceID\",\n",
    "        \"ProductCD\",\n",
    "        \"TransactionAmt\",\n",
    "        \"isFraud\",\n",
    "    ]\n",
    "]\n",
    "full_identity_df.head(5)"
   ]
  },
  {
   "cell_type": "markdown",
   "metadata": {},
   "source": [
    "Since we generated data where the 'Identity' table contains fewer observations than the 'Transactions' table, there will be missing values in some of the columns after we left joined the 'Identity' table onto the 'Transactions' table."
   ]
  },
  {
   "cell_type": "code",
   "execution_count": 8,
   "metadata": {
    "tags": []
   },
   "outputs": [
    {
     "data": {
      "text/plain": [
       "TransactionID         0\n",
       "card_no               0\n",
       "card_type             0\n",
       "email_domain          0\n",
       "IpAddress         28094\n",
       "PhoneNo           28094\n",
       "DeviceID          28094\n",
       "ProductCD             0\n",
       "TransactionAmt        0\n",
       "isFraud               0\n",
       "dtype: int64"
      ]
     },
     "execution_count": 8,
     "metadata": {},
     "output_type": "execute_result"
    }
   ],
   "source": [
    "full_identity_df.isna().sum(axis=0)"
   ]
  },
  {
   "cell_type": "markdown",
   "metadata": {},
   "source": [
    "Distribution of the target column:"
   ]
  },
  {
   "cell_type": "code",
   "execution_count": 9,
   "metadata": {
    "tags": []
   },
   "outputs": [
    {
     "name": "stdout",
     "output_type": "stream",
     "text": [
      "The target column has the following distribution: \n",
      " 0    0.858422\n",
      "1    0.141578\n",
      "Name: isFraud, dtype: float64\n"
     ]
    }
   ],
   "source": [
    "print(\n",
    "    f\"The target column has the following distribution: \\n {full_identity_df.isFraud.value_counts() / full_identity_df.shape[0]}\"\n",
    ")"
   ]
  },
  {
   "cell_type": "markdown",
   "metadata": {},
   "source": [
    "## Data Preprocessing and Feature Engineering"
   ]
  },
  {
   "cell_type": "markdown",
   "metadata": {},
   "source": [
    "### Run Preprocessing job with Amazon SageMaker Processing\n",
    "\n",
    "The script defined in `data-preprocessing/data_preprocessor.py` performs data preprocessing and feature engineering transformations on the raw data. Some of the data transformation and feature engineering techniques include:\n",
    "\n",
    "* Performing numerical encoding for categorical variables and logarithmic transformation for transaction amount\n",
    "\n",
    "The inputs to the data preprocessing script are passed in as python command line arguments. All the columns in the relational table are classifed into one of 3 types for the purposes of data transformation: \n",
    "\n",
    "* **Identity columns** `--id-cols`: columns that contain identity information related to a user or transaction for example IP address, Phone Number, device identifiers etc.\n",
    "\n",
    "* **Categorical columns** `--cat-cols`: columns that correspond to categorical features for a user's age group or whether a provided address matches with an address on file. The entries in these columns undergo numerical feature transformation. The columns names for these column types also needs to be passed in to the script\n",
    "\n",
    "* **Numerical columns**: columns that correspond to numerical features like how many times a user has tried a transaction and so on. The script assumes that all columns in the tables that are not identity columns or categorical columns are numerical columns\n",
    "\n",
    "The datasets are divided into training (70% of the entire data), validation (20%), and test datasets (10%). The validation dataset are used for hyper-parameter optimization to select the optimal set of hyper-parameters. And the test dataset is used for the final evaluation to compare various models.\n",
    "\n",
    "The `SKLearnProcessor` handles Amazon SageMaker processing tasks for jobs using scikit-learn. Then, we can use logic and functions defined in the `data-preprocessing/data_preprocessor.py` script in a processing job by calling the `run` method on the `SKLearnProcessor` instance. The `run` method requires the following arguments:\n",
    "\n",
    "* `code`: An S3 URI or a local path to a file with the framework script to run\n",
    "\n",
    "* `inputs`: Input files for the processing job. These must be provided as `sagemaker.processing.ProcessingInput` objects\n",
    "\n",
    "* `outputs`: Outputs for the processing job. These can be specified as either path strings or `sagemaker.processing.ProcessingOutput` objects\n",
    "\n",
    "* `arguments`: A list of string arguments to be passed to a processing job, which will be parsed by the script provided to `code`"
   ]
  },
  {
   "cell_type": "code",
   "execution_count": 12,
   "metadata": {
    "tags": []
   },
   "outputs": [
    {
     "name": "stderr",
     "output_type": "stream",
     "text": [
      "INFO:botocore.credentials:Found credentials from IAM Role: BaseNotebookInstanceEc2InstanceRole\n",
      "INFO:sagemaker.image_uris:Defaulting to only available Python version: py3\n",
      "INFO:sagemaker:Creating processing-job with name sagemaker-fraud-detection-processing-jo-2023-03-18-12-40-41-761\n"
     ]
    },
    {
     "name": "stdout",
     "output_type": "stream",
     "text": [
      "..........................\u001b[34m/miniconda3/lib/python3.7/site-packages/sklearn/externals/joblib/externals/cloudpickle/cloudpickle.py:47: DeprecationWarning: the imp module is deprecated in favour of importlib; see the module's documentation for alternative uses\n",
      "  import imp\u001b[0m\n",
      "\u001b[34m/miniconda3/lib/python3.7/site-packages/sklearn/utils/validation.py:37: DeprecationWarning: distutils Version classes are deprecated. Use packaging.version instead.\n",
      "  LARGE_SPARSE_SUPPORTED = LooseVersion(scipy_version) >= '0.14.0'\u001b[0m\n",
      "\u001b[34m2023-03-18 12:44:51,697 INFO __main__: Shape of transaction data is (140467, 8)\u001b[0m\n",
      "\u001b[34m2023-03-18 12:44:51,698 INFO __main__: # Tagged transactions: 140467\u001b[0m\n",
      "\u001b[34m2023-03-18 12:44:51,915 INFO __main__: Shape of identity data is (112373, 4)\u001b[0m\n",
      "\u001b[34m2023-03-18 12:44:51,915 INFO __main__: Training, validation, and test data fraction are 0.7, 0.2, and 0.10000000000000003, respectively\u001b[0m\n",
      "\u001b[34m2023-03-18 12:44:52,074 INFO __main__: Percentage of fraud transactions for train data: 14.158005003762993\u001b[0m\n",
      "\u001b[34m2023-03-18 12:44:52,099 INFO __main__: Percentage of fraud transactions for validation data: 14.156047554638\u001b[0m\n",
      "\u001b[34m2023-03-18 12:44:52,114 INFO __main__: Percentage of fraud transactions for test data: 14.15960703353029\u001b[0m\n",
      "\u001b[34m2023-03-18 12:44:52,124 INFO __main__: Percentage of fraud transactions for all data: 14.157773711975056\u001b[0m\n",
      "\u001b[34m2023-03-18 12:44:52,136 INFO __main__: Wrote validation data to file: /opt/ml/processing/output/validation.csv\u001b[0m\n",
      "\u001b[34m2023-03-18 12:44:52,146 INFO __main__: Wrote test data to file: /opt/ml/processing/output/test.csv\u001b[0m\n",
      "\u001b[34m2023-03-18 12:44:52,148 INFO __main__: Processing feature columns for XGBoost.\u001b[0m\n",
      "\u001b[34m2023-03-18 12:44:52,148 INFO __main__: Categorical feature columns for XGBoost: ['card_type', 'ProductCD']\u001b[0m\n",
      "\u001b[34m2023-03-18 12:44:52,148 INFO __main__: Numerical feature column for XGBoost: 'TransactionAmt'\u001b[0m\n",
      "\u001b[34m2023-03-18 12:44:53,861 INFO __main__: Wrote features to file: /opt/ml/processing/output/features_xgboost.csv\u001b[0m\n",
      "\u001b[34m2023-03-18 12:44:54,141 INFO __main__: Wrote labels to file: /opt/ml/processing/output/tags.csv\u001b[0m\n",
      "\n"
     ]
    }
   ],
   "source": [
    "from sagemaker.sklearn.processing import SKLearnProcessor\n",
    "from sagemaker.processing import ProcessingInput, ProcessingOutput\n",
    "from time import strftime, gmtime\n",
    "\n",
    "# Timestamp\n",
    "time_stamp = strftime(\"%Y-%m-%d-%H-%M-%S\", gmtime())\n",
    "\n",
    "# Processing job name\n",
    "processing_job_name = f\"sagemaker-fraud-detection-processing-job-{time_stamp}\"\n",
    "\n",
    "# Instantiate processor\n",
    "sklearn_processor = SKLearnProcessor(\n",
    "    framework_version=\"0.20.0\",  # Scikit-learn version\n",
    "    role=role,  # AWS IAM role name\n",
    "    instance_type=\"ml.m5.xlarge\",  # Type of EC2 instance to use for processing (4 vCPU's and 16 GiB of memory)\n",
    "    instance_count=1,  # Number of instances to run the processing job with\n",
    "    base_job_name=processing_job_name,\n",
    ")\n",
    "\n",
    "# Run processor\n",
    "sklearn_processor.run(\n",
    "    code=\"data_preprocessing/data_preprocessor.py\",\n",
    "    inputs=[\n",
    "        ProcessingInput(\n",
    "            source=s3_raw_data_location, destination=\"/opt/ml/processing/input\"\n",
    "        )\n",
    "    ],\n",
    "    outputs=[\n",
    "        ProcessingOutput(destination=train_data, source=\"/opt/ml/processing/output\")\n",
    "    ],\n",
    "    arguments=[\n",
    "        \"--cat-cols-xgboost\",\n",
    "        \"card_type,ProductCD\",  # Categorical columns for xgboost\n",
    "    ],\n",
    ")"
   ]
  },
  {
   "cell_type": "markdown",
   "metadata": {},
   "source": [
    "### View Results of Data Preprocessing\n",
    "\n",
    "Once the preprocessing job is complete, we can take a look at the contents of the S3 bucket to see the transformed data."
   ]
  },
  {
   "cell_type": "code",
   "execution_count": 4,
   "metadata": {
    "tags": []
   },
   "outputs": [
    {
     "name": "stdout",
     "output_type": "stream",
     "text": [
      "===== Processed Files =====\n",
      "s3://yang-ml-sagemaker/fraud_detection_project/preprocessed_data/features_xgboost.csv\n",
      "s3://yang-ml-sagemaker/fraud_detection_project/preprocessed_data/tags.csv\n",
      "s3://yang-ml-sagemaker/fraud_detection_project/preprocessed_data/test.csv\n",
      "s3://yang-ml-sagemaker/fraud_detection_project/preprocessed_data/validation.csv\n"
     ]
    }
   ],
   "source": [
    "processed_files = S3Downloader.list(train_data)\n",
    "print(\"===== Processed Files =====\")\n",
    "print(\"\\n\".join(processed_files))\n",
    "\n",
    "# Download processed data into local directory preprocessed_data\n",
    "S3Downloader.download(\n",
    "    train_data, train_data.split(\"/\")[-1]\n",
    ")  # Use -1 to obtain the last substring of the path"
   ]
  },
  {
   "cell_type": "markdown",
   "metadata": {},
   "source": [
    "## XGBoost\n",
    "\n",
    "We train an XGBoost model with HPO (Hyperparameter Optimization) on the transaction table data. "
   ]
  },
  {
   "cell_type": "markdown",
   "metadata": {},
   "source": [
    "### Read data and upload to S3\n",
    "The features used for training XGBoost are from **features_xgboost.csv** that are processed in the above processing job. \n",
    "\n",
    "The features include categorical columns **productCD**, **card_type** and numerical column **TransactionAmt**. \n",
    "\n",
    "The categorical features are onehot encoded. Other features (categorical features) such as **IpAddress**, **PhoneNO** contain too many categories (~40,000) and thus are not suitable to be used as training features for XGBoost."
   ]
  },
  {
   "cell_type": "code",
   "execution_count": 6,
   "metadata": {
    "tags": []
   },
   "outputs": [],
   "source": [
    "train_data_df, valid_data_df, test_data_df = get_data()"
   ]
  },
  {
   "cell_type": "markdown",
   "metadata": {},
   "source": [
    "Let's check the first 5 observations of the train data frame."
   ]
  },
  {
   "cell_type": "code",
   "execution_count": 7,
   "metadata": {
    "tags": []
   },
   "outputs": [
    {
     "data": {
      "text/html": [
       "<div>\n",
       "<style scoped>\n",
       "    .dataframe tbody tr th:only-of-type {\n",
       "        vertical-align: middle;\n",
       "    }\n",
       "\n",
       "    .dataframe tbody tr th {\n",
       "        vertical-align: top;\n",
       "    }\n",
       "\n",
       "    .dataframe thead th {\n",
       "        text-align: right;\n",
       "    }\n",
       "</style>\n",
       "<table border=\"1\" class=\"dataframe\">\n",
       "  <thead>\n",
       "    <tr style=\"text-align: right;\">\n",
       "      <th></th>\n",
       "      <th>isFraud</th>\n",
       "      <th>1</th>\n",
       "      <th>2</th>\n",
       "      <th>3</th>\n",
       "      <th>4</th>\n",
       "      <th>5</th>\n",
       "      <th>6</th>\n",
       "      <th>7</th>\n",
       "      <th>8</th>\n",
       "      <th>9</th>\n",
       "      <th>10</th>\n",
       "      <th>11</th>\n",
       "      <th>12</th>\n",
       "      <th>13</th>\n",
       "      <th>14</th>\n",
       "      <th>15</th>\n",
       "      <th>16</th>\n",
       "    </tr>\n",
       "    <tr>\n",
       "      <th>TransactionID</th>\n",
       "      <th></th>\n",
       "      <th></th>\n",
       "      <th></th>\n",
       "      <th></th>\n",
       "      <th></th>\n",
       "      <th></th>\n",
       "      <th></th>\n",
       "      <th></th>\n",
       "      <th></th>\n",
       "      <th></th>\n",
       "      <th></th>\n",
       "      <th></th>\n",
       "      <th></th>\n",
       "      <th></th>\n",
       "      <th></th>\n",
       "      <th></th>\n",
       "      <th></th>\n",
       "    </tr>\n",
       "  </thead>\n",
       "  <tbody>\n",
       "    <tr>\n",
       "      <th>9c90c7e2-2600-4628-a868-179287eee169</th>\n",
       "      <td>0</td>\n",
       "      <td>0</td>\n",
       "      <td>0</td>\n",
       "      <td>0</td>\n",
       "      <td>0</td>\n",
       "      <td>1</td>\n",
       "      <td>0</td>\n",
       "      <td>0</td>\n",
       "      <td>0</td>\n",
       "      <td>0</td>\n",
       "      <td>0</td>\n",
       "      <td>0</td>\n",
       "      <td>0</td>\n",
       "      <td>0</td>\n",
       "      <td>1</td>\n",
       "      <td>0</td>\n",
       "      <td>3.078457</td>\n",
       "    </tr>\n",
       "    <tr>\n",
       "      <th>02951e68-f8ff-4f00-b515-5df8bcb0edcb</th>\n",
       "      <td>0</td>\n",
       "      <td>0</td>\n",
       "      <td>0</td>\n",
       "      <td>0</td>\n",
       "      <td>0</td>\n",
       "      <td>0</td>\n",
       "      <td>0</td>\n",
       "      <td>0</td>\n",
       "      <td>1</td>\n",
       "      <td>0</td>\n",
       "      <td>0</td>\n",
       "      <td>0</td>\n",
       "      <td>0</td>\n",
       "      <td>0</td>\n",
       "      <td>0</td>\n",
       "      <td>1</td>\n",
       "      <td>2.611723</td>\n",
       "    </tr>\n",
       "    <tr>\n",
       "      <th>5288f832-6673-473a-80f6-fdb98dd99278</th>\n",
       "      <td>0</td>\n",
       "      <td>0</td>\n",
       "      <td>0</td>\n",
       "      <td>0</td>\n",
       "      <td>0</td>\n",
       "      <td>0</td>\n",
       "      <td>0</td>\n",
       "      <td>0</td>\n",
       "      <td>0</td>\n",
       "      <td>1</td>\n",
       "      <td>0</td>\n",
       "      <td>0</td>\n",
       "      <td>0</td>\n",
       "      <td>0</td>\n",
       "      <td>0</td>\n",
       "      <td>1</td>\n",
       "      <td>3.347915</td>\n",
       "    </tr>\n",
       "    <tr>\n",
       "      <th>e37a6dd1-182e-4b87-8b8e-7dd9bf78cea0</th>\n",
       "      <td>0</td>\n",
       "      <td>0</td>\n",
       "      <td>1</td>\n",
       "      <td>0</td>\n",
       "      <td>0</td>\n",
       "      <td>0</td>\n",
       "      <td>0</td>\n",
       "      <td>0</td>\n",
       "      <td>0</td>\n",
       "      <td>0</td>\n",
       "      <td>0</td>\n",
       "      <td>0</td>\n",
       "      <td>0</td>\n",
       "      <td>1</td>\n",
       "      <td>0</td>\n",
       "      <td>0</td>\n",
       "      <td>3.378943</td>\n",
       "    </tr>\n",
       "    <tr>\n",
       "      <th>9e94c1be-5186-4769-badd-6e43d344150b</th>\n",
       "      <td>1</td>\n",
       "      <td>0</td>\n",
       "      <td>0</td>\n",
       "      <td>0</td>\n",
       "      <td>0</td>\n",
       "      <td>0</td>\n",
       "      <td>0</td>\n",
       "      <td>0</td>\n",
       "      <td>0</td>\n",
       "      <td>1</td>\n",
       "      <td>0</td>\n",
       "      <td>1</td>\n",
       "      <td>0</td>\n",
       "      <td>0</td>\n",
       "      <td>0</td>\n",
       "      <td>0</td>\n",
       "      <td>2.247973</td>\n",
       "    </tr>\n",
       "  </tbody>\n",
       "</table>\n",
       "</div>"
      ],
      "text/plain": [
       "                                      isFraud  1  2  3  4  5  6  7  8  9  10  \\\n",
       "TransactionID                                                                  \n",
       "9c90c7e2-2600-4628-a868-179287eee169        0  0  0  0  0  1  0  0  0  0   0   \n",
       "02951e68-f8ff-4f00-b515-5df8bcb0edcb        0  0  0  0  0  0  0  0  1  0   0   \n",
       "5288f832-6673-473a-80f6-fdb98dd99278        0  0  0  0  0  0  0  0  0  1   0   \n",
       "e37a6dd1-182e-4b87-8b8e-7dd9bf78cea0        0  0  1  0  0  0  0  0  0  0   0   \n",
       "9e94c1be-5186-4769-badd-6e43d344150b        1  0  0  0  0  0  0  0  0  1   0   \n",
       "\n",
       "                                      11  12  13  14  15        16  \n",
       "TransactionID                                                       \n",
       "9c90c7e2-2600-4628-a868-179287eee169   0   0   0   1   0  3.078457  \n",
       "02951e68-f8ff-4f00-b515-5df8bcb0edcb   0   0   0   0   1  2.611723  \n",
       "5288f832-6673-473a-80f6-fdb98dd99278   0   0   0   0   1  3.347915  \n",
       "e37a6dd1-182e-4b87-8b8e-7dd9bf78cea0   0   0   1   0   0  3.378943  \n",
       "9e94c1be-5186-4769-badd-6e43d344150b   1   0   0   0   0  2.247973  "
      ]
     },
     "execution_count": 7,
     "metadata": {},
     "output_type": "execute_result"
    }
   ],
   "source": [
    "train_data_df.head(5)"
   ]
  },
  {
   "cell_type": "markdown",
   "metadata": {},
   "source": [
    "Save the training and validation data into local directory and then upload them to s3 bucket for training."
   ]
  },
  {
   "cell_type": "code",
   "execution_count": 8,
   "metadata": {
    "tags": []
   },
   "outputs": [],
   "source": [
    "!mkdir -p xgboost_input\n",
    "train_data_df.to_csv(\"xgboost_input/train_xgb.csv\", header=False, index=False)\n",
    "valid_data_df.to_csv(\"xgboost_input/validation_xgb.csv\", header=False, index=False)"
   ]
  },
  {
   "cell_type": "code",
   "execution_count": 9,
   "metadata": {
    "tags": []
   },
   "outputs": [
    {
     "name": "stdout",
     "output_type": "stream",
     "text": [
      "Uploaded training data location: s3://yang-ml-sagemaker/fraud_detection_project/xgboost_fraud_detection/train/train_xgb.csv\n",
      "Uploaded training data location: s3://yang-ml-sagemaker/fraud_detection_project/xgboost_fraud_detection/validation/validation_xgb.csv\n",
      "Training artifacts are uploaded to: s3://yang-ml-sagemaker/fraud_detection_project/xgboost_fraud_detection/output\n"
     ]
    }
   ],
   "source": [
    "xgboost_prefix = \"xgboost_fraud_detection\"\n",
    "\n",
    "s3_train_data = S3Uploader.upload(\n",
    "    \"xgboost_input/train_xgb.csv\",\n",
    "    f\"s3://{config.s3_bucket}/{config.s3_prefix}/{xgboost_prefix}/train\",\n",
    ")\n",
    "print(f\"Uploaded training data location: {s3_train_data}\")\n",
    "\n",
    "s3_validation_data = S3Uploader.upload(\n",
    "    \"xgboost_input/validation_xgb.csv\",\n",
    "    f\"s3://{config.s3_bucket}/{config.s3_prefix}/{xgboost_prefix}/validation\",\n",
    ")\n",
    "print(f\"Uploaded training data location: {s3_validation_data}\")\n",
    "\n",
    "output_location = f\"s3://{config.s3_bucket}/{config.s3_prefix}/{xgboost_prefix}/output\"\n",
    "print(f\"Training artifacts are uploaded to: {output_location}\")"
   ]
  },
  {
   "cell_type": "markdown",
   "metadata": {},
   "source": [
    "### Train SageMaker XGBoost Estimator with HPO"
   ]
  },
  {
   "cell_type": "markdown",
   "metadata": {},
   "source": [
    "Moving onto training, first we need to specify the locations of the XGBoost algorithm containers."
   ]
  },
  {
   "cell_type": "code",
   "execution_count": 10,
   "metadata": {
    "tags": []
   },
   "outputs": [
    {
     "data": {
      "text/plain": [
       "'811284229777.dkr.ecr.us-east-1.amazonaws.com/xgboost:latest'"
      ]
     },
     "metadata": {},
     "output_type": "display_data"
    }
   ],
   "source": [
    "import boto3\n",
    "from sagemaker.inputs import TrainingInput\n",
    "\n",
    "# Retrieve the latest xgboost docker image\n",
    "container = sagemaker.image_uris.retrieve(\n",
    "    framework=\"xgboost\", region=boto3.Session().region_name, version=\"latest\"\n",
    ")\n",
    "display(container)"
   ]
  },
  {
   "cell_type": "markdown",
   "metadata": {},
   "source": [
    "Because we're training with CSV file format, we create `TrainingInputs` that our training function can use as a pointer to the files in S3."
   ]
  },
  {
   "cell_type": "code",
   "execution_count": 11,
   "metadata": {
    "tags": []
   },
   "outputs": [],
   "source": [
    "s3_input_train = TrainingInput(\n",
    "    s3_data=f\"s3://{config.s3_bucket}/{config.s3_prefix}/{xgboost_prefix}/train\",\n",
    "    content_type=\"csv\",\n",
    ")\n",
    "s3_input_validation = TrainingInput(\n",
    "    s3_data=f\"s3://{config.s3_bucket}/{config.s3_prefix}/{xgboost_prefix}/validation\",\n",
    "    content_type=\"csv\",\n",
    ")"
   ]
  },
  {
   "cell_type": "markdown",
   "metadata": {},
   "source": [
    "The `sagemaker.estimator.Estimator` class is a generic `Estimator` used to train using any supplied algorithm. This class is designed for use with algorithms that don’t have their own, custom class. Some key arguments are:\n",
    "\n",
    "* image_uri (str or `PipelineVariable`): The container image to use for training.\n",
    "\n",
    "* `role` (str): An AWS IAM role (either name or full ARN).\n",
    "\n",
    "* `instance_count` (int or `PipelineVariable`): Number of Amazon EC2 instances to use for training.\n",
    "\n",
    "* `instance_type` (str or `PipelineVariable`): Type of EC2 instance to use for training, for example, 'ml.c4.xlarge'. \n",
    "\n",
    "* `output_path` (int or `PipelineVariable`): S3 location for saving the training result (model artifacts and output files).\n",
    "\n",
    "* `sagemaker_session`: Session object which manages interactions with Amazon SageMaker APIs and any other AWS services needed."
   ]
  },
  {
   "cell_type": "code",
   "execution_count": 12,
   "metadata": {
    "tags": []
   },
   "outputs": [],
   "source": [
    "# Import hyperparameter sampler and configuration class\n",
    "from sagemaker.tuner import (\n",
    "    IntegerParameter,\n",
    "    ContinuousParameter,\n",
    "    HyperparameterTuner,\n",
    ")\n",
    "\n",
    "# The first column is the target\n",
    "train_y = train_data_df.values[:, 0]\n",
    "# Scale positive class weight using the ratio of negative class to positive class\n",
    "scale_pos_weight = (len(train_y) - sum(train_y)) / sum(train_y)\n",
    "\n",
    "# Estimator for training\n",
    "xgb = sagemaker.estimator.Estimator(\n",
    "    image_uri=container,\n",
    "    role=role,\n",
    "    instance_count=1,\n",
    "    instance_type=\"ml.c5.4xlarge\",\n",
    "    output_path=output_location,\n",
    "    sagemaker_session=sess,\n",
    ")\n",
    "\n",
    "# Hyperparameter for xgboost\n",
    "xgb.set_hyperparameters(\n",
    "    eval_metric=\"auc\",  # Evaluation metrics for validation data\n",
    "    objective=\"binary:logistic\",  # Objective function\n",
    "    num_round=1000,  # Number of boosting rounds (trees)\n",
    "    early_stopping_rounds=10,  # Early stopping\n",
    "    silent=0,\n",
    "    scale_pos_weight=scale_pos_weight,  # Scale positive class\n",
    ")\n",
    "\n",
    "# We wish to tune the hyperparmeters based on validation 'auc' and not training 'auc'\n",
    "objective_metric_name = \"validation:auc\"\n",
    "objective_type = \"Maximize\""
   ]
  },
  {
   "cell_type": "markdown",
   "metadata": {},
   "source": [
    "Next, we define the hyperparameter search space:"
   ]
  },
  {
   "cell_type": "code",
   "execution_count": 13,
   "metadata": {
    "tags": []
   },
   "outputs": [],
   "source": [
    "# Define the hyper-parameters search ranges\n",
    "hyperparameter_ranges = {\n",
    "    \"eta\": ContinuousParameter(\n",
    "        0, 1\n",
    "    ),  # Learning rate, the higher the more conservative boosting process (regularizer)\n",
    "    \"min_child_weight\": ContinuousParameter(\n",
    "        1, 10\n",
    "    ),  # The larger min_child_weight is, the more conservative the algorithm will be (regularizer)\n",
    "    \"gamma\": ContinuousParameter(\n",
    "        0, 0.6\n",
    "    ),  # Range: [0, inf], the larger the more conservative the algorithm (regularizer)\n",
    "    \"alpha\": ContinuousParameter(\n",
    "        0, 2\n",
    "    ),  # Range: [0, inf], L1 regularization term on weights, the larger the more conservative the algorithm (regularizer)\n",
    "    \"max_depth\": IntegerParameter(\n",
    "        1, 10\n",
    "    ),  # Range: [0, inf], deep trees boost predictive power but are more likely to overfit (bias reducer)\n",
    "    \"subsample\": ContinuousParameter(\n",
    "        0.2, 1\n",
    "    ),  # Range: (0, 1], subsample ratio of the training instances every boosting iteration, the smaller the more conservative (regularizer)\n",
    "}"
   ]
  },
  {
   "cell_type": "markdown",
   "metadata": {},
   "source": [
    "The `sagemaker.tuner.HyperparameterTuner` class takes an `estimator` to obtain configuration information for training jobs, which are created as the result of a hyperparameter tuning job. Some key arguments are:\n",
    "\n",
    "- `estimator` (`sagemaker.estimator.EstimatorBase`) - An estimator object that has been initialized with the desired configuration. There does not need to be a training job associated with this instance.\n",
    "\n",
    "- `objective_metric_name` (str or `PipelineVariable`) - Name of the metric for evaluating training jobs.\n",
    "\n",
    "- `hyperparameter_ranges` (`dict[str, sagemaker.parameter.ParameterRange]`) Dictionary of parameter ranges. These parameter ranges can be one of three types: Continuous, Integer, or Categorical. The keys of the dictionary are the names of the hyperparameter, and the values are the appropriate parameter range class to represent the range.\n",
    "\n",
    "- `metric_definitions` (`list[dict[str, str]` or `list[dict[str, PipelineVariable]]`) - A list of dictionaries that defines the metric(s) used to evaluate the training jobs (default: None). Each dictionary contains two keys: 'Name' for the name of the metric, and 'Regex' for the regular expression used to extract the metric from the logs. This should be defined only for hyperparameter tuning jobs that don't use an Amazon algorithm.\n",
    "\n",
    "- `strategy` (str or `PipelineVariable`) - Strategy to be used for hyperparameter estimations (default: 'Bayesian').\n",
    "\n",
    "- `objective_type` (str or `PipelineVariable`) - The type of the objective metric for evaluating training jobs. This value can be either 'Minimize' or 'Maximize' (default: 'Maximize').\n",
    "\n",
    "- `max jobs` (int or `PipelineVariable`) - Maximum total number of training jobs to start for the hyperparameter tuning job. The default value is unspecified fot the GridSearch strategy and the default value is 1 for all others\n",
    "\n",
    "- `max_parallel_jobs` (int or `PipelineVariable`) - Maximum number of parallel training jobs to start (default: 1 ).\n",
    "\n",
    "- `early_stopping_type` (str or `PipelineVariable`) - Specifies whether early stopping is enabled for the job. Can be either 'Auto' or 'Off' (default: 'Off'). If set to 'Off', early stopping will not be attempted. If set to 'Auto', early stopping of some training jobs may happen, but is not guaranteed to.\n",
    "\n",
    "- `random_seed` (int) - An initial value used to initialize a pseudo-random number generator. Setting a random seed will make the hyperparameter tuning search strategies to produce more consistent configurations for the same tuning job."
   ]
  },
  {
   "cell_type": "code",
   "execution_count": 14,
   "metadata": {
    "tags": []
   },
   "outputs": [
    {
     "name": "stderr",
     "output_type": "stream",
     "text": [
      "No finished training job found associated with this estimator. Please make sure this estimator is only used for building workflow config\n"
     ]
    },
    {
     "name": "stdout",
     "output_type": "stream",
     "text": [
      "We can go to SageMaker -> Training -> Hyperparameter tuning jobs -> a job name started with sagemaker-fraud-detection-143f5d-tuning-job to monitor HPO tuning status and details.\n",
      "\n",
      "................................................................................................................!\n"
     ]
    }
   ],
   "source": [
    "# Unique id for tuning job\n",
    "unique_hash = str(uuid.uuid4())[:6]\n",
    "tuning_job_name = f\"sagemaker-fraud-detection-{unique_hash}-tuning-job\"\n",
    "print(\n",
    "    f\"We can go to SageMaker -> Training -> Hyperparameter tuning jobs -> a job name started with {tuning_job_name} to monitor HPO tuning status and details.\\n\"\n",
    ")\n",
    "\n",
    "tuner = HyperparameterTuner(\n",
    "    estimator=xgb,\n",
    "    objective_metric_name=objective_metric_name,  # Tune based on validation 'auc'\n",
    "    hyperparameter_ranges=hyperparameter_ranges,\n",
    "    objective_type=objective_type,  # Maximize auc\n",
    "    strategy=\"Bayesian\",  # Use Bayesian optimization\n",
    "    max_jobs=30,  # Maximum total number of training jobs to start for hyperparameter tuning job\n",
    "    max_parallel_jobs=3,  # Maximum number of parallel training jobs\n",
    "    base_tuning_job_name=tuning_job_name,  # Tuning job name\n",
    "    early_stopping_type=\"Off\",  # By default, early stopping will not be attempted\n",
    ")\n",
    "\n",
    "# Train and Validation sets\n",
    "tuner.fit(inputs={\"train\": s3_input_train, \"validation\": s3_input_validation})"
   ]
  },
  {
   "cell_type": "markdown",
   "metadata": {},
   "source": [
    "Check the Status of HPO tuning jobs:"
   ]
  },
  {
   "cell_type": "code",
   "execution_count": 15,
   "metadata": {
    "tags": []
   },
   "outputs": [
    {
     "data": {
      "text/plain": [
       "'Completed'"
      ]
     },
     "execution_count": 15,
     "metadata": {},
     "output_type": "execute_result"
    }
   ],
   "source": [
    "boto3.client(\"sagemaker\").describe_hyper_parameter_tuning_job(\n",
    "    HyperParameterTuningJobName=tuner.latest_tuning_job.job_name\n",
    ")[\"HyperParameterTuningJobStatus\"]"
   ]
  },
  {
   "cell_type": "markdown",
   "metadata": {},
   "source": [
    "Retrieve the tuning job name"
   ]
  },
  {
   "cell_type": "code",
   "execution_count": 16,
   "metadata": {
    "tags": []
   },
   "outputs": [
    {
     "data": {
      "text/plain": [
       "'sagemaker-fraud-dete-230318-1208'"
      ]
     },
     "execution_count": 16,
     "metadata": {},
     "output_type": "execute_result"
    }
   ],
   "source": [
    "# Create a sagemaker client\n",
    "sm_client = boto3.Session().client(\"sagemaker\")\n",
    "\n",
    "tuning_job_name = tuner.latest_tuning_job.name\n",
    "tuning_job_name"
   ]
  },
  {
   "cell_type": "markdown",
   "metadata": {},
   "source": [
    "We can also obtain a description of a hyperparameter tuning job, stored in a **dictionary**, using the tunig job name:"
   ]
  },
  {
   "cell_type": "code",
   "execution_count": 17,
   "metadata": {
    "tags": []
   },
   "outputs": [
    {
     "name": "stdout",
     "output_type": "stream",
     "text": [
      "30 training jobs have completed\n"
     ]
    }
   ],
   "source": [
    "# Tuning job results dictionary\n",
    "tuning_job_result = sm_client.describe_hyper_parameter_tuning_job(\n",
    "    HyperParameterTuningJobName=tuning_job_name\n",
    ")\n",
    "\n",
    "# Number of training jobs completed\n",
    "job_count = tuning_job_result[\"TrainingJobStatusCounters\"][\"Completed\"]\n",
    "print(\"%d training jobs have completed\" % job_count)"
   ]
  },
  {
   "cell_type": "markdown",
   "metadata": {},
   "source": [
    "The `sagemaker.HyperparameterTuningJobAnalytics` class fetches results about a hyperparameter tuning job and makes them accessible for analytics."
   ]
  },
  {
   "cell_type": "code",
   "execution_count": 18,
   "metadata": {
    "tags": []
   },
   "outputs": [
    {
     "data": {
      "text/html": [
       "<div>\n",
       "<style scoped>\n",
       "    .dataframe tbody tr th:only-of-type {\n",
       "        vertical-align: middle;\n",
       "    }\n",
       "\n",
       "    .dataframe tbody tr th {\n",
       "        vertical-align: top;\n",
       "    }\n",
       "\n",
       "    .dataframe thead th {\n",
       "        text-align: right;\n",
       "    }\n",
       "</style>\n",
       "<table border=\"1\" class=\"dataframe\">\n",
       "  <thead>\n",
       "    <tr style=\"text-align: right;\">\n",
       "      <th></th>\n",
       "      <th>alpha</th>\n",
       "      <th>eta</th>\n",
       "      <th>gamma</th>\n",
       "      <th>max_depth</th>\n",
       "      <th>min_child_weight</th>\n",
       "      <th>subsample</th>\n",
       "      <th>TrainingJobName</th>\n",
       "      <th>TrainingJobStatus</th>\n",
       "      <th>FinalObjectiveValue</th>\n",
       "      <th>TrainingStartTime</th>\n",
       "      <th>TrainingEndTime</th>\n",
       "      <th>TrainingElapsedTimeSeconds</th>\n",
       "    </tr>\n",
       "  </thead>\n",
       "  <tbody>\n",
       "    <tr>\n",
       "      <th>26</th>\n",
       "      <td>1.385862</td>\n",
       "      <td>0.718968</td>\n",
       "      <td>0.098785</td>\n",
       "      <td>6.0</td>\n",
       "      <td>4.915037</td>\n",
       "      <td>0.960143</td>\n",
       "      <td>sagemaker-fraud-dete-230318-1208-004-22e043a0</td>\n",
       "      <td>Completed</td>\n",
       "      <td>0.858585</td>\n",
       "      <td>2023-03-18 12:10:46+00:00</td>\n",
       "      <td>2023-03-18 12:11:08+00:00</td>\n",
       "      <td>22.0</td>\n",
       "    </tr>\n",
       "    <tr>\n",
       "      <th>28</th>\n",
       "      <td>1.752311</td>\n",
       "      <td>0.395842</td>\n",
       "      <td>0.595911</td>\n",
       "      <td>7.0</td>\n",
       "      <td>6.392295</td>\n",
       "      <td>0.885438</td>\n",
       "      <td>sagemaker-fraud-dete-230318-1208-002-6e851ad8</td>\n",
       "      <td>Completed</td>\n",
       "      <td>0.858363</td>\n",
       "      <td>2023-03-18 12:09:21+00:00</td>\n",
       "      <td>2023-03-18 12:10:38+00:00</td>\n",
       "      <td>77.0</td>\n",
       "    </tr>\n",
       "    <tr>\n",
       "      <th>11</th>\n",
       "      <td>1.372968</td>\n",
       "      <td>0.667018</td>\n",
       "      <td>0.079595</td>\n",
       "      <td>5.0</td>\n",
       "      <td>5.733988</td>\n",
       "      <td>0.959357</td>\n",
       "      <td>sagemaker-fraud-dete-230318-1208-019-19601532</td>\n",
       "      <td>Completed</td>\n",
       "      <td>0.858113</td>\n",
       "      <td>2023-03-18 12:15:02+00:00</td>\n",
       "      <td>2023-03-18 12:15:24+00:00</td>\n",
       "      <td>22.0</td>\n",
       "    </tr>\n",
       "    <tr>\n",
       "      <th>19</th>\n",
       "      <td>1.390263</td>\n",
       "      <td>0.661666</td>\n",
       "      <td>0.194786</td>\n",
       "      <td>6.0</td>\n",
       "      <td>4.246918</td>\n",
       "      <td>0.954406</td>\n",
       "      <td>sagemaker-fraud-dete-230318-1208-011-98d06817</td>\n",
       "      <td>Completed</td>\n",
       "      <td>0.858008</td>\n",
       "      <td>2023-03-18 12:12:36+00:00</td>\n",
       "      <td>2023-03-18 12:12:58+00:00</td>\n",
       "      <td>22.0</td>\n",
       "    </tr>\n",
       "    <tr>\n",
       "      <th>4</th>\n",
       "      <td>1.211909</td>\n",
       "      <td>0.549331</td>\n",
       "      <td>0.111055</td>\n",
       "      <td>6.0</td>\n",
       "      <td>6.389528</td>\n",
       "      <td>0.959456</td>\n",
       "      <td>sagemaker-fraud-dete-230318-1208-026-fed7d640</td>\n",
       "      <td>Completed</td>\n",
       "      <td>0.858004</td>\n",
       "      <td>2023-03-18 12:16:34+00:00</td>\n",
       "      <td>2023-03-18 12:16:56+00:00</td>\n",
       "      <td>22.0</td>\n",
       "    </tr>\n",
       "  </tbody>\n",
       "</table>\n",
       "</div>"
      ],
      "text/plain": [
       "       alpha       eta     gamma  max_depth  min_child_weight  subsample  \\\n",
       "26  1.385862  0.718968  0.098785        6.0          4.915037   0.960143   \n",
       "28  1.752311  0.395842  0.595911        7.0          6.392295   0.885438   \n",
       "11  1.372968  0.667018  0.079595        5.0          5.733988   0.959357   \n",
       "19  1.390263  0.661666  0.194786        6.0          4.246918   0.954406   \n",
       "4   1.211909  0.549331  0.111055        6.0          6.389528   0.959456   \n",
       "\n",
       "                                  TrainingJobName TrainingJobStatus  \\\n",
       "26  sagemaker-fraud-dete-230318-1208-004-22e043a0         Completed   \n",
       "28  sagemaker-fraud-dete-230318-1208-002-6e851ad8         Completed   \n",
       "11  sagemaker-fraud-dete-230318-1208-019-19601532         Completed   \n",
       "19  sagemaker-fraud-dete-230318-1208-011-98d06817         Completed   \n",
       "4   sagemaker-fraud-dete-230318-1208-026-fed7d640         Completed   \n",
       "\n",
       "    FinalObjectiveValue         TrainingStartTime           TrainingEndTime  \\\n",
       "26             0.858585 2023-03-18 12:10:46+00:00 2023-03-18 12:11:08+00:00   \n",
       "28             0.858363 2023-03-18 12:09:21+00:00 2023-03-18 12:10:38+00:00   \n",
       "11             0.858113 2023-03-18 12:15:02+00:00 2023-03-18 12:15:24+00:00   \n",
       "19             0.858008 2023-03-18 12:12:36+00:00 2023-03-18 12:12:58+00:00   \n",
       "4              0.858004 2023-03-18 12:16:34+00:00 2023-03-18 12:16:56+00:00   \n",
       "\n",
       "    TrainingElapsedTimeSeconds  \n",
       "26                        22.0  \n",
       "28                        77.0  \n",
       "11                        22.0  \n",
       "19                        22.0  \n",
       "4                         22.0  "
      ]
     },
     "execution_count": 18,
     "metadata": {},
     "output_type": "execute_result"
    }
   ],
   "source": [
    "tuner_analytics = sagemaker.HyperparameterTuningJobAnalytics(tuning_job_name)\n",
    "\n",
    "full_df = tuner_analytics.dataframe()\n",
    "\n",
    "full_df.sort_values(\"FinalObjectiveValue\", ascending=False).head(5)"
   ]
  },
  {
   "cell_type": "markdown",
   "metadata": {},
   "source": [
    "### Deploy Endpoint of Best Tuning Job\n",
    "\n",
    "The `deploy` method deploys the best trained or user specified model to an Amazon SageMaker endpoint, also returning a `sagemaker.Predictor` object. The `sagemaker.serializers.CSVSerializer` class serializez data of various formats to a CSV-formatted string."
   ]
  },
  {
   "cell_type": "code",
   "execution_count": 19,
   "metadata": {
    "tags": []
   },
   "outputs": [
    {
     "name": "stdout",
     "output_type": "stream",
     "text": [
      "We can go to SageMaker -> Inference -> Endpoints --> an endpoint with name started with sagemaker-fraud-dete-230318-1208 to monitor the deployment status.\n",
      "\n",
      "2023-03-18 12:11:25 Starting - Found matching resource for reuse\n",
      "2023-03-18 12:11:25 Downloading - Downloading input data\n",
      "2023-03-18 12:11:25 Training - Training image download completed. Training in progress.\n",
      "2023-03-18 12:11:25 Uploading - Uploading generated training model\n",
      "2023-03-18 12:11:25 Completed - Resource reused by training job: sagemaker-fraud-dete-230318-1208-006-6c1fe834\n",
      "-----!"
     ]
    }
   ],
   "source": [
    "from sagemaker.serializers import CSVSerializer\n",
    "from sagemaker.predictor import Predictor\n",
    "\n",
    "print(\n",
    "    f\"We can go to SageMaker -> Inference -> Endpoints --> an endpoint with name started with {tuning_job_name} to monitor the deployment status.\"\n",
    ")\n",
    "\n",
    "predictor_hpo = tuner.deploy(\n",
    "    initial_instance_count=1,  # Minimum number of EC2 instances to deploy to an endpoint for prediction\n",
    "    instance_type=\"ml.m5.xlarge\",  # Type of EC2 instance to deploy to an endpoint for prediction\n",
    "    serializer=CSVSerializer(),  # A serializer object, used to encode data for an inference endpoint\n",
    ")"
   ]
  },
  {
   "cell_type": "markdown",
   "metadata": {},
   "source": [
    "Define a function for predictions. The `sagemaker.predictor.Predictor` class returned by the `deploy` class instance above has a `predict` method:\n",
    "\n",
    "- `data` (object) - Input data for which we want the model to provide inference. If a serializer was specified when creating the Predictor, the result of the serializer is sent as input data. Otherwise the data must be sequence of bytes, and the predict method then sends the bytes in the request body as is.\n",
    "\n",
    "- `initial_args` (`dict[str,str]`) - Optional. Default arguments for boto3 invoke_endpoint call. Default is None (no default arguments).\n",
    "\n",
    "- `target_model` (str) - S3 model artifact path to run an inference request on, in case of a multi model endpoint. Does not apply to endpoints hosting single model (Default: None)\n",
    "\n",
    "- `target_variant` (str) - The name of the production variant to run an inference request on (Default: None). Note that the `ProductionVariant` identifies the model we want to host and the resources we want to deploy for hosting it.\n",
    "\n",
    "- `inference_id` (str) - If we provide a value, it is added to the captured data when we enable data capture on the endpoint (Default: None)."
   ]
  },
  {
   "cell_type": "code",
   "execution_count": 20,
   "metadata": {
    "tags": []
   },
   "outputs": [],
   "source": [
    "def predict(\n",
    "    current_predictor: Predictor, data: np.ndarray, rows: int = 500\n",
    ") -> np.ndarray:\n",
    "    # Create data for prediction\n",
    "    split_array = np.array_split(data, int(data.shape[0] / float(rows) + 1))\n",
    "    predictions = \"\"\n",
    "    for array in split_array:\n",
    "        predictions = \",\".join(\n",
    "            [predictions, current_predictor.predict(array).decode(\"utf-8\")]\n",
    "        )\n",
    "    return np.fromstring(predictions[1:], sep=\",\")\n",
    "\n",
    "\n",
    "# Estimated probabilities for positive class\n",
    "hpo_raw_preds = predict(\n",
    "    predictor_hpo,\n",
    "    test_data_df.values[:, 1:],  # Test data\n",
    ")\n",
    "\n",
    "# Convert probabilities to predictions\n",
    "hpo_preds = np.where(hpo_raw_preds > 0.5, 1, 0)"
   ]
  },
  {
   "cell_type": "markdown",
   "metadata": {},
   "source": [
    "### Evaluation on Test Set"
   ]
  },
  {
   "cell_type": "code",
   "execution_count": 24,
   "metadata": {
    "tags": []
   },
   "outputs": [
    {
     "name": "stdout",
     "output_type": "stream",
     "text": [
      "           XGBoost_With_HPO\n",
      "F1                 0.583503\n",
      "Precision          0.462126\n",
      "Recall             0.791352\n",
      "Accuracy           0.840037\n",
      "ROC_AUC            0.847260\n"
     ]
    }
   ],
   "source": [
    "result_xgboost_with_hpo = print_metrics(test_data_df.values[:, 0], hpo_preds)\n",
    "\n",
    "fpr, tpr, _ = roc_curve(test_data_df.values[:, 0], hpo_raw_preds)\n",
    "roc_auc = auc(fpr, tpr)\n",
    "result_xgboost_with_hpo.append(roc_auc)\n",
    "result_xgboost_with_hpo = pd.DataFrame(\n",
    "    result_xgboost_with_hpo,\n",
    "    index=[\"F1\", \"Precision\", \"Recall\", \"Accuracy\", \"ROC_AUC\"],\n",
    "    columns=[\"XGBoost_With_HPO\"],\n",
    ")\n",
    "\n",
    "print(result_xgboost_with_hpo)"
   ]
  },
  {
   "cell_type": "markdown",
   "metadata": {},
   "source": [
    "While precision is low (more false positives), we are able to increase recall (false negatives). In the context of fraud detection, the cost of false negative may be greater."
   ]
  },
  {
   "cell_type": "code",
   "execution_count": 25,
   "metadata": {
    "tags": []
   },
   "outputs": [
    {
     "name": "stdout",
     "output_type": "stream",
     "text": [
      "Legitimate Transactions Detected (True Negatives):  0.8480676729142478\n",
      "Legitimate Transactions Incorrectly Detected (False Positives):  0.1519323270857522\n",
      "Fraudulent Transactions Missed (False Negatives):  0.20864756158873807\n",
      "Fraudulent Transactions Detected (True Positives):  0.7913524384112619\n",
      "Total Fraudulent Transactions:  1.0\n"
     ]
    },
    {
     "data": {
      "image/png": "[encoded data removed]",
      "text/plain": [
       "<Figure size 500x500 with 2 Axes>"
      ]
     },
     "metadata": {},
     "output_type": "display_data"
    }
   ],
   "source": [
    "plot_cm(test_data_df.values[:, 0], hpo_raw_preds)"
   ]
  },
  {
   "cell_type": "code",
   "execution_count": 26,
   "metadata": {
    "tags": []
   },
   "outputs": [
    {
     "data": {
      "image/png": "[encoded data removed]",
      "text/plain": [
       "<Figure size 1700x1500 with 1 Axes>"
      ]
     },
     "metadata": {},
     "output_type": "display_data"
    }
   ],
   "source": [
    "plot_prc(test_data_df.values[:, 0], hpo_raw_preds)"
   ]
  },
  {
   "cell_type": "markdown",
   "metadata": {},
   "source": [
    "## Clean Up\n"
   ]
  },
  {
   "cell_type": "markdown",
   "metadata": {},
   "source": [
    "Delete the model artifacts and other resources to avoid any incurring charges.\n",
    "\n",
    "**Caution**: We need to manually delete resources created while running the notebook, such as Amazon S3 buckets for model artifacts, training datasets, processing artifacts, and Amazon CloudWatch log groups.\n"
   ]
  },
  {
   "cell_type": "markdown",
   "metadata": {},
   "source": [
    "### Delete the Endpoint Created from XGBoost"
   ]
  },
  {
   "cell_type": "code",
   "execution_count": null,
   "metadata": {},
   "outputs": [],
   "source": [
    "predictor_hpo.delete_model()\n",
    "predictor_hpo.delete_endpoint()"
   ]
  }
 ],
 "metadata": {
  "kernelspec": {
   "display_name": "conda_python3",
   "language": "python",
   "name": "conda_python3"
  },
  "language_info": {
   "codemirror_mode": {
    "name": "ipython",
    "version": 3
   },
   "file_extension": ".py",
   "mimetype": "text/x-python",
   "name": "python",
   "nbconvert_exporter": "python",
   "pygments_lexer": "ipython3",
   "version": "3.10.8"
  }
 },
 "nbformat": 4,
 "nbformat_minor": 4
}
