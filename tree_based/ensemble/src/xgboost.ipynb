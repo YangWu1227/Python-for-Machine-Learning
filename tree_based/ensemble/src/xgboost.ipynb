{
 "cells": [
  {
   "cell_type": "markdown",
   "id": "09c4f0bc",
   "metadata": {
    "papermill": {
     "duration": 0.012036,
     "end_time": "2022-06-14T05:18:10.109904",
     "exception": false,
     "start_time": "2022-06-14T05:18:10.097868",
     "status": "completed"
    },
    "tags": []
   },
   "source": [
    "# American Express - Default Prediction\n",
    "\n",
    "## Table of Content \n",
    "\n",
    "- [Desciption](#description)\n",
    "- [Reduce Data Size](#reduce-data-size)\n",
    "- [Imports](#imports)\n",
    "- [Global Constants](#global-constants)\n",
    "- [Declare Functions and Classes](#declare-functions-and-classes)\n",
    "  - [Evaluation Function](#evaluation-function)\n",
    "  - [DeviceQuantileDMatrix ](#devicequantiledmatrix)\n",
    "  - [Process and Feature Engineer ](#process-and-feature-engineer)\n",
    "  - [Function For Partitioning Test Data](#function-for-partitioning-test-data)\n",
    "- [Proprocessing and Feature Engineering](#proprocessing-and-feature-engineering)\n",
    "- [Training Data](#training-data)\n",
    "  - [Training](#training)\n",
    "  - [Performance Evaluation On Training Data](#performance-evaluation-on-training-data)\n",
    "  - [Predictions On Validation Sets](#predictions-on-validation-set)\n",
    "  - [Feature Importance](#feature-importance)\n",
    "- [Test Data](#test-data)\n",
    "  - [Performance Evaluation On Test Data](#performance-evaluation-on-test-data)\n",
    "  - [Predictions On Test Data](#predictions-on-test-data)"
   ]
  },
  {
   "cell_type": "markdown",
   "id": "7a1eaf16",
   "metadata": {
    "papermill": {
     "duration": 0.009426,
     "end_time": "2022-06-14T05:18:10.129200",
     "exception": false,
     "start_time": "2022-06-14T05:18:10.119774",
     "status": "completed"
    },
    "tags": []
   },
   "source": [
    "## Description\n",
    "\n",
    "In this notebook we build and train an XGBoost model using @raddar Kaggle dataset from [here][1] with discussion [here][2]. Then we engineer features suggested by @huseyincot in his notebooks [here][3] and [here][4]. This XGB model achieves CV 0.792 LB 0.793! When training with XGB, we use a special XGB dataloader called `DeviceQuantileDMatrix` which uses a small GPU memory footprint. This allows us to engineer more additional columns and train with more rows of data. Our feature engineering is performed using [RAPIDS][5] on the GPU to create new features quickly.\n",
    "\n",
    "[1]: https://www.kaggle.com/datasets/raddar/amex-data-integer-dtypes-parquet-format\n",
    "[2]: https://www.kaggle.com/competitions/amex-default-prediction/discussion/328514\n",
    "[3]: https://www.kaggle.com/code/huseyincot/amex-catboost-0-793\n",
    "[4]: https://www.kaggle.com/code/huseyincot/amex-agg-data-how-it-created\n",
    "[5]: https://rapids.ai/"
   ]
  },
  {
   "cell_type": "markdown",
   "id": "369f6453",
   "metadata": {
    "papermill": {
     "duration": 0.009875,
     "end_time": "2022-06-14T05:18:10.149133",
     "exception": false,
     "start_time": "2022-06-14T05:18:10.139258",
     "status": "completed"
    },
    "tags": []
   },
   "source": [
    "## Reduce Data Size\n",
    "\n",
    "This competition's tabular data is 50GB. To engineer features from this data and train models with this data, we need to reduce data size and efficiently use memory and disk first.\n",
    "\n",
    "* Step 1 - Reduce Data Types: The first step is reducing each column to the least data size possible. Afterward we can choose our file format and whether to save as multiple files or single file.\n",
    "\n",
    "    * Column customer_ID - Reduce 64 bytes to 4 bytes: This column is a string of length 64 which uses 64 bytes per row. We can convert this to int32 or int64 which only uses 4 bytes or 8 bytes. The technique here is to take the last 16 letters of the hexadecimal string and convert that base16 number into base10 before saving it as int64. Discussion to explain this is [here](https://www.kaggle.com/competitions/h-and-m-personalized-fashion-recommendations/discussion/308635).\n",
    "\n",
    "    * Column S_2 - Reduce 10 bytes to 3 bytes: This column is a date with time. This column is provided as a string of length 10 which uses 10 bytes per row. If we convert this column with pd.to_datetime() then it becomes only 4 bytes. Alternatively, we can save this column as three columns of `year_last_2_digits`, `month`, and `day` as int8 each and only use 3 bytes per row.\n",
    "\n",
    "    * 11 Categorical Columns - Reduce 88 bytes to 11 bytes: The 11 columns `['B_30', 'B_38', 'D_114', 'D_116', 'D_117', 'D_120', 'D_126', 'D_63', 'D_64', 'D_66', 'D_68']` are categorical with maximum 8 values. Therefore each of these columns can be converted into int8 which is 1 byte per row. Originally these columsn were each 8 bytes per row.\n",
    "\n",
    "    * 177 Numeric Columns - Reduce 1416 bytes to 353 bytes: Lastly there are 177 numerical columns. These columns are float64 with 8 bytes per row. At the bare minimum, we can convert float64 to float32 (4 bytes per row) without losing any important information. We are also discovering that we can convert these to float16 which is 2 bytes per row since we suspect that Amex has added uniform noise. (And column `B_31` has only two values and can be converted to int8, which is 1 byte per row)\n",
    "\n",
    "The train data has 5,531,451 rows. After the reductions above, we have 4 + 3 + 11 + 353 = 371 bytes per row. Therefore our uncompressed train data size is 2GB. And test data has 11,363,762 rows, therefore the uncompressed test data is 4GB. All the competition data now becomes 6GB instead of 50GB."
   ]
  },
  {
   "cell_type": "markdown",
   "id": "3315ada7",
   "metadata": {
    "papermill": {
     "duration": 0.009868,
     "end_time": "2022-06-14T05:18:10.168829",
     "exception": false,
     "start_time": "2022-06-14T05:18:10.158961",
     "status": "completed"
    },
    "tags": []
   },
   "source": [
    "## Imports"
   ]
  },
  {
   "cell_type": "code",
   "execution_count": 1,
   "id": "81d281de",
   "metadata": {
    "execution": {
     "iopub.execute_input": "2022-06-14T05:18:10.190589Z",
     "iopub.status.busy": "2022-06-14T05:18:10.189851Z",
     "iopub.status.idle": "2022-06-14T05:18:14.298485Z",
     "shell.execute_reply": "2022-06-14T05:18:14.296123Z"
    },
    "papermill": {
     "duration": 4.12238,
     "end_time": "2022-06-14T05:18:14.301097",
     "exception": false,
     "start_time": "2022-06-14T05:18:10.178717",
     "status": "completed"
    },
    "tags": []
   },
   "outputs": [
    {
     "name": "stdout",
     "output_type": "stream",
     "text": [
      "XGB Version 1.6.1\n",
      "RAPIDS version 21.10.01\n"
     ]
    }
   ],
   "source": [
    "# CPU Libraries\n",
    "import pandas as pd, numpy as np\n",
    "\n",
    "# GPU libraries\n",
    "import cudf\n",
    "\n",
    "# Standard library\n",
    "from functools import reduce\n",
    "\n",
    "# Machine learning\n",
    "from sklearn.model_selection import KFold\n",
    "import xgboost as xgb\n",
    "\n",
    "# Plotting\n",
    "import matplotlib.pyplot as plt, gc\n",
    "\n",
    "print(\"XGB Version\", xgb.__version__)\n",
    "print(\"RAPIDS version\", cudf.__version__)"
   ]
  },
  {
   "cell_type": "markdown",
   "id": "9e58e403",
   "metadata": {
    "papermill": {
     "duration": 0.015701,
     "end_time": "2022-06-14T05:18:14.333677",
     "exception": false,
     "start_time": "2022-06-14T05:18:14.317976",
     "status": "completed"
    },
    "tags": []
   },
   "source": [
    "## Global Constants"
   ]
  },
  {
   "cell_type": "code",
   "execution_count": 2,
   "id": "90cb044a",
   "metadata": {
    "execution": {
     "iopub.execute_input": "2022-06-14T05:18:14.366817Z",
     "iopub.status.busy": "2022-06-14T05:18:14.366314Z",
     "iopub.status.idle": "2022-06-14T05:18:14.374425Z",
     "shell.execute_reply": "2022-06-14T05:18:14.373574Z"
    },
    "papermill": {
     "duration": 0.027361,
     "end_time": "2022-06-14T05:18:14.376775",
     "exception": false,
     "start_time": "2022-06-14T05:18:14.349414",
     "status": "completed"
    },
    "tags": []
   },
   "outputs": [],
   "source": [
    "# Version name for saved models\n",
    "VER = 1\n",
    "\n",
    "# Random seed\n",
    "SEED = 12\n",
    "\n",
    "# Fill nan values with int8\n",
    "NAN_VALUE = -127\n",
    "\n",
    "# Training data path\n",
    "TRAIN_PATH = \"../input/amex-data-integer-dtypes-parquet-format/train.parquet\"\n",
    "\n",
    "# Target path\n",
    "LABEL_PATH = \"../input/amex-default-prediction/train_labels.csv\"\n",
    "\n",
    "# Test data path\n",
    "TEST_PATH = \"../input/amex-data-integer-dtypes-parquet-format/test.parquet\"\n",
    "\n",
    "# Folds per model\n",
    "FOLDS = 5\n",
    "\n",
    "# Train with 100% of the samples each fold or a random subset if < 1.0\n",
    "TRAIN_SUBSAMPLE = 1.0\n",
    "\n",
    "# Top x important to visualize\n",
    "TOP_NUM_FEATURES = 20\n",
    "\n",
    "# Partition for test data\n",
    "NUM_PARTS = 4"
   ]
  },
  {
   "cell_type": "markdown",
   "id": "be8e50c9",
   "metadata": {
    "papermill": {
     "duration": 0.016004,
     "end_time": "2022-06-14T05:18:14.408446",
     "exception": false,
     "start_time": "2022-06-14T05:18:14.392442",
     "status": "completed"
    },
    "tags": []
   },
   "source": [
    "## Declare Functions and Classes"
   ]
  },
  {
   "cell_type": "markdown",
   "id": "fdd7300d",
   "metadata": {
    "papermill": {
     "duration": 0.016031,
     "end_time": "2022-06-14T05:18:14.440345",
     "exception": false,
     "start_time": "2022-06-14T05:18:14.424314",
     "status": "completed"
    },
    "tags": []
   },
   "source": [
    "### Evaluation Function"
   ]
  },
  {
   "cell_type": "code",
   "execution_count": 3,
   "id": "21a8d472",
   "metadata": {
    "execution": {
     "iopub.execute_input": "2022-06-14T05:18:14.474018Z",
     "iopub.status.busy": "2022-06-14T05:18:14.473453Z",
     "iopub.status.idle": "2022-06-14T05:18:14.488634Z",
     "shell.execute_reply": "2022-06-14T05:18:14.487770Z"
    },
    "papermill": {
     "duration": 0.034826,
     "end_time": "2022-06-14T05:18:14.490971",
     "exception": false,
     "start_time": "2022-06-14T05:18:14.456145",
     "status": "completed"
    },
    "tags": []
   },
   "outputs": [],
   "source": [
    "# https://www.kaggle.com/kyakovlev\n",
    "# https://www.kaggle.com/competitions/amex-default-prediction/discussion/327534\n",
    "def amex_metric_mod(y_true, y_pred):\n",
    "    labels = np.transpose(np.array([y_true, y_pred]))\n",
    "    labels = labels[labels[:, 1].argsort()[::-1]]\n",
    "    weights = np.where(labels[:, 0] == 0, 20, 1)\n",
    "    cut_vals = labels[np.cumsum(weights) <= int(0.04 * np.sum(weights))]\n",
    "    top_four = np.sum(cut_vals[:, 0]) / np.sum(labels[:, 0])\n",
    "\n",
    "    gini = [0, 0]\n",
    "    for i in [1, 0]:\n",
    "        labels = np.transpose(np.array([y_true, y_pred]))\n",
    "        labels = labels[labels[:, i].argsort()[::-1]]\n",
    "        weight = np.where(labels[:, 0] == 0, 20, 1)\n",
    "        weight_random = np.cumsum(weight / np.sum(weight))\n",
    "        total_pos = np.sum(labels[:, 0] * weight)\n",
    "        cum_pos_found = np.cumsum(labels[:, 0] * weight)\n",
    "        lorentz = cum_pos_found / total_pos\n",
    "        gini[i] = np.sum((lorentz - weight_random) * weight)\n",
    "\n",
    "    return 0.5 * (gini[1] / gini[0] + top_four)"
   ]
  },
  {
   "cell_type": "markdown",
   "id": "bcc88af9",
   "metadata": {
    "papermill": {
     "duration": 0.015586,
     "end_time": "2022-06-14T05:18:14.522927",
     "exception": false,
     "start_time": "2022-06-14T05:18:14.507341",
     "status": "completed"
    },
    "tags": []
   },
   "source": [
    "### DeviceQuantileDMatrix\n",
    "\n",
    "The class below is a customized iterator for passing batches of data into `xgboost.DeviceQuantileDMatrix` and use this `DeviceQuantileDMatrix` for training. The documentations can be found [here](https://xgboost.readthedocs.io/en/latest/python/examples/quantile_data_iterator.html)."
   ]
  },
  {
   "cell_type": "code",
   "execution_count": 4,
   "id": "7f8b6174",
   "metadata": {
    "execution": {
     "iopub.execute_input": "2022-06-14T05:18:14.556529Z",
     "iopub.status.busy": "2022-06-14T05:18:14.556003Z",
     "iopub.status.idle": "2022-06-14T05:18:14.570920Z",
     "shell.execute_reply": "2022-06-14T05:18:14.570096Z"
    },
    "papermill": {
     "duration": 0.03398,
     "end_time": "2022-06-14T05:18:14.573158",
     "exception": false,
     "start_time": "2022-06-14T05:18:14.539178",
     "status": "completed"
    },
    "tags": []
   },
   "outputs": [],
   "source": [
    "class IterLoadForDMatrix(xgb.core.DataIter):\n",
    "    # Higher batch sizes leads to lower asymptotic test accuracy according to https://medium.com/mini-distill/effect-of-batch-size-on-training-dynamics-21c14f7a716e\n",
    "    def __init__(self, df=None, features=None, target=None, batch_size=256 * 1024):\n",
    "        self.features = features\n",
    "        self.target = target\n",
    "        self.df = df\n",
    "        self.it = 0  # Set iterator to 0\n",
    "        self.batch_size = batch_size\n",
    "        self.batches = int(np.ceil(len(df) / self.batch_size))\n",
    "        super().__init__()\n",
    "\n",
    "    def reset(self):\n",
    "        \"\"\"Reset the iterator\"\"\"\n",
    "        self.it = 0\n",
    "\n",
    "    def next(self, input_data):\n",
    "        \"\"\"Return the next batch of data.\"\"\"\n",
    "        # Return 0 when there's no more data\n",
    "        if self.it == self.batches:\n",
    "            return 0\n",
    "\n",
    "        # Starting row index for the current batch\n",
    "        a = self.it * self.batch_size\n",
    "        # Ending row index for the current batch\n",
    "        # Once (self.it + 1) * self.batch_size exceeds the max number of rows, that means we have arrived at the end of the frame, and last row is the ending index\n",
    "        b = min((self.it + 1) * self.batch_size, len(self.df))\n",
    "        # Current batch of training samples\n",
    "        dt = cudf.DataFrame(self.df.iloc[a:b])\n",
    "        # The input_data function is passed in by XGBoost who has the similar signature to the ``DMatrix`` constructor\n",
    "        input_data(data=dt[self.features], label=dt[self.target])\n",
    "        self.it += 1\n",
    "        return 1"
   ]
  },
  {
   "cell_type": "markdown",
   "id": "4c9379c1",
   "metadata": {
    "papermill": {
     "duration": 0.015762,
     "end_time": "2022-06-14T05:18:14.605171",
     "exception": false,
     "start_time": "2022-06-14T05:18:14.589409",
     "status": "completed"
    },
    "tags": []
   },
   "source": [
    "### Process and Feature Engineer "
   ]
  },
  {
   "cell_type": "code",
   "execution_count": 5,
   "id": "b0231f2a",
   "metadata": {
    "execution": {
     "iopub.execute_input": "2022-06-14T05:18:14.638903Z",
     "iopub.status.busy": "2022-06-14T05:18:14.638329Z",
     "iopub.status.idle": "2022-06-14T05:18:14.649405Z",
     "shell.execute_reply": "2022-06-14T05:18:14.648537Z"
    },
    "papermill": {
     "duration": 0.030562,
     "end_time": "2022-06-14T05:18:14.651552",
     "exception": false,
     "start_time": "2022-06-14T05:18:14.620990",
     "status": "completed"
    },
    "tags": []
   },
   "outputs": [],
   "source": [
    "def read_file(path=\"\", usecols=None):\n",
    "    # Load dataframe with user specified columns\n",
    "    if usecols is not None:\n",
    "        df = cudf.read_parquet(path, columns=usecols)\n",
    "    else:\n",
    "        # Read all columns\n",
    "        df = cudf.read_parquet(path)\n",
    "    # Reduce Dtype for customer and date\n",
    "    # Obtained the last 16 characters and obtain the integer value represented by each customer_ID, finally converting to 'int64' dtype\n",
    "    df[\"customer_ID\"] = df[\"customer_ID\"].str[-16:].str.hex_to_int().astype(\"int64\")\n",
    "    # Convert date column from 'object' to datetime\n",
    "    df.S_2 = cudf.to_datetime(df.S_2)\n",
    "    # Sort by customer and date (so agg('last') works correctly)\n",
    "    df = df.sort_values([\"customer_ID\", \"S_2\"])\n",
    "    df = df.reset_index(drop=True)\n",
    "    # Fill nan\n",
    "    df = df.fillna(NAN_VALUE)\n",
    "    print(\"shape of data:\", df.shape)\n",
    "\n",
    "    return df"
   ]
  },
  {
   "cell_type": "code",
   "execution_count": 6,
   "id": "f9c21007",
   "metadata": {
    "execution": {
     "iopub.execute_input": "2022-06-14T05:18:14.687128Z",
     "iopub.status.busy": "2022-06-14T05:18:14.686620Z",
     "iopub.status.idle": "2022-06-14T05:18:14.699746Z",
     "shell.execute_reply": "2022-06-14T05:18:14.698913Z"
    },
    "papermill": {
     "duration": 0.032392,
     "end_time": "2022-06-14T05:18:14.701945",
     "exception": false,
     "start_time": "2022-06-14T05:18:14.669553",
     "status": "completed"
    },
    "tags": []
   },
   "outputs": [],
   "source": [
    "def process_and_feature_engineer(df):\n",
    "    # Feature engineering from https://www.kaggle.com/code/huseyincot/amex-agg-data-how-it-created\n",
    "    all_cols = [c for c in list(df.columns) if c not in [\"customer_ID\", \"S_2\"]]\n",
    "    # Categorical features\n",
    "    cat_features = [\n",
    "        \"B_30\",\n",
    "        \"B_38\",\n",
    "        \"D_114\",\n",
    "        \"D_116\",\n",
    "        \"D_117\",\n",
    "        \"D_120\",\n",
    "        \"D_126\",\n",
    "        \"D_63\",\n",
    "        \"D_64\",\n",
    "        \"D_66\",\n",
    "        \"D_68\",\n",
    "    ]\n",
    "    # Numerical features\n",
    "    num_features = [col for col in all_cols if col not in cat_features]\n",
    "\n",
    "    # Group by customer id and generate new columns ['mean', 'std', 'min', 'max', 'last'] for each col in 'num_features' (5 x len(num_features) total)\n",
    "    # Could also use df.groupby(\"customer_ID\")[num_features].describe(), but that includes quantiles as well so it may more more wasteful\n",
    "    test_num_agg = df.groupby(\"customer_ID\")[num_features].agg(\n",
    "        [\"mean\", \"std\", \"min\", \"max\", \"last\"]\n",
    "    )\n",
    "    # The test_num_agg.columns map object returns tuples of the form ('parent_col', 'child_col') e.g., ('D_39', 'mean'), ('D_39', 'std'), ...\n",
    "    # Join the elements of this tuple using an underscore\n",
    "    test_num_agg.columns = [\"_\".join(x) for x in test_num_agg.columns]\n",
    "\n",
    "    # Create features for categorical columns of the form ('B_30_count'), ('B_30_last'), ..., ('D_117', 'nunique'), ...\n",
    "    test_cat_agg = df.groupby(\"customer_ID\")[cat_features].agg(\n",
    "        [\"count\", \"last\", \"nunique\"]\n",
    "    )\n",
    "    test_cat_agg.columns = [\"_\".join(x) for x in test_cat_agg.columns]\n",
    "\n",
    "    # Column bind\n",
    "    df = cudf.concat([test_num_agg, test_cat_agg], axis=1)\n",
    "    del test_num_agg, test_cat_agg\n",
    "    print(\"shape after engineering\", df.shape)\n",
    "\n",
    "    return df"
   ]
  },
  {
   "cell_type": "markdown",
   "id": "790e90a6",
   "metadata": {
    "papermill": {
     "duration": 0.015577,
     "end_time": "2022-06-14T05:18:14.733668",
     "exception": false,
     "start_time": "2022-06-14T05:18:14.718091",
     "status": "completed"
    },
    "tags": []
   },
   "source": [
    "### Function For Partitioning Test Data"
   ]
  },
  {
   "cell_type": "code",
   "execution_count": 7,
   "id": "e4560c10",
   "metadata": {
    "execution": {
     "iopub.execute_input": "2022-06-14T05:18:14.767256Z",
     "iopub.status.busy": "2022-06-14T05:18:14.766750Z",
     "iopub.status.idle": "2022-06-14T05:18:14.778876Z",
     "shell.execute_reply": "2022-06-14T05:18:14.777905Z"
    },
    "papermill": {
     "duration": 0.031637,
     "end_time": "2022-06-14T05:18:14.781313",
     "exception": false,
     "start_time": "2022-06-14T05:18:14.749676",
     "status": "completed"
    },
    "tags": []
   },
   "outputs": [],
   "source": [
    "# Calculate size of each test partition\n",
    "def get_rows(customers, test, NUM_PARTS, verbose=\"\"):\n",
    "    # Split customers_ID into 4 parts, each part contains 'chunk' number of ID's at least (floor division rounds down to the nearest integer)\n",
    "    chunk = len(customers) // NUM_PARTS\n",
    "\n",
    "    # Report to user\n",
    "    if verbose != \"\":\n",
    "        print(f\"We will process {verbose} data as {NUM_PARTS} separate parts.\")\n",
    "        print(f\"There will be {chunk} customers in each part (except the last part).\")\n",
    "        print(\"Below are number of rows in each part:\")\n",
    "\n",
    "    # Instantiate output container\n",
    "    rows = []\n",
    "\n",
    "    for k in range(NUM_PARTS):\n",
    "        # Once we reach the last chunk\n",
    "        if k == NUM_PARTS - 1:\n",
    "            # The starting row index will be k*chunk, so we subset the 'customers' series from that position\n",
    "            cc = customers[k * chunk :]\n",
    "        else:\n",
    "            # Chunks before we arrive at the last chunk, (k+1) ensures we include the last row of each chunk\n",
    "            cc = customers[k * chunk : (k + 1) * chunk]\n",
    "\n",
    "        # The expression test.loc[test.customer_ID.isin(cc)] returns the rows from 'test' whose 'customer_ID' are in the set of  'customer_ID' as defined in 'cc'\n",
    "        s = test.loc[test.customer_ID.isin(cc)].shape[0]\n",
    "        # Append number of rows to container\n",
    "        rows.append(s)\n",
    "\n",
    "    if verbose != \"\":\n",
    "        print(rows)\n",
    "\n",
    "    return rows, chunk"
   ]
  },
  {
   "cell_type": "markdown",
   "id": "6856d860",
   "metadata": {
    "papermill": {
     "duration": 0.01572,
     "end_time": "2022-06-14T05:18:14.813299",
     "exception": false,
     "start_time": "2022-06-14T05:18:14.797579",
     "status": "completed"
    },
    "tags": []
   },
   "source": [
    "## Proprocessing and Feature Engineering"
   ]
  },
  {
   "cell_type": "code",
   "execution_count": 8,
   "id": "4d3f01f4",
   "metadata": {
    "execution": {
     "iopub.execute_input": "2022-06-14T05:18:14.842179Z",
     "iopub.status.busy": "2022-06-14T05:18:14.841834Z",
     "iopub.status.idle": "2022-06-14T05:18:35.809624Z",
     "shell.execute_reply": "2022-06-14T05:18:35.808623Z"
    },
    "papermill": {
     "duration": 20.98146,
     "end_time": "2022-06-14T05:18:35.812328",
     "exception": false,
     "start_time": "2022-06-14T05:18:14.830868",
     "status": "completed"
    },
    "tags": []
   },
   "outputs": [
    {
     "name": "stdout",
     "output_type": "stream",
     "text": [
      "Reading train data...\n",
      "shape of data: (5531451, 190)\n"
     ]
    }
   ],
   "source": [
    "# Read in data\n",
    "print(\"Reading train data...\")\n",
    "train = read_file(path=TRAIN_PATH)"
   ]
  },
  {
   "cell_type": "code",
   "execution_count": 9,
   "id": "f0573018",
   "metadata": {
    "execution": {
     "iopub.execute_input": "2022-06-14T05:18:35.834282Z",
     "iopub.status.busy": "2022-06-14T05:18:35.833886Z",
     "iopub.status.idle": "2022-06-14T05:18:36.964887Z",
     "shell.execute_reply": "2022-06-14T05:18:36.963051Z"
    },
    "papermill": {
     "duration": 1.143632,
     "end_time": "2022-06-14T05:18:36.966809",
     "exception": false,
     "start_time": "2022-06-14T05:18:35.823177",
     "status": "completed"
    },
    "tags": []
   },
   "outputs": [
    {
     "name": "stdout",
     "output_type": "stream",
     "text": [
      "shape after engineering (458913, 918)\n"
     ]
    }
   ],
   "source": [
    "# Feature engineering\n",
    "train = process_and_feature_engineer(train)"
   ]
  },
  {
   "cell_type": "code",
   "execution_count": 10,
   "id": "bde4fb71",
   "metadata": {
    "execution": {
     "iopub.execute_input": "2022-06-14T05:18:36.988575Z",
     "iopub.status.busy": "2022-06-14T05:18:36.988259Z",
     "iopub.status.idle": "2022-06-14T05:18:38.239842Z",
     "shell.execute_reply": "2022-06-14T05:18:38.238747Z"
    },
    "papermill": {
     "duration": 1.264793,
     "end_time": "2022-06-14T05:18:38.241732",
     "exception": false,
     "start_time": "2022-06-14T05:18:36.976939",
     "status": "completed"
    },
    "tags": []
   },
   "outputs": [
    {
     "name": "stdout",
     "output_type": "stream",
     "text": [
      "There are 918 features\n"
     ]
    }
   ],
   "source": [
    "# Add Targets\n",
    "targets = cudf.read_csv(LABEL_PATH)\n",
    "# Reduce datatype\n",
    "targets[\"customer_ID\"] = (\n",
    "    targets[\"customer_ID\"].str[-16:].str.hex_to_int().astype(\"int64\")\n",
    ")\n",
    "# Set index for joining\n",
    "targets = targets.set_index(\"customer_ID\")\n",
    "# Left join target onto train using 'customer_ID'\n",
    "train = train.merge(targets, left_index=True, right_index=True, how=\"left\")\n",
    "# Reduce dtype\n",
    "train.target = train.target.astype(\"int8\")\n",
    "del targets\n",
    "\n",
    "# Needed to make CV deterministic (cudf merge above randomly shuffles rows)\n",
    "train = train.sort_index().reset_index(inplace=False)\n",
    "\n",
    "# Features (this is needed for the modeling)\n",
    "FEATURES = train.columns[1:-1]\n",
    "print(f\"There are {len(FEATURES)} features\")"
   ]
  },
  {
   "cell_type": "code",
   "execution_count": 11,
   "id": "4e4fbed9",
   "metadata": {
    "execution": {
     "iopub.execute_input": "2022-06-14T05:18:38.263247Z",
     "iopub.status.busy": "2022-06-14T05:18:38.262923Z",
     "iopub.status.idle": "2022-06-14T05:18:39.162643Z",
     "shell.execute_reply": "2022-06-14T05:18:39.161895Z"
    },
    "papermill": {
     "duration": 0.912672,
     "end_time": "2022-06-14T05:18:39.164529",
     "exception": false,
     "start_time": "2022-06-14T05:18:38.251857",
     "status": "completed"
    },
    "tags": []
   },
   "outputs": [
    {
     "data": {
      "text/html": [
       "<div>\n",
       "<style scoped>\n",
       "    .dataframe tbody tr th:only-of-type {\n",
       "        vertical-align: middle;\n",
       "    }\n",
       "\n",
       "    .dataframe tbody tr th {\n",
       "        vertical-align: top;\n",
       "    }\n",
       "\n",
       "    .dataframe thead th {\n",
       "        text-align: right;\n",
       "    }\n",
       "</style>\n",
       "<table border=\"1\" class=\"dataframe\">\n",
       "  <thead>\n",
       "    <tr style=\"text-align: right;\">\n",
       "      <th></th>\n",
       "      <th>customer_ID</th>\n",
       "      <th>P_2_mean</th>\n",
       "      <th>P_2_std</th>\n",
       "      <th>P_2_min</th>\n",
       "      <th>P_2_max</th>\n",
       "      <th>P_2_last</th>\n",
       "      <th>D_39_mean</th>\n",
       "      <th>D_39_std</th>\n",
       "      <th>D_39_min</th>\n",
       "      <th>D_39_max</th>\n",
       "      <th>...</th>\n",
       "      <th>D_64_count</th>\n",
       "      <th>D_64_last</th>\n",
       "      <th>D_64_nunique</th>\n",
       "      <th>D_66_count</th>\n",
       "      <th>D_66_last</th>\n",
       "      <th>D_66_nunique</th>\n",
       "      <th>D_68_count</th>\n",
       "      <th>D_68_last</th>\n",
       "      <th>D_68_nunique</th>\n",
       "      <th>target</th>\n",
       "    </tr>\n",
       "  </thead>\n",
       "  <tbody>\n",
       "    <tr>\n",
       "      <th>0</th>\n",
       "      <td>-9223358381327749917</td>\n",
       "      <td>0.415868</td>\n",
       "      <td>0.057145</td>\n",
       "      <td>0.340178</td>\n",
       "      <td>0.498727</td>\n",
       "      <td>0.387708</td>\n",
       "      <td>2.615385</td>\n",
       "      <td>4.628507</td>\n",
       "      <td>0</td>\n",
       "      <td>16</td>\n",
       "      <td>...</td>\n",
       "      <td>13</td>\n",
       "      <td>2</td>\n",
       "      <td>1</td>\n",
       "      <td>13</td>\n",
       "      <td>-1</td>\n",
       "      <td>1</td>\n",
       "      <td>13</td>\n",
       "      <td>3</td>\n",
       "      <td>2</td>\n",
       "      <td>1</td>\n",
       "    </tr>\n",
       "    <tr>\n",
       "      <th>1</th>\n",
       "      <td>-9223193039457028513</td>\n",
       "      <td>0.974068</td>\n",
       "      <td>0.013094</td>\n",
       "      <td>0.964483</td>\n",
       "      <td>1.002478</td>\n",
       "      <td>1.001372</td>\n",
       "      <td>0.000000</td>\n",
       "      <td>0.000000</td>\n",
       "      <td>0</td>\n",
       "      <td>0</td>\n",
       "      <td>...</td>\n",
       "      <td>13</td>\n",
       "      <td>0</td>\n",
       "      <td>1</td>\n",
       "      <td>13</td>\n",
       "      <td>-1</td>\n",
       "      <td>1</td>\n",
       "      <td>13</td>\n",
       "      <td>6</td>\n",
       "      <td>1</td>\n",
       "      <td>0</td>\n",
       "    </tr>\n",
       "    <tr>\n",
       "      <th>2</th>\n",
       "      <td>-9223189665817919541</td>\n",
       "      <td>0.802447</td>\n",
       "      <td>0.038025</td>\n",
       "      <td>0.694073</td>\n",
       "      <td>0.828761</td>\n",
       "      <td>0.694073</td>\n",
       "      <td>0.000000</td>\n",
       "      <td>0.000000</td>\n",
       "      <td>0</td>\n",
       "      <td>0</td>\n",
       "      <td>...</td>\n",
       "      <td>13</td>\n",
       "      <td>0</td>\n",
       "      <td>1</td>\n",
       "      <td>13</td>\n",
       "      <td>-1</td>\n",
       "      <td>1</td>\n",
       "      <td>13</td>\n",
       "      <td>6</td>\n",
       "      <td>1</td>\n",
       "      <td>0</td>\n",
       "    </tr>\n",
       "    <tr>\n",
       "      <th>3</th>\n",
       "      <td>-9223188534444851899</td>\n",
       "      <td>0.791203</td>\n",
       "      <td>0.002688</td>\n",
       "      <td>0.786647</td>\n",
       "      <td>0.794826</td>\n",
       "      <td>0.787945</td>\n",
       "      <td>0.000000</td>\n",
       "      <td>0.000000</td>\n",
       "      <td>0</td>\n",
       "      <td>0</td>\n",
       "      <td>...</td>\n",
       "      <td>13</td>\n",
       "      <td>3</td>\n",
       "      <td>2</td>\n",
       "      <td>13</td>\n",
       "      <td>-1</td>\n",
       "      <td>1</td>\n",
       "      <td>13</td>\n",
       "      <td>5</td>\n",
       "      <td>1</td>\n",
       "      <td>0</td>\n",
       "    </tr>\n",
       "    <tr>\n",
       "      <th>4</th>\n",
       "      <td>-9223173911659837606</td>\n",
       "      <td>0.115666</td>\n",
       "      <td>0.078554</td>\n",
       "      <td>0.038207</td>\n",
       "      <td>0.252421</td>\n",
       "      <td>0.040486</td>\n",
       "      <td>4.384615</td>\n",
       "      <td>6.144625</td>\n",
       "      <td>0</td>\n",
       "      <td>17</td>\n",
       "      <td>...</td>\n",
       "      <td>13</td>\n",
       "      <td>0</td>\n",
       "      <td>2</td>\n",
       "      <td>13</td>\n",
       "      <td>-1</td>\n",
       "      <td>1</td>\n",
       "      <td>13</td>\n",
       "      <td>6</td>\n",
       "      <td>2</td>\n",
       "      <td>1</td>\n",
       "    </tr>\n",
       "  </tbody>\n",
       "</table>\n",
       "<p>5 rows × 920 columns</p>\n",
       "</div>"
      ],
      "text/plain": [
       "           customer_ID  P_2_mean   P_2_std   P_2_min   P_2_max  P_2_last  \\\n",
       "0 -9223358381327749917  0.415868  0.057145  0.340178  0.498727  0.387708   \n",
       "1 -9223193039457028513  0.974068  0.013094  0.964483  1.002478  1.001372   \n",
       "2 -9223189665817919541  0.802447  0.038025  0.694073  0.828761  0.694073   \n",
       "3 -9223188534444851899  0.791203  0.002688  0.786647  0.794826  0.787945   \n",
       "4 -9223173911659837606  0.115666  0.078554  0.038207  0.252421  0.040486   \n",
       "\n",
       "   D_39_mean  D_39_std  D_39_min  D_39_max  ...  D_64_count  D_64_last  \\\n",
       "0   2.615385  4.628507         0        16  ...          13          2   \n",
       "1   0.000000  0.000000         0         0  ...          13          0   \n",
       "2   0.000000  0.000000         0         0  ...          13          0   \n",
       "3   0.000000  0.000000         0         0  ...          13          3   \n",
       "4   4.384615  6.144625         0        17  ...          13          0   \n",
       "\n",
       "   D_64_nunique  D_66_count  D_66_last  D_66_nunique  D_68_count  D_68_last  \\\n",
       "0             1          13         -1             1          13          3   \n",
       "1             1          13         -1             1          13          6   \n",
       "2             1          13         -1             1          13          6   \n",
       "3             2          13         -1             1          13          5   \n",
       "4             2          13         -1             1          13          6   \n",
       "\n",
       "   D_68_nunique  target  \n",
       "0             2       1  \n",
       "1             1       0  \n",
       "2             1       0  \n",
       "3             1       0  \n",
       "4             2       1  \n",
       "\n",
       "[5 rows x 920 columns]"
      ]
     },
     "execution_count": 11,
     "metadata": {},
     "output_type": "execute_result"
    }
   ],
   "source": [
    "train.iloc[:5, :]"
   ]
  },
  {
   "cell_type": "markdown",
   "id": "4ddce860",
   "metadata": {
    "papermill": {
     "duration": 0.01012,
     "end_time": "2022-06-14T05:18:39.185484",
     "exception": false,
     "start_time": "2022-06-14T05:18:39.175364",
     "status": "completed"
    },
    "tags": []
   },
   "source": [
    "## Training Data\n",
    "\n",
    "Below are the modeling parameters:"
   ]
  },
  {
   "cell_type": "code",
   "execution_count": 12,
   "id": "5490d853",
   "metadata": {
    "execution": {
     "iopub.execute_input": "2022-06-14T05:18:39.207295Z",
     "iopub.status.busy": "2022-06-14T05:18:39.206957Z",
     "iopub.status.idle": "2022-06-14T05:18:39.211810Z",
     "shell.execute_reply": "2022-06-14T05:18:39.211101Z"
    },
    "papermill": {
     "duration": 0.017767,
     "end_time": "2022-06-14T05:18:39.213505",
     "exception": false,
     "start_time": "2022-06-14T05:18:39.195738",
     "status": "completed"
    },
    "tags": []
   },
   "outputs": [],
   "source": [
    "# XGB model parameters\n",
    "xgb_parms = {\n",
    "    # Depth of trees\n",
    "    \"max_depth\": 4,\n",
    "    # Step size for boosting\n",
    "    \"learning_rate\": 0.05,\n",
    "    # Randomly sample 80% of instances for each boosting iteration (growing each tree)\n",
    "    \"subsample\": 0.8,\n",
    "    # Randomly sample 60% (about 550) of all features for each boosting iteration (growing each tree)\n",
    "    \"colsample_bytree\": 0.6,\n",
    "    # Negative log-likelihood\n",
    "    \"eval_metric\": \"logloss\",\n",
    "    # Loss function with output as probabilities\n",
    "    \"objective\": \"binary:logistic\",\n",
    "    \"tree_method\": \"gpu_hist\",\n",
    "    \"predictor\": \"gpu_predictor\",\n",
    "    \"random_state\": SEED,\n",
    "}"
   ]
  },
  {
   "cell_type": "markdown",
   "id": "6ff8db90",
   "metadata": {
    "papermill": {
     "duration": 0.010634,
     "end_time": "2022-06-14T05:18:39.234447",
     "exception": false,
     "start_time": "2022-06-14T05:18:39.223813",
     "status": "completed"
    },
    "tags": []
   },
   "source": [
    "### Training\n",
    "\n",
    "We will train using `DeviceQuantileDMatrix`, which has a very small GPU memory footprint."
   ]
  },
  {
   "cell_type": "code",
   "execution_count": 13,
   "id": "aec9dbe8",
   "metadata": {
    "execution": {
     "iopub.execute_input": "2022-06-14T05:18:39.256448Z",
     "iopub.status.busy": "2022-06-14T05:18:39.255828Z",
     "iopub.status.idle": "2022-06-14T05:28:02.619738Z",
     "shell.execute_reply": "2022-06-14T05:28:02.618936Z"
    },
    "papermill": {
     "duration": 563.377262,
     "end_time": "2022-06-14T05:28:02.621838",
     "exception": false,
     "start_time": "2022-06-14T05:18:39.244576",
     "status": "completed"
    },
    "scrolled": true,
    "tags": []
   },
   "outputs": [
    {
     "name": "stdout",
     "output_type": "stream",
     "text": [
      "############################################################\n",
      "# Fold 1\n",
      "# Training set size 367130 Validation set size 91783\n",
      "# Training with 100% of the samples of the current fold...\n",
      "############################################################\n",
      "[0]\ttrain-logloss:0.66203\tvalidate-logloss:0.66197\n",
      "[100]\ttrain-logloss:0.23716\tvalidate-logloss:0.23794\n",
      "[200]\ttrain-logloss:0.22286\tvalidate-logloss:0.22577\n",
      "[300]\ttrain-logloss:0.21686\tvalidate-logloss:0.22181\n",
      "[400]\ttrain-logloss:0.21287\tvalidate-logloss:0.21978\n",
      "[500]\ttrain-logloss:0.20970\tvalidate-logloss:0.21858\n",
      "[600]\ttrain-logloss:0.20697\tvalidate-logloss:0.21775\n",
      "[700]\ttrain-logloss:0.20451\tvalidate-logloss:0.21721\n",
      "[800]\ttrain-logloss:0.20221\tvalidate-logloss:0.21685\n",
      "[900]\ttrain-logloss:0.20000\tvalidate-logloss:0.21651\n",
      "[1000]\ttrain-logloss:0.19786\tvalidate-logloss:0.21624\n",
      "[1100]\ttrain-logloss:0.19591\tvalidate-logloss:0.21610\n",
      "[1200]\ttrain-logloss:0.19401\tvalidate-logloss:0.21601\n",
      "[1300]\ttrain-logloss:0.19215\tvalidate-logloss:0.21588\n",
      "[1400]\ttrain-logloss:0.19033\tvalidate-logloss:0.21580\n",
      "[1500]\ttrain-logloss:0.18857\tvalidate-logloss:0.21577\n",
      "[1600]\ttrain-logloss:0.18680\tvalidate-logloss:0.21572\n",
      "[1700]\ttrain-logloss:0.18514\tvalidate-logloss:0.21572\n",
      "[1800]\ttrain-logloss:0.18347\tvalidate-logloss:0.21566\n",
      "[1900]\ttrain-logloss:0.18183\tvalidate-logloss:0.21558\n",
      "[2000]\ttrain-logloss:0.18022\tvalidate-logloss:0.21556\n",
      "[2053]\ttrain-logloss:0.17937\tvalidate-logloss:0.21557\n",
      "Metric for fold 1 =  0.7965269134776566 \n",
      "\n",
      "############################################################\n",
      "# Fold 2\n",
      "# Training set size 367130 Validation set size 91783\n",
      "# Training with 100% of the samples of the current fold...\n",
      "############################################################\n",
      "[0]\ttrain-logloss:0.66197\tvalidate-logloss:0.66213\n",
      "[100]\ttrain-logloss:0.23652\tvalidate-logloss:0.23999\n",
      "[200]\ttrain-logloss:0.22228\tvalidate-logloss:0.22796\n",
      "[300]\ttrain-logloss:0.21621\tvalidate-logloss:0.22405\n",
      "[400]\ttrain-logloss:0.21212\tvalidate-logloss:0.22214\n",
      "[500]\ttrain-logloss:0.20890\tvalidate-logloss:0.22104\n",
      "[600]\ttrain-logloss:0.20613\tvalidate-logloss:0.22029\n",
      "[700]\ttrain-logloss:0.20364\tvalidate-logloss:0.21981\n",
      "[800]\ttrain-logloss:0.20128\tvalidate-logloss:0.21938\n",
      "[900]\ttrain-logloss:0.19914\tvalidate-logloss:0.21910\n",
      "[1000]\ttrain-logloss:0.19708\tvalidate-logloss:0.21886\n",
      "[1100]\ttrain-logloss:0.19507\tvalidate-logloss:0.21874\n",
      "[1200]\ttrain-logloss:0.19313\tvalidate-logloss:0.21863\n",
      "[1300]\ttrain-logloss:0.19124\tvalidate-logloss:0.21855\n",
      "[1400]\ttrain-logloss:0.18945\tvalidate-logloss:0.21850\n",
      "[1500]\ttrain-logloss:0.18759\tvalidate-logloss:0.21846\n",
      "[1600]\ttrain-logloss:0.18580\tvalidate-logloss:0.21840\n",
      "[1700]\ttrain-logloss:0.18412\tvalidate-logloss:0.21837\n",
      "[1800]\ttrain-logloss:0.18244\tvalidate-logloss:0.21840\n",
      "[1804]\ttrain-logloss:0.18237\tvalidate-logloss:0.21838\n",
      "Metric for fold 2 =  0.7904532435013673 \n",
      "\n",
      "############################################################\n",
      "# Fold 3\n",
      "# Training set size 367130 Validation set size 91783\n",
      "# Training with 100% of the samples of the current fold...\n",
      "############################################################\n",
      "[0]\ttrain-logloss:0.66199\tvalidate-logloss:0.66209\n",
      "[100]\ttrain-logloss:0.23677\tvalidate-logloss:0.23928\n",
      "[200]\ttrain-logloss:0.22239\tvalidate-logloss:0.22710\n",
      "[300]\ttrain-logloss:0.21632\tvalidate-logloss:0.22308\n",
      "[400]\ttrain-logloss:0.21239\tvalidate-logloss:0.22117\n",
      "[500]\ttrain-logloss:0.20924\tvalidate-logloss:0.22003\n",
      "[600]\ttrain-logloss:0.20650\tvalidate-logloss:0.21931\n",
      "[700]\ttrain-logloss:0.20403\tvalidate-logloss:0.21871\n",
      "[800]\ttrain-logloss:0.20174\tvalidate-logloss:0.21826\n",
      "[900]\ttrain-logloss:0.19961\tvalidate-logloss:0.21798\n",
      "[1000]\ttrain-logloss:0.19751\tvalidate-logloss:0.21775\n",
      "[1100]\ttrain-logloss:0.19548\tvalidate-logloss:0.21745\n",
      "[1200]\ttrain-logloss:0.19352\tvalidate-logloss:0.21729\n",
      "[1300]\ttrain-logloss:0.19165\tvalidate-logloss:0.21715\n",
      "[1400]\ttrain-logloss:0.18978\tvalidate-logloss:0.21702\n",
      "[1500]\ttrain-logloss:0.18799\tvalidate-logloss:0.21692\n",
      "[1600]\ttrain-logloss:0.18625\tvalidate-logloss:0.21689\n",
      "[1690]\ttrain-logloss:0.18467\tvalidate-logloss:0.21691\n",
      "Metric for fold 3 =  0.793679088791521 \n",
      "\n",
      "############################################################\n",
      "# Fold 4\n",
      "# Training set size 367131 Validation set size 91782\n",
      "# Training with 100% of the samples of the current fold...\n",
      "############################################################\n",
      "[0]\ttrain-logloss:0.66199\tvalidate-logloss:0.66211\n",
      "[100]\ttrain-logloss:0.23632\tvalidate-logloss:0.24123\n",
      "[200]\ttrain-logloss:0.22206\tvalidate-logloss:0.22927\n",
      "[300]\ttrain-logloss:0.21599\tvalidate-logloss:0.22522\n",
      "[400]\ttrain-logloss:0.21191\tvalidate-logloss:0.22322\n",
      "[500]\ttrain-logloss:0.20870\tvalidate-logloss:0.22194\n",
      "[600]\ttrain-logloss:0.20595\tvalidate-logloss:0.22124\n",
      "[700]\ttrain-logloss:0.20337\tvalidate-logloss:0.22070\n",
      "[800]\ttrain-logloss:0.20107\tvalidate-logloss:0.22023\n",
      "[900]\ttrain-logloss:0.19887\tvalidate-logloss:0.21992\n",
      "[1000]\ttrain-logloss:0.19681\tvalidate-logloss:0.21966\n",
      "[1100]\ttrain-logloss:0.19475\tvalidate-logloss:0.21949\n",
      "[1200]\ttrain-logloss:0.19282\tvalidate-logloss:0.21931\n",
      "[1300]\ttrain-logloss:0.19096\tvalidate-logloss:0.21920\n",
      "[1400]\ttrain-logloss:0.18913\tvalidate-logloss:0.21908\n",
      "[1500]\ttrain-logloss:0.18731\tvalidate-logloss:0.21897\n",
      "[1600]\ttrain-logloss:0.18551\tvalidate-logloss:0.21895\n",
      "[1669]\ttrain-logloss:0.18431\tvalidate-logloss:0.21898\n",
      "Metric for fold 4 =  0.7894013655535326 \n",
      "\n",
      "############################################################\n",
      "# Fold 5\n",
      "# Training set size 367131 Validation set size 91782\n",
      "# Training with 100% of the samples of the current fold...\n",
      "############################################################\n",
      "[0]\ttrain-logloss:0.66207\tvalidate-logloss:0.66192\n",
      "[100]\ttrain-logloss:0.23714\tvalidate-logloss:0.23810\n",
      "[200]\ttrain-logloss:0.22287\tvalidate-logloss:0.22635\n",
      "[300]\ttrain-logloss:0.21674\tvalidate-logloss:0.22258\n",
      "[400]\ttrain-logloss:0.21256\tvalidate-logloss:0.22051\n",
      "[500]\ttrain-logloss:0.20936\tvalidate-logloss:0.21931\n",
      "[600]\ttrain-logloss:0.20664\tvalidate-logloss:0.21861\n",
      "[700]\ttrain-logloss:0.20414\tvalidate-logloss:0.21807\n",
      "[800]\ttrain-logloss:0.20182\tvalidate-logloss:0.21770\n",
      "[900]\ttrain-logloss:0.19969\tvalidate-logloss:0.21742\n",
      "[1000]\ttrain-logloss:0.19762\tvalidate-logloss:0.21718\n",
      "[1100]\ttrain-logloss:0.19564\tvalidate-logloss:0.21703\n",
      "[1200]\ttrain-logloss:0.19370\tvalidate-logloss:0.21685\n",
      "[1300]\ttrain-logloss:0.19177\tvalidate-logloss:0.21673\n",
      "[1400]\ttrain-logloss:0.18995\tvalidate-logloss:0.21664\n",
      "[1500]\ttrain-logloss:0.18814\tvalidate-logloss:0.21657\n",
      "[1600]\ttrain-logloss:0.18639\tvalidate-logloss:0.21654\n",
      "[1700]\ttrain-logloss:0.18466\tvalidate-logloss:0.21646\n",
      "[1800]\ttrain-logloss:0.18297\tvalidate-logloss:0.21648\n",
      "[1843]\ttrain-logloss:0.18225\tvalidate-logloss:0.21648\n",
      "Metric for fold 5 =  0.7923233931101286 \n",
      "\n"
     ]
    }
   ],
   "source": [
    "# Feature importance output container (list of pandas data frames)\n",
    "importances = []\n",
    "# Out-of-fold prediction container\n",
    "oof = []\n",
    "# Free GPU memory\n",
    "train = train.to_pandas()\n",
    "# Free resources\n",
    "gc.collect()\n",
    "\n",
    "skf = KFold(n_splits=FOLDS, shuffle=True, random_state=SEED)\n",
    "# Fives rounds of fitting\n",
    "for fold, (train_idx, valid_idx) in enumerate(skf.split(train, train.target)):\n",
    "    # Train with subsample of train fold data\n",
    "    if TRAIN_SUBSAMPLE < 1.0:\n",
    "        np.random.seed(SEED)\n",
    "        # Randomly obtain (int(len(train_idx) * TRAIN_SUBSAMPLE) number of indices from the train fold data\n",
    "        train_idx = np.random.choice(\n",
    "            train_idx, int(len(train_idx) * TRAIN_SUBSAMPLE), replace=False\n",
    "        )\n",
    "        np.random.seed(None)\n",
    "\n",
    "    # Print messages to console\n",
    "    print(\"#\" * 60)\n",
    "    print(\"# Fold\", fold + 1)\n",
    "    print(\"# Training set size\", len(train_idx), \"Validation set size\", len(valid_idx))\n",
    "    print(\n",
    "        f\"# Training with {int(TRAIN_SUBSAMPLE * 100)}% of the samples of the current fold...\"\n",
    "    )\n",
    "    print(\"#\" * 60)\n",
    "\n",
    "    # Train and validate for the Kth fold\n",
    "    Xy_train = IterLoadForDMatrix(\n",
    "        df=train.loc[train_idx], features=FEATURES, target=\"target\"\n",
    "    )\n",
    "    X_valid = train.loc[valid_idx, FEATURES]\n",
    "    y_valid = train.loc[valid_idx, \"target\"]\n",
    "\n",
    "    # Pass the batch of training samples to DeviceQuantileDMatrix with 'max_bin' set to control the number of bins during quantization\n",
    "    dtrain = xgb.DeviceQuantileDMatrix(Xy_train, max_bin=256)\n",
    "    dvalid = xgb.DMatrix(data=X_valid, label=y_valid)\n",
    "\n",
    "    # Train model for the kth fold\n",
    "    model = xgb.train(\n",
    "        # Booster params\n",
    "        xgb_parms,\n",
    "        # Training data\n",
    "        dtrain=dtrain,\n",
    "        num_boost_round=9999,\n",
    "        # List of validation sets for which metrics will evaluated during training\n",
    "        evals=[(dtrain, \"train\"), (dvalid, \"validate\")],\n",
    "        # Validation metric needs to improve at least once in every 100 rounds of boosting before early stopping\n",
    "        early_stopping_rounds=100,\n",
    "        # Print evaluation metric on the validation set every 100 rounds of boosting\n",
    "        verbose_eval=100,\n",
    "    )\n",
    "    model.save_model(f\"XGB_v{VER}_fold{fold}.xgb\")\n",
    "\n",
    "    # Feature importance for the kth fold\n",
    "    # 'Weight' is the number of times a feature is used to split the data across all trees\n",
    "    dd = model.get_score(importance_type=\"weight\")\n",
    "    df = pd.DataFrame({\"feature\": dd.keys(), f\"importance_{fold}\": dd.values()})\n",
    "    importances.append(df)\n",
    "\n",
    "    # Out-of-fold predictions for the kth fold\n",
    "    # The predict method returns numpy array\n",
    "    oof_preds = model.predict(dvalid)\n",
    "    score = amex_metric_mod(y_true=y_valid.values, y_pred=oof_preds)\n",
    "    print(f\"Metric for fold {fold + 1} = \", score, \"\\n\")\n",
    "\n",
    "    # Store predictions\n",
    "    df = train.loc[valid_idx, [\"customer_ID\", \"target\"]].copy()\n",
    "    df[\"oof_pred\"] = oof_preds\n",
    "    oof.append(df)\n",
    "\n",
    "    # Clean resources\n",
    "    del dtrain, Xy_train, dd, df\n",
    "    del X_valid, y_valid, dvalid, model\n",
    "    _ = gc.collect()"
   ]
  },
  {
   "cell_type": "markdown",
   "id": "ced05eea",
   "metadata": {
    "papermill": {
     "duration": 0.015836,
     "end_time": "2022-06-14T05:28:02.653875",
     "exception": false,
     "start_time": "2022-06-14T05:28:02.638039",
     "status": "completed"
    },
    "tags": []
   },
   "source": [
    "### Performance Evaluation On Training Data \n",
    "\n",
    "Examine feature importance and predictions output:"
   ]
  },
  {
   "cell_type": "code",
   "execution_count": 14,
   "id": "ae46d28e",
   "metadata": {
    "execution": {
     "iopub.execute_input": "2022-06-14T05:28:02.687573Z",
     "iopub.status.busy": "2022-06-14T05:28:02.686805Z",
     "iopub.status.idle": "2022-06-14T05:28:02.699148Z",
     "shell.execute_reply": "2022-06-14T05:28:02.698283Z"
    },
    "papermill": {
     "duration": 0.031327,
     "end_time": "2022-06-14T05:28:02.701218",
     "exception": false,
     "start_time": "2022-06-14T05:28:02.669891",
     "status": "completed"
    },
    "tags": []
   },
   "outputs": [
    {
     "data": {
      "text/html": [
       "<div>\n",
       "<style scoped>\n",
       "    .dataframe tbody tr th:only-of-type {\n",
       "        vertical-align: middle;\n",
       "    }\n",
       "\n",
       "    .dataframe tbody tr th {\n",
       "        vertical-align: top;\n",
       "    }\n",
       "\n",
       "    .dataframe thead th {\n",
       "        text-align: right;\n",
       "    }\n",
       "</style>\n",
       "<table border=\"1\" class=\"dataframe\">\n",
       "  <thead>\n",
       "    <tr style=\"text-align: right;\">\n",
       "      <th></th>\n",
       "      <th>feature</th>\n",
       "      <th>importance_0</th>\n",
       "    </tr>\n",
       "  </thead>\n",
       "  <tbody>\n",
       "    <tr>\n",
       "      <th>0</th>\n",
       "      <td>P_2_mean</td>\n",
       "      <td>159.0</td>\n",
       "    </tr>\n",
       "    <tr>\n",
       "      <th>1</th>\n",
       "      <td>P_2_std</td>\n",
       "      <td>74.0</td>\n",
       "    </tr>\n",
       "    <tr>\n",
       "      <th>2</th>\n",
       "      <td>P_2_min</td>\n",
       "      <td>139.0</td>\n",
       "    </tr>\n",
       "    <tr>\n",
       "      <th>3</th>\n",
       "      <td>P_2_max</td>\n",
       "      <td>161.0</td>\n",
       "    </tr>\n",
       "    <tr>\n",
       "      <th>4</th>\n",
       "      <td>P_2_last</td>\n",
       "      <td>330.0</td>\n",
       "    </tr>\n",
       "    <tr>\n",
       "      <th>...</th>\n",
       "      <td>...</td>\n",
       "      <td>...</td>\n",
       "    </tr>\n",
       "    <tr>\n",
       "      <th>812</th>\n",
       "      <td>D_64_nunique</td>\n",
       "      <td>4.0</td>\n",
       "    </tr>\n",
       "    <tr>\n",
       "      <th>813</th>\n",
       "      <td>D_66_last</td>\n",
       "      <td>34.0</td>\n",
       "    </tr>\n",
       "    <tr>\n",
       "      <th>814</th>\n",
       "      <td>D_66_nunique</td>\n",
       "      <td>9.0</td>\n",
       "    </tr>\n",
       "    <tr>\n",
       "      <th>815</th>\n",
       "      <td>D_68_last</td>\n",
       "      <td>9.0</td>\n",
       "    </tr>\n",
       "    <tr>\n",
       "      <th>816</th>\n",
       "      <td>D_68_nunique</td>\n",
       "      <td>2.0</td>\n",
       "    </tr>\n",
       "  </tbody>\n",
       "</table>\n",
       "<p>817 rows × 2 columns</p>\n",
       "</div>"
      ],
      "text/plain": [
       "          feature  importance_0\n",
       "0        P_2_mean         159.0\n",
       "1         P_2_std          74.0\n",
       "2         P_2_min         139.0\n",
       "3         P_2_max         161.0\n",
       "4        P_2_last         330.0\n",
       "..            ...           ...\n",
       "812  D_64_nunique           4.0\n",
       "813     D_66_last          34.0\n",
       "814  D_66_nunique           9.0\n",
       "815     D_68_last           9.0\n",
       "816  D_68_nunique           2.0\n",
       "\n",
       "[817 rows x 2 columns]"
      ]
     },
     "execution_count": 14,
     "metadata": {},
     "output_type": "execute_result"
    }
   ],
   "source": [
    "# Feature importance\n",
    "importances[0]"
   ]
  },
  {
   "cell_type": "code",
   "execution_count": 15,
   "id": "d25b29ff",
   "metadata": {
    "execution": {
     "iopub.execute_input": "2022-06-14T05:28:02.735154Z",
     "iopub.status.busy": "2022-06-14T05:28:02.734823Z",
     "iopub.status.idle": "2022-06-14T05:28:02.746864Z",
     "shell.execute_reply": "2022-06-14T05:28:02.745963Z"
    },
    "papermill": {
     "duration": 0.03111,
     "end_time": "2022-06-14T05:28:02.748593",
     "exception": false,
     "start_time": "2022-06-14T05:28:02.717483",
     "status": "completed"
    },
    "tags": []
   },
   "outputs": [
    {
     "data": {
      "text/html": [
       "<div>\n",
       "<style scoped>\n",
       "    .dataframe tbody tr th:only-of-type {\n",
       "        vertical-align: middle;\n",
       "    }\n",
       "\n",
       "    .dataframe tbody tr th {\n",
       "        vertical-align: top;\n",
       "    }\n",
       "\n",
       "    .dataframe thead th {\n",
       "        text-align: right;\n",
       "    }\n",
       "</style>\n",
       "<table border=\"1\" class=\"dataframe\">\n",
       "  <thead>\n",
       "    <tr style=\"text-align: right;\">\n",
       "      <th></th>\n",
       "      <th>customer_ID</th>\n",
       "      <th>target</th>\n",
       "      <th>oof_pred</th>\n",
       "    </tr>\n",
       "  </thead>\n",
       "  <tbody>\n",
       "    <tr>\n",
       "      <th>6</th>\n",
       "      <td>-9223121653379786464</td>\n",
       "      <td>0</td>\n",
       "      <td>0.132915</td>\n",
       "    </tr>\n",
       "    <tr>\n",
       "      <th>7</th>\n",
       "      <td>-9223119955381244975</td>\n",
       "      <td>0</td>\n",
       "      <td>0.260811</td>\n",
       "    </tr>\n",
       "    <tr>\n",
       "      <th>10</th>\n",
       "      <td>-9222966754772741089</td>\n",
       "      <td>1</td>\n",
       "      <td>0.731572</td>\n",
       "    </tr>\n",
       "    <tr>\n",
       "      <th>15</th>\n",
       "      <td>-9222681326420531466</td>\n",
       "      <td>1</td>\n",
       "      <td>0.309751</td>\n",
       "    </tr>\n",
       "    <tr>\n",
       "      <th>16</th>\n",
       "      <td>-9222675298307016386</td>\n",
       "      <td>0</td>\n",
       "      <td>0.486282</td>\n",
       "    </tr>\n",
       "    <tr>\n",
       "      <th>...</th>\n",
       "      <td>...</td>\n",
       "      <td>...</td>\n",
       "      <td>...</td>\n",
       "    </tr>\n",
       "    <tr>\n",
       "      <th>458895</th>\n",
       "      <td>9222670601879988590</td>\n",
       "      <td>0</td>\n",
       "      <td>0.083889</td>\n",
       "    </tr>\n",
       "    <tr>\n",
       "      <th>458900</th>\n",
       "      <td>9222865474092465587</td>\n",
       "      <td>0</td>\n",
       "      <td>0.000608</td>\n",
       "    </tr>\n",
       "    <tr>\n",
       "      <th>458904</th>\n",
       "      <td>9223073742590486866</td>\n",
       "      <td>0</td>\n",
       "      <td>0.000995</td>\n",
       "    </tr>\n",
       "    <tr>\n",
       "      <th>458905</th>\n",
       "      <td>9223126093534097186</td>\n",
       "      <td>1</td>\n",
       "      <td>0.968069</td>\n",
       "    </tr>\n",
       "    <tr>\n",
       "      <th>458909</th>\n",
       "      <td>9223300670094807586</td>\n",
       "      <td>1</td>\n",
       "      <td>0.955993</td>\n",
       "    </tr>\n",
       "  </tbody>\n",
       "</table>\n",
       "<p>91783 rows × 3 columns</p>\n",
       "</div>"
      ],
      "text/plain": [
       "                customer_ID  target  oof_pred\n",
       "6      -9223121653379786464       0  0.132915\n",
       "7      -9223119955381244975       0  0.260811\n",
       "10     -9222966754772741089       1  0.731572\n",
       "15     -9222681326420531466       1  0.309751\n",
       "16     -9222675298307016386       0  0.486282\n",
       "...                     ...     ...       ...\n",
       "458895  9222670601879988590       0  0.083889\n",
       "458900  9222865474092465587       0  0.000608\n",
       "458904  9223073742590486866       0  0.000995\n",
       "458905  9223126093534097186       1  0.968069\n",
       "458909  9223300670094807586       1  0.955993\n",
       "\n",
       "[91783 rows x 3 columns]"
      ]
     },
     "execution_count": 15,
     "metadata": {},
     "output_type": "execute_result"
    }
   ],
   "source": [
    "# Predictions on test/validate set\n",
    "# Each validate set has size 91783\n",
    "oof[0]"
   ]
  },
  {
   "cell_type": "code",
   "execution_count": 16,
   "id": "ba3b9742",
   "metadata": {
    "execution": {
     "iopub.execute_input": "2022-06-14T05:28:02.782946Z",
     "iopub.status.busy": "2022-06-14T05:28:02.782641Z",
     "iopub.status.idle": "2022-06-14T05:28:02.957318Z",
     "shell.execute_reply": "2022-06-14T05:28:02.956316Z"
    },
    "papermill": {
     "duration": 0.194725,
     "end_time": "2022-06-14T05:28:02.959857",
     "exception": false,
     "start_time": "2022-06-14T05:28:02.765132",
     "status": "completed"
    },
    "tags": []
   },
   "outputs": [
    {
     "name": "stdout",
     "output_type": "stream",
     "text": [
      "Overall CV Metric Score = 0.7925832233696515\n"
     ]
    }
   ],
   "source": [
    "# Row bind 5 sets of out-of-fold predictions (each with 91783 rows) into a single set of prediction frame (458,915 rows)\n",
    "oof = pd.concat(oof, axis=0, ignore_index=True).set_index(\"customer_ID\")\n",
    "# Overall metric score\n",
    "score = amex_metric_mod(y_true=oof.target.values, y_pred=oof.oof_pred.values)\n",
    "print(\"Overall CV Metric Score =\", score)"
   ]
  },
  {
   "cell_type": "code",
   "execution_count": 17,
   "id": "bd3ca5b9",
   "metadata": {
    "execution": {
     "iopub.execute_input": "2022-06-14T05:28:02.996554Z",
     "iopub.status.busy": "2022-06-14T05:28:02.995996Z",
     "iopub.status.idle": "2022-06-14T05:28:03.137980Z",
     "shell.execute_reply": "2022-06-14T05:28:03.137017Z"
    },
    "papermill": {
     "duration": 0.162218,
     "end_time": "2022-06-14T05:28:03.139798",
     "exception": false,
     "start_time": "2022-06-14T05:28:02.977580",
     "status": "completed"
    },
    "tags": []
   },
   "outputs": [],
   "source": [
    "# Clean ram\n",
    "del train\n",
    "_ = gc.collect()"
   ]
  },
  {
   "cell_type": "markdown",
   "id": "81ec1061",
   "metadata": {
    "papermill": {
     "duration": 0.016448,
     "end_time": "2022-06-14T05:28:03.173446",
     "exception": false,
     "start_time": "2022-06-14T05:28:03.156998",
     "status": "completed"
    },
    "tags": []
   },
   "source": [
    "### Predictions On Validation Sets"
   ]
  },
  {
   "cell_type": "code",
   "execution_count": 18,
   "id": "698cee37",
   "metadata": {
    "execution": {
     "iopub.execute_input": "2022-06-14T05:28:03.208634Z",
     "iopub.status.busy": "2022-06-14T05:28:03.207855Z",
     "iopub.status.idle": "2022-06-14T05:28:08.678777Z",
     "shell.execute_reply": "2022-06-14T05:28:08.677902Z"
    },
    "papermill": {
     "duration": 5.490645,
     "end_time": "2022-06-14T05:28:08.680950",
     "exception": false,
     "start_time": "2022-06-14T05:28:03.190305",
     "status": "completed"
    },
    "tags": []
   },
   "outputs": [
    {
     "data": {
      "text/html": [
       "<div>\n",
       "<style scoped>\n",
       "    .dataframe tbody tr th:only-of-type {\n",
       "        vertical-align: middle;\n",
       "    }\n",
       "\n",
       "    .dataframe tbody tr th {\n",
       "        vertical-align: top;\n",
       "    }\n",
       "\n",
       "    .dataframe thead th {\n",
       "        text-align: right;\n",
       "    }\n",
       "</style>\n",
       "<table border=\"1\" class=\"dataframe\">\n",
       "  <thead>\n",
       "    <tr style=\"text-align: right;\">\n",
       "      <th></th>\n",
       "      <th>customer_ID</th>\n",
       "      <th>target</th>\n",
       "      <th>oof_pred</th>\n",
       "    </tr>\n",
       "  </thead>\n",
       "  <tbody>\n",
       "    <tr>\n",
       "      <th>0</th>\n",
       "      <td>20eac26171c3d251c55fc78204e59fab1c15fc2bc96d0c...</td>\n",
       "      <td>1</td>\n",
       "      <td>0.768408</td>\n",
       "    </tr>\n",
       "    <tr>\n",
       "      <th>1</th>\n",
       "      <td>aea50fdf9b974ccec95fa177c3225a0f913483b457de6e...</td>\n",
       "      <td>0</td>\n",
       "      <td>0.000229</td>\n",
       "    </tr>\n",
       "    <tr>\n",
       "      <th>2</th>\n",
       "      <td>32cd2d41aef737b69089882754395925c96eaee1f4a859...</td>\n",
       "      <td>0</td>\n",
       "      <td>0.001985</td>\n",
       "    </tr>\n",
       "    <tr>\n",
       "      <th>3</th>\n",
       "      <td>8daa6d5dc2655a8a437531e6b8b96829113cdfe9bf6cae...</td>\n",
       "      <td>0</td>\n",
       "      <td>0.017224</td>\n",
       "    </tr>\n",
       "    <tr>\n",
       "      <th>4</th>\n",
       "      <td>0ceba351a3851202542feb49d7385bcef32f6037fc57c7...</td>\n",
       "      <td>1</td>\n",
       "      <td>0.872475</td>\n",
       "    </tr>\n",
       "  </tbody>\n",
       "</table>\n",
       "</div>"
      ],
      "text/plain": [
       "                                         customer_ID  target  oof_pred\n",
       "0  20eac26171c3d251c55fc78204e59fab1c15fc2bc96d0c...       1  0.768408\n",
       "1  aea50fdf9b974ccec95fa177c3225a0f913483b457de6e...       0  0.000229\n",
       "2  32cd2d41aef737b69089882754395925c96eaee1f4a859...       0  0.001985\n",
       "3  8daa6d5dc2655a8a437531e6b8b96829113cdfe9bf6cae...       0  0.017224\n",
       "4  0ceba351a3851202542feb49d7385bcef32f6037fc57c7...       1  0.872475"
      ]
     },
     "execution_count": 18,
     "metadata": {},
     "output_type": "execute_result"
    }
   ],
   "source": [
    "# Read in 'customer_ID' from training data\n",
    "oof_xgb = pd.read_parquet(TRAIN_PATH, columns=[\"customer_ID\"]).drop_duplicates()\n",
    "\n",
    "# Reduce customer_ID data size\n",
    "oof_xgb[\"customer_ID_hash\"] = (\n",
    "    oof_xgb[\"customer_ID\"].apply(lambda x: int(x[-16:], 16)).astype(\"int64\")\n",
    ")\n",
    "oof_xgb = oof_xgb.set_index(\"customer_ID_hash\")\n",
    "oof_xgb = oof_xgb.merge(oof, left_index=True, right_index=True)\n",
    "oof_xgb = oof_xgb.sort_index().reset_index(drop=True)\n",
    "\n",
    "# Write predictions to disk\n",
    "oof_xgb.to_csv(f\"oof_xgb_v{VER}.csv\", index=False)\n",
    "oof_xgb.head()"
   ]
  },
  {
   "cell_type": "code",
   "execution_count": 19,
   "id": "eb23429a",
   "metadata": {
    "execution": {
     "iopub.execute_input": "2022-06-14T05:28:08.717017Z",
     "iopub.status.busy": "2022-06-14T05:28:08.716701Z",
     "iopub.status.idle": "2022-06-14T05:28:09.077012Z",
     "shell.execute_reply": "2022-06-14T05:28:09.076207Z"
    },
    "papermill": {
     "duration": 0.38027,
     "end_time": "2022-06-14T05:28:09.079076",
     "exception": false,
     "start_time": "2022-06-14T05:28:08.698806",
     "status": "completed"
    },
    "tags": []
   },
   "outputs": [
    {
     "data": {
      "image/png": "[encoded data removed]",
      "text/plain": [
       "<Figure size 432x288 with 1 Axes>"
      ]
     },
     "metadata": {
      "needs_background": "light"
     },
     "output_type": "display_data"
    }
   ],
   "source": [
    "# Plot predictions\n",
    "plt.hist(oof_xgb.oof_pred.values, bins=100)\n",
    "plt.title(\"OOF Predictions\")\n",
    "plt.xlabel(\"Probabilities of Default\")\n",
    "plt.ylabel(\"Frequencies\")\n",
    "plt.show()"
   ]
  },
  {
   "cell_type": "code",
   "execution_count": 20,
   "id": "117efa5b",
   "metadata": {
    "execution": {
     "iopub.execute_input": "2022-06-14T05:28:09.115916Z",
     "iopub.status.busy": "2022-06-14T05:28:09.115589Z",
     "iopub.status.idle": "2022-06-14T05:28:09.258761Z",
     "shell.execute_reply": "2022-06-14T05:28:09.257807Z"
    },
    "papermill": {
     "duration": 0.163574,
     "end_time": "2022-06-14T05:28:09.260861",
     "exception": false,
     "start_time": "2022-06-14T05:28:09.097287",
     "status": "completed"
    },
    "tags": []
   },
   "outputs": [],
   "source": [
    "# Clear VRAM and Ram\n",
    "del oof_xgb, oof\n",
    "_ = gc.collect()"
   ]
  },
  {
   "cell_type": "markdown",
   "id": "6d089544",
   "metadata": {
    "papermill": {
     "duration": 0.016998,
     "end_time": "2022-06-14T05:28:09.295487",
     "exception": false,
     "start_time": "2022-06-14T05:28:09.278489",
     "status": "completed"
    },
    "tags": []
   },
   "source": [
    "### Feature Importance\n",
    "\n",
    "We examine the feature importance lists of the five folds. First we merge the five frames to create one single frame."
   ]
  },
  {
   "cell_type": "code",
   "execution_count": 21,
   "id": "7fdfd606",
   "metadata": {
    "execution": {
     "iopub.execute_input": "2022-06-14T05:28:09.332434Z",
     "iopub.status.busy": "2022-06-14T05:28:09.332087Z",
     "iopub.status.idle": "2022-06-14T05:28:09.367790Z",
     "shell.execute_reply": "2022-06-14T05:28:09.366674Z"
    },
    "papermill": {
     "duration": 0.057323,
     "end_time": "2022-06-14T05:28:09.370510",
     "exception": false,
     "start_time": "2022-06-14T05:28:09.313187",
     "status": "completed"
    },
    "tags": []
   },
   "outputs": [
    {
     "data": {
      "text/html": [
       "<div>\n",
       "<style scoped>\n",
       "    .dataframe tbody tr th:only-of-type {\n",
       "        vertical-align: middle;\n",
       "    }\n",
       "\n",
       "    .dataframe tbody tr th {\n",
       "        vertical-align: top;\n",
       "    }\n",
       "\n",
       "    .dataframe thead th {\n",
       "        text-align: right;\n",
       "    }\n",
       "</style>\n",
       "<table border=\"1\" class=\"dataframe\">\n",
       "  <thead>\n",
       "    <tr style=\"text-align: right;\">\n",
       "      <th></th>\n",
       "      <th>feature</th>\n",
       "      <th>importance_0</th>\n",
       "      <th>importance_1</th>\n",
       "      <th>importance_2</th>\n",
       "      <th>importance_3</th>\n",
       "      <th>importance_4</th>\n",
       "    </tr>\n",
       "  </thead>\n",
       "  <tbody>\n",
       "    <tr>\n",
       "      <th>0</th>\n",
       "      <td>P_2_mean</td>\n",
       "      <td>159.0</td>\n",
       "      <td>140.0</td>\n",
       "      <td>152.0</td>\n",
       "      <td>129.0</td>\n",
       "      <td>165.0</td>\n",
       "    </tr>\n",
       "    <tr>\n",
       "      <th>1</th>\n",
       "      <td>P_2_std</td>\n",
       "      <td>74.0</td>\n",
       "      <td>44.0</td>\n",
       "      <td>71.0</td>\n",
       "      <td>50.0</td>\n",
       "      <td>59.0</td>\n",
       "    </tr>\n",
       "    <tr>\n",
       "      <th>2</th>\n",
       "      <td>P_2_min</td>\n",
       "      <td>139.0</td>\n",
       "      <td>130.0</td>\n",
       "      <td>126.0</td>\n",
       "      <td>113.0</td>\n",
       "      <td>144.0</td>\n",
       "    </tr>\n",
       "    <tr>\n",
       "      <th>3</th>\n",
       "      <td>P_2_max</td>\n",
       "      <td>161.0</td>\n",
       "      <td>113.0</td>\n",
       "      <td>100.0</td>\n",
       "      <td>110.0</td>\n",
       "      <td>105.0</td>\n",
       "    </tr>\n",
       "    <tr>\n",
       "      <th>4</th>\n",
       "      <td>P_2_last</td>\n",
       "      <td>330.0</td>\n",
       "      <td>359.0</td>\n",
       "      <td>311.0</td>\n",
       "      <td>330.0</td>\n",
       "      <td>352.0</td>\n",
       "    </tr>\n",
       "    <tr>\n",
       "      <th>...</th>\n",
       "      <td>...</td>\n",
       "      <td>...</td>\n",
       "      <td>...</td>\n",
       "      <td>...</td>\n",
       "      <td>...</td>\n",
       "      <td>...</td>\n",
       "    </tr>\n",
       "    <tr>\n",
       "      <th>812</th>\n",
       "      <td>D_64_nunique</td>\n",
       "      <td>4.0</td>\n",
       "      <td>5.0</td>\n",
       "      <td>11.0</td>\n",
       "      <td>7.0</td>\n",
       "      <td>6.0</td>\n",
       "    </tr>\n",
       "    <tr>\n",
       "      <th>813</th>\n",
       "      <td>D_66_last</td>\n",
       "      <td>34.0</td>\n",
       "      <td>30.0</td>\n",
       "      <td>37.0</td>\n",
       "      <td>33.0</td>\n",
       "      <td>35.0</td>\n",
       "    </tr>\n",
       "    <tr>\n",
       "      <th>814</th>\n",
       "      <td>D_66_nunique</td>\n",
       "      <td>9.0</td>\n",
       "      <td>10.0</td>\n",
       "      <td>10.0</td>\n",
       "      <td>NaN</td>\n",
       "      <td>7.0</td>\n",
       "    </tr>\n",
       "    <tr>\n",
       "      <th>815</th>\n",
       "      <td>D_68_last</td>\n",
       "      <td>9.0</td>\n",
       "      <td>4.0</td>\n",
       "      <td>10.0</td>\n",
       "      <td>3.0</td>\n",
       "      <td>6.0</td>\n",
       "    </tr>\n",
       "    <tr>\n",
       "      <th>816</th>\n",
       "      <td>D_68_nunique</td>\n",
       "      <td>2.0</td>\n",
       "      <td>4.0</td>\n",
       "      <td>3.0</td>\n",
       "      <td>4.0</td>\n",
       "      <td>5.0</td>\n",
       "    </tr>\n",
       "  </tbody>\n",
       "</table>\n",
       "<p>817 rows × 6 columns</p>\n",
       "</div>"
      ],
      "text/plain": [
       "          feature  importance_0  importance_1  importance_2  importance_3  \\\n",
       "0        P_2_mean         159.0         140.0         152.0         129.0   \n",
       "1         P_2_std          74.0          44.0          71.0          50.0   \n",
       "2         P_2_min         139.0         130.0         126.0         113.0   \n",
       "3         P_2_max         161.0         113.0         100.0         110.0   \n",
       "4        P_2_last         330.0         359.0         311.0         330.0   \n",
       "..            ...           ...           ...           ...           ...   \n",
       "812  D_64_nunique           4.0           5.0          11.0           7.0   \n",
       "813     D_66_last          34.0          30.0          37.0          33.0   \n",
       "814  D_66_nunique           9.0          10.0          10.0           NaN   \n",
       "815     D_68_last           9.0           4.0          10.0           3.0   \n",
       "816  D_68_nunique           2.0           4.0           3.0           4.0   \n",
       "\n",
       "     importance_4  \n",
       "0           165.0  \n",
       "1            59.0  \n",
       "2           144.0  \n",
       "3           105.0  \n",
       "4           352.0  \n",
       "..            ...  \n",
       "812           6.0  \n",
       "813          35.0  \n",
       "814           7.0  \n",
       "815           6.0  \n",
       "816           5.0  \n",
       "\n",
       "[817 rows x 6 columns]"
      ]
     },
     "execution_count": 21,
     "metadata": {},
     "output_type": "execute_result"
    }
   ],
   "source": [
    "feat_imp = reduce(lambda x, y: x.merge(y, on=\"feature\", how=\"left\"), importances)\n",
    "feat_imp"
   ]
  },
  {
   "cell_type": "markdown",
   "id": "4e153eb8",
   "metadata": {
    "papermill": {
     "duration": 0.018742,
     "end_time": "2022-06-14T05:28:09.409019",
     "exception": false,
     "start_time": "2022-06-14T05:28:09.390277",
     "status": "completed"
    },
    "tags": []
   },
   "source": [
    "We can compute the mean feature importance for each feature across all five folds:"
   ]
  },
  {
   "cell_type": "code",
   "execution_count": 22,
   "id": "1594778d",
   "metadata": {
    "execution": {
     "iopub.execute_input": "2022-06-14T05:28:09.448820Z",
     "iopub.status.busy": "2022-06-14T05:28:09.448436Z",
     "iopub.status.idle": "2022-06-14T05:28:09.474926Z",
     "shell.execute_reply": "2022-06-14T05:28:09.473896Z"
    },
    "papermill": {
     "duration": 0.050615,
     "end_time": "2022-06-14T05:28:09.477383",
     "exception": false,
     "start_time": "2022-06-14T05:28:09.426768",
     "status": "completed"
    },
    "tags": []
   },
   "outputs": [
    {
     "data": {
      "text/html": [
       "<div>\n",
       "<style scoped>\n",
       "    .dataframe tbody tr th:only-of-type {\n",
       "        vertical-align: middle;\n",
       "    }\n",
       "\n",
       "    .dataframe tbody tr th {\n",
       "        vertical-align: top;\n",
       "    }\n",
       "\n",
       "    .dataframe thead th {\n",
       "        text-align: right;\n",
       "    }\n",
       "</style>\n",
       "<table border=\"1\" class=\"dataframe\">\n",
       "  <thead>\n",
       "    <tr style=\"text-align: right;\">\n",
       "      <th></th>\n",
       "      <th>feature</th>\n",
       "      <th>importance_0</th>\n",
       "      <th>importance_1</th>\n",
       "      <th>importance_2</th>\n",
       "      <th>importance_3</th>\n",
       "      <th>importance_4</th>\n",
       "      <th>importance</th>\n",
       "    </tr>\n",
       "  </thead>\n",
       "  <tbody>\n",
       "    <tr>\n",
       "      <th>4</th>\n",
       "      <td>P_2_last</td>\n",
       "      <td>330.0</td>\n",
       "      <td>359.0</td>\n",
       "      <td>311.0</td>\n",
       "      <td>330.0</td>\n",
       "      <td>352.0</td>\n",
       "      <td>336.4</td>\n",
       "    </tr>\n",
       "    <tr>\n",
       "      <th>9</th>\n",
       "      <td>D_39_last</td>\n",
       "      <td>205.0</td>\n",
       "      <td>198.0</td>\n",
       "      <td>201.0</td>\n",
       "      <td>191.0</td>\n",
       "      <td>191.0</td>\n",
       "      <td>197.2</td>\n",
       "    </tr>\n",
       "    <tr>\n",
       "      <th>39</th>\n",
       "      <td>B_3_last</td>\n",
       "      <td>188.0</td>\n",
       "      <td>169.0</td>\n",
       "      <td>167.0</td>\n",
       "      <td>155.0</td>\n",
       "      <td>169.0</td>\n",
       "      <td>169.6</td>\n",
       "    </tr>\n",
       "    <tr>\n",
       "      <th>59</th>\n",
       "      <td>B_4_last</td>\n",
       "      <td>158.0</td>\n",
       "      <td>163.0</td>\n",
       "      <td>176.0</td>\n",
       "      <td>162.0</td>\n",
       "      <td>177.0</td>\n",
       "      <td>167.2</td>\n",
       "    </tr>\n",
       "    <tr>\n",
       "      <th>69</th>\n",
       "      <td>B_5_last</td>\n",
       "      <td>175.0</td>\n",
       "      <td>168.0</td>\n",
       "      <td>134.0</td>\n",
       "      <td>145.0</td>\n",
       "      <td>123.0</td>\n",
       "      <td>149.0</td>\n",
       "    </tr>\n",
       "    <tr>\n",
       "      <th>...</th>\n",
       "      <td>...</td>\n",
       "      <td>...</td>\n",
       "      <td>...</td>\n",
       "      <td>...</td>\n",
       "      <td>...</td>\n",
       "      <td>...</td>\n",
       "      <td>...</td>\n",
       "    </tr>\n",
       "    <tr>\n",
       "      <th>713</th>\n",
       "      <td>D_129_max</td>\n",
       "      <td>1.0</td>\n",
       "      <td>NaN</td>\n",
       "      <td>NaN</td>\n",
       "      <td>NaN</td>\n",
       "      <td>NaN</td>\n",
       "      <td>1.0</td>\n",
       "    </tr>\n",
       "    <tr>\n",
       "      <th>633</th>\n",
       "      <td>D_110_min</td>\n",
       "      <td>1.0</td>\n",
       "      <td>1.0</td>\n",
       "      <td>NaN</td>\n",
       "      <td>NaN</td>\n",
       "      <td>1.0</td>\n",
       "      <td>1.0</td>\n",
       "    </tr>\n",
       "    <tr>\n",
       "      <th>251</th>\n",
       "      <td>D_65_min</td>\n",
       "      <td>1.0</td>\n",
       "      <td>NaN</td>\n",
       "      <td>1.0</td>\n",
       "      <td>NaN</td>\n",
       "      <td>NaN</td>\n",
       "      <td>1.0</td>\n",
       "    </tr>\n",
       "    <tr>\n",
       "      <th>160</th>\n",
       "      <td>S_6_max</td>\n",
       "      <td>1.0</td>\n",
       "      <td>NaN</td>\n",
       "      <td>1.0</td>\n",
       "      <td>1.0</td>\n",
       "      <td>NaN</td>\n",
       "      <td>1.0</td>\n",
       "    </tr>\n",
       "    <tr>\n",
       "      <th>796</th>\n",
       "      <td>B_38_count</td>\n",
       "      <td>1.0</td>\n",
       "      <td>NaN</td>\n",
       "      <td>1.0</td>\n",
       "      <td>1.0</td>\n",
       "      <td>1.0</td>\n",
       "      <td>1.0</td>\n",
       "    </tr>\n",
       "  </tbody>\n",
       "</table>\n",
       "<p>817 rows × 7 columns</p>\n",
       "</div>"
      ],
      "text/plain": [
       "        feature  importance_0  importance_1  importance_2  importance_3  \\\n",
       "4      P_2_last         330.0         359.0         311.0         330.0   \n",
       "9     D_39_last         205.0         198.0         201.0         191.0   \n",
       "39     B_3_last         188.0         169.0         167.0         155.0   \n",
       "59     B_4_last         158.0         163.0         176.0         162.0   \n",
       "69     B_5_last         175.0         168.0         134.0         145.0   \n",
       "..          ...           ...           ...           ...           ...   \n",
       "713   D_129_max           1.0           NaN           NaN           NaN   \n",
       "633   D_110_min           1.0           1.0           NaN           NaN   \n",
       "251    D_65_min           1.0           NaN           1.0           NaN   \n",
       "160     S_6_max           1.0           NaN           1.0           1.0   \n",
       "796  B_38_count           1.0           NaN           1.0           1.0   \n",
       "\n",
       "     importance_4  importance  \n",
       "4           352.0       336.4  \n",
       "9           191.0       197.2  \n",
       "39          169.0       169.6  \n",
       "59          177.0       167.2  \n",
       "69          123.0       149.0  \n",
       "..            ...         ...  \n",
       "713           NaN         1.0  \n",
       "633           1.0         1.0  \n",
       "251           NaN         1.0  \n",
       "160           NaN         1.0  \n",
       "796           1.0         1.0  \n",
       "\n",
       "[817 rows x 7 columns]"
      ]
     },
     "execution_count": 22,
     "metadata": {},
     "output_type": "execute_result"
    }
   ],
   "source": [
    "# The features go down and the folds go across\n",
    "# Exclude the first column, which are the feature names, compute the means across\n",
    "feat_imp[\"importance\"] = feat_imp.iloc[:, 1:].mean(axis=1)\n",
    "# Sort descending\n",
    "feat_imp = feat_imp.sort_values(\"importance\", ascending=False)\n",
    "feat_imp"
   ]
  },
  {
   "cell_type": "code",
   "execution_count": 23,
   "id": "fb6576a7",
   "metadata": {
    "execution": {
     "iopub.execute_input": "2022-06-14T05:28:09.519307Z",
     "iopub.status.busy": "2022-06-14T05:28:09.518896Z",
     "iopub.status.idle": "2022-06-14T05:28:09.529298Z",
     "shell.execute_reply": "2022-06-14T05:28:09.528568Z"
    },
    "papermill": {
     "duration": 0.032724,
     "end_time": "2022-06-14T05:28:09.531008",
     "exception": false,
     "start_time": "2022-06-14T05:28:09.498284",
     "status": "completed"
    },
    "tags": []
   },
   "outputs": [],
   "source": [
    "# Write to disk\n",
    "feat_imp.to_csv(f\"xgb_feature_importance_v{VER}.csv\", index=False)"
   ]
  },
  {
   "cell_type": "code",
   "execution_count": 24,
   "id": "605ac1f1",
   "metadata": {
    "execution": {
     "iopub.execute_input": "2022-06-14T05:28:09.568941Z",
     "iopub.status.busy": "2022-06-14T05:28:09.568631Z",
     "iopub.status.idle": "2022-06-14T05:28:09.836633Z",
     "shell.execute_reply": "2022-06-14T05:28:09.835874Z"
    },
    "papermill": {
     "duration": 0.289446,
     "end_time": "2022-06-14T05:28:09.838562",
     "exception": false,
     "start_time": "2022-06-14T05:28:09.549116",
     "status": "completed"
    },
    "tags": []
   },
   "outputs": [
    {
     "data": {
      "image/png": "[encoded data removed]",
      "text/plain": [
       "<Figure size 720x720 with 1 Axes>"
      ]
     },
     "metadata": {
      "needs_background": "light"
     },
     "output_type": "display_data"
    }
   ],
   "source": [
    "# Size\n",
    "plt.figure(figsize=(10, 5 * TOP_NUM_FEATURES // 10))\n",
    "\n",
    "# Horiziontal bar chart\n",
    "plt.barh(\n",
    "    y=np.arange(TOP_NUM_FEATURES, 0, -1),\n",
    "    width=feat_imp.importance.values[:TOP_NUM_FEATURES],\n",
    ")\n",
    "\n",
    "# Yticks labels are the feature names\n",
    "plt.yticks(\n",
    "    np.arange(TOP_NUM_FEATURES, 0, -1), feat_imp.feature.values[:TOP_NUM_FEATURES]\n",
    ")\n",
    "plt.xlabel(\n",
    "    \"Weight (The number of times a feature is used to split the data across all trees)\"\n",
    ")\n",
    "\n",
    "# Title\n",
    "plt.title(f\"XGB Feature Importance - Top {TOP_NUM_FEATURES}\")\n",
    "plt.show()"
   ]
  },
  {
   "cell_type": "markdown",
   "id": "b335700b",
   "metadata": {
    "papermill": {
     "duration": 0.017985,
     "end_time": "2022-06-14T05:28:09.874941",
     "exception": false,
     "start_time": "2022-06-14T05:28:09.856956",
     "status": "completed"
    },
    "tags": []
   },
   "source": [
    "## Test Data\n",
    "\n",
    "Read in test data (specifically, columns `customer_ID` and `S_2`). Then, partition the data into four parts, as defined by the Global constant `NUM_PARTS`."
   ]
  },
  {
   "cell_type": "code",
   "execution_count": 25,
   "id": "03597188",
   "metadata": {
    "execution": {
     "iopub.execute_input": "2022-06-14T05:28:09.913618Z",
     "iopub.status.busy": "2022-06-14T05:28:09.912781Z",
     "iopub.status.idle": "2022-06-14T05:28:11.660686Z",
     "shell.execute_reply": "2022-06-14T05:28:11.659471Z"
    },
    "papermill": {
     "duration": 1.769258,
     "end_time": "2022-06-14T05:28:11.662461",
     "exception": false,
     "start_time": "2022-06-14T05:28:09.893203",
     "status": "completed"
    },
    "tags": []
   },
   "outputs": [
    {
     "name": "stdout",
     "output_type": "stream",
     "text": [
      "Reading test data with columns `customer_ID` and `S_2` ...\n",
      "shape of data: (11363762, 2)\n"
     ]
    }
   ],
   "source": [
    "print(f\"Reading test data with columns `customer_ID` and `S_2` ...\")\n",
    "test = read_file(path=TEST_PATH, usecols=[\"customer_ID\", \"S_2\"])"
   ]
  },
  {
   "cell_type": "code",
   "execution_count": 26,
   "id": "a4138785",
   "metadata": {
    "execution": {
     "iopub.execute_input": "2022-06-14T05:28:11.701125Z",
     "iopub.status.busy": "2022-06-14T05:28:11.700757Z",
     "iopub.status.idle": "2022-06-14T05:28:12.648463Z",
     "shell.execute_reply": "2022-06-14T05:28:12.646723Z"
    },
    "papermill": {
     "duration": 0.969023,
     "end_time": "2022-06-14T05:28:12.650306",
     "exception": false,
     "start_time": "2022-06-14T05:28:11.681283",
     "status": "completed"
    },
    "tags": []
   },
   "outputs": [
    {
     "name": "stdout",
     "output_type": "stream",
     "text": [
      "We will process test data as 4 separate parts.\n",
      "There will be 231155 customers in each part (except the last part).\n",
      "Below are number of rows in each part:\n",
      "[2839373, 2841795, 2841688, 2840906]\n"
     ]
    }
   ],
   "source": [
    "# Return a copy of the array underlying 'customer_ID' collapsed into one dimension\n",
    "# No duplicates\n",
    "customers = test[[\"customer_ID\"]].drop_duplicates().sort_index().values.flatten()\n",
    "rows, num_cust = get_rows(\n",
    "    customers, test[[\"customer_ID\"]], NUM_PARTS=NUM_PARTS, verbose=\"test\"\n",
    ")"
   ]
  },
  {
   "cell_type": "markdown",
   "id": "fbafd6e5",
   "metadata": {
    "papermill": {
     "duration": 0.018039,
     "end_time": "2022-06-14T05:28:12.686900",
     "exception": false,
     "start_time": "2022-06-14T05:28:12.668861",
     "status": "completed"
    },
    "tags": []
   },
   "source": [
    "### Performance Evaluation On Test Data"
   ]
  },
  {
   "cell_type": "code",
   "execution_count": 27,
   "id": "e6050dab",
   "metadata": {
    "execution": {
     "iopub.execute_input": "2022-06-14T05:28:12.725936Z",
     "iopub.status.busy": "2022-06-14T05:28:12.725124Z",
     "iopub.status.idle": "2022-06-14T05:31:01.388751Z",
     "shell.execute_reply": "2022-06-14T05:31:01.387957Z"
    },
    "papermill": {
     "duration": 168.685854,
     "end_time": "2022-06-14T05:31:01.391461",
     "exception": false,
     "start_time": "2022-06-14T05:28:12.705607",
     "status": "completed"
    },
    "tags": []
   },
   "outputs": [
    {
     "name": "stdout",
     "output_type": "stream",
     "text": [
      "\n",
      "Reading partition 1 of test data...\n",
      "shape of data: (11363762, 190)\n",
      "=> Test partition 1 has shape (2839373, 190)\n",
      "shape after engineering (231155, 918)\n",
      "\n",
      "Reading partition 2 of test data...\n",
      "shape of data: (11363762, 190)\n",
      "=> Test partition 2 has shape (2841795, 190)\n",
      "shape after engineering (231155, 918)\n",
      "\n",
      "Reading partition 3 of test data...\n",
      "shape of data: (11363762, 190)\n",
      "=> Test partition 3 has shape (2841688, 190)\n",
      "shape after engineering (231155, 918)\n",
      "\n",
      "Reading partition 4 of test data...\n",
      "shape of data: (11363762, 190)\n",
      "=> Test partition 4 has shape (2840906, 190)\n",
      "shape after engineering (231156, 918)\n"
     ]
    }
   ],
   "source": [
    "# Evaluate one part at a time\n",
    "# Initialize indices\n",
    "skip_rows = 0\n",
    "skip_cust = 0\n",
    "# Containers\n",
    "test_preds = []\n",
    "\n",
    "for k in range(NUM_PARTS):\n",
    "    # Read in one partition of the test data\n",
    "    print(f\"\\nReading partition {k + 1} of test data...\")\n",
    "\n",
    "    test = read_file(path=TEST_PATH)\n",
    "    # The 'rows' list contains the numbers of rows for each partition\n",
    "    test = test.iloc[skip_rows : skip_rows + rows[k]]\n",
    "    # Increment the starting index by the numbers of rows for each partition\n",
    "    skip_rows += rows[k]\n",
    "\n",
    "    print(f\"=> Test partition {k + 1} has shape\", test.shape)\n",
    "\n",
    "    # Process and feature engineering for each partition of the test data\n",
    "    test = process_and_feature_engineer(test)\n",
    "\n",
    "    if k == NUM_PARTS - 1:\n",
    "        # Special handling once we arrive at the lask chunk by simple getting the rest of the remaining rows\n",
    "        test = test.loc[customers[skip_cust:]]\n",
    "    else:\n",
    "        test = test.loc[customers[skip_cust : skip_cust + num_cust]]\n",
    "\n",
    "    # Increment the ending index by 'num_cust', as each partision has at least 'num_cust' number of unique id's\n",
    "    skip_cust += num_cust\n",
    "\n",
    "    # Load test data into a dmatrix\n",
    "    X_test = test[FEATURES]\n",
    "    dtest = xgb.DMatrix(data=X_test)\n",
    "    # Reduce memory\n",
    "    test = test[[\"P_2_mean\"]]\n",
    "    del X_test\n",
    "    gc.collect()\n",
    "\n",
    "    # Initializations\n",
    "    model = xgb.Booster()\n",
    "    model.load_model(f\"XGB_v{VER}_fold0.xgb\")\n",
    "    # This is an numpy array, so we use += below for element-wise addition\n",
    "    preds = model.predict(dtest)\n",
    "\n",
    "    for f in range(1, FOLDS):\n",
    "        model.load_model(f\"XGB_v{VER}_fold{f}.xgb\")\n",
    "        # Take the sum of all predictions\n",
    "        preds += model.predict(dtest)\n",
    "    # Divide by the number of folds to obtain average prediction for each customer_ID over cv 5 folds\n",
    "    preds /= FOLDS\n",
    "    # Append prediction for partition k to container\n",
    "    test_preds.append(preds)\n",
    "\n",
    "    # CLEAN MEMORY\n",
    "    del dtest, model\n",
    "    _ = gc.collect()"
   ]
  },
  {
   "cell_type": "markdown",
   "id": "f58d47e6",
   "metadata": {
    "papermill": {
     "duration": 0.01994,
     "end_time": "2022-06-14T05:31:01.431593",
     "exception": false,
     "start_time": "2022-06-14T05:31:01.411653",
     "status": "completed"
    },
    "tags": []
   },
   "source": [
    "### Predictions On Test Data"
   ]
  },
  {
   "cell_type": "code",
   "execution_count": 28,
   "id": "ac323f08",
   "metadata": {
    "execution": {
     "iopub.execute_input": "2022-06-14T05:31:01.471606Z",
     "iopub.status.busy": "2022-06-14T05:31:01.470929Z",
     "iopub.status.idle": "2022-06-14T05:31:02.598388Z",
     "shell.execute_reply": "2022-06-14T05:31:02.597314Z"
    },
    "papermill": {
     "duration": 1.150026,
     "end_time": "2022-06-14T05:31:02.600725",
     "exception": false,
     "start_time": "2022-06-14T05:31:01.450699",
     "status": "completed"
    },
    "tags": []
   },
   "outputs": [
    {
     "name": "stdout",
     "output_type": "stream",
     "text": [
      "Prediction file has shape (924621, 2)\n"
     ]
    },
    {
     "data": {
      "text/html": [
       "<div>\n",
       "<style scoped>\n",
       "    .dataframe tbody tr th:only-of-type {\n",
       "        vertical-align: middle;\n",
       "    }\n",
       "\n",
       "    .dataframe tbody tr th {\n",
       "        vertical-align: top;\n",
       "    }\n",
       "\n",
       "    .dataframe thead th {\n",
       "        text-align: right;\n",
       "    }\n",
       "</style>\n",
       "<table border=\"1\" class=\"dataframe\">\n",
       "  <thead>\n",
       "    <tr style=\"text-align: right;\">\n",
       "      <th></th>\n",
       "      <th>customer_ID</th>\n",
       "      <th>prediction</th>\n",
       "    </tr>\n",
       "  </thead>\n",
       "  <tbody>\n",
       "    <tr>\n",
       "      <th>0</th>\n",
       "      <td>0f7f94e1247f12d2a38fb2b014d6be7175f51b3b4efe9b...</td>\n",
       "      <td>0.033796</td>\n",
       "    </tr>\n",
       "    <tr>\n",
       "      <th>1</th>\n",
       "      <td>0f8086f7297593825bba8c654ea9d35f661089ce25ed79...</td>\n",
       "      <td>0.144461</td>\n",
       "    </tr>\n",
       "    <tr>\n",
       "      <th>2</th>\n",
       "      <td>0f7fe57b8ce23fdd299b99cbcf7fac47e0cdf6459bb616...</td>\n",
       "      <td>0.071585</td>\n",
       "    </tr>\n",
       "    <tr>\n",
       "      <th>3</th>\n",
       "      <td>0f81168c4911b484975ff222f75321396c546b700fa329...</td>\n",
       "      <td>0.049183</td>\n",
       "    </tr>\n",
       "    <tr>\n",
       "      <th>4</th>\n",
       "      <td>0f7f94e3f0e63573b61dccc9fb3c4091ccc8d283d7b58a...</td>\n",
       "      <td>0.011041</td>\n",
       "    </tr>\n",
       "  </tbody>\n",
       "</table>\n",
       "</div>"
      ],
      "text/plain": [
       "                                         customer_ID  prediction\n",
       "0  0f7f94e1247f12d2a38fb2b014d6be7175f51b3b4efe9b...    0.033796\n",
       "1  0f8086f7297593825bba8c654ea9d35f661089ce25ed79...    0.144461\n",
       "2  0f7fe57b8ce23fdd299b99cbcf7fac47e0cdf6459bb616...    0.071585\n",
       "3  0f81168c4911b484975ff222f75321396c546b700fa329...    0.049183\n",
       "4  0f7f94e3f0e63573b61dccc9fb3c4091ccc8d283d7b58a...    0.011041"
      ]
     },
     "execution_count": 28,
     "metadata": {},
     "output_type": "execute_result"
    }
   ],
   "source": [
    "# Join the 4 partitions of preditions (231155 * 3 + 231156 predictions)\n",
    "test_preds = np.concatenate(test_preds)\n",
    "\n",
    "# Create data frame with predictions and customer_ID as row indices\n",
    "test = cudf.DataFrame(index=customers, data={\"prediction\": test_preds})\n",
    "\n",
    "# Read 'customer_ID' column from the sample submission\n",
    "sub = cudf.read_csv(\"../input/amex-default-prediction/sample_submission.csv\")[\n",
    "    [\"customer_ID\"]\n",
    "]\n",
    "\n",
    "# Processing\n",
    "sub[\"customer_ID_hash\"] = sub[\"customer_ID\"].str[-16:].str.hex_to_int().astype(\"int64\")\n",
    "sub = sub.set_index(\"customer_ID_hash\")\n",
    "\n",
    "# Left join processed sample submission 'customer_ID' onto prediction data frame using 'customer_ID' as the key\n",
    "sub = sub.merge(test[[\"prediction\"]], left_index=True, right_index=True, how=\"left\")\n",
    "sub = sub.reset_index(drop=True)\n",
    "\n",
    "# Write preditions to file\n",
    "sub.to_csv(f\"test_predictions_xgb_v{VER}.csv\", index=False)\n",
    "print(\"Prediction file has shape\", sub.shape)\n",
    "sub.head()"
   ]
  },
  {
   "cell_type": "code",
   "execution_count": 29,
   "id": "f959d595",
   "metadata": {
    "execution": {
     "iopub.execute_input": "2022-06-14T05:31:02.678943Z",
     "iopub.status.busy": "2022-06-14T05:31:02.678250Z",
     "iopub.status.idle": "2022-06-14T05:31:03.510240Z",
     "shell.execute_reply": "2022-06-14T05:31:03.509500Z"
    },
    "papermill": {
     "duration": 0.871888,
     "end_time": "2022-06-14T05:31:03.512093",
     "exception": false,
     "start_time": "2022-06-14T05:31:02.640205",
     "status": "completed"
    },
    "tags": []
   },
   "outputs": [
    {
     "data": {
      "image/png": "[encoded data removed]",
      "text/plain": [
       "<Figure size 432x288 with 1 Axes>"
      ]
     },
     "metadata": {
      "needs_background": "light"
     },
     "output_type": "display_data"
    }
   ],
   "source": [
    "# Visualize\n",
    "plt.hist(sub.to_pandas().prediction, bins=100)\n",
    "plt.title(\"Test Predictions\")\n",
    "plt.xlabel(\"Probabilities of Default\")\n",
    "plt.ylabel(\"Frequencies\")\n",
    "plt.show()"
   ]
  }
 ],
 "metadata": {
  "kernelspec": {
   "display_name": "Python 3",
   "language": "python",
   "name": "python3"
  },
  "language_info": {
   "codemirror_mode": {
    "name": "ipython",
    "version": 3
   },
   "file_extension": ".py",
   "mimetype": "text/x-python",
   "name": "python",
   "nbconvert_exporter": "python",
   "pygments_lexer": "ipython3",
   "version": "3.7.12"
  },
  "papermill": {
   "default_parameters": {},
   "duration": 782.821324,
   "end_time": "2022-06-14T05:31:04.954656",
   "environment_variables": {},
   "exception": null,
   "input_path": "__notebook__.ipynb",
   "output_path": "__notebook__.ipynb",
   "parameters": {},
   "start_time": "2022-06-14T05:18:02.133332",
   "version": "2.3.4"
  }
 },
 "nbformat": 4,
 "nbformat_minor": 5
}
