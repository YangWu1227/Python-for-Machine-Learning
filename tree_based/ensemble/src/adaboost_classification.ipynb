{
 "cells": [
  {
   "cell_type": "markdown",
   "metadata": {},
   "source": [
    "# AdaBoost\n",
    "\n",
    "## Table of Content \n",
    "\n",
    "- [Imports](#imports)\n",
    "- [Data](#data)\n",
    "  - [EDA](#eda)\n",
    "  - [Pipeline For Features](#pipeline-for-features)\n",
    "  - [Ordinal Encoding For Target](#ordinal-encoding-for-target)\n",
    "  - [Feature Selection](#feature-selection)\n",
    "- [Decision Tree Classifier](#decision-tree-classifier)\n",
    "  - [Decision Tree  Classifier Performance On Training Data](#decision-tree-classifier-performance-on-training-data)\n",
    "  - [Decision Tree  Classifier Performance On Test Data](#decision-tree-classifier-performance-on-test-data)\n",
    "- [AdaBoost](#adaboost)\n",
    "  - [Boosted Model Performance On Training Data](#boosted-model-performance-on-training-data)\n",
    "  - [Boosted Model Performance On Test Data](#boosted-model-performance-on-test-data)\n",
    "  - [Grid Search](#grid-search)\n",
    "  - [Tuned Boosted Model Performance On Training Data](#tuned-boosted-model-performance-on-training-data)\n",
    "  - [Tuned  Boosted Model Performance On Test Data](#tuned-boosted-model-performance-on-test-data)\n",
    "- [Performance Table](#performance-table)"
   ]
  },
  {
   "cell_type": "code",
   "execution_count": 1,
   "metadata": {},
   "outputs": [],
   "source": [
    "# Interactive shell\n",
    "from IPython.core.interactiveshell import InteractiveShell\n",
    "\n",
    "InteractiveShell.ast_node_interactivity = \"last_expr\"\n",
    "\n",
    "# Data wrangling and standard library\n",
    "import pandas as pd\n",
    "from sklearn.base import clone\n",
    "from sklearn.compose import ColumnTransformer\n",
    "from sklearn.ensemble import AdaBoostClassifier\n",
    "from sklearn.feature_selection import SelectKBest\n",
    "from sklearn.metrics import (\n",
    "    ConfusionMatrixDisplay,\n",
    "    balanced_accuracy_score,\n",
    "    confusion_matrix,\n",
    "    f1_score,\n",
    ")\n",
    "\n",
    "# Machine learning\n",
    "from sklearn.model_selection import GridSearchCV, StratifiedShuffleSplit\n",
    "from sklearn.pipeline import Pipeline\n",
    "from sklearn.preprocessing import (\n",
    "    LabelEncoder,\n",
    "    OneHotEncoder,\n",
    "    PolynomialFeatures,\n",
    "    StandardScaler,\n",
    ")\n",
    "from sklearn.tree import DecisionTreeClassifier\n",
    "\n",
    "# Plotting\n",
    "%matplotlib inline\n",
    "# Utilities\n",
    "import joblib\n",
    "import matplotlib.pyplot as plt"
   ]
  },
  {
   "cell_type": "markdown",
   "metadata": {},
   "source": [
    "## Data\n",
    "\n",
    "This dataset contains the prices and other attributes of 54,000 diamonds. The features are as follow:\n",
    "\n",
    "* price - the price of the diamond\n",
    "\n",
    "* carat - the weight of the diamond (0.2--5.01)\n",
    "\n",
    "* cut - the quality of the cut (Fair, Good, Very Good, Premium, Ideal)\n",
    "\n",
    "* color - the diamond color, from J (worst) to D (best)\n",
    "\n",
    "* clarity - a measurement of how clear the diamond is (I1 (worst), SI2, SI1, VS2, VS1, VVS2, VVS1, IF (best))\n",
    "\n",
    "* x - length in mm (0--10.74)\n",
    "\n",
    "* y - width in mm (0--58.9)\n",
    "\n",
    "* z - depth in mm (0--31.8)\n",
    "\n",
    "* depth - the height of a diamond, measured from the culet to the table, divided by its average girdle diameter (43--79)\n",
    "\n",
    "* table - the width of the diamond's table expressed as a percentage of its average diameter (43--95)"
   ]
  },
  {
   "cell_type": "code",
   "execution_count": 2,
   "metadata": {},
   "outputs": [
    {
     "data": {
      "text/html": [
       "<div>\n",
       "<style scoped>\n",
       "    .dataframe tbody tr th:only-of-type {\n",
       "        vertical-align: middle;\n",
       "    }\n",
       "\n",
       "    .dataframe tbody tr th {\n",
       "        vertical-align: top;\n",
       "    }\n",
       "\n",
       "    .dataframe thead th {\n",
       "        text-align: right;\n",
       "    }\n",
       "</style>\n",
       "<table border=\"1\" class=\"dataframe\">\n",
       "  <thead>\n",
       "    <tr style=\"text-align: right;\">\n",
       "      <th></th>\n",
       "      <th>carat</th>\n",
       "      <th>cut</th>\n",
       "      <th>color</th>\n",
       "      <th>clarity</th>\n",
       "      <th>depth</th>\n",
       "      <th>table</th>\n",
       "      <th>price</th>\n",
       "      <th>x</th>\n",
       "      <th>y</th>\n",
       "      <th>z</th>\n",
       "    </tr>\n",
       "  </thead>\n",
       "  <tbody>\n",
       "    <tr>\n",
       "      <th>0</th>\n",
       "      <td>0.23</td>\n",
       "      <td>Ideal</td>\n",
       "      <td>E</td>\n",
       "      <td>SI2</td>\n",
       "      <td>61.5</td>\n",
       "      <td>55.0</td>\n",
       "      <td>326</td>\n",
       "      <td>3.95</td>\n",
       "      <td>3.98</td>\n",
       "      <td>2.43</td>\n",
       "    </tr>\n",
       "    <tr>\n",
       "      <th>1</th>\n",
       "      <td>0.21</td>\n",
       "      <td>Premium</td>\n",
       "      <td>E</td>\n",
       "      <td>SI1</td>\n",
       "      <td>59.8</td>\n",
       "      <td>61.0</td>\n",
       "      <td>326</td>\n",
       "      <td>3.89</td>\n",
       "      <td>3.84</td>\n",
       "      <td>2.31</td>\n",
       "    </tr>\n",
       "    <tr>\n",
       "      <th>2</th>\n",
       "      <td>0.23</td>\n",
       "      <td>Good</td>\n",
       "      <td>E</td>\n",
       "      <td>VS1</td>\n",
       "      <td>56.9</td>\n",
       "      <td>65.0</td>\n",
       "      <td>327</td>\n",
       "      <td>4.05</td>\n",
       "      <td>4.07</td>\n",
       "      <td>2.31</td>\n",
       "    </tr>\n",
       "    <tr>\n",
       "      <th>3</th>\n",
       "      <td>0.29</td>\n",
       "      <td>Premium</td>\n",
       "      <td>I</td>\n",
       "      <td>VS2</td>\n",
       "      <td>62.4</td>\n",
       "      <td>58.0</td>\n",
       "      <td>334</td>\n",
       "      <td>4.20</td>\n",
       "      <td>4.23</td>\n",
       "      <td>2.63</td>\n",
       "    </tr>\n",
       "    <tr>\n",
       "      <th>4</th>\n",
       "      <td>0.31</td>\n",
       "      <td>Good</td>\n",
       "      <td>J</td>\n",
       "      <td>SI2</td>\n",
       "      <td>63.3</td>\n",
       "      <td>58.0</td>\n",
       "      <td>335</td>\n",
       "      <td>4.34</td>\n",
       "      <td>4.35</td>\n",
       "      <td>2.75</td>\n",
       "    </tr>\n",
       "    <tr>\n",
       "      <th>...</th>\n",
       "      <td>...</td>\n",
       "      <td>...</td>\n",
       "      <td>...</td>\n",
       "      <td>...</td>\n",
       "      <td>...</td>\n",
       "      <td>...</td>\n",
       "      <td>...</td>\n",
       "      <td>...</td>\n",
       "      <td>...</td>\n",
       "      <td>...</td>\n",
       "    </tr>\n",
       "    <tr>\n",
       "      <th>53935</th>\n",
       "      <td>0.72</td>\n",
       "      <td>Ideal</td>\n",
       "      <td>D</td>\n",
       "      <td>SI1</td>\n",
       "      <td>60.8</td>\n",
       "      <td>57.0</td>\n",
       "      <td>2757</td>\n",
       "      <td>5.75</td>\n",
       "      <td>5.76</td>\n",
       "      <td>3.50</td>\n",
       "    </tr>\n",
       "    <tr>\n",
       "      <th>53936</th>\n",
       "      <td>0.72</td>\n",
       "      <td>Good</td>\n",
       "      <td>D</td>\n",
       "      <td>SI1</td>\n",
       "      <td>63.1</td>\n",
       "      <td>55.0</td>\n",
       "      <td>2757</td>\n",
       "      <td>5.69</td>\n",
       "      <td>5.75</td>\n",
       "      <td>3.61</td>\n",
       "    </tr>\n",
       "    <tr>\n",
       "      <th>53937</th>\n",
       "      <td>0.70</td>\n",
       "      <td>Very Good</td>\n",
       "      <td>D</td>\n",
       "      <td>SI1</td>\n",
       "      <td>62.8</td>\n",
       "      <td>60.0</td>\n",
       "      <td>2757</td>\n",
       "      <td>5.66</td>\n",
       "      <td>5.68</td>\n",
       "      <td>3.56</td>\n",
       "    </tr>\n",
       "    <tr>\n",
       "      <th>53938</th>\n",
       "      <td>0.86</td>\n",
       "      <td>Premium</td>\n",
       "      <td>H</td>\n",
       "      <td>SI2</td>\n",
       "      <td>61.0</td>\n",
       "      <td>58.0</td>\n",
       "      <td>2757</td>\n",
       "      <td>6.15</td>\n",
       "      <td>6.12</td>\n",
       "      <td>3.74</td>\n",
       "    </tr>\n",
       "    <tr>\n",
       "      <th>53939</th>\n",
       "      <td>0.75</td>\n",
       "      <td>Ideal</td>\n",
       "      <td>D</td>\n",
       "      <td>SI2</td>\n",
       "      <td>62.2</td>\n",
       "      <td>55.0</td>\n",
       "      <td>2757</td>\n",
       "      <td>5.83</td>\n",
       "      <td>5.87</td>\n",
       "      <td>3.64</td>\n",
       "    </tr>\n",
       "  </tbody>\n",
       "</table>\n",
       "<p>53940 rows × 10 columns</p>\n",
       "</div>"
      ],
      "text/plain": [
       "       carat        cut color clarity  depth  table  price     x     y     z\n",
       "0       0.23      Ideal     E     SI2   61.5   55.0    326  3.95  3.98  2.43\n",
       "1       0.21    Premium     E     SI1   59.8   61.0    326  3.89  3.84  2.31\n",
       "2       0.23       Good     E     VS1   56.9   65.0    327  4.05  4.07  2.31\n",
       "3       0.29    Premium     I     VS2   62.4   58.0    334  4.20  4.23  2.63\n",
       "4       0.31       Good     J     SI2   63.3   58.0    335  4.34  4.35  2.75\n",
       "...      ...        ...   ...     ...    ...    ...    ...   ...   ...   ...\n",
       "53935   0.72      Ideal     D     SI1   60.8   57.0   2757  5.75  5.76  3.50\n",
       "53936   0.72       Good     D     SI1   63.1   55.0   2757  5.69  5.75  3.61\n",
       "53937   0.70  Very Good     D     SI1   62.8   60.0   2757  5.66  5.68  3.56\n",
       "53938   0.86    Premium     H     SI2   61.0   58.0   2757  6.15  6.12  3.74\n",
       "53939   0.75      Ideal     D     SI2   62.2   55.0   2757  5.83  5.87  3.64\n",
       "\n",
       "[53940 rows x 10 columns]"
      ]
     },
     "execution_count": 2,
     "metadata": {},
     "output_type": "execute_result"
    }
   ],
   "source": [
    "df = pd.read_parquet(\"../../../data/regression/diamonds.parquet\")\n",
    "df"
   ]
  },
  {
   "cell_type": "markdown",
   "metadata": {},
   "source": [
    "### EDA\n",
    "\n",
    "We begin by examining the categorical features of the dataset."
   ]
  },
  {
   "cell_type": "code",
   "execution_count": 3,
   "metadata": {},
   "outputs": [
    {
     "data": {
      "image/png": "[encoded data removed]",
      "text/plain": [
       "<Figure size 864x648 with 3 Axes>"
      ]
     },
     "metadata": {
      "needs_background": "light"
     },
     "output_type": "display_data"
    }
   ],
   "source": [
    "plt.figure(figsize=(12, 9))\n",
    "plt.subplots_adjust(hspace=0.5)\n",
    "plt.suptitle(\"Categorical Features\", fontsize=18, y=0.95)\n",
    "\n",
    "# loop through the length of tickers and keep track of index\n",
    "for index, feature in enumerate([\"cut\", \"clarity\", \"cut\"]):\n",
    "    # Instantiate the subplot\n",
    "    axes = plt.subplot(2, 2, index + 1)\n",
    "\n",
    "    # Create histogram\n",
    "    df[feature].hist(ax=axes)\n",
    "\n",
    "    # Formatting\n",
    "    axes.set_title(feature.title())\n",
    "    axes.grid(False)\n",
    "    axes.set_xlabel(\"\")"
   ]
  },
  {
   "cell_type": "markdown",
   "metadata": {},
   "source": [
    "We would like to preserve the proportions of the imbalanced distributions of the target classes in the test set, ensuring that the proportionality of `fair` samples is preserved."
   ]
  },
  {
   "cell_type": "code",
   "execution_count": 4,
   "metadata": {},
   "outputs": [],
   "source": [
    "# Cross-validator object of class StratifiedShuffleSplit\n",
    "cv_object = StratifiedShuffleSplit(n_splits=1, test_size=0.3, random_state=12)\n",
    "# Use the split() method for the StratifiedShuffleSplit class\n",
    "# This method generates indices to split data into training and test set\n",
    "for train_index, test_index in cv_object.split(df.drop(columns=\"cut\"), df[\"cut\"]):\n",
    "    train_set = df.loc[train_index]\n",
    "    test_set = df.loc[test_index]"
   ]
  },
  {
   "cell_type": "markdown",
   "metadata": {},
   "source": [
    "To check the results of the split:"
   ]
  },
  {
   "cell_type": "code",
   "execution_count": 5,
   "metadata": {},
   "outputs": [
    {
     "data": {
      "text/html": [
       "<div>\n",
       "<style scoped>\n",
       "    .dataframe tbody tr th:only-of-type {\n",
       "        vertical-align: middle;\n",
       "    }\n",
       "\n",
       "    .dataframe tbody tr th {\n",
       "        vertical-align: top;\n",
       "    }\n",
       "\n",
       "    .dataframe thead th {\n",
       "        text-align: right;\n",
       "    }\n",
       "</style>\n",
       "<table border=\"1\" class=\"dataframe\">\n",
       "  <thead>\n",
       "    <tr style=\"text-align: right;\">\n",
       "      <th></th>\n",
       "      <th>Full Data Set</th>\n",
       "      <th>Training Set</th>\n",
       "      <th>Test Set</th>\n",
       "      <th>Training set Error Rate %</th>\n",
       "      <th>Test set Error Rate %</th>\n",
       "    </tr>\n",
       "  </thead>\n",
       "  <tbody>\n",
       "    <tr>\n",
       "      <th>Fair</th>\n",
       "      <td>0.029848</td>\n",
       "      <td>0.029848</td>\n",
       "      <td>0.029848</td>\n",
       "      <td>0.000000</td>\n",
       "      <td>0.000000</td>\n",
       "    </tr>\n",
       "    <tr>\n",
       "      <th>Good</th>\n",
       "      <td>0.090953</td>\n",
       "      <td>0.090948</td>\n",
       "      <td>0.090965</td>\n",
       "      <td>-0.005824</td>\n",
       "      <td>0.013589</td>\n",
       "    </tr>\n",
       "    <tr>\n",
       "      <th>Ideal</th>\n",
       "      <td>0.399537</td>\n",
       "      <td>0.399544</td>\n",
       "      <td>0.399518</td>\n",
       "      <td>0.001989</td>\n",
       "      <td>-0.004640</td>\n",
       "    </tr>\n",
       "    <tr>\n",
       "      <th>Premium</th>\n",
       "      <td>0.255673</td>\n",
       "      <td>0.255681</td>\n",
       "      <td>0.255654</td>\n",
       "      <td>0.003108</td>\n",
       "      <td>-0.007251</td>\n",
       "    </tr>\n",
       "    <tr>\n",
       "      <th>Very Good</th>\n",
       "      <td>0.223990</td>\n",
       "      <td>0.223979</td>\n",
       "      <td>0.224014</td>\n",
       "      <td>-0.004730</td>\n",
       "      <td>0.011036</td>\n",
       "    </tr>\n",
       "  </tbody>\n",
       "</table>\n",
       "</div>"
      ],
      "text/plain": [
       "           Full Data Set  Training Set  Test Set  Training set Error Rate %  \\\n",
       "Fair            0.029848      0.029848  0.029848                   0.000000   \n",
       "Good            0.090953      0.090948  0.090965                  -0.005824   \n",
       "Ideal           0.399537      0.399544  0.399518                   0.001989   \n",
       "Premium         0.255673      0.255681  0.255654                   0.003108   \n",
       "Very Good       0.223990      0.223979  0.224014                  -0.004730   \n",
       "\n",
       "           Test set Error Rate %  \n",
       "Fair                    0.000000  \n",
       "Good                    0.013589  \n",
       "Ideal                  -0.004640  \n",
       "Premium                -0.007251  \n",
       "Very Good               0.011036  "
      ]
     },
     "execution_count": 5,
     "metadata": {},
     "output_type": "execute_result"
    }
   ],
   "source": [
    "# Define a function that computes the sample proportions\n",
    "def prop(data):\n",
    "    return data.cut.value_counts() / len(data)\n",
    "\n",
    "\n",
    "# Create a data frame\n",
    "prop_table = pd.DataFrame(\n",
    "    {\n",
    "        \"Full Data Set\": prop(data=df),\n",
    "        \"Training Set\": prop(data=train_set),\n",
    "        \"Test Set\": prop(data=test_set),\n",
    "    }\n",
    ").sort_index()\n",
    "# Add error rates using percentage change formula\n",
    "prop_table[\"Training set Error Rate %\"] = (\n",
    "    prop_table[\"Training Set\"] / prop_table[\"Full Data Set\"] - 1\n",
    ") * 100\n",
    "prop_table[\"Test set Error Rate %\"] = (\n",
    "    prop_table[\"Test Set\"] / prop_table[\"Full Data Set\"] - 1\n",
    ") * 100\n",
    "# Display table\n",
    "prop_table"
   ]
  },
  {
   "cell_type": "markdown",
   "metadata": {},
   "source": [
    "Finally, we create the training and test splits for the input feature matrix `X` and target vector `y`."
   ]
  },
  {
   "cell_type": "code",
   "execution_count": 6,
   "metadata": {},
   "outputs": [],
   "source": [
    "# Train\n",
    "X_train, y_train = train_set.drop(columns=\"cut\"), train_set.cut\n",
    "# Test\n",
    "X_test, y_test = test_set.drop(columns=\"cut\"), test_set.cut"
   ]
  },
  {
   "cell_type": "code",
   "execution_count": 7,
   "metadata": {},
   "outputs": [
    {
     "data": {
      "text/plain": [
       "((37758, 9), (37758,))"
      ]
     },
     "execution_count": 7,
     "metadata": {},
     "output_type": "execute_result"
    }
   ],
   "source": [
    "X_train.shape, y_train.shape"
   ]
  },
  {
   "cell_type": "markdown",
   "metadata": {},
   "source": [
    "### Pipeline For Features"
   ]
  },
  {
   "cell_type": "code",
   "execution_count": 8,
   "metadata": {},
   "outputs": [],
   "source": [
    "# First, generate the polynomial features\n",
    "poly_pipeline = Pipeline(\n",
    "    steps=[\n",
    "        (\"polynomial\", PolynomialFeatures(degree=2, include_bias=False)),\n",
    "        (\"scaler\", StandardScaler()),\n",
    "    ]\n",
    ")\n",
    "\n",
    "# Apply one-hot encoding to categorical features\n",
    "cat_pipeline = Pipeline(steps=[(\"encoder\", OneHotEncoder(handle_unknown=\"ignore\"))])\n",
    "\n",
    "# Select K-best using ANOVA partial F-test\n",
    "# A feature will be selected if it statistically significantly reduces error in a simple univariate model between the target and the predictor\n",
    "select_f_classify = SelectKBest(k=25)\n",
    "\n",
    "# Build the preprocessor\n",
    "X_preprocessor = ColumnTransformer(\n",
    "    transformers=[\n",
    "        # (7 + 2) choose (2) minus the bias term = 35 vectors returned\n",
    "        (\"poly\", poly_pipeline, [\"x\", \"z\", \"y\", \"carat\", \"depth\", \"table\", \"price\"]),\n",
    "        (\"cat\", cat_pipeline, [\"color\", \"clarity\"]),\n",
    "    ]\n",
    ")"
   ]
  },
  {
   "cell_type": "markdown",
   "metadata": {},
   "source": [
    "### Ordinal Encoding For Target"
   ]
  },
  {
   "cell_type": "code",
   "execution_count": 9,
   "metadata": {},
   "outputs": [],
   "source": [
    "# Fit encoder on training set\n",
    "encoder = LabelEncoder()\n",
    "y_train_encoded = encoder.fit_transform(y_train)"
   ]
  },
  {
   "cell_type": "code",
   "execution_count": 10,
   "metadata": {},
   "outputs": [
    {
     "data": {
      "text/plain": [
       "array([3, 2, 1, ..., 3, 3, 4])"
      ]
     },
     "execution_count": 10,
     "metadata": {},
     "output_type": "execute_result"
    }
   ],
   "source": [
    "y_train_encoded"
   ]
  },
  {
   "cell_type": "code",
   "execution_count": 11,
   "metadata": {},
   "outputs": [],
   "source": [
    "y_test_encoded = encoder.fit_transform(y_test)"
   ]
  },
  {
   "cell_type": "code",
   "execution_count": 12,
   "metadata": {},
   "outputs": [
    {
     "data": {
      "text/plain": [
       "array(['Fair', 'Good', 'Ideal', 'Premium', 'Very Good'], dtype=object)"
      ]
     },
     "execution_count": 12,
     "metadata": {},
     "output_type": "execute_result"
    }
   ],
   "source": [
    "encoder.classes_"
   ]
  },
  {
   "cell_type": "markdown",
   "metadata": {},
   "source": [
    "### Feature Selection\n",
    "\n",
    "Using univariate partial F-tests, we obtain the following feature spaces for the training and test sets:"
   ]
  },
  {
   "cell_type": "code",
   "execution_count": 13,
   "metadata": {},
   "outputs": [],
   "source": [
    "X_train_preprocessed = X_preprocessor.fit_transform(X_train)"
   ]
  },
  {
   "cell_type": "markdown",
   "metadata": {},
   "source": [
    "The feature scores as as follows:"
   ]
  },
  {
   "cell_type": "code",
   "execution_count": 14,
   "metadata": {},
   "outputs": [],
   "source": [
    "X_train_preprocessed = select_f_classify.fit_transform(\n",
    "    X_train_preprocessed, y_train_encoded\n",
    ")"
   ]
  },
  {
   "cell_type": "code",
   "execution_count": 15,
   "metadata": {},
   "outputs": [
    {
     "data": {
      "text/plain": [
       "array([3.58213056e+02, 3.69380445e+02, 2.85060211e+02, 3.61429901e+02,\n",
       "       1.26255181e+03, 4.50796265e+03, 1.22285126e+02, 3.52273268e+02,\n",
       "       3.51944669e+02, 3.16152113e+02, 3.31006783e+02, 3.99651788e+02,\n",
       "       8.19483970e+02, 1.33320000e+02, 3.68322713e+02, 3.00719632e+02,\n",
       "       3.35041993e+02, 4.51105558e+02, 8.30199278e+02, 1.26867897e+02,\n",
       "       1.06701852e+02, 3.12643489e+02, 3.25131881e+02, 7.04733805e+02,\n",
       "       1.27419991e+02, 2.82561959e+02, 3.81443582e+02, 4.90663134e+02,\n",
       "       1.34397027e+02, 1.40101438e+03, 5.68434299e+03, 1.19336179e+02,\n",
       "       4.42041861e+03, 1.65007341e+02, 7.21460306e+01, 4.76310123e+00,\n",
       "       7.27381245e+00, 2.65421088e+00, 1.65047677e+01, 1.43550955e+01,\n",
       "       1.30752573e+00, 1.87953069e+01, 3.16782328e+02, 1.03548341e+02,\n",
       "       6.48487928e+01, 1.57496283e+02, 1.29537722e+01, 1.90531056e+01,\n",
       "       9.86778025e+01, 8.66512964e+01])"
      ]
     },
     "execution_count": 15,
     "metadata": {},
     "output_type": "execute_result"
    }
   ],
   "source": [
    "select_f_classify.scores_"
   ]
  },
  {
   "cell_type": "code",
   "execution_count": 16,
   "metadata": {},
   "outputs": [
    {
     "data": {
      "text/plain": [
       "(37758, 25)"
      ]
     },
     "execution_count": 16,
     "metadata": {},
     "output_type": "execute_result"
    }
   ],
   "source": [
    "X_train_preprocessed.shape"
   ]
  },
  {
   "cell_type": "markdown",
   "metadata": {},
   "source": [
    "For the test set:"
   ]
  },
  {
   "cell_type": "code",
   "execution_count": 17,
   "metadata": {},
   "outputs": [],
   "source": [
    "X_test_preprocessed = X_preprocessor.transform(X_test)"
   ]
  },
  {
   "cell_type": "code",
   "execution_count": 18,
   "metadata": {},
   "outputs": [],
   "source": [
    "X_test_preprocessed = select_f_classify.fit_transform(\n",
    "    X_test_preprocessed, y_test_encoded\n",
    ")"
   ]
  },
  {
   "cell_type": "code",
   "execution_count": 19,
   "metadata": {},
   "outputs": [
    {
     "data": {
      "text/plain": [
       "(16182, 25)"
      ]
     },
     "execution_count": 19,
     "metadata": {},
     "output_type": "execute_result"
    }
   ],
   "source": [
    "X_test_preprocessed.shape"
   ]
  },
  {
   "cell_type": "markdown",
   "metadata": {},
   "source": [
    "## Decision Tree Classifier"
   ]
  },
  {
   "cell_type": "markdown",
   "metadata": {},
   "source": [
    "### Grid Search"
   ]
  },
  {
   "cell_type": "code",
   "execution_count": 80,
   "metadata": {},
   "outputs": [],
   "source": [
    "param_grid = [\n",
    "    {\n",
    "        \"max_features\": [\"sqrt\", \"log2\"],\n",
    "        \"max_depth\": [1, 25, 50],\n",
    "        \"ccp_alpha\": [0.0, 0.25, 0.5, 0.75],\n",
    "        \"min_samples_split\": [200, 300, 500],\n",
    "    }\n",
    "]\n",
    "\n",
    "grid_search_tree = GridSearchCV(\n",
    "    estimator=DecisionTreeClassifier(random_state=12),\n",
    "    param_grid=param_grid,\n",
    "    # Using StratifiedShuffleSplit to preserve the proportion of each class in the training set\n",
    "    cv=StratifiedShuffleSplit(n_splits=5, test_size=0.3, random_state=12).split(\n",
    "        X_train_preprocessed, y_train_encoded\n",
    "    ),\n",
    "    scoring=\"balanced_accuracy\",\n",
    "    return_train_score=True,\n",
    "    n_jobs=-1,\n",
    "    verbose=1,\n",
    ")"
   ]
  },
  {
   "cell_type": "code",
   "execution_count": 81,
   "metadata": {},
   "outputs": [
    {
     "name": "stdout",
     "output_type": "stream",
     "text": [
      "Fitting 5 folds for each of 72 candidates, totalling 360 fits\n"
     ]
    },
    {
     "name": "stderr",
     "output_type": "stream",
     "text": [
      "[Parallel(n_jobs=-1)]: Using backend LokyBackend with 8 concurrent workers.\n",
      "[Parallel(n_jobs=-1)]: Done  52 tasks      | elapsed:    1.3s\n",
      "[Parallel(n_jobs=-1)]: Done 360 out of 360 | elapsed:    8.1s finished\n"
     ]
    },
    {
     "data": {
      "text/plain": [
       "GridSearchCV(cv=<generator object BaseShuffleSplit.split at 0x134209040>,\n",
       "             estimator=DecisionTreeClassifier(random_state=12), n_jobs=-1,\n",
       "             param_grid=[{'ccp_alpha': [0.0, 0.25, 0.5, 0.75],\n",
       "                          'max_depth': [1, 25, 50],\n",
       "                          'max_features': ['sqrt', 'log2'],\n",
       "                          'min_samples_split': [200, 300, 500]}],\n",
       "             return_train_score=True, scoring='balanced_accuracy', verbose=1)"
      ]
     },
     "execution_count": 81,
     "metadata": {},
     "output_type": "execute_result"
    }
   ],
   "source": [
    "grid_search_tree.fit(X_train_preprocessed, y_train_encoded)"
   ]
  },
  {
   "cell_type": "code",
   "execution_count": 82,
   "metadata": {},
   "outputs": [],
   "source": [
    "# Clone the estimator\n",
    "tree = clone(grid_search_tree.best_estimator_)"
   ]
  },
  {
   "cell_type": "code",
   "execution_count": 83,
   "metadata": {},
   "outputs": [
    {
     "data": {
      "text/plain": [
       "DecisionTreeClassifier(max_depth=50, max_features='sqrt', min_samples_split=200,\n",
       "                       random_state=12)"
      ]
     },
     "execution_count": 83,
     "metadata": {},
     "output_type": "execute_result"
    }
   ],
   "source": [
    "# Fit\n",
    "tree.fit(X_train_preprocessed, y_train_encoded)"
   ]
  },
  {
   "cell_type": "markdown",
   "metadata": {},
   "source": [
    "### Decision Tree Classifier Performance On Training Data\n",
    "\n",
    "The balanced accuracy in binary and multiclass classification problems to deal with imbalanced datasets"
   ]
  },
  {
   "cell_type": "code",
   "execution_count": 84,
   "metadata": {},
   "outputs": [
    {
     "data": {
      "text/plain": [
       "0.6866627108435444"
      ]
     },
     "execution_count": 84,
     "metadata": {},
     "output_type": "execute_result"
    }
   ],
   "source": [
    "# Predictions\n",
    "y_pred_tree = tree.predict(X_train_preprocessed)\n",
    "# Score\n",
    "balanced_accuracy_score(y_train_encoded, y_pred_tree)"
   ]
  },
  {
   "cell_type": "markdown",
   "metadata": {},
   "source": [
    "Another performance meature is `f1_score`, which is the harmonic mean of the precision and recall. The metric is calculated for each label and their averages are weighted by the number of true instances for each label, accounting for label imbalance."
   ]
  },
  {
   "cell_type": "code",
   "execution_count": 129,
   "metadata": {},
   "outputs": [
    {
     "data": {
      "text/plain": [
       "0.7344808435924851"
      ]
     },
     "execution_count": 129,
     "metadata": {},
     "output_type": "execute_result"
    }
   ],
   "source": [
    "# F1 score\n",
    "f1_tree = f1_score(y_train_encoded, y_pred_tree, average=\"weighted\")\n",
    "f1_tree"
   ]
  },
  {
   "cell_type": "markdown",
   "metadata": {},
   "source": [
    "### Decision Tree Classifier Performance On Test Data"
   ]
  },
  {
   "cell_type": "code",
   "execution_count": 85,
   "metadata": {},
   "outputs": [
    {
     "data": {
      "text/plain": [
       "0.3713045811708152"
      ]
     },
     "execution_count": 85,
     "metadata": {},
     "output_type": "execute_result"
    }
   ],
   "source": [
    "y_pred_tree_test = tree.predict(X_test_preprocessed)\n",
    "# Score\n",
    "balanced_accuracy_score(y_test_encoded, y_pred_tree_test)"
   ]
  },
  {
   "cell_type": "code",
   "execution_count": 130,
   "metadata": {},
   "outputs": [
    {
     "data": {
      "text/plain": [
       "0.47807150502352963"
      ]
     },
     "execution_count": 130,
     "metadata": {},
     "output_type": "execute_result"
    }
   ],
   "source": [
    "# F1 score\n",
    "f1_tree_test = f1_score(y_test_encoded, y_pred_tree_test, average=\"weighted\")\n",
    "f1_tree_test"
   ]
  },
  {
   "cell_type": "markdown",
   "metadata": {},
   "source": [
    "## AdaBoost\n",
    "\n",
    "The AdaBoost algorithm using `SVC` as the base estimator:"
   ]
  },
  {
   "cell_type": "code",
   "execution_count": 86,
   "metadata": {},
   "outputs": [],
   "source": [
    "boosted_model = AdaBoostClassifier(\n",
    "    base_estimator=grid_search_tree.best_estimator_,\n",
    "    n_estimators=500,\n",
    "    # Higher learng rate penalizes weak learners with higher error rates more and rewards stronger learners with lower error rates more\n",
    "    learning_rate=1,\n",
    "    random_state=12,\n",
    ")"
   ]
  },
  {
   "cell_type": "code",
   "execution_count": 87,
   "metadata": {},
   "outputs": [
    {
     "data": {
      "text/plain": [
       "AdaBoostClassifier(base_estimator=DecisionTreeClassifier(max_depth=50,\n",
       "                                                         max_features='sqrt',\n",
       "                                                         min_samples_split=200,\n",
       "                                                         random_state=12),\n",
       "                   learning_rate=1, n_estimators=500, random_state=12)"
      ]
     },
     "execution_count": 87,
     "metadata": {},
     "output_type": "execute_result"
    }
   ],
   "source": [
    "boosted_model.fit(X_train_preprocessed, y_train_encoded)"
   ]
  },
  {
   "cell_type": "code",
   "execution_count": 88,
   "metadata": {},
   "outputs": [
    {
     "data": {
      "text/plain": [
       "['../models/boosting/adaboost_classifier.pkl']"
      ]
     },
     "execution_count": 88,
     "metadata": {},
     "output_type": "execute_result"
    }
   ],
   "source": [
    "joblib.dump(boosted_model, \"../models/boosting/adaboost_classifier.pkl\")"
   ]
  },
  {
   "cell_type": "markdown",
   "metadata": {},
   "source": [
    "### Boosted Model Performance On Training Data"
   ]
  },
  {
   "cell_type": "code",
   "execution_count": 89,
   "metadata": {},
   "outputs": [
    {
     "data": {
      "text/plain": [
       "0.8904685019242914"
      ]
     },
     "execution_count": 89,
     "metadata": {},
     "output_type": "execute_result"
    }
   ],
   "source": [
    "# Predictions\n",
    "y_pred_ada = boosted_model.predict(X_train_preprocessed)\n",
    "# Score\n",
    "balanced_accuracy_score(y_train_encoded, y_pred_ada)"
   ]
  },
  {
   "cell_type": "code",
   "execution_count": 131,
   "metadata": {},
   "outputs": [
    {
     "data": {
      "text/plain": [
       "0.8768027905035897"
      ]
     },
     "execution_count": 131,
     "metadata": {},
     "output_type": "execute_result"
    }
   ],
   "source": [
    "# F1 score\n",
    "f1_boosted = f1_score(y_train_encoded, y_pred_ada, average=\"weighted\")\n",
    "f1_boosted"
   ]
  },
  {
   "cell_type": "markdown",
   "metadata": {},
   "source": [
    "### Boosted Model Performance On Test Data"
   ]
  },
  {
   "cell_type": "code",
   "execution_count": 90,
   "metadata": {},
   "outputs": [
    {
     "data": {
      "text/plain": [
       "0.3481069085765429"
      ]
     },
     "execution_count": 90,
     "metadata": {},
     "output_type": "execute_result"
    }
   ],
   "source": [
    "# Predictions\n",
    "y_pred_ada_test = boosted_model.predict(X_test_preprocessed)\n",
    "# Score\n",
    "balanced_accuracy_score(y_test_encoded, y_pred_ada_test)"
   ]
  },
  {
   "cell_type": "code",
   "execution_count": 132,
   "metadata": {},
   "outputs": [
    {
     "data": {
      "text/plain": [
       "0.45442436133401964"
      ]
     },
     "execution_count": 132,
     "metadata": {},
     "output_type": "execute_result"
    }
   ],
   "source": [
    "# F1 score\n",
    "f1_boosted_test = f1_score(y_test_encoded, y_pred_ada_test, average=\"weighted\")\n",
    "f1_boosted_test"
   ]
  },
  {
   "cell_type": "markdown",
   "metadata": {},
   "source": [
    "### Grid Search"
   ]
  },
  {
   "cell_type": "code",
   "execution_count": 91,
   "metadata": {},
   "outputs": [],
   "source": [
    "# Fresh base estimator\n",
    "fresh_tree = clone(grid_search_tree.best_estimator_)"
   ]
  },
  {
   "cell_type": "code",
   "execution_count": 102,
   "metadata": {},
   "outputs": [],
   "source": [
    "# Parameter space\n",
    "param_grid = {\"n_estimators\": [500, 700, 1000], \"learning_rate\": [0.5, 1, 5, 10]}\n",
    "\n",
    "# Base estimator\n",
    "ada_base_estimator = AdaBoostClassifier(base_estimator=fresh_tree, random_state=12)\n",
    "\n",
    "grid_search_adaboost = GridSearchCV(\n",
    "    estimator=ada_base_estimator,\n",
    "    param_grid=param_grid,\n",
    "    cv=StratifiedShuffleSplit(n_splits=5, test_size=0.3, random_state=12).split(\n",
    "        X_train_preprocessed, y_train_encoded\n",
    "    ),\n",
    "    # Use a different scoring function to evaluate the model than decision tree\n",
    "    scoring=\"f1_weighted\",\n",
    "    return_train_score=True,\n",
    "    n_jobs=-1,\n",
    "    verbose=3,\n",
    ")"
   ]
  },
  {
   "cell_type": "code",
   "execution_count": 103,
   "metadata": {},
   "outputs": [
    {
     "name": "stdout",
     "output_type": "stream",
     "text": [
      "Fitting 5 folds for each of 12 candidates, totalling 60 fits\n"
     ]
    },
    {
     "name": "stderr",
     "output_type": "stream",
     "text": [
      "[Parallel(n_jobs=-1)]: Using backend LokyBackend with 8 concurrent workers.\n"
     ]
    },
    {
     "name": "stdout",
     "output_type": "stream",
     "text": [
      "[CV] learning_rate=0.5, n_estimators=700 .............................\n",
      "[CV] learning_rate=0.5, n_estimators=500 .............................\n",
      "[CV] learning_rate=0.5, n_estimators=500 .............................\n",
      "[CV] learning_rate=0.5, n_estimators=500 .............................\n",
      "[CV] learning_rate=0.5, n_estimators=500 .............................\n",
      "[CV] learning_rate=0.5, n_estimators=700 .............................\n",
      "[CV] learning_rate=0.5, n_estimators=700 .............................\n",
      "[CV] learning_rate=0.5, n_estimators=500 .............................\n",
      "[CV]  learning_rate=0.5, n_estimators=500, score=(train=0.886, test=0.726), total= 3.5min\n",
      "[CV] learning_rate=0.5, n_estimators=700 .............................\n",
      "[CV]  learning_rate=0.5, n_estimators=500, score=(train=0.884, test=0.732), total= 3.5min\n",
      "[CV] learning_rate=0.5, n_estimators=700 .............................\n",
      "[CV]  learning_rate=0.5, n_estimators=500, score=(train=0.884, test=0.723), total= 3.6min\n",
      "[CV] learning_rate=0.5, n_estimators=1000 ............................\n",
      "[CV]  learning_rate=0.5, n_estimators=500, score=(train=0.892, test=0.730), total= 3.6min\n",
      "[CV] learning_rate=0.5, n_estimators=1000 ............................\n",
      "[CV]  learning_rate=0.5, n_estimators=500, score=(train=0.889, test=0.728), total= 3.6min\n",
      "[CV] learning_rate=0.5, n_estimators=1000 ............................\n",
      "[CV]  learning_rate=0.5, n_estimators=700, score=(train=0.891, test=0.729), total= 4.9min\n",
      "[CV] learning_rate=0.5, n_estimators=1000 ............................\n",
      "[CV]  learning_rate=0.5, n_estimators=700, score=(train=0.888, test=0.731), total= 4.9min\n",
      "[CV] learning_rate=0.5, n_estimators=1000 ............................\n",
      "[CV]  learning_rate=0.5, n_estimators=700, score=(train=0.894, test=0.736), total= 5.1min\n",
      "[CV] learning_rate=1, n_estimators=500 ...............................\n",
      "[CV]  learning_rate=1, n_estimators=500, score=(train=0.881, test=0.729), total= 3.1min\n",
      "[CV] learning_rate=1, n_estimators=500 ...............................\n",
      "[CV]  learning_rate=0.5, n_estimators=700, score=(train=0.888, test=0.728), total= 5.0min\n",
      "[CV] learning_rate=1, n_estimators=500 ...............................\n",
      "[CV]  learning_rate=0.5, n_estimators=700, score=(train=0.898, test=0.736), total= 5.1min\n",
      "[CV] learning_rate=1, n_estimators=500 ...............................\n",
      "[CV]  learning_rate=0.5, n_estimators=1000, score=(train=0.893, test=0.727), total= 6.9min\n",
      "[CV] learning_rate=1, n_estimators=500 ...............................\n",
      "[CV]  learning_rate=0.5, n_estimators=1000, score=(train=0.890, test=0.731), total= 6.9min\n",
      "[CV] learning_rate=1, n_estimators=700 ...............................\n",
      "[CV]  learning_rate=0.5, n_estimators=1000, score=(train=0.898, test=0.737), total= 7.2min\n",
      "[CV] learning_rate=1, n_estimators=700 ...............................\n",
      "[CV]  learning_rate=1, n_estimators=500, score=(train=0.875, test=0.727), total= 2.8min\n",
      "[CV] learning_rate=1, n_estimators=700 ...............................\n",
      "[CV]  learning_rate=1, n_estimators=500, score=(train=0.879, test=0.723), total= 3.0min\n",
      "[CV] learning_rate=1, n_estimators=700 ...............................\n"
     ]
    },
    {
     "name": "stderr",
     "output_type": "stream",
     "text": [
      "[Parallel(n_jobs=-1)]: Done  16 tasks      | elapsed: 11.9min\n"
     ]
    },
    {
     "name": "stdout",
     "output_type": "stream",
     "text": [
      "[CV]  learning_rate=1, n_estimators=500, score=(train=0.879, test=0.725), total= 2.9min\n",
      "[CV] learning_rate=1, n_estimators=700 ...............................\n",
      "[CV]  learning_rate=0.5, n_estimators=1000, score=(train=0.890, test=0.730), total= 7.1min\n",
      "[CV] learning_rate=1, n_estimators=1000 ..............................\n",
      "[CV]  learning_rate=0.5, n_estimators=1000, score=(train=0.899, test=0.737), total= 7.2min\n",
      "[CV] learning_rate=1, n_estimators=1000 ..............................\n",
      "[CV]  learning_rate=1, n_estimators=500, score=(train=0.875, test=0.729), total= 3.1min\n",
      "[CV] learning_rate=1, n_estimators=1000 ..............................\n",
      "[CV]  learning_rate=1, n_estimators=700, score=(train=0.883, test=0.731), total= 4.1min\n",
      "[CV] learning_rate=1, n_estimators=1000 ..............................\n",
      "[CV]  learning_rate=1, n_estimators=700, score=(train=0.881, test=0.732), total= 3.9min\n",
      "[CV] learning_rate=1, n_estimators=1000 ..............................\n",
      "[CV]  learning_rate=1, n_estimators=700, score=(train=0.881, test=0.727), total= 4.0min\n",
      "[CV] learning_rate=5, n_estimators=500 ...............................\n",
      "[CV]  learning_rate=5, n_estimators=500, score=(train=0.485, test=0.476), total=  17.9s\n",
      "[CV] learning_rate=5, n_estimators=500 ...............................\n",
      "[CV]  learning_rate=1, n_estimators=700, score=(train=0.880, test=0.732), total= 4.0min\n",
      "[CV] learning_rate=5, n_estimators=500 ...............................\n",
      "[CV]  learning_rate=1, n_estimators=700, score=(train=0.878, test=0.725), total= 4.1min\n",
      "[CV] learning_rate=5, n_estimators=500 ...............................\n",
      "[CV]  learning_rate=5, n_estimators=500, score=(train=0.484, test=0.467), total=  16.6s\n",
      "[CV] learning_rate=5, n_estimators=500 ...............................\n",
      "[CV]  learning_rate=5, n_estimators=500, score=(train=0.551, test=0.534), total=  16.2s\n",
      "[CV] learning_rate=5, n_estimators=700 ...............................\n",
      "[CV]  learning_rate=5, n_estimators=500, score=(train=0.457, test=0.449), total=  16.2s\n",
      "[CV] learning_rate=5, n_estimators=700 ...............................\n",
      "[CV]  learning_rate=5, n_estimators=500, score=(train=0.445, test=0.432), total=  15.8s\n",
      "[CV] learning_rate=5, n_estimators=700 ...............................\n",
      "[CV]  learning_rate=5, n_estimators=700, score=(train=0.487, test=0.478), total=  20.5s\n",
      "[CV] learning_rate=5, n_estimators=700 ...............................\n",
      "[CV]  learning_rate=5, n_estimators=700, score=(train=0.491, test=0.475), total=  20.6s\n",
      "[CV] learning_rate=5, n_estimators=700 ...............................\n",
      "[CV]  learning_rate=5, n_estimators=700, score=(train=0.545, test=0.529), total=  20.6s\n",
      "[CV] learning_rate=5, n_estimators=1000 ..............................\n",
      "[CV]  learning_rate=5, n_estimators=700, score=(train=0.456, test=0.447), total=  20.9s\n",
      "[CV] learning_rate=5, n_estimators=1000 ..............................\n",
      "[CV]  learning_rate=5, n_estimators=700, score=(train=0.441, test=0.426), total=  20.8s\n",
      "[CV] learning_rate=5, n_estimators=1000 ..............................\n",
      "[CV]  learning_rate=5, n_estimators=1000, score=(train=0.482, test=0.475), total=  27.4s\n",
      "[CV] learning_rate=5, n_estimators=1000 ..............................\n",
      "[CV]  learning_rate=5, n_estimators=1000, score=(train=0.482, test=0.467), total=  27.4s\n",
      "[CV] learning_rate=5, n_estimators=1000 ..............................\n",
      "[CV]  learning_rate=1, n_estimators=1000, score=(train=0.880, test=0.734), total= 5.3min\n",
      "[CV] learning_rate=10, n_estimators=500 ..............................\n",
      "[CV]  learning_rate=5, n_estimators=1000, score=(train=0.553, test=0.535), total=  26.7s\n",
      "[CV] learning_rate=10, n_estimators=500 ..............................\n",
      "[CV]  learning_rate=10, n_estimators=500, score=(train=0.309, test=0.303), total=  11.4s\n",
      "[CV] learning_rate=10, n_estimators=500 ..............................\n",
      "[CV]  learning_rate=1, n_estimators=1000, score=(train=0.882, test=0.733), total= 5.6min\n",
      "[CV] learning_rate=10, n_estimators=500 ..............................\n",
      "[CV]  learning_rate=10, n_estimators=500, score=(train=0.350, test=0.349), total=  11.4s\n",
      "[CV] learning_rate=10, n_estimators=500 ..............................\n",
      "[CV]  learning_rate=5, n_estimators=1000, score=(train=0.461, test=0.451), total=  26.1s\n",
      "[CV] learning_rate=10, n_estimators=700 ..............................\n",
      "[CV]  learning_rate=10, n_estimators=500, score=(train=0.386, test=0.380), total=  11.7s\n",
      "[CV] learning_rate=10, n_estimators=700 ..............................\n",
      "[CV]  learning_rate=5, n_estimators=1000, score=(train=0.447, test=0.434), total=  26.4s\n",
      "[CV] learning_rate=10, n_estimators=700 ..............................\n",
      "[CV]  learning_rate=10, n_estimators=500, score=(train=0.440, test=0.438), total=  11.9s\n",
      "[CV] learning_rate=10, n_estimators=700 ..............................\n",
      "[CV]  learning_rate=10, n_estimators=500, score=(train=0.385, test=0.389), total=  12.0s\n",
      "[CV] learning_rate=10, n_estimators=700 ..............................\n",
      "[CV]  learning_rate=10, n_estimators=700, score=(train=0.309, test=0.303), total=  16.5s\n",
      "[CV] learning_rate=10, n_estimators=1000 .............................\n",
      "[CV]  learning_rate=10, n_estimators=700, score=(train=0.350, test=0.349), total=  16.5s\n",
      "[CV] learning_rate=10, n_estimators=1000 .............................\n",
      "[CV]  learning_rate=10, n_estimators=700, score=(train=0.386, test=0.380), total=  16.7s\n",
      "[CV] learning_rate=10, n_estimators=1000 .............................\n",
      "[CV]  learning_rate=10, n_estimators=700, score=(train=0.440, test=0.438), total=  16.9s\n",
      "[CV] learning_rate=10, n_estimators=1000 .............................\n",
      "[CV]  learning_rate=10, n_estimators=700, score=(train=0.385, test=0.389), total=  16.9s\n",
      "[CV] learning_rate=10, n_estimators=1000 .............................\n",
      "[CV]  learning_rate=10, n_estimators=1000, score=(train=0.309, test=0.303), total=  23.2s\n",
      "[CV]  learning_rate=10, n_estimators=1000, score=(train=0.350, test=0.349), total=  22.9s\n",
      "[CV]  learning_rate=10, n_estimators=1000, score=(train=0.386, test=0.380), total=  22.7s\n",
      "[CV]  learning_rate=10, n_estimators=1000, score=(train=0.440, test=0.438), total=  22.2s\n",
      "[CV]  learning_rate=10, n_estimators=1000, score=(train=0.385, test=0.389), total=  21.9s\n",
      "[CV]  learning_rate=1, n_estimators=1000, score=(train=0.881, test=0.726), total= 5.4min\n",
      "[CV]  learning_rate=1, n_estimators=1000, score=(train=0.883, test=0.733), total= 4.9min\n",
      "[CV]  learning_rate=1, n_estimators=1000, score=(train=0.875, test=0.726), total= 4.9min\n"
     ]
    },
    {
     "name": "stderr",
     "output_type": "stream",
     "text": [
      "[Parallel(n_jobs=-1)]: Done  60 out of  60 | elapsed: 20.2min finished\n"
     ]
    },
    {
     "data": {
      "text/plain": [
       "GridSearchCV(cv=<generator object BaseShuffleSplit.split at 0x133ecbf20>,\n",
       "             estimator=AdaBoostClassifier(base_estimator=DecisionTreeClassifier(max_depth=50,\n",
       "                                                                                max_features='sqrt',\n",
       "                                                                                min_samples_split=200,\n",
       "                                                                                random_state=12),\n",
       "                                          random_state=12),\n",
       "             n_jobs=-1,\n",
       "             param_grid={'learning_rate': [0.5, 1, 5, 10],\n",
       "                         'n_estimators': [500, 700, 1000]},\n",
       "             return_train_score=True, scoring='f1_weighted', verbose=3)"
      ]
     },
     "execution_count": 103,
     "metadata": {},
     "output_type": "execute_result"
    }
   ],
   "source": [
    "grid_search_adaboost.fit(X_train_preprocessed, y_train_encoded)"
   ]
  },
  {
   "cell_type": "code",
   "execution_count": 104,
   "metadata": {},
   "outputs": [
    {
     "data": {
      "text/plain": [
       "AdaBoostClassifier(base_estimator=DecisionTreeClassifier(max_depth=50,\n",
       "                                                         max_features='sqrt',\n",
       "                                                         min_samples_split=200,\n",
       "                                                         random_state=12),\n",
       "                   learning_rate=0.5, n_estimators=1000, random_state=12)"
      ]
     },
     "execution_count": 104,
     "metadata": {},
     "output_type": "execute_result"
    }
   ],
   "source": [
    "grid_search_adaboost.best_estimator_"
   ]
  },
  {
   "cell_type": "code",
   "execution_count": 105,
   "metadata": {},
   "outputs": [
    {
     "data": {
      "text/plain": [
       "['../models/boosting/adaboost_best_classifier.pkl']"
      ]
     },
     "execution_count": 105,
     "metadata": {},
     "output_type": "execute_result"
    }
   ],
   "source": [
    "joblib.dump(\n",
    "    grid_search_adaboost.best_estimator_,\n",
    "    \"../models/boosting/adaboost_best_classifier.pkl\",\n",
    ")"
   ]
  },
  {
   "cell_type": "markdown",
   "metadata": {},
   "source": [
    "### Tuned Boosted Model Performance On Training Data"
   ]
  },
  {
   "cell_type": "code",
   "execution_count": 106,
   "metadata": {},
   "outputs": [
    {
     "data": {
      "text/plain": [
       "0.8990053357806449"
      ]
     },
     "execution_count": 106,
     "metadata": {},
     "output_type": "execute_result"
    }
   ],
   "source": [
    "# Predictions\n",
    "y_pred_ada_tuned = grid_search_adaboost.best_estimator_.predict(X_train_preprocessed)\n",
    "# Score\n",
    "balanced_accuracy_score(y_train_encoded, y_pred_ada_tuned)"
   ]
  },
  {
   "cell_type": "code",
   "execution_count": 133,
   "metadata": {},
   "outputs": [
    {
     "data": {
      "text/plain": [
       "0.8889614329298399"
      ]
     },
     "execution_count": 133,
     "metadata": {},
     "output_type": "execute_result"
    }
   ],
   "source": [
    "# F1 score\n",
    "f1_tuned_boosted = f1_score(y_train_encoded, y_pred_ada_tuned, average=\"weighted\")\n",
    "f1_tuned_boosted"
   ]
  },
  {
   "cell_type": "markdown",
   "metadata": {},
   "source": [
    "### Tuned Boosted Model Performance On Test Data"
   ]
  },
  {
   "cell_type": "code",
   "execution_count": 108,
   "metadata": {},
   "outputs": [
    {
     "data": {
      "text/plain": [
       "0.3116713538569985"
      ]
     },
     "execution_count": 108,
     "metadata": {},
     "output_type": "execute_result"
    }
   ],
   "source": [
    "# Predictions\n",
    "y_pred_ada_test_tuned = grid_search_adaboost.best_estimator_.predict(\n",
    "    X_test_preprocessed\n",
    ")\n",
    "# Score\n",
    "balanced_accuracy_score(y_test_encoded, y_pred_ada_test_tuned)"
   ]
  },
  {
   "cell_type": "code",
   "execution_count": 134,
   "metadata": {},
   "outputs": [
    {
     "data": {
      "text/plain": [
       "0.363779297674835"
      ]
     },
     "execution_count": 134,
     "metadata": {},
     "output_type": "execute_result"
    }
   ],
   "source": [
    "# F1 score\n",
    "f1_tuned_boosted_test = f1_score(\n",
    "    y_test_encoded, y_pred_ada_test_tuned, average=\"weighted\"\n",
    ")\n",
    "f1_tuned_boosted_test"
   ]
  },
  {
   "cell_type": "code",
   "execution_count": 128,
   "metadata": {},
   "outputs": [
    {
     "data": {
      "text/plain": [
       "<sklearn.metrics._plot.confusion_matrix.ConfusionMatrixDisplay at 0x13416a7f0>"
      ]
     },
     "execution_count": 128,
     "metadata": {},
     "output_type": "execute_result"
    },
    {
     "data": {
      "image/png": "[encoded data removed]",
      "text/plain": [
       "<Figure size 720x720 with 2 Axes>"
      ]
     },
     "metadata": {
      "needs_background": "light"
     },
     "output_type": "display_data"
    }
   ],
   "source": [
    "# Create new axes object\n",
    "fig, ax = plt.subplots(figsize=(10, 10))\n",
    "# Confusion matrix\n",
    "cm = ConfusionMatrixDisplay(confusion_matrix(y_test_encoded, y_pred_ada_test_tuned))\n",
    "cm.plot(ax=ax)"
   ]
  },
  {
   "cell_type": "code",
   "execution_count": 126,
   "metadata": {},
   "outputs": [
    {
     "data": {
      "text/plain": [
       "array(['Fair', 'Good', 'Ideal', 'Premium', 'Very Good'], dtype=object)"
      ]
     },
     "execution_count": 126,
     "metadata": {},
     "output_type": "execute_result"
    }
   ],
   "source": [
    "encoder.classes_"
   ]
  },
  {
   "cell_type": "markdown",
   "metadata": {},
   "source": [
    "## Performance Table"
   ]
  },
  {
   "cell_type": "code",
   "execution_count": 135,
   "metadata": {},
   "outputs": [
    {
     "data": {
      "text/html": [
       "<div>\n",
       "<style scoped>\n",
       "    .dataframe tbody tr th:only-of-type {\n",
       "        vertical-align: middle;\n",
       "    }\n",
       "\n",
       "    .dataframe tbody tr th {\n",
       "        vertical-align: top;\n",
       "    }\n",
       "\n",
       "    .dataframe thead th {\n",
       "        text-align: right;\n",
       "    }\n",
       "</style>\n",
       "<table border=\"1\" class=\"dataframe\">\n",
       "  <thead>\n",
       "    <tr style=\"text-align: right;\">\n",
       "      <th></th>\n",
       "      <th>Performance</th>\n",
       "      <th>DecisionTreeClassifier</th>\n",
       "      <th>AdaBoost With Linear Loss</th>\n",
       "      <th>AdaBoost Tuned</th>\n",
       "    </tr>\n",
       "  </thead>\n",
       "  <tbody>\n",
       "    <tr>\n",
       "      <th>0</th>\n",
       "      <td>F1 Score (Training Data)</td>\n",
       "      <td>0.734481</td>\n",
       "      <td>0.876803</td>\n",
       "      <td>0.888961</td>\n",
       "    </tr>\n",
       "    <tr>\n",
       "      <th>1</th>\n",
       "      <td>F1 Score (Test Data)</td>\n",
       "      <td>0.478072</td>\n",
       "      <td>0.454424</td>\n",
       "      <td>0.363779</td>\n",
       "    </tr>\n",
       "  </tbody>\n",
       "</table>\n",
       "</div>"
      ],
      "text/plain": [
       "                Performance  DecisionTreeClassifier  \\\n",
       "0  F1 Score (Training Data)                0.734481   \n",
       "1      F1 Score (Test Data)                0.478072   \n",
       "\n",
       "   AdaBoost With Linear Loss  AdaBoost Tuned  \n",
       "0                   0.876803        0.888961  \n",
       "1                   0.454424        0.363779  "
      ]
     },
     "execution_count": 135,
     "metadata": {},
     "output_type": "execute_result"
    }
   ],
   "source": [
    "perf_table = pd.DataFrame(\n",
    "    {\n",
    "        \"Performance\": [\"F1 Score (Training Data)\", \"F1 Score (Test Data)\"],\n",
    "        \"DecisionTreeClassifier\": [f1_tree, f1_tree_test],\n",
    "        \"AdaBoost With Linear Loss\": [f1_boosted, f1_boosted_test],\n",
    "        \"AdaBoost Tuned\": [f1_tuned_boosted, f1_tuned_boosted_test],\n",
    "    }\n",
    ")\n",
    "perf_table"
   ]
  }
 ],
 "metadata": {
  "kernelspec": {
   "display_name": "Python 3.9.6 ('python_for_machine_learning')",
   "language": "python",
   "name": "python3"
  },
  "language_info": {
   "codemirror_mode": {
    "name": "ipython",
    "version": 3
   },
   "file_extension": ".py",
   "mimetype": "text/x-python",
   "name": "python",
   "nbconvert_exporter": "python",
   "pygments_lexer": "ipython3",
   "version": "3.9.6"
  },
  "orig_nbformat": 4,
  "vscode": {
   "interpreter": {
    "hash": "40fc6ebffc74793621f684cf09d9f3d0a501c91440a6f462aebac8d38ed47133"
   }
  }
 },
 "nbformat": 4,
 "nbformat_minor": 2
}
