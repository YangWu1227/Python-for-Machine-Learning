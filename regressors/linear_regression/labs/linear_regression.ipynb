{
 "cells": [
  {
   "cell_type": "markdown",
   "id": "c953d165-ce25-471b-9d69-df966ee955d9",
   "metadata": {},
   "source": [
    "# Linear Regression in Python\n",
    "\n",
    "## Table of Content \n",
    "\n",
    "- [Imports](#imports)\n",
    "- [Normal Equation](#normal-equation)\n",
    "- [Scikit-Learn Class](#scikit-learn-class)\n",
    "- [Gradient Descent](#gradient-descent)\n",
    "    - [Batch Gradient Descent](#batch-gradient-descent)\n",
    "    - [Stochastic Gradient Descent](#stochastic-gradient-descent)\n",
    "    - [Mini-batch Gradient Descent](#mini-batch-gradient-descent)"
   ]
  },
  {
   "cell_type": "markdown",
   "id": "e63935f6-c701-4d71-9b94-ea8a12d4e6a1",
   "metadata": {},
   "source": [
    "## Imports <a class=\"anchor\" id=\"imports\"></a>"
   ]
  },
  {
   "cell_type": "code",
   "execution_count": 1,
   "id": "75358cc3-c3d1-4022-9cc7-128d125351fb",
   "metadata": {
    "execution": {
     "iopub.execute_input": "2021-10-23T04:58:14.860734Z",
     "iopub.status.busy": "2021-10-23T04:58:14.860395Z",
     "iopub.status.idle": "2021-10-23T04:58:14.864735Z",
     "shell.execute_reply": "2021-10-23T04:58:14.863920Z",
     "shell.execute_reply.started": "2021-10-23T04:58:14.860713Z"
    },
    "tags": []
   },
   "outputs": [],
   "source": [
    "# Interactive shell\n",
    "from IPython.core.interactiveshell import InteractiveShell\n",
    "\n",
    "InteractiveShell.ast_node_interactivity = \"all\"\n",
    "\n",
    "# Imports\n",
    "import numpy as np\n",
    "\n",
    "# Set random seed\n",
    "np.random.seed(17)\n",
    "\n",
    "# Generate random data\n",
    "X = 2 * np.random.rand(100, 1)\n",
    "y = 4 + 3 * X + np.random.randn(100, 1)"
   ]
  },
  {
   "cell_type": "markdown",
   "id": "ce73e52b-61f2-4f59-8dba-ccce9db10768",
   "metadata": {},
   "source": [
    "* The function `np.random.rand(d0, d1, ..., dn)` takes a tuple (m, n) (where m is the number of rows, and n is the number of columns) to specify the size of the output and creates an array of the given shape, populating it with random samples from a uniform distribution over $[0, 1)$. It is a wrapper function around `random_sample()`.\n",
    "\n",
    "* The function `np.random.randn(d0, d1, ..., dn)` also takes a tuple; it is a wrapper around `standard_normal(size)`, which draws samples from a standard Normal distribution (mean=0, stdev=1). "
   ]
  },
  {
   "cell_type": "code",
   "execution_count": 2,
   "id": "0f8b0852-8c1a-49ed-a076-27964b3ea26e",
   "metadata": {
    "execution": {
     "iopub.execute_input": "2021-10-23T04:58:07.338820Z",
     "iopub.status.busy": "2021-10-23T04:58:07.338574Z",
     "iopub.status.idle": "2021-10-23T04:58:07.343163Z",
     "shell.execute_reply": "2021-10-23T04:58:07.342259Z",
     "shell.execute_reply.started": "2021-10-23T04:58:07.338795Z"
    },
    "tags": []
   },
   "outputs": [
    {
     "data": {
      "text/plain": [
       "(100, 1)"
      ]
     },
     "execution_count": 2,
     "metadata": {},
     "output_type": "execute_result"
    }
   ],
   "source": [
    "# Shape\n",
    "X.shape"
   ]
  },
  {
   "cell_type": "code",
   "execution_count": 3,
   "id": "37fdfbfb-83d5-4da7-8d87-b9b67043b152",
   "metadata": {
    "execution": {
     "iopub.execute_input": "2021-10-23T04:58:16.487172Z",
     "iopub.status.busy": "2021-10-23T04:58:16.486963Z",
     "iopub.status.idle": "2021-10-23T04:58:16.493069Z",
     "shell.execute_reply": "2021-10-23T04:58:16.492472Z",
     "shell.execute_reply.started": "2021-10-23T04:58:16.487153Z"
    },
    "tags": []
   },
   "outputs": [
    {
     "data": {
      "text/plain": [
       "array([[0.58933001],\n",
       "       [1.06117351],\n",
       "       [0.38304157],\n",
       "       [0.13580072],\n",
       "       [1.57397092],\n",
       "       [1.31266704],\n",
       "       [1.27504179],\n",
       "       [1.15120579],\n",
       "       [0.07812583]])"
      ]
     },
     "execution_count": 3,
     "metadata": {},
     "output_type": "execute_result"
    },
    {
     "data": {
      "text/plain": [
       "array([[5.22701012],\n",
       "       [8.70793778],\n",
       "       [6.35750985],\n",
       "       [4.45867943],\n",
       "       [8.29528155],\n",
       "       [8.74594136],\n",
       "       [7.88240514],\n",
       "       [6.41344579],\n",
       "       [5.16852558]])"
      ]
     },
     "execution_count": 3,
     "metadata": {},
     "output_type": "execute_result"
    }
   ],
   "source": [
    "# Examine\n",
    "X[0:9]\n",
    "y[0:9]"
   ]
  },
  {
   "cell_type": "markdown",
   "id": "06cd130f-7fce-48fd-abaa-17e4ec5466b2",
   "metadata": {
    "execution": {
     "iopub.execute_input": "2021-10-23T04:09:26.910957Z",
     "iopub.status.busy": "2021-10-23T04:09:26.910680Z",
     "iopub.status.idle": "2021-10-23T04:09:26.915740Z",
     "shell.execute_reply": "2021-10-23T04:09:26.915019Z",
     "shell.execute_reply.started": "2021-10-23T04:09:26.910929Z"
    },
    "tags": []
   },
   "source": [
    "We can draw a scatter plot as follows:"
   ]
  },
  {
   "cell_type": "code",
   "execution_count": 4,
   "id": "a4285b85-0c84-4eb9-8f9c-dbed790cda8a",
   "metadata": {
    "execution": {
     "iopub.execute_input": "2021-10-23T04:58:21.553537Z",
     "iopub.status.busy": "2021-10-23T04:58:21.553257Z",
     "iopub.status.idle": "2021-10-23T04:58:21.756032Z",
     "shell.execute_reply": "2021-10-23T04:58:21.755363Z",
     "shell.execute_reply.started": "2021-10-23T04:58:21.553508Z"
    },
    "tags": []
   },
   "outputs": [
    {
     "data": {
      "image/png": "[encoded data removed]",
      "text/plain": [
       "<Figure size 640x480 with 1 Axes>"
      ]
     },
     "metadata": {},
     "output_type": "display_data"
    },
    {
     "data": {
      "text/plain": [
       "<ggplot: (312070732)>"
      ]
     },
     "execution_count": 4,
     "metadata": {},
     "output_type": "execute_result"
    }
   ],
   "source": [
    "# Import\n",
    "import pandas as pd\n",
    "from plotnine import (\n",
    "    ggplot,\n",
    "    geom_point,\n",
    "    aes,\n",
    "    geom_smooth,\n",
    "    theme,\n",
    "    element_blank,\n",
    "    element_rect,\n",
    "    labs,\n",
    ")\n",
    "\n",
    "# Scatter plot\n",
    "(\n",
    "    ggplot(\n",
    "        data=pd.DataFrame(\n",
    "            np.concatenate([y, X], axis=1), columns=[\"response\", \"predictor\"]\n",
    "        ),\n",
    "        mapping=aes(x=\"predictor\", y=\"response\"),\n",
    "    )\n",
    "    + geom_point(color=\"orange\")\n",
    "    + labs(title=\"Scatter Plot\")\n",
    "    + theme(panel_grid=element_blank(), panel_background=element_rect(fill=\"white\"))\n",
    ")"
   ]
  },
  {
   "cell_type": "markdown",
   "id": "83974f1f-fe5f-422c-93f7-74f3f40a8293",
   "metadata": {
    "execution": {
     "iopub.execute_input": "2021-10-23T04:47:07.431151Z",
     "iopub.status.busy": "2021-10-23T04:47:07.430916Z",
     "iopub.status.idle": "2021-10-23T04:47:07.434980Z",
     "shell.execute_reply": "2021-10-23T04:47:07.434252Z",
     "shell.execute_reply.started": "2021-10-23T04:47:07.431127Z"
    },
    "tags": []
   },
   "source": [
    "## Normal Equation <a class=\"anchor\" id=\"normal-equation\"></a>\n",
    "\n",
    "We can compute the vector of estimated coefficients using the normal equation:"
   ]
  },
  {
   "cell_type": "code",
   "execution_count": 5,
   "id": "5b3d28f3-aec2-4e88-9ce8-fc985698db12",
   "metadata": {
    "execution": {
     "iopub.execute_input": "2021-10-23T04:58:19.526051Z",
     "iopub.status.busy": "2021-10-23T04:58:19.525801Z",
     "iopub.status.idle": "2021-10-23T04:58:19.531903Z",
     "shell.execute_reply": "2021-10-23T04:58:19.530932Z",
     "shell.execute_reply.started": "2021-10-23T04:58:19.526028Z"
    },
    "tags": []
   },
   "outputs": [
    {
     "data": {
      "text/plain": [
       "array([[1.        , 0.58933001],\n",
       "       [1.        , 1.06117351],\n",
       "       [1.        , 0.38304157],\n",
       "       [1.        , 0.13580072],\n",
       "       [1.        , 1.57397092],\n",
       "       [1.        , 1.31266704],\n",
       "       [1.        , 1.27504179],\n",
       "       [1.        , 1.15120579],\n",
       "       [1.        , 0.07812583]])"
      ]
     },
     "execution_count": 5,
     "metadata": {},
     "output_type": "execute_result"
    }
   ],
   "source": [
    "# Concatenate a column of 1's to the vector of feature values X\n",
    "X_b = np.concatenate([np.ones(shape=(100, 1)), X], axis=1)\n",
    "# Another method is to use the short hand\n",
    "X_b = np.c_[np.ones(shape=(100, 1)), X]\n",
    "X_b[0:9]"
   ]
  },
  {
   "cell_type": "code",
   "execution_count": 6,
   "id": "9e6de429-5314-4442-911d-4bf21dc3e37e",
   "metadata": {
    "execution": {
     "iopub.execute_input": "2021-10-23T04:58:24.463310Z",
     "iopub.status.busy": "2021-10-23T04:58:24.462998Z",
     "iopub.status.idle": "2021-10-23T04:58:24.468698Z",
     "shell.execute_reply": "2021-10-23T04:58:24.467811Z",
     "shell.execute_reply.started": "2021-10-23T04:58:24.463289Z"
    },
    "tags": []
   },
   "outputs": [
    {
     "data": {
      "text/plain": [
       "array([[3.89053611],\n",
       "       [3.21724034]])"
      ]
     },
     "execution_count": 6,
     "metadata": {},
     "output_type": "execute_result"
    }
   ],
   "source": [
    "# Solve the linear system\n",
    "theta_normal = np.linalg.inv(a=X_b.T.dot(X_b)).dot(X_b.T).dot(y)\n",
    "theta_normal"
   ]
  },
  {
   "cell_type": "markdown",
   "id": "2b33b117-8cc8-41f7-81da-85e153af5a03",
   "metadata": {},
   "source": [
    "* The function `np.linalg.inv(a)` is from the `linalg` module, which computes the (multiplicative) inverse of a matrix. Given a square matrix $a$, this function returns the matrix $a^{-1}$ satisfying `dot(a, ainv)` = `dot(ainv, a)` = `eye(a.shape[0])`\n",
    "\n",
    "To make predictions:"
   ]
  },
  {
   "cell_type": "code",
   "execution_count": 7,
   "id": "7e6e9540-f1e3-4a1f-b5eb-8f992751e95c",
   "metadata": {
    "execution": {
     "iopub.execute_input": "2021-10-23T05:02:54.636672Z",
     "iopub.status.busy": "2021-10-23T05:02:54.636349Z",
     "iopub.status.idle": "2021-10-23T05:02:54.642680Z",
     "shell.execute_reply": "2021-10-23T05:02:54.641886Z",
     "shell.execute_reply.started": "2021-10-23T05:02:54.636641Z"
    },
    "tags": []
   },
   "outputs": [
    {
     "data": {
      "text/plain": [
       "array([[1., 0.],\n",
       "       [1., 2.]])"
      ]
     },
     "execution_count": 7,
     "metadata": {},
     "output_type": "execute_result"
    }
   ],
   "source": [
    "# New values of X\n",
    "X_new = np.array([[0], [2]])\n",
    "# Add intercept columns of 1's\n",
    "X_new_b = np.c_[np.ones(shape=(2, 1)), X_new]\n",
    "X_new_b"
   ]
  },
  {
   "cell_type": "markdown",
   "id": "bef5976c",
   "metadata": {},
   "source": [
    "Next, we can compute the matrix product of the design matrix and the vector of estimated coefficients: "
   ]
  },
  {
   "cell_type": "code",
   "execution_count": 8,
   "id": "1c1fc178",
   "metadata": {},
   "outputs": [
    {
     "data": {
      "text/plain": [
       "array([[ 3.89053611],\n",
       "       [10.3250168 ]])"
      ]
     },
     "execution_count": 8,
     "metadata": {},
     "output_type": "execute_result"
    }
   ],
   "source": [
    "# Predict using the\n",
    "y_predict = X_new_b.dot(theta_normal)\n",
    "y_predict"
   ]
  },
  {
   "cell_type": "markdown",
   "id": "05f6ca24-30a9-4d61-bfa8-e7ebbee925de",
   "metadata": {},
   "source": [
    "Finally, we can plot the estimated regression line:"
   ]
  },
  {
   "cell_type": "code",
   "execution_count": 9,
   "id": "7e2530f0-6dbd-4ce7-834d-a4941e3a8b59",
   "metadata": {
    "execution": {
     "iopub.execute_input": "2021-10-23T05:04:43.574961Z",
     "iopub.status.busy": "2021-10-23T05:04:43.574607Z",
     "iopub.status.idle": "2021-10-23T05:04:43.815897Z",
     "shell.execute_reply": "2021-10-23T05:04:43.814996Z",
     "shell.execute_reply.started": "2021-10-23T05:04:43.574936Z"
    },
    "tags": []
   },
   "outputs": [
    {
     "data": {
      "image/png": "[encoded data removed]",
      "text/plain": [
       "<Figure size 640x480 with 1 Axes>"
      ]
     },
     "metadata": {},
     "output_type": "display_data"
    },
    {
     "data": {
      "text/plain": [
       "<ggplot: (277204806)>"
      ]
     },
     "execution_count": 9,
     "metadata": {},
     "output_type": "execute_result"
    }
   ],
   "source": [
    "# Scatter plot with estimated regression function\n",
    "(\n",
    "    ggplot(\n",
    "        data=pd.DataFrame(\n",
    "            np.concatenate([y, X], axis=1), columns=[\"response\", \"predictor\"]\n",
    "        ),\n",
    "        mapping=aes(x=\"predictor\", y=\"response\"),\n",
    "    )\n",
    "    + geom_point(color=\"orange\")\n",
    "    + geom_smooth(method=\"lm\", se=False, color=\"orange\")\n",
    "    + labs(title=\"Scatter Plot\")\n",
    "    + theme(panel_grid=element_blank(), panel_background=element_rect(fill=\"white\"))\n",
    ")"
   ]
  },
  {
   "cell_type": "markdown",
   "id": "c526189b-57c7-44ca-a589-2d5707040c8f",
   "metadata": {},
   "source": [
    "## Scikit-Learn Class <a class=\"anchor\" id=\"scikit-learn-class\"></a>\n",
    "\n",
    "Scikit-Learn has a `LinearRegression` class that makes fitting linear models easy:"
   ]
  },
  {
   "cell_type": "code",
   "execution_count": 11,
   "id": "ec282a73-8241-4d2f-989f-4c8c7407eca2",
   "metadata": {
    "execution": {
     "iopub.execute_input": "2021-10-23T05:22:16.127537Z",
     "iopub.status.busy": "2021-10-23T05:22:16.127215Z",
     "iopub.status.idle": "2021-10-23T05:22:16.138351Z",
     "shell.execute_reply": "2021-10-23T05:22:16.137719Z",
     "shell.execute_reply.started": "2021-10-23T05:22:16.127506Z"
    },
    "tags": []
   },
   "outputs": [
    {
     "data": {
      "text/plain": [
       "LinearRegression()"
      ]
     },
     "execution_count": 11,
     "metadata": {},
     "output_type": "execute_result"
    },
    {
     "data": {
      "text/plain": [
       "(array([3.89053611]), array([[3.21724034]]))"
      ]
     },
     "execution_count": 11,
     "metadata": {},
     "output_type": "execute_result"
    }
   ],
   "source": [
    "# Import\n",
    "from sklearn.linear_model import LinearRegression\n",
    "\n",
    "# Class constructor\n",
    "lin_reg = LinearRegression(fit_intercept=True, copy_X=True, n_jobs=None)\n",
    "# Fit\n",
    "lin_reg.fit(X, y)\n",
    "# Retreive attributes of the class\n",
    "lin_reg.intercept_, lin_reg.coef_"
   ]
  },
  {
   "cell_type": "markdown",
   "id": "1db38127-c9d0-4666-b615-d202b9edcddc",
   "metadata": {},
   "source": [
    "* The class constructor has the following arguments:\n",
    "    - **fit_intercept**, bool, default=True. Whether to calculate the intercept for this model. If set to False, no intercept \n",
    "    will be used in calculations (i.e. data is expected to be centered).\n",
    "    - **copy_X**, bool, default=True. If True, X will be copied; else, it may be overwritten.\n",
    "    - **n_jobs**, int, default=None. The number of jobs to use for the computation, providing speedup only for n_targets > 1 \n",
    "    and sufficiently large problems. None means 1 unless in a `joblib.parallel_backend` context. On the other hand, -1 means \n",
    "    using all processors.\n",
    "    - **positive**, bool, default=False. When set to True, forces the coefficients to be positive. This option is only\n",
    "    supported for dense arrays.\n",
    "\n",
    "\n",
    "\n",
    "* The class has the following attributes:\n",
    "    - **coef_**, array of shape (n_features, ) or (n_targets, n_features). Estimated coefficients for the linear regression \n",
    "    problem. If multiple targets are passed during the fit (y 2D), this is a 2D array of shape (n_targets, n_features), while \n",
    "    if only one target is passed, this is a 1D array of length n_features.\n",
    "    - **rank_int**, rank of matrix X. Only available when X is dense.\n",
    "    - **singular_**, array of shape (min(X, y),). Singular values of X. Only available when X is dense.\n",
    "    - **intercept_**, float or array of shape (n_targets,). Independent term in the linear model. Set to 0.0 if fit_intercept \n",
    "    = False.\n",
    "    - **n_features_in_**, int, number of features seen during fit.\n",
    "    - **feature_names_in_**, ndarray of shape (n_features_in_,). Names of features seen during fit. Defined only when X has\n",
    "    feature names that are all strings.\n",
    "\n",
    "\n",
    "* Next, the fit method has the following arguments:\n",
    "    - **X**, {array-like, sparse matrix} of shape (n_samples, n_features). Training data. Note that n_features does not include the column of 1's. \n",
    "    - **y**, array-like of shape (n_samples,) or (n_samples, n_targets). Target values. Will be cast to X’s `dtype` if necessary. If `n_targets` > 1, then the least-squares solution is calculated for each of the n target or response vectors.\n",
    "    - **sample_weight**, array-like of shape (n_samples, ), default=None. Individual weights for each sample."
   ]
  },
  {
   "cell_type": "markdown",
   "id": "b5f1e6dc-1ebd-40f0-a530-293418c9a243",
   "metadata": {},
   "source": [
    "The class `LinearRegression` is based on the function `scipy.linalg.lstsq()` (the name stands for “least squares”), which we could call directly:"
   ]
  },
  {
   "cell_type": "code",
   "execution_count": 12,
   "id": "a11b9d00-5a25-417a-ac06-db28c64ca6d7",
   "metadata": {
    "execution": {
     "iopub.execute_input": "2021-10-23T05:32:04.336553Z",
     "iopub.status.busy": "2021-10-23T05:32:04.336282Z",
     "iopub.status.idle": "2021-10-23T05:32:04.347731Z",
     "shell.execute_reply": "2021-10-23T05:32:04.347109Z",
     "shell.execute_reply.started": "2021-10-23T05:32:04.336526Z"
    },
    "tags": []
   },
   "outputs": [
    {
     "data": {
      "text/plain": [
       "array([[3.89053611],\n",
       "       [3.21724034]])"
      ]
     },
     "execution_count": 12,
     "metadata": {},
     "output_type": "execute_result"
    }
   ],
   "source": [
    "# Multiple assignment, tuple unpacking, and iterable unpacking\n",
    "theta_svd, residuals, rank, s = np.linalg.lstsq(a=X_b, b=y, rcond=1e-6)\n",
    "# Estimated coefficients\n",
    "theta_svd"
   ]
  },
  {
   "cell_type": "code",
   "execution_count": 13,
   "id": "63c735b7",
   "metadata": {},
   "outputs": [
    {
     "data": {
      "text/plain": [
       "array([103.34087726])"
      ]
     },
     "execution_count": 13,
     "metadata": {},
     "output_type": "execute_result"
    }
   ],
   "source": [
    "# Residual sum of square\n",
    "residuals"
   ]
  },
  {
   "cell_type": "code",
   "execution_count": 14,
   "id": "83dccb65",
   "metadata": {},
   "outputs": [
    {
     "data": {
      "text/plain": [
       "2"
      ]
     },
     "execution_count": 14,
     "metadata": {},
     "output_type": "execute_result"
    }
   ],
   "source": [
    "# Rank of matrix X_b\n",
    "rank"
   ]
  },
  {
   "cell_type": "code",
   "execution_count": 15,
   "id": "07e3056e",
   "metadata": {},
   "outputs": [
    {
     "data": {
      "text/plain": [
       "array([14.95593301,  3.96857703])"
      ]
     },
     "execution_count": 15,
     "metadata": {},
     "output_type": "execute_result"
    }
   ],
   "source": [
    "# Singular values of X_b\n",
    "s"
   ]
  },
  {
   "cell_type": "markdown",
   "id": "91cf3e13-abc0-4d5b-bedf-fdd9c09726da",
   "metadata": {},
   "source": [
    "* The function has two importat arguments:\n",
    "    - **a(M, N)**, array_like, which is the “coefficient” matrix.\n",
    "    - **b{(M,), (M, K)}**, array_like, ordinate or “dependent variable” values. If b is two-dimensional, the least-squares \n",
    "    solution is calculated for each of the K columns of b.\n",
    "    \n",
    "This function computes $\\hat{\\theta}=X^{+}y$, where $X^{+}$ is the pseudoinverse of $X$ (specifically, the Moore-Penrose inverse). We can also compute the pseudoinverse directly:"
   ]
  },
  {
   "cell_type": "code",
   "execution_count": 16,
   "id": "3d45aeb2-4e61-4ab4-995d-6c303f423d05",
   "metadata": {
    "execution": {
     "iopub.execute_input": "2021-10-23T05:37:48.473902Z",
     "iopub.status.busy": "2021-10-23T05:37:48.473502Z",
     "iopub.status.idle": "2021-10-23T05:37:48.480174Z",
     "shell.execute_reply": "2021-10-23T05:37:48.479426Z",
     "shell.execute_reply.started": "2021-10-23T05:37:48.473863Z"
    },
    "tags": []
   },
   "outputs": [
    {
     "data": {
      "text/plain": [
       "array([[3.89053611],\n",
       "       [3.21724034]])"
      ]
     },
     "execution_count": 16,
     "metadata": {},
     "output_type": "execute_result"
    }
   ],
   "source": [
    "np.linalg.pinv(a=X_b, rcond=1e-15, hermitian=False).dot(y)"
   ]
  },
  {
   "cell_type": "markdown",
   "id": "0dc9d395-9f6e-41a6-84f9-3789130bac83",
   "metadata": {},
   "source": [
    "The pseudoinverse itself is computed using a standard matrix factorization technique called **Singular Value Decomposition** (SVD) that can decompose the training set matrix $\\mathbf{X}$ into the matrix multiplication of three matrices $\\mathbf{U} \\boldsymbol{\\Sigma} \\mathbf{V}^{\\top}$. The pseudoinverse is computed as $\\mathbf{X}^{+}=\\mathbf{V} \\boldsymbol{\\Sigma}^{+} \\mathbf{U}^{\\top}$. To compute the matrix $\\boldsymbol{\\Sigma}^{+}$, the algorithm takes $\\boldsymbol{\\Sigma}$ and sets to zero all values smaller than a tiny threshold value, then it replaces all the nonzero values with their inverse, and finally it transposes the resulting matrix. This approach is more efficient than computing the Normal Equation, plus it handles edge cases nicely: indeed, the Normal Equation may not work if the matrix $\\mathbf{X}^{\\top} \\mathbf{X}$ is not invertible (i.e., singular), such as if $m<n$ or if some features are redundant, but the pseudoinverse is alwavs defined."
   ]
  },
  {
   "cell_type": "markdown",
   "id": "9d86f7c0-4e5a-4ad1-8d36-1a866fe31c5f",
   "metadata": {},
   "source": [
    "## Gradient Descent <a class=\"anchor\" id=\"gradient-descent\"></a>"
   ]
  },
  {
   "cell_type": "markdown",
   "id": "bbc81679-9a67-4a5f-b5a8-5e3003f49eb8",
   "metadata": {},
   "source": [
    "### Batch Gradient Descent <a class=\"anchor\" id=\"batch-gradient-descent\"></a>"
   ]
  },
  {
   "cell_type": "code",
   "execution_count": 17,
   "id": "9664bb58",
   "metadata": {},
   "outputs": [],
   "source": [
    "# Learning rate\n",
    "eta = 0.1\n",
    "# Iterations\n",
    "n_iterations = 1000\n",
    "# Number of instances or trials\n",
    "m = len(X_b)\n",
    "\n",
    "# Randome initialization for vector of parameters\n",
    "theta = np.random.randn(2, 1)\n",
    "# For loop\n",
    "# During each iteration, compute gradient vector and decrease the vector of parameters by (learning rate * gradient vector)\n",
    "for iteration in range(n_iterations):\n",
    "    gradients = 2 / m * X_b.T.dot(X_b.dot(theta) - y)\n",
    "    theta = theta - eta * gradients"
   ]
  },
  {
   "cell_type": "markdown",
   "id": "0524e613",
   "metadata": {},
   "source": [
    "The results should be similar to we we obtained using the normal equation and the scikit-learn `LinearRegression` class:"
   ]
  },
  {
   "cell_type": "code",
   "execution_count": 18,
   "id": "06c29356",
   "metadata": {},
   "outputs": [
    {
     "data": {
      "text/plain": [
       "array([[3.89053611],\n",
       "       [3.21724034]])"
      ]
     },
     "execution_count": 18,
     "metadata": {},
     "output_type": "execute_result"
    },
    {
     "data": {
      "text/plain": [
       "array([[3.89053611],\n",
       "       [3.21724034]])"
      ]
     },
     "execution_count": 18,
     "metadata": {},
     "output_type": "execute_result"
    },
    {
     "data": {
      "text/plain": [
       "array([[3.89053611],\n",
       "       [3.21724034]])"
      ]
     },
     "execution_count": 18,
     "metadata": {},
     "output_type": "execute_result"
    }
   ],
   "source": [
    "# Gradient descent estimators\n",
    "theta\n",
    "# SVD\n",
    "theta_svd\n",
    "# Normal equation\n",
    "theta_normal"
   ]
  },
  {
   "cell_type": "markdown",
   "id": "fdb6e326",
   "metadata": {},
   "source": [
    "As can be seen, the three algorithms yielded the same estimators for the model parameters."
   ]
  },
  {
   "cell_type": "markdown",
   "id": "7e1b0972-f9a5-4063-b77e-d0fff2d18876",
   "metadata": {},
   "source": [
    "### Stochastic Gradient Descent <a class=\"anchor\" id=\"stochastic-gradient-descent\"></a>"
   ]
  },
  {
   "cell_type": "markdown",
   "id": "5673ab58",
   "metadata": {},
   "source": [
    "The following code implements stochastic gradient descent. By convention, we iterate by rounds of $m$ iterations; each round is called an epoch."
   ]
  },
  {
   "cell_type": "code",
   "execution_count": 40,
   "id": "1063a5cf",
   "metadata": {},
   "outputs": [],
   "source": [
    "# Instantiate container for theta\n",
    "theta_path_sgd = []\n",
    "# Initialize number of instances or trials\n",
    "# Number of iterations per round (epoch)\n",
    "m = len(X_b)\n",
    "# Set seed\n",
    "np.random.seed(12)\n",
    "# Number of epochs (rounds)\n",
    "# Therefore, we have 50 * 100 = 5000 iterations\n",
    "n_epochs = 50\n",
    "# Learning schedule hyperparameters\n",
    "t0, t1 = 5, 50\n",
    "# Random initialization\n",
    "theta_sgd = np.random.randn(2, 1)\n",
    "\n",
    "\n",
    "# Function for determining learning rate\n",
    "# As t increases, the function decreases, and so the learning rate is reduced\n",
    "def learning_schedule(t):\n",
    "    return t0 / (t + t1)\n",
    "\n",
    "\n",
    "# For loop\n",
    "for epoch in range(n_epochs):\n",
    "    for i in range(m):\n",
    "        # Generate random integer to select random instance or trial\n",
    "        random_index = np.random.randint(low=m)\n",
    "        # Randomly select a random instance k\n",
    "        # This is a return (p x 1) row vector\n",
    "        x_k = X_b[random_index : random_index + 1]\n",
    "        # This is single cell scalar value\n",
    "        y_k = y[random_index : random_index + 1]\n",
    "        # Compute gradient vector at the random initialization\n",
    "        gradients = 2 * x_k.T.dot(x_k.dot(theta_sgd) - y_k)\n",
    "        # Compute learning rate at each iteration\n",
    "        eta = learning_schedule(epoch * m + i)\n",
    "        # Decrease the current parameter vector by (learning rate * gradient vector)\n",
    "        theta_sgd = theta_sgd - eta * gradients\n",
    "        # Append each step to the list container\n",
    "        theta_path_sgd.append(theta_sgd)"
   ]
  },
  {
   "cell_type": "markdown",
   "id": "0979b7a2",
   "metadata": {},
   "source": [
    "The results are similar to the solutions given by the previous algorithms, however, they are not optimal:"
   ]
  },
  {
   "cell_type": "code",
   "execution_count": 42,
   "id": "13f152c1",
   "metadata": {},
   "outputs": [
    {
     "data": {
      "text/plain": [
       "array([[3.88860116],\n",
       "       [3.1726592 ]])"
      ]
     },
     "execution_count": 42,
     "metadata": {},
     "output_type": "execute_result"
    },
    {
     "data": {
      "text/plain": [
       "array([[3.89053611],\n",
       "       [3.21724034]])"
      ]
     },
     "execution_count": 42,
     "metadata": {},
     "output_type": "execute_result"
    }
   ],
   "source": [
    "# Stochastic gradient descent\n",
    "theta_sgd\n",
    "# Normal equation\n",
    "theta_normal"
   ]
  },
  {
   "cell_type": "markdown",
   "id": "8748870a",
   "metadata": {},
   "source": [
    "We may also examine the first 10 steps of the process. Evidently, the algorithm bounces around quite a bit and only moves towards the global minimum on average: "
   ]
  },
  {
   "cell_type": "code",
   "execution_count": 43,
   "id": "6f5ccc9e",
   "metadata": {},
   "outputs": [
    {
     "data": {
      "text/plain": [
       "[array([[ 1.70209352],\n",
       "        [-0.21062653]]),\n",
       " array([[ 2.24820904],\n",
       "        [-0.13646366]]),\n",
       " array([[3.82180696],\n",
       "        [2.2811821 ]]),\n",
       " array([[4.26591981],\n",
       "        [3.04374577]]),\n",
       " array([[4.40277306],\n",
       "        [3.25640876]]),\n",
       " array([[4.25174182],\n",
       "        [3.13677769]]),\n",
       " array([[4.17167453],\n",
       "        [3.00258629]]),\n",
       " array([[3.99348995],\n",
       "        [2.86346885]]),\n",
       " array([[4.1648124 ],\n",
       "        [3.08835819]])]"
      ]
     },
     "execution_count": 43,
     "metadata": {},
     "output_type": "execute_result"
    }
   ],
   "source": [
    "theta_path_sgd[0:9]"
   ]
  },
  {
   "cell_type": "markdown",
   "id": "2e8a4755",
   "metadata": {},
   "source": [
    "When using Stochastic Gradient Descent, the training instances must be independent and identically distributed (IID) to ensure that the parameters get pulled toward the global optimum, on average. A simple way to ensure this is to shuffle the instances during training (e.g., pick each instance randomly, or shuffle the training set at the beginning of each epoch). If we do not shuffle the instances—for example, if the instances are sorted by label—then SGD will start by optimizing for one label, then the next, and so on, and it will not settle close to the global minimum. Scikit-Learn has a class `SGDRegressor` that implements stochastic gradient descent, and there is an argument for shuffling the instances:"
   ]
  },
  {
   "cell_type": "code",
   "execution_count": 44,
   "id": "f5db75f0",
   "metadata": {},
   "outputs": [
    {
     "data": {
      "text/plain": [
       "Pipeline(steps=[('sgdregressor',\n",
       "                 SGDRegressor(eta0=0.1, penalty=None, random_state=17))])"
      ]
     },
     "execution_count": 44,
     "metadata": {},
     "output_type": "execute_result"
    }
   ],
   "source": [
    "# Import\n",
    "from sklearn.linear_model import SGDRegressor\n",
    "from sklearn.pipeline import Pipeline\n",
    "from sklearn.preprocessing import StandardScaler\n",
    "\n",
    "# Pipeline (class constructor)\n",
    "# This allow us to add in a step to scale the input by supplying a tuple ('standardscalar', StandardScaler())\n",
    "sgd_reg = Pipeline(\n",
    "    steps=[\n",
    "        (\n",
    "            \"sgdregressor\",\n",
    "            SGDRegressor(\n",
    "                penalty=None,\n",
    "                fit_intercept=True,\n",
    "                max_iter=1000,\n",
    "                tol=1e-3,\n",
    "                shuffle=True,\n",
    "                random_state=17,\n",
    "                eta0=0.1,\n",
    "            ),\n",
    "        )\n",
    "    ]\n",
    ")\n",
    "# Fit\n",
    "sgd_reg.fit(X, y.ravel())"
   ]
  },
  {
   "cell_type": "code",
   "execution_count": 45,
   "id": "056d10e5",
   "metadata": {},
   "outputs": [
    {
     "data": {
      "text/plain": [
       "array([[3.91459713],\n",
       "       [3.2848763 ]])"
      ]
     },
     "execution_count": 45,
     "metadata": {},
     "output_type": "execute_result"
    },
    {
     "data": {
      "text/plain": [
       "array([[3.89053611],\n",
       "       [3.21724034]])"
      ]
     },
     "execution_count": 45,
     "metadata": {},
     "output_type": "execute_result"
    }
   ],
   "source": [
    "# Stochastic gradient descent\n",
    "np.c_[sgd_reg[\"sgdregressor\"].intercept_, sgd_reg[\"sgdregressor\"].coef_].T\n",
    "# Normal equation\n",
    "theta_normal"
   ]
  },
  {
   "cell_type": "markdown",
   "id": "966f5d9f-5258-4ddc-98fc-a5d06491ef42",
   "metadata": {},
   "source": [
    "### Mini-batch Gradient Descent <a class=\"anchor\" id=\"mini-batch-gradient-descent\"></a>\n",
    "\n",
    "The last algorithm is called Mini-batch gradient descent:"
   ]
  },
  {
   "cell_type": "code",
   "execution_count": 48,
   "id": "0b3607b6",
   "metadata": {},
   "outputs": [],
   "source": [
    "# Instantiate path container\n",
    "theta_path_mgd = []\n",
    "# Number of iterations\n",
    "n_iterations = 50\n",
    "# Number of instances or trials per batch\n",
    "minibatch_size = 20\n",
    "# Number of instances or trials\n",
    "m = len(X_b)\n",
    "# Set seed\n",
    "np.random.seed(12)\n",
    "# Random initialization\n",
    "theta_mini_gd = np.random.randn(2, 1)\n",
    "# Initialize learning schedule hyperparameters\n",
    "t0, t1 = 200, 1000\n",
    "# Initialize learning schedule input\n",
    "t = 0\n",
    "# For loop\n",
    "for epoch in range(n_iterations):\n",
    "    # Shuffle to permute the indices (e.g. (2, 77, 23, 100, ..., 31, 46) with length = m )\n",
    "    # This also ensure that each iteration reshuffles the instances\n",
    "    shuffled_indices = np.random.permutation(m)\n",
    "    # Select instances in the shuffled order given by 'shuffled_indices,' which essentially shuffles the rows of the design matrix\n",
    "    X_b_shuffled = X_b[shuffled_indices]\n",
    "    # Select the labels or response values\n",
    "    y_shuffled = y[shuffled_indices]\n",
    "    # For each of the n_iterations, randomly select a batch of 'minibatch_size' to compute the gradient vector\n",
    "    # Range(start, stop, step)\n",
    "    for i in range(0, m, minibatch_size):\n",
    "        # Increase the learning schedule input by one each time a random mini-batch is selected\n",
    "        t += 1\n",
    "        # Select the batches and responses\n",
    "        x_batch = X_b_shuffled[i : i + minibatch_size]\n",
    "        y_batch = y_shuffled[i : i + minibatch_size]\n",
    "        # Compute gradient vector on the mini-batch\n",
    "        gradients = (\n",
    "            2 / minibatch_size * x_batch.T.dot(x_batch.dot(theta_mini_gd) - y_batch)\n",
    "        )\n",
    "        # Compute learning rate\n",
    "        eta = learning_schedule(t)\n",
    "        # Decrease current parameter vector by  (learning rate * gradient vector)\n",
    "        theta_mini_gd = theta_mini_gd - eta * gradients\n",
    "        # Record theta vector during each iteration\n",
    "        theta_path_mgd.append(theta_mini_gd)"
   ]
  },
  {
   "cell_type": "markdown",
   "id": "93eaba08",
   "metadata": {},
   "source": [
    "The values are again close but not optimal:"
   ]
  },
  {
   "cell_type": "code",
   "execution_count": 49,
   "id": "68760784",
   "metadata": {},
   "outputs": [
    {
     "data": {
      "text/plain": [
       "array([[3.91420073],\n",
       "       [3.22240447]])"
      ]
     },
     "execution_count": 49,
     "metadata": {},
     "output_type": "execute_result"
    },
    {
     "data": {
      "text/plain": [
       "array([[3.91459713],\n",
       "       [3.2848763 ]])"
      ]
     },
     "execution_count": 49,
     "metadata": {},
     "output_type": "execute_result"
    },
    {
     "data": {
      "text/plain": [
       "array([[3.89053611],\n",
       "       [3.21724034]])"
      ]
     },
     "execution_count": 49,
     "metadata": {},
     "output_type": "execute_result"
    }
   ],
   "source": [
    "# Mini-batch\n",
    "theta_mini_gd\n",
    "# Stochastic\n",
    "np.c_[sgd_reg[\"sgdregressor\"].intercept_, sgd_reg[\"sgdregressor\"].coef_].T\n",
    "# Normal equation\n",
    "theta_normal"
   ]
  }
 ],
 "metadata": {
  "interpreter": {
   "hash": "40fc6ebffc74793621f684cf09d9f3d0a501c91440a6f462aebac8d38ed47133"
  },
  "kernelspec": {
   "display_name": "Python 3 (ipykernel)",
   "language": "python",
   "name": "python3"
  },
  "language_info": {
   "codemirror_mode": {
    "name": "ipython",
    "version": 3
   },
   "file_extension": ".py",
   "mimetype": "text/x-python",
   "name": "python",
   "nbconvert_exporter": "python",
   "pygments_lexer": "ipython3",
   "version": "3.9.6"
  }
 },
 "nbformat": 4,
 "nbformat_minor": 5
}
