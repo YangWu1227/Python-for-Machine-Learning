{
 "cells": [
  {
   "attachments": {},
   "cell_type": "markdown",
   "id": "f44a2f2b",
   "metadata": {},
   "source": [
    "# 100 numpy exercises\n",
    "\n",
    "This is a collection of exercises that have been collected in the numpy mailing list, on stack overflow\n",
    "and in the numpy documentation. The goal of this collection is to offer a quick reference for both old\n",
    "and new users but also to provide a set of exercises for those who teach.\n",
    "\n",
    "\n",
    "If you find an error or think you've a better way to solve some of them, feel\n",
    "free to open an issue at <https://github.com/rougier/numpy-100>.\n",
    "\n",
    "## Table of Contents\n",
    "\n",
    "### One star\n",
    "\n",
    "* [3. Create a null vector of size 10 (★☆☆)](#3-create-a-null-vector-of-size-10-★☆☆)\n",
    "* [4. How to find the memory size of any array (★☆☆)](#4-how-to-find-the-memory-size-of-any-array-★☆☆)\n",
    "* [5. How to get the documentation of the numpy add function from the command line? (★☆☆)](#5-how-to-get-the-documentation-of-the-numpy-add-function-from-the-command-line-★☆☆)\n",
    "* [6. Create a null vector of size 10 but the fifth value which is 1 (★☆☆)](#6-create-a-null-vector-of-size-10-but-the-fifth-value-which-is-1-★☆☆)\n",
    "* [7. Create a vector with values ranging from 10 to 49 (★☆☆)](#7-create-a-vector-with-values-ranging-from-10-to-49-★☆☆)\n",
    "* [8. Reverse a vector (first element becomes last) (★☆☆)](#8-reverse-a-vector-first-element-becomes-last-★☆☆)\n",
    "* [9. Create a 3x3 matrix with values ranging from 0 to 8 (★☆☆)](#9-create-a-3x3-matrix-with-values-ranging-from-0-to-8-★☆☆)\n",
    "* [10. Find indices of non-zero elements from arrays (★☆☆)](#10-find-indices-of-non-zero-elements-from-arrays-★☆☆)\n",
    "* [11. Create a 3x3 identity matrix (★☆☆)](#11-create-a-3x3-identity-matrix-★☆☆)\n",
    "* [12. Create a 3x3x3 array with random values (★☆☆)](#12-create-a-3x3x3-array-with-random-values-★☆☆)\n",
    "* [13. Create a 10x10 array with random values and find the minimum and maximum values (★☆☆)](#13-create-a-10x10-array-with-random-values-and-find-the-minimum-and-maximum-values-★☆☆)\n",
    "* [14. Create a random vector of size 30 and find the mean value (★☆☆)](#14-create-a-random-vector-of-size-30-and-find-the-mean-value-★☆☆)\n",
    "* [15. Create a 2d array with 1 on the border and 0 inside (★☆☆)](#15-create-a-2d-array-with-1-on-the-border-and-0-inside-★☆☆) \n",
    "* [16. Padding with `np.pad` (★☆☆)](#16-padding-with-nppad-★☆☆)\n",
    "* [17. What is the result of the following expression? (★☆☆)](#17-what-is-the-result-of-the-following-expression-★☆☆)\n",
    "* [18. Create a 5x5 matrix with values 1,2,3,4 just below the diagonal (★☆☆)](#18-create-a-5x5-matrix-with-values-1234-just-below-the-diagonal-★☆☆)\n",
    "* [19. Create a 8x8 matrix and fill it with a checkerboard pattern (★☆☆)](#19-create-a-8x8-matrix-and-fill-it-with-a-checkerboard-pattern-★☆☆)\n",
    "* [20. Consider a (6,7,8) shape array, what is the index (x,y,z) of the 100th element? (★☆☆)](#20-consider-a-678-shape-array-what-is-the-index-xyz-of-the-100th-element-★☆☆)\n",
    "* [21. Create a checkerboard 8x8 matrix using the tile function (★☆☆)](#21-create-a-checkerboard-8x8-matrix-using-the-tile-function-★☆☆)\n",
    "* [22. Normalize a 5x5 random matrix (★☆☆)](#22-normalize-a-5x5-random-matrix-★☆☆)\n",
    "* [23. Create a custom dtype that describes a color as four unsigned bytes (RGBA) (★☆☆)](#23-create-a-custom-dtype-that-describes-a-color-as-four-unsigned-bytes-rgba-★☆☆)\n",
    "* [24. Multiply a 5x3 matrix by a 3x2 matrix (real matrix product) (★☆☆)](#24-multiply-a-5x3-matrix-by-a-3x2-matrix-real-matrix-product-★☆☆)\n",
    "* [25. Given a 1D array, negate all elements which are between 3 and 8, in place. (★☆☆)](#25-given-a-1d-array-negate-all-elements-which-are-between-3-and-8-in-place-★☆☆)\n",
    "* [29. How to round away from zero in a float array ? (★☆☆)](#29-how-to-round-away-from-zero-in-a-float-array--★☆☆)\n",
    "* [30. How to find common values between two arrays? (★☆☆)](#30-how-to-find-common-values-between-two-arrays-★☆☆)\n",
    "* [31. How to ignore all numpy warnings (not recommended)? (★☆☆)](#31-how-to-ignore-all-numpy-warnings-not-recommended-★☆☆)\n",
    "* [32. Is the following expressions true? (★☆☆)](#32-is-the-following-expressions-true-★☆☆)\n",
    "* [33. Datetime (★☆☆)](#33-datetime-★☆☆) \n",
    "\n",
    "### Two stars\n",
    "\n",
    "* [34. How to get all the dates corresponding to the month of July 2016? (★★☆)](#34-how-to-get-all-the-dates-corresponding-to-the-month-of-july-2016-★★☆)\n",
    "* [35. How to compute ((A+B)*(-A/2)) in place (without copy)? (★★☆)](#35-how-to-compute-ab-a2-in-place-without-copy-★★☆)\n",
    "* [36. Extract the integer part of a random array of positive numbers using 4 different methods (★★☆)](#36-extract-the-integer-part-of-a-random-array-of-positive-numbers-using-4-different-methods-★★☆)\n",
    "* [37. Create a 5x5 matrix with row values ranging from 0 to 4 (★★☆)](#37-create-a-5x5-matrix-with-row-values-ranging-from-0-to-4-★★☆)\n",
    "* [38. Consider a generator function that generates 10 integers and use it to build an array (★★☆)](#38-consider-a-generator-function-that-generates-10-integers-and-use-it-to-build-an-array-★★☆)\n",
    "* [39. Create a vector of size 10 with values ranging from 0 to 1, both excluded (★★☆)](#39-create-a-vector-of-size-10-with-values-ranging-from-0-to-1-both-excluded-★★☆) \n",
    "* [40. Create a random vector of size 10 and sort it (★★☆)](#40-create-a-random-vector-of-size-10-and-sort-it-★★☆)\n",
    "* [41. How to sum a small array faster than np.sum? (★★☆)](#41-how-to-sum-a-small-array-faster-than-npsum-★★☆))\n",
    "* [42. Consider two random array A and B, check if they are equal (★★☆)](#42-consider-two-random-array-a-and-b-check-if-they-are-equal-★★☆)\n",
    "* [43. Make an array immutable (read-only) (★★☆)](#43-make-an-array-immutable-read-only-★★☆)\n",
    "* [44. Consider a random 10x2 matrix representing cartesian coordinates, convert them to polar coordinates (★★☆)](#44-consider-a-random-10x2-matrix-representing-cartesian-coordinates-convert-them-to-polar-coordinates-★★☆)\n",
    "* [45. Create random vector of size 10 and replace the maximum value by 0 (★★☆)](#45-create-random-vector-of-size-10-and-replace-the-maximum-value-by-0-★★☆)\n",
    "* [46. Create a structured array with `x` and `y` coordinates covering the [0,1]x[0,1] area (★★☆)](#46-create-a-structured-array-with-x-and-y-coordinates-covering-the-01x01-area-★★☆)\n",
    "* [47. Given two arrays, X and Y, construct the Cauchy matrix C (Cij =1/(xi - yj)) (★★☆)](#47-given-two-arrays-x-and-y-construct-the-cauchy-matrix-c-cij-1xi---yj-★★☆)\n",
    "* [48. Print the minimum and maximum representable value for each numpy scalar type (★★☆)](#48-print-the-minimum-and-maximum-representable-value-for-each-numpy-scalar-type-★★☆)\n",
    "* [49. How to print all the values of an array? (★★☆)](#49-how-to-print-all-the-values-of-an-array-★★☆)\n",
    "* [50. How to find the closest value (to a given scalar) in a vector? (★★☆)](#50-how-to-find-the-closest-value-to-a-given-scalar-in-a-vector-★★☆)\n",
    "* [51. Create a structured array representing a position (x,y) and a color (r,g,b) (★★☆)](#51-create-a-structured-array-representing-a-position-xy-and-a-color-rgb-★★☆)\n",
    "* [52. Consider a random vector with shape (100,2) representing coordinates, find point by point distances (★★☆)](#52-consider-a-random-vector-with-shape-1002-representing-coordinates-find-point-by-point-distances-★★☆)\n",
    "* [53. How to convert a float (32 bits) array into an integer (32 bits) in place?](#53-how-to-convert-a-float-32-bits-array-into-an-integer-32-bits-in-place)\n",
    "* [54. How to read the following file? (★★☆)](#54-how-to-read-the-following-file-★★☆)\n",
    "* [55. What is the equivalent of enumerate for numpy arrays? (★★☆)](#55-what-is-the-equivalent-of-enumerate-for-numpy-arrays-★★☆)\n",
    "* [56. Generate a generic 2D Gaussian-like array (★★☆)](#56-generate-a-generic-2d-gaussian-like-array-★★☆)\n",
    "* [57. How to randomly place p elements in a 2D array? (★★☆)](#57-how-to-randomly-place-p-elements-in-a-2d-array-★★☆)\n",
    "* [58. Subtract the mean of each row of a matrix (★★☆)](#58-subtract-the-mean-of-each-row-of-a-matrix-★★☆)\n",
    "* [59. How to sort an array by the nth column? (★★☆)](#59-how-to-sort-an-array-by-the-nth-column-★★☆)\n",
    "* [60. How to tell if a given 2D array has null columns? (★★☆)](#60-how-to-tell-if-a-given-2d-array-has-null-columns-★★☆)\n",
    "\n",
    "### Three stars\n",
    "\n",
    "* [100. Compute bootstrapped 95% confidence intervals for the mean of a 1D array X (i.e., resample the elements of an array with replacement N times, compute the mean of each sample, and then compute percentiles over the means). (★★★)](#100-compute-bootstrapped-95-confidence-intervals-for-the-mean-of-a-1d-array-x-ie-resample-the-elements-of-an-array-with-replacement-n-times-compute-the-mean-of-each-sample-and-then-compute-percentiles-over-the-means-★★★)"
   ]
  },
  {
   "cell_type": "code",
   "execution_count": 1,
   "id": "759c6d0d",
   "metadata": {},
   "outputs": [],
   "source": [
    "from IPython.core.interactiveshell import InteractiveShell\n",
    "InteractiveShell.ast_node_interactivity = \"all\""
   ]
  },
  {
   "cell_type": "markdown",
   "id": "96443564",
   "metadata": {},
   "source": [
    "#### 1. Import the numpy package under the name `np` (★☆☆)"
   ]
  },
  {
   "cell_type": "code",
   "execution_count": 31,
   "id": "ffe1047e",
   "metadata": {},
   "outputs": [],
   "source": [
    "import numpy as np\n",
    "import matplotlib.pyplot as plt\n",
    "import seaborn as sns\n",
    "\n",
    "np.set_printoptions(linewidth=1000)"
   ]
  },
  {
   "cell_type": "markdown",
   "id": "c807bf1d",
   "metadata": {},
   "source": [
    "#### 2. Print the numpy version and the configuration (★☆☆)"
   ]
  },
  {
   "cell_type": "code",
   "execution_count": 3,
   "id": "f396b717",
   "metadata": {},
   "outputs": [
    {
     "data": {
      "text/plain": [
       "'1.23.5'"
      ]
     },
     "execution_count": 3,
     "metadata": {},
     "output_type": "execute_result"
    }
   ],
   "source": [
    "# Version\n",
    "np.__version__"
   ]
  },
  {
   "cell_type": "code",
   "execution_count": 95,
   "id": "e3d543d4",
   "metadata": {},
   "outputs": [
    {
     "name": "stdout",
     "output_type": "stream",
     "text": [
      "blas_armpl_info:\n",
      "  NOT AVAILABLE\n",
      "blas_mkl_info:\n",
      "  NOT AVAILABLE\n",
      "blis_info:\n",
      "  NOT AVAILABLE\n",
      "openblas_info:\n",
      "    libraries = ['openblas', 'openblas']\n",
      "    library_dirs = ['/Users/kenwu/opt/anaconda3/envs/python_for_machine_learning/lib']\n",
      "    language = c\n",
      "    define_macros = [('HAVE_CBLAS', None)]\n",
      "blas_opt_info:\n",
      "    libraries = ['openblas', 'openblas']\n",
      "    library_dirs = ['/Users/kenwu/opt/anaconda3/envs/python_for_machine_learning/lib']\n",
      "    language = c\n",
      "    define_macros = [('HAVE_CBLAS', None)]\n",
      "lapack_armpl_info:\n",
      "  NOT AVAILABLE\n",
      "lapack_mkl_info:\n",
      "  NOT AVAILABLE\n",
      "openblas_lapack_info:\n",
      "    libraries = ['openblas', 'openblas']\n",
      "    library_dirs = ['/Users/kenwu/opt/anaconda3/envs/python_for_machine_learning/lib']\n",
      "    language = c\n",
      "    define_macros = [('HAVE_CBLAS', None)]\n",
      "lapack_opt_info:\n",
      "    libraries = ['openblas', 'openblas']\n",
      "    library_dirs = ['/Users/kenwu/opt/anaconda3/envs/python_for_machine_learning/lib']\n",
      "    language = c\n",
      "    define_macros = [('HAVE_CBLAS', None)]\n",
      "Supported SIMD extensions in this NumPy install:\n",
      "    baseline = SSE,SSE2,SSE3\n",
      "    found = SSSE3,SSE41,POPCNT,SSE42,AVX,F16C,FMA3,AVX2\n",
      "    not found = AVX512F,AVX512CD,AVX512_KNL,AVX512_SKX,AVX512_CLX,AVX512_CNL,AVX512_ICL\n"
     ]
    }
   ],
   "source": [
    "# Or np.show_config()\n",
    "np.__config__.show()"
   ]
  },
  {
   "cell_type": "markdown",
   "id": "572c1bdb",
   "metadata": {},
   "source": [
    "#### 3. Create a null vector of size 10 (★☆☆)"
   ]
  },
  {
   "cell_type": "code",
   "execution_count": 96,
   "id": "31c9f6a5",
   "metadata": {},
   "outputs": [
    {
     "data": {
      "text/plain": [
       "array([-14.22083069,   1.20437268, -13.68136436, -86.2371922 , -16.98220607,   0.        , -97.16566039, -22.81798725, -53.93086813, -12.33707646])"
      ]
     },
     "execution_count": 96,
     "metadata": {},
     "output_type": "execute_result"
    },
    {
     "data": {
      "text/plain": [
       "80"
      ]
     },
     "execution_count": 96,
     "metadata": {},
     "output_type": "execute_result"
    }
   ],
   "source": [
    "# Uninitialized\n",
    "np.empty(shape=10)\n",
    "np.empty(shape=10).nbytes"
   ]
  },
  {
   "cell_type": "code",
   "execution_count": 97,
   "id": "a5c65cd4",
   "metadata": {},
   "outputs": [
    {
     "data": {
      "text/plain": [
       "array([0., 0., 0., 0., 0., 0., 0., 0., 0., 0.])"
      ]
     },
     "execution_count": 97,
     "metadata": {},
     "output_type": "execute_result"
    },
    {
     "data": {
      "text/plain": [
       "80"
      ]
     },
     "execution_count": 97,
     "metadata": {},
     "output_type": "execute_result"
    }
   ],
   "source": [
    "# Initialized with zeros\n",
    "np.zeros(shape=10)\n",
    "np.zeros(shape=10).nbytes"
   ]
  },
  {
   "cell_type": "markdown",
   "id": "337e6e36",
   "metadata": {},
   "source": [
    "#### 4. How to find the memory size of any array (★☆☆)"
   ]
  },
  {
   "cell_type": "code",
   "execution_count": 98,
   "id": "31e8ec2e",
   "metadata": {},
   "outputs": [
    {
     "data": {
      "text/plain": [
       "40"
      ]
     },
     "execution_count": 98,
     "metadata": {},
     "output_type": "execute_result"
    }
   ],
   "source": [
    "# Number of elements in the array\n",
    "np.zeros(shape=(10, 4)).size"
   ]
  },
  {
   "cell_type": "code",
   "execution_count": 99,
   "id": "ba2f6985",
   "metadata": {},
   "outputs": [
    {
     "data": {
      "text/plain": [
       "8"
      ]
     },
     "execution_count": 99,
     "metadata": {},
     "output_type": "execute_result"
    }
   ],
   "source": [
    "# Length of one array element in bytes\n",
    "np.zeros(shape=(10, 4)).itemsize"
   ]
  },
  {
   "cell_type": "code",
   "execution_count": 100,
   "id": "ed26ed2c",
   "metadata": {},
   "outputs": [
    {
     "data": {
      "text/plain": [
       "320"
      ]
     },
     "execution_count": 100,
     "metadata": {},
     "output_type": "execute_result"
    }
   ],
   "source": [
    "# Total bytes consumed by the elements of the array\n",
    "np.zeros(shape=(10, 4)).nbytes"
   ]
  },
  {
   "cell_type": "markdown",
   "id": "166079c8",
   "metadata": {},
   "source": [
    "#### 5. How to get the documentation of the numpy add function from the command line? (★☆☆)"
   ]
  },
  {
   "cell_type": "code",
   "execution_count": 101,
   "id": "593cd80f",
   "metadata": {},
   "outputs": [
    {
     "name": "stdout",
     "output_type": "stream",
     "text": [
      "add(x1, x2, /, out=None, *, where=True, casting='same_kind', order='K', dtype=None, subok=True[, signature, extobj])\n",
      "\n",
      "Add arguments element-wise.\n",
      "\n",
      "Parameters\n",
      "----------\n",
      "x1, x2 : array_like\n",
      "    The arrays to be added.\n",
      "    If ``x1.shape != x2.shape``, they must be broadcastable to a common\n",
      "    shape (which becomes the shape of the output).\n",
      "out : ndarray, None, or tuple of ndarray and None, optional\n",
      "    A location into which the result is stored. If provided, it must have\n",
      "    a shape that the inputs broadcast to. If not provided or None,\n",
      "    a freshly-allocated array is returned. A tuple (possible only as a\n",
      "    keyword argument) must have length equal to the number of outputs.\n",
      "where : array_like, optional\n",
      "    This condition is broadcast over the input. At locations where the\n",
      "    condition is True, the `out` array will be set to the ufunc result.\n",
      "    Elsewhere, the `out` array will retain its original value.\n",
      "    Note that if an uninitialized `out` array is created via the default\n",
      "    ``out=None``, locations within it where the condition is False will\n",
      "    remain uninitialized.\n",
      "**kwargs\n",
      "    For other keyword-only arguments, see the\n",
      "    :ref:`ufunc docs <ufuncs.kwargs>`.\n",
      "\n",
      "Returns\n",
      "-------\n",
      "add : ndarray or scalar\n",
      "    The sum of `x1` and `x2`, element-wise.\n",
      "    This is a scalar if both `x1` and `x2` are scalars.\n",
      "\n",
      "Notes\n",
      "-----\n",
      "Equivalent to `x1` + `x2` in terms of array broadcasting.\n",
      "\n",
      "Examples\n",
      "--------\n",
      ">>> np.add(1.0, 4.0)\n",
      "5.0\n",
      ">>> x1 = np.arange(9.0).reshape((3, 3))\n",
      ">>> x2 = np.arange(3.0)\n",
      ">>> np.add(x1, x2)\n",
      "array([[  0.,   2.,   4.],\n",
      "       [  3.,   5.,   7.],\n",
      "       [  6.,   8.,  10.]])\n",
      "\n",
      "The ``+`` operator can be used as a shorthand for ``np.add`` on ndarrays.\n",
      "\n",
      ">>> x1 = np.arange(9.0).reshape((3, 3))\n",
      ">>> x2 = np.arange(3.0)\n",
      ">>> x1 + x2\n",
      "array([[ 0.,  2.,  4.],\n",
      "       [ 3.,  5.,  7.],\n",
      "       [ 6.,  8., 10.]])\n"
     ]
    }
   ],
   "source": [
    "np.info(object=np.add)"
   ]
  },
  {
   "cell_type": "markdown",
   "id": "3add7101",
   "metadata": {},
   "source": [
    "#### 6. Create a null vector of size 10 but the fifth value which is 1 (★☆☆)"
   ]
  },
  {
   "cell_type": "code",
   "execution_count": 102,
   "id": "2edf3c42",
   "metadata": {},
   "outputs": [
    {
     "data": {
      "text/plain": [
       "array([0, 0, 0, 0, 1, 0, 0, 0, 0, 0])"
      ]
     },
     "execution_count": 102,
     "metadata": {},
     "output_type": "execute_result"
    }
   ],
   "source": [
    "vec = np.empty(shape=10, dtype=int)\n",
    "vec[4] = 1\n",
    "vec"
   ]
  },
  {
   "cell_type": "code",
   "execution_count": 103,
   "id": "bbcca9b3",
   "metadata": {},
   "outputs": [
    {
     "data": {
      "text/plain": [
       "array([0, 0, 0, 0, 1, 0, 0, 0, 0, 0])"
      ]
     },
     "execution_count": 103,
     "metadata": {},
     "output_type": "execute_result"
    }
   ],
   "source": [
    "vec = np.zeros(shape=10, dtype=int)\n",
    "vec[4] = 1\n",
    "vec"
   ]
  },
  {
   "cell_type": "markdown",
   "id": "cfc46304",
   "metadata": {},
   "source": [
    "#### 7. Create a vector with values ranging from 10 to 49 (★☆☆)"
   ]
  },
  {
   "cell_type": "code",
   "execution_count": 109,
   "id": "d8b86640",
   "metadata": {},
   "outputs": [
    {
     "data": {
      "text/plain": [
       "array([10., 11., 12., 13., 14., 15., 16., 17., 18., 19., 20., 21., 22., 23., 24., 25., 26., 27., 28., 29., 30., 31., 32., 33., 34., 35., 36., 37., 38., 39., 40., 41., 42., 43., 44., 45., 46., 47., 48., 49.], dtype=float16)"
      ]
     },
     "execution_count": 109,
     "metadata": {},
     "output_type": "execute_result"
    }
   ],
   "source": [
    "# Stop interval not included\n",
    "np.arange(start=10, stop=50, step=1, dtype=np.float16)"
   ]
  },
  {
   "cell_type": "markdown",
   "id": "0cc200be",
   "metadata": {},
   "source": [
    "#### 8. Reverse a vector (first element becomes last) (★☆☆)"
   ]
  },
  {
   "cell_type": "code",
   "execution_count": 110,
   "id": "ec044bb5",
   "metadata": {},
   "outputs": [
    {
     "data": {
      "text/plain": [
       "array([45, 40, 35, 30, 25, 20, 15, 10])"
      ]
     },
     "execution_count": 110,
     "metadata": {},
     "output_type": "execute_result"
    }
   ],
   "source": [
    "# One dimensional\n",
    "np.flip(m=np.arange(start=10, stop=50, step=5), axis=0)"
   ]
  },
  {
   "cell_type": "code",
   "execution_count": 111,
   "id": "70d7d11e",
   "metadata": {},
   "outputs": [
    {
     "data": {
      "text/plain": [
       "array([[10, 15],\n",
       "       [20, 25],\n",
       "       [30, 35],\n",
       "       [40, 45]])"
      ]
     },
     "execution_count": 111,
     "metadata": {},
     "output_type": "execute_result"
    }
   ],
   "source": [
    "# Original two dimensional array\n",
    "np.arange(start=10, stop=50, step=5).reshape((4, 2))"
   ]
  },
  {
   "cell_type": "code",
   "execution_count": 112,
   "id": "baaf41b5",
   "metadata": {},
   "outputs": [
    {
     "data": {
      "text/plain": [
       "array([[40, 45],\n",
       "       [30, 35],\n",
       "       [20, 25],\n",
       "       [10, 15]])"
      ]
     },
     "execution_count": 112,
     "metadata": {},
     "output_type": "execute_result"
    }
   ],
   "source": [
    "# Flip just the rows\n",
    "np.flip(\n",
    "    m=np.arange(start=10, stop=50, step=5).reshape((4, 2)), \n",
    "    axis=0\n",
    ")"
   ]
  },
  {
   "cell_type": "code",
   "execution_count": 113,
   "id": "426a2c38",
   "metadata": {},
   "outputs": [
    {
     "data": {
      "text/plain": [
       "array([[15, 10],\n",
       "       [25, 20],\n",
       "       [35, 30],\n",
       "       [45, 40]])"
      ]
     },
     "execution_count": 113,
     "metadata": {},
     "output_type": "execute_result"
    }
   ],
   "source": [
    "# Flip just the columns\n",
    "np.flip(\n",
    "    m=np.arange(start=10, stop=50, step=5).reshape((4, 2)), \n",
    "    axis=1\n",
    ")"
   ]
  },
  {
   "cell_type": "code",
   "execution_count": 114,
   "id": "4fda95c5",
   "metadata": {},
   "outputs": [
    {
     "data": {
      "text/plain": [
       "array([[45, 40],\n",
       "       [35, 30],\n",
       "       [25, 20],\n",
       "       [15, 10]])"
      ]
     },
     "execution_count": 114,
     "metadata": {},
     "output_type": "execute_result"
    }
   ],
   "source": [
    "# Flip both axes\n",
    "np.flip(\n",
    "    m=np.arange(start=10, stop=50, step=5).reshape((4, 2)), \n",
    "    # Using None also flips all axes\n",
    "    axis=(0, 1)\n",
    ")"
   ]
  },
  {
   "cell_type": "markdown",
   "id": "29d9ede4",
   "metadata": {},
   "source": [
    "#### 9. Create a 3x3 matrix with values ranging from 0 to 8 (★☆☆)"
   ]
  },
  {
   "cell_type": "code",
   "execution_count": 115,
   "id": "d9e39043",
   "metadata": {},
   "outputs": [
    {
     "data": {
      "text/plain": [
       "array([[0, 1, 2],\n",
       "       [3, 4, 5],\n",
       "       [6, 7, 8]])"
      ]
     },
     "execution_count": 115,
     "metadata": {},
     "output_type": "execute_result"
    }
   ],
   "source": [
    "np.arange(start=0, stop=9, step=1).reshape((3, 3))"
   ]
  },
  {
   "cell_type": "markdown",
   "id": "88905ceb",
   "metadata": {},
   "source": [
    "#### 10. Find indices of non-zero elements from arrays (★☆☆)"
   ]
  },
  {
   "cell_type": "code",
   "execution_count": 116,
   "id": "b2f3c90a",
   "metadata": {},
   "outputs": [
    {
     "data": {
      "text/plain": [
       "(array([0, 1, 4]),)"
      ]
     },
     "execution_count": 116,
     "metadata": {},
     "output_type": "execute_result"
    }
   ],
   "source": [
    "# One dimensional\n",
    "np.nonzero(a=[1, 2, 0, 0, 4, 0])"
   ]
  },
  {
   "cell_type": "code",
   "execution_count": 117,
   "id": "2a9e70e0",
   "metadata": {},
   "outputs": [
    {
     "data": {
      "text/plain": [
       "array([[1, 2, 0],\n",
       "       [0, 0, 4],\n",
       "       [0, 0, 0]])"
      ]
     },
     "execution_count": 117,
     "metadata": {},
     "output_type": "execute_result"
    },
    {
     "data": {
      "text/plain": [
       "(array([0, 0, 1]), array([0, 1, 2]))"
      ]
     },
     "execution_count": 117,
     "metadata": {},
     "output_type": "execute_result"
    }
   ],
   "source": [
    "# Two dimensional\n",
    "array = np.array([[1, 2, 0], [0, 0, 4], [0, 0, 0]])\n",
    "array\n",
    "# Equivalent to array.nonzero()\n",
    "np.nonzero(a=[[1, 2, 0], [0, 0, 4], [0, 0, 0]])"
   ]
  },
  {
   "attachments": {},
   "cell_type": "markdown",
   "id": "fa47f8ff",
   "metadata": {},
   "source": [
    "In this example above, a tuple of two arrays was returned-- one for each dimension. The first array represents the row indices where non-zero values are found, and the second array represents the column indices where non-zero values are found. For 2d-arrays, each element of the first array represents the `ith` entry and each element of the second array represents the `jth` entry of non-zero elements. "
   ]
  },
  {
   "cell_type": "code",
   "execution_count": 118,
   "id": "7076c279",
   "metadata": {},
   "outputs": [
    {
     "data": {
      "text/plain": [
       "(0, 0)"
      ]
     },
     "execution_count": 118,
     "metadata": {},
     "output_type": "execute_result"
    },
    {
     "data": {
      "text/plain": [
       "(0, 1)"
      ]
     },
     "execution_count": 118,
     "metadata": {},
     "output_type": "execute_result"
    },
    {
     "data": {
      "text/plain": [
       "(1, 2)"
      ]
     },
     "execution_count": 118,
     "metadata": {},
     "output_type": "execute_result"
    }
   ],
   "source": [
    "# Return the i, j indices of the nonzero elements of 'array'\n",
    "for entry in list(zip(array.nonzero()[0], array.nonzero()[1])):\n",
    "    entry"
   ]
  },
  {
   "cell_type": "markdown",
   "id": "493b2175",
   "metadata": {},
   "source": [
    "We can also subset and print the non-zero elements of `array` using:"
   ]
  },
  {
   "cell_type": "code",
   "execution_count": 119,
   "id": "94b87475",
   "metadata": {},
   "outputs": [
    {
     "data": {
      "text/plain": [
       "array([1, 2, 4])"
      ]
     },
     "execution_count": 119,
     "metadata": {},
     "output_type": "execute_result"
    }
   ],
   "source": [
    "array[array.nonzero()]"
   ]
  },
  {
   "cell_type": "markdown",
   "id": "44e72992",
   "metadata": {},
   "source": [
    "A common use case of `nonzero` is to find the indices of an array, where a condition is True."
   ]
  },
  {
   "cell_type": "code",
   "execution_count": 120,
   "id": "d81ea4d8",
   "metadata": {},
   "outputs": [
    {
     "data": {
      "text/plain": [
       "array([[False,  True, False],\n",
       "       [False, False,  True],\n",
       "       [False, False, False]])"
      ]
     },
     "execution_count": 120,
     "metadata": {},
     "output_type": "execute_result"
    },
    {
     "data": {
      "text/plain": [
       "array([2, 4])"
      ]
     },
     "execution_count": 120,
     "metadata": {},
     "output_type": "execute_result"
    }
   ],
   "source": [
    "# Boolean array resulting from element-wise comparison\n",
    "array >= 2\n",
    "# Find the True elements of 'array'\n",
    "array[np.nonzero(array >= 2)]"
   ]
  },
  {
   "cell_type": "markdown",
   "id": "49603e91",
   "metadata": {},
   "source": [
    "#### 11. Create a 3x3 identity matrix (★☆☆)"
   ]
  },
  {
   "cell_type": "code",
   "execution_count": 121,
   "id": "5b607b5c",
   "metadata": {},
   "outputs": [
    {
     "data": {
      "text/plain": [
       "array([[1., 0., 0.],\n",
       "       [0., 1., 0.],\n",
       "       [0., 0., 1.]])"
      ]
     },
     "execution_count": 121,
     "metadata": {},
     "output_type": "execute_result"
    }
   ],
   "source": [
    "np.eye(3)"
   ]
  },
  {
   "cell_type": "markdown",
   "id": "e15c249a",
   "metadata": {},
   "source": [
    "#### 12. Create a 3x3x3 array with random values (★☆☆)"
   ]
  },
  {
   "cell_type": "code",
   "execution_count": 122,
   "id": "ab21ed50",
   "metadata": {},
   "outputs": [
    {
     "data": {
      "text/plain": [
       "array([[[0.2172 , 0.9023 , 0.7305 ],\n",
       "        [0.537  , 0.07874, 0.379  ],\n",
       "        [0.9243 , 0.1584 , 0.436  ]],\n",
       "\n",
       "       [[0.6836 , 0.4675 , 0.316  ],\n",
       "        [0.437  , 0.4958 , 0.1131 ],\n",
       "        [0.252  , 0.98   , 0.3308 ]],\n",
       "\n",
       "       [[0.8936 , 0.64   , 0.01775],\n",
       "        [0.3936 , 0.5366 , 0.4702 ],\n",
       "        [0.955  , 0.443  , 0.2278 ]]], dtype=float16)"
      ]
     },
     "execution_count": 122,
     "metadata": {},
     "output_type": "execute_result"
    }
   ],
   "source": [
    "# Or np.random.random(size=27).reshape((3, 3, 3))\n",
    "np.random.random(size=(3, 3, 3)).astype(np.float16)"
   ]
  },
  {
   "cell_type": "code",
   "execution_count": 123,
   "id": "834cd858",
   "metadata": {},
   "outputs": [
    {
     "data": {
      "text/plain": [
       "array([[[14, 15, 11],\n",
       "        [14, 19, 13],\n",
       "        [19, 17, 18]],\n",
       "\n",
       "       [[16, 16, 17],\n",
       "        [10, 19, 11],\n",
       "        [15, 16, 16]],\n",
       "\n",
       "       [[17, 18, 10],\n",
       "        [11, 12, 10],\n",
       "        [18, 14, 15]]])"
      ]
     },
     "execution_count": 123,
     "metadata": {},
     "output_type": "execute_result"
    }
   ],
   "source": [
    "# Integer array\n",
    "# Deprecated version: np.random.random_integers(low=10, high=20, size=(3, 3, 3))\n",
    "np.random.randint(low=10, high=20, size=(3, 3, 3))"
   ]
  },
  {
   "cell_type": "markdown",
   "id": "157a129c",
   "metadata": {},
   "source": [
    "#### 13. Create a 10x10 array with random values and find the minimum and maximum values (★☆☆) "
   ]
  },
  {
   "cell_type": "code",
   "execution_count": 124,
   "id": "c0066de5",
   "metadata": {},
   "outputs": [
    {
     "data": {
      "text/plain": [
       "array([[314, 137, 234, 157, 195, 427, 142, 188, 155, 366],\n",
       "       [360, 131, 180, 138, 366, 307, 134, 460, 293, 122],\n",
       "       [139, 245, 150, 136, 445, 264, 148, 139, 481, 420],\n",
       "       [254, 215, 205, 235, 207, 162, 111, 315, 247, 124],\n",
       "       [422, 199, 272, 446, 283, 334, 244, 130, 430, 311],\n",
       "       [209, 191, 386, 310, 390, 238, 120, 280, 469, 499],\n",
       "       [362, 153, 150, 385, 237, 458, 230, 457, 312, 289],\n",
       "       [237, 260, 370, 301, 211, 158, 364, 476, 434, 321],\n",
       "       [438, 339, 325, 215, 448, 258, 216, 331, 119, 101],\n",
       "       [440, 210, 267, 246, 166, 285, 145, 270, 450, 316]])"
      ]
     },
     "execution_count": 124,
     "metadata": {},
     "output_type": "execute_result"
    }
   ],
   "source": [
    "# Array\n",
    "array = np.random.randint(low=100, high=500, size=(10, 10))\n",
    "array"
   ]
  },
  {
   "cell_type": "code",
   "execution_count": 125,
   "id": "dd85f443",
   "metadata": {},
   "outputs": [
    {
     "data": {
      "text/plain": [
       "(499, 101)"
      ]
     },
     "execution_count": 125,
     "metadata": {},
     "output_type": "execute_result"
    }
   ],
   "source": [
    "# Min and max of both axes\n",
    "array.max(axis=None), array.min(axis=None)"
   ]
  },
  {
   "cell_type": "code",
   "execution_count": 126,
   "id": "45888848",
   "metadata": {},
   "outputs": [
    {
     "name": "stdout",
     "output_type": "stream",
     "text": [
      "The max values for each of the 10 columns are [440 339 386 446 448 458 364 476 481 499]\n",
      "The min values for each of the 10 column are [139 131 150 136 166 158 111 130 119 101]\n"
     ]
    }
   ],
   "source": [
    "# Min and max arrays for each column\n",
    "# Axis = 0 means operate or compare values vertically down the 'rows' and returning max values across the columns\n",
    "print(f'The max values for each of the 10 columns are {array.max(axis=0)}')\n",
    "print(f'The min values for each of the 10 column are {array.min(axis=0)}')"
   ]
  },
  {
   "cell_type": "code",
   "execution_count": 127,
   "id": "1b85425e",
   "metadata": {},
   "outputs": [
    {
     "name": "stdout",
     "output_type": "stream",
     "text": [
      "The max values for each of the 10 rows are [427 460 481 315 446 499 458 476 448 450]\n",
      "The min values for each of the 10 rows are [137 122 136 111 130 120 150 158 101 145]\n"
     ]
    }
   ],
   "source": [
    "# Min and max arrays for each row\n",
    "# Axis = 1 means operate or compare values horizontally across the 'columns' and returning min values down the rows\n",
    "print(f'The max values for each of the 10 rows are {array.max(axis=1)}')\n",
    "print(f'The min values for each of the 10 rows are {array.min(axis=1)}')"
   ]
  },
  {
   "cell_type": "markdown",
   "id": "d92d7b32",
   "metadata": {},
   "source": [
    "#### 14. Create a random vector of size 30 and find the mean value (★☆☆) "
   ]
  },
  {
   "cell_type": "code",
   "execution_count": 159,
   "id": "9672d023",
   "metadata": {},
   "outputs": [
    {
     "data": {
      "text/plain": [
       "0.4127502599200638"
      ]
     },
     "execution_count": 159,
     "metadata": {},
     "output_type": "execute_result"
    }
   ],
   "source": [
    "# One dimensional\n",
    "np.random.random(size=30).mean(axis=None)"
   ]
  },
  {
   "cell_type": "code",
   "execution_count": 168,
   "id": "d0b02946",
   "metadata": {},
   "outputs": [
    {
     "data": {
      "text/plain": [
       "array([[3, 2, 1],\n",
       "       [2, 4, 4],\n",
       "       [4, 3, 3]])"
      ]
     },
     "execution_count": 168,
     "metadata": {},
     "output_type": "execute_result"
    }
   ],
   "source": [
    "# Two dimensional\n",
    "array = np.random.randint(low=1, high=5, size=(3, 3))\n",
    "array"
   ]
  },
  {
   "cell_type": "code",
   "execution_count": 169,
   "id": "6f033ad6",
   "metadata": {},
   "outputs": [
    {
     "data": {
      "text/plain": [
       "array([3.        , 3.        , 2.66666667])"
      ]
     },
     "execution_count": 169,
     "metadata": {},
     "output_type": "execute_result"
    }
   ],
   "source": [
    "# Find mean of values by operating vertically down the 'rows' and returning mean values across the columns\n",
    "array.mean(axis=0)"
   ]
  },
  {
   "cell_type": "markdown",
   "id": "2c716373",
   "metadata": {},
   "source": [
    "This is the same as:\n",
    "\n",
    "* mean(3, 2, 4) = 3\n",
    "* mean(2, 4, 3) = 3\n",
    "* mean(1, 4, 3) = 2.6667"
   ]
  },
  {
   "cell_type": "code",
   "execution_count": 175,
   "id": "066d0277",
   "metadata": {},
   "outputs": [
    {
     "data": {
      "text/plain": [
       "array([2.        , 3.33333333, 3.33333333])"
      ]
     },
     "execution_count": 175,
     "metadata": {},
     "output_type": "execute_result"
    }
   ],
   "source": [
    "# Find mean of values by operating horizontally across the 'columns' and returning values down the rows\n",
    "array.mean(axis=1)"
   ]
  },
  {
   "cell_type": "markdown",
   "id": "94f8bc22",
   "metadata": {},
   "source": [
    "This is the same as:\n",
    "\n",
    "* mean(3, 2, 1) = 2\n",
    "* mean(2, 4, 4) = 3.3333\n",
    "* mean(4, 3, 3) = 3.3333"
   ]
  },
  {
   "cell_type": "markdown",
   "id": "f361efc0",
   "metadata": {},
   "source": [
    "#### 15. Create a 2d array with 1 on the border and 0 inside (★☆☆)\n",
    "\n",
    "* Inside out: The first way is to initialize a matrix of one's and replace all non-border elements with zeros."
   ]
  },
  {
   "cell_type": "code",
   "execution_count": 202,
   "id": "a55b6666",
   "metadata": {},
   "outputs": [
    {
     "data": {
      "text/plain": [
       "array([[1, 1, 1, 1, 1, 1, 1, 1, 1, 1],\n",
       "       [1, 1, 1, 1, 1, 1, 1, 1, 1, 1],\n",
       "       [1, 1, 1, 1, 1, 1, 1, 1, 1, 1],\n",
       "       [1, 1, 1, 1, 1, 1, 1, 1, 1, 1],\n",
       "       [1, 1, 1, 1, 1, 1, 1, 1, 1, 1],\n",
       "       [1, 1, 1, 1, 1, 1, 1, 1, 1, 1],\n",
       "       [1, 1, 1, 1, 1, 1, 1, 1, 1, 1],\n",
       "       [1, 1, 1, 1, 1, 1, 1, 1, 1, 1],\n",
       "       [1, 1, 1, 1, 1, 1, 1, 1, 1, 1],\n",
       "       [1, 1, 1, 1, 1, 1, 1, 1, 1, 1]], dtype=int16)"
      ]
     },
     "execution_count": 202,
     "metadata": {},
     "output_type": "execute_result"
    }
   ],
   "source": [
    "array = np.ones(shape=(10, 10)).astype(np.int16)\n",
    "array"
   ]
  },
  {
   "cell_type": "code",
   "execution_count": 203,
   "id": "71282821",
   "metadata": {},
   "outputs": [
    {
     "data": {
      "text/plain": [
       "(8, 8)"
      ]
     },
     "execution_count": 203,
     "metadata": {},
     "output_type": "execute_result"
    },
    {
     "data": {
      "text/plain": [
       "array([[1, 1, 1, 1, 1, 1, 1, 1, 1, 1],\n",
       "       [1, 0, 0, 0, 0, 0, 0, 0, 0, 1],\n",
       "       [1, 0, 0, 0, 0, 0, 0, 0, 0, 1],\n",
       "       [1, 0, 0, 0, 0, 0, 0, 0, 0, 1],\n",
       "       [1, 0, 0, 0, 0, 0, 0, 0, 0, 1],\n",
       "       [1, 0, 0, 0, 0, 0, 0, 0, 0, 1],\n",
       "       [1, 0, 0, 0, 0, 0, 0, 0, 0, 1],\n",
       "       [1, 0, 0, 0, 0, 0, 0, 0, 0, 1],\n",
       "       [1, 0, 0, 0, 0, 0, 0, 0, 0, 1],\n",
       "       [1, 1, 1, 1, 1, 1, 1, 1, 1, 1]], dtype=int16)"
      ]
     },
     "execution_count": 203,
     "metadata": {},
     "output_type": "execute_result"
    }
   ],
   "source": [
    "# Slice to get all rows expect for first and last rows\n",
    "# Slice to get all columns except first and last column\n",
    "array[1:-1, 1:-1].shape\n",
    "# Set to zeros\n",
    "array[1:-1, 1:-1] = 0\n",
    "array"
   ]
  },
  {
   "cell_type": "markdown",
   "id": "4a242c5e",
   "metadata": {},
   "source": [
    "* Outside in: The second way is to initialize a matrix of all zeros and replace all border elements with ones."
   ]
  },
  {
   "cell_type": "code",
   "execution_count": 204,
   "id": "240d9da9",
   "metadata": {},
   "outputs": [
    {
     "data": {
      "text/plain": [
       "array([[0, 0, 0, 0, 0, 0, 0, 0, 0, 0],\n",
       "       [0, 0, 0, 0, 0, 0, 0, 0, 0, 0],\n",
       "       [0, 0, 0, 0, 0, 0, 0, 0, 0, 0],\n",
       "       [0, 0, 0, 0, 0, 0, 0, 0, 0, 0],\n",
       "       [0, 0, 0, 0, 0, 0, 0, 0, 0, 0],\n",
       "       [0, 0, 0, 0, 0, 0, 0, 0, 0, 0],\n",
       "       [0, 0, 0, 0, 0, 0, 0, 0, 0, 0],\n",
       "       [0, 0, 0, 0, 0, 0, 0, 0, 0, 0],\n",
       "       [0, 0, 0, 0, 0, 0, 0, 0, 0, 0],\n",
       "       [0, 0, 0, 0, 0, 0, 0, 0, 0, 0]], dtype=int16)"
      ]
     },
     "execution_count": 204,
     "metadata": {},
     "output_type": "execute_result"
    }
   ],
   "source": [
    "array = np.zeros(shape=(10, 10)).astype(np.int16)\n",
    "array"
   ]
  },
  {
   "cell_type": "code",
   "execution_count": 210,
   "id": "3fee17ff",
   "metadata": {},
   "outputs": [
    {
     "data": {
      "text/plain": [
       "array([[1, 1, 1, 1, 1, 1, 1, 1, 1, 1],\n",
       "       [1, 0, 0, 0, 0, 0, 0, 0, 0, 1],\n",
       "       [1, 0, 0, 0, 0, 0, 0, 0, 0, 1],\n",
       "       [1, 0, 0, 0, 0, 0, 0, 0, 0, 1],\n",
       "       [1, 0, 0, 0, 0, 0, 0, 0, 0, 1],\n",
       "       [1, 0, 0, 0, 0, 0, 0, 0, 0, 1],\n",
       "       [1, 0, 0, 0, 0, 0, 0, 0, 0, 1],\n",
       "       [1, 0, 0, 0, 0, 0, 0, 0, 0, 1],\n",
       "       [1, 0, 0, 0, 0, 0, 0, 0, 0, 1],\n",
       "       [1, 1, 1, 1, 1, 1, 1, 1, 1, 1]], dtype=int16)"
      ]
     },
     "execution_count": 210,
     "metadata": {},
     "output_type": "execute_result"
    }
   ],
   "source": [
    "# First row\n",
    "array[0:1, :] = 1\n",
    "# Last row\n",
    "array[-1:, :] = 1\n",
    "# First column\n",
    "array[:, 0:1] = 1\n",
    "# Last column\n",
    "array[:, -1:] = 1\n",
    "\n",
    "array"
   ]
  },
  {
   "cell_type": "markdown",
   "id": "b31d3ff6",
   "metadata": {},
   "source": [
    "This second approach requires four assignments compared to the approach above, which requires one."
   ]
  },
  {
   "cell_type": "markdown",
   "id": "475808cb",
   "metadata": {},
   "source": [
    "#### 16. Padding with `np.pad` (★☆☆)\n",
    "\n",
    "##### Adding borders (2D)"
   ]
  },
  {
   "cell_type": "code",
   "execution_count": 128,
   "id": "b2df3a8a",
   "metadata": {},
   "outputs": [
    {
     "data": {
      "text/plain": [
       "array([[0.44806974, 0.33015147, 0.30813758],\n",
       "       [0.5335641 , 0.74928053, 0.9531797 ],\n",
       "       [0.14244733, 0.93944378, 0.25829056],\n",
       "       [0.84597112, 0.4071023 , 0.94274455],\n",
       "       [0.09526231, 0.54960299, 0.41570638]])"
      ]
     },
     "execution_count": 128,
     "metadata": {},
     "output_type": "execute_result"
    }
   ],
   "source": [
    "array = np.random.random(size=(5, 3))\n",
    "array"
   ]
  },
  {
   "cell_type": "code",
   "execution_count": 129,
   "id": "a5f82c73",
   "metadata": {},
   "outputs": [
    {
     "data": {
      "text/plain": [
       "array([[0.        , 0.        , 0.        , 0.        , 0.        ],\n",
       "       [0.        , 0.44806974, 0.33015147, 0.30813758, 0.        ],\n",
       "       [0.        , 0.5335641 , 0.74928053, 0.9531797 , 0.        ],\n",
       "       [0.        , 0.14244733, 0.93944378, 0.25829056, 0.        ],\n",
       "       [0.        , 0.84597112, 0.4071023 , 0.94274455, 0.        ],\n",
       "       [0.        , 0.09526231, 0.54960299, 0.41570638, 0.        ],\n",
       "       [0.        , 0.        , 0.        , 0.        , 0.        ]])"
      ]
     },
     "execution_count": 129,
     "metadata": {},
     "output_type": "execute_result"
    }
   ],
   "source": [
    "# Add four borders filled with zeros to the array\n",
    "np.pad(array, pad_width=1, mode='constant', constant_values=0)"
   ]
  },
  {
   "cell_type": "markdown",
   "id": "8812380c",
   "metadata": {},
   "source": [
    "##### Adding borders (3D)\n",
    "\n",
    "For a three dimensional array, `np.pad` can be used to wrap a layer of values to an existing rectangular cube:"
   ]
  },
  {
   "cell_type": "code",
   "execution_count": 229,
   "id": "258486ce",
   "metadata": {},
   "outputs": [
    {
     "data": {
      "text/plain": [
       "array([[[1., 1., 1.],\n",
       "        [1., 1., 1.],\n",
       "        [1., 1., 1.]],\n",
       "\n",
       "       [[1., 1., 1.],\n",
       "        [1., 1., 1.],\n",
       "        [1., 1., 1.]],\n",
       "\n",
       "       [[1., 1., 1.],\n",
       "        [1., 1., 1.],\n",
       "        [1., 1., 1.]]])"
      ]
     },
     "execution_count": 229,
     "metadata": {},
     "output_type": "execute_result"
    }
   ],
   "source": [
    "# Three dimensional cube\n",
    "array = np.ones(shape=(3, 3, 3))\n",
    "array "
   ]
  },
  {
   "cell_type": "code",
   "execution_count": 230,
   "id": "4d7b4650",
   "metadata": {},
   "outputs": [
    {
     "data": {
      "text/plain": [
       "array([[[0., 0., 0., 0., 0.],\n",
       "        [0., 0., 0., 0., 0.],\n",
       "        [0., 0., 0., 0., 0.],\n",
       "        [0., 0., 0., 0., 0.],\n",
       "        [0., 0., 0., 0., 0.]],\n",
       "\n",
       "       [[0., 0., 0., 0., 0.],\n",
       "        [0., 1., 1., 1., 0.],\n",
       "        [0., 1., 1., 1., 0.],\n",
       "        [0., 1., 1., 1., 0.],\n",
       "        [0., 0., 0., 0., 0.]],\n",
       "\n",
       "       [[0., 0., 0., 0., 0.],\n",
       "        [0., 1., 1., 1., 0.],\n",
       "        [0., 1., 1., 1., 0.],\n",
       "        [0., 1., 1., 1., 0.],\n",
       "        [0., 0., 0., 0., 0.]],\n",
       "\n",
       "       [[0., 0., 0., 0., 0.],\n",
       "        [0., 1., 1., 1., 0.],\n",
       "        [0., 1., 1., 1., 0.],\n",
       "        [0., 1., 1., 1., 0.],\n",
       "        [0., 0., 0., 0., 0.]],\n",
       "\n",
       "       [[0., 0., 0., 0., 0.],\n",
       "        [0., 0., 0., 0., 0.],\n",
       "        [0., 0., 0., 0., 0.],\n",
       "        [0., 0., 0., 0., 0.],\n",
       "        [0., 0., 0., 0., 0.]]])"
      ]
     },
     "execution_count": 230,
     "metadata": {},
     "output_type": "execute_result"
    }
   ],
   "source": [
    "np.pad(array, pad_width=1, mode='constant', constant_values=0)"
   ]
  },
  {
   "cell_type": "markdown",
   "id": "4057b6f0",
   "metadata": {},
   "source": [
    "The above example can be visualized as follows:\n",
    "\n",
    "<p align=\"center\">\n",
    "  <img width=\"400\" height=\"300\" img src=\"images/np_pad.png\">\n",
    "</p>\n",
    "\n",
    "This is like peeling off four of six sides of zeros so we can see the ones in the middle. \n",
    "\n",
    "##### The `pad_width` argument\n",
    "\n",
    "We can do more with `np.pad()`. For one, `pad_width` accepts a sequence with form `((before_1, after_1), (before_2, after_2), ...)`, allowing us to apply different amounts of padding to different axes and sides."
   ]
  },
  {
   "cell_type": "code",
   "execution_count": 231,
   "id": "b4843093",
   "metadata": {},
   "outputs": [
    {
     "data": {
      "text/plain": [
       "array([[1., 1., 1.],\n",
       "       [1., 1., 1.],\n",
       "       [1., 1., 1.]])"
      ]
     },
     "execution_count": 231,
     "metadata": {},
     "output_type": "execute_result"
    }
   ],
   "source": [
    "array = np.ones((3, 3))\n",
    "array"
   ]
  },
  {
   "cell_type": "code",
   "execution_count": 253,
   "id": "2901d917",
   "metadata": {},
   "outputs": [
    {
     "data": {
      "text/plain": [
       "array([[1., 1., 1., 2., 2., 2.],\n",
       "       [1., 1., 1., 2., 2., 2.],\n",
       "       [1., 1., 1., 2., 2., 2.],\n",
       "       [2., 2., 2., 2., 2., 2.],\n",
       "       [2., 2., 2., 2., 2., 2.],\n",
       "       [2., 2., 2., 2., 2., 2.]])"
      ]
     },
     "execution_count": 253,
     "metadata": {},
     "output_type": "execute_result"
    }
   ],
   "source": [
    "# Add three '2's to the edges of each axis\n",
    "np.pad(array, pad_width=((0, 3),), mode='constant', constant_values=2)"
   ]
  },
  {
   "cell_type": "markdown",
   "id": "db99d7a1",
   "metadata": {},
   "source": [
    "In the example above, `(0, 3)` means we are adding 0 padding to the beginning (before) of each axis, which, in this case, is two-dimensional -- rows and columns; we add three 2's to the end (after) of each row and column of the matrix."
   ]
  },
  {
   "cell_type": "markdown",
   "id": "1af07d85",
   "metadata": {},
   "source": [
    "#### 17. What is the result of the following expression? (★☆☆)\n",
    "\n",
    "```python\n",
    "0 * np.nan\n",
    "np.nan == np.nan\n",
    "np.inf > np.nan\n",
    "np.nan - np.nan\n",
    "np.nan in set([np.nan])\n",
    "0.3 == 3 * 0.1\n",
    "```"
   ]
  },
  {
   "cell_type": "code",
   "execution_count": 259,
   "id": "109cf327",
   "metadata": {},
   "outputs": [
    {
     "data": {
      "text/plain": [
       "nan"
      ]
     },
     "execution_count": 259,
     "metadata": {},
     "output_type": "execute_result"
    }
   ],
   "source": [
    "# Expect np.nan: identity operation\n",
    "0 * np.nan"
   ]
  },
  {
   "cell_type": "code",
   "execution_count": 257,
   "id": "1ff44346",
   "metadata": {},
   "outputs": [
    {
     "data": {
      "text/plain": [
       "False"
      ]
     },
     "execution_count": 257,
     "metadata": {},
     "output_type": "execute_result"
    }
   ],
   "source": [
    "# False: We would not expect two unknowns to be logically equal\n",
    "np.nan == np.nan"
   ]
  },
  {
   "cell_type": "code",
   "execution_count": 258,
   "id": "827d8824",
   "metadata": {},
   "outputs": [
    {
     "data": {
      "text/plain": [
       "False"
      ]
     },
     "execution_count": 258,
     "metadata": {},
     "output_type": "execute_result"
    }
   ],
   "source": [
    "# False: np.nan is unknown, and so we do not know that np.nan is less than infinity as it is possible\n",
    "np.inf > np.nan"
   ]
  },
  {
   "cell_type": "code",
   "execution_count": 261,
   "id": "024037e9",
   "metadata": {},
   "outputs": [
    {
     "data": {
      "text/plain": [
       "nan"
      ]
     },
     "execution_count": 261,
     "metadata": {},
     "output_type": "execute_result"
    }
   ],
   "source": [
    "# Expect np.nan: Unknown minus unknown is unknown\n",
    "np.nan - np.nan"
   ]
  },
  {
   "cell_type": "code",
   "execution_count": 262,
   "id": "c00aea4e",
   "metadata": {},
   "outputs": [
    {
     "data": {
      "text/plain": [
       "True"
      ]
     },
     "execution_count": 262,
     "metadata": {},
     "output_type": "execute_result"
    }
   ],
   "source": [
    "# True: we do know at least that there is an unknown in a set containing an unknown\n",
    "np.nan in set([np.nan])"
   ]
  },
  {
   "cell_type": "code",
   "execution_count": 267,
   "id": "b2221ccd",
   "metadata": {},
   "outputs": [
    {
     "data": {
      "text/plain": [
       "False"
      ]
     },
     "execution_count": 267,
     "metadata": {},
     "output_type": "execute_result"
    },
    {
     "data": {
      "text/plain": [
       "True"
      ]
     },
     "execution_count": 267,
     "metadata": {},
     "output_type": "execute_result"
    }
   ],
   "source": [
    "# False: imprecision in floating point arithmetic\n",
    "0.3 == 3 * 0.1\n",
    "# This is however true\n",
    "np.allclose(0.3, 3 * 0.1)"
   ]
  },
  {
   "cell_type": "markdown",
   "id": "6a235316",
   "metadata": {},
   "source": [
    "#### 18. Create a 5x5 matrix with values 1,2,3,4 just below the diagonal (★☆☆)\n",
    "\n",
    "The important argument here is `k`, which is the diagonal in question. The default value for `k` is 0, which is the main diagonal. We use `k>0` for diagonals above the main diagonal, and `k<0` for diagonals below the main diagonal."
   ]
  },
  {
   "cell_type": "code",
   "execution_count": 354,
   "id": "f2e6cfa6",
   "metadata": {},
   "outputs": [
    {
     "data": {
      "text/plain": [
       "array([[0, 0, 0, 0, 0],\n",
       "       [1, 0, 0, 0, 0],\n",
       "       [0, 2, 0, 0, 0],\n",
       "       [0, 0, 3, 0, 0],\n",
       "       [0, 0, 0, 4, 0]])"
      ]
     },
     "execution_count": 354,
     "metadata": {},
     "output_type": "execute_result"
    },
    {
     "data": {
      "text/plain": [
       "array([[0, 0, 0, 0, 0],\n",
       "       [1, 0, 0, 0, 0],\n",
       "       [0, 2, 0, 0, 0],\n",
       "       [0, 0, 3, 0, 0],\n",
       "       [0, 0, 0, 4, 0]])"
      ]
     },
     "execution_count": 354,
     "metadata": {},
     "output_type": "execute_result"
    }
   ],
   "source": [
    "np.diag(list(range(1, 5)), k=-1)\n",
    "# Or with np.arange(int)\n",
    "np.diag(1 + np.arange(4), k=-1)"
   ]
  },
  {
   "cell_type": "markdown",
   "id": "25362e98",
   "metadata": {},
   "source": [
    "#### 19. Create a 8x8 matrix and fill it with a checkerboard pattern (★☆☆)\n",
    "\n",
    "We initialize an $8 \\times 8$ matrix of 'w', which stands for white. Then, replace elements with 'b', which stands for black, as appropriate."
   ]
  },
  {
   "cell_type": "code",
   "execution_count": 371,
   "id": "cabdf298",
   "metadata": {},
   "outputs": [
    {
     "data": {
      "text/plain": [
       "array([['w', 'w', 'w', 'w', 'w', 'w', 'w', 'w'],\n",
       "       ['w', 'w', 'w', 'w', 'w', 'w', 'w', 'w'],\n",
       "       ['w', 'w', 'w', 'w', 'w', 'w', 'w', 'w'],\n",
       "       ['w', 'w', 'w', 'w', 'w', 'w', 'w', 'w'],\n",
       "       ['w', 'w', 'w', 'w', 'w', 'w', 'w', 'w'],\n",
       "       ['w', 'w', 'w', 'w', 'w', 'w', 'w', 'w'],\n",
       "       ['w', 'w', 'w', 'w', 'w', 'w', 'w', 'w'],\n",
       "       ['w', 'w', 'w', 'w', 'w', 'w', 'w', 'w']], dtype='<U1')"
      ]
     },
     "execution_count": 371,
     "metadata": {},
     "output_type": "execute_result"
    }
   ],
   "source": [
    "array = np.array(object=['w'] * 64, dtype=np.str_).reshape((8, 8))\n",
    "array\n"
   ]
  },
  {
   "cell_type": "markdown",
   "id": "f5d50b7e",
   "metadata": {},
   "source": [
    "We would use slice objects for subsetting elements of the array."
   ]
  },
  {
   "cell_type": "code",
   "execution_count": 383,
   "id": "b0f016f2",
   "metadata": {},
   "outputs": [
    {
     "data": {
      "text/plain": [
       "slice(0, 8, 2)"
      ]
     },
     "execution_count": 383,
     "metadata": {},
     "output_type": "execute_result"
    }
   ],
   "source": [
    "slice(0, 8, 2)"
   ]
  },
  {
   "cell_type": "code",
   "execution_count": 390,
   "id": "a478260f",
   "metadata": {},
   "outputs": [
    {
     "data": {
      "text/plain": [
       "array([['w', 'b', 'w', 'b', 'w', 'b', 'w', 'b'],\n",
       "       ['b', 'w', 'b', 'w', 'b', 'w', 'b', 'w'],\n",
       "       ['w', 'b', 'w', 'b', 'w', 'b', 'w', 'b'],\n",
       "       ['b', 'w', 'b', 'w', 'b', 'w', 'b', 'w'],\n",
       "       ['w', 'b', 'w', 'b', 'w', 'b', 'w', 'b'],\n",
       "       ['b', 'w', 'b', 'w', 'b', 'w', 'b', 'w'],\n",
       "       ['w', 'b', 'w', 'b', 'w', 'b', 'w', 'b'],\n",
       "       ['b', 'w', 'b', 'w', 'b', 'w', 'b', 'w']], dtype='<U1')"
      ]
     },
     "execution_count": 390,
     "metadata": {},
     "output_type": "execute_result"
    }
   ],
   "source": [
    "# For each odd row 1, 3, 5, 7, set the even entries to 'b' \n",
    "# The slice object `slice(start=0, stop=8, 2)` selects the odd rows, not including stop index\n",
    "# The slice object `slice(start=1, stop=8, 2)` selects the even entries of each odd row, not including stop index\n",
    "array[slice(0, 8, 2), slice(1, 8, 2)] = 'b'\n",
    "# For each even row 2, 4, 6, 8, set the odd entries to 'b'\n",
    "# The slice object `slice(start=1, stop=8, 2)` selects the even rows, not including stop index\n",
    "# The slice object `slice(start=1, stop=8, 2)` selects the odd entries each even row, not including stop index\n",
    "array[slice(1, 8, 2), slice(0, 8, 2)] = 'b'\n",
    "\n",
    "array"
   ]
  },
  {
   "cell_type": "markdown",
   "id": "2f2c36e5",
   "metadata": {},
   "source": [
    "We can visualize as follows:"
   ]
  },
  {
   "cell_type": "code",
   "execution_count": 398,
   "id": "11792451",
   "metadata": {},
   "outputs": [
    {
     "data": {
      "text/plain": [
       "<matplotlib.image.AxesImage at 0x11b9029a0>"
      ]
     },
     "execution_count": 398,
     "metadata": {},
     "output_type": "execute_result"
    },
    {
     "data": {
      "image/png": "[encoded data removed]",
      "text/plain": [
       "<Figure size 576x432 with 1 Axes>"
      ]
     },
     "metadata": {
      "needs_background": "light"
     },
     "output_type": "display_data"
    }
   ],
   "source": [
    "from matplotlib import pyplot as plt\n",
    "\n",
    "# Instantiate checkerboard\n",
    "array = np.zeros((8, 8))\n",
    "array[slice(0, 8, 2), slice(1, 8, 2)] = 1\n",
    "array[slice(1, 8, 2), slice(0, 8, 2)] = 1\n",
    "# Plot 0 as black and 1 as white\n",
    "fig = plt.figure(figsize=(8,6))\n",
    "plt.imshow(array, cmap='gray')"
   ]
  },
  {
   "cell_type": "markdown",
   "id": "6431e977",
   "metadata": {},
   "source": [
    "#### 20. Consider a (6,7,8) shape array, what is the index (x,y,z) of the 100th element? (★☆☆)"
   ]
  },
  {
   "cell_type": "code",
   "execution_count": 329,
   "id": "de8b0245",
   "metadata": {},
   "outputs": [
    {
     "data": {
      "text/plain": [
       "array([[[267, 659, 747,  92, 511, 497, 632, 875],\n",
       "        [ 64,  45, 765, 910, 140, 405, 863, 870],\n",
       "        [722, 831, 989, 147, 522, 531, 889, 330],\n",
       "        [262, 525, 760, 920, 652,  42, 696, 460],\n",
       "        [836, 266, 716, 415,  13, 471, 798, 187],\n",
       "        [602, 384, 856, 999, 777, 730, 625, 729],\n",
       "        [559, 292, 575, 114, 806, 780, 338, 171]],\n",
       "\n",
       "       [[714, 222, 897, 489, 558, 544, 958, 688],\n",
       "        [970, 103, 757, 514, 641, 209, 810, 516],\n",
       "        [853, 365, 275, 261,  66, 427, 302, 678],\n",
       "        [962, 936, 919, 982, 862, 141, 347, 211],\n",
       "        [907, 536, 535, 653, 920, 895, 198,  79],\n",
       "        [436, 633, 918, 355, 152, 699,  77, 876],\n",
       "        [277, 588,  86, 435,  94, 911, 651, 466]],\n",
       "\n",
       "       [[669, 720, 283, 962, 859, 218, 613, 911],\n",
       "        [764, 603, 447, 860, 252,  23, 766, 239],\n",
       "        [928, 155, 460, 436, 570, 636, 757, 917],\n",
       "        [566, 102, 855, 645, 348, 631, 774, 147],\n",
       "        [889, 888, 555, 258, 389, 997, 150, 708],\n",
       "        [957, 303,  94, 928, 224, 966, 322, 400],\n",
       "        [158, 489, 619, 603, 919, 358, 869, 611]],\n",
       "\n",
       "       [[666, 856, 421, 164, 287, 570, 857, 801],\n",
       "        [727, 306, 614, 677, 755, 489, 996, 306],\n",
       "        [684, 664, 306,  93, 869,  62, 772,  38],\n",
       "        [818, 949, 616, 710, 920, 960, 117, 671],\n",
       "        [ 78, 979, 175, 498, 612, 278, 139, 414],\n",
       "        [624, 890, 921, 747,  28, 538, 603, 830],\n",
       "        [523,  91, 310,  42, 798,  91, 638, 590]],\n",
       "\n",
       "       [[749, 683, 266, 629, 988, 759, 821, 152],\n",
       "        [ 70,  67, 588, 697, 682, 553, 708, 165],\n",
       "        [ 52, 770, 571, 290, 206, 225,  55, 417],\n",
       "        [711,  36, 191, 358, 635, 780, 649, 543],\n",
       "        [222, 807, 884, 113, 453, 795, 957, 893],\n",
       "        [406, 724, 924, 215, 720, 508, 739, 970],\n",
       "        [878, 233, 739, 863, 511, 221,  42, 760]],\n",
       "\n",
       "       [[ 22, 783, 354,  88,  96, 482, 657, 184],\n",
       "        [491, 534, 302,  43, 858, 553,  11, 633],\n",
       "        [107, 262, 681,  41, 297, 571, 776, 377],\n",
       "        [765,  92, 872, 400, 465, 593, 717, 773],\n",
       "        [640, 776, 293, 772, 775, 400, 834, 116],\n",
       "        [138, 639,  55, 226, 652,  79, 300, 818],\n",
       "        [670,  88, 246,  41, 916, 380, 988, 581]]])"
      ]
     },
     "execution_count": 329,
     "metadata": {},
     "output_type": "execute_result"
    }
   ],
   "source": [
    "array = np.random.randint(low=0, high=1000, size=(6, 7, 8))\n",
    "# Numpy reports the shape of 3D arrays in the order (depths or layers, rows, columns)\n",
    "array "
   ]
  },
  {
   "cell_type": "code",
   "execution_count": 336,
   "id": "91c64dc7",
   "metadata": {},
   "outputs": [
    {
     "data": {
      "text/plain": [
       "355"
      ]
     },
     "execution_count": 336,
     "metadata": {},
     "output_type": "execute_result"
    }
   ],
   "source": [
    "# Each of the 6 2D matrices has shape (7 x 8) so 56 elements\n",
    "# The 100th element is the 56 - (100 - (56 * 2)) = 44th element of the second matrix\n",
    "# The 44th element of a (7 x 8) matrix has indices (6th row, 4th column)\n",
    "# Index (2nd layer, 6th row, 4th column)\n",
    "array[1, 5, 3]"
   ]
  },
  {
   "cell_type": "code",
   "execution_count": 338,
   "id": "9ef3e547",
   "metadata": {},
   "outputs": [
    {
     "data": {
      "text/plain": [
       "(1, 5, 3)"
      ]
     },
     "execution_count": 338,
     "metadata": {},
     "output_type": "execute_result"
    },
    {
     "data": {
      "text/plain": [
       "355"
      ]
     },
     "execution_count": 338,
     "metadata": {},
     "output_type": "execute_result"
    }
   ],
   "source": [
    "# Equivalently, we can use `unravel_index` to get the same indices\n",
    "np.unravel_index(indices=99, shape=(6, 7, 8))\n",
    "# To obtain the actual element, we can flatten the array into a one-dimensional array and offset by the index we want\n",
    "array.flat[99]"
   ]
  },
  {
   "cell_type": "markdown",
   "id": "31abe6fe",
   "metadata": {},
   "source": [
    "#### 21. Create a checkerboard 8x8 matrix using the tile function (★☆☆)"
   ]
  },
  {
   "cell_type": "code",
   "execution_count": 32,
   "id": "10cb098a",
   "metadata": {},
   "outputs": [
    {
     "data": {
      "text/plain": [
       "array([['b', 'w'],\n",
       "       ['w', 'b']], dtype='<U1')"
      ]
     },
     "execution_count": 32,
     "metadata": {},
     "output_type": "execute_result"
    }
   ],
   "source": [
    "# Simple 2 by 2 matrix\n",
    "np.array([['b', 'w'],['w', 'b']])"
   ]
  },
  {
   "cell_type": "code",
   "execution_count": 35,
   "id": "6da26fd3",
   "metadata": {},
   "outputs": [
    {
     "data": {
      "text/plain": [
       "array([['b', 'w', 'b', 'w', 'b', 'w', 'b', 'w'],\n",
       "       ['w', 'b', 'w', 'b', 'w', 'b', 'w', 'b'],\n",
       "       ['b', 'w', 'b', 'w', 'b', 'w', 'b', 'w'],\n",
       "       ['w', 'b', 'w', 'b', 'w', 'b', 'w', 'b'],\n",
       "       ['b', 'w', 'b', 'w', 'b', 'w', 'b', 'w'],\n",
       "       ['w', 'b', 'w', 'b', 'w', 'b', 'w', 'b'],\n",
       "       ['b', 'w', 'b', 'w', 'b', 'w', 'b', 'w'],\n",
       "       ['w', 'b', 'w', 'b', 'w', 'b', 'w', 'b']], dtype='<U1')"
      ]
     },
     "execution_count": 35,
     "metadata": {},
     "output_type": "execute_result"
    }
   ],
   "source": [
    "np.tile(A=np.array([['b', 'w'],['w', 'b']]), reps=(4, 4))"
   ]
  },
  {
   "cell_type": "markdown",
   "id": "fd88b3f4",
   "metadata": {},
   "source": [
    "#### 22. Normalize a 5x5 random matrix (★☆☆)"
   ]
  },
  {
   "cell_type": "code",
   "execution_count": 42,
   "id": "ee6ced60",
   "metadata": {},
   "outputs": [
    {
     "data": {
      "text/plain": [
       "array([[834, 200, 222, 921, 125],\n",
       "       [416,   2,  68, 752, 932],\n",
       "       [724, 318, 469,  81, 604],\n",
       "       [937, 106, 505, 566, 128],\n",
       "       [290, 777, 460, 408, 157]])"
      ]
     },
     "execution_count": 42,
     "metadata": {},
     "output_type": "execute_result"
    }
   ],
   "source": [
    "# Random matrix\n",
    "array = np.random.randint(low=0, high=1000, size=(5, 5))\n",
    "array\n",
    "# Min and max\n",
    "min, max = array.min(), array.max()"
   ]
  },
  {
   "cell_type": "code",
   "execution_count": 43,
   "id": "ff5f4dbe",
   "metadata": {},
   "outputs": [
    {
     "data": {
      "text/plain": [
       "array([[0.88983957, 0.21176471, 0.23529412, 0.9828877 , 0.1315508 ],\n",
       "       [0.44278075, 0.        , 0.07058824, 0.80213904, 0.99465241],\n",
       "       [0.77219251, 0.33796791, 0.49946524, 0.08449198, 0.64385027],\n",
       "       [1.        , 0.11122995, 0.53796791, 0.60320856, 0.13475936],\n",
       "       [0.30802139, 0.82887701, 0.48983957, 0.4342246 , 0.1657754 ]])"
      ]
     },
     "execution_count": 43,
     "metadata": {},
     "output_type": "execute_result"
    }
   ],
   "source": [
    "# Normalize via vectorization (no loop)\n",
    "(array - min) / (max - min)"
   ]
  },
  {
   "cell_type": "code",
   "execution_count": 44,
   "id": "23f91bba",
   "metadata": {},
   "outputs": [
    {
     "data": {
      "text/plain": [
       "array([[8.32518814e+02, 1.98518814e+02, 2.20518814e+02, 9.19518814e+02,\n",
       "        1.23518814e+02],\n",
       "       [4.14518814e+02, 5.18814208e-01, 6.65188142e+01, 7.50518814e+02,\n",
       "        9.30518814e+02],\n",
       "       [7.22518814e+02, 3.16518814e+02, 4.67518814e+02, 7.95188142e+01,\n",
       "        6.02518814e+02],\n",
       "       [9.35518814e+02, 1.04518814e+02, 5.03518814e+02, 5.64518814e+02,\n",
       "        1.26518814e+02],\n",
       "       [2.88518814e+02, 7.75518814e+02, 4.58518814e+02, 4.06518814e+02,\n",
       "        1.55518814e+02]])"
      ]
     },
     "execution_count": 44,
     "metadata": {},
     "output_type": "execute_result"
    }
   ],
   "source": [
    "# Standardize via vectorization (no loop)\n",
    "array - array.mean() / array.std()"
   ]
  },
  {
   "cell_type": "markdown",
   "id": "464d8590",
   "metadata": {},
   "source": [
    "#### 23. Create a custom dtype that describes a color as four unsigned bytes (RGBA) (★☆☆)"
   ]
  },
  {
   "cell_type": "code",
   "execution_count": 57,
   "id": "e2f9cfc6",
   "metadata": {},
   "outputs": [
    {
     "data": {
      "text/plain": [
       "dtype([('r', 'u1'), ('g', 'u1'), ('b', 'u1'), ('a', 'u1')])"
      ]
     },
     "execution_count": 57,
     "metadata": {},
     "output_type": "execute_result"
    }
   ],
   "source": [
    "color = np.dtype([(\"r\", np.ubyte),\n",
    "                  (\"g\", np.ubyte),\n",
    "                  (\"b\", np.ubyte),\n",
    "                  (\"a\", np.ubyte)])\n",
    "color"
   ]
  },
  {
   "cell_type": "markdown",
   "id": "06c63bb3",
   "metadata": {},
   "source": [
    "#### 24. Multiply a 5x3 matrix by a 3x2 matrix (real matrix product) (★☆☆)"
   ]
  },
  {
   "cell_type": "code",
   "execution_count": 62,
   "id": "9fc0d553",
   "metadata": {},
   "outputs": [
    {
     "data": {
      "text/plain": [
       "array([[209, 182, 182],\n",
       "       [  1,  11,  66],\n",
       "       [ 57,  12, 227],\n",
       "       [190, 153, 170],\n",
       "       [141, 179,  53]], dtype=int16)"
      ]
     },
     "execution_count": 62,
     "metadata": {},
     "output_type": "execute_result"
    },
    {
     "data": {
      "text/plain": [
       "array([[126,   7],\n",
       "       [123,  46],\n",
       "       [238, 244]], dtype=int16)"
      ]
     },
     "execution_count": 62,
     "metadata": {},
     "output_type": "execute_result"
    }
   ],
   "source": [
    "A = np.random.randint(low=0, high=255, size=(5, 3), dtype=np.int16)\n",
    "B = np.random.randint(low=0, high=255, size=(3, 2), dtype=np.int16)\n",
    "A\n",
    "B"
   ]
  },
  {
   "cell_type": "code",
   "execution_count": 63,
   "id": "f60d5b0a",
   "metadata": {},
   "outputs": [
    {
     "data": {
      "text/plain": [
       "array([[ 26500, -11293],\n",
       "       [ 17187,  16617],\n",
       "       [ -2852,  -9197],\n",
       "       [ 17683, -15688],\n",
       "       [-13139,  22153]], dtype=int16)"
      ]
     },
     "execution_count": 63,
     "metadata": {},
     "output_type": "execute_result"
    }
   ],
   "source": [
    "# First way\n",
    "A @ B"
   ]
  },
  {
   "cell_type": "code",
   "execution_count": 64,
   "id": "c7bb759a",
   "metadata": {},
   "outputs": [
    {
     "data": {
      "text/plain": [
       "array([[ 26500, -11293],\n",
       "       [ 17187,  16617],\n",
       "       [ -2852,  -9197],\n",
       "       [ 17683, -15688],\n",
       "       [-13139,  22153]], dtype=int16)"
      ]
     },
     "execution_count": 64,
     "metadata": {},
     "output_type": "execute_result"
    }
   ],
   "source": [
    "np.matmul(A, B)"
   ]
  },
  {
   "cell_type": "markdown",
   "id": "76fa6285",
   "metadata": {},
   "source": [
    "#### 25. Given a 1D array, negate all elements which are between 3 and 8, in place. (★☆☆)\n",
    "\n",
    "Use logical subsetting and direct assignment:"
   ]
  },
  {
   "cell_type": "code",
   "execution_count": 78,
   "id": "0e25eca7",
   "metadata": {},
   "outputs": [
    {
     "data": {
      "text/plain": [
       "array([[8, 6, 2, 6, 7, 1, 7, 9, 1, 1]], dtype=int16)"
      ]
     },
     "execution_count": 78,
     "metadata": {},
     "output_type": "execute_result"
    }
   ],
   "source": [
    "array = np.random.randint(low=0, high=10, size=(1, 10), dtype=np.int16)\n",
    "array"
   ]
  },
  {
   "cell_type": "code",
   "execution_count": 79,
   "id": "42b827c4",
   "metadata": {},
   "outputs": [
    {
     "data": {
      "text/plain": [
       "array([[ 8, -6,  2, -6, -7,  1, -7,  9,  1,  1]], dtype=int16)"
      ]
     },
     "execution_count": 79,
     "metadata": {},
     "output_type": "execute_result"
    }
   ],
   "source": [
    "array[np.logical_and(array > 3, array < 8)] *= -1\n",
    "array"
   ]
  },
  {
   "cell_type": "markdown",
   "id": "930ed8bb",
   "metadata": {},
   "source": [
    "#### 26. What is the output of the following script? (★☆☆) \n",
    "```python\n",
    "# Author: Jake VanderPlas\n",
    "\n",
    "print(sum(range(5),-1))\n",
    "from numpy import *\n",
    "print(sum(range(5),-1))\n",
    "```"
   ]
  },
  {
   "cell_type": "code",
   "execution_count": 81,
   "id": "f02eedba",
   "metadata": {},
   "outputs": [
    {
     "data": {
      "text/plain": [
       "9"
      ]
     },
     "execution_count": 81,
     "metadata": {},
     "output_type": "execute_result"
    }
   ],
   "source": [
    "# Expected: (0 + 1 + 2 + 3 + 4) + (-1) = 9\n",
    "sum(range(5), -1)"
   ]
  },
  {
   "cell_type": "code",
   "execution_count": 85,
   "id": "2f0f2e39",
   "metadata": {},
   "outputs": [
    {
     "data": {
      "text/plain": [
       "10"
      ]
     },
     "execution_count": 85,
     "metadata": {},
     "output_type": "execute_result"
    }
   ],
   "source": [
    "from numpy import *\n",
    "sum(range(5), -1)"
   ]
  },
  {
   "cell_type": "markdown",
   "id": "c22bfb62",
   "metadata": {},
   "source": [
    "This is because `from numpy import *` imports `np.sum`, which behaves differently than built-in `sum` function. For `np.sum`, the first and second positional arguments are accepted as `a` and `axis`, where the function counts from the last to the first axis when axis is negative. The built-in `sum` function interprets both `range(5)` and `-1` as elements to sum over.\n",
    "\n"
   ]
  },
  {
   "cell_type": "markdown",
   "id": "177120e7",
   "metadata": {},
   "source": [
    "#### 27. Consider an integer vector Z, which of these expressions are legal? (★☆☆)\n",
    "```python\n",
    "Z**Z\n",
    "2 << Z >> 2\n",
    "Z <- Z\n",
    "1j*Z\n",
    "Z/1/1\n",
    "Z<Z>Z\n",
    "```"
   ]
  },
  {
   "cell_type": "markdown",
   "id": "87102fd7",
   "metadata": {},
   "source": [
    "1. Power operation element-wise:"
   ]
  },
  {
   "cell_type": "code",
   "execution_count": 101,
   "id": "86d6cbef",
   "metadata": {},
   "outputs": [
    {
     "data": {
      "text/plain": [
       "array([4, 5, 9, 0, 2])"
      ]
     },
     "execution_count": 101,
     "metadata": {},
     "output_type": "execute_result"
    }
   ],
   "source": [
    "Z = np.random.randint(low=0, high=10, size=(5,), dtype=np.int64)\n",
    "Z"
   ]
  },
  {
   "cell_type": "code",
   "execution_count": 103,
   "id": "c91413b0",
   "metadata": {},
   "outputs": [
    {
     "data": {
      "text/plain": [
       "array([      256,      3125, 387420489,         1,         4])"
      ]
     },
     "execution_count": 103,
     "metadata": {},
     "output_type": "execute_result"
    },
    {
     "data": {
      "text/plain": [
       "array([      256,      3125, 387420489,         1,         4])"
      ]
     },
     "execution_count": 103,
     "metadata": {},
     "output_type": "execute_result"
    }
   ],
   "source": [
    "Z ** Z\n",
    "np.power(Z, Z)"
   ]
  },
  {
   "cell_type": "markdown",
   "id": "06f6a48c",
   "metadata": {},
   "source": [
    "2. The `numpy.left_shift()` (<<) and `numpy.right_shift()` (>>) functions shift the bits in binary representation of an array element to the left or right by specified positions equaling the number of 0s that are appended from the right or left."
   ]
  },
  {
   "cell_type": "code",
   "execution_count": 115,
   "id": "20f7571f",
   "metadata": {},
   "outputs": [
    {
     "name": "stdout",
     "output_type": "stream",
     "text": [
      "Left shift of number 10 by two positions leads to the number 40:\n",
      "40\n",
      "\n",
      "\n",
      "Binary representation of 10:\n"
     ]
    },
    {
     "data": {
      "text/plain": [
       "'00001010'"
      ]
     },
     "execution_count": 115,
     "metadata": {},
     "output_type": "execute_result"
    },
    {
     "name": "stdout",
     "output_type": "stream",
     "text": [
      "\n",
      "\n",
      "Binary representation of 40:\n"
     ]
    },
    {
     "data": {
      "text/plain": [
       "'00101000'"
      ]
     },
     "execution_count": 115,
     "metadata": {},
     "output_type": "execute_result"
    },
    {
     "name": "stdout",
     "output_type": "stream",
     "text": [
      "Notice that two zeros are appended to the right of the binary representation of 10.\n"
     ]
    }
   ],
   "source": [
    "print('Left shift of number 10 by two positions leads to the number 40:' )\n",
    "print(np.left_shift(10, 2)) \n",
    "print('\\n')\n",
    "print('Binary representation of 10:')\n",
    "np.binary_repr(10, width = 8) \n",
    "print('\\n')\n",
    "print('Binary representation of 40:')\n",
    "np.binary_repr(40, width = 8)  \n",
    "print('Notice that two zeros are appended to the right of the binary representation of 10.')"
   ]
  },
  {
   "cell_type": "code",
   "execution_count": 119,
   "id": "0879c4a9",
   "metadata": {},
   "outputs": [
    {
     "name": "stdout",
     "output_type": "stream",
     "text": [
      "Left shift of number 10 by two positions leads to the number 2:\n",
      "2\n",
      "\n",
      "\n",
      "Binary representation of 10:\n"
     ]
    },
    {
     "data": {
      "text/plain": [
       "'00001010'"
      ]
     },
     "execution_count": 119,
     "metadata": {},
     "output_type": "execute_result"
    },
    {
     "name": "stdout",
     "output_type": "stream",
     "text": [
      "\n",
      "\n",
      "Binary representation of 2:\n"
     ]
    },
    {
     "data": {
      "text/plain": [
       "'00000010'"
      ]
     },
     "execution_count": 119,
     "metadata": {},
     "output_type": "execute_result"
    },
    {
     "name": "stdout",
     "output_type": "stream",
     "text": [
      "Notice that two zeros are appended to the left of the binary representation of 10.\n"
     ]
    }
   ],
   "source": [
    "print('Left shift of number 10 by two positions leads to the number 2:' )\n",
    "print(np.right_shift(10, 2)) \n",
    "print('\\n')\n",
    "print('Binary representation of 10:')\n",
    "np.binary_repr(10, width = 8) \n",
    "print('\\n')\n",
    "print('Binary representation of 2:')\n",
    "np.binary_repr(2, width = 8)  \n",
    "print('Notice that two zeros are appended to the left of the binary representation of 10.')"
   ]
  },
  {
   "cell_type": "markdown",
   "id": "90b72112",
   "metadata": {},
   "source": [
    "3. Relational operators `<` and `>`"
   ]
  },
  {
   "cell_type": "code",
   "execution_count": 124,
   "id": "a022b3ff",
   "metadata": {},
   "outputs": [
    {
     "data": {
      "text/plain": [
       "array([False, False, False, False, False])"
      ]
     },
     "execution_count": 124,
     "metadata": {},
     "output_type": "execute_result"
    }
   ],
   "source": [
    "Z < (-Z)"
   ]
  },
  {
   "cell_type": "markdown",
   "id": "a6eaf0e8",
   "metadata": {},
   "source": [
    "#### 28. What are the result of the following expressions? (★☆☆)\n",
    "```python\n",
    "np.array(0) / np.array(0)\n",
    "np.array(0) // np.array(0)\n",
    "np.array([np.nan]).astype(int).astype(float)\n",
    "```"
   ]
  },
  {
   "cell_type": "code",
   "execution_count": 131,
   "id": "587d3322",
   "metadata": {},
   "outputs": [
    {
     "name": "stderr",
     "output_type": "stream",
     "text": [
      "/var/folders/z_/pqnd1zt14yb6fdthpr75md480000gn/T/ipykernel_3396/2437694223.py:2: RuntimeWarning: invalid value encountered in true_divide\n",
      "  np.array(0) / np.array(0)\n"
     ]
    },
    {
     "data": {
      "text/plain": [
       "nan"
      ]
     },
     "execution_count": 131,
     "metadata": {},
     "output_type": "execute_result"
    }
   ],
   "source": [
    "# 0 / 0 is undefined\n",
    "np.array(0) / np.array(0)"
   ]
  },
  {
   "cell_type": "code",
   "execution_count": 132,
   "id": "daff5572",
   "metadata": {},
   "outputs": [
    {
     "name": "stderr",
     "output_type": "stream",
     "text": [
      "/var/folders/z_/pqnd1zt14yb6fdthpr75md480000gn/T/ipykernel_3396/2018018105.py:1: RuntimeWarning: divide by zero encountered in floor_divide\n",
      "  np.array(0) // np.array(0)\n"
     ]
    },
    {
     "data": {
      "text/plain": [
       "0"
      ]
     },
     "execution_count": 132,
     "metadata": {},
     "output_type": "execute_result"
    }
   ],
   "source": [
    "# Floor division invalid for zero denominator\n",
    "np.array(0) // np.array(0)"
   ]
  },
  {
   "cell_type": "code",
   "execution_count": 143,
   "id": "42c7b610",
   "metadata": {},
   "outputs": [
    {
     "data": {
      "text/plain": [
       "array([-9.22337204e+18])"
      ]
     },
     "execution_count": 143,
     "metadata": {},
     "output_type": "execute_result"
    }
   ],
   "source": [
    "np.array([np.nan]).astype(int).astype(float)"
   ]
  },
  {
   "cell_type": "markdown",
   "id": "524b65f8",
   "metadata": {},
   "source": [
    "#### 29. How to round away from zero in a float array ? (★☆☆) \n",
    "\n",
    "First way:"
   ]
  },
  {
   "cell_type": "code",
   "execution_count": 149,
   "id": "61fbb78e",
   "metadata": {},
   "outputs": [
    {
     "data": {
      "text/plain": [
       "array([0.73313411, 0.94562945, 0.6940228 , 0.95087711, 0.95544916])"
      ]
     },
     "execution_count": 149,
     "metadata": {},
     "output_type": "execute_result"
    }
   ],
   "source": [
    "# Round away from zero in a float array\n",
    "array = np.random.random(size=(5,))\n",
    "array"
   ]
  },
  {
   "cell_type": "code",
   "execution_count": 150,
   "id": "7e5d270e",
   "metadata": {},
   "outputs": [
    {
     "data": {
      "text/plain": [
       "array([1., 1., 1., 1., 1.])"
      ]
     },
     "execution_count": 150,
     "metadata": {},
     "output_type": "execute_result"
    }
   ],
   "source": [
    "np.ceil(array)"
   ]
  },
  {
   "cell_type": "markdown",
   "id": "661a60a4",
   "metadata": {},
   "source": [
    "Another way that handles negative values:"
   ]
  },
  {
   "cell_type": "code",
   "execution_count": 152,
   "id": "ff0ea5eb",
   "metadata": {},
   "outputs": [
    {
     "data": {
      "text/plain": [
       "array([-1.05542386,  1.01607334, -4.889055  ,  8.21071306,  9.52365079])"
      ]
     },
     "execution_count": 152,
     "metadata": {},
     "output_type": "execute_result"
    }
   ],
   "source": [
    "array = np.random.uniform(-10,+10, 5)\n",
    "array"
   ]
  },
  {
   "cell_type": "code",
   "execution_count": 153,
   "id": "b5129ef2",
   "metadata": {},
   "outputs": [
    {
     "data": {
      "text/plain": [
       "array([-2.,  2., -5.,  9., 10.])"
      ]
     },
     "execution_count": 153,
     "metadata": {},
     "output_type": "execute_result"
    }
   ],
   "source": [
    "np.copysign(np.ceil(np.abs(array)), array)"
   ]
  },
  {
   "cell_type": "code",
   "execution_count": 154,
   "id": "8bf5c2e3",
   "metadata": {},
   "outputs": [
    {
     "data": {
      "text/plain": [
       "array([-2.,  2., -5.,  9., 10.])"
      ]
     },
     "execution_count": 154,
     "metadata": {},
     "output_type": "execute_result"
    }
   ],
   "source": [
    "# More readable but less efficient\n",
    "np.where(array > 0, np.ceil(array), np.floor(array))"
   ]
  },
  {
   "cell_type": "markdown",
   "id": "8dc40752",
   "metadata": {},
   "source": [
    "#### 30. How to find common values between two arrays? (★☆☆)\n",
    "\n",
    "Using `numpy.intersect1d(ar1, ar2, assume_unique=False, return_indices=False)`:"
   ]
  },
  {
   "cell_type": "code",
   "execution_count": 155,
   "id": "54399cbe",
   "metadata": {},
   "outputs": [],
   "source": [
    "array1 = np.array([1, 2, 3, 4, 5, 6, 7, 8, 9, 10])\n",
    "array2 = np.array([2, 4, 6, 8])"
   ]
  },
  {
   "cell_type": "code",
   "execution_count": 156,
   "id": "4dbca040",
   "metadata": {},
   "outputs": [
    {
     "data": {
      "text/plain": [
       "array([2, 4, 6, 8])"
      ]
     },
     "execution_count": 156,
     "metadata": {},
     "output_type": "execute_result"
    }
   ],
   "source": [
    "np.intersect1d(array1, array2, assume_unique=True)"
   ]
  },
  {
   "cell_type": "markdown",
   "id": "b7f38e21",
   "metadata": {},
   "source": [
    "#### 31. How to ignore all numpy warnings (not recommended)? (★☆☆)"
   ]
  },
  {
   "cell_type": "code",
   "execution_count": null,
   "id": "2ca3289c",
   "metadata": {},
   "outputs": [],
   "source": [
    "# Take no action when the exception occurs\n",
    "defaults = np.seterr(all=\"ignore\")\n",
    "\n",
    "# Revert to default\n",
    "_ = np.seterr(**defaults)\n",
    "\n",
    "# Equivalently with a context manager\n",
    "with np.errstate(all=\"ignore\"):\n",
    "    np.arange(3) / 0"
   ]
  },
  {
   "cell_type": "markdown",
   "id": "2d850aab",
   "metadata": {},
   "source": [
    "#### 32. Is the following expressions true? (★☆☆)\n",
    "```python\n",
    "np.sqrt(-1) == np.emath.sqrt(-1)\n",
    "```"
   ]
  },
  {
   "cell_type": "code",
   "execution_count": 5,
   "id": "5c83ffce",
   "metadata": {},
   "outputs": [
    {
     "data": {
      "text/plain": [
       "1j"
      ]
     },
     "execution_count": 5,
     "metadata": {},
     "output_type": "execute_result"
    }
   ],
   "source": [
    "# For negative input elements, a complex value is returned (unlike numpy.sqrt which returns NaN)\n",
    "np.emath.sqrt(-1)"
   ]
  },
  {
   "cell_type": "markdown",
   "id": "5c4a556f",
   "metadata": {},
   "source": [
    "#### 33. Datetime (★☆☆)\n",
    "\n",
    "For instantiating instance of `np.datetime64`"
   ]
  },
  {
   "cell_type": "code",
   "execution_count": 9,
   "id": "a4a4a5a4",
   "metadata": {},
   "outputs": [
    {
     "data": {
      "text/plain": [
       "numpy.datetime64('2005-02-25')"
      ]
     },
     "execution_count": 9,
     "metadata": {},
     "output_type": "execute_result"
    }
   ],
   "source": [
    "# ISO date\n",
    "np.datetime64('2005-02-25')"
   ]
  },
  {
   "cell_type": "code",
   "execution_count": 10,
   "id": "bacb1483",
   "metadata": {},
   "outputs": [
    {
     "data": {
      "text/plain": [
       "numpy.datetime64('2005-02')"
      ]
     },
     "execution_count": 10,
     "metadata": {},
     "output_type": "execute_result"
    }
   ],
   "source": [
    "# Just month\n",
    "np.datetime64('2005-02')"
   ]
  },
  {
   "cell_type": "code",
   "execution_count": 11,
   "id": "5a710ca9",
   "metadata": {},
   "outputs": [
    {
     "data": {
      "text/plain": [
       "numpy.datetime64('NaT')"
      ]
     },
     "execution_count": 11,
     "metadata": {},
     "output_type": "execute_result"
    }
   ],
   "source": [
    "# Not a time\n",
    "np.datetime64('nat')"
   ]
  },
  {
   "cell_type": "code",
   "execution_count": 25,
   "id": "3551968f",
   "metadata": {},
   "outputs": [
    {
     "data": {
      "text/plain": [
       "array(['1980', '1982', '1984', '1986', '1988', '1990', '1992', '1994',\n",
       "       '1996', '1998'], dtype='datetime64[Y]')"
      ]
     },
     "execution_count": 25,
     "metadata": {},
     "output_type": "execute_result"
    }
   ],
   "source": [
    "# Array of 10, 12, 14, ..., 28 years since the UNIX epoch\n",
    "np.array([np.datetime64(value, 'Y') for value in range(10, 30, 2)])"
   ]
  },
  {
   "cell_type": "code",
   "execution_count": 32,
   "id": "8eaaa465",
   "metadata": {},
   "outputs": [
    {
     "data": {
      "text/plain": [
       "numpy.datetime64('2022-06-21')"
      ]
     },
     "execution_count": 32,
     "metadata": {},
     "output_type": "execute_result"
    },
    {
     "data": {
      "text/plain": [
       "numpy.datetime64('2022-06-20')"
      ]
     },
     "execution_count": 32,
     "metadata": {},
     "output_type": "execute_result"
    },
    {
     "data": {
      "text/plain": [
       "numpy.datetime64('2022-06-28')"
      ]
     },
     "execution_count": 32,
     "metadata": {},
     "output_type": "execute_result"
    }
   ],
   "source": [
    "# Today's day\n",
    "np.datetime64('today')\n",
    "# Yesterday using timedelta\n",
    "np.datetime64('today') - np.timedelta64(1, 'D')\n",
    "# A week from today\n",
    "np.datetime64('today') + np.timedelta64(7, 'D')"
   ]
  },
  {
   "cell_type": "markdown",
   "id": "453cdd64",
   "metadata": {},
   "source": [
    "#### 34. How to get all the dates corresponding to the month of July 2016? (★★☆) "
   ]
  },
  {
   "cell_type": "markdown",
   "id": "0a1c8231",
   "metadata": {},
   "source": [
    "Using a list comprehension to create a list of `np.timedelta64` in 1 day unit. Then, use vectorization to apply datetime arithmetic."
   ]
  },
  {
   "cell_type": "code",
   "execution_count": 44,
   "id": "4ba4d37c",
   "metadata": {},
   "outputs": [
    {
     "data": {
      "text/plain": [
       "array(['2016-07-01', '2016-07-02', '2016-07-03', '2016-07-04',\n",
       "       '2016-07-05', '2016-07-06', '2016-07-07', '2016-07-08',\n",
       "       '2016-07-09', '2016-07-10', '2016-07-11', '2016-07-12',\n",
       "       '2016-07-13', '2016-07-14', '2016-07-15', '2016-07-16',\n",
       "       '2016-07-17', '2016-07-18', '2016-07-19', '2016-07-20',\n",
       "       '2016-07-21', '2016-07-22', '2016-07-23', '2016-07-24',\n",
       "       '2016-07-25', '2016-07-26', '2016-07-27', '2016-07-28',\n",
       "       '2016-07-29', '2016-07-30', '2016-07-31'], dtype='datetime64[D]')"
      ]
     },
     "execution_count": 44,
     "metadata": {},
     "output_type": "execute_result"
    }
   ],
   "source": [
    "# Obtain all dates in the month of july in 2016\n",
    "# Each element of delta is a timedelta64 object, which is added to the start date\n",
    "[np.timedelta64(val, 'D') for val in range(0, 31)] + np.datetime64('2016-07-01', 'M')"
   ]
  },
  {
   "cell_type": "markdown",
   "id": "3dca5936",
   "metadata": {},
   "source": [
    "More efficient way using `np.arange`."
   ]
  },
  {
   "cell_type": "code",
   "execution_count": 45,
   "id": "00a5cefc",
   "metadata": {},
   "outputs": [
    {
     "data": {
      "text/plain": [
       "array(['2016-07-01', '2016-07-02', '2016-07-03', '2016-07-04',\n",
       "       '2016-07-05', '2016-07-06', '2016-07-07', '2016-07-08',\n",
       "       '2016-07-09', '2016-07-10', '2016-07-11', '2016-07-12',\n",
       "       '2016-07-13', '2016-07-14', '2016-07-15', '2016-07-16',\n",
       "       '2016-07-17', '2016-07-18', '2016-07-19', '2016-07-20',\n",
       "       '2016-07-21', '2016-07-22', '2016-07-23', '2016-07-24',\n",
       "       '2016-07-25', '2016-07-26', '2016-07-27', '2016-07-28',\n",
       "       '2016-07-29', '2016-07-30', '2016-07-31'], dtype='datetime64[D]')"
      ]
     },
     "execution_count": 45,
     "metadata": {},
     "output_type": "execute_result"
    }
   ],
   "source": [
    "np.arange('2016-07', '2016-08', dtype='datetime64[D]')"
   ]
  },
  {
   "cell_type": "markdown",
   "id": "52667b6e",
   "metadata": {},
   "source": [
    "#### 35. How to compute ((A+B)*(-A/2)) in place (without copy)? (★★☆)"
   ]
  },
  {
   "cell_type": "code",
   "execution_count": 79,
   "id": "e6e7c030",
   "metadata": {},
   "outputs": [
    {
     "data": {
      "text/plain": [
       "(array([0.71565119, 0.91197604, 0.50477607, 0.06009771, 0.43189709]),\n",
       " array([0.09584721, 0.56761837, 0.54150729, 0.81323855, 0.13627823]))"
      ]
     },
     "execution_count": 79,
     "metadata": {},
     "output_type": "execute_result"
    }
   ],
   "source": [
    "# Arrays\n",
    "A = np.random.random(size=5)\n",
    "B = np.random.random(size=5)\n",
    "A, B"
   ]
  },
  {
   "cell_type": "code",
   "execution_count": 80,
   "id": "ac2abcfc",
   "metadata": {},
   "outputs": [
    {
     "data": {
      "text/plain": [
       "array([0.8114984 , 1.47959441, 1.04628335, 0.87333627, 0.56817532])"
      ]
     },
     "execution_count": 80,
     "metadata": {},
     "output_type": "execute_result"
    },
    {
     "data": {
      "text/plain": [
       "array([0.3578256 , 0.45598802, 0.25238803, 0.03004886, 0.21594854])"
      ]
     },
     "execution_count": 80,
     "metadata": {},
     "output_type": "execute_result"
    },
    {
     "data": {
      "text/plain": [
       "array([-0.3578256 , -0.45598802, -0.25238803, -0.03004886, -0.21594854])"
      ]
     },
     "execution_count": 80,
     "metadata": {},
     "output_type": "execute_result"
    },
    {
     "data": {
      "text/plain": [
       "array([-0.2903749 , -0.67467732, -0.2640694 , -0.02624276, -0.12269663])"
      ]
     },
     "execution_count": 80,
     "metadata": {},
     "output_type": "execute_result"
    }
   ],
   "source": [
    "# Add A and B and store results in B\n",
    "np.add(A, B, out=B)\n",
    "# Divide A through by 2 and store results in A\n",
    "np.divide(A, 2, out=A)\n",
    "# Negate A, storing results in A\n",
    "# Or np.negative(A, out=A)\n",
    "np.multiply(A, -1, out=A)\n",
    "# Multiple A and B\n",
    "np.multiply(A, B, out=A)"
   ]
  },
  {
   "cell_type": "code",
   "execution_count": 81,
   "id": "b5fa7190",
   "metadata": {},
   "outputs": [
    {
     "data": {
      "text/plain": [
       "array([-0.2903749 , -0.67467732, -0.2640694 , -0.02624276, -0.12269663])"
      ]
     },
     "execution_count": 81,
     "metadata": {},
     "output_type": "execute_result"
    }
   ],
   "source": [
    "A"
   ]
  },
  {
   "cell_type": "markdown",
   "id": "9a8f3738",
   "metadata": {},
   "source": [
    "#### 36. Extract the integer part of a random array of positive numbers using 4 different methods (★★☆) "
   ]
  },
  {
   "cell_type": "code",
   "execution_count": 86,
   "id": "bef16973",
   "metadata": {},
   "outputs": [
    {
     "data": {
      "text/plain": [
       "array([0.36485312, 0.74468059, 6.43173316, 1.03051448, 8.81548898])"
      ]
     },
     "execution_count": 86,
     "metadata": {},
     "output_type": "execute_result"
    }
   ],
   "source": [
    "array = np.random.uniform(low=0, high=10, size=5)\n",
    "array"
   ]
  },
  {
   "cell_type": "code",
   "execution_count": 92,
   "id": "368a801a",
   "metadata": {},
   "outputs": [
    {
     "data": {
      "text/plain": [
       "array([0., 0., 6., 1., 8.])"
      ]
     },
     "execution_count": 92,
     "metadata": {},
     "output_type": "execute_result"
    }
   ],
   "source": [
    "# First: using floor\n",
    "np.floor(array, out=None)\n"
   ]
  },
  {
   "cell_type": "code",
   "execution_count": 91,
   "id": "f15a071e",
   "metadata": {},
   "outputs": [
    {
     "data": {
      "text/plain": [
       "array([0, 0, 6, 1, 8], dtype=int16)"
      ]
     },
     "execution_count": 91,
     "metadata": {},
     "output_type": "execute_result"
    }
   ],
   "source": [
    "# Second: using astype\n",
    "array.astype(np.int16)"
   ]
  },
  {
   "cell_type": "code",
   "execution_count": 105,
   "id": "55915d0c",
   "metadata": {},
   "outputs": [
    {
     "data": {
      "text/plain": [
       "(0.8154889809696666, 8.0)"
      ]
     },
     "execution_count": 105,
     "metadata": {},
     "output_type": "execute_result"
    },
    {
     "data": {
      "text/plain": [
       "array([0., 0., 6., 1., 8.])"
      ]
     },
     "execution_count": 105,
     "metadata": {},
     "output_type": "execute_result"
    }
   ],
   "source": [
    "# Third: using math.modf\n",
    "from math import modf\n",
    "modf(array[4])\n",
    "# The second element of the returned tuple is the digit before the decimal\n",
    "np.array([modf(val)[1] for val in array])"
   ]
  },
  {
   "cell_type": "code",
   "execution_count": 106,
   "id": "29330a12",
   "metadata": {},
   "outputs": [
    {
     "data": {
      "text/plain": [
       "array([0., 0., 6., 1., 8.])"
      ]
     },
     "execution_count": 106,
     "metadata": {},
     "output_type": "execute_result"
    }
   ],
   "source": [
    "# Fourth: np.fix\n",
    "np.fix(array)"
   ]
  },
  {
   "cell_type": "code",
   "execution_count": 107,
   "id": "519effa3",
   "metadata": {},
   "outputs": [
    {
     "data": {
      "text/plain": [
       "array([0., 0., 6., 1., 8.])"
      ]
     },
     "execution_count": 107,
     "metadata": {},
     "output_type": "execute_result"
    }
   ],
   "source": [
    "# Fifth: using np.trunc\n",
    "np.trunc(array)"
   ]
  },
  {
   "cell_type": "code",
   "execution_count": 110,
   "id": "f222a68d",
   "metadata": {},
   "outputs": [
    {
     "data": {
      "text/plain": [
       "array([0.36485312, 0.74468059, 0.43173316, 0.03051448, 0.81548898])"
      ]
     },
     "execution_count": 110,
     "metadata": {},
     "output_type": "execute_result"
    }
   ],
   "source": [
    "# Sixth: using modulus operator\n",
    "# array % 1 scales each element of array between 0 and 1\n",
    "array - array % 1"
   ]
  },
  {
   "cell_type": "markdown",
   "id": "cab1eed1",
   "metadata": {},
   "source": [
    "#### 37. Create a 5x5 matrix with row values ranging from 0 to 4 (★★☆)"
   ]
  },
  {
   "cell_type": "markdown",
   "id": "6e72e127",
   "metadata": {},
   "source": [
    "First way is to create a one dimensional array with 25 elements and then reshape:"
   ]
  },
  {
   "cell_type": "code",
   "execution_count": 161,
   "id": "f1b579ba",
   "metadata": {},
   "outputs": [
    {
     "data": {
      "text/plain": [
       "array([[4, 0, 3, 2, 4],\n",
       "       [0, 3, 3, 4, 3],\n",
       "       [2, 0, 1, 2, 2],\n",
       "       [0, 1, 3, 4, 1],\n",
       "       [2, 0, 3, 1, 3]])"
      ]
     },
     "execution_count": 161,
     "metadata": {},
     "output_type": "execute_result"
    }
   ],
   "source": [
    "np.random.randint(low=0, high=5, size=25).reshape((5, 5))"
   ]
  },
  {
   "cell_type": "markdown",
   "id": "ca192843",
   "metadata": {},
   "source": [
    " Another way is to use `np.repeat` or `np.tile`:"
   ]
  },
  {
   "cell_type": "code",
   "execution_count": 170,
   "id": "f30dfa57",
   "metadata": {},
   "outputs": [
    {
     "data": {
      "text/plain": [
       "array([[2, 2, 2, 2, 2],\n",
       "       [4, 4, 4, 4, 4],\n",
       "       [3, 3, 3, 3, 3],\n",
       "       [4, 4, 4, 4, 4],\n",
       "       [2, 2, 2, 2, 2]])"
      ]
     },
     "execution_count": 170,
     "metadata": {},
     "output_type": "execute_result"
    }
   ],
   "source": [
    "# Repeat\n",
    "np.repeat(np.random.randint(low=0, high=5, size=5), repeats=5).reshape((5, 5))"
   ]
  },
  {
   "cell_type": "code",
   "execution_count": 173,
   "id": "56e94a5b",
   "metadata": {},
   "outputs": [
    {
     "data": {
      "text/plain": [
       "array([[0, 1, 2, 3, 4],\n",
       "       [0, 1, 2, 3, 4],\n",
       "       [0, 1, 2, 3, 4],\n",
       "       [0, 1, 2, 3, 4],\n",
       "       [0, 1, 2, 3, 4]])"
      ]
     },
     "execution_count": 173,
     "metadata": {},
     "output_type": "execute_result"
    }
   ],
   "source": [
    "# Tile\n",
    "# Repeat [0, 1, 2, 3, 4] 5 times along first axis (vertically down the rows)\n",
    "# Repeat [0, 1, 2, 3, 4] only 1 time along the second axis (horizontally across the columns)\n",
    "np.tile(np.arange(0, 5), reps=(5, 1))"
   ]
  },
  {
   "cell_type": "markdown",
   "id": "cd0ce6b1",
   "metadata": {},
   "source": [
    "#### 38. Consider a generator function that generates 10 integers and use it to build an array (★★☆)"
   ]
  },
  {
   "cell_type": "code",
   "execution_count": 205,
   "id": "aab193a6",
   "metadata": {},
   "outputs": [],
   "source": [
    "def gen_int(n):\n",
    "    \"\"\"\n",
    "    Generate n number of integers.\n",
    "\n",
    "    Parameters\n",
    "    ----------\n",
    "    n : int\n",
    "        Number of integers to generate\n",
    "    \"\"\"\n",
    "    # Initialize a random generator\n",
    "    \n",
    "    for i in range(n):\n",
    "        yield np.random.randint(low=0, high=9999, size=None)"
   ]
  },
  {
   "cell_type": "code",
   "execution_count": 208,
   "id": "d3fc1bb9",
   "metadata": {},
   "outputs": [
    {
     "data": {
      "text/plain": [
       "array([8255, 6785, 6484, 9899, 5752, 6344, 5982, 7698, 1638, 1458])"
      ]
     },
     "execution_count": 208,
     "metadata": {},
     "output_type": "execute_result"
    }
   ],
   "source": [
    "# First way\n",
    "np.array(list(gen_int(10)))"
   ]
  },
  {
   "cell_type": "code",
   "execution_count": 209,
   "id": "e2196671",
   "metadata": {},
   "outputs": [
    {
     "data": {
      "text/plain": [
       "array([9809, 4826,  289, 1986, 3400, 1844, 4143, 1150,  870, 4663])"
      ]
     },
     "execution_count": 209,
     "metadata": {},
     "output_type": "execute_result"
    }
   ],
   "source": [
    "# Second way, using 'count=-1' to read all data from iterable (i.e., the generator)\n",
    "np.fromiter(gen_int(10), dtype=np.int64, count=-1)"
   ]
  },
  {
   "cell_type": "markdown",
   "id": "c4c942d1",
   "metadata": {},
   "source": [
    "#### 39. Create a vector of size 10 with values ranging from 0 to 1, both excluded (★★☆)\n",
    "\n",
    "First way is to use `np.arange`:"
   ]
  },
  {
   "cell_type": "code",
   "execution_count": 126,
   "id": "e42eaa4b",
   "metadata": {},
   "outputs": [
    {
     "data": {
      "text/plain": [
       "array([0.1, 0.2, 0.3, 0.4, 0.5, 0.6, 0.7, 0.8, 0.9])"
      ]
     },
     "execution_count": 126,
     "metadata": {},
     "output_type": "execute_result"
    }
   ],
   "source": [
    "np.arange(start=0.1, stop=1, step=0.1)"
   ]
  },
  {
   "cell_type": "markdown",
   "id": "961003cb",
   "metadata": {},
   "source": [
    "Second way is to use `np.linspace` and unselect the first (0) and last (1) elements:"
   ]
  },
  {
   "cell_type": "code",
   "execution_count": 5,
   "id": "d0283e81",
   "metadata": {},
   "outputs": [
    {
     "data": {
      "text/plain": [
       "array([0.1, 0.2, 0.3, 0.4, 0.5, 0.6, 0.7, 0.8, 0.9])"
      ]
     },
     "execution_count": 5,
     "metadata": {},
     "output_type": "execute_result"
    }
   ],
   "source": [
    "np.linspace(start=0, stop=1, num=11)[1:-1]"
   ]
  },
  {
   "cell_type": "markdown",
   "id": "9b3cb8d2",
   "metadata": {},
   "source": [
    "#### 40. Create a random vector of size 10 and sort it (★★☆)\n",
    "\n",
    "One dimensional:"
   ]
  },
  {
   "cell_type": "code",
   "execution_count": 112,
   "id": "37d2b341",
   "metadata": {},
   "outputs": [
    {
     "data": {
      "text/plain": [
       "array([25.21890036, 31.23093119, 58.81107785, 45.87761605, 57.05357056,\n",
       "       60.19091083, 71.18971418, 85.72670835, 17.19974749, 74.72126755,\n",
       "       73.67830883, 96.23081199, 36.73343859, 27.16605376, 39.81353994,\n",
       "       41.4146772 , 86.88906369, 42.23876111, 22.12165453, 54.98976239])"
      ]
     },
     "execution_count": 112,
     "metadata": {},
     "output_type": "execute_result"
    }
   ],
   "source": [
    "vec = np.random.uniform(10, 100, 20)\n",
    "vec"
   ]
  },
  {
   "cell_type": "code",
   "execution_count": 118,
   "id": "13f6ab4d",
   "metadata": {},
   "outputs": [
    {
     "data": {
      "text/plain": [
       "array([17.19974749, 22.12165453, 25.21890036, 27.16605376, 31.23093119,\n",
       "       36.73343859, 39.81353994, 41.4146772 , 42.23876111, 45.87761605,\n",
       "       54.98976239, 57.05357056, 58.81107785, 60.19091083, 71.18971418,\n",
       "       73.67830883, 74.72126755, 85.72670835, 86.88906369, 96.23081199])"
      ]
     },
     "execution_count": 118,
     "metadata": {},
     "output_type": "execute_result"
    }
   ],
   "source": [
    "np.sort(a=vec, axis=-1)"
   ]
  },
  {
   "cell_type": "markdown",
   "id": "091a93a4",
   "metadata": {},
   "source": [
    "Two dimensional:"
   ]
  },
  {
   "cell_type": "code",
   "execution_count": 121,
   "id": "1228f103",
   "metadata": {},
   "outputs": [
    {
     "data": {
      "text/plain": [
       "array([[0.21888575, 0.65148656, 0.70939446, 0.82695577, 0.7523689 ],\n",
       "       [0.50363284, 0.025533  , 0.58680481, 0.06683678, 0.69992884],\n",
       "       [0.65930249, 0.75755451, 0.92704358, 0.03215812, 0.34581911],\n",
       "       [0.65217479, 0.29181759, 0.39655912, 0.13667841, 0.45279913]])"
      ]
     },
     "execution_count": 121,
     "metadata": {},
     "output_type": "execute_result"
    }
   ],
   "source": [
    "mat = np.random.random(size=20).reshape((4, 5))\n",
    "mat"
   ]
  },
  {
   "cell_type": "code",
   "execution_count": 122,
   "id": "b924affe",
   "metadata": {},
   "outputs": [
    {
     "data": {
      "text/plain": [
       "array([[0.21888575, 0.025533  , 0.39655912, 0.03215812, 0.34581911],\n",
       "       [0.50363284, 0.29181759, 0.58680481, 0.06683678, 0.45279913],\n",
       "       [0.65217479, 0.65148656, 0.70939446, 0.13667841, 0.69992884],\n",
       "       [0.65930249, 0.75755451, 0.92704358, 0.82695577, 0.7523689 ]])"
      ]
     },
     "execution_count": 122,
     "metadata": {},
     "output_type": "execute_result"
    }
   ],
   "source": [
    "# Sort vertically down the rows\n",
    "np.sort(a=mat, axis=0)"
   ]
  },
  {
   "cell_type": "code",
   "execution_count": 123,
   "id": "bfaf5e38",
   "metadata": {},
   "outputs": [
    {
     "data": {
      "text/plain": [
       "array([[0.21888575, 0.65148656, 0.70939446, 0.7523689 , 0.82695577],\n",
       "       [0.025533  , 0.06683678, 0.50363284, 0.58680481, 0.69992884],\n",
       "       [0.03215812, 0.34581911, 0.65930249, 0.75755451, 0.92704358],\n",
       "       [0.13667841, 0.29181759, 0.39655912, 0.45279913, 0.65217479]])"
      ]
     },
     "execution_count": 123,
     "metadata": {},
     "output_type": "execute_result"
    }
   ],
   "source": [
    "# Sort horizontally across the columns\n",
    "np.sort(a=mat, axis=1)"
   ]
  },
  {
   "cell_type": "markdown",
   "id": "2facfddc",
   "metadata": {},
   "source": [
    "#### 41. How to sum a small array faster than np.sum? (★★☆)"
   ]
  },
  {
   "cell_type": "code",
   "execution_count": 4,
   "id": "4bb8864f",
   "metadata": {},
   "outputs": [
    {
     "data": {
      "text/plain": [
       "array([10.6886536 ,  0.46209409, 10.97345883, ...,  8.10346623,  2.05029037,  5.80684654])"
      ]
     },
     "execution_count": 4,
     "metadata": {},
     "output_type": "execute_result"
    }
   ],
   "source": [
    "array = np.random.uniform(low=0, high=20, size=10000)\n",
    "array"
   ]
  },
  {
   "cell_type": "code",
   "execution_count": 5,
   "id": "23c47474",
   "metadata": {},
   "outputs": [
    {
     "name": "stdout",
     "output_type": "stream",
     "text": [
      "7.29 µs ± 209 ns per loop (mean ± std. dev. of 7 runs, 100000 loops each)\n"
     ]
    }
   ],
   "source": [
    "%%timeit\n",
    "np.sum(array, axis=0)"
   ]
  },
  {
   "cell_type": "code",
   "execution_count": 6,
   "id": "6d535b5f",
   "metadata": {},
   "outputs": [
    {
     "name": "stdout",
     "output_type": "stream",
     "text": [
      "4.64 µs ± 135 ns per loop (mean ± std. dev. of 7 runs, 100000 loops each)\n"
     ]
    }
   ],
   "source": [
    "%%timeit\n",
    "np.add.reduce(array)"
   ]
  },
  {
   "attachments": {},
   "cell_type": "markdown",
   "id": "1836a145",
   "metadata": {},
   "source": [
    "Let `array.shape` $=\\left(N_0, \\ldots, N_i, \\ldots, N_{M-1}\\right)$. Then\n",
    "`ufunc.reduce(array, axis=i)`$[k_0, \\ldots, k_{i-1}, k_{i+1}, \\ldots, k_{M-1}]$ is the result of iterating a variable $j$ over `range(N_i)`, cumulatively applying ufunc to each $\\operatorname{array}\\left[k_0, \\ldots, k_{i-1}, j, k_{i+1}, \\ldots, k_{M-1}\\right]$. For a one-dimensional array, reduce produces results equivalent to:\n",
    "\n",
    "```python\n",
    "r = op.identity \n",
    "\n",
    "for i in range(len(array)):\n",
    "  r = op(r, array[i])\n",
    "return r\n",
    "```"
   ]
  },
  {
   "cell_type": "code",
   "execution_count": 9,
   "id": "d67ee4d0",
   "metadata": {},
   "outputs": [
    {
     "data": {
      "text/plain": [
       "-100759.44483635743"
      ]
     },
     "execution_count": 9,
     "metadata": {},
     "output_type": "execute_result"
    }
   ],
   "source": [
    "# Subtract each element from the next element\n",
    "np.subtract.reduce(array)"
   ]
  },
  {
   "cell_type": "markdown",
   "id": "539cd2a5",
   "metadata": {},
   "source": [
    "#### 42. Consider two random array A and B, check if they are equal (★★☆)"
   ]
  },
  {
   "cell_type": "code",
   "execution_count": 18,
   "id": "5246d7bf",
   "metadata": {},
   "outputs": [
    {
     "data": {
      "text/plain": [
       "(array([0.47602976, 0.63784908, 0.96517444, ..., 0.50528663, 0.81706869,\n",
       "        0.97951393]),\n",
       " array([0.48466667, 0.42567907, 0.73592774, ..., 0.5893231 , 0.97491695,\n",
       "        0.57517899]))"
      ]
     },
     "execution_count": 18,
     "metadata": {},
     "output_type": "execute_result"
    }
   ],
   "source": [
    "A = np.random.random(size=10000)\n",
    "B = np.random.random(size=10000)\n",
    "A, B"
   ]
  },
  {
   "cell_type": "code",
   "execution_count": 19,
   "id": "a9ff7493",
   "metadata": {},
   "outputs": [
    {
     "data": {
      "text/plain": [
       "False"
      ]
     },
     "execution_count": 19,
     "metadata": {},
     "output_type": "execute_result"
    }
   ],
   "source": [
    "# Assuming identical shape of the arrays and a tolerance for the comparison of values\n",
    "np.allclose(A, B)"
   ]
  },
  {
   "cell_type": "code",
   "execution_count": 24,
   "id": "9113cbe8",
   "metadata": {},
   "outputs": [
    {
     "data": {
      "text/plain": [
       "(array([0.        , 0.21234568, 0.42469136, 0.63703704, 0.84938272,\n",
       "        1.06172839, 1.27407407, 1.48641975, 1.69876543, 1.91111111,\n",
       "        2.12345679, 2.33580247, 2.54814815, 2.76049383, 2.9728395 ,\n",
       "        3.18518518, 3.39753086, 3.60987654, 3.82222222, 4.0345679 ,\n",
       "        4.24691358, 4.45925926, 4.67160494, 4.88395061, 5.09629629,\n",
       "        5.30864197, 5.52098765, 5.73333333, 5.94567901, 6.15802469,\n",
       "        6.37037037, 6.58271605, 6.79506172, 7.0074074 , 7.21975308,\n",
       "        7.43209876, 7.64444444, 7.85679012, 8.0691358 , 8.28148148,\n",
       "        8.49382716, 8.70617283, 8.91851851, 9.13086419, 9.34320987,\n",
       "        9.55555555, 9.76790123, 9.98024691]),\n",
       " array([0.        , 0.21234568, 0.42469136, 0.63703704, 0.84938272,\n",
       "        1.06172839, 1.27407407, 1.48641975, 1.69876543, 1.91111111,\n",
       "        2.12345679, 2.33580247, 2.54814815, 2.76049383, 2.9728395 ,\n",
       "        3.18518518, 3.39753086, 3.60987654, 3.82222222, 4.0345679 ,\n",
       "        4.24691358, 4.45925926, 4.67160494, 4.88395061, 5.09629629,\n",
       "        5.30864197, 5.52098765, 5.73333333, 5.94567901, 6.15802469,\n",
       "        6.37037037, 6.58271605, 6.79506172, 7.0074074 , 7.21975308,\n",
       "        7.43209876, 7.64444444, 7.85679012, 8.0691358 , 8.28148148,\n",
       "        8.49382716, 8.70617283, 8.91851851, 9.13086419, 9.34320987,\n",
       "        9.55555555, 9.76790123, 9.98024691]))"
      ]
     },
     "execution_count": 24,
     "metadata": {},
     "output_type": "execute_result"
    }
   ],
   "source": [
    "A = np.arange(0, 10, 0.2123456789)\n",
    "B = np.arange(0, 10, 0.2123456789)\n",
    "A, B"
   ]
  },
  {
   "cell_type": "code",
   "execution_count": 25,
   "id": "44ce2e54",
   "metadata": {},
   "outputs": [
    {
     "data": {
      "text/plain": [
       "True"
      ]
     },
     "execution_count": 25,
     "metadata": {},
     "output_type": "execute_result"
    }
   ],
   "source": [
    "# Check both the shape and the element values, no tolerance (values have to be identical)\n",
    "# Another similar function is ?np.array_equiv\n",
    "np.array_equal(A, B)"
   ]
  },
  {
   "cell_type": "markdown",
   "id": "448f8274",
   "metadata": {},
   "source": [
    "#### 43. Make an array immutable (read-only) (★★☆)"
   ]
  },
  {
   "cell_type": "code",
   "execution_count": 54,
   "id": "7cf2b3dd",
   "metadata": {},
   "outputs": [],
   "source": [
    "array = np.random.randint(low=0, high=10, size=10)\n",
    "array2 = array"
   ]
  },
  {
   "cell_type": "code",
   "execution_count": 55,
   "id": "885b0ac1",
   "metadata": {},
   "outputs": [
    {
     "data": {
      "text/plain": [
       "True"
      ]
     },
     "execution_count": 55,
     "metadata": {},
     "output_type": "execute_result"
    }
   ],
   "source": [
    "# Array2 points to the same object in memory\n",
    "array2 is array"
   ]
  },
  {
   "cell_type": "code",
   "execution_count": 56,
   "id": "dd83d79a",
   "metadata": {},
   "outputs": [
    {
     "data": {
      "text/plain": [
       "array([-1, -1,  9, -1,  7, -1,  9,  6,  0, -1])"
      ]
     },
     "execution_count": 56,
     "metadata": {},
     "output_type": "execute_result"
    }
   ],
   "source": [
    "# Modify array\n",
    "array[np.logical_and(array > 0, array < 6)] = -1\n",
    "array"
   ]
  },
  {
   "cell_type": "code",
   "execution_count": 57,
   "id": "a0b6ecfe",
   "metadata": {},
   "outputs": [
    {
     "data": {
      "text/plain": [
       "array([-1, -1,  9, -1,  7, -1,  9,  6,  0, -1])"
      ]
     },
     "execution_count": 57,
     "metadata": {},
     "output_type": "execute_result"
    }
   ],
   "source": [
    "# Array2 should be modified as well\n",
    "array2"
   ]
  },
  {
   "cell_type": "code",
   "execution_count": 58,
   "id": "c106495e",
   "metadata": {},
   "outputs": [],
   "source": [
    "# Make array unwritable\n",
    "array2.flags.writeable = False"
   ]
  },
  {
   "cell_type": "code",
   "execution_count": 59,
   "id": "33e13f83",
   "metadata": {},
   "outputs": [
    {
     "name": "stdout",
     "output_type": "stream",
     "text": [
      "assignment destination is read-only\n"
     ]
    }
   ],
   "source": [
    "# Modifying array should throw an exception\n",
    "try:\n",
    "    array2[0] = 10000\n",
    "except ValueError as e:\n",
    "    print(e)\n"
   ]
  },
  {
   "cell_type": "markdown",
   "id": "d7b7aaf3",
   "metadata": {},
   "source": [
    "#### 44. Consider a random 10x2 matrix representing cartesian coordinates, convert them to polar coordinates (★★☆)"
   ]
  },
  {
   "cell_type": "code",
   "execution_count": 63,
   "id": "e2337585",
   "metadata": {},
   "outputs": [
    {
     "data": {
      "text/plain": [
       "array([[0.75134207, 0.08771077],\n",
       "       [0.17512005, 0.77922563],\n",
       "       [0.51508478, 0.6164875 ],\n",
       "       [0.10636031, 0.34052401],\n",
       "       [0.71730147, 0.19242424],\n",
       "       [0.56780865, 0.19011287],\n",
       "       [0.05918713, 0.94989864],\n",
       "       [0.65408745, 0.76193478],\n",
       "       [0.2030526 , 0.38493471],\n",
       "       [0.39066237, 0.4514577 ]])"
      ]
     },
     "execution_count": 63,
     "metadata": {},
     "output_type": "execute_result"
    }
   ],
   "source": [
    "mat = np.random.random(size=(10, 2))\n",
    "mat"
   ]
  },
  {
   "cell_type": "code",
   "execution_count": 66,
   "id": "e6d3a0d7",
   "metadata": {},
   "outputs": [],
   "source": [
    "x, y = mat[:, 0], mat[:, 1]\n",
    "r = np.sqrt(x**2 + y**2)\n",
    "t = np.arctan2(y, x)"
   ]
  },
  {
   "cell_type": "code",
   "execution_count": 67,
   "id": "9482a921",
   "metadata": {},
   "outputs": [
    {
     "data": {
      "text/plain": [
       "array([[0.75644437, 0.11621279],\n",
       "       [0.79866114, 1.34973318],\n",
       "       [0.80334872, 0.87477167],\n",
       "       [0.35674798, 1.26805445],\n",
       "       [0.7426631 , 0.26209058],\n",
       "       [0.59879009, 0.32308665],\n",
       "       [0.95174079, 1.50856789],\n",
       "       [1.00417877, 0.86141358],\n",
       "       [0.43520695, 1.08539246],\n",
       "       [0.59701855, 0.85746632]])"
      ]
     },
     "execution_count": 67,
     "metadata": {},
     "output_type": "execute_result"
    }
   ],
   "source": [
    "# Column bind\n",
    "np.c_[r, t]"
   ]
  },
  {
   "cell_type": "code",
   "execution_count": 72,
   "id": "384da67b",
   "metadata": {},
   "outputs": [
    {
     "data": {
      "text/plain": [
       "array([0.75134207, 0.17512005, 0.51508478, 0.10636031, 0.71730147,\n",
       "       0.56780865, 0.05918713, 0.65408745, 0.2030526 , 0.39066237,\n",
       "       0.08771077, 0.77922563, 0.6164875 , 0.34052401, 0.19242424,\n",
       "       0.19011287, 0.94989864, 0.76193478, 0.38493471, 0.4514577 ])"
      ]
     },
     "execution_count": 72,
     "metadata": {},
     "output_type": "execute_result"
    }
   ],
   "source": [
    "# Row bind\n",
    "np.r_[x, y]"
   ]
  },
  {
   "cell_type": "markdown",
   "id": "a556027a",
   "metadata": {},
   "source": [
    "#### 45. Create random vector of size 10 and replace the maximum value by 0 (★★☆)"
   ]
  },
  {
   "cell_type": "code",
   "execution_count": 77,
   "id": "9e07cb87",
   "metadata": {},
   "outputs": [
    {
     "data": {
      "text/plain": [
       "array([-14.22083069,   1.20437268, -13.68136436, -86.2371922 ,\n",
       "       -16.98220607,  84.54239982, -97.16566039, -22.81798725,\n",
       "       -53.93086813, -12.33707646])"
      ]
     },
     "execution_count": 77,
     "metadata": {},
     "output_type": "execute_result"
    }
   ],
   "source": [
    "array = np.random.uniform(low=-100, high=100, size=10)\n",
    "array"
   ]
  },
  {
   "cell_type": "code",
   "execution_count": 75,
   "id": "f33bc686",
   "metadata": {},
   "outputs": [
    {
     "data": {
      "image/png": "[encoded data removed]",
      "text/plain": [
       "<Figure size 432x288 with 1 Axes>"
      ]
     },
     "metadata": {
      "needs_background": "light"
     },
     "output_type": "display_data"
    }
   ],
   "source": [
    "plt.hist(array);"
   ]
  },
  {
   "cell_type": "code",
   "execution_count": 80,
   "id": "7240e26c",
   "metadata": {},
   "outputs": [],
   "source": [
    "# The argmax method returns the index of the maximum value\n",
    "array[array.argmax()] = 0"
   ]
  },
  {
   "cell_type": "code",
   "execution_count": 81,
   "id": "f036d418",
   "metadata": {},
   "outputs": [
    {
     "data": {
      "text/plain": [
       "array([-14.22083069,   1.20437268, -13.68136436, -86.2371922 ,\n",
       "       -16.98220607,   0.        , -97.16566039, -22.81798725,\n",
       "       -53.93086813, -12.33707646])"
      ]
     },
     "execution_count": 81,
     "metadata": {},
     "output_type": "execute_result"
    }
   ],
   "source": [
    "array"
   ]
  },
  {
   "cell_type": "markdown",
   "id": "004f3da1",
   "metadata": {},
   "source": [
    "#### 46. Create a structured array with `x` and `y` coordinates covering the [0,1]x[0,1] area (★★☆)\n",
    "\n",
    "The function `np.meshgrid` returns coordinate matrices from coordinate vectors. Make N-D coordinate arrays for vectorized evaluations of\n",
    "N-D scalar/vector fields over N-D grids, given one-dimensional coordinate arrays $x1, x2,..., xn$."
   ]
  },
  {
   "cell_type": "code",
   "execution_count": 88,
   "id": "b3824741",
   "metadata": {},
   "outputs": [
    {
     "data": {
      "text/plain": [
       "array([[(0., 0.), (0., 0.), (0., 0.), (0., 0.), (0., 0.)],\n",
       "       [(0., 0.), (0., 0.), (0., 0.), (0., 0.), (0., 0.)],\n",
       "       [(0., 0.), (0., 0.), (0., 0.), (0., 0.), (0., 0.)],\n",
       "       [(0., 0.), (0., 0.), (0., 0.), (0., 0.), (0., 0.)],\n",
       "       [(0., 0.), (0., 0.), (0., 0.), (0., 0.), (0., 0.)]],\n",
       "      dtype=[('x', '<f8'), ('y', '<f8')])"
      ]
     },
     "execution_count": 88,
     "metadata": {},
     "output_type": "execute_result"
    }
   ],
   "source": [
    "mat = np.zeros(shape=(5, 5), dtype=[('x',float),('y',float)])\n",
    "mat"
   ]
  },
  {
   "cell_type": "code",
   "execution_count": 131,
   "id": "7553bcd5",
   "metadata": {},
   "outputs": [
    {
     "data": {
      "text/plain": [
       "array([0.  , 0.25, 0.5 , 0.75, 1.  ])"
      ]
     },
     "execution_count": 131,
     "metadata": {},
     "output_type": "execute_result"
    }
   ],
   "source": [
    "# Values to fill in the meshgrid\n",
    "vals = np.linspace(start=0, stop=1, num=5)\n",
    "vals"
   ]
  },
  {
   "cell_type": "code",
   "execution_count": 132,
   "id": "2517ebed",
   "metadata": {},
   "outputs": [
    {
     "data": {
      "text/plain": [
       "array([[(0.  , 0.  ), (0.  , 0.25), (0.  , 0.5 ), (0.  , 0.75), (0.  , 1.  )],\n",
       "       [(0.25, 0.  ), (0.25, 0.25), (0.25, 0.5 ), (0.25, 0.75), (0.25, 1.  )],\n",
       "       [(0.5 , 0.  ), (0.5 , 0.25), (0.5 , 0.5 ), (0.5 , 0.75), (0.5 , 1.  )],\n",
       "       [(0.75, 0.  ), (0.75, 0.25), (0.75, 0.5 ), (0.75, 0.75), (0.75, 1.  )],\n",
       "       [(1.  , 0.  ), (1.  , 0.25), (1.  , 0.5 ), (1.  , 0.75), (1.  , 1.  )]], dtype=[('x', '<f8'), ('y', '<f8')])"
      ]
     },
     "execution_count": 132,
     "metadata": {},
     "output_type": "execute_result"
    }
   ],
   "source": [
    "mat['x'], mat['y'] = np.meshgrid(vals, vals, indexing='ij')\n",
    "mat"
   ]
  },
  {
   "cell_type": "markdown",
   "id": "42e2c02e",
   "metadata": {},
   "source": [
    "The x values the first elements of the tuples (x, y) and the y values are the second elements of the tuples (x, y). The x values are filled with `val` vertically while the y values are filled with `val` horizontally. Another useful application of `np.meshgrid` is creating rolling window matrices. Suppose we wish to conduct a rolling window analysis with:\n",
    "\n",
    "* `window_width` = 20 (20 units of time create one window)\n",
    "\n",
    "* `window_shift` = 5 (Shift 5 units of time before apply the next rolling window of length `window_width`)"
   ]
  },
  {
   "cell_type": "code",
   "execution_count": 133,
   "id": "b8a81c43",
   "metadata": {},
   "outputs": [],
   "source": [
    "window_width = 20\n",
    "window_shift = 5"
   ]
  },
  {
   "cell_type": "markdown",
   "id": "d7ed9f0c",
   "metadata": {},
   "source": [
    "Suppose we have 1,000,000 rows of data: "
   ]
  },
  {
   "cell_type": "code",
   "execution_count": 135,
   "id": "8d61ac52",
   "metadata": {},
   "outputs": [
    {
     "data": {
      "text/plain": [
       "array([     0,      1,      2, ..., 999997, 999998, 999999])"
      ]
     },
     "execution_count": 135,
     "metadata": {},
     "output_type": "execute_result"
    }
   ],
   "source": [
    "# Indices\n",
    "x = np.arange(0, 1000000, 1)\n",
    "x"
   ]
  },
  {
   "cell_type": "markdown",
   "id": "7cb039fb",
   "metadata": {},
   "source": [
    "We can create the rolling window as follow:\n",
    "\n",
    "* Create an array with `(x.size - 20)` elements with step size `window_shift`, since we only wish to create complete windows with full size `window_width`\n",
    "\n",
    "* Create another array with `window_width` elements"
   ]
  },
  {
   "cell_type": "code",
   "execution_count": 145,
   "id": "47c4e25a",
   "metadata": {},
   "outputs": [
    {
     "data": {
      "text/plain": [
       "((20, 199996), (20, 199996))"
      ]
     },
     "execution_count": 145,
     "metadata": {},
     "output_type": "execute_result"
    }
   ],
   "source": [
    "A, B = np.meshgrid(\n",
    "    np.arange(start=0, stop=x.size - window_width, step=window_shift), \n",
    "    np.arange(window_width),\n",
    "    indexing='xy' # Cartesian indexing\n",
    ")\n",
    "A.shape, B.shape"
   ]
  },
  {
   "cell_type": "code",
   "execution_count": 146,
   "id": "e1293150",
   "metadata": {},
   "outputs": [
    {
     "data": {
      "text/plain": [
       "(array([[     0,      5,     10, ..., 999965, 999970, 999975],\n",
       "        [     0,      5,     10, ..., 999965, 999970, 999975],\n",
       "        [     0,      5,     10, ..., 999965, 999970, 999975],\n",
       "        ...,\n",
       "        [     0,      5,     10, ..., 999965, 999970, 999975],\n",
       "        [     0,      5,     10, ..., 999965, 999970, 999975],\n",
       "        [     0,      5,     10, ..., 999965, 999970, 999975]]),\n",
       " array([[ 0,  0,  0, ...,  0,  0,  0],\n",
       "        [ 1,  1,  1, ...,  1,  1,  1],\n",
       "        [ 2,  2,  2, ...,  2,  2,  2],\n",
       "        ...,\n",
       "        [17, 17, 17, ..., 17, 17, 17],\n",
       "        [18, 18, 18, ..., 18, 18, 18],\n",
       "        [19, 19, 19, ..., 19, 19, 19]]))"
      ]
     },
     "execution_count": 146,
     "metadata": {},
     "output_type": "execute_result"
    }
   ],
   "source": [
    "A, B"
   ]
  },
  {
   "cell_type": "markdown",
   "id": "925a960c",
   "metadata": {},
   "source": [
    "The matrix A is a `(20, 199996)` matrix with row values that are the starting indices for each window. The matrix B is a `(20, 199996)` matrix with columns values that are the within rolling window indices. Taking the sum of the two matrices:\n",
    "\n",
    "* For each of the 20 rows of starting indices 0, 5, 10, 15, ..., 999975 we progressively added 0, 1, 2, ..., 19:\n",
    "  \n",
    "  *  The first row of starting indices 0, 5, 10, 15, ..., 999975 gets incremented by 1\n",
    "  *  The second row starting indices 0, 5, 10, 15, ..., 999975 gets incremented by 2\n",
    "  *  and so on... until we added the full `window_width`"
   ]
  },
  {
   "cell_type": "code",
   "execution_count": 149,
   "id": "31ff7217",
   "metadata": {},
   "outputs": [
    {
     "data": {
      "text/plain": [
       "array([[     0,      5,     10, ..., 999965, 999970, 999975],\n",
       "       [     1,      6,     11, ..., 999966, 999971, 999976],\n",
       "       [     2,      7,     12, ..., 999967, 999972, 999977],\n",
       "       ...,\n",
       "       [    17,     22,     27, ..., 999982, 999987, 999992],\n",
       "       [    18,     23,     28, ..., 999983, 999988, 999993],\n",
       "       [    19,     24,     29, ..., 999984, 999989, 999994]])"
      ]
     },
     "execution_count": 149,
     "metadata": {},
     "output_type": "execute_result"
    }
   ],
   "source": [
    "(A + B)"
   ]
  },
  {
   "cell_type": "markdown",
   "id": "1e8613e1",
   "metadata": {},
   "source": [
    "Then, taking the transpose of the resultant matrix above would yield the rolling window matrix, which is a `num_of_window x window.width` matrix."
   ]
  },
  {
   "cell_type": "code",
   "execution_count": 150,
   "id": "5673983d",
   "metadata": {},
   "outputs": [
    {
     "data": {
      "text/plain": [
       "array([[     0,      1,      2, ...,     17,     18,     19],\n",
       "       [     5,      6,      7, ...,     22,     23,     24],\n",
       "       [    10,     11,     12, ...,     27,     28,     29],\n",
       "       ...,\n",
       "       [999965, 999966, 999967, ..., 999982, 999983, 999984],\n",
       "       [999970, 999971, 999972, ..., 999987, 999988, 999989],\n",
       "       [999975, 999976, 999977, ..., 999992, 999993, 999994]])"
      ]
     },
     "execution_count": 150,
     "metadata": {},
     "output_type": "execute_result"
    }
   ],
   "source": [
    "rolling_window_matrix = (A + B).T\n",
    "rolling_window_matrix"
   ]
  },
  {
   "cell_type": "code",
   "execution_count": 151,
   "id": "8945d281",
   "metadata": {},
   "outputs": [
    {
     "data": {
      "text/plain": [
       "(199996, 20)"
      ]
     },
     "execution_count": 151,
     "metadata": {},
     "output_type": "execute_result"
    }
   ],
   "source": [
    "rolling_window_matrix.shape"
   ]
  },
  {
   "cell_type": "markdown",
   "id": "5e8f81f8",
   "metadata": {},
   "source": [
    "Given the data size of 1,000,000 rows, there are 199,996 rolling windows each with window width 20. The indices of the rows from the original data of 1,000,000 rows used to created each window are contained in each row of the rolling window matrix. "
   ]
  },
  {
   "cell_type": "markdown",
   "id": "1c0adc0d",
   "metadata": {},
   "source": [
    "#### 47. Given two arrays, X and Y, construct the Cauchy matrix C (Cij =1/(xi - yj)) (★★☆)"
   ]
  },
  {
   "cell_type": "code",
   "execution_count": 7,
   "id": "01b3bbb7",
   "metadata": {},
   "outputs": [
    {
     "data": {
      "text/plain": [
       "((1000,), (500,))"
      ]
     },
     "execution_count": 7,
     "metadata": {},
     "output_type": "execute_result"
    }
   ],
   "source": [
    "x, y = np.random.uniform(low=-5, high = 5, size=1000), np.random.randint(low=-5, high=5, size=500)\n",
    "x.shape, y.shape"
   ]
  },
  {
   "cell_type": "markdown",
   "id": "8fb5f303",
   "metadata": {},
   "source": [
    "Brute force using two loops:"
   ]
  },
  {
   "cell_type": "code",
   "execution_count": 21,
   "id": "843db54e",
   "metadata": {},
   "outputs": [],
   "source": [
    "c = np.zeros(shape=(x.size, y.size))\n",
    "for i, x_val in np.ndenumerate(x):\n",
    "    for j, y_val in np.ndenumerate(y):\n",
    "        c[i, j] = 1.0 / (x_val - y_val)"
   ]
  },
  {
   "cell_type": "code",
   "execution_count": 22,
   "id": "253c912a",
   "metadata": {},
   "outputs": [
    {
     "data": {
      "text/plain": [
       "((1000, 500),\n",
       " array([[ 0.14313454,  1.01375248,  0.50341464, ...,  0.16704435,  0.16704435,  0.25085075],\n",
       "        [ 0.63141563, -0.22643609, -0.29271801, ...,  1.71308303,  1.71308303, -0.70608647],\n",
       "        [ 0.17130501, -6.15539069,  1.19397172, ...,  0.2067166 ,  0.2067166 ,  0.35241784],\n",
       "        ...,\n",
       "        [ 0.15293038,  1.85555192,  0.649805  , ...,  0.18054051,  0.18054051,  0.28257183],\n",
       "        [ 0.95043398, -0.20210802, -0.25330249, ..., 19.17511379, 19.17511379, -0.5133868 ],\n",
       "        [ 0.13112057,  0.61479122,  0.3807249 , ...,  0.15090767,  0.15090767,  0.21614292]]))"
      ]
     },
     "execution_count": 22,
     "metadata": {},
     "output_type": "execute_result"
    }
   ],
   "source": [
    "c.shape, c"
   ]
  },
  {
   "cell_type": "markdown",
   "id": "7e1ce637",
   "metadata": {},
   "source": [
    "Using `np.ufunc.outer`, which applies the ufunc op to all pairs (a, b) with a in A and b in B."
   ]
  },
  {
   "cell_type": "code",
   "execution_count": 23,
   "id": "8660fcc8",
   "metadata": {},
   "outputs": [
    {
     "data": {
      "text/plain": [
       "array([[ 0.14313454,  1.01375248,  0.50341464, ...,  0.16704435,  0.16704435,  0.25085075],\n",
       "       [ 0.63141563, -0.22643609, -0.29271801, ...,  1.71308303,  1.71308303, -0.70608647],\n",
       "       [ 0.17130501, -6.15539069,  1.19397172, ...,  0.2067166 ,  0.2067166 ,  0.35241784],\n",
       "       ...,\n",
       "       [ 0.15293038,  1.85555192,  0.649805  , ...,  0.18054051,  0.18054051,  0.28257183],\n",
       "       [ 0.95043398, -0.20210802, -0.25330249, ..., 19.17511379, 19.17511379, -0.5133868 ],\n",
       "       [ 0.13112057,  0.61479122,  0.3807249 , ...,  0.15090767,  0.15090767,  0.21614292]])"
      ]
     },
     "execution_count": 23,
     "metadata": {},
     "output_type": "execute_result"
    }
   ],
   "source": [
    "(1.0 / np.subtract.outer(x, y))"
   ]
  },
  {
   "cell_type": "markdown",
   "id": "c8a2f65a",
   "metadata": {},
   "source": [
    "#### 48. Print the minimum and maximum representable value for each numpy scalar type (★★☆)\n",
    "\n",
    "The functions `np.iinfo` and `np.finfo` provide information about machine limits for integer and float types.\n",
    "\n",
    "```python\n",
    "Attributes\n",
    "----------\n",
    "bits : int\n",
    "    The number of bits occupied by the type.\n",
    "min : int\n",
    "    The smallest integer expressible by the type.\n",
    "max : int\n",
    "    The largest integer expressible by the type.\n",
    "```"
   ]
  },
  {
   "cell_type": "code",
   "execution_count": 27,
   "id": "35d844d6",
   "metadata": {},
   "outputs": [
    {
     "data": {
      "text/plain": [
       "{'max': 127, 'min': -128}"
      ]
     },
     "execution_count": 27,
     "metadata": {},
     "output_type": "execute_result"
    },
    {
     "data": {
      "text/plain": [
       "{'max': 32767, 'min': -32768}"
      ]
     },
     "execution_count": 27,
     "metadata": {},
     "output_type": "execute_result"
    },
    {
     "data": {
      "text/plain": [
       "{'max': 2147483647, 'min': -2147483648}"
      ]
     },
     "execution_count": 27,
     "metadata": {},
     "output_type": "execute_result"
    },
    {
     "data": {
      "text/plain": [
       "{'max': 9223372036854775807, 'min': -9223372036854775808}"
      ]
     },
     "execution_count": 27,
     "metadata": {},
     "output_type": "execute_result"
    }
   ],
   "source": [
    "for data_type in [np.int8, np.int16, np.int32, np.int64]:\n",
    "    {'max': np.iinfo(data_type).max, 'min': np.iinfo(data_type).min}"
   ]
  },
  {
   "cell_type": "code",
   "execution_count": 33,
   "id": "207fc4d9",
   "metadata": {},
   "outputs": [
    {
     "data": {
      "text/plain": [
       "{'max': 3.4028235e+38, 'min': -3.4028235e+38}"
      ]
     },
     "execution_count": 33,
     "metadata": {},
     "output_type": "execute_result"
    },
    {
     "data": {
      "text/plain": [
       "{'max': 1.7976931348623157e+308, 'min': -1.7976931348623157e+308}"
      ]
     },
     "execution_count": 33,
     "metadata": {},
     "output_type": "execute_result"
    },
    {
     "data": {
      "text/plain": [
       "{'max': 1.189731495357231765e+4932, 'min': -1.189731495357231765e+4932}"
      ]
     },
     "execution_count": 33,
     "metadata": {},
     "output_type": "execute_result"
    },
    {
     "data": {
      "text/plain": [
       "{'max': 1.189731495357231765e+4932, 'min': -1.189731495357231765e+4932}"
      ]
     },
     "execution_count": 33,
     "metadata": {},
     "output_type": "execute_result"
    }
   ],
   "source": [
    "for data_type in [np.float32, np.float64, np.float128, np.longfloat]:\n",
    "    {'max': np.finfo(data_type).max, 'min': np.finfo(data_type).min}"
   ]
  },
  {
   "cell_type": "markdown",
   "id": "11727a69",
   "metadata": {},
   "source": [
    "#### 49. How to print all the values of an array? (★★☆)\n",
    "\n",
    "```python\n",
    "np.set_printoptions(threshold=float(\"inf\"))\n",
    "```"
   ]
  },
  {
   "cell_type": "markdown",
   "id": "e0e7d741",
   "metadata": {},
   "source": [
    "#### 50. How to find the closest value (to a given scalar) in a vector? (★★☆)"
   ]
  },
  {
   "cell_type": "code",
   "execution_count": 35,
   "id": "62cabf6f",
   "metadata": {},
   "outputs": [],
   "source": [
    "def find_closest(array, value):\n",
    "    \"\"\"\n",
    "    Find the closest value in an array to a given value.\n",
    "\n",
    "    Parameters\n",
    "    ----------\n",
    "    array : array_like\n",
    "        Array of values.\n",
    "    value : scalar\n",
    "        Value to find the closest value to.\n",
    "\n",
    "    Returns\n",
    "    -------\n",
    "    closest_value : scalar\n",
    "        Closest value in array to value.\n",
    "    \"\"\"\n",
    "    array = np.asarray(array)\n",
    "    idx = (np.abs(array - value)).argmin() # Return the indices of the minimum values along an axis or that of the first element if there are ties\n",
    "    return array[idx]"
   ]
  },
  {
   "cell_type": "code",
   "execution_count": 39,
   "id": "7fcc9819",
   "metadata": {},
   "outputs": [
    {
     "data": {
      "text/plain": [
       "array([48.27398332, 66.57503292,  9.05829103, 26.15030435, 60.28983627, 37.00859657, 69.58870136, 45.0037647 , 19.70661237, 36.97086817])"
      ]
     },
     "execution_count": 39,
     "metadata": {},
     "output_type": "execute_result"
    }
   ],
   "source": [
    "array = np.random.uniform(0, 100, size=10)\n",
    "array"
   ]
  },
  {
   "cell_type": "code",
   "execution_count": 40,
   "id": "3fc4c68f",
   "metadata": {},
   "outputs": [
    {
     "data": {
      "text/plain": [
       "36.97086816888162"
      ]
     },
     "execution_count": 40,
     "metadata": {},
     "output_type": "execute_result"
    }
   ],
   "source": [
    "find_closest(array, 35.43231)"
   ]
  },
  {
   "cell_type": "markdown",
   "id": "c5611b9e",
   "metadata": {},
   "source": [
    "#### 51. Create a structured array representing a position (x,y) and a color (r,g,b) (★★☆)"
   ]
  },
  {
   "cell_type": "code",
   "execution_count": 44,
   "id": "f622939d",
   "metadata": {},
   "outputs": [
    {
     "name": "stderr",
     "output_type": "stream",
     "text": [
      "/var/folders/z_/pqnd1zt14yb6fdthpr75md480000gn/T/ipykernel_21629/1133555968.py:1: FutureWarning: Passing (type, 1) or '1type' as a synonym of type is deprecated; in a future version of numpy, it will be understood as (type, (1,)) / '(1,)type'.\n",
      "  my_type = np.dtype([('position', [('x', float, 1),\n"
     ]
    },
    {
     "data": {
      "text/plain": [
       "dtype([('position', [('x', '<f8'), ('y', '<f8')]), ('color', [('r', '<f8'), ('g', '<f8'), ('b', '<f8')])])"
      ]
     },
     "execution_count": 44,
     "metadata": {},
     "output_type": "execute_result"
    }
   ],
   "source": [
    "my_type = np.dtype([('position', [('x', float, 1), \n",
    "                                ('y', float, 1)]), \n",
    "                   ('color', [('r', float, 1),\n",
    "                              ('g', float, 1),\n",
    "                              ('b', float, 1)])])\n",
    "my_type"
   ]
  },
  {
   "cell_type": "code",
   "execution_count": 47,
   "id": "e5cf5834",
   "metadata": {},
   "outputs": [
    {
     "data": {
      "text/plain": [
       "array([[((0.3173447 , 0.3173447 ), (0.3173447 , 0.3173447 , 0.3173447 )), ((0.39862034, 0.39862034), (0.39862034, 0.39862034, 0.39862034))],\n",
       "       [((0.00962134, 0.00962134), (0.00962134, 0.00962134, 0.00962134)), ((0.85723244, 0.85723244), (0.85723244, 0.85723244, 0.85723244))]], dtype=[('position', [('x', '<f8'), ('y', '<f8')]), ('color', [('r', '<f8'), ('g', '<f8'), ('b', '<f8')])])"
      ]
     },
     "execution_count": 47,
     "metadata": {},
     "output_type": "execute_result"
    }
   ],
   "source": [
    "array = np.random.rand(2, 2).astype(my_type)\n",
    "array "
   ]
  },
  {
   "cell_type": "markdown",
   "id": "d22b8574",
   "metadata": {},
   "source": [
    "#### 52. Consider a random vector with shape (100,2) representing coordinates, find point by point distances (★★☆)\n",
    "\n",
    "The formula is given by:\n",
    "\n",
    "$$\n",
    "d=\\sqrt{\\left(x_2-x_1\\right)^2+\\left(y_2-y_1\\right)^2}\n",
    "$$"
   ]
  },
  {
   "cell_type": "code",
   "execution_count": 7,
   "id": "d5c9cdf8",
   "metadata": {},
   "outputs": [
    {
     "data": {
      "text/plain": [
       "(100, 2)"
      ]
     },
     "execution_count": 7,
     "metadata": {},
     "output_type": "execute_result"
    }
   ],
   "source": [
    "array = np.random.rand(100, 2)\n",
    "array.shape"
   ]
  },
  {
   "cell_type": "code",
   "execution_count": 15,
   "id": "0832fcef",
   "metadata": {},
   "outputs": [
    {
     "data": {
      "text/plain": [
       "array([[0.71257955, 0.053347  ],\n",
       "       [0.0845215 , 0.78240821],\n",
       "       [0.82026089, 0.17737595],\n",
       "       [0.6435693 , 0.54120858],\n",
       "       [0.4388046 , 0.80007302],\n",
       "       [0.89337453, 0.79826025],\n",
       "       [0.73520234, 0.27110473],\n",
       "       [0.88501238, 0.85956757],\n",
       "       [0.24858585, 0.06726807],\n",
       "       [0.88755903, 0.31588806]])"
      ]
     },
     "execution_count": 15,
     "metadata": {},
     "output_type": "execute_result"
    }
   ],
   "source": [
    "# Examine first 10 rows\n",
    "array[0:10, :]"
   ]
  },
  {
   "cell_type": "markdown",
   "id": "78e32cae",
   "metadata": {},
   "source": [
    "First, we need to use `np.atleast_2d` to turn each column vector above into arrays with at least two dimensions. If we simply subset for these vectors using `array[:, 0]` or `array[:, 1]`, they would have shapes `(100,)`."
   ]
  },
  {
   "cell_type": "code",
   "execution_count": 22,
   "id": "e32d4fd3",
   "metadata": {},
   "outputs": [
    {
     "data": {
      "text/plain": [
       "((100,), (100,))"
      ]
     },
     "execution_count": 22,
     "metadata": {},
     "output_type": "execute_result"
    }
   ],
   "source": [
    "array[:, 0].shape, array[:, 1].shape"
   ]
  },
  {
   "cell_type": "code",
   "execution_count": 24,
   "id": "95870d57",
   "metadata": {},
   "outputs": [
    {
     "data": {
      "text/plain": [
       "((1, 100), (1, 100))"
      ]
     },
     "execution_count": 24,
     "metadata": {},
     "output_type": "execute_result"
    }
   ],
   "source": [
    "x, y = np.atleast_2d(array[:, 0], array[:, 1])\n",
    "x.shape , y.shape"
   ]
  },
  {
   "cell_type": "markdown",
   "id": "e90f2f2e",
   "metadata": {},
   "source": [
    "Finally, we apply the formula above:"
   ]
  },
  {
   "cell_type": "code",
   "execution_count": 32,
   "id": "d178de0a",
   "metadata": {},
   "outputs": [
    {
     "data": {
      "text/plain": [
       "array([[0.        , 0.96228227, 0.16425118, ..., 0.46593926, 0.93454354, 0.33268168],\n",
       "       [0.96228227, 0.        , 0.95256311, ..., 0.51360754, 0.54863128, 0.74900904],\n",
       "       [0.16425118, 0.95256311, 0.        , ..., 0.50215114, 0.83391944, 0.23141693],\n",
       "       ...,\n",
       "       [0.46593926, 0.51360754, 0.50215114, ..., 0.        , 0.68818871, 0.3777168 ],\n",
       "       [0.93454354, 0.54863128, 0.83391944, ..., 0.68818871, 0.        , 0.6074275 ],\n",
       "       [0.33268168, 0.74900904, 0.23141693, ..., 0.3777168 , 0.6074275 , 0.        ]])"
      ]
     },
     "execution_count": 32,
     "metadata": {},
     "output_type": "execute_result"
    }
   ],
   "source": [
    "dist = np.sqrt((x - x.T)**2 + (y - y.T)**2)\n",
    "dist"
   ]
  },
  {
   "cell_type": "markdown",
   "id": "5e4a3d30",
   "metadata": {},
   "source": [
    "Equivalently, we can use the `scipy.spatial.distinace.cdist` function, which computes distance between each pair of the two collections of inputs:"
   ]
  },
  {
   "cell_type": "code",
   "execution_count": 36,
   "id": "fe063a70",
   "metadata": {},
   "outputs": [
    {
     "name": "stderr",
     "output_type": "stream",
     "text": [
      "<frozen importlib._bootstrap>:228: RuntimeWarning: scipy._lib.messagestream.MessageStream size changed, may indicate binary incompatibility. Expected 56 from C header, got 64 from PyObject\n"
     ]
    },
    {
     "data": {
      "text/plain": [
       "array([[0.        , 0.96228227, 0.16425118, ..., 0.46593926, 0.93454354, 0.33268168],\n",
       "       [0.96228227, 0.        , 0.95256311, ..., 0.51360754, 0.54863128, 0.74900904],\n",
       "       [0.16425118, 0.95256311, 0.        , ..., 0.50215114, 0.83391944, 0.23141693],\n",
       "       ...,\n",
       "       [0.46593926, 0.51360754, 0.50215114, ..., 0.        , 0.68818871, 0.3777168 ],\n",
       "       [0.93454354, 0.54863128, 0.83391944, ..., 0.68818871, 0.        , 0.6074275 ],\n",
       "       [0.33268168, 0.74900904, 0.23141693, ..., 0.3777168 , 0.6074275 , 0.        ]])"
      ]
     },
     "execution_count": 36,
     "metadata": {},
     "output_type": "execute_result"
    }
   ],
   "source": [
    "import scipy.spatial\n",
    "\n",
    "dist = scipy.spatial.distance.cdist(array, array)\n",
    "dist"
   ]
  },
  {
   "cell_type": "markdown",
   "id": "f5c164f2",
   "metadata": {},
   "source": [
    "#### 53. How to convert a float (32 bits) array into an integer (32 bits) in place?"
   ]
  },
  {
   "cell_type": "code",
   "execution_count": 19,
   "id": "ea262de8",
   "metadata": {},
   "outputs": [
    {
     "data": {
      "text/plain": [
       "array([[ 1.6627979, 31.250616 , 52.49939  , 26.081007 , 48.770096 ],\n",
       "       [92.02445  , 83.11105  , 42.615345 ,  3.1829166, 83.5128   ],\n",
       "       [18.177275 , 84.34254  , 71.33363  , 77.258026 , 84.87112  ],\n",
       "       [61.49603  , 19.429693 , 60.97892  , 28.777433 , 38.294487 ],\n",
       "       [91.39073  , 56.645813 , 95.23884  , 80.41119  ,  1.0223317]], dtype=float32)"
      ]
     },
     "execution_count": 19,
     "metadata": {},
     "output_type": "execute_result"
    }
   ],
   "source": [
    "my_float = np.float32(np.random.rand(5, 5) * 100)\n",
    "my_float"
   ]
  },
  {
   "cell_type": "code",
   "execution_count": 20,
   "id": "476b9cc7",
   "metadata": {},
   "outputs": [
    {
     "data": {
      "text/plain": [
       "True"
      ]
     },
     "execution_count": 20,
     "metadata": {},
     "output_type": "execute_result"
    }
   ],
   "source": [
    "# Check if the array is C order contiguous in memory\n",
    "my_float.flags.c_contiguous"
   ]
  },
  {
   "cell_type": "markdown",
   "id": "1f5e05e9",
   "metadata": {},
   "source": [
    "According to the numpy documentation:\n",
    "\n",
    "> It is possible to access the array differently by just changing certain metadata like `stride` and `dtype` without changing the data buffer. This creates a new way of looking at the data and these new arrays are called **views**. The data buffer remains the same, so any changes made to a view reflects in the original copy.\n",
    "\n",
    "In order to tell if an array is a view or a copy, we use the `base` attribute of the ndarray, which returns the original array but returns None for a copy."
   ]
  },
  {
   "cell_type": "code",
   "execution_count": 22,
   "id": "01c5c7e9",
   "metadata": {},
   "outputs": [
    {
     "data": {
      "text/plain": [
       "array([[ 1.6627979, 31.250616 , 52.49939  , 26.081007 , 48.770096 ],\n",
       "       [92.02445  , 83.11105  , 42.615345 ,  3.1829166, 83.5128   ],\n",
       "       [18.177275 , 84.34254  , 71.33363  , 77.258026 , 84.87112  ],\n",
       "       [61.49603  , 19.429693 , 60.97892  , 28.777433 , 38.294487 ],\n",
       "       [91.39073  , 56.645813 , 95.23884  , 80.41119  ,  1.0223317]], dtype=float32)"
      ]
     },
     "execution_count": 22,
     "metadata": {},
     "output_type": "execute_result"
    }
   ],
   "source": [
    "my_float.view(dtype=np.int32).base"
   ]
  },
  {
   "cell_type": "code",
   "execution_count": 23,
   "id": "75501003",
   "metadata": {},
   "outputs": [
    {
     "data": {
      "text/plain": [
       "True"
      ]
     },
     "execution_count": 23,
     "metadata": {},
     "output_type": "execute_result"
    }
   ],
   "source": [
    "# For a copy, the base attribute is None\n",
    "my_float.copy().base is None"
   ]
  },
  {
   "cell_type": "markdown",
   "id": "31734fac",
   "metadata": {},
   "source": [
    "We can create a view of the `array` with a different data type, then copy the data in place."
   ]
  },
  {
   "cell_type": "code",
   "execution_count": 24,
   "id": "b9a86ad7",
   "metadata": {},
   "outputs": [
    {
     "data": {
      "text/plain": [
       "array([[ 1.6627979, 31.250616 , 52.49939  , 26.081007 , 48.770096 ],\n",
       "       [92.02445  , 83.11105  , 42.615345 ,  3.1829166, 83.5128   ],\n",
       "       [18.177275 , 84.34254  , 71.33363  , 77.258026 , 84.87112  ],\n",
       "       [61.49603  , 19.429693 , 60.97892  , 28.777433 , 38.294487 ],\n",
       "       [91.39073  , 56.645813 , 95.23884  , 80.41119  ,  1.0223317]], dtype=float32)"
      ]
     },
     "execution_count": 24,
     "metadata": {},
     "output_type": "execute_result"
    }
   ],
   "source": [
    "arr_view = my_float.view(dtype=np.int32) # Use a different data type 'int32' as support for 'float32'\n",
    "arr_view.base"
   ]
  },
  {
   "attachments": {},
   "cell_type": "markdown",
   "id": "bdca5a7c",
   "metadata": {},
   "source": [
    "As can be seen, the `base` attribute points to original array with `float32`."
   ]
  },
  {
   "cell_type": "code",
   "execution_count": 25,
   "id": "3938c58c",
   "metadata": {},
   "outputs": [
    {
     "name": "stdout",
     "output_type": "stream",
     "text": [
      "[[ 1 31 52 26 48]\n",
      " [92 83 42  3 83]\n",
      " [18 84 71 77 84]\n",
      " [61 19 60 28 38]\n",
      " [91 56 95 80  1]]\n"
     ]
    }
   ],
   "source": [
    "# Assign the value of 'my_float' to 'arr_view', which has a different data type\n",
    "arr_view[:] = my_float\n",
    "print(arr_view)"
   ]
  },
  {
   "attachments": {},
   "cell_type": "markdown",
   "id": "99d35372",
   "metadata": {},
   "source": [
    "Now, after the assignment above, `arr_view` is now a integer array:"
   ]
  },
  {
   "cell_type": "code",
   "execution_count": 27,
   "id": "e46ef120",
   "metadata": {},
   "outputs": [
    {
     "data": {
      "text/plain": [
       "array([[ 1, 31, 52, 26, 48],\n",
       "       [92, 83, 42,  3, 83],\n",
       "       [18, 84, 71, 77, 84],\n",
       "       [61, 19, 60, 28, 38],\n",
       "       [91, 56, 95, 80,  1]], dtype=int32)"
      ]
     },
     "execution_count": 27,
     "metadata": {},
     "output_type": "execute_result"
    }
   ],
   "source": [
    "arr_view"
   ]
  },
  {
   "cell_type": "markdown",
   "id": "a8b7e6f5",
   "metadata": {},
   "source": [
    "#### 54. How to read the following file? (★★☆)\n",
    "```\n",
    "1, 2, 3, 4, 5\n",
    "6,  ,  , 7, 8\n",
    " ,  , 9,10,11\n",
    "```\n",
    "\n",
    "NumPy provides several functions to create arrays from tabular data. In a nutshell, the function `genfromtxt` runs two main loops. The first loop converts each line of the file into a sequence of strings. The second loop converts each string to the appropriate data type. This mechanism is slower than a single loop, but gives more flexibility. In particular, `genfromtxt` is able to take missing data into account, when other faster and simpler functions like `loadtxt` cannot."
   ]
  },
  {
   "cell_type": "code",
   "execution_count": 112,
   "id": "bde0538a",
   "metadata": {},
   "outputs": [],
   "source": [
    "from io import StringIO"
   ]
  },
  {
   "cell_type": "code",
   "execution_count": 117,
   "id": "a381c0ee",
   "metadata": {},
   "outputs": [
    {
     "data": {
      "text/plain": [
       "array([[ 1.,  2.,  3.,  4.,  5.],\n",
       "       [ 6., nan, nan,  7.,  8.],\n",
       "       [nan, nan,  9., 10., 11.]], dtype=float16)"
      ]
     },
     "execution_count": 117,
     "metadata": {},
     "output_type": "execute_result"
    }
   ],
   "source": [
    "np.genfromtxt(\n",
    "    StringIO('''1, 2, 3, 4, 5\n",
    "                6,  ,  , 7, 8\n",
    "                 ,  , 9,10,11'''), \n",
    "    delimiter=',',\n",
    "    autostrip=True, # Trailing and leading whitespace is removed from each strings when a line is decomposed into a series of strings\n",
    "    dtype=np.float16 # Numpy does not have nullable integer\n",
    ")"
   ]
  },
  {
   "cell_type": "markdown",
   "id": "c6b32834",
   "metadata": {},
   "source": [
    "#### 55. What is the equivalent of enumerate for numpy arrays? (★★☆)"
   ]
  },
  {
   "cell_type": "code",
   "execution_count": 106,
   "id": "44af2dd3",
   "metadata": {},
   "outputs": [
    {
     "data": {
      "text/plain": [
       "array([[ 0.17728583,  0.45246037],\n",
       "       [-0.15944481,  2.19281633],\n",
       "       [-2.40869219,  0.14670307],\n",
       "       [ 1.40195507, -2.72849045],\n",
       "       [-0.63592424,  1.24130133]])"
      ]
     },
     "execution_count": 106,
     "metadata": {},
     "output_type": "execute_result"
    }
   ],
   "source": [
    "# Two-dimensional array\n",
    "array = np.random.multivariate_normal(mean=[0, 0], cov=[[1, 0], [0, 1]], size=5)\n",
    "array"
   ]
  },
  {
   "cell_type": "code",
   "execution_count": 107,
   "id": "ab02472a",
   "metadata": {},
   "outputs": [
    {
     "name": "stdout",
     "output_type": "stream",
     "text": [
      "(0, 0) 0.17728583271750167\n",
      "(0, 1) 0.4524603718961766\n",
      "(1, 0) -0.15944480592972068\n",
      "(1, 1) 2.1928163334632758\n",
      "(2, 0) -2.408692191574536\n",
      "(2, 1) 0.1467030732058944\n",
      "(3, 0) 1.4019550694760214\n",
      "(3, 1) -2.7284904471723337\n",
      "(4, 0) -0.635924241186413\n",
      "(4, 1) 1.241301329604265\n"
     ]
    }
   ],
   "source": [
    "# Each index will be a tuple of two elements (row, column)\n",
    "for index, value in np.ndenumerate(array):\n",
    "    print(index, value)"
   ]
  },
  {
   "cell_type": "code",
   "execution_count": 109,
   "id": "8c9d43e1",
   "metadata": {},
   "outputs": [
    {
     "data": {
      "text/plain": [
       "array([[[ 0.23526753, -0.83414731],\n",
       "        [ 0.17658873,  1.0834186 ]],\n",
       "\n",
       "       [[-0.48193676,  0.65901887],\n",
       "        [-1.00126457, -0.39726164]],\n",
       "\n",
       "       [[ 0.04659858,  0.00346913],\n",
       "        [ 0.11940327, -0.12777219]]])"
      ]
     },
     "execution_count": 109,
     "metadata": {},
     "output_type": "execute_result"
    }
   ],
   "source": [
    "# Three-dimensional array, (depths or layers, rows, columns)\n",
    "array = np.random.normal(size=(3, 2, 2))\n",
    "array"
   ]
  },
  {
   "cell_type": "code",
   "execution_count": 110,
   "id": "e0911ecc",
   "metadata": {},
   "outputs": [
    {
     "name": "stdout",
     "output_type": "stream",
     "text": [
      "(0, 0, 0) 0.23526752537323498\n",
      "(0, 0, 1) -0.834147306590193\n",
      "(0, 1, 0) 0.1765887300196308\n",
      "(0, 1, 1) 1.0834185977484347\n",
      "(1, 0, 0) -0.4819367594438185\n",
      "(1, 0, 1) 0.6590188731182789\n",
      "(1, 1, 0) -1.0012645743890272\n",
      "(1, 1, 1) -0.3972616423587151\n",
      "(2, 0, 0) 0.046598576543926754\n",
      "(2, 0, 1) 0.003469127580748623\n",
      "(2, 1, 0) 0.11940326769898282\n",
      "(2, 1, 1) -0.12777218927714623\n"
     ]
    }
   ],
   "source": [
    "# Each index will be a tuple of three elements (layer, row, column)\n",
    "for index, value in np.ndenumerate(array):\n",
    "    print(index, value)"
   ]
  },
  {
   "cell_type": "markdown",
   "id": "a2121a05",
   "metadata": {},
   "source": [
    "#### 56. Generate a generic 2D Gaussian-like array (★★☆)"
   ]
  },
  {
   "cell_type": "code",
   "execution_count": 196,
   "id": "18507102",
   "metadata": {},
   "outputs": [
    {
     "data": {
      "text/html": [
       "<div>\n",
       "<style scoped>\n",
       "    .dataframe tbody tr th:only-of-type {\n",
       "        vertical-align: middle;\n",
       "    }\n",
       "\n",
       "    .dataframe tbody tr th {\n",
       "        vertical-align: top;\n",
       "    }\n",
       "\n",
       "    .dataframe thead th {\n",
       "        text-align: right;\n",
       "    }\n",
       "</style>\n",
       "<table border=\"1\" class=\"dataframe\">\n",
       "  <thead>\n",
       "    <tr style=\"text-align: right;\">\n",
       "      <th></th>\n",
       "      <th>x</th>\n",
       "      <th>y</th>\n",
       "    </tr>\n",
       "  </thead>\n",
       "  <tbody>\n",
       "    <tr>\n",
       "      <th>0</th>\n",
       "      <td>1309.621688</td>\n",
       "      <td>25.851808</td>\n",
       "    </tr>\n",
       "    <tr>\n",
       "      <th>1</th>\n",
       "      <td>923.996533</td>\n",
       "      <td>-11.835373</td>\n",
       "    </tr>\n",
       "    <tr>\n",
       "      <th>2</th>\n",
       "      <td>1346.342323</td>\n",
       "      <td>-26.045037</td>\n",
       "    </tr>\n",
       "    <tr>\n",
       "      <th>3</th>\n",
       "      <td>531.118515</td>\n",
       "      <td>46.056576</td>\n",
       "    </tr>\n",
       "    <tr>\n",
       "      <th>4</th>\n",
       "      <td>1032.301105</td>\n",
       "      <td>-19.889334</td>\n",
       "    </tr>\n",
       "    <tr>\n",
       "      <th>...</th>\n",
       "      <td>...</td>\n",
       "      <td>...</td>\n",
       "    </tr>\n",
       "    <tr>\n",
       "      <th>995</th>\n",
       "      <td>1557.780913</td>\n",
       "      <td>-19.324574</td>\n",
       "    </tr>\n",
       "    <tr>\n",
       "      <th>996</th>\n",
       "      <td>1146.241773</td>\n",
       "      <td>-37.302339</td>\n",
       "    </tr>\n",
       "    <tr>\n",
       "      <th>997</th>\n",
       "      <td>926.264482</td>\n",
       "      <td>32.891762</td>\n",
       "    </tr>\n",
       "    <tr>\n",
       "      <th>998</th>\n",
       "      <td>1175.182751</td>\n",
       "      <td>30.355811</td>\n",
       "    </tr>\n",
       "    <tr>\n",
       "      <th>999</th>\n",
       "      <td>1069.828317</td>\n",
       "      <td>28.754363</td>\n",
       "    </tr>\n",
       "  </tbody>\n",
       "</table>\n",
       "<p>1000 rows × 2 columns</p>\n",
       "</div>"
      ],
      "text/plain": [
       "               x          y\n",
       "0    1309.621688  25.851808\n",
       "1     923.996533 -11.835373\n",
       "2    1346.342323 -26.045037\n",
       "3     531.118515  46.056576\n",
       "4    1032.301105 -19.889334\n",
       "..           ...        ...\n",
       "995  1557.780913 -19.324574\n",
       "996  1146.241773 -37.302339\n",
       "997   926.264482  32.891762\n",
       "998  1175.182751  30.355811\n",
       "999  1069.828317  28.754363\n",
       "\n",
       "[1000 rows x 2 columns]"
      ]
     },
     "execution_count": 196,
     "metadata": {},
     "output_type": "execute_result"
    }
   ],
   "source": [
    "import pandas as pd\n",
    "from copulas.multivariate import GaussianMultivariate\n",
    "\n",
    "# Generate two-dimensional data\n",
    "data = pd.DataFrame({\n",
    "    'x': np.random.normal(size=1000, loc=1000, scale=243),\n",
    "    'y': np.random.normal(size=1000, loc=10, scale=27)\n",
    "})\n",
    "data"
   ]
  },
  {
   "attachments": {},
   "cell_type": "markdown",
   "id": "a6ecfc6f",
   "metadata": {},
   "source": [
    "We model the data using a multivariate distribution by combining the two marginal univariate distributions of two random variables $(x, y)$ with a Gaussian copula, which is essentially a joint cumulative distribution function."
   ]
  },
  {
   "cell_type": "code",
   "execution_count": 248,
   "id": "074f031a",
   "metadata": {},
   "outputs": [
    {
     "data": {
      "text/plain": [
       "GaussianMultivariate(distribution=\"{'x': <class 'copulas.univariate.gaussian_kde.GaussianKDE'>, 'y': <class 'copulas.univariate.gaussian_kde.GaussianKDE'>}\")"
      ]
     },
     "execution_count": 248,
     "metadata": {},
     "output_type": "execute_result"
    }
   ],
   "source": [
    "from copulas.univariate.gaussian_kde import GaussianKDE\n",
    "\n",
    "# Use kernel density estimation to fit the marginal distributions\n",
    "gaussian_copula = GaussianMultivariate(distribution={'x': GaussianKDE, 'y': GaussianKDE})\n",
    "gaussian_copula.fit(data)\n",
    "\n",
    "gaussian_copula"
   ]
  },
  {
   "attachments": {},
   "cell_type": "markdown",
   "id": "f96593b8",
   "metadata": {},
   "source": [
    "Simulate data:"
   ]
  },
  {
   "cell_type": "code",
   "execution_count": 249,
   "id": "38e6c549",
   "metadata": {},
   "outputs": [
    {
     "data": {
      "text/html": [
       "<div>\n",
       "<style scoped>\n",
       "    .dataframe tbody tr th:only-of-type {\n",
       "        vertical-align: middle;\n",
       "    }\n",
       "\n",
       "    .dataframe tbody tr th {\n",
       "        vertical-align: top;\n",
       "    }\n",
       "\n",
       "    .dataframe thead th {\n",
       "        text-align: right;\n",
       "    }\n",
       "</style>\n",
       "<table border=\"1\" class=\"dataframe\">\n",
       "  <thead>\n",
       "    <tr style=\"text-align: right;\">\n",
       "      <th></th>\n",
       "      <th>x</th>\n",
       "      <th>y</th>\n",
       "    </tr>\n",
       "  </thead>\n",
       "  <tbody>\n",
       "    <tr>\n",
       "      <th>0</th>\n",
       "      <td>780.244622</td>\n",
       "      <td>2.402463</td>\n",
       "    </tr>\n",
       "    <tr>\n",
       "      <th>1</th>\n",
       "      <td>952.851932</td>\n",
       "      <td>18.026111</td>\n",
       "    </tr>\n",
       "    <tr>\n",
       "      <th>2</th>\n",
       "      <td>1001.006241</td>\n",
       "      <td>-8.647701</td>\n",
       "    </tr>\n",
       "    <tr>\n",
       "      <th>3</th>\n",
       "      <td>1052.747580</td>\n",
       "      <td>-9.465124</td>\n",
       "    </tr>\n",
       "    <tr>\n",
       "      <th>4</th>\n",
       "      <td>1108.197078</td>\n",
       "      <td>25.207413</td>\n",
       "    </tr>\n",
       "    <tr>\n",
       "      <th>...</th>\n",
       "      <td>...</td>\n",
       "      <td>...</td>\n",
       "    </tr>\n",
       "    <tr>\n",
       "      <th>995</th>\n",
       "      <td>1316.894294</td>\n",
       "      <td>29.532817</td>\n",
       "    </tr>\n",
       "    <tr>\n",
       "      <th>996</th>\n",
       "      <td>784.247801</td>\n",
       "      <td>-13.600633</td>\n",
       "    </tr>\n",
       "    <tr>\n",
       "      <th>997</th>\n",
       "      <td>742.921454</td>\n",
       "      <td>-20.000898</td>\n",
       "    </tr>\n",
       "    <tr>\n",
       "      <th>998</th>\n",
       "      <td>631.655359</td>\n",
       "      <td>41.529200</td>\n",
       "    </tr>\n",
       "    <tr>\n",
       "      <th>999</th>\n",
       "      <td>1542.416927</td>\n",
       "      <td>15.594066</td>\n",
       "    </tr>\n",
       "  </tbody>\n",
       "</table>\n",
       "<p>1000 rows × 2 columns</p>\n",
       "</div>"
      ],
      "text/plain": [
       "               x          y\n",
       "0     780.244622   2.402463\n",
       "1     952.851932  18.026111\n",
       "2    1001.006241  -8.647701\n",
       "3    1052.747580  -9.465124\n",
       "4    1108.197078  25.207413\n",
       "..           ...        ...\n",
       "995  1316.894294  29.532817\n",
       "996   784.247801 -13.600633\n",
       "997   742.921454 -20.000898\n",
       "998   631.655359  41.529200\n",
       "999  1542.416927  15.594066\n",
       "\n",
       "[1000 rows x 2 columns]"
      ]
     },
     "execution_count": 249,
     "metadata": {},
     "output_type": "execute_result"
    }
   ],
   "source": [
    "synthetic_data = gaussian_copula.sample(1000)\n",
    "synthetic_data"
   ]
  },
  {
   "attachments": {},
   "cell_type": "markdown",
   "id": "09ec05f0",
   "metadata": {},
   "source": [
    "Compare the synthetic data with the original two-dimensional data:"
   ]
  },
  {
   "cell_type": "code",
   "execution_count": 250,
   "id": "8a9ac876",
   "metadata": {},
   "outputs": [
    {
     "data": {
      "image/png": "[encoded data removed]",
      "text/plain": [
       "<Figure size 864x720 with 1 Axes>"
      ]
     },
     "metadata": {
      "needs_background": "light"
     },
     "output_type": "display_data"
    }
   ],
   "source": [
    "from copulas.visualization import compare_2d\n",
    "\n",
    "compare_2d(real=data, synth=synthetic_data, figsize=(12, 10))\n",
    "plt.title('Gaussian Copula')\n",
    "plt.show();"
   ]
  },
  {
   "attachments": {},
   "cell_type": "markdown",
   "id": "077c109f",
   "metadata": {},
   "source": [
    "We can estimate the joint density as follows:"
   ]
  },
  {
   "cell_type": "code",
   "execution_count": 251,
   "id": "f63736a0",
   "metadata": {},
   "outputs": [
    {
     "data": {
      "image/png": "[encoded data removed]",
      "text/plain": [
       "<Figure size 864x720 with 1 Axes>"
      ]
     },
     "metadata": {
      "needs_background": "light"
     },
     "output_type": "display_data"
    }
   ],
   "source": [
    "fig, ax = plt.subplots(figsize=(12, 10))\n",
    "sns.kdeplot(data=data, x='x', y='y', fill=True, cmap='coolwarm', ax=ax)\n",
    "plt.title('Joint Distribution of Original Data')\n",
    "plt.show();"
   ]
  },
  {
   "cell_type": "code",
   "execution_count": 252,
   "id": "055fc6de",
   "metadata": {},
   "outputs": [
    {
     "data": {
      "image/png": "[encoded data removed]",
      "text/plain": [
       "<Figure size 864x720 with 1 Axes>"
      ]
     },
     "metadata": {
      "needs_background": "light"
     },
     "output_type": "display_data"
    }
   ],
   "source": [
    "fig, ax = plt.subplots(figsize=(12, 10))\n",
    "sns.kdeplot(data=synthetic_data, x='x', y='y', fill=True, cmap='coolwarm', ax=ax)\n",
    "plt.title('Joint Distribution of Synthetic Data')\n",
    "plt.show();"
   ]
  },
  {
   "attachments": {},
   "cell_type": "markdown",
   "id": "61ddb809",
   "metadata": {},
   "source": [
    "Another way to simulate multivariate normal is to use the `numpy.random.Generator.multivariate_normal` method:"
   ]
  },
  {
   "cell_type": "code",
   "execution_count": 242,
   "id": "78227043",
   "metadata": {},
   "outputs": [
    {
     "data": {
      "text/plain": [
       "array([[ 5.62250627e+01,  2.00095026e+03],\n",
       "       [ 5.96305844e-01,  2.00094169e+03],\n",
       "       [ 3.99737788e+00,  2.00017764e+03],\n",
       "       ...,\n",
       "       [ 3.09434233e+01,  2.00073954e+03],\n",
       "       [-2.21186040e+01,  1.99928715e+03],\n",
       "       [ 3.79797121e+01,  2.00028713e+03]])"
      ]
     },
     "execution_count": 242,
     "metadata": {},
     "output_type": "execute_result"
    }
   ],
   "source": [
    "means = np.array([12, 2000])\n",
    "# The main diagonal of the covariance matrix is the variance of each variable\n",
    "# The off-diagonal elements are the covariance between the two variables\n",
    "cov = np.array([[1000, 10], [10, 0.5]])\n",
    "\n",
    "# Generate two-dimensional data\n",
    "normal_2d = np.random.multivariate_normal(means, cov, size=1000)\n",
    "normal_2d"
   ]
  },
  {
   "cell_type": "code",
   "execution_count": 246,
   "id": "772d4a94",
   "metadata": {},
   "outputs": [
    {
     "data": {
      "image/png": "[encoded data removed]",
      "text/plain": [
       "<Figure size 864x720 with 1 Axes>"
      ]
     },
     "metadata": {
      "needs_background": "light"
     },
     "output_type": "display_data"
    }
   ],
   "source": [
    "fig, ax = plt.subplots(figsize=(12, 10))\n",
    "sns.kdeplot(x=normal_2d[:, 0], y=normal_2d[:, 1], fill=True, cmap='coolwarm', ax=ax)\n",
    "plt.title('Joint Distribution of Bivariate Normal Data')\n",
    "plt.xlabel('x')\n",
    "plt.ylabel('y')\n",
    "plt.show();"
   ]
  },
  {
   "attachments": {},
   "cell_type": "markdown",
   "id": "97055efa",
   "metadata": {},
   "source": [
    "#### 57. How to randomly place p elements in a 2D array? (★★☆)"
   ]
  },
  {
   "cell_type": "code",
   "execution_count": 272,
   "id": "292e842f",
   "metadata": {},
   "outputs": [
    {
     "data": {
      "text/plain": [
       "array([[-1.31558564,  0.81020347,  0.77735813, ...,  1.38930225, -0.04199785, -0.10447704],\n",
       "       [ 0.5328551 ,  0.49084824,  0.08816038, ..., -0.01099764,  1.14337181,  1.99595549],\n",
       "       [ 2.25410417, -0.04061905, -1.04616   , ..., -0.19381636,  0.18196272, -1.35362283],\n",
       "       ...,\n",
       "       [ 0.04108325,  0.29113795, -1.67191823, ...,  1.09556009, -0.31880488, -1.2598978 ],\n",
       "       [-0.05929755, -2.45539347, -0.74404418, ..., -1.13508608, -1.8516107 ,  0.13069878],\n",
       "       [ 0.13301209,  0.55183528, -0.87323535, ..., -1.35218023, -1.43866059,  1.50768487]])"
      ]
     },
     "execution_count": 272,
     "metadata": {},
     "output_type": "execute_result"
    },
    {
     "name": "stdout",
     "output_type": "stream",
     "text": [
      "Number of elements: 9000\n",
      "Number of missing elements: 0\n"
     ]
    }
   ],
   "source": [
    "array_2d = np.random.normal(size=(1000, 9))\n",
    "array_2d\n",
    "print(f'Number of elements: {array_2d.size}')\n",
    "print(f'Number of missing elements: {np.isnan(array_2d).sum()}')"
   ]
  },
  {
   "cell_type": "code",
   "execution_count": 273,
   "id": "64f0d99e",
   "metadata": {},
   "outputs": [],
   "source": [
    "# Randomly replace 100 elements with NaN\n",
    "p = 100\n",
    "# Modify the array in-place\n",
    "np.put(\n",
    "    a=array_2d, # Target array\n",
    "    ind=np.random.choice(a=array_2d.size, size=p, replace=False), # Indices of the elements to replace\n",
    "    v=np.nan # Value to replace the elements with\n",
    ")"
   ]
  },
  {
   "cell_type": "code",
   "execution_count": 274,
   "id": "340c4f91",
   "metadata": {},
   "outputs": [
    {
     "name": "stdout",
     "output_type": "stream",
     "text": [
      "Number of missing elements: 100\n"
     ]
    }
   ],
   "source": [
    "print(f'Number of missing elements: {np.isnan(array_2d).sum()}')"
   ]
  },
  {
   "attachments": {},
   "cell_type": "markdown",
   "id": "bfd2513c",
   "metadata": {},
   "source": [
    "#### 58. Subtract the mean of each row of a matrix (★★☆)"
   ]
  },
  {
   "cell_type": "code",
   "execution_count": 283,
   "id": "f306ab72",
   "metadata": {},
   "outputs": [
    {
     "data": {
      "text/plain": [
       "array([[1, 2, 3],\n",
       "       [4, 5, 6],\n",
       "       [7, 8, 9]])"
      ]
     },
     "execution_count": 283,
     "metadata": {},
     "output_type": "execute_result"
    }
   ],
   "source": [
    "# Matrix\n",
    "mat = np.array([[1, 2, 3], [4, 5, 6], [7, 8, 9]])\n",
    "mat"
   ]
  },
  {
   "cell_type": "code",
   "execution_count": 287,
   "id": "a40cb30c",
   "metadata": {},
   "outputs": [
    {
     "data": {
      "text/plain": [
       "array([[-1.,  0.,  1.],\n",
       "       [-1.,  0.,  1.],\n",
       "       [-1.,  0.,  1.]])"
      ]
     },
     "execution_count": 287,
     "metadata": {},
     "output_type": "execute_result"
    }
   ],
   "source": [
    "mat - mat.mean(axis=1, keepdims=True) # Take mean across the columns in each row"
   ]
  },
  {
   "attachments": {},
   "cell_type": "markdown",
   "id": "2344c2bb",
   "metadata": {},
   "source": [
    "By default, `keepdims=False`. In order to subtract from each row the the mean of each row, we need to set `keepdims=True`. If this is set to `True`, the axes which are reduced are left in the result as dimensions with size one. In the above example, the axis that is reduced is `axis=1`, and so the second index will have dimension equaling one in the result:"
   ]
  },
  {
   "cell_type": "code",
   "execution_count": 290,
   "id": "3f9188a3",
   "metadata": {},
   "outputs": [
    {
     "data": {
      "text/plain": [
       "array([[2.],\n",
       "       [5.],\n",
       "       [8.]])"
      ]
     },
     "execution_count": 290,
     "metadata": {},
     "output_type": "execute_result"
    },
    {
     "data": {
      "text/plain": [
       "(3, 1)"
      ]
     },
     "execution_count": 290,
     "metadata": {},
     "output_type": "execute_result"
    }
   ],
   "source": [
    "mat.mean(axis=1, keepdims=True)\n",
    "\n",
    "mat.mean(axis=1, keepdims=True).shape"
   ]
  },
  {
   "attachments": {},
   "cell_type": "markdown",
   "id": "33606892",
   "metadata": {},
   "source": [
    "When we subtract the $3 \\times 1$ vector from the $3 \\times 3$ matrix, the broadcasting will be carried out correctly:\n",
    "\n",
    "* Subtract each element in the first row `[1 2 3]` by $2$\n",
    "\n",
    "* Subtract each element in the second row `[4 5 6]` by $5$\n",
    "\n",
    "* Subtract each element in the first row `[7 8 9]` by $8$"
   ]
  },
  {
   "attachments": {},
   "cell_type": "markdown",
   "id": "da9f2f9b",
   "metadata": {},
   "source": [
    "#### 59. How to sort an array by the nth column? (★★☆)"
   ]
  },
  {
   "cell_type": "code",
   "execution_count": 339,
   "id": "68cde57f",
   "metadata": {},
   "outputs": [
    {
     "data": {
      "text/plain": [
       "array([[403.01534179, 924.36033918, 949.06632843, ..., 787.50137606, 343.94875089, 673.78072222],\n",
       "       [775.11960556, 671.65664651, 932.68813827, ..., 546.77985321, 756.3381496 , 357.29512339],\n",
       "       [443.24504916, 850.92417454, 518.26449678, ..., 562.77204316, 649.15347034, 241.92219918],\n",
       "       ...,\n",
       "       [314.71421432, 935.81114402, 692.32392573, ..., 927.87682373, 741.57089791, 514.29318396],\n",
       "       [702.63553399, 770.07901412, 912.96151917, ..., 259.30151182, 795.82655424, 901.77081191],\n",
       "       [664.97233769, 716.31181607, 512.97868485, ..., 890.01403247, 507.37214776, 666.36912055]])"
      ]
     },
     "execution_count": 339,
     "metadata": {},
     "output_type": "execute_result"
    }
   ],
   "source": [
    "array = np.random.uniform(low=239, high=1000, size=(100, 100))\n",
    "array"
   ]
  },
  {
   "cell_type": "code",
   "execution_count": 340,
   "id": "c51e8775",
   "metadata": {},
   "outputs": [
    {
     "name": "stdout",
     "output_type": "stream",
     "text": [
      "295.70211206995384: 0\n",
      "370.9852910284877: 1\n",
      "381.9194950978758: 2\n",
      "270.2667508409062: 3\n",
      "401.0890886800913: 4\n",
      "685.783633569484: 5\n",
      "564.0106093146098: 6\n",
      "596.1995368125799: 7\n",
      "424.88050248012416: 8\n",
      "535.3526901836456: 9\n"
     ]
    }
   ],
   "source": [
    "# Sort by the 10th column\n",
    "n_col = 9\n",
    "\n",
    "# Create a look up table for values in the 10th column in the original order\n",
    "col_ten_lookup = {value: index for index, value in enumerate(array[:, n_col])}\n",
    "\n",
    "for index, value in enumerate(col_ten_lookup):\n",
    "    if index < 10:\n",
    "        print(f'{value}: {col_ten_lookup[value]}')\n",
    "    else:\n",
    "        break"
   ]
  },
  {
   "attachments": {},
   "cell_type": "markdown",
   "id": "671583e4",
   "metadata": {},
   "source": [
    "With the lookup table, we can sort the $10^{th}$ column and obtain the newly ordered indices:"
   ]
  },
  {
   "cell_type": "code",
   "execution_count": 341,
   "id": "2a155de0",
   "metadata": {},
   "outputs": [
    {
     "data": {
      "text/plain": [
       "array([998.66299334, 993.55434978, 993.26587243, 979.92491041, 977.62245715, 955.31911427, 954.80913739, 944.39139461, 943.86499685, 934.00392624, 928.74084413, 926.26281968, 916.58956173, 916.11822581, 905.91782592, 905.75372397, 900.5887182 , 887.86520905, 881.38174857, 878.35468759, 870.52566337, 854.04564886, 849.9097517 , 836.33857166, 834.07217887, 825.18945326, 822.73943226, 818.86288486, 812.03635008, 804.88924121, 799.35093503, 791.25091005, 775.78970565, 775.14852355, 758.70615719, 748.45761597, 728.33918669, 725.8480553 , 694.70690478, 685.78363357, 664.44971741, 622.82175683, 621.53795563, 617.01379743, 613.37414045, 599.3435808 , 596.19953681, 578.57507339, 572.28300144, 565.29021766, 564.01060931, 544.39002397, 542.13525942, 535.35269018, 524.72799457, 520.17085811, 518.06782317, 510.65381327, 504.18408673, 501.58593945, 496.98805879, 472.71923783, 437.26169237, 430.19672282, 428.40470938, 425.24835003, 424.89581523, 424.88050248, 401.08908868, 395.27655559,\n",
       "       390.36443915, 384.04844889, 381.9194951 , 379.29180978, 370.98529103, 358.21173899, 341.86599762, 335.48216191, 331.2662317 , 320.50907296, 315.03822255, 312.67041004, 307.67881968, 307.22079563, 299.97465325, 295.70211207, 286.02052712, 279.41549464, 277.32037054, 276.91121098, 274.04940431, 272.61594472, 270.35297434, 270.26675084, 266.62715066, 258.5095329 , 252.31558996, 249.93341812, 249.60227252, 248.73736463])"
      ]
     },
     "execution_count": 341,
     "metadata": {},
     "output_type": "execute_result"
    }
   ],
   "source": [
    "# Sort the array by the 10th column in descending order\n",
    "new_order = np.sort(array[:, n_col])[::-1]\n",
    "new_order"
   ]
  },
  {
   "cell_type": "code",
   "execution_count": 342,
   "id": "b885ef46",
   "metadata": {},
   "outputs": [
    {
     "data": {
      "text/plain": [
       "[18, 11, 16, 10, 54, 81, 15, 95, 74, 70]"
      ]
     },
     "execution_count": 342,
     "metadata": {},
     "output_type": "execute_result"
    }
   ],
   "source": [
    "new_order_indices = [col_ten_lookup[value] for value in new_order]\n",
    "new_order_indices[:10]"
   ]
  },
  {
   "attachments": {},
   "cell_type": "markdown",
   "id": "08c5defa",
   "metadata": {},
   "source": [
    "Now we can use the above indices to subset the array in the right order based on column 10:"
   ]
  },
  {
   "cell_type": "code",
   "execution_count": 343,
   "id": "01482149",
   "metadata": {},
   "outputs": [
    {
     "data": {
      "text/plain": [
       "array([[776.92623268, 692.9099023 , 626.51568531, ..., 243.67359099, 586.43900515, 734.13318687],\n",
       "       [558.29086434, 789.89268389, 397.52360423, ..., 795.37194496, 911.29422362, 450.61607453],\n",
       "       [729.74557419, 344.44893867, 438.94727203, ..., 729.74028876, 578.05240108, 487.96356202],\n",
       "       ...,\n",
       "       [244.95343969, 781.91264887, 542.30478142, ..., 355.95514353, 390.60550146, 814.22742442],\n",
       "       [849.42366584, 681.48696689, 898.37437921, ..., 457.61843513, 746.80456531, 317.80051671],\n",
       "       [502.93280523, 671.71897367, 898.52763247, ..., 596.41221214, 995.60212478, 577.47496249]])"
      ]
     },
     "execution_count": 343,
     "metadata": {},
     "output_type": "execute_result"
    }
   ],
   "source": [
    "new_order_array = array[new_order_indices, :]\n",
    "new_order_array"
   ]
  },
  {
   "cell_type": "code",
   "execution_count": 344,
   "id": "35ec0b9c",
   "metadata": {},
   "outputs": [
    {
     "data": {
      "text/plain": [
       "array([998.66299334, 993.55434978, 993.26587243, 979.92491041, 977.62245715, 955.31911427, 954.80913739, 944.39139461, 943.86499685, 934.00392624, 928.74084413, 926.26281968, 916.58956173, 916.11822581, 905.91782592, 905.75372397, 900.5887182 , 887.86520905, 881.38174857, 878.35468759, 870.52566337, 854.04564886, 849.9097517 , 836.33857166, 834.07217887, 825.18945326, 822.73943226, 818.86288486, 812.03635008, 804.88924121, 799.35093503, 791.25091005, 775.78970565, 775.14852355, 758.70615719, 748.45761597, 728.33918669, 725.8480553 , 694.70690478, 685.78363357, 664.44971741, 622.82175683, 621.53795563, 617.01379743, 613.37414045, 599.3435808 , 596.19953681, 578.57507339, 572.28300144, 565.29021766, 564.01060931, 544.39002397, 542.13525942, 535.35269018, 524.72799457, 520.17085811, 518.06782317, 510.65381327, 504.18408673, 501.58593945, 496.98805879, 472.71923783, 437.26169237, 430.19672282, 428.40470938, 425.24835003, 424.89581523, 424.88050248, 401.08908868, 395.27655559,\n",
       "       390.36443915, 384.04844889, 381.9194951 , 379.29180978, 370.98529103, 358.21173899, 341.86599762, 335.48216191, 331.2662317 , 320.50907296, 315.03822255, 312.67041004, 307.67881968, 307.22079563, 299.97465325, 295.70211207, 286.02052712, 279.41549464, 277.32037054, 276.91121098, 274.04940431, 272.61594472, 270.35297434, 270.26675084, 266.62715066, 258.5095329 , 252.31558996, 249.93341812, 249.60227252, 248.73736463])"
      ]
     },
     "execution_count": 344,
     "metadata": {},
     "output_type": "execute_result"
    }
   ],
   "source": [
    "# Check the 10th column is sorted in descending order\n",
    "new_order_array[:, n_col]"
   ]
  },
  {
   "attachments": {},
   "cell_type": "markdown",
   "id": "740c3cbe",
   "metadata": {},
   "source": [
    "Another solution is more concise, which uses the `argsort` method. This method returns the indices that would sort any array:"
   ]
  },
  {
   "cell_type": "code",
   "execution_count": 345,
   "id": "bf67b1e2",
   "metadata": {},
   "outputs": [
    {
     "data": {
      "text/plain": [
       "array([[403.01534179, 924.36033918, 949.06632843, ..., 787.50137606, 343.94875089, 673.78072222],\n",
       "       [775.11960556, 671.65664651, 932.68813827, ..., 546.77985321, 756.3381496 , 357.29512339],\n",
       "       [443.24504916, 850.92417454, 518.26449678, ..., 562.77204316, 649.15347034, 241.92219918],\n",
       "       ...,\n",
       "       [314.71421432, 935.81114402, 692.32392573, ..., 927.87682373, 741.57089791, 514.29318396],\n",
       "       [702.63553399, 770.07901412, 912.96151917, ..., 259.30151182, 795.82655424, 901.77081191],\n",
       "       [664.97233769, 716.31181607, 512.97868485, ..., 890.01403247, 507.37214776, 666.36912055]])"
      ]
     },
     "execution_count": 345,
     "metadata": {},
     "output_type": "execute_result"
    }
   ],
   "source": [
    "# Original array\n",
    "array"
   ]
  },
  {
   "cell_type": "code",
   "execution_count": 346,
   "id": "07aa6afe",
   "metadata": {},
   "outputs": [
    {
     "data": {
      "text/plain": [
       "array([18, 11, 16, 10, 54, 81, 15, 95, 74, 70, 93, 67, 80, 72, 83, 53, 60, 78, 30, 36, 69, 97, 40, 41, 44, 46, 76, 47, 33, 27, 85, 28, 58, 68, 34, 13, 26, 55, 89,  5, 71, 65, 20, 38, 86, 99,  7, 62, 82, 56,  6, 98, 51,  9, 43, 52, 45, 84, 24, 49, 14, 96, 91, 29, 87, 61, 92,  8,  4, 17, 25, 57,  2, 35,  1, 75, 23, 32, 22, 90, 66, 50, 59, 19, 42,  0, 39, 37, 79, 73, 64, 63, 21,  3, 31, 77, 12, 48, 94, 88])"
      ]
     },
     "execution_count": 346,
     "metadata": {},
     "output_type": "execute_result"
    }
   ],
   "source": [
    "# Indices of the 10th column in the sorted order\n",
    "array[:, n_col].argsort()[::-1]"
   ]
  },
  {
   "cell_type": "code",
   "execution_count": 349,
   "id": "7f93a788",
   "metadata": {},
   "outputs": [
    {
     "data": {
      "text/plain": [
       "array([[776.92623268, 692.9099023 , 626.51568531, ..., 243.67359099, 586.43900515, 734.13318687],\n",
       "       [558.29086434, 789.89268389, 397.52360423, ..., 795.37194496, 911.29422362, 450.61607453],\n",
       "       [729.74557419, 344.44893867, 438.94727203, ..., 729.74028876, 578.05240108, 487.96356202],\n",
       "       ...,\n",
       "       [244.95343969, 781.91264887, 542.30478142, ..., 355.95514353, 390.60550146, 814.22742442],\n",
       "       [849.42366584, 681.48696689, 898.37437921, ..., 457.61843513, 746.80456531, 317.80051671],\n",
       "       [502.93280523, 671.71897367, 898.52763247, ..., 596.41221214, 995.60212478, 577.47496249]])"
      ]
     },
     "execution_count": 349,
     "metadata": {},
     "output_type": "execute_result"
    }
   ],
   "source": [
    "new_order_array_second_way = array[array[:, n_col].argsort()[::-1], :]\n",
    "new_order_array_second_way"
   ]
  },
  {
   "cell_type": "code",
   "execution_count": 350,
   "id": "c3e8c7e7",
   "metadata": {},
   "outputs": [
    {
     "data": {
      "text/plain": [
       "True"
      ]
     },
     "execution_count": 350,
     "metadata": {},
     "output_type": "execute_result"
    }
   ],
   "source": [
    "np.allclose(new_order_array, new_order_array_second_way)"
   ]
  },
  {
   "cell_type": "markdown",
   "id": "5b7be45c",
   "metadata": {},
   "source": [
    "#### 60. How to tell if a given 2D array has null columns? (★★☆)"
   ]
  },
  {
   "cell_type": "code",
   "execution_count": 291,
   "id": "7dbe2c27",
   "metadata": {},
   "outputs": [
    {
     "data": {
      "text/plain": [
       "array([[nan,  2.,  3.],\n",
       "       [nan,  5.,  6.],\n",
       "       [nan,  8.,  9.],\n",
       "       [nan, 11., 12.]])"
      ]
     },
     "execution_count": 291,
     "metadata": {},
     "output_type": "execute_result"
    }
   ],
   "source": [
    "# Array with null columns\n",
    "array = np.array([[np.nan, 2, 3], [np.nan, 5, 6], [np.nan, 8, 9], [np.nan, 11, 12]])\n",
    "array"
   ]
  },
  {
   "cell_type": "code",
   "execution_count": 300,
   "id": "5a727f2e",
   "metadata": {},
   "outputs": [
    {
     "data": {
      "text/plain": [
       "array([4, 0, 0])"
      ]
     },
     "execution_count": 300,
     "metadata": {},
     "output_type": "execute_result"
    }
   ],
   "source": [
    "# Count the number of NaNs in each column\n",
    "col_null_counts = np.isnan(array).sum(axis=0) \n",
    "col_null_counts"
   ]
  },
  {
   "cell_type": "code",
   "execution_count": 304,
   "id": "fa224f09",
   "metadata": {},
   "outputs": [
    {
     "data": {
      "text/plain": [
       "(array([0]),)"
      ]
     },
     "execution_count": 304,
     "metadata": {},
     "output_type": "execute_result"
    }
   ],
   "source": [
    "# Check for null columns\n",
    "np.nonzero(col_null_counts == array.shape[0])"
   ]
  },
  {
   "attachments": {},
   "cell_type": "markdown",
   "id": "be4af504",
   "metadata": {},
   "source": [
    "The first column is null. Another way to do this is to use the `all` method:"
   ]
  },
  {
   "cell_type": "code",
   "execution_count": 306,
   "id": "c89e6125",
   "metadata": {},
   "outputs": [
    {
     "data": {
      "text/plain": [
       "array([[nan],\n",
       "       [nan],\n",
       "       [nan],\n",
       "       [nan]])"
      ]
     },
     "execution_count": 306,
     "metadata": {},
     "output_type": "execute_result"
    }
   ],
   "source": [
    "# Select null column\n",
    "array[:, np.isnan(array).all(axis=0)]"
   ]
  },
  {
   "cell_type": "markdown",
   "id": "7c18c02e",
   "metadata": {},
   "source": [
    "#### 61. Find the nearest value from a given value in an array (★★☆)"
   ]
  },
  {
   "cell_type": "code",
   "execution_count": null,
   "id": "b78ae9c4",
   "metadata": {},
   "outputs": [],
   "source": []
  },
  {
   "cell_type": "markdown",
   "id": "8174ba2c",
   "metadata": {},
   "source": [
    "#### 62. Considering two arrays with shape (1,3) and (3,1), how to compute their sum using an iterator? (★★☆)"
   ]
  },
  {
   "cell_type": "code",
   "execution_count": null,
   "id": "8a18fe57",
   "metadata": {},
   "outputs": [],
   "source": []
  },
  {
   "cell_type": "markdown",
   "id": "9189bd7c",
   "metadata": {},
   "source": [
    "#### 63. Create an array class that has a name attribute (★★☆)"
   ]
  },
  {
   "cell_type": "code",
   "execution_count": null,
   "id": "1c01ed42",
   "metadata": {},
   "outputs": [],
   "source": []
  },
  {
   "cell_type": "markdown",
   "id": "f30162d2",
   "metadata": {},
   "source": [
    "#### 64. Consider a given vector, how to add 1 to each element indexed by a second vector (be careful with repeated indices)? (★★★)"
   ]
  },
  {
   "cell_type": "code",
   "execution_count": null,
   "id": "093ba36f",
   "metadata": {},
   "outputs": [],
   "source": []
  },
  {
   "cell_type": "markdown",
   "id": "f5b1c584",
   "metadata": {},
   "source": [
    "#### 65. How to accumulate elements of a vector (X) to an array (F) based on an index list (I)? (★★★)"
   ]
  },
  {
   "cell_type": "code",
   "execution_count": null,
   "id": "c9d92a75",
   "metadata": {},
   "outputs": [],
   "source": []
  },
  {
   "cell_type": "markdown",
   "id": "994c452d",
   "metadata": {},
   "source": [
    "#### 66. Considering a (w,h,3) image of (dtype=ubyte), compute the number of unique colors (★★☆)"
   ]
  },
  {
   "cell_type": "code",
   "execution_count": null,
   "id": "269cdaea",
   "metadata": {},
   "outputs": [],
   "source": []
  },
  {
   "cell_type": "markdown",
   "id": "4bddeb31",
   "metadata": {},
   "source": [
    "#### 67. Considering a four dimensions array, how to get sum over the last two axis at once? (★★★)"
   ]
  },
  {
   "cell_type": "code",
   "execution_count": null,
   "id": "32af15f5",
   "metadata": {},
   "outputs": [],
   "source": []
  },
  {
   "cell_type": "markdown",
   "id": "c4cf083c",
   "metadata": {},
   "source": [
    "#### 68. Considering a one-dimensional vector D, how to compute means of subsets of D using a vector S of same size describing subset  indices? (★★★)"
   ]
  },
  {
   "cell_type": "code",
   "execution_count": null,
   "id": "9600a2dd",
   "metadata": {},
   "outputs": [],
   "source": []
  },
  {
   "cell_type": "markdown",
   "id": "a5e316db",
   "metadata": {},
   "source": [
    "#### 69. How to get the diagonal of a dot product? (★★★)"
   ]
  },
  {
   "cell_type": "code",
   "execution_count": null,
   "id": "94735dbd",
   "metadata": {},
   "outputs": [],
   "source": []
  },
  {
   "cell_type": "markdown",
   "id": "de727a7b",
   "metadata": {},
   "source": [
    "#### 70. Consider the vector [1, 2, 3, 4, 5], how to build a new vector with 3 consecutive zeros interleaved between each value? (★★★)"
   ]
  },
  {
   "cell_type": "code",
   "execution_count": null,
   "id": "982be812",
   "metadata": {},
   "outputs": [],
   "source": []
  },
  {
   "cell_type": "markdown",
   "id": "a9a73d6b",
   "metadata": {},
   "source": [
    "#### 71. Consider an array of dimension (5,5,3), how to mulitply it by an array with dimensions (5,5)? (★★★)"
   ]
  },
  {
   "cell_type": "code",
   "execution_count": null,
   "id": "282a90cc",
   "metadata": {},
   "outputs": [],
   "source": []
  },
  {
   "cell_type": "markdown",
   "id": "a951c78f",
   "metadata": {},
   "source": [
    "#### 72. How to swap two rows of an array? (★★★)"
   ]
  },
  {
   "cell_type": "code",
   "execution_count": null,
   "id": "e29b3fde",
   "metadata": {},
   "outputs": [],
   "source": []
  },
  {
   "cell_type": "markdown",
   "id": "43b639e8",
   "metadata": {},
   "source": [
    "#### 73. Consider a set of 10 triplets describing 10 triangles (with shared vertices), find the set of unique line segments composing all the  triangles (★★★)"
   ]
  },
  {
   "cell_type": "code",
   "execution_count": null,
   "id": "147e1034",
   "metadata": {},
   "outputs": [],
   "source": []
  },
  {
   "cell_type": "markdown",
   "id": "d41de585",
   "metadata": {},
   "source": [
    "#### 74. Given a sorted array C that corresponds to a bincount, how to produce an array A such that np.bincount(A) == C? (★★★)"
   ]
  },
  {
   "cell_type": "code",
   "execution_count": null,
   "id": "5f5d6e36",
   "metadata": {},
   "outputs": [],
   "source": []
  },
  {
   "cell_type": "markdown",
   "id": "b50adf7c",
   "metadata": {},
   "source": [
    "#### 75. How to compute averages using a sliding window over an array? (★★★)"
   ]
  },
  {
   "cell_type": "code",
   "execution_count": null,
   "id": "e631a9d2",
   "metadata": {},
   "outputs": [],
   "source": []
  },
  {
   "cell_type": "markdown",
   "id": "1ab4c50d",
   "metadata": {},
   "source": [
    "#### 76. Consider a one-dimensional array Z, build a two-dimensional array whose first row is (Z[0],Z[1],Z[2]) and each subsequent row is  shifted by 1 (last row should be (Z[-3],Z[-2],Z[-1]) (★★★)"
   ]
  },
  {
   "cell_type": "code",
   "execution_count": null,
   "id": "3ccfe2c0",
   "metadata": {},
   "outputs": [],
   "source": []
  },
  {
   "cell_type": "markdown",
   "id": "5b4fe59d",
   "metadata": {},
   "source": [
    "#### 77. How to negate a boolean, or to change the sign of a float inplace? (★★★)"
   ]
  },
  {
   "cell_type": "code",
   "execution_count": null,
   "id": "3c2373ff",
   "metadata": {},
   "outputs": [],
   "source": []
  },
  {
   "cell_type": "markdown",
   "id": "119ab5af",
   "metadata": {},
   "source": [
    "#### 78. Consider 2 sets of points P0,P1 describing lines (2d) and a point p, how to compute distance from p to each line i (P0[i],P1[i])? (★★★)"
   ]
  },
  {
   "cell_type": "code",
   "execution_count": null,
   "id": "1d8d06dc",
   "metadata": {},
   "outputs": [],
   "source": []
  },
  {
   "cell_type": "markdown",
   "id": "e5e7f323",
   "metadata": {},
   "source": [
    "#### 79. Consider 2 sets of points P0,P1 describing lines (2d) and a set of points P, how to compute distance from each point j (P[j]) to each line i (P0[i],P1[i])? (★★★)"
   ]
  },
  {
   "cell_type": "code",
   "execution_count": null,
   "id": "d0ce77e2",
   "metadata": {},
   "outputs": [],
   "source": []
  },
  {
   "cell_type": "markdown",
   "id": "9b9d03eb",
   "metadata": {},
   "source": [
    "#### 80. Consider an arbitrary array, write a function that extract a subpart with a fixed shape and centered on a given element (pad with a `fill` value when necessary) (★★★)"
   ]
  },
  {
   "cell_type": "code",
   "execution_count": null,
   "id": "ec2b7ae3",
   "metadata": {},
   "outputs": [],
   "source": []
  },
  {
   "cell_type": "markdown",
   "id": "27794913",
   "metadata": {},
   "source": [
    "#### 81. Consider an array Z = [1,2,3,4,5,6,7,8,9,10,11,12,13,14], how to generate an array R = [[1,2,3,4], [2,3,4,5], [3,4,5,6], ..., [11,12,13,14]]? (★★★)"
   ]
  },
  {
   "cell_type": "code",
   "execution_count": null,
   "id": "f3e7878b",
   "metadata": {},
   "outputs": [],
   "source": []
  },
  {
   "cell_type": "markdown",
   "id": "fae786f5",
   "metadata": {},
   "source": [
    "#### 82. Compute a matrix rank (★★★)"
   ]
  },
  {
   "cell_type": "code",
   "execution_count": null,
   "id": "64b9615b",
   "metadata": {},
   "outputs": [],
   "source": []
  },
  {
   "cell_type": "markdown",
   "id": "c85aa0b9",
   "metadata": {},
   "source": [
    "#### 83. How to find the most frequent value in an array?"
   ]
  },
  {
   "cell_type": "code",
   "execution_count": null,
   "id": "056be85b",
   "metadata": {},
   "outputs": [],
   "source": []
  },
  {
   "cell_type": "markdown",
   "id": "0ff2344d",
   "metadata": {},
   "source": [
    "#### 84. Extract all the contiguous 3x3 blocks from a random 10x10 matrix (★★★)"
   ]
  },
  {
   "cell_type": "code",
   "execution_count": null,
   "id": "d58b1318",
   "metadata": {},
   "outputs": [],
   "source": []
  },
  {
   "cell_type": "markdown",
   "id": "1a18b263",
   "metadata": {},
   "source": [
    "#### 85. Create a 2D array subclass such that Z[i,j] == Z[j,i] (★★★)"
   ]
  },
  {
   "cell_type": "code",
   "execution_count": null,
   "id": "87f17adc",
   "metadata": {},
   "outputs": [],
   "source": []
  },
  {
   "cell_type": "markdown",
   "id": "f85f2cad",
   "metadata": {},
   "source": [
    "#### 86. Consider a set of p matrices wich shape (n,n) and a set of p vectors with shape (n,1). How to compute the sum of of the p matrix products at once? (result has shape (n,1)) (★★★)"
   ]
  },
  {
   "cell_type": "code",
   "execution_count": null,
   "id": "8d230557",
   "metadata": {},
   "outputs": [],
   "source": []
  },
  {
   "cell_type": "markdown",
   "id": "5afb72c8",
   "metadata": {},
   "source": [
    "#### 87. Consider a 16x16 array, how to get the block-sum (block size is 4x4)? (★★★)"
   ]
  },
  {
   "cell_type": "code",
   "execution_count": null,
   "id": "e86f47a9",
   "metadata": {},
   "outputs": [],
   "source": []
  },
  {
   "cell_type": "markdown",
   "id": "6094d37c",
   "metadata": {},
   "source": [
    "#### 88. How to implement the Game of Life using numpy arrays? (★★★)"
   ]
  },
  {
   "cell_type": "code",
   "execution_count": null,
   "id": "a93e715f",
   "metadata": {},
   "outputs": [],
   "source": []
  },
  {
   "cell_type": "markdown",
   "id": "a173cf96",
   "metadata": {},
   "source": [
    "#### 89. How to get the n largest values of an array (★★★)"
   ]
  },
  {
   "cell_type": "code",
   "execution_count": null,
   "id": "b7c2ff35",
   "metadata": {},
   "outputs": [],
   "source": []
  },
  {
   "cell_type": "markdown",
   "id": "15db2d01",
   "metadata": {},
   "source": [
    "#### 90. Given an arbitrary number of vectors, build the cartesian product (every combinations of every item) (★★★)"
   ]
  },
  {
   "cell_type": "code",
   "execution_count": null,
   "id": "a9a4633d",
   "metadata": {},
   "outputs": [],
   "source": []
  },
  {
   "cell_type": "markdown",
   "id": "5d94d1ef",
   "metadata": {},
   "source": [
    "#### 91. How to create a record array from a regular array? (★★★)"
   ]
  },
  {
   "cell_type": "code",
   "execution_count": null,
   "id": "b1dae380",
   "metadata": {},
   "outputs": [],
   "source": []
  },
  {
   "cell_type": "markdown",
   "id": "114ccc36",
   "metadata": {},
   "source": [
    "#### 92. Consider a large vector Z, compute Z to the power of 3 using 3 different methods (★★★)"
   ]
  },
  {
   "cell_type": "code",
   "execution_count": null,
   "id": "877c65d6",
   "metadata": {},
   "outputs": [],
   "source": []
  },
  {
   "cell_type": "markdown",
   "id": "d614fee4",
   "metadata": {},
   "source": [
    "#### 93. Consider two arrays A and B of shape (8,3) and (2,2). How to find rows of A that contain elements of each row of B regardless of the order of the elements in B? (★★★)"
   ]
  },
  {
   "cell_type": "code",
   "execution_count": null,
   "id": "e6807a84",
   "metadata": {},
   "outputs": [],
   "source": []
  },
  {
   "cell_type": "markdown",
   "id": "b0eedca6",
   "metadata": {},
   "source": [
    "#### 94. Considering a 10x3 matrix, extract rows with unequal values (e.g. [2,2,3]) (★★★)"
   ]
  },
  {
   "cell_type": "code",
   "execution_count": null,
   "id": "fc136ce2",
   "metadata": {},
   "outputs": [],
   "source": []
  },
  {
   "cell_type": "markdown",
   "id": "a65ec1cf",
   "metadata": {},
   "source": [
    "#### 95. Convert a vector of ints into a matrix binary representation (★★★)"
   ]
  },
  {
   "cell_type": "code",
   "execution_count": null,
   "id": "323cdf4c",
   "metadata": {},
   "outputs": [],
   "source": []
  },
  {
   "cell_type": "markdown",
   "id": "75b9397f",
   "metadata": {},
   "source": [
    "#### 96. Given a two dimensional array, how to extract unique rows? (★★★)"
   ]
  },
  {
   "cell_type": "code",
   "execution_count": null,
   "id": "9bb56a47",
   "metadata": {},
   "outputs": [],
   "source": []
  },
  {
   "cell_type": "markdown",
   "id": "82aaf21b",
   "metadata": {},
   "source": [
    "#### 97. Considering 2 vectors A & B, write the einsum equivalent of inner, outer, sum, and mul function (★★★)"
   ]
  },
  {
   "cell_type": "code",
   "execution_count": null,
   "id": "cedcefd9",
   "metadata": {},
   "outputs": [],
   "source": []
  },
  {
   "cell_type": "markdown",
   "id": "7741e17f",
   "metadata": {},
   "source": [
    "#### 98. Considering a path described by two vectors (X,Y), how to sample it using equidistant samples (★★★)?"
   ]
  },
  {
   "cell_type": "code",
   "execution_count": null,
   "id": "0b2432fe",
   "metadata": {},
   "outputs": [],
   "source": []
  },
  {
   "cell_type": "markdown",
   "id": "340d6f36",
   "metadata": {},
   "source": [
    "#### 99. Given an integer n and a 2D array X, select from X the rows which can be interpreted as draws from a multinomial distribution with n degrees, i.e., the rows which only contain integers and which sum to n. (★★★)"
   ]
  },
  {
   "cell_type": "code",
   "execution_count": null,
   "id": "a75323ae",
   "metadata": {},
   "outputs": [],
   "source": []
  },
  {
   "cell_type": "markdown",
   "id": "19721849",
   "metadata": {},
   "source": [
    "#### 100. Compute bootstrapped 95% confidence intervals for the mean of a 1D array X (i.e., resample the elements of an array with replacement N times, compute the mean of each sample, and then compute percentiles over the means). (★★★)"
   ]
  },
  {
   "cell_type": "code",
   "execution_count": 40,
   "id": "87309c6f",
   "metadata": {},
   "outputs": [
    {
     "data": {
      "image/png": "[encoded data removed]",
      "text/plain": [
       "<Figure size 1080x864 with 1 Axes>"
      ]
     },
     "metadata": {
      "needs_background": "light"
     },
     "output_type": "display_data"
    }
   ],
   "source": [
    "from tqdm import tqdm\n",
    "\n",
    "# Generate a random 1d array (exponential distribution)\n",
    "x = np.random.exponential(scale=1000, size=10000)\n",
    "\n",
    "# Plot the histogram and the kernel density estimate\n",
    "fig, ax = plt.subplots(figsize=(15, 12))\n",
    "sns.histplot(x, kde=True, ax=ax)\n",
    "plt.title('Histogram and Kernel Density Estimate of Simulated Exponential Distribution')\n",
    "plt.show();"
   ]
  },
  {
   "attachments": {},
   "cell_type": "markdown",
   "id": "56dffdbf",
   "metadata": {},
   "source": [
    "Given the sample `x`, we sample with replacement to obtain a new sample $x_{\\text{bootstrap}}$ containing $5,000$ observations (may be duplicated) from this original sample `x`. We repeat this sampling procedure many times--- say, $10,000$--- to obtain many samples:\n",
    "\n",
    "* $x_{\\text{bootstrap 1}}$ ($5,000$ element vector)\n",
    "\n",
    "* $x_{\\text{bootstrap 2}}$ ($5,000$ element vector)\n",
    "\n",
    "* ...\n",
    "\n",
    "* $x_{\\text{bootstrap 10,000}}$ ($5,000$ element vector)\n",
    "\n",
    "Then, for each of the bootstrapped samples, we compute the sample mean, generating 1000 bootstrapped sample means. Finally, we use these bootstrapped statistics to construct the sampling distribution of the sample mean of the original sample `x`, from which the bootstrapped confidence interval can be obtained by taking the appropriate percentiles."
   ]
  },
  {
   "cell_type": "code",
   "execution_count": 46,
   "id": "12fcac5b",
   "metadata": {},
   "outputs": [
    {
     "name": "stderr",
     "output_type": "stream",
     "text": [
      "100%|██████████| 10000/10000 [00:01<00:00, 7860.60it/s]\n"
     ]
    }
   ],
   "source": [
    "boots_means = []\n",
    "\n",
    "for i in tqdm(range(10000)):\n",
    "    mean = np.random.choice(x, size=5000, replace=True).mean() # With replacement and assumes uniform distribution over all entries of 'x'\n",
    "    boots_means.append(mean)"
   ]
  },
  {
   "attachments": {},
   "cell_type": "markdown",
   "id": "a3ef8ae6",
   "metadata": {},
   "source": [
    "Plot the sampling distribution and the sample mean of the original array `x`:"
   ]
  },
  {
   "cell_type": "code",
   "execution_count": 55,
   "id": "db1715b7",
   "metadata": {},
   "outputs": [
    {
     "data": {
      "image/png": "[encoded data removed]",
      "text/plain": [
       "<Figure size 1080x864 with 1 Axes>"
      ]
     },
     "metadata": {
      "needs_background": "light"
     },
     "output_type": "display_data"
    }
   ],
   "source": [
    "fig, ax = plt.subplots(figsize=(15, 12))\n",
    "sns.histplot(boots_means, kde=True, ax=ax)\n",
    "# Add the mean of the original distribution\n",
    "ax.axvline(x.mean(), color='red', linestyle='--')\n",
    "# Add the text label for the mean of the original distribution\n",
    "ax.text(x.mean() + 10, 500, f'Mean of Original Distribution: {round(x.mean(), 4)}', color='red', fontsize=12)\n",
    "plt.title('Histogram and Kernel Density Estimate of Bootstrapped Sample Means')\n",
    "plt.show();"
   ]
  },
  {
   "attachments": {},
   "cell_type": "markdown",
   "id": "df0292f3",
   "metadata": {},
   "source": [
    "We first fit a continuous distribution to the sampling distribution, obtaining MLE estimates of the parameters:"
   ]
  },
  {
   "cell_type": "code",
   "execution_count": 75,
   "id": "79dc9f9f",
   "metadata": {},
   "outputs": [
    {
     "data": {
      "text/plain": [
       "  params: FitParams(loc=1008.885272501263, scale=14.348595910688974)\n",
       " success: True\n",
       " message: 'Optimization terminated successfully.'"
      ]
     },
     "execution_count": 75,
     "metadata": {},
     "output_type": "execute_result"
    }
   ],
   "source": [
    "from scipy.stats import norm, fit\n",
    "\n",
    "# Bounds are not necessary, but it is good practice to specify them for convergence\n",
    "# Bound mean to be between the 25th and 75th quantiles values of the distribution\n",
    "# Bound standard deviation to be positive\n",
    "quantiles = np.quantile(boots_means, [0.25, 0.75]) \n",
    "bounds = {'loc': (quantiles[0], quantiles[1]), 'scale': (0, 1000)}\n",
    "fit_res = fit(dist=norm, data=boots_means, bounds=bounds, guess=None, method='mle')\n",
    "\n",
    "fit_res"
   ]
  },
  {
   "attachments": {},
   "cell_type": "markdown",
   "id": "6d157a5d",
   "metadata": {},
   "source": [
    "We then test the null hypothesis that the sampling distribution is normally distributed with the MLE estimates. Note that in the context of `scipy.stats.norm`, the `loc` parameter is the mean and the `scale` parameter is the standard deviation:"
   ]
  },
  {
   "cell_type": "code",
   "execution_count": 79,
   "id": "f29c18fd",
   "metadata": {},
   "outputs": [
    {
     "data": {
      "text/plain": [
       "KstestResult(statistic=0.00935587644576319, pvalue=0.3433912759202178, statistic_location=1013.8046801345535, statistic_sign=1)"
      ]
     },
     "execution_count": 79,
     "metadata": {},
     "output_type": "execute_result"
    }
   ],
   "source": [
    "from scipy.stats import norm, kstest\n",
    "\n",
    "kstest(boots_means, cdf=norm.cdf, args=(fit_res.params[0], fit_res.params[1]))"
   ]
  },
  {
   "attachments": {},
   "cell_type": "markdown",
   "id": "886e956d",
   "metadata": {},
   "source": [
    "Controlling type-I error rate at $5 \\%$, the probability of observing a test statistic as large as seen above is very large; we fail to reject the null hypothesis that the bootstrapped sampling distribution is normal with the MLE estimators as its parameters. \n",
    "\n",
    "In a one-sample test, `statistic_location` is the value of `boots_means` corresponding with the KS statistic--- in other words, the distance between the empirical distribution function and the hypothesized cumulative distribution function is measured *at this observation*.\n",
    "\n",
    "In addition, for one-sample tests, the `statistic_sign` is $+1$ if the KS statistic is the **maximum positive difference** between the empirical distribution function and the hypothesized cumulative distribution function ($D+$); it is $-1$ if the KS statistic is the **maximum negative difference** ($D-$)."
   ]
  },
  {
   "cell_type": "code",
   "execution_count": 93,
   "id": "5485601d",
   "metadata": {},
   "outputs": [
    {
     "name": "stdout",
     "output_type": "stream",
     "text": [
      "95% Confidence Interval: (1008.604, 1009.1665)\n"
     ]
    }
   ],
   "source": [
    "from scipy.stats import t\n",
    "\n",
    "# Compute t-score (rather than z-score from standard normal)\n",
    "# In practice, either one can be used for large sample sizes, but we do not know the population standard deviation and so we will use t-score\n",
    "t_score = t.ppf(q=0.975, df=len(boots_means) - 1)\n",
    "n = len(boots_means)\n",
    "\n",
    "# Construct the 95% confidence interval of the bootstrapped sample means using t-distribution\n",
    "# Use ddof=1 (n - 1) to get the unbiased estimate of the population standard deviation\n",
    "lower_ci = np.mean(boots_means) - t_score * (np.std(boots_means, ddof=1) / np.sqrt(n)) \n",
    "upper_ci = np.mean(boots_means) + t_score * (np.std(boots_means, ddof=1) / np.sqrt(n))\n",
    "\n",
    "print(f'95% Confidence Interval: ({round(lower_ci, 4)}, {round(upper_ci, 4)})')"
   ]
  },
  {
   "attachments": {},
   "cell_type": "markdown",
   "id": "3ac685fc",
   "metadata": {},
   "source": [
    "What we have calculated above is, strictly speaking, simply the 95 percent confidence interval of the normal distribution.\n",
    "\n",
    "To compute the actual bootstrapped confidence interval, we need to find the appropriate percentile or quantile vales."
   ]
  },
  {
   "cell_type": "code",
   "execution_count": 176,
   "id": "917615fc",
   "metadata": {},
   "outputs": [
    {
     "name": "stdout",
     "output_type": "stream",
     "text": [
      "95% Confidence Interval: (981.3586, 1037.138)\n"
     ]
    }
   ],
   "source": [
    "boots_confint = np.percentile(boots_means, [2.5, 97.5])\n",
    "\n",
    "print(f'95% Confidence Interval: ({round(boots_confint[0], 4)}, {round(boots_confint[1], 4)})')"
   ]
  },
  {
   "attachments": {},
   "cell_type": "markdown",
   "id": "d7930129",
   "metadata": {},
   "source": [
    "We can also use the `numpy.quantile` function, which is equivalent to the above but specifying $q \\in [0, 1]$:"
   ]
  },
  {
   "cell_type": "code",
   "execution_count": 177,
   "id": "180e0576",
   "metadata": {},
   "outputs": [
    {
     "data": {
      "text/plain": [
       "array([ 981.35861479, 1037.13800197])"
      ]
     },
     "execution_count": 177,
     "metadata": {},
     "output_type": "execute_result"
    }
   ],
   "source": [
    "np.quantile(boots_means, [0.025, 0.975])"
   ]
  },
  {
   "attachments": {},
   "cell_type": "markdown",
   "id": "280f876f",
   "metadata": {},
   "source": [
    "If we plot the confidence interval above:"
   ]
  },
  {
   "cell_type": "code",
   "execution_count": 190,
   "id": "231022c3",
   "metadata": {},
   "outputs": [
    {
     "data": {
      "image/png": "[encoded data removed]",
      "text/plain": [
       "<Figure size 1080x864 with 1 Axes>"
      ]
     },
     "metadata": {
      "needs_background": "light"
     },
     "output_type": "display_data"
    }
   ],
   "source": [
    "fig, ax = plt.subplots(figsize=(15, 12))\n",
    "sns.histplot(boots_means, kde=True, ax=ax)\n",
    "# Add the mean of the original distribution\n",
    "ax.axvline(x.mean(), color='red', linestyle='--')\n",
    "# Add the text label for the mean of the original distribution\n",
    "ax.text(x.mean() + 5, 500, f'Mean of Original \\n Distribution: {round(x.mean(), 4)}', color='red', fontsize=12)\n",
    "# Add the 95% confidence interval\n",
    "ax.axvline(boots_confint[0], color='green', linestyle='--')\n",
    "ax.axvline(boots_confint[1], color='green', linestyle='--')\n",
    "ax.text(lower_ci + 30, 300, f'Upper Bound: {round(upper_ci, 4)}', color='green', fontsize=12)\n",
    "ax.text(lower_ci - 53, 300, f'Lower Bound: {round(lower_ci, 4)}', color='green', fontsize=12)\n",
    "plt.title('Histogram and Kernel Density Estimate of Bootstrapped Sample Means')\n",
    "plt.show();"
   ]
  },
  {
   "attachments": {},
   "cell_type": "markdown",
   "id": "d2786b61",
   "metadata": {},
   "source": [
    "which can be interpreted as saying we have high confidence, upon repeated sampling, the the true unknown value of the sample mean of the original array `x` is between the bounds listed above."
   ]
  },
  {
   "attachments": {},
   "cell_type": "markdown",
   "id": "6fa377cf",
   "metadata": {},
   "source": [
    "### Confidence Interval for Exponential Distribution\n",
    "\n",
    "The confidence interval for the sample mean of the exponentially distributed sample has a closed form formula. From the textbooks 'Introduction to Probability and Statistics for Engineers and Scientists' by Sheldon Ross, the $100(1-a) \\%$ confidence interval for the rate parameter of an exponential distribution is given by:\n",
    "\n",
    "$$\n",
    "\\frac{2 n}{\\widehat{\\lambda} \\chi_{1-\\frac{\\alpha}{2}, 2 n}^2}<\\frac{1}{\\lambda}<\\frac{2 n}{\\widehat{\\lambda} \\chi_{\\frac{\\alpha}{2}, 2 n}^2}\n",
    "$$\n",
    "which is also equal to:\n",
    "$$\n",
    "\\frac{2 n \\bar{x}}{\\chi_{1-\\frac{\\alpha}{2}, 2 n}^2}<\\frac{1}{\\lambda}<\\frac{2 n \\bar{x}}{\\chi_{\\frac{\\alpha}{2}, 2 n}^2}\n",
    "$$\n",
    "\n",
    "where \n",
    "\n",
    "* $\\chi_{p, v}^2$ is the $100(p)$ percentile of the chi squared distribution with $v$ degrees of freedom\n",
    "  * $p$ is $1 - \\frac{\\alpha}{2}$\n",
    "  * $v$ is $2n$\n",
    "* $\\mathrm{n}$ is the number of observations of inter-arrival times in the sample\n",
    "* $\\bar{x}$ is the sample average\n",
    "\n",
    "Note that the `scale` parameter in `numpy.random.exponential` is $\\beta$, which is the inverse of the rate parameter $\\lambda=\\frac{1}{\\beta}$. In other words, $\\beta=\\frac{1}{\\lambda}$ and we set this to $1,000$ above."
   ]
  },
  {
   "cell_type": "code",
   "execution_count": 109,
   "id": "83a10a62",
   "metadata": {},
   "outputs": [
    {
     "name": "stdout",
     "output_type": "stream",
     "text": [
      "95% Confidence Interval (Exponential Distribution): (989.3998, 1028.9548)\n"
     ]
    }
   ],
   "source": [
    "from scipy.stats import chi2\n",
    "\n",
    "v = 2 * n # Degrees of freedom\n",
    "p_lower = 1 - 0.05 / 2\n",
    "p_upper = 0.05 / 2\n",
    "chi_2_percentile_lower = chi2.ppf(q=p_lower, df=v)\n",
    "chi_2_percentile_upper = chi2.ppf(q=p_upper, df=v)\n",
    "\n",
    "lower_ci_expon = (2 * n * np.mean(boots_means)) / chi_2_percentile_lower\n",
    "upper_ci_expon = (2 * n * np.mean(boots_means)) / chi_2_percentile_upper\n",
    "\n",
    "print(f'95% Confidence Interval (Exponential Distribution): ({round(lower_ci_expon, 4)}, {round(upper_ci_expon, 4)})')"
   ]
  },
  {
   "cell_type": "code",
   "execution_count": 118,
   "id": "a1efcebb",
   "metadata": {},
   "outputs": [
    {
     "data": {
      "image/png": "[encoded data removed]",
      "text/plain": [
       "<Figure size 1080x864 with 1 Axes>"
      ]
     },
     "metadata": {
      "needs_background": "light"
     },
     "output_type": "display_data"
    }
   ],
   "source": [
    "# Plot the histogram and the kernel density estimate\n",
    "fig, ax = plt.subplots(figsize=(15, 12))\n",
    "sns.histplot(x, kde=True, ax=ax)\n",
    "# Add the mean of the original distribution\n",
    "ax.axvline(x.mean(), color='black', linestyle='--')\n",
    "# Add the text label for the mean of the original distribution\n",
    "ax.text(x.mean() + 30, 700, f'Mean of Original Distribution: {round(x.mean(), 4)}', color='black', fontsize=12)\n",
    "# Add the confidence interval for sample rate parameter\n",
    "ax.axvline(lower_ci_expon, color='red', linestyle='--')\n",
    "ax.axvline(upper_ci_expon, color='red', linestyle='--')\n",
    "# Add the text label for the confidence interval for sample rate parameter\n",
    "ax.text(lower_ci_expon + 50, 500, f'95% Confidence Interval: ({round(lower_ci_expon, 4)}, {round(upper_ci_expon, 4)})', color='red', fontsize=12)\n",
    "# Set the x-axis limits to zoom in on the confidence interval\n",
    "ax.set_xlim([lower_ci_expon - 400, upper_ci_expon + 400])\n",
    "plt.title('Histogram and Kernel Density Estimate of Simulated Exponential Distribution (Zoomed in on Confidence Interval)')\n",
    "plt.show();"
   ]
  },
  {
   "attachments": {},
   "cell_type": "markdown",
   "id": "75abbf02",
   "metadata": {},
   "source": [
    "Finally, we can use clever `numpy` indexing to generate bootstrapped samples elegantly:"
   ]
  },
  {
   "cell_type": "code",
   "execution_count": 158,
   "id": "c90412bf",
   "metadata": {},
   "outputs": [
    {
     "data": {
      "text/plain": [
       "array([[8250, 3343, 3441, ..., 1110,  134, 3394],\n",
       "       [ 192, 2707,  123, ..., 6799, 3099, 9081],\n",
       "       [7571, 1615, 6344, ..., 1651, 4234,  402],\n",
       "       ...,\n",
       "       [9422, 8769, 6658, ..., 8602, 4733,  912],\n",
       "       [ 743, 1040, 1859, ..., 3417, 9367, 5843],\n",
       "       [4276, 6570, 2529, ..., 8969, 6737, 8159]])"
      ]
     },
     "execution_count": 158,
     "metadata": {},
     "output_type": "execute_result"
    },
    {
     "data": {
      "text/plain": [
       "(10000, 5000)"
      ]
     },
     "execution_count": 158,
     "metadata": {},
     "output_type": "execute_result"
    }
   ],
   "source": [
    "# Number of times we will bootstrap\n",
    "num_bootstraps_samples = 10000\n",
    "# Number of observations in each bootstrap sample\n",
    "num_observations_per_sample = 5000\n",
    "\n",
    "# Indices matrix\n",
    "# Low is inclusive, high is exclusive (Python is 0-indexed)\n",
    "boots_indices_mat = np.random.randint(low=0, high=len(x), size=(num_bootstraps_samples, num_observations_per_sample)) \n",
    "boots_indices_mat \n",
    "\n",
    "boots_indices_mat.shape"
   ]
  },
  {
   "attachments": {},
   "cell_type": "markdown",
   "id": "363f8c8a",
   "metadata": {},
   "source": [
    "The matrix above has `num_bootstraps_samples` $=10,000$ rows and `num_observations_per_sample` $=5,000$ columns. We can think of each row as one particular bootstrapped sample containing $5,000$ elements (indices). This we, we can avoid using an explicit `for` loop to generate the $10, 000$ bootstrapped samples of $5,000$ each. All we have to do now is use the matrix of indices to subset the original `x` array:"
   ]
  },
  {
   "cell_type": "code",
   "execution_count": 160,
   "id": "0beb8135",
   "metadata": {},
   "outputs": [
    {
     "data": {
      "text/plain": [
       "array([[ 171.89644151,   79.48794726, 2589.10253077, ...,  922.99975588,   92.6797838 , 1442.43279515],\n",
       "       [ 256.96097296, 1301.37199458,  291.72309703, ..., 1446.01048393,  344.07093514, 2072.25901693],\n",
       "       [ 288.18694585,   85.57641469, 1285.17492847, ...,  365.8353512 ,  449.72291903,  508.54586362],\n",
       "       ...,\n",
       "       [1649.17685928,  715.23497324, 1914.15929347, ..., 2812.61213648,    5.7835835 , 1003.83574672],\n",
       "       [  32.60553988,   97.6215548 ,  441.82425914, ..., 1849.86531259, 1684.21751235,  699.10617188],\n",
       "       [5564.10569933,  574.66507887, 1438.21350261, ...,  610.04840761,  147.95664632,  985.36484589]])"
      ]
     },
     "execution_count": 160,
     "metadata": {},
     "output_type": "execute_result"
    }
   ],
   "source": [
    "bootstrapped_matrix = x[boots_indices_mat]\n",
    "bootstrapped_matrix"
   ]
  },
  {
   "attachments": {},
   "cell_type": "markdown",
   "id": "5bb3109d",
   "metadata": {},
   "source": [
    "Each row of the matrix above is a bootstrapped sample of the original `x` array. To compute the sample means of each bootstrapped sample, we take the mean along the second `axis=1` across the columns."
   ]
  },
  {
   "cell_type": "code",
   "execution_count": 162,
   "id": "766d36e0",
   "metadata": {},
   "outputs": [
    {
     "data": {
      "text/plain": [
       "array([1011.62295647, 1000.43110065,  992.61135644, ..., 1017.50024291, 1008.29463859, 1027.46384684])"
      ]
     },
     "execution_count": 162,
     "metadata": {},
     "output_type": "execute_result"
    },
    {
     "data": {
      "text/plain": [
       "(10000,)"
      ]
     },
     "execution_count": 162,
     "metadata": {},
     "output_type": "execute_result"
    }
   ],
   "source": [
    "boots_means_second_way = bootstrapped_matrix.mean(axis=1)\n",
    "boots_means_second_way\n",
    "boots_means_second_way.shape"
   ]
  },
  {
   "attachments": {},
   "cell_type": "markdown",
   "id": "5c27e576",
   "metadata": {},
   "source": [
    "we now have a $10, 000$ bootstrapped sample means, from which we can approximate the sampling distribution of the original sample mean and construct the confidence interval:"
   ]
  },
  {
   "cell_type": "code",
   "execution_count": 163,
   "id": "083ef903",
   "metadata": {},
   "outputs": [
    {
     "name": "stdout",
     "output_type": "stream",
     "text": [
      "95% Confidence Interval (clever indexing method): (980.8796, 1036.613)\n"
     ]
    }
   ],
   "source": [
    "boots_confint = np.percentile(boots_means_second_way, [2.5, 97.5])\n",
    "\n",
    "print(f'95% Confidence Interval (clever indexing method): ({round(boots_confint[0], 4)}, {round(boots_confint[1], 4)})')"
   ]
  },
  {
   "attachments": {},
   "cell_type": "markdown",
   "id": "0fc28f46",
   "metadata": {},
   "source": [
    "This is different from our earlier results since we use the t-distribution and the formula for the margin of error:\n",
    "\n",
    "$$C I=\\bar{x} \\pm t_{1 - \\frac{\\alpha}{2}} \\frac{s}{\\sqrt{n}}$$\n",
    "\n",
    "In contrast, the above approach finds the $2.5^{th}$ and $97.5^{th}$ percentile values."
   ]
  }
 ],
 "metadata": {
  "kernelspec": {
   "display_name": "Python 3.9.6 ('python_for_machine_learning')",
   "language": "python",
   "name": "python3"
  },
  "language_info": {
   "codemirror_mode": {
    "name": "ipython",
    "version": 3
   },
   "file_extension": ".py",
   "mimetype": "text/x-python",
   "name": "python",
   "nbconvert_exporter": "python",
   "pygments_lexer": "ipython3",
   "version": "3.9.12"
  },
  "vscode": {
   "interpreter": {
    "hash": "40fc6ebffc74793621f684cf09d9f3d0a501c91440a6f462aebac8d38ed47133"
   }
  }
 },
 "nbformat": 4,
 "nbformat_minor": 5
}
