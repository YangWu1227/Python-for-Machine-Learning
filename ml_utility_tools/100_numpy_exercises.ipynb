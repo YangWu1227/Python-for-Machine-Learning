{
 "cells": [
  {
   "cell_type": "markdown",
   "id": "f44a2f2b",
   "metadata": {},
   "source": [
    "# 100 numpy exercises\n",
    "\n",
    "This is a collection of exercises that have been collected in the numpy mailing list, on stack overflow\n",
    "and in the numpy documentation. The goal of this collection is to offer a quick reference for both old\n",
    "and new users but also to provide a set of exercises for those who teach.\n",
    "\n",
    "\n",
    "If you find an error or think you've a better way to solve some of them, feel\n",
    "free to open an issue at <https://github.com/rougier/numpy-100>.\n",
    "\n",
    "## Table of Contents\n",
    "\n",
    "### One star\n",
    "\n",
    "* [3. Create a null vector of size 10 (★☆☆)](#3-create-a-null-vector-of-size-10-★☆☆)\n",
    "* [4. How to find the memory size of any array (★☆☆)](#4-how-to-find-the-memory-size-of-any-array-★☆☆)\n",
    "* [5. How to get the documentation of the numpy add function from the command line? (★☆☆)](#5-how-to-get-the-documentation-of-the-numpy-add-function-from-the-command-line-★☆☆)\n",
    "* [6. Create a null vector of size 10 but the fifth value which is 1 (★☆☆)](#6-create-a-null-vector-of-size-10-but-the-fifth-value-which-is-1-★☆☆)\n",
    "* [7. Create a vector with values ranging from 10 to 49 (★☆☆)](#7-create-a-vector-with-values-ranging-from-10-to-49-★☆☆)\n",
    "* [8. Reverse a vector (first element becomes last) (★☆☆)](#8-reverse-a-vector-first-element-becomes-last-★☆☆)\n",
    "* [9. Create a 3x3 matrix with values ranging from 0 to 8 (★☆☆)](#9-create-a-3x3-matrix-with-values-ranging-from-0-to-8-★☆☆)\n",
    "* [10. Find indices of non-zero elements from arrays (★☆☆)](#10-find-indices-of-non-zero-elements-from-arrays-★☆☆)\n",
    "* [11. Create a 3x3 identity matrix (★☆☆)](#11-create-a-3x3-identity-matrix-★☆☆)\n",
    "* [12. Create a 3x3x3 array with random values (★☆☆)](#12-create-a-3x3x3-array-with-random-values-★☆☆)\n",
    "* [13. Create a 10x10 array with random values and find the minimum and maximum values (★☆☆)](#13-create-a-10x10-array-with-random-values-and-find-the-minimum-and-maximum-values-★☆☆)\n",
    "* [14. Create a random vector of size 30 and find the mean value (★☆☆)](#14-create-a-random-vector-of-size-30-and-find-the-mean-value-★☆☆)\n",
    "* [15. Create a 2d array with 1 on the border and 0 inside (★☆☆)](#15-create-a-2d-array-with-1-on-the-border-and-0-inside-★☆☆) \n",
    "* [16. Padding with `np.pad` (★☆☆)](#16-padding-with-nppad-★☆☆)\n",
    "* [17. What is the result of the following expression? (★☆☆)](#17-what-is-the-result-of-the-following-expression-★☆☆)\n",
    "* [18. Create a 5x5 matrix with values 1,2,3,4 just below the diagonal (★☆☆)](#18-create-a-5x5-matrix-with-values-1234-just-below-the-diagonal-★☆☆)\n",
    "* [19. Create a 8x8 matrix and fill it with a checkerboard pattern (★☆☆)](#19-create-a-8x8-matrix-and-fill-it-with-a-checkerboard-pattern-★☆☆)\n",
    "* [20. Consider a (6,7,8) shape array, what is the index (x,y,z) of the 100th element? (★☆☆)](#20-consider-a-678-shape-array-what-is-the-index-xyz-of-the-100th-element-★☆☆)"
   ]
  },
  {
   "cell_type": "markdown",
   "id": "0fe3d529",
   "metadata": {},
   "source": [
    "File automatically generated. See the documentation to update questions/answers/hints programmatically."
   ]
  },
  {
   "cell_type": "code",
   "execution_count": 61,
   "id": "759c6d0d",
   "metadata": {},
   "outputs": [],
   "source": [
    "from IPython.core.interactiveshell import InteractiveShell\n",
    "InteractiveShell.ast_node_interactivity = \"all\""
   ]
  },
  {
   "cell_type": "markdown",
   "id": "96443564",
   "metadata": {},
   "source": [
    "#### 1. Import the numpy package under the name `np` (★☆☆)"
   ]
  },
  {
   "cell_type": "code",
   "execution_count": 1,
   "id": "ffe1047e",
   "metadata": {},
   "outputs": [],
   "source": [
    "import numpy as np"
   ]
  },
  {
   "cell_type": "markdown",
   "id": "c807bf1d",
   "metadata": {},
   "source": [
    "#### 2. Print the numpy version and the configuration (★☆☆)"
   ]
  },
  {
   "cell_type": "code",
   "execution_count": 4,
   "id": "f396b717",
   "metadata": {},
   "outputs": [
    {
     "data": {
      "text/plain": [
       "'1.20.2'"
      ]
     },
     "execution_count": 4,
     "metadata": {},
     "output_type": "execute_result"
    }
   ],
   "source": [
    "# Version\n",
    "np.__version__"
   ]
  },
  {
   "cell_type": "code",
   "execution_count": 12,
   "id": "e3d543d4",
   "metadata": {},
   "outputs": [
    {
     "name": "stdout",
     "output_type": "stream",
     "text": [
      "blas_mkl_info:\n",
      "  NOT AVAILABLE\n",
      "blis_info:\n",
      "  NOT AVAILABLE\n",
      "openblas_info:\n",
      "    libraries = ['openblas', 'openblas']\n",
      "    library_dirs = ['/usr/local/lib']\n",
      "    language = c\n",
      "    define_macros = [('HAVE_CBLAS', None)]\n",
      "blas_opt_info:\n",
      "    libraries = ['openblas', 'openblas']\n",
      "    library_dirs = ['/usr/local/lib']\n",
      "    language = c\n",
      "    define_macros = [('HAVE_CBLAS', None)]\n",
      "lapack_mkl_info:\n",
      "  NOT AVAILABLE\n",
      "openblas_lapack_info:\n",
      "    libraries = ['openblas', 'openblas']\n",
      "    library_dirs = ['/usr/local/lib']\n",
      "    language = c\n",
      "    define_macros = [('HAVE_CBLAS', None)]\n",
      "lapack_opt_info:\n",
      "    libraries = ['openblas', 'openblas']\n",
      "    library_dirs = ['/usr/local/lib']\n",
      "    language = c\n",
      "    define_macros = [('HAVE_CBLAS', None)]\n"
     ]
    }
   ],
   "source": [
    "# Or np.show_config()\n",
    "np.__config__.show()"
   ]
  },
  {
   "cell_type": "markdown",
   "id": "572c1bdb",
   "metadata": {},
   "source": [
    "#### 3. Create a null vector of size 10 (★☆☆)"
   ]
  },
  {
   "cell_type": "code",
   "execution_count": 18,
   "id": "31c9f6a5",
   "metadata": {},
   "outputs": [
    {
     "data": {
      "text/plain": [
       "array([0., 0., 0., 0., 0., 0., 0., 0., 0., 0.])"
      ]
     },
     "execution_count": 18,
     "metadata": {},
     "output_type": "execute_result"
    }
   ],
   "source": [
    "# Uninitialized\n",
    "np.empty(shape=10)"
   ]
  },
  {
   "cell_type": "code",
   "execution_count": 22,
   "id": "a5c65cd4",
   "metadata": {},
   "outputs": [
    {
     "data": {
      "text/plain": [
       "array([0., 0., 0., 0., 0., 0., 0., 0., 0., 0.])"
      ]
     },
     "execution_count": 22,
     "metadata": {},
     "output_type": "execute_result"
    }
   ],
   "source": [
    "# Initialized with zeros\n",
    "np.zeros(shape=10)"
   ]
  },
  {
   "cell_type": "markdown",
   "id": "337e6e36",
   "metadata": {},
   "source": [
    "#### 4. How to find the memory size of any array (★☆☆)"
   ]
  },
  {
   "cell_type": "code",
   "execution_count": 25,
   "id": "31e8ec2e",
   "metadata": {},
   "outputs": [
    {
     "data": {
      "text/plain": [
       "40"
      ]
     },
     "execution_count": 25,
     "metadata": {},
     "output_type": "execute_result"
    }
   ],
   "source": [
    "# Number of elements in the array\n",
    "np.zeros(shape=(10, 4)).size"
   ]
  },
  {
   "cell_type": "code",
   "execution_count": 27,
   "id": "ba2f6985",
   "metadata": {},
   "outputs": [
    {
     "data": {
      "text/plain": [
       "8"
      ]
     },
     "execution_count": 27,
     "metadata": {},
     "output_type": "execute_result"
    }
   ],
   "source": [
    "# Length of one array element in bytes\n",
    "np.zeros(shape=(10, 4)).itemsize"
   ]
  },
  {
   "cell_type": "code",
   "execution_count": 45,
   "id": "ed26ed2c",
   "metadata": {},
   "outputs": [
    {
     "data": {
      "text/plain": [
       "320"
      ]
     },
     "execution_count": 45,
     "metadata": {},
     "output_type": "execute_result"
    }
   ],
   "source": [
    "# Total bytes consumed by the elements of the array\n",
    "np.zeros(shape=(10, 4)).nbytes"
   ]
  },
  {
   "cell_type": "markdown",
   "id": "166079c8",
   "metadata": {},
   "source": [
    "#### 5. How to get the documentation of the numpy add function from the command line? (★☆☆)"
   ]
  },
  {
   "cell_type": "code",
   "execution_count": null,
   "id": "593cd80f",
   "metadata": {},
   "outputs": [],
   "source": [
    "np.info(object=np.add)"
   ]
  },
  {
   "cell_type": "markdown",
   "id": "3add7101",
   "metadata": {},
   "source": [
    "#### 6. Create a null vector of size 10 but the fifth value which is 1 (★☆☆)"
   ]
  },
  {
   "cell_type": "code",
   "execution_count": 40,
   "id": "2edf3c42",
   "metadata": {},
   "outputs": [
    {
     "data": {
      "text/plain": [
       "array([4487126258331716666, 4487126258331716666, 4487126258331716666,\n",
       "       4487126258331716666,                   1, 4487126258331716666,\n",
       "       4487126258331716666, 4487126258331716666, 4487126258331716666,\n",
       "       4487126258331716666])"
      ]
     },
     "execution_count": 40,
     "metadata": {},
     "output_type": "execute_result"
    }
   ],
   "source": [
    "vec = np.empty(shape=10, dtype=int)\n",
    "vec[4] = 1\n",
    "vec"
   ]
  },
  {
   "cell_type": "code",
   "execution_count": 41,
   "id": "bbcca9b3",
   "metadata": {},
   "outputs": [
    {
     "data": {
      "text/plain": [
       "array([0, 0, 0, 0, 1, 0, 0, 0, 0, 0])"
      ]
     },
     "execution_count": 41,
     "metadata": {},
     "output_type": "execute_result"
    }
   ],
   "source": [
    "vec = np.zeros(shape=10, dtype=int)\n",
    "vec[4] = 1\n",
    "vec"
   ]
  },
  {
   "cell_type": "markdown",
   "id": "cfc46304",
   "metadata": {},
   "source": [
    "#### 7. Create a vector with values ranging from 10 to 49 (★☆☆)"
   ]
  },
  {
   "cell_type": "code",
   "execution_count": 47,
   "id": "d8b86640",
   "metadata": {},
   "outputs": [
    {
     "data": {
      "text/plain": [
       "array([10., 11., 12., 13., 14., 15., 16., 17., 18., 19., 20., 21., 22.,\n",
       "       23., 24., 25., 26., 27., 28., 29., 30., 31., 32., 33., 34., 35.,\n",
       "       36., 37., 38., 39., 40., 41., 42., 43., 44., 45., 46., 47., 48.,\n",
       "       49.], dtype=float16)"
      ]
     },
     "execution_count": 47,
     "metadata": {},
     "output_type": "execute_result"
    }
   ],
   "source": [
    "# Stop interval not included\n",
    "np.arange(start=10, stop=50, step=1, dtype=np.float16, like=None)"
   ]
  },
  {
   "cell_type": "markdown",
   "id": "0cc200be",
   "metadata": {},
   "source": [
    "#### 8. Reverse a vector (first element becomes last) (★☆☆)"
   ]
  },
  {
   "cell_type": "code",
   "execution_count": 54,
   "id": "ec044bb5",
   "metadata": {},
   "outputs": [
    {
     "data": {
      "text/plain": [
       "array([45, 40, 35, 30, 25, 20, 15, 10])"
      ]
     },
     "execution_count": 54,
     "metadata": {},
     "output_type": "execute_result"
    }
   ],
   "source": [
    "# One dimensional\n",
    "np.flip(m=np.arange(start=10, stop=50, step=5), axis=0)"
   ]
  },
  {
   "cell_type": "code",
   "execution_count": 65,
   "id": "70d7d11e",
   "metadata": {},
   "outputs": [
    {
     "data": {
      "text/plain": [
       "array([[10, 15],\n",
       "       [20, 25],\n",
       "       [30, 35],\n",
       "       [40, 45]])"
      ]
     },
     "execution_count": 65,
     "metadata": {},
     "output_type": "execute_result"
    }
   ],
   "source": [
    "# Two dimensional\n",
    "np.arange(start=10, stop=50, step=5).reshape((4, 2))"
   ]
  },
  {
   "cell_type": "code",
   "execution_count": 66,
   "id": "baaf41b5",
   "metadata": {},
   "outputs": [
    {
     "data": {
      "text/plain": [
       "array([[40, 45],\n",
       "       [30, 35],\n",
       "       [20, 25],\n",
       "       [10, 15]])"
      ]
     },
     "execution_count": 66,
     "metadata": {},
     "output_type": "execute_result"
    }
   ],
   "source": [
    "# Flip just the rows\n",
    "np.flip(\n",
    "    m=np.arange(start=10, stop=50, step=5).reshape((4, 2)), \n",
    "    axis=0\n",
    ")"
   ]
  },
  {
   "cell_type": "code",
   "execution_count": 67,
   "id": "426a2c38",
   "metadata": {},
   "outputs": [
    {
     "data": {
      "text/plain": [
       "array([[15, 10],\n",
       "       [25, 20],\n",
       "       [35, 30],\n",
       "       [45, 40]])"
      ]
     },
     "execution_count": 67,
     "metadata": {},
     "output_type": "execute_result"
    }
   ],
   "source": [
    "# Flip just the columns\n",
    "np.flip(\n",
    "    m=np.arange(start=10, stop=50, step=5).reshape((4, 2)), \n",
    "    axis=1\n",
    ")"
   ]
  },
  {
   "cell_type": "code",
   "execution_count": 72,
   "id": "4fda95c5",
   "metadata": {},
   "outputs": [
    {
     "data": {
      "text/plain": [
       "array([[45, 40],\n",
       "       [35, 30],\n",
       "       [25, 20],\n",
       "       [15, 10]])"
      ]
     },
     "execution_count": 72,
     "metadata": {},
     "output_type": "execute_result"
    }
   ],
   "source": [
    "# Flip both axes\n",
    "np.flip(\n",
    "    m=np.arange(start=10, stop=50, step=5).reshape((4, 2)), \n",
    "    # Using None also flips all axes\n",
    "    axis=(0, 1)\n",
    ")"
   ]
  },
  {
   "cell_type": "markdown",
   "id": "29d9ede4",
   "metadata": {},
   "source": [
    "#### 9. Create a 3x3 matrix with values ranging from 0 to 8 (★☆☆)"
   ]
  },
  {
   "cell_type": "code",
   "execution_count": 76,
   "id": "d9e39043",
   "metadata": {},
   "outputs": [
    {
     "data": {
      "text/plain": [
       "array([[0, 1, 2],\n",
       "       [3, 4, 5],\n",
       "       [6, 7, 8]])"
      ]
     },
     "execution_count": 76,
     "metadata": {},
     "output_type": "execute_result"
    }
   ],
   "source": [
    "np.arange(start=0, stop=9, step=1).reshape((3, 3))"
   ]
  },
  {
   "cell_type": "markdown",
   "id": "88905ceb",
   "metadata": {},
   "source": [
    "#### 10. Find indices of non-zero elements from arrays (★☆☆)"
   ]
  },
  {
   "cell_type": "code",
   "execution_count": 78,
   "id": "b2f3c90a",
   "metadata": {},
   "outputs": [
    {
     "data": {
      "text/plain": [
       "(array([0, 1, 4]),)"
      ]
     },
     "execution_count": 78,
     "metadata": {},
     "output_type": "execute_result"
    }
   ],
   "source": [
    "# One dimensional\n",
    "np.nonzero(a=[1, 2, 0, 0, 4, 0])"
   ]
  },
  {
   "cell_type": "code",
   "execution_count": 164,
   "id": "2a9e70e0",
   "metadata": {},
   "outputs": [
    {
     "data": {
      "text/plain": [
       "array([[1, 2, 0],\n",
       "       [0, 0, 4],\n",
       "       [0, 0, 0]])"
      ]
     },
     "execution_count": 164,
     "metadata": {},
     "output_type": "execute_result"
    },
    {
     "data": {
      "text/plain": [
       "(array([0, 0, 1]), array([0, 1, 2]))"
      ]
     },
     "execution_count": 164,
     "metadata": {},
     "output_type": "execute_result"
    }
   ],
   "source": [
    "# Two dimensional\n",
    "array = np.array([[1, 2, 0], [0, 0, 4], [0, 0, 0]])\n",
    "array\n",
    "# Equivalent to vec.nonzero()\n",
    "np.nonzero(a=[[1, 2, 0], [0, 0, 4], [0, 0, 0]])"
   ]
  },
  {
   "cell_type": "markdown",
   "id": "fa47f8ff",
   "metadata": {},
   "source": [
    "In this example above, a tuple of two arrays was returned-- one for each dimension. The first array represents the row indices where non-zero values are found, and the second array represents the column indices where non-zero values are found. For 2d-arrays, each element of the first array represents the $i$th entry and each element of the second array represents the $j$th entry of non-zero elements. To see this:"
   ]
  },
  {
   "cell_type": "code",
   "execution_count": 165,
   "id": "7076c279",
   "metadata": {},
   "outputs": [
    {
     "data": {
      "text/plain": [
       "(0, 0)"
      ]
     },
     "execution_count": 165,
     "metadata": {},
     "output_type": "execute_result"
    },
    {
     "data": {
      "text/plain": [
       "(0, 1)"
      ]
     },
     "execution_count": 165,
     "metadata": {},
     "output_type": "execute_result"
    },
    {
     "data": {
      "text/plain": [
       "(1, 2)"
      ]
     },
     "execution_count": 165,
     "metadata": {},
     "output_type": "execute_result"
    }
   ],
   "source": [
    "# Return the i, j indices of the nonzero elements of 'vec'\n",
    "for entry in list(zip(array.nonzero()[0], array.nonzero()[1])):\n",
    "    entry"
   ]
  },
  {
   "cell_type": "markdown",
   "id": "493b2175",
   "metadata": {},
   "source": [
    "We can also print the non-zero elements using:"
   ]
  },
  {
   "cell_type": "code",
   "execution_count": 166,
   "id": "94b87475",
   "metadata": {},
   "outputs": [
    {
     "data": {
      "text/plain": [
       "array([1, 2, 4])"
      ]
     },
     "execution_count": 166,
     "metadata": {},
     "output_type": "execute_result"
    }
   ],
   "source": [
    "array[array.nonzero()]"
   ]
  },
  {
   "cell_type": "markdown",
   "id": "44e72992",
   "metadata": {},
   "source": [
    "A common use case is is to find the indices of an array, where a condition is True."
   ]
  },
  {
   "cell_type": "code",
   "execution_count": 167,
   "id": "d81ea4d8",
   "metadata": {},
   "outputs": [
    {
     "data": {
      "text/plain": [
       "array([[False,  True, False],\n",
       "       [False, False,  True],\n",
       "       [False, False, False]])"
      ]
     },
     "execution_count": 167,
     "metadata": {},
     "output_type": "execute_result"
    },
    {
     "data": {
      "text/plain": [
       "array([2, 4])"
      ]
     },
     "execution_count": 167,
     "metadata": {},
     "output_type": "execute_result"
    }
   ],
   "source": [
    "# Boolean array\n",
    "array >= 2\n",
    "# Find the True elements of 'vec'\n",
    "array[np.nonzero(array >= 2)]"
   ]
  },
  {
   "cell_type": "markdown",
   "id": "49603e91",
   "metadata": {},
   "source": [
    "#### 11. Create a 3x3 identity matrix (★☆☆)"
   ]
  },
  {
   "cell_type": "code",
   "execution_count": 119,
   "id": "5b607b5c",
   "metadata": {},
   "outputs": [
    {
     "data": {
      "text/plain": [
       "array([[1., 0., 0.],\n",
       "       [0., 1., 0.],\n",
       "       [0., 0., 1.]])"
      ]
     },
     "execution_count": 119,
     "metadata": {},
     "output_type": "execute_result"
    }
   ],
   "source": [
    "np.eye(3)"
   ]
  },
  {
   "cell_type": "markdown",
   "id": "e15c249a",
   "metadata": {},
   "source": [
    "#### 12. Create a 3x3x3 array with random values (★☆☆)"
   ]
  },
  {
   "cell_type": "code",
   "execution_count": 132,
   "id": "ab21ed50",
   "metadata": {},
   "outputs": [
    {
     "data": {
      "text/plain": [
       "array([[[0.6597, 0.544 , 0.2607],\n",
       "        [0.717 , 0.5396, 0.0654],\n",
       "        [0.614 , 0.373 , 0.9556]],\n",
       "\n",
       "       [[0.98  , 0.1953, 0.0324],\n",
       "        [0.684 , 0.3435, 0.5176],\n",
       "        [0.4685, 0.847 , 0.7334]],\n",
       "\n",
       "       [[0.8213, 0.5483, 0.499 ],\n",
       "        [0.537 , 0.3137, 0.3203],\n",
       "        [0.1566, 0.815 , 0.3704]]], dtype=float16)"
      ]
     },
     "execution_count": 132,
     "metadata": {},
     "output_type": "execute_result"
    }
   ],
   "source": [
    "# Or np.random.random(size=27).reshape((3, 3, 3))\n",
    "np.random.random(size=(3, 3, 3)).astype(np.float16)"
   ]
  },
  {
   "cell_type": "code",
   "execution_count": 138,
   "id": "834cd858",
   "metadata": {},
   "outputs": [
    {
     "data": {
      "text/plain": [
       "array([[[15, 18, 17],\n",
       "        [14, 15, 10],\n",
       "        [19, 17, 15]],\n",
       "\n",
       "       [[15, 15, 10],\n",
       "        [12, 15, 15],\n",
       "        [10, 15, 19]],\n",
       "\n",
       "       [[18, 17, 10],\n",
       "        [18, 15, 12],\n",
       "        [14, 11, 11]]])"
      ]
     },
     "execution_count": 138,
     "metadata": {},
     "output_type": "execute_result"
    }
   ],
   "source": [
    "# Integer array\n",
    "# Deprecated version: np.random.random_integers(low=10, high=20, size=(3, 3, 3))\n",
    "np.random.randint(low=10, high=20, size=(3, 3, 3))"
   ]
  },
  {
   "cell_type": "markdown",
   "id": "157a129c",
   "metadata": {},
   "source": [
    "#### 13. Create a 10x10 array with random values and find the minimum and maximum values (★☆☆) "
   ]
  },
  {
   "cell_type": "code",
   "execution_count": 140,
   "id": "c0066de5",
   "metadata": {},
   "outputs": [
    {
     "data": {
      "text/plain": [
       "array([[106, 388, 296, 188, 173, 419, 415, 403, 184, 234],\n",
       "       [440, 442, 483, 424, 361, 185, 498, 433, 255, 160],\n",
       "       [372, 448, 381, 261, 206, 123, 257, 354, 487, 246],\n",
       "       [390, 488, 149, 298, 413, 414, 272, 363, 182, 289],\n",
       "       [120, 157, 179, 230, 116, 405, 340, 320, 226, 388],\n",
       "       [352, 262, 471, 308, 358, 451, 409, 119, 181, 181],\n",
       "       [454, 183, 492, 400, 175, 331, 371, 457, 431, 265],\n",
       "       [200, 133, 337, 193, 365, 294, 167, 254, 434, 445],\n",
       "       [143, 211, 269, 188, 416, 400, 326, 359, 262, 293],\n",
       "       [445, 121, 101, 166, 486, 247, 365, 178, 112, 187]])"
      ]
     },
     "execution_count": 140,
     "metadata": {},
     "output_type": "execute_result"
    }
   ],
   "source": [
    "# Array\n",
    "array = np.random.randint(low=100, high=500, size=(10, 10))\n",
    "array"
   ]
  },
  {
   "cell_type": "code",
   "execution_count": 147,
   "id": "dd85f443",
   "metadata": {},
   "outputs": [
    {
     "data": {
      "text/plain": [
       "(498, 101)"
      ]
     },
     "execution_count": 147,
     "metadata": {},
     "output_type": "execute_result"
    }
   ],
   "source": [
    "# Min and max of both axes\n",
    "array.max(axis=None), array.min(axis=None)"
   ]
  },
  {
   "cell_type": "code",
   "execution_count": 151,
   "id": "45888848",
   "metadata": {},
   "outputs": [
    {
     "name": "stdout",
     "output_type": "stream",
     "text": [
      "The max values of each column are [454 488 492 424 486 451 498 457 487 445]\n",
      "The max values of each column are [106 121 101 166 116 123 167 119 112 160]\n"
     ]
    }
   ],
   "source": [
    "# Min and max arrays each column\n",
    "# Axis = 0 means operate or compare values vertically down the 'rows' and returning values across the columns\n",
    "print(f'The max values of each column are {array.max(axis=0)}')\n",
    "print(f'The max values of each column are {array.min(axis=0)}')"
   ]
  },
  {
   "cell_type": "code",
   "execution_count": 152,
   "id": "1b85425e",
   "metadata": {},
   "outputs": [
    {
     "name": "stdout",
     "output_type": "stream",
     "text": [
      "The max values of each row are [419 498 487 488 405 471 492 445 416 486]\n",
      "The max values of each row are [106 160 123 149 116 119 175 133 143 101]\n"
     ]
    }
   ],
   "source": [
    "# Min and max arrays each row\n",
    "# Axis = 1 means operate or compare values horizontally across the 'columns' and returning values down the rows\n",
    "print(f'The max values of each row are {array.max(axis=1)}')\n",
    "print(f'The max values of each row are {array.min(axis=1)}')"
   ]
  },
  {
   "cell_type": "markdown",
   "id": "d92d7b32",
   "metadata": {},
   "source": [
    "#### 14. Create a random vector of size 30 and find the mean value (★☆☆) "
   ]
  },
  {
   "cell_type": "code",
   "execution_count": 159,
   "id": "9672d023",
   "metadata": {},
   "outputs": [
    {
     "data": {
      "text/plain": [
       "0.4127502599200638"
      ]
     },
     "execution_count": 159,
     "metadata": {},
     "output_type": "execute_result"
    }
   ],
   "source": [
    "# One dimensional\n",
    "np.random.random(size=30).mean(axis=None)"
   ]
  },
  {
   "cell_type": "code",
   "execution_count": 168,
   "id": "d0b02946",
   "metadata": {},
   "outputs": [
    {
     "data": {
      "text/plain": [
       "array([[3, 2, 1],\n",
       "       [2, 4, 4],\n",
       "       [4, 3, 3]])"
      ]
     },
     "execution_count": 168,
     "metadata": {},
     "output_type": "execute_result"
    }
   ],
   "source": [
    "# Two dimensional\n",
    "array = np.random.randint(low=1, high=5, size=(3, 3))\n",
    "array"
   ]
  },
  {
   "cell_type": "code",
   "execution_count": 169,
   "id": "6f033ad6",
   "metadata": {},
   "outputs": [
    {
     "data": {
      "text/plain": [
       "array([3.        , 3.        , 2.66666667])"
      ]
     },
     "execution_count": 169,
     "metadata": {},
     "output_type": "execute_result"
    }
   ],
   "source": [
    "# Find mean of values by operating vertically down the 'rows' and returning values across the columns\n",
    "array.mean(axis=0)"
   ]
  },
  {
   "cell_type": "markdown",
   "id": "2c716373",
   "metadata": {},
   "source": [
    "This is the same as:\n",
    "\n",
    "* mean(3, 2, 4) = 3\n",
    "* mean(2, 4, 3) = 3\n",
    "* mean(1, 4, 3) = 2.6667"
   ]
  },
  {
   "cell_type": "code",
   "execution_count": 175,
   "id": "066d0277",
   "metadata": {},
   "outputs": [
    {
     "data": {
      "text/plain": [
       "array([2.        , 3.33333333, 3.33333333])"
      ]
     },
     "execution_count": 175,
     "metadata": {},
     "output_type": "execute_result"
    }
   ],
   "source": [
    "# Find mean of values by operating horizontally across the 'columns' and returning values down the rows\n",
    "array.mean(axis=1)"
   ]
  },
  {
   "cell_type": "markdown",
   "id": "94f8bc22",
   "metadata": {},
   "source": [
    "This is the same as:\n",
    "\n",
    "* mean(3, 2, 1) = 2\n",
    "* mean(2, 4, 4) = 3.3333\n",
    "* mean(4, 3, 3) = 3.3333"
   ]
  },
  {
   "cell_type": "markdown",
   "id": "f361efc0",
   "metadata": {},
   "source": [
    "#### 15. Create a 2d array with 1 on the border and 0 inside (★☆☆)\n",
    "\n",
    "* Inside out: The first way is to initialize a matrix of one's and replace all non-border elements with zeros."
   ]
  },
  {
   "cell_type": "code",
   "execution_count": 202,
   "id": "a55b6666",
   "metadata": {},
   "outputs": [
    {
     "data": {
      "text/plain": [
       "array([[1, 1, 1, 1, 1, 1, 1, 1, 1, 1],\n",
       "       [1, 1, 1, 1, 1, 1, 1, 1, 1, 1],\n",
       "       [1, 1, 1, 1, 1, 1, 1, 1, 1, 1],\n",
       "       [1, 1, 1, 1, 1, 1, 1, 1, 1, 1],\n",
       "       [1, 1, 1, 1, 1, 1, 1, 1, 1, 1],\n",
       "       [1, 1, 1, 1, 1, 1, 1, 1, 1, 1],\n",
       "       [1, 1, 1, 1, 1, 1, 1, 1, 1, 1],\n",
       "       [1, 1, 1, 1, 1, 1, 1, 1, 1, 1],\n",
       "       [1, 1, 1, 1, 1, 1, 1, 1, 1, 1],\n",
       "       [1, 1, 1, 1, 1, 1, 1, 1, 1, 1]], dtype=int16)"
      ]
     },
     "execution_count": 202,
     "metadata": {},
     "output_type": "execute_result"
    }
   ],
   "source": [
    "array = np.ones(shape=(10, 10)).astype(np.int16)\n",
    "array"
   ]
  },
  {
   "cell_type": "code",
   "execution_count": 203,
   "id": "71282821",
   "metadata": {},
   "outputs": [
    {
     "data": {
      "text/plain": [
       "(8, 8)"
      ]
     },
     "execution_count": 203,
     "metadata": {},
     "output_type": "execute_result"
    },
    {
     "data": {
      "text/plain": [
       "array([[1, 1, 1, 1, 1, 1, 1, 1, 1, 1],\n",
       "       [1, 0, 0, 0, 0, 0, 0, 0, 0, 1],\n",
       "       [1, 0, 0, 0, 0, 0, 0, 0, 0, 1],\n",
       "       [1, 0, 0, 0, 0, 0, 0, 0, 0, 1],\n",
       "       [1, 0, 0, 0, 0, 0, 0, 0, 0, 1],\n",
       "       [1, 0, 0, 0, 0, 0, 0, 0, 0, 1],\n",
       "       [1, 0, 0, 0, 0, 0, 0, 0, 0, 1],\n",
       "       [1, 0, 0, 0, 0, 0, 0, 0, 0, 1],\n",
       "       [1, 0, 0, 0, 0, 0, 0, 0, 0, 1],\n",
       "       [1, 1, 1, 1, 1, 1, 1, 1, 1, 1]], dtype=int16)"
      ]
     },
     "execution_count": 203,
     "metadata": {},
     "output_type": "execute_result"
    }
   ],
   "source": [
    "# Slice to get all row expect for first and last row\n",
    "# Slice to get all columns except first and last column\n",
    "array[1:-1, 1:-1].shape\n",
    "# Set to zeros\n",
    "array[1:-1, 1:-1] = 0\n",
    "array"
   ]
  },
  {
   "cell_type": "markdown",
   "id": "4a242c5e",
   "metadata": {},
   "source": [
    "* Outsize in: The second way is to initialize a matrix of all zeros and replace all border elements with ones."
   ]
  },
  {
   "cell_type": "code",
   "execution_count": 204,
   "id": "240d9da9",
   "metadata": {},
   "outputs": [
    {
     "data": {
      "text/plain": [
       "array([[0, 0, 0, 0, 0, 0, 0, 0, 0, 0],\n",
       "       [0, 0, 0, 0, 0, 0, 0, 0, 0, 0],\n",
       "       [0, 0, 0, 0, 0, 0, 0, 0, 0, 0],\n",
       "       [0, 0, 0, 0, 0, 0, 0, 0, 0, 0],\n",
       "       [0, 0, 0, 0, 0, 0, 0, 0, 0, 0],\n",
       "       [0, 0, 0, 0, 0, 0, 0, 0, 0, 0],\n",
       "       [0, 0, 0, 0, 0, 0, 0, 0, 0, 0],\n",
       "       [0, 0, 0, 0, 0, 0, 0, 0, 0, 0],\n",
       "       [0, 0, 0, 0, 0, 0, 0, 0, 0, 0],\n",
       "       [0, 0, 0, 0, 0, 0, 0, 0, 0, 0]], dtype=int16)"
      ]
     },
     "execution_count": 204,
     "metadata": {},
     "output_type": "execute_result"
    }
   ],
   "source": [
    "array = np.zeros(shape=(10, 10)).astype(np.int16)\n",
    "array"
   ]
  },
  {
   "cell_type": "code",
   "execution_count": 210,
   "id": "3fee17ff",
   "metadata": {},
   "outputs": [
    {
     "data": {
      "text/plain": [
       "array([[1, 1, 1, 1, 1, 1, 1, 1, 1, 1],\n",
       "       [1, 0, 0, 0, 0, 0, 0, 0, 0, 1],\n",
       "       [1, 0, 0, 0, 0, 0, 0, 0, 0, 1],\n",
       "       [1, 0, 0, 0, 0, 0, 0, 0, 0, 1],\n",
       "       [1, 0, 0, 0, 0, 0, 0, 0, 0, 1],\n",
       "       [1, 0, 0, 0, 0, 0, 0, 0, 0, 1],\n",
       "       [1, 0, 0, 0, 0, 0, 0, 0, 0, 1],\n",
       "       [1, 0, 0, 0, 0, 0, 0, 0, 0, 1],\n",
       "       [1, 0, 0, 0, 0, 0, 0, 0, 0, 1],\n",
       "       [1, 1, 1, 1, 1, 1, 1, 1, 1, 1]], dtype=int16)"
      ]
     },
     "execution_count": 210,
     "metadata": {},
     "output_type": "execute_result"
    }
   ],
   "source": [
    "# First row\n",
    "array[0:1, :] = 1\n",
    "# Last row\n",
    "array[-1:, :] = 1\n",
    "# First column\n",
    "array[:, 0:1] = 1\n",
    "# Last column\n",
    "array[:, -1:] = 1\n",
    "\n",
    "array"
   ]
  },
  {
   "cell_type": "markdown",
   "id": "b31d3ff6",
   "metadata": {},
   "source": [
    "This second approach requires four assignments compared to the approach above, which requires one."
   ]
  },
  {
   "cell_type": "markdown",
   "id": "475808cb",
   "metadata": {},
   "source": [
    "#### 16. Padding with `np.pad` (★☆☆)\n",
    "\n",
    "##### Adding borders (2D)"
   ]
  },
  {
   "cell_type": "code",
   "execution_count": 217,
   "id": "b2df3a8a",
   "metadata": {},
   "outputs": [
    {
     "data": {
      "text/plain": [
       "array([[0.63245304, 0.19930464, 0.48317083],\n",
       "       [0.95690269, 0.72617942, 0.16068096],\n",
       "       [0.65785965, 0.40883586, 0.72654773],\n",
       "       [0.61081788, 0.92201145, 0.39228982],\n",
       "       [0.69800521, 0.92579796, 0.11870358]])"
      ]
     },
     "execution_count": 217,
     "metadata": {},
     "output_type": "execute_result"
    }
   ],
   "source": [
    "array = np.random.random(size=(5, 3))\n",
    "array"
   ]
  },
  {
   "cell_type": "code",
   "execution_count": 227,
   "id": "a5f82c73",
   "metadata": {},
   "outputs": [
    {
     "data": {
      "text/plain": [
       "array([[0.        , 0.        , 0.        , 0.        , 0.        ],\n",
       "       [0.        , 0.63245304, 0.19930464, 0.48317083, 0.        ],\n",
       "       [0.        , 0.95690269, 0.72617942, 0.16068096, 0.        ],\n",
       "       [0.        , 0.65785965, 0.40883586, 0.72654773, 0.        ],\n",
       "       [0.        , 0.61081788, 0.92201145, 0.39228982, 0.        ],\n",
       "       [0.        , 0.69800521, 0.92579796, 0.11870358, 0.        ],\n",
       "       [0.        , 0.        , 0.        , 0.        , 0.        ]])"
      ]
     },
     "execution_count": 227,
     "metadata": {},
     "output_type": "execute_result"
    }
   ],
   "source": [
    "# Add four borders filled with zeros to the array\n",
    "np.pad(array, pad_width=1, mode='constant', constant_values=0)"
   ]
  },
  {
   "cell_type": "markdown",
   "id": "8812380c",
   "metadata": {},
   "source": [
    "##### Adding borders (3D)\n",
    "\n",
    "For a three dimensional array, `np.pad` can be used to wrap a layer of values to an existing rectangular cube:"
   ]
  },
  {
   "cell_type": "code",
   "execution_count": 229,
   "id": "258486ce",
   "metadata": {},
   "outputs": [
    {
     "data": {
      "text/plain": [
       "array([[[1., 1., 1.],\n",
       "        [1., 1., 1.],\n",
       "        [1., 1., 1.]],\n",
       "\n",
       "       [[1., 1., 1.],\n",
       "        [1., 1., 1.],\n",
       "        [1., 1., 1.]],\n",
       "\n",
       "       [[1., 1., 1.],\n",
       "        [1., 1., 1.],\n",
       "        [1., 1., 1.]]])"
      ]
     },
     "execution_count": 229,
     "metadata": {},
     "output_type": "execute_result"
    }
   ],
   "source": [
    "# Three dimensional cube\n",
    "array = np.ones(shape=(3, 3, 3))\n",
    "array "
   ]
  },
  {
   "cell_type": "code",
   "execution_count": 230,
   "id": "4d7b4650",
   "metadata": {},
   "outputs": [
    {
     "data": {
      "text/plain": [
       "array([[[0., 0., 0., 0., 0.],\n",
       "        [0., 0., 0., 0., 0.],\n",
       "        [0., 0., 0., 0., 0.],\n",
       "        [0., 0., 0., 0., 0.],\n",
       "        [0., 0., 0., 0., 0.]],\n",
       "\n",
       "       [[0., 0., 0., 0., 0.],\n",
       "        [0., 1., 1., 1., 0.],\n",
       "        [0., 1., 1., 1., 0.],\n",
       "        [0., 1., 1., 1., 0.],\n",
       "        [0., 0., 0., 0., 0.]],\n",
       "\n",
       "       [[0., 0., 0., 0., 0.],\n",
       "        [0., 1., 1., 1., 0.],\n",
       "        [0., 1., 1., 1., 0.],\n",
       "        [0., 1., 1., 1., 0.],\n",
       "        [0., 0., 0., 0., 0.]],\n",
       "\n",
       "       [[0., 0., 0., 0., 0.],\n",
       "        [0., 1., 1., 1., 0.],\n",
       "        [0., 1., 1., 1., 0.],\n",
       "        [0., 1., 1., 1., 0.],\n",
       "        [0., 0., 0., 0., 0.]],\n",
       "\n",
       "       [[0., 0., 0., 0., 0.],\n",
       "        [0., 0., 0., 0., 0.],\n",
       "        [0., 0., 0., 0., 0.],\n",
       "        [0., 0., 0., 0., 0.],\n",
       "        [0., 0., 0., 0., 0.]]])"
      ]
     },
     "execution_count": 230,
     "metadata": {},
     "output_type": "execute_result"
    }
   ],
   "source": [
    "np.pad(array, pad_width=1, mode='constant', constant_values=0)"
   ]
  },
  {
   "cell_type": "markdown",
   "id": "4057b6f0",
   "metadata": {},
   "source": [
    "The above example can be visualized as follows:\n",
    "\n",
    "<p align=\"center\">\n",
    "  <img width=\"400\" height=\"300\" img src=\"images/np_pad.png\">\n",
    "</p>\n",
    "\n",
    "This is like peeling off four of six sides of zeros so we can see the ones in the middle. \n",
    "\n",
    "##### The `pad_width` argument\n",
    "\n",
    "We can do more with `np.pad()`. For one, `pad_width` accepts a sequence with form `((before_1, after_1), (before_2, after_2), ...)`, allowing us to apply different amounts of padding to different axes and sides."
   ]
  },
  {
   "cell_type": "code",
   "execution_count": 231,
   "id": "b4843093",
   "metadata": {},
   "outputs": [
    {
     "data": {
      "text/plain": [
       "array([[1., 1., 1.],\n",
       "       [1., 1., 1.],\n",
       "       [1., 1., 1.]])"
      ]
     },
     "execution_count": 231,
     "metadata": {},
     "output_type": "execute_result"
    }
   ],
   "source": [
    "array = np.ones((3, 3))\n",
    "array"
   ]
  },
  {
   "cell_type": "code",
   "execution_count": 253,
   "id": "2901d917",
   "metadata": {},
   "outputs": [
    {
     "data": {
      "text/plain": [
       "array([[1., 1., 1., 2., 2., 2.],\n",
       "       [1., 1., 1., 2., 2., 2.],\n",
       "       [1., 1., 1., 2., 2., 2.],\n",
       "       [2., 2., 2., 2., 2., 2.],\n",
       "       [2., 2., 2., 2., 2., 2.],\n",
       "       [2., 2., 2., 2., 2., 2.]])"
      ]
     },
     "execution_count": 253,
     "metadata": {},
     "output_type": "execute_result"
    }
   ],
   "source": [
    "# Add three '2's to the edges of each axis\n",
    "np.pad(array, pad_width=((0, 3),), mode='constant', constant_values=2)"
   ]
  },
  {
   "cell_type": "markdown",
   "id": "db99d7a1",
   "metadata": {},
   "source": [
    "In the example above, `(0, 3)` means we are adding 0 padding to the beginning (before) of each axis, which, in this case, is two-dimensional -- rows and columns; we add three 2's to the end (after) of each row and column of the matrix."
   ]
  },
  {
   "cell_type": "markdown",
   "id": "1af07d85",
   "metadata": {},
   "source": [
    "#### 17. What is the result of the following expression? (★☆☆)\n",
    "\n",
    "```python\n",
    "0 * np.nan\n",
    "np.nan == np.nan\n",
    "np.inf > np.nan\n",
    "np.nan - np.nan\n",
    "np.nan in set([np.nan])\n",
    "0.3 == 3 * 0.1\n",
    "```"
   ]
  },
  {
   "cell_type": "code",
   "execution_count": 259,
   "id": "109cf327",
   "metadata": {},
   "outputs": [
    {
     "data": {
      "text/plain": [
       "nan"
      ]
     },
     "execution_count": 259,
     "metadata": {},
     "output_type": "execute_result"
    }
   ],
   "source": [
    "# Expect np.nan: identity operation\n",
    "0 * np.nan"
   ]
  },
  {
   "cell_type": "code",
   "execution_count": 257,
   "id": "1ff44346",
   "metadata": {},
   "outputs": [
    {
     "data": {
      "text/plain": [
       "False"
      ]
     },
     "execution_count": 257,
     "metadata": {},
     "output_type": "execute_result"
    }
   ],
   "source": [
    "# False: We would not expect two unknowns to be logically equal\n",
    "np.nan == np.nan"
   ]
  },
  {
   "cell_type": "code",
   "execution_count": 258,
   "id": "827d8824",
   "metadata": {},
   "outputs": [
    {
     "data": {
      "text/plain": [
       "False"
      ]
     },
     "execution_count": 258,
     "metadata": {},
     "output_type": "execute_result"
    }
   ],
   "source": [
    "# False: np.nan is unknown, and so we do not know that np.nan is less than infinity as it is possible\n",
    "np.inf > np.nan"
   ]
  },
  {
   "cell_type": "code",
   "execution_count": 261,
   "id": "024037e9",
   "metadata": {},
   "outputs": [
    {
     "data": {
      "text/plain": [
       "nan"
      ]
     },
     "execution_count": 261,
     "metadata": {},
     "output_type": "execute_result"
    }
   ],
   "source": [
    "# Expect np.nan: Unknown minus unknown is unknown\n",
    "np.nan - np.nan"
   ]
  },
  {
   "cell_type": "code",
   "execution_count": 262,
   "id": "c00aea4e",
   "metadata": {},
   "outputs": [
    {
     "data": {
      "text/plain": [
       "True"
      ]
     },
     "execution_count": 262,
     "metadata": {},
     "output_type": "execute_result"
    }
   ],
   "source": [
    "# True: we do know at least that there is an unknown in a set containing an unknown\n",
    "np.nan in set([np.nan])"
   ]
  },
  {
   "cell_type": "code",
   "execution_count": 267,
   "id": "b2221ccd",
   "metadata": {},
   "outputs": [
    {
     "data": {
      "text/plain": [
       "False"
      ]
     },
     "execution_count": 267,
     "metadata": {},
     "output_type": "execute_result"
    },
    {
     "data": {
      "text/plain": [
       "True"
      ]
     },
     "execution_count": 267,
     "metadata": {},
     "output_type": "execute_result"
    }
   ],
   "source": [
    "# False: imprecision in floating point arithmetic\n",
    "0.3 == 3 * 0.1\n",
    "# This is however true\n",
    "np.allclose(0.3, 3 * 0.1)"
   ]
  },
  {
   "cell_type": "markdown",
   "id": "6a235316",
   "metadata": {},
   "source": [
    "#### 18. Create a 5x5 matrix with values 1,2,3,4 just below the diagonal (★☆☆)"
   ]
  },
  {
   "cell_type": "code",
   "execution_count": 354,
   "id": "f2e6cfa6",
   "metadata": {},
   "outputs": [
    {
     "data": {
      "text/plain": [
       "array([[0, 0, 0, 0, 0],\n",
       "       [1, 0, 0, 0, 0],\n",
       "       [0, 2, 0, 0, 0],\n",
       "       [0, 0, 3, 0, 0],\n",
       "       [0, 0, 0, 4, 0]])"
      ]
     },
     "execution_count": 354,
     "metadata": {},
     "output_type": "execute_result"
    },
    {
     "data": {
      "text/plain": [
       "array([[0, 0, 0, 0, 0],\n",
       "       [1, 0, 0, 0, 0],\n",
       "       [0, 2, 0, 0, 0],\n",
       "       [0, 0, 3, 0, 0],\n",
       "       [0, 0, 0, 4, 0]])"
      ]
     },
     "execution_count": 354,
     "metadata": {},
     "output_type": "execute_result"
    }
   ],
   "source": [
    "np.diag(list(range(1, 5)), k=-1)\n",
    "# Or with np.arange(int)\n",
    "np.diag(1 + np.arange(4), k=-1)"
   ]
  },
  {
   "cell_type": "markdown",
   "id": "25362e98",
   "metadata": {},
   "source": [
    "#### 19. Create a 8x8 matrix and fill it with a checkerboard pattern (★☆☆)\n",
    "\n",
    "We initialize an $8 x 8$ matrix of 'w', which stands for white. Then, replace elements with 'b', which stands for black, as appropriate."
   ]
  },
  {
   "cell_type": "code",
   "execution_count": 371,
   "id": "cabdf298",
   "metadata": {},
   "outputs": [
    {
     "data": {
      "text/plain": [
       "array([['w', 'w', 'w', 'w', 'w', 'w', 'w', 'w'],\n",
       "       ['w', 'w', 'w', 'w', 'w', 'w', 'w', 'w'],\n",
       "       ['w', 'w', 'w', 'w', 'w', 'w', 'w', 'w'],\n",
       "       ['w', 'w', 'w', 'w', 'w', 'w', 'w', 'w'],\n",
       "       ['w', 'w', 'w', 'w', 'w', 'w', 'w', 'w'],\n",
       "       ['w', 'w', 'w', 'w', 'w', 'w', 'w', 'w'],\n",
       "       ['w', 'w', 'w', 'w', 'w', 'w', 'w', 'w'],\n",
       "       ['w', 'w', 'w', 'w', 'w', 'w', 'w', 'w']], dtype='<U1')"
      ]
     },
     "execution_count": 371,
     "metadata": {},
     "output_type": "execute_result"
    }
   ],
   "source": [
    "array = np.array(object=['w'] * 64, dtype=np.str_).reshape((8, 8))\n",
    "array\n"
   ]
  },
  {
   "cell_type": "code",
   "execution_count": 383,
   "id": "b0f016f2",
   "metadata": {},
   "outputs": [
    {
     "data": {
      "text/plain": [
       "slice(0, 8, 2)"
      ]
     },
     "execution_count": 383,
     "metadata": {},
     "output_type": "execute_result"
    }
   ],
   "source": [
    "slice(0, 8, 2)"
   ]
  },
  {
   "cell_type": "code",
   "execution_count": 390,
   "id": "a478260f",
   "metadata": {},
   "outputs": [
    {
     "data": {
      "text/plain": [
       "array([['w', 'b', 'w', 'b', 'w', 'b', 'w', 'b'],\n",
       "       ['b', 'w', 'b', 'w', 'b', 'w', 'b', 'w'],\n",
       "       ['w', 'b', 'w', 'b', 'w', 'b', 'w', 'b'],\n",
       "       ['b', 'w', 'b', 'w', 'b', 'w', 'b', 'w'],\n",
       "       ['w', 'b', 'w', 'b', 'w', 'b', 'w', 'b'],\n",
       "       ['b', 'w', 'b', 'w', 'b', 'w', 'b', 'w'],\n",
       "       ['w', 'b', 'w', 'b', 'w', 'b', 'w', 'b'],\n",
       "       ['b', 'w', 'b', 'w', 'b', 'w', 'b', 'w']], dtype='<U1')"
      ]
     },
     "execution_count": 390,
     "metadata": {},
     "output_type": "execute_result"
    }
   ],
   "source": [
    "# For each odd row 1, 3, 5, 7, set the even entries to 'b' \n",
    "# The slice slice(start=0, stop=8, 2) selects the odd rows, not including stop index\n",
    "# The slice slice(start=1, stop=8, 2) selects the even entries of each odd row, not including stop index\n",
    "array[slice(0, 8, 2), slice(1, 8, 2)] = 'b'\n",
    "# For each even row 2, 4, 6, 8, set the odd entries to 'b'\n",
    "# The slice slice(start=1, stop=8, 2) selects the even rows, not including stop index\n",
    "# The slice slice(start=1, stop=8, 2) selects the odd entries each even row, not including stop index\n",
    "array[slice(1, 8, 2), slice(0, 8, 2)] = 'b'\n",
    "\n",
    "array"
   ]
  },
  {
   "cell_type": "markdown",
   "id": "2f2c36e5",
   "metadata": {},
   "source": [
    "We can visualize as follows:"
   ]
  },
  {
   "cell_type": "code",
   "execution_count": 398,
   "id": "11792451",
   "metadata": {},
   "outputs": [
    {
     "data": {
      "text/plain": [
       "<matplotlib.image.AxesImage at 0x11b9029a0>"
      ]
     },
     "execution_count": 398,
     "metadata": {},
     "output_type": "execute_result"
    },
    {
     "data": {
      "image/png": "[encoded data removed]",
      "text/plain": [
       "<Figure size 576x432 with 1 Axes>"
      ]
     },
     "metadata": {
      "needs_background": "light"
     },
     "output_type": "display_data"
    }
   ],
   "source": [
    "from matplotlib import pyplot as plt\n",
    "\n",
    "# Instantiate checkerboard\n",
    "array = np.zeros((8, 8))\n",
    "array[slice(0, 8, 2), slice(1, 8, 2)] = 1\n",
    "array[slice(1, 8, 2), slice(0, 8, 2)] = 1\n",
    "# Plot 0 as black and 1 as white\n",
    "fig = plt.figure(figsize=(8,6))\n",
    "plt.imshow(array, cmap='gray')"
   ]
  },
  {
   "cell_type": "markdown",
   "id": "6431e977",
   "metadata": {},
   "source": [
    "#### 20. Consider a (6,7,8) shape array, what is the index (x,y,z) of the 100th element? (★☆☆)"
   ]
  },
  {
   "cell_type": "code",
   "execution_count": 329,
   "id": "de8b0245",
   "metadata": {},
   "outputs": [
    {
     "data": {
      "text/plain": [
       "array([[[267, 659, 747,  92, 511, 497, 632, 875],\n",
       "        [ 64,  45, 765, 910, 140, 405, 863, 870],\n",
       "        [722, 831, 989, 147, 522, 531, 889, 330],\n",
       "        [262, 525, 760, 920, 652,  42, 696, 460],\n",
       "        [836, 266, 716, 415,  13, 471, 798, 187],\n",
       "        [602, 384, 856, 999, 777, 730, 625, 729],\n",
       "        [559, 292, 575, 114, 806, 780, 338, 171]],\n",
       "\n",
       "       [[714, 222, 897, 489, 558, 544, 958, 688],\n",
       "        [970, 103, 757, 514, 641, 209, 810, 516],\n",
       "        [853, 365, 275, 261,  66, 427, 302, 678],\n",
       "        [962, 936, 919, 982, 862, 141, 347, 211],\n",
       "        [907, 536, 535, 653, 920, 895, 198,  79],\n",
       "        [436, 633, 918, 355, 152, 699,  77, 876],\n",
       "        [277, 588,  86, 435,  94, 911, 651, 466]],\n",
       "\n",
       "       [[669, 720, 283, 962, 859, 218, 613, 911],\n",
       "        [764, 603, 447, 860, 252,  23, 766, 239],\n",
       "        [928, 155, 460, 436, 570, 636, 757, 917],\n",
       "        [566, 102, 855, 645, 348, 631, 774, 147],\n",
       "        [889, 888, 555, 258, 389, 997, 150, 708],\n",
       "        [957, 303,  94, 928, 224, 966, 322, 400],\n",
       "        [158, 489, 619, 603, 919, 358, 869, 611]],\n",
       "\n",
       "       [[666, 856, 421, 164, 287, 570, 857, 801],\n",
       "        [727, 306, 614, 677, 755, 489, 996, 306],\n",
       "        [684, 664, 306,  93, 869,  62, 772,  38],\n",
       "        [818, 949, 616, 710, 920, 960, 117, 671],\n",
       "        [ 78, 979, 175, 498, 612, 278, 139, 414],\n",
       "        [624, 890, 921, 747,  28, 538, 603, 830],\n",
       "        [523,  91, 310,  42, 798,  91, 638, 590]],\n",
       "\n",
       "       [[749, 683, 266, 629, 988, 759, 821, 152],\n",
       "        [ 70,  67, 588, 697, 682, 553, 708, 165],\n",
       "        [ 52, 770, 571, 290, 206, 225,  55, 417],\n",
       "        [711,  36, 191, 358, 635, 780, 649, 543],\n",
       "        [222, 807, 884, 113, 453, 795, 957, 893],\n",
       "        [406, 724, 924, 215, 720, 508, 739, 970],\n",
       "        [878, 233, 739, 863, 511, 221,  42, 760]],\n",
       "\n",
       "       [[ 22, 783, 354,  88,  96, 482, 657, 184],\n",
       "        [491, 534, 302,  43, 858, 553,  11, 633],\n",
       "        [107, 262, 681,  41, 297, 571, 776, 377],\n",
       "        [765,  92, 872, 400, 465, 593, 717, 773],\n",
       "        [640, 776, 293, 772, 775, 400, 834, 116],\n",
       "        [138, 639,  55, 226, 652,  79, 300, 818],\n",
       "        [670,  88, 246,  41, 916, 380, 988, 581]]])"
      ]
     },
     "execution_count": 329,
     "metadata": {},
     "output_type": "execute_result"
    }
   ],
   "source": [
    "array = np.random.randint(low=0, high=1000, size=(6, 7, 8))\n",
    "# Numpy reports the shape of 3D arrays in the order depths or layers, rows, columns\n",
    "array "
   ]
  },
  {
   "cell_type": "code",
   "execution_count": 336,
   "id": "91c64dc7",
   "metadata": {},
   "outputs": [
    {
     "data": {
      "text/plain": [
       "355"
      ]
     },
     "execution_count": 336,
     "metadata": {},
     "output_type": "execute_result"
    }
   ],
   "source": [
    "# Each of the 6 2D matrices has shape (7 x 8) so 56 elements\n",
    "# The 100th element is the 56 - (100 - (56 * 2)) = 44th elements of the second matrix\n",
    "# The 44th element of a (7 x 8) matrix has indices (6th row, 4th column)\n",
    "# Index (2nd layer, 6th row, 4th column)\n",
    "array[1, 5, 3]"
   ]
  },
  {
   "cell_type": "code",
   "execution_count": 338,
   "id": "9ef3e547",
   "metadata": {},
   "outputs": [
    {
     "data": {
      "text/plain": [
       "(1, 5, 3)"
      ]
     },
     "execution_count": 338,
     "metadata": {},
     "output_type": "execute_result"
    },
    {
     "data": {
      "text/plain": [
       "355"
      ]
     },
     "execution_count": 338,
     "metadata": {},
     "output_type": "execute_result"
    }
   ],
   "source": [
    "# Equivalently\n",
    "np.unravel_index(indices=99, shape=(6, 7, 8))\n",
    "array.flat[99]"
   ]
  },
  {
   "cell_type": "markdown",
   "id": "31abe6fe",
   "metadata": {},
   "source": [
    "#### 21. Create a checkerboard 8x8 matrix using the tile function (★☆☆)"
   ]
  },
  {
   "cell_type": "code",
   "execution_count": null,
   "id": "6da26fd3",
   "metadata": {},
   "outputs": [],
   "source": []
  },
  {
   "cell_type": "markdown",
   "id": "fd88b3f4",
   "metadata": {},
   "source": [
    "#### 22. Normalize a 5x5 random matrix (★☆☆)"
   ]
  },
  {
   "cell_type": "code",
   "execution_count": null,
   "id": "ee6ced60",
   "metadata": {},
   "outputs": [],
   "source": []
  },
  {
   "cell_type": "markdown",
   "id": "464d8590",
   "metadata": {},
   "source": [
    "#### 23. Create a custom dtype that describes a color as four unsigned bytes (RGBA) (★☆☆)"
   ]
  },
  {
   "cell_type": "code",
   "execution_count": null,
   "id": "e2f9cfc6",
   "metadata": {},
   "outputs": [],
   "source": []
  },
  {
   "cell_type": "markdown",
   "id": "06c63bb3",
   "metadata": {},
   "source": [
    "#### 24. Multiply a 5x3 matrix by a 3x2 matrix (real matrix product) (★☆☆)"
   ]
  },
  {
   "cell_type": "code",
   "execution_count": null,
   "id": "9fc0d553",
   "metadata": {},
   "outputs": [],
   "source": []
  },
  {
   "cell_type": "markdown",
   "id": "76fa6285",
   "metadata": {},
   "source": [
    "#### 25. Given a 1D array, negate all elements which are between 3 and 8, in place. (★☆☆)"
   ]
  },
  {
   "cell_type": "code",
   "execution_count": null,
   "id": "0e25eca7",
   "metadata": {},
   "outputs": [],
   "source": []
  },
  {
   "cell_type": "markdown",
   "id": "930ed8bb",
   "metadata": {},
   "source": [
    "#### 26. What is the output of the following script? (★☆☆)\n",
    "```python\n",
    "# Author: Jake VanderPlas\n",
    "\n",
    "print(sum(range(5),-1))\n",
    "from numpy import *\n",
    "print(sum(range(5),-1))\n",
    "```"
   ]
  },
  {
   "cell_type": "code",
   "execution_count": null,
   "id": "f02eedba",
   "metadata": {},
   "outputs": [],
   "source": []
  },
  {
   "cell_type": "markdown",
   "id": "177120e7",
   "metadata": {},
   "source": [
    "#### 27. Consider an integer vector Z, which of these expressions are legal? (★☆☆)\n",
    "```python\n",
    "Z**Z\n",
    "2 << Z >> 2\n",
    "Z <- Z\n",
    "1j*Z\n",
    "Z/1/1\n",
    "Z<Z>Z\n",
    "```"
   ]
  },
  {
   "cell_type": "code",
   "execution_count": null,
   "id": "86d6cbef",
   "metadata": {},
   "outputs": [],
   "source": []
  },
  {
   "cell_type": "markdown",
   "id": "a6eaf0e8",
   "metadata": {},
   "source": [
    "#### 28. What are the result of the following expressions? (★☆☆)\n",
    "```python\n",
    "np.array(0) / np.array(0)\n",
    "np.array(0) // np.array(0)\n",
    "np.array([np.nan]).astype(int).astype(float)\n",
    "```"
   ]
  },
  {
   "cell_type": "code",
   "execution_count": null,
   "id": "93684068",
   "metadata": {},
   "outputs": [],
   "source": []
  },
  {
   "cell_type": "markdown",
   "id": "524b65f8",
   "metadata": {},
   "source": [
    "#### 29. How to round away from zero a float array ? (★☆☆)"
   ]
  },
  {
   "cell_type": "code",
   "execution_count": null,
   "id": "61fbb78e",
   "metadata": {},
   "outputs": [],
   "source": []
  },
  {
   "cell_type": "markdown",
   "id": "8dc40752",
   "metadata": {},
   "source": [
    "#### 30. How to find common values between two arrays? (★☆☆)"
   ]
  },
  {
   "cell_type": "code",
   "execution_count": null,
   "id": "54399cbe",
   "metadata": {},
   "outputs": [],
   "source": []
  },
  {
   "cell_type": "markdown",
   "id": "b7f38e21",
   "metadata": {},
   "source": [
    "#### 31. How to ignore all numpy warnings (not recommended)? (★☆☆)"
   ]
  },
  {
   "cell_type": "code",
   "execution_count": null,
   "id": "2ca3289c",
   "metadata": {},
   "outputs": [],
   "source": []
  },
  {
   "cell_type": "markdown",
   "id": "2d850aab",
   "metadata": {},
   "source": [
    "#### 32. Is the following expressions true? (★☆☆)\n",
    "```python\n",
    "np.sqrt(-1) == np.emath.sqrt(-1)\n",
    "```"
   ]
  },
  {
   "cell_type": "code",
   "execution_count": null,
   "id": "5c83ffce",
   "metadata": {},
   "outputs": [],
   "source": []
  },
  {
   "cell_type": "markdown",
   "id": "5c4a556f",
   "metadata": {},
   "source": [
    "#### 33. How to get the dates of yesterday, today and tomorrow? (★☆☆)"
   ]
  },
  {
   "cell_type": "code",
   "execution_count": null,
   "id": "c3b683a0",
   "metadata": {},
   "outputs": [],
   "source": []
  },
  {
   "cell_type": "markdown",
   "id": "453cdd64",
   "metadata": {},
   "source": [
    "#### 34. How to get all the dates corresponding to the month of July 2016? (★★☆)"
   ]
  },
  {
   "cell_type": "code",
   "execution_count": null,
   "id": "4ba4d37c",
   "metadata": {},
   "outputs": [],
   "source": []
  },
  {
   "cell_type": "markdown",
   "id": "52667b6e",
   "metadata": {},
   "source": [
    "#### 35. How to compute ((A+B)*(-A/2)) in place (without copy)? (★★☆)"
   ]
  },
  {
   "cell_type": "code",
   "execution_count": null,
   "id": "e6e7c030",
   "metadata": {},
   "outputs": [],
   "source": []
  },
  {
   "cell_type": "markdown",
   "id": "9a8f3738",
   "metadata": {},
   "source": [
    "#### 36. Extract the integer part of a random array of positive numbers using 4 different methods (★★☆)"
   ]
  },
  {
   "cell_type": "code",
   "execution_count": null,
   "id": "368a801a",
   "metadata": {},
   "outputs": [],
   "source": []
  },
  {
   "cell_type": "markdown",
   "id": "cab1eed1",
   "metadata": {},
   "source": [
    "#### 37. Create a 5x5 matrix with row values ranging from 0 to 4 (★★☆)"
   ]
  },
  {
   "cell_type": "code",
   "execution_count": null,
   "id": "f1b579ba",
   "metadata": {},
   "outputs": [],
   "source": []
  },
  {
   "cell_type": "markdown",
   "id": "cd0ce6b1",
   "metadata": {},
   "source": [
    "#### 38. Consider a generator function that generates 10 integers and use it to build an array (★☆☆)"
   ]
  },
  {
   "cell_type": "code",
   "execution_count": null,
   "id": "aab193a6",
   "metadata": {},
   "outputs": [],
   "source": []
  },
  {
   "cell_type": "markdown",
   "id": "c4c942d1",
   "metadata": {},
   "source": [
    "#### 39. Create a vector of size 10 with values ranging from 0 to 1, both excluded (★★☆)"
   ]
  },
  {
   "cell_type": "code",
   "execution_count": null,
   "id": "e42eaa4b",
   "metadata": {},
   "outputs": [],
   "source": []
  },
  {
   "cell_type": "markdown",
   "id": "9b3cb8d2",
   "metadata": {},
   "source": [
    "#### 40. Create a random vector of size 10 and sort it (★★☆)"
   ]
  },
  {
   "cell_type": "code",
   "execution_count": null,
   "id": "37d2b341",
   "metadata": {},
   "outputs": [],
   "source": []
  },
  {
   "cell_type": "markdown",
   "id": "2facfddc",
   "metadata": {},
   "source": [
    "#### 41. How to sum a small array faster than np.sum? (★★☆)"
   ]
  },
  {
   "cell_type": "code",
   "execution_count": null,
   "id": "4bb8864f",
   "metadata": {},
   "outputs": [],
   "source": []
  },
  {
   "cell_type": "markdown",
   "id": "539cd2a5",
   "metadata": {},
   "source": [
    "#### 42. Consider two random array A and B, check if they are equal (★★☆)"
   ]
  },
  {
   "cell_type": "code",
   "execution_count": null,
   "id": "5246d7bf",
   "metadata": {},
   "outputs": [],
   "source": []
  },
  {
   "cell_type": "markdown",
   "id": "448f8274",
   "metadata": {},
   "source": [
    "#### 43. Make an array immutable (read-only) (★★☆)"
   ]
  },
  {
   "cell_type": "code",
   "execution_count": null,
   "id": "7cf2b3dd",
   "metadata": {},
   "outputs": [],
   "source": []
  },
  {
   "cell_type": "markdown",
   "id": "d7b7aaf3",
   "metadata": {},
   "source": [
    "#### 44. Consider a random 10x2 matrix representing cartesian coordinates, convert them to polar coordinates (★★☆)"
   ]
  },
  {
   "cell_type": "code",
   "execution_count": null,
   "id": "e2337585",
   "metadata": {},
   "outputs": [],
   "source": []
  },
  {
   "cell_type": "markdown",
   "id": "a556027a",
   "metadata": {},
   "source": [
    "#### 45. Create random vector of size 10 and replace the maximum value by 0 (★★☆)"
   ]
  },
  {
   "cell_type": "code",
   "execution_count": null,
   "id": "9e07cb87",
   "metadata": {},
   "outputs": [],
   "source": []
  },
  {
   "cell_type": "markdown",
   "id": "004f3da1",
   "metadata": {},
   "source": [
    "#### 46. Create a structured array with `x` and `y` coordinates covering the [0,1]x[0,1] area (★★☆)"
   ]
  },
  {
   "cell_type": "code",
   "execution_count": null,
   "id": "b3824741",
   "metadata": {},
   "outputs": [],
   "source": []
  },
  {
   "cell_type": "markdown",
   "id": "1c0adc0d",
   "metadata": {},
   "source": [
    "#### 47. Given two arrays, X and Y, construct the Cauchy matrix C (Cij =1/(xi - yj)) (★★☆)"
   ]
  },
  {
   "cell_type": "code",
   "execution_count": null,
   "id": "01b3bbb7",
   "metadata": {},
   "outputs": [],
   "source": []
  },
  {
   "cell_type": "markdown",
   "id": "c8a2f65a",
   "metadata": {},
   "source": [
    "#### 48. Print the minimum and maximum representable value for each numpy scalar type (★★☆)"
   ]
  },
  {
   "cell_type": "code",
   "execution_count": null,
   "id": "35d844d6",
   "metadata": {},
   "outputs": [],
   "source": []
  },
  {
   "cell_type": "markdown",
   "id": "11727a69",
   "metadata": {},
   "source": [
    "#### 49. How to print all the values of an array? (★★☆)"
   ]
  },
  {
   "cell_type": "code",
   "execution_count": null,
   "id": "47e98473",
   "metadata": {},
   "outputs": [],
   "source": []
  },
  {
   "cell_type": "markdown",
   "id": "e0e7d741",
   "metadata": {},
   "source": [
    "#### 50. How to find the closest value (to a given scalar) in a vector? (★★☆)"
   ]
  },
  {
   "cell_type": "code",
   "execution_count": null,
   "id": "62cabf6f",
   "metadata": {},
   "outputs": [],
   "source": []
  },
  {
   "cell_type": "markdown",
   "id": "c5611b9e",
   "metadata": {},
   "source": [
    "#### 51. Create a structured array representing a position (x,y) and a color (r,g,b) (★★☆)"
   ]
  },
  {
   "cell_type": "code",
   "execution_count": null,
   "id": "f622939d",
   "metadata": {},
   "outputs": [],
   "source": []
  },
  {
   "cell_type": "markdown",
   "id": "d22b8574",
   "metadata": {},
   "source": [
    "#### 52. Consider a random vector with shape (100,2) representing coordinates, find point by point distances (★★☆)"
   ]
  },
  {
   "cell_type": "code",
   "execution_count": null,
   "id": "d5c9cdf8",
   "metadata": {},
   "outputs": [],
   "source": []
  },
  {
   "cell_type": "markdown",
   "id": "f5c164f2",
   "metadata": {},
   "source": [
    "#### 53. How to convert a float (32 bits) array into an integer (32 bits) in place?"
   ]
  },
  {
   "cell_type": "code",
   "execution_count": null,
   "id": "ea262de8",
   "metadata": {},
   "outputs": [],
   "source": []
  },
  {
   "cell_type": "markdown",
   "id": "a8b7e6f5",
   "metadata": {},
   "source": [
    "#### 54. How to read the following file? (★★☆)\n",
    "```\n",
    "1, 2, 3, 4, 5\n",
    "6,  ,  , 7, 8\n",
    " ,  , 9,10,11\n",
    "```"
   ]
  },
  {
   "cell_type": "code",
   "execution_count": null,
   "id": "bde0538a",
   "metadata": {},
   "outputs": [],
   "source": []
  },
  {
   "cell_type": "markdown",
   "id": "c6b32834",
   "metadata": {},
   "source": [
    "#### 55. What is the equivalent of enumerate for numpy arrays? (★★☆)"
   ]
  },
  {
   "cell_type": "code",
   "execution_count": null,
   "id": "ab02472a",
   "metadata": {},
   "outputs": [],
   "source": []
  },
  {
   "cell_type": "markdown",
   "id": "a2121a05",
   "metadata": {},
   "source": [
    "#### 56. Generate a generic 2D Gaussian-like array (★★☆)"
   ]
  },
  {
   "cell_type": "code",
   "execution_count": null,
   "id": "18507102",
   "metadata": {},
   "outputs": [],
   "source": []
  },
  {
   "cell_type": "markdown",
   "id": "97055efa",
   "metadata": {},
   "source": [
    "#### 57. How to randomly place p elements in a 2D array? (★★☆)"
   ]
  },
  {
   "cell_type": "code",
   "execution_count": null,
   "id": "292e842f",
   "metadata": {},
   "outputs": [],
   "source": []
  },
  {
   "cell_type": "markdown",
   "id": "bfd2513c",
   "metadata": {},
   "source": [
    "#### 58. Subtract the mean of each row of a matrix (★★☆)"
   ]
  },
  {
   "cell_type": "code",
   "execution_count": null,
   "id": "f306ab72",
   "metadata": {},
   "outputs": [],
   "source": []
  },
  {
   "cell_type": "markdown",
   "id": "da9f2f9b",
   "metadata": {},
   "source": [
    "#### 59. How to sort an array by the nth column? (★★☆)"
   ]
  },
  {
   "cell_type": "code",
   "execution_count": null,
   "id": "68cde57f",
   "metadata": {},
   "outputs": [],
   "source": []
  },
  {
   "cell_type": "markdown",
   "id": "5b7be45c",
   "metadata": {},
   "source": [
    "#### 60. How to tell if a given 2D array has null columns? (★★☆)"
   ]
  },
  {
   "cell_type": "code",
   "execution_count": null,
   "id": "7dbe2c27",
   "metadata": {},
   "outputs": [],
   "source": []
  },
  {
   "cell_type": "markdown",
   "id": "7c18c02e",
   "metadata": {},
   "source": [
    "#### 61. Find the nearest value from a given value in an array (★★☆)"
   ]
  },
  {
   "cell_type": "code",
   "execution_count": null,
   "id": "b78ae9c4",
   "metadata": {},
   "outputs": [],
   "source": []
  },
  {
   "cell_type": "markdown",
   "id": "8174ba2c",
   "metadata": {},
   "source": [
    "#### 62. Considering two arrays with shape (1,3) and (3,1), how to compute their sum using an iterator? (★★☆)"
   ]
  },
  {
   "cell_type": "code",
   "execution_count": null,
   "id": "8a18fe57",
   "metadata": {},
   "outputs": [],
   "source": []
  },
  {
   "cell_type": "markdown",
   "id": "9189bd7c",
   "metadata": {},
   "source": [
    "#### 63. Create an array class that has a name attribute (★★☆)"
   ]
  },
  {
   "cell_type": "code",
   "execution_count": null,
   "id": "1c01ed42",
   "metadata": {},
   "outputs": [],
   "source": []
  },
  {
   "cell_type": "markdown",
   "id": "f30162d2",
   "metadata": {},
   "source": [
    "#### 64. Consider a given vector, how to add 1 to each element indexed by a second vector (be careful with repeated indices)? (★★★)"
   ]
  },
  {
   "cell_type": "code",
   "execution_count": null,
   "id": "093ba36f",
   "metadata": {},
   "outputs": [],
   "source": []
  },
  {
   "cell_type": "markdown",
   "id": "f5b1c584",
   "metadata": {},
   "source": [
    "#### 65. How to accumulate elements of a vector (X) to an array (F) based on an index list (I)? (★★★)"
   ]
  },
  {
   "cell_type": "code",
   "execution_count": null,
   "id": "c9d92a75",
   "metadata": {},
   "outputs": [],
   "source": []
  },
  {
   "cell_type": "markdown",
   "id": "994c452d",
   "metadata": {},
   "source": [
    "#### 66. Considering a (w,h,3) image of (dtype=ubyte), compute the number of unique colors (★★☆)"
   ]
  },
  {
   "cell_type": "code",
   "execution_count": null,
   "id": "269cdaea",
   "metadata": {},
   "outputs": [],
   "source": []
  },
  {
   "cell_type": "markdown",
   "id": "4bddeb31",
   "metadata": {},
   "source": [
    "#### 67. Considering a four dimensions array, how to get sum over the last two axis at once? (★★★)"
   ]
  },
  {
   "cell_type": "code",
   "execution_count": null,
   "id": "32af15f5",
   "metadata": {},
   "outputs": [],
   "source": []
  },
  {
   "cell_type": "markdown",
   "id": "c4cf083c",
   "metadata": {},
   "source": [
    "#### 68. Considering a one-dimensional vector D, how to compute means of subsets of D using a vector S of same size describing subset  indices? (★★★)"
   ]
  },
  {
   "cell_type": "code",
   "execution_count": null,
   "id": "9600a2dd",
   "metadata": {},
   "outputs": [],
   "source": []
  },
  {
   "cell_type": "markdown",
   "id": "a5e316db",
   "metadata": {},
   "source": [
    "#### 69. How to get the diagonal of a dot product? (★★★)"
   ]
  },
  {
   "cell_type": "code",
   "execution_count": null,
   "id": "94735dbd",
   "metadata": {},
   "outputs": [],
   "source": []
  },
  {
   "cell_type": "markdown",
   "id": "de727a7b",
   "metadata": {},
   "source": [
    "#### 70. Consider the vector [1, 2, 3, 4, 5], how to build a new vector with 3 consecutive zeros interleaved between each value? (★★★)"
   ]
  },
  {
   "cell_type": "code",
   "execution_count": null,
   "id": "982be812",
   "metadata": {},
   "outputs": [],
   "source": []
  },
  {
   "cell_type": "markdown",
   "id": "a9a73d6b",
   "metadata": {},
   "source": [
    "#### 71. Consider an array of dimension (5,5,3), how to mulitply it by an array with dimensions (5,5)? (★★★)"
   ]
  },
  {
   "cell_type": "code",
   "execution_count": null,
   "id": "282a90cc",
   "metadata": {},
   "outputs": [],
   "source": []
  },
  {
   "cell_type": "markdown",
   "id": "a951c78f",
   "metadata": {},
   "source": [
    "#### 72. How to swap two rows of an array? (★★★)"
   ]
  },
  {
   "cell_type": "code",
   "execution_count": null,
   "id": "e29b3fde",
   "metadata": {},
   "outputs": [],
   "source": []
  },
  {
   "cell_type": "markdown",
   "id": "43b639e8",
   "metadata": {},
   "source": [
    "#### 73. Consider a set of 10 triplets describing 10 triangles (with shared vertices), find the set of unique line segments composing all the  triangles (★★★)"
   ]
  },
  {
   "cell_type": "code",
   "execution_count": null,
   "id": "147e1034",
   "metadata": {},
   "outputs": [],
   "source": []
  },
  {
   "cell_type": "markdown",
   "id": "d41de585",
   "metadata": {},
   "source": [
    "#### 74. Given a sorted array C that corresponds to a bincount, how to produce an array A such that np.bincount(A) == C? (★★★)"
   ]
  },
  {
   "cell_type": "code",
   "execution_count": null,
   "id": "5f5d6e36",
   "metadata": {},
   "outputs": [],
   "source": []
  },
  {
   "cell_type": "markdown",
   "id": "b50adf7c",
   "metadata": {},
   "source": [
    "#### 75. How to compute averages using a sliding window over an array? (★★★)"
   ]
  },
  {
   "cell_type": "code",
   "execution_count": null,
   "id": "e631a9d2",
   "metadata": {},
   "outputs": [],
   "source": []
  },
  {
   "cell_type": "markdown",
   "id": "1ab4c50d",
   "metadata": {},
   "source": [
    "#### 76. Consider a one-dimensional array Z, build a two-dimensional array whose first row is (Z[0],Z[1],Z[2]) and each subsequent row is  shifted by 1 (last row should be (Z[-3],Z[-2],Z[-1]) (★★★)"
   ]
  },
  {
   "cell_type": "code",
   "execution_count": null,
   "id": "3ccfe2c0",
   "metadata": {},
   "outputs": [],
   "source": []
  },
  {
   "cell_type": "markdown",
   "id": "5b4fe59d",
   "metadata": {},
   "source": [
    "#### 77. How to negate a boolean, or to change the sign of a float inplace? (★★★)"
   ]
  },
  {
   "cell_type": "code",
   "execution_count": null,
   "id": "3c2373ff",
   "metadata": {},
   "outputs": [],
   "source": []
  },
  {
   "cell_type": "markdown",
   "id": "119ab5af",
   "metadata": {},
   "source": [
    "#### 78. Consider 2 sets of points P0,P1 describing lines (2d) and a point p, how to compute distance from p to each line i (P0[i],P1[i])? (★★★)"
   ]
  },
  {
   "cell_type": "code",
   "execution_count": null,
   "id": "1d8d06dc",
   "metadata": {},
   "outputs": [],
   "source": []
  },
  {
   "cell_type": "markdown",
   "id": "e5e7f323",
   "metadata": {},
   "source": [
    "#### 79. Consider 2 sets of points P0,P1 describing lines (2d) and a set of points P, how to compute distance from each point j (P[j]) to each line i (P0[i],P1[i])? (★★★)"
   ]
  },
  {
   "cell_type": "code",
   "execution_count": null,
   "id": "d0ce77e2",
   "metadata": {},
   "outputs": [],
   "source": []
  },
  {
   "cell_type": "markdown",
   "id": "9b9d03eb",
   "metadata": {},
   "source": [
    "#### 80. Consider an arbitrary array, write a function that extract a subpart with a fixed shape and centered on a given element (pad with a `fill` value when necessary) (★★★)"
   ]
  },
  {
   "cell_type": "code",
   "execution_count": null,
   "id": "ec2b7ae3",
   "metadata": {},
   "outputs": [],
   "source": []
  },
  {
   "cell_type": "markdown",
   "id": "27794913",
   "metadata": {},
   "source": [
    "#### 81. Consider an array Z = [1,2,3,4,5,6,7,8,9,10,11,12,13,14], how to generate an array R = [[1,2,3,4], [2,3,4,5], [3,4,5,6], ..., [11,12,13,14]]? (★★★)"
   ]
  },
  {
   "cell_type": "code",
   "execution_count": null,
   "id": "f3e7878b",
   "metadata": {},
   "outputs": [],
   "source": []
  },
  {
   "cell_type": "markdown",
   "id": "fae786f5",
   "metadata": {},
   "source": [
    "#### 82. Compute a matrix rank (★★★)"
   ]
  },
  {
   "cell_type": "code",
   "execution_count": null,
   "id": "64b9615b",
   "metadata": {},
   "outputs": [],
   "source": []
  },
  {
   "cell_type": "markdown",
   "id": "c85aa0b9",
   "metadata": {},
   "source": [
    "#### 83. How to find the most frequent value in an array?"
   ]
  },
  {
   "cell_type": "code",
   "execution_count": null,
   "id": "056be85b",
   "metadata": {},
   "outputs": [],
   "source": []
  },
  {
   "cell_type": "markdown",
   "id": "0ff2344d",
   "metadata": {},
   "source": [
    "#### 84. Extract all the contiguous 3x3 blocks from a random 10x10 matrix (★★★)"
   ]
  },
  {
   "cell_type": "code",
   "execution_count": null,
   "id": "d58b1318",
   "metadata": {},
   "outputs": [],
   "source": []
  },
  {
   "cell_type": "markdown",
   "id": "1a18b263",
   "metadata": {},
   "source": [
    "#### 85. Create a 2D array subclass such that Z[i,j] == Z[j,i] (★★★)"
   ]
  },
  {
   "cell_type": "code",
   "execution_count": null,
   "id": "87f17adc",
   "metadata": {},
   "outputs": [],
   "source": []
  },
  {
   "cell_type": "markdown",
   "id": "f85f2cad",
   "metadata": {},
   "source": [
    "#### 86. Consider a set of p matrices wich shape (n,n) and a set of p vectors with shape (n,1). How to compute the sum of of the p matrix products at once? (result has shape (n,1)) (★★★)"
   ]
  },
  {
   "cell_type": "code",
   "execution_count": null,
   "id": "8d230557",
   "metadata": {},
   "outputs": [],
   "source": []
  },
  {
   "cell_type": "markdown",
   "id": "5afb72c8",
   "metadata": {},
   "source": [
    "#### 87. Consider a 16x16 array, how to get the block-sum (block size is 4x4)? (★★★)"
   ]
  },
  {
   "cell_type": "code",
   "execution_count": null,
   "id": "e86f47a9",
   "metadata": {},
   "outputs": [],
   "source": []
  },
  {
   "cell_type": "markdown",
   "id": "6094d37c",
   "metadata": {},
   "source": [
    "#### 88. How to implement the Game of Life using numpy arrays? (★★★)"
   ]
  },
  {
   "cell_type": "code",
   "execution_count": null,
   "id": "a93e715f",
   "metadata": {},
   "outputs": [],
   "source": []
  },
  {
   "cell_type": "markdown",
   "id": "a173cf96",
   "metadata": {},
   "source": [
    "#### 89. How to get the n largest values of an array (★★★)"
   ]
  },
  {
   "cell_type": "code",
   "execution_count": null,
   "id": "b7c2ff35",
   "metadata": {},
   "outputs": [],
   "source": []
  },
  {
   "cell_type": "markdown",
   "id": "15db2d01",
   "metadata": {},
   "source": [
    "#### 90. Given an arbitrary number of vectors, build the cartesian product (every combinations of every item) (★★★)"
   ]
  },
  {
   "cell_type": "code",
   "execution_count": null,
   "id": "a9a4633d",
   "metadata": {},
   "outputs": [],
   "source": []
  },
  {
   "cell_type": "markdown",
   "id": "5d94d1ef",
   "metadata": {},
   "source": [
    "#### 91. How to create a record array from a regular array? (★★★)"
   ]
  },
  {
   "cell_type": "code",
   "execution_count": null,
   "id": "b1dae380",
   "metadata": {},
   "outputs": [],
   "source": []
  },
  {
   "cell_type": "markdown",
   "id": "114ccc36",
   "metadata": {},
   "source": [
    "#### 92. Consider a large vector Z, compute Z to the power of 3 using 3 different methods (★★★)"
   ]
  },
  {
   "cell_type": "code",
   "execution_count": null,
   "id": "877c65d6",
   "metadata": {},
   "outputs": [],
   "source": []
  },
  {
   "cell_type": "markdown",
   "id": "d614fee4",
   "metadata": {},
   "source": [
    "#### 93. Consider two arrays A and B of shape (8,3) and (2,2). How to find rows of A that contain elements of each row of B regardless of the order of the elements in B? (★★★)"
   ]
  },
  {
   "cell_type": "code",
   "execution_count": null,
   "id": "e6807a84",
   "metadata": {},
   "outputs": [],
   "source": []
  },
  {
   "cell_type": "markdown",
   "id": "b0eedca6",
   "metadata": {},
   "source": [
    "#### 94. Considering a 10x3 matrix, extract rows with unequal values (e.g. [2,2,3]) (★★★)"
   ]
  },
  {
   "cell_type": "code",
   "execution_count": null,
   "id": "fc136ce2",
   "metadata": {},
   "outputs": [],
   "source": []
  },
  {
   "cell_type": "markdown",
   "id": "a65ec1cf",
   "metadata": {},
   "source": [
    "#### 95. Convert a vector of ints into a matrix binary representation (★★★)"
   ]
  },
  {
   "cell_type": "code",
   "execution_count": null,
   "id": "323cdf4c",
   "metadata": {},
   "outputs": [],
   "source": []
  },
  {
   "cell_type": "markdown",
   "id": "75b9397f",
   "metadata": {},
   "source": [
    "#### 96. Given a two dimensional array, how to extract unique rows? (★★★)"
   ]
  },
  {
   "cell_type": "code",
   "execution_count": null,
   "id": "9bb56a47",
   "metadata": {},
   "outputs": [],
   "source": []
  },
  {
   "cell_type": "markdown",
   "id": "82aaf21b",
   "metadata": {},
   "source": [
    "#### 97. Considering 2 vectors A & B, write the einsum equivalent of inner, outer, sum, and mul function (★★★)"
   ]
  },
  {
   "cell_type": "code",
   "execution_count": null,
   "id": "cedcefd9",
   "metadata": {},
   "outputs": [],
   "source": []
  },
  {
   "cell_type": "markdown",
   "id": "7741e17f",
   "metadata": {},
   "source": [
    "#### 98. Considering a path described by two vectors (X,Y), how to sample it using equidistant samples (★★★)?"
   ]
  },
  {
   "cell_type": "code",
   "execution_count": null,
   "id": "0b2432fe",
   "metadata": {},
   "outputs": [],
   "source": []
  },
  {
   "cell_type": "markdown",
   "id": "340d6f36",
   "metadata": {},
   "source": [
    "#### 99. Given an integer n and a 2D array X, select from X the rows which can be interpreted as draws from a multinomial distribution with n degrees, i.e., the rows which only contain integers and which sum to n. (★★★)"
   ]
  },
  {
   "cell_type": "code",
   "execution_count": null,
   "id": "a75323ae",
   "metadata": {},
   "outputs": [],
   "source": []
  },
  {
   "cell_type": "markdown",
   "id": "19721849",
   "metadata": {},
   "source": [
    "#### 100. Compute bootstrapped 95% confidence intervals for the mean of a 1D array X (i.e., resample the elements of an array with replacement N times, compute the mean of each sample, and then compute percentiles over the means). (★★★)"
   ]
  },
  {
   "cell_type": "code",
   "execution_count": null,
   "id": "87309c6f",
   "metadata": {},
   "outputs": [],
   "source": []
  }
 ],
 "metadata": {
  "kernelspec": {
   "display_name": "Python 3.9.6 ('python_for_machine_learning')",
   "language": "python",
   "name": "python3"
  },
  "language_info": {
   "codemirror_mode": {
    "name": "ipython",
    "version": 3
   },
   "file_extension": ".py",
   "mimetype": "text/x-python",
   "name": "python",
   "nbconvert_exporter": "python",
   "pygments_lexer": "ipython3",
   "version": "3.9.6"
  },
  "vscode": {
   "interpreter": {
    "hash": "40fc6ebffc74793621f684cf09d9f3d0a501c91440a6f462aebac8d38ed47133"
   }
  }
 },
 "nbformat": 4,
 "nbformat_minor": 5
}
