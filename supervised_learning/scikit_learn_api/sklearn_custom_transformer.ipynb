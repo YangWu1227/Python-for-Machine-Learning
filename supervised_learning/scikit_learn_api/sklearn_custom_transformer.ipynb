{
 "cells": [
  {
   "cell_type": "markdown",
   "id": "b786f490-62d2-4581-9836-6ab1fd804540",
   "metadata": {},
   "source": [
    "# Scikit-learn Estimator\n",
    "\n",
    "Any object that can estimate some parameters based on a dataset is called an **estimator** (e.g., an `imputer` is an estimator). The estimation itself is performed by the `fit()` method, and it takes only a dataset as a parameter (or two for supervised learning algorithms; the second dataset contains the labels). Any other parameter needed to guide the estimation process is considered a **hyperparameter** (such as an `imputer`’s strategy), and it must be set as an instance variable (generally via a constructor parameter, e.g. `SimpleImputer()` in the case of the `imputer`).\n",
    "\n",
    "## Transformer\n",
    "\n",
    "Some estimators (such as an `imputer`) can transform a dataset; these are called **transformers**. The API is simple: the transformation is performed by the method `transform` with the dataset to transform as a parameter. It returns the transformed dataset. This transformation generally relies on the learned\n",
    "parameters, as is the case for an `imputer`. The central piece of a transformer is `sklearn.base.BaseEstimator`. All estimators in scikit-learn are derived from this class. In more details, this base class enables users to set and get parameters of the estimator. It can be imported as:"
   ]
  },
  {
   "cell_type": "code",
   "execution_count": 1,
   "id": "76036708-0728-4fc6-925d-43c76819d192",
   "metadata": {},
   "outputs": [],
   "source": [
    "from sklearn.base import BaseEstimator"
   ]
  },
  {
   "cell_type": "markdown",
   "id": "79c4019f-4e93-4efc-9a3f-998f467f60ec",
   "metadata": {},
   "source": [
    "Once imported, we can create a class which inherits from this base class:"
   ]
  },
  {
   "cell_type": "code",
   "execution_count": 2,
   "id": "7fee3f08-75ff-44ca-ba07-f24d4fba9221",
   "metadata": {},
   "outputs": [],
   "source": [
    "class MyOwnEstimator(BaseEstimator):\n",
    "    pass"
   ]
  },
  {
   "cell_type": "markdown",
   "id": "144e685b-3547-425a-8bcf-6a714e810393",
   "metadata": {},
   "source": [
    "Note: The `class` definitions cannot be empty. If we need to have a class definition with no content, then we must place the `pass` statement to avoid getting an error."
   ]
  },
  {
   "cell_type": "markdown",
   "id": "eb8ec44d-dc06-459f-a02e-c92163644b82",
   "metadata": {},
   "source": [
    "Transformers are scikit-learn estimators which implement a `transform` method. The use case is the following:\n",
    "\n",
    "* at `fit`, some parameters can be learned from `X` and `y`;\n",
    "* at `transform`, `X` will be transformed, using the parameters learned during fit.\n",
    "\n",
    "For some transformers, the input `y` is not used. It is present for API consistency by convention. In addition, scikit-learn provides a [mixin](https://en.wikipedia.org/wiki/Mixin), i.e. the `sklearn.base.TransformerMixin` class, which implements the combination of `fit` and `transform` called `fit_transform`. We can import the class as follows:"
   ]
  },
  {
   "cell_type": "code",
   "execution_count": null,
   "id": "643a643f-ea05-43bb-b9c1-5a591a1f735a",
   "metadata": {},
   "outputs": [],
   "source": [
    "from sklearn.base import TransformerMixin"
   ]
  },
  {
   "cell_type": "markdown",
   "id": "be0833cf-15f2-4b1a-a083-0c9c1672afa1",
   "metadata": {},
   "source": [
    "When creating a `transformer`, we need to create a class which inherits from both `sklearn.base.BaseEstimator` and `sklearn.base.TransformerMixin`. The scikit-learn API imposed `fit` to return `self`. This pattern is useful when we need to be able to implement quick one liners, sequentially applying a list of transforms and a final estimator. Essentially, it allows for pipelining `fit` and `transform` methods imposed by the `sklearn.base.TransformerMixin` class. The `fit` method is expected to have `X` and `y` as inputs. Note that `transform` takes only `X` as input and is expected to return the transformed `X`:"
   ]
  },
  {
   "cell_type": "code",
   "execution_count": null,
   "id": "02db146e-1c3f-42f8-8aee-fd5ca5ced2b6",
   "metadata": {},
   "outputs": [],
   "source": [
    "class MyOwnTransformer(BaseEstimator, TransformerMixin):\n",
    "    def __init__(self, other_argument):\n",
    "        self.other_argument = other_argument\n",
    "\n",
    "    def fit(self, X, y=None):\n",
    "        return self\n",
    "\n",
    "    def transform(self, X):\n",
    "        return X"
   ]
  },
  {
   "cell_type": "markdown",
   "id": "b0f76d53-6a92-4d73-9f23-85a43c18dc4f",
   "metadata": {},
   "source": [
    "Many classes like to create objects with instances customized to a specific *initial state*. Therefore, a class may define a special method named `__init__()`. When a class defines an `__init__()` method, class instantiation automatically invokes `__init__()` for the newly-created class instance. The `self` parameter is a reference to the current instance of the class, and is used to access variables that belongs to the class. It does not have to be named `self`  as it can be called other names. However,  it has to be the first parameter of any method defined for a class. "
   ]
  }
 ],
 "metadata": {
  "kernelspec": {
   "display_name": "Python 3",
   "language": "python",
   "name": "python3"
  },
  "language_info": {
   "codemirror_mode": {
    "name": "ipython",
    "version": 3
   },
   "file_extension": ".py",
   "mimetype": "text/x-python",
   "name": "python",
   "nbconvert_exporter": "python",
   "pygments_lexer": "ipython3",
   "version": "3.8.8"
  }
 },
 "nbformat": 4,
 "nbformat_minor": 5
}
