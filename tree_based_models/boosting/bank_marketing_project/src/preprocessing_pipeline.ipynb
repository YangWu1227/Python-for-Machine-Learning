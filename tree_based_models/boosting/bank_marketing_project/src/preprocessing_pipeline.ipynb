{
 "cells": [
  {
   "cell_type": "code",
   "execution_count": 275,
   "metadata": {},
   "outputs": [
    {
     "name": "stdout",
     "output_type": "stream",
     "text": [
      "XGB Version 1.7.2\n"
     ]
    }
   ],
   "source": [
    "# Interactive\n",
    "from IPython.core.interactiveshell import InteractiveShell\n",
    "InteractiveShell.ast_node_interactivity = \"all\"\n",
    "\n",
    "# Standard library\n",
    "from functools import reduce\n",
    "import warnings\n",
    "warnings.filterwarnings(\"ignore\")\n",
    "\n",
    "# Data\n",
    "import numpy as np\n",
    "import pandas as pd\n",
    "from numpy.random import seed\n",
    "\n",
    "# Visualization\n",
    "import seaborn as sns\n",
    "import matplotlib.pyplot as plt\n",
    "\n",
    "# Machine Learning\n",
    "from sklearn.pipeline import Pipeline\n",
    "from imblearn.over_sampling import RandomOverSampler\n",
    "from sklearn.tree import DecisionTreeClassifier\n",
    "from sklearn.preprocessing import LabelEncoder, FunctionTransformer\n",
    "from sklearn.model_selection import KFold\n",
    "from sklearn.feature_selection import RFE\n",
    "from sklearn.experimental import enable_halving_search_cv\n",
    "from sklearn.model_selection import RandomizedSearchCV, HalvingRandomSearchCV, ParameterGrid, StratifiedKFold\n",
    "from sklearn.metrics import log_loss, f1_score, accuracy_score, make_scorer\n",
    "import xgboost as xgb\n",
    "import joblib\n",
    "\n",
    "# Custom transformers\n",
    "import transformers as tfs\n",
    "\n",
    "print('XGB Version',xgb.__version__)"
   ]
  },
  {
   "attachments": {},
   "cell_type": "markdown",
   "metadata": {},
   "source": [
    "## Global Settings"
   ]
  },
  {
   "cell_type": "code",
   "execution_count": 97,
   "metadata": {},
   "outputs": [],
   "source": [
    "# Random state\n",
    "seed = 1227\n",
    "rs = np.random.RandomState(seed) \n",
    "\n",
    "# Train and test data paths\n",
    "train_path = '../data/train_test/'\n",
    "test_path = '../data/train_test/'\n",
    "\n",
    "# Other paths\n",
    "model_path = '../outputs/models/'\n",
    "plot_path = '../outputs/plots/'\n",
    "\n",
    "# K-fold\n",
    "folds = 5\n",
    "\n",
    "# Top x important features to visualize\n",
    "top_num_features = 15\n",
    "\n",
    "warnings.filterwarnings(\"ignore\")"
   ]
  },
  {
   "attachments": {},
   "cell_type": "markdown",
   "metadata": {},
   "source": [
    "## Data"
   ]
  },
  {
   "cell_type": "code",
   "execution_count": 174,
   "metadata": {},
   "outputs": [],
   "source": [
    "train_X, train_y = pd.read_parquet(train_path + 'train_X.parquet'), pd.read_parquet(train_path + 'train_y.parquet').to_numpy().ravel()\n",
    "test_X, test_y = pd.read_parquet(test_path + 'test_X.parquet'), pd.read_parquet(test_path + 'test_y.parquet').to_numpy().ravel()"
   ]
  },
  {
   "cell_type": "code",
   "execution_count": 4,
   "metadata": {},
   "outputs": [
    {
     "data": {
      "text/plain": [
       "((32950, 20), (32950,))"
      ]
     },
     "execution_count": 4,
     "metadata": {},
     "output_type": "execute_result"
    }
   ],
   "source": [
    "train_X.shape, train_y.shape"
   ]
  },
  {
   "cell_type": "code",
   "execution_count": 5,
   "metadata": {},
   "outputs": [
    {
     "data": {
      "text/plain": [
       "((8238, 20), (8238,))"
      ]
     },
     "execution_count": 5,
     "metadata": {},
     "output_type": "execute_result"
    }
   ],
   "source": [
    "test_X.shape, test_y.shape"
   ]
  },
  {
   "attachments": {},
   "cell_type": "markdown",
   "metadata": {},
   "source": [
    "### Random Over Sampling"
   ]
  },
  {
   "cell_type": "code",
   "execution_count": 179,
   "metadata": {},
   "outputs": [
    {
     "data": {
      "text/plain": [
       "(array(['no', 'yes'], dtype=object), array([29238,  3712]))"
      ]
     },
     "execution_count": 179,
     "metadata": {},
     "output_type": "execute_result"
    }
   ],
   "source": [
    "np.unique(train_y, return_counts=True)"
   ]
  },
  {
   "cell_type": "code",
   "execution_count": 184,
   "metadata": {},
   "outputs": [],
   "source": [
    "train_X, train_y = RandomOverSampler(sampling_strategy='auto', random_state=rs).fit_resample(train_X, train_y)"
   ]
  },
  {
   "cell_type": "code",
   "execution_count": 185,
   "metadata": {},
   "outputs": [
    {
     "data": {
      "text/plain": [
       "(array(['no', 'yes'], dtype=object), array([29238, 29238]))"
      ]
     },
     "execution_count": 185,
     "metadata": {},
     "output_type": "execute_result"
    }
   ],
   "source": [
    "np.unique(train_y, return_counts=True)"
   ]
  },
  {
   "cell_type": "code",
   "execution_count": 186,
   "metadata": {},
   "outputs": [
    {
     "data": {
      "text/plain": [
       "((58476, 20), (58476,))"
      ]
     },
     "execution_count": 186,
     "metadata": {},
     "output_type": "execute_result"
    }
   ],
   "source": [
    "# New shapes\n",
    "train_X.shape, train_y.shape"
   ]
  },
  {
   "attachments": {},
   "cell_type": "markdown",
   "metadata": {},
   "source": [
    "## Pipeline\n",
    "\n",
    "We create the following pipelines:\n",
    "\n",
    "* There are no explicit missing values in both the training and test data; in addition, xgboost can handle missing values by default. However, if we expect future unseen data to contain missing values that need special handling, then we may need to invest in writing and testing additional custom transformers to include in the preprocessing steps.\n",
    "\n",
    "* Because the learners are trees, it isn't necessary to perform feature scaling or normalization."
   ]
  },
  {
   "cell_type": "code",
   "execution_count": 236,
   "metadata": {},
   "outputs": [],
   "source": [
    "preprocessor = Pipeline([\n",
    "    ('drop_duration', tfs.ColumnDropperTransformer(['duration'])),\n",
    "    ('cat_feature_engineer', FunctionTransformer(tfs.cat_feature_engineer, validate=False)), # One hyperparameter: encode_type\n",
    "    ('num_feature_engineer', FunctionTransformer(tfs.num_feature_engineer, validate=False)), # One hyperparameter: switch\n",
    "    ('recursive_feature_selection', RFE(DecisionTreeClassifier(random_state=rs), n_features_to_select=0.5, step=0.2, verbose=0))\n",
    "])\n",
    "label_encoder = LabelEncoder()"
   ]
  },
  {
   "cell_type": "code",
   "execution_count": 237,
   "metadata": {},
   "outputs": [
    {
     "data": {
      "text/plain": [
       "(array([0, 0, 1, ..., 1, 1, 1]), array([0, 0, 0, ..., 0, 0, 0]))"
      ]
     },
     "execution_count": 237,
     "metadata": {},
     "output_type": "execute_result"
    }
   ],
   "source": [
    "train_y = label_encoder.fit_transform(train_y)\n",
    "test_y = label_encoder.transform(test_y)\n",
    "train_y, test_y"
   ]
  },
  {
   "cell_type": "code",
   "execution_count": 238,
   "metadata": {},
   "outputs": [
    {
     "data": {
      "text/plain": [
       "['../outputs/pipeline/preprocessor.joblib']"
      ]
     },
     "execution_count": 238,
     "metadata": {},
     "output_type": "execute_result"
    },
    {
     "data": {
      "text/plain": [
       "['../outputs/pipeline/label_encoder.joblib']"
      ]
     },
     "execution_count": 238,
     "metadata": {},
     "output_type": "execute_result"
    }
   ],
   "source": [
    "# Write preprocessor and label encoder to disk for later use\n",
    "joblib.dump(preprocessor, '../outputs/pipeline/preprocessor.joblib')\n",
    "joblib.dump(label_encoder, '../outputs/pipeline/label_encoder.joblib')"
   ]
  },
  {
   "attachments": {},
   "cell_type": "markdown",
   "metadata": {},
   "source": [
    "Next, we construct a final modeling pipeline that includes the gradient-boosting classifier, which we can pass into grid search."
   ]
  },
  {
   "cell_type": "code",
   "execution_count": 239,
   "metadata": {},
   "outputs": [
    {
     "data": {
      "text/plain": [
       "['../outputs/pipeline/modeling_pipeline.joblib']"
      ]
     },
     "execution_count": 239,
     "metadata": {},
     "output_type": "execute_result"
    },
    {
     "data": {
      "text/html": [
       "<style>#sk-container-id-30 {color: black;background-color: white;}#sk-container-id-30 pre{padding: 0;}#sk-container-id-30 div.sk-toggleable {background-color: white;}#sk-container-id-30 label.sk-toggleable__label {cursor: pointer;display: block;width: 100%;margin-bottom: 0;padding: 0.3em;box-sizing: border-box;text-align: center;}#sk-container-id-30 label.sk-toggleable__label-arrow:before {content: \"▸\";float: left;margin-right: 0.25em;color: #696969;}#sk-container-id-30 label.sk-toggleable__label-arrow:hover:before {color: black;}#sk-container-id-30 div.sk-estimator:hover label.sk-toggleable__label-arrow:before {color: black;}#sk-container-id-30 div.sk-toggleable__content {max-height: 0;max-width: 0;overflow: hidden;text-align: left;background-color: #f0f8ff;}#sk-container-id-30 div.sk-toggleable__content pre {margin: 0.2em;color: black;border-radius: 0.25em;background-color: #f0f8ff;}#sk-container-id-30 input.sk-toggleable__control:checked~div.sk-toggleable__content {max-height: 200px;max-width: 100%;overflow: auto;}#sk-container-id-30 input.sk-toggleable__control:checked~label.sk-toggleable__label-arrow:before {content: \"▾\";}#sk-container-id-30 div.sk-estimator input.sk-toggleable__control:checked~label.sk-toggleable__label {background-color: #d4ebff;}#sk-container-id-30 div.sk-label input.sk-toggleable__control:checked~label.sk-toggleable__label {background-color: #d4ebff;}#sk-container-id-30 input.sk-hidden--visually {border: 0;clip: rect(1px 1px 1px 1px);clip: rect(1px, 1px, 1px, 1px);height: 1px;margin: -1px;overflow: hidden;padding: 0;position: absolute;width: 1px;}#sk-container-id-30 div.sk-estimator {font-family: monospace;background-color: #f0f8ff;border: 1px dotted black;border-radius: 0.25em;box-sizing: border-box;margin-bottom: 0.5em;}#sk-container-id-30 div.sk-estimator:hover {background-color: #d4ebff;}#sk-container-id-30 div.sk-parallel-item::after {content: \"\";width: 100%;border-bottom: 1px solid gray;flex-grow: 1;}#sk-container-id-30 div.sk-label:hover label.sk-toggleable__label {background-color: #d4ebff;}#sk-container-id-30 div.sk-serial::before {content: \"\";position: absolute;border-left: 1px solid gray;box-sizing: border-box;top: 0;bottom: 0;left: 50%;z-index: 0;}#sk-container-id-30 div.sk-serial {display: flex;flex-direction: column;align-items: center;background-color: white;padding-right: 0.2em;padding-left: 0.2em;position: relative;}#sk-container-id-30 div.sk-item {position: relative;z-index: 1;}#sk-container-id-30 div.sk-parallel {display: flex;align-items: stretch;justify-content: center;background-color: white;position: relative;}#sk-container-id-30 div.sk-item::before, #sk-container-id-30 div.sk-parallel-item::before {content: \"\";position: absolute;border-left: 1px solid gray;box-sizing: border-box;top: 0;bottom: 0;left: 50%;z-index: -1;}#sk-container-id-30 div.sk-parallel-item {display: flex;flex-direction: column;z-index: 1;position: relative;background-color: white;}#sk-container-id-30 div.sk-parallel-item:first-child::after {align-self: flex-end;width: 50%;}#sk-container-id-30 div.sk-parallel-item:last-child::after {align-self: flex-start;width: 50%;}#sk-container-id-30 div.sk-parallel-item:only-child::after {width: 0;}#sk-container-id-30 div.sk-dashed-wrapped {border: 1px dashed gray;margin: 0 0.4em 0.5em 0.4em;box-sizing: border-box;padding-bottom: 0.4em;background-color: white;}#sk-container-id-30 div.sk-label label {font-family: monospace;font-weight: bold;display: inline-block;line-height: 1.2em;}#sk-container-id-30 div.sk-label-container {text-align: center;}#sk-container-id-30 div.sk-container {/* jupyter's `normalize.less` sets `[hidden] { display: none; }` but bootstrap.min.css set `[hidden] { display: none !important; }` so we also need the `!important` here to be able to override the default hidden behavior on the sphinx rendered scikit-learn.org. See: https://github.com/scikit-learn/scikit-learn/issues/21755 */display: inline-block !important;position: relative;}#sk-container-id-30 div.sk-text-repr-fallback {display: none;}</style><div id=\"sk-container-id-30\" class=\"sk-top-container\"><div class=\"sk-text-repr-fallback\"><pre>Pipeline(steps=[(&#x27;preprocessor&#x27;,\n",
       "                 Pipeline(steps=[(&#x27;drop_duration&#x27;,\n",
       "                                  ColumnDropperTransformer(columns=[&#x27;duration&#x27;])),\n",
       "                                 (&#x27;cat_feature_engineer&#x27;,\n",
       "                                  FunctionTransformer(func=&lt;function cat_feature_engineer at 0x1776fec10&gt;)),\n",
       "                                 (&#x27;num_feature_engineer&#x27;,\n",
       "                                  FunctionTransformer(func=&lt;function num_feature_engineer at 0x1776fee50&gt;)),\n",
       "                                 (&#x27;recursive_feature_selection&#x27;,\n",
       "                                  RFE(estimator=De...\n",
       "                               grow_policy=None, importance_type=None,\n",
       "                               interaction_constraints=None, learning_rate=None,\n",
       "                               max_bin=None, max_cat_threshold=None,\n",
       "                               max_cat_to_onehot=None, max_delta_step=None,\n",
       "                               max_depth=None, max_leaves=None,\n",
       "                               min_child_weight=None, missing=nan,\n",
       "                               monotone_constraints=None, n_estimators=100,\n",
       "                               n_jobs=-1, num_parallel_tree=None,\n",
       "                               predictor=None, random_state=2058759858, ...))])</pre><b>In a Jupyter environment, please rerun this cell to show the HTML representation or trust the notebook. <br />On GitHub, the HTML representation is unable to render, please try loading this page with nbviewer.org.</b></div><div class=\"sk-container\" hidden><div class=\"sk-item sk-dashed-wrapped\"><div class=\"sk-label-container\"><div class=\"sk-label sk-toggleable\"><input class=\"sk-toggleable__control sk-hidden--visually\" id=\"sk-estimator-id-211\" type=\"checkbox\" ><label for=\"sk-estimator-id-211\" class=\"sk-toggleable__label sk-toggleable__label-arrow\">Pipeline</label><div class=\"sk-toggleable__content\"><pre>Pipeline(steps=[(&#x27;preprocessor&#x27;,\n",
       "                 Pipeline(steps=[(&#x27;drop_duration&#x27;,\n",
       "                                  ColumnDropperTransformer(columns=[&#x27;duration&#x27;])),\n",
       "                                 (&#x27;cat_feature_engineer&#x27;,\n",
       "                                  FunctionTransformer(func=&lt;function cat_feature_engineer at 0x1776fec10&gt;)),\n",
       "                                 (&#x27;num_feature_engineer&#x27;,\n",
       "                                  FunctionTransformer(func=&lt;function num_feature_engineer at 0x1776fee50&gt;)),\n",
       "                                 (&#x27;recursive_feature_selection&#x27;,\n",
       "                                  RFE(estimator=De...\n",
       "                               grow_policy=None, importance_type=None,\n",
       "                               interaction_constraints=None, learning_rate=None,\n",
       "                               max_bin=None, max_cat_threshold=None,\n",
       "                               max_cat_to_onehot=None, max_delta_step=None,\n",
       "                               max_depth=None, max_leaves=None,\n",
       "                               min_child_weight=None, missing=nan,\n",
       "                               monotone_constraints=None, n_estimators=100,\n",
       "                               n_jobs=-1, num_parallel_tree=None,\n",
       "                               predictor=None, random_state=2058759858, ...))])</pre></div></div></div><div class=\"sk-serial\"><div class=\"sk-item\"><div class=\"sk-label-container\"><div class=\"sk-label sk-toggleable\"><input class=\"sk-toggleable__control sk-hidden--visually\" id=\"sk-estimator-id-212\" type=\"checkbox\" ><label for=\"sk-estimator-id-212\" class=\"sk-toggleable__label sk-toggleable__label-arrow\">preprocessor: Pipeline</label><div class=\"sk-toggleable__content\"><pre>Pipeline(steps=[(&#x27;drop_duration&#x27;,\n",
       "                 ColumnDropperTransformer(columns=[&#x27;duration&#x27;])),\n",
       "                (&#x27;cat_feature_engineer&#x27;,\n",
       "                 FunctionTransformer(func=&lt;function cat_feature_engineer at 0x1776fec10&gt;)),\n",
       "                (&#x27;num_feature_engineer&#x27;,\n",
       "                 FunctionTransformer(func=&lt;function num_feature_engineer at 0x1776fee50&gt;)),\n",
       "                (&#x27;recursive_feature_selection&#x27;,\n",
       "                 RFE(estimator=DecisionTreeClassifier(random_state=RandomState(MT19937) at 0x177EF3E40),\n",
       "                     n_features_to_select=0.5, step=0.2))])</pre></div></div></div><div class=\"sk-serial\"><div class=\"sk-item\"><div class=\"sk-estimator sk-toggleable\"><input class=\"sk-toggleable__control sk-hidden--visually\" id=\"sk-estimator-id-213\" type=\"checkbox\" ><label for=\"sk-estimator-id-213\" class=\"sk-toggleable__label sk-toggleable__label-arrow\">ColumnDropperTransformer</label><div class=\"sk-toggleable__content\"><pre>ColumnDropperTransformer(columns=[&#x27;duration&#x27;])</pre></div></div></div><div class=\"sk-item\"><div class=\"sk-estimator sk-toggleable\"><input class=\"sk-toggleable__control sk-hidden--visually\" id=\"sk-estimator-id-214\" type=\"checkbox\" ><label for=\"sk-estimator-id-214\" class=\"sk-toggleable__label sk-toggleable__label-arrow\">FunctionTransformer</label><div class=\"sk-toggleable__content\"><pre>FunctionTransformer(func=&lt;function cat_feature_engineer at 0x1776fec10&gt;)</pre></div></div></div><div class=\"sk-item\"><div class=\"sk-estimator sk-toggleable\"><input class=\"sk-toggleable__control sk-hidden--visually\" id=\"sk-estimator-id-215\" type=\"checkbox\" ><label for=\"sk-estimator-id-215\" class=\"sk-toggleable__label sk-toggleable__label-arrow\">FunctionTransformer</label><div class=\"sk-toggleable__content\"><pre>FunctionTransformer(func=&lt;function num_feature_engineer at 0x1776fee50&gt;)</pre></div></div></div><div class=\"sk-item sk-dashed-wrapped\"><div class=\"sk-label-container\"><div class=\"sk-label sk-toggleable\"><input class=\"sk-toggleable__control sk-hidden--visually\" id=\"sk-estimator-id-216\" type=\"checkbox\" ><label for=\"sk-estimator-id-216\" class=\"sk-toggleable__label sk-toggleable__label-arrow\">recursive_feature_selection: RFE</label><div class=\"sk-toggleable__content\"><pre>RFE(estimator=DecisionTreeClassifier(random_state=RandomState(MT19937) at 0x177EF3E40),\n",
       "    n_features_to_select=0.5, step=0.2)</pre></div></div></div><div class=\"sk-parallel\"><div class=\"sk-parallel-item\"><div class=\"sk-item\"><div class=\"sk-label-container\"><div class=\"sk-label sk-toggleable\"><input class=\"sk-toggleable__control sk-hidden--visually\" id=\"sk-estimator-id-217\" type=\"checkbox\" ><label for=\"sk-estimator-id-217\" class=\"sk-toggleable__label sk-toggleable__label-arrow\">estimator: DecisionTreeClassifier</label><div class=\"sk-toggleable__content\"><pre>DecisionTreeClassifier(random_state=RandomState(MT19937) at 0x177EF3E40)</pre></div></div></div><div class=\"sk-serial\"><div class=\"sk-item\"><div class=\"sk-estimator sk-toggleable\"><input class=\"sk-toggleable__control sk-hidden--visually\" id=\"sk-estimator-id-218\" type=\"checkbox\" ><label for=\"sk-estimator-id-218\" class=\"sk-toggleable__label sk-toggleable__label-arrow\">DecisionTreeClassifier</label><div class=\"sk-toggleable__content\"><pre>DecisionTreeClassifier(random_state=RandomState(MT19937) at 0x177EF3E40)</pre></div></div></div></div></div></div></div></div></div></div><div class=\"sk-item\"><div class=\"sk-estimator sk-toggleable\"><input class=\"sk-toggleable__control sk-hidden--visually\" id=\"sk-estimator-id-219\" type=\"checkbox\" ><label for=\"sk-estimator-id-219\" class=\"sk-toggleable__label sk-toggleable__label-arrow\">XGBClassifier</label><div class=\"sk-toggleable__content\"><pre>XGBClassifier(base_score=None, booster=&#x27;gbtree&#x27;, callbacks=None,\n",
       "              colsample_bylevel=None, colsample_bynode=None,\n",
       "              colsample_bytree=None, early_stopping_rounds=None,\n",
       "              enable_categorical=False,\n",
       "              eval_metric=make_scorer(log_loss, labels=[0, 1]),\n",
       "              feature_types=None, gamma=None, gpu_id=None, grow_policy=None,\n",
       "              importance_type=None, interaction_constraints=None,\n",
       "              learning_rate=None, max_bin=None, max_cat_threshold=None,\n",
       "              max_cat_to_onehot=None, max_delta_step=None, max_depth=None,\n",
       "              max_leaves=None, min_child_weight=None, missing=nan,\n",
       "              monotone_constraints=None, n_estimators=100, n_jobs=-1,\n",
       "              num_parallel_tree=None, predictor=None, random_state=362907063, ...)</pre></div></div></div></div></div></div></div>"
      ],
      "text/plain": [
       "Pipeline(steps=[('preprocessor',\n",
       "                 Pipeline(steps=[('drop_duration',\n",
       "                                  ColumnDropperTransformer(columns=['duration'])),\n",
       "                                 ('cat_feature_engineer',\n",
       "                                  FunctionTransformer(func=<function cat_feature_engineer at 0x1776fec10>)),\n",
       "                                 ('num_feature_engineer',\n",
       "                                  FunctionTransformer(func=<function num_feature_engineer at 0x1776fee50>)),\n",
       "                                 ('recursive_feature_selection',\n",
       "                                  RFE(estimator=De...\n",
       "                               grow_policy=None, importance_type=None,\n",
       "                               interaction_constraints=None, learning_rate=None,\n",
       "                               max_bin=None, max_cat_threshold=None,\n",
       "                               max_cat_to_onehot=None, max_delta_step=None,\n",
       "                               max_depth=None, max_leaves=None,\n",
       "                               min_child_weight=None, missing=nan,\n",
       "                               monotone_constraints=None, n_estimators=100,\n",
       "                               n_jobs=-1, num_parallel_tree=None,\n",
       "                               predictor=None, random_state=408752133, ...))])"
      ]
     },
     "execution_count": 239,
     "metadata": {},
     "output_type": "execute_result"
    }
   ],
   "source": [
    "# We will fix these xgboost parameters\n",
    "fixed_params = {\n",
    "    'objective': 'binary:logistic',\n",
    "    'booster': 'gbtree',\n",
    "    'verbosity': 1,\n",
    "    'random_state': rs,\n",
    "    'n_jobs': -1,\n",
    "    'eval_metric': make_scorer(log_loss, labels=[0, 1])\n",
    "    }  \n",
    "\n",
    "modeling_pipe = Pipeline([\n",
    "    ('preprocessor', preprocessor), # This step is in and of itself a pipeline (nested)\n",
    "    ('classifier', xgb.XGBClassifier(**fixed_params))\n",
    "])\n",
    "joblib.dump(modeling_pipe, '../outputs/pipeline/modeling_pipeline.joblib')\n",
    "modeling_pipe"
   ]
  },
  {
   "attachments": {},
   "cell_type": "markdown",
   "metadata": {},
   "source": [
    "Due to the nested nature of the pipeline, it will be easier to see the entire list of parameters with their tags, so we can select the hyperparameter we need to include in a grid search. "
   ]
  },
  {
   "cell_type": "code",
   "execution_count": 240,
   "metadata": {},
   "outputs": [
    {
     "data": {
      "text/plain": [
       "86"
      ]
     },
     "execution_count": 240,
     "metadata": {},
     "output_type": "execute_result"
    }
   ],
   "source": [
    "hp = sorted(modeling_pipe.get_params().keys())\n",
    "len(hp)"
   ]
  },
  {
   "cell_type": "code",
   "execution_count": 241,
   "metadata": {},
   "outputs": [
    {
     "data": {
      "text/plain": [
       "['classifier',\n",
       " 'classifier__base_score',\n",
       " 'classifier__booster',\n",
       " 'classifier__callbacks',\n",
       " 'classifier__colsample_bylevel',\n",
       " 'classifier__colsample_bynode',\n",
       " 'classifier__colsample_bytree',\n",
       " 'classifier__early_stopping_rounds',\n",
       " 'classifier__enable_categorical',\n",
       " 'classifier__eval_metric',\n",
       " 'classifier__feature_types',\n",
       " 'classifier__gamma',\n",
       " 'classifier__gpu_id',\n",
       " 'classifier__grow_policy',\n",
       " 'classifier__importance_type',\n",
       " 'classifier__interaction_constraints',\n",
       " 'classifier__learning_rate',\n",
       " 'classifier__max_bin',\n",
       " 'classifier__max_cat_threshold',\n",
       " 'classifier__max_cat_to_onehot',\n",
       " 'classifier__max_delta_step',\n",
       " 'classifier__max_depth',\n",
       " 'classifier__max_leaves',\n",
       " 'classifier__min_child_weight',\n",
       " 'classifier__missing',\n",
       " 'classifier__monotone_constraints',\n",
       " 'classifier__n_estimators',\n",
       " 'classifier__n_jobs',\n",
       " 'classifier__num_parallel_tree',\n",
       " 'classifier__objective',\n",
       " 'classifier__predictor',\n",
       " 'classifier__random_state',\n",
       " 'classifier__reg_alpha',\n",
       " 'classifier__reg_lambda',\n",
       " 'classifier__sampling_method',\n",
       " 'classifier__scale_pos_weight',\n",
       " 'classifier__subsample',\n",
       " 'classifier__tree_method',\n",
       " 'classifier__use_label_encoder',\n",
       " 'classifier__validate_parameters',\n",
       " 'classifier__verbosity',\n",
       " 'memory',\n",
       " 'preprocessor',\n",
       " 'preprocessor__cat_feature_engineer',\n",
       " 'preprocessor__cat_feature_engineer__accept_sparse',\n",
       " 'preprocessor__cat_feature_engineer__check_inverse',\n",
       " 'preprocessor__cat_feature_engineer__feature_names_out',\n",
       " 'preprocessor__cat_feature_engineer__func',\n",
       " 'preprocessor__cat_feature_engineer__inv_kw_args',\n",
       " 'preprocessor__cat_feature_engineer__inverse_func',\n",
       " 'preprocessor__cat_feature_engineer__kw_args',\n",
       " 'preprocessor__cat_feature_engineer__validate',\n",
       " 'preprocessor__drop_duration',\n",
       " 'preprocessor__drop_duration__columns',\n",
       " 'preprocessor__memory',\n",
       " 'preprocessor__num_feature_engineer',\n",
       " 'preprocessor__num_feature_engineer__accept_sparse',\n",
       " 'preprocessor__num_feature_engineer__check_inverse',\n",
       " 'preprocessor__num_feature_engineer__feature_names_out',\n",
       " 'preprocessor__num_feature_engineer__func',\n",
       " 'preprocessor__num_feature_engineer__inv_kw_args',\n",
       " 'preprocessor__num_feature_engineer__inverse_func',\n",
       " 'preprocessor__num_feature_engineer__kw_args',\n",
       " 'preprocessor__num_feature_engineer__validate',\n",
       " 'preprocessor__recursive_feature_selection',\n",
       " 'preprocessor__recursive_feature_selection__estimator',\n",
       " 'preprocessor__recursive_feature_selection__estimator__ccp_alpha',\n",
       " 'preprocessor__recursive_feature_selection__estimator__class_weight',\n",
       " 'preprocessor__recursive_feature_selection__estimator__criterion',\n",
       " 'preprocessor__recursive_feature_selection__estimator__max_depth',\n",
       " 'preprocessor__recursive_feature_selection__estimator__max_features',\n",
       " 'preprocessor__recursive_feature_selection__estimator__max_leaf_nodes',\n",
       " 'preprocessor__recursive_feature_selection__estimator__min_impurity_decrease',\n",
       " 'preprocessor__recursive_feature_selection__estimator__min_samples_leaf',\n",
       " 'preprocessor__recursive_feature_selection__estimator__min_samples_split',\n",
       " 'preprocessor__recursive_feature_selection__estimator__min_weight_fraction_leaf',\n",
       " 'preprocessor__recursive_feature_selection__estimator__random_state',\n",
       " 'preprocessor__recursive_feature_selection__estimator__splitter',\n",
       " 'preprocessor__recursive_feature_selection__importance_getter',\n",
       " 'preprocessor__recursive_feature_selection__n_features_to_select',\n",
       " 'preprocessor__recursive_feature_selection__step',\n",
       " 'preprocessor__recursive_feature_selection__verbose',\n",
       " 'preprocessor__steps',\n",
       " 'preprocessor__verbose',\n",
       " 'steps',\n",
       " 'verbose']"
      ]
     },
     "execution_count": 241,
     "metadata": {},
     "output_type": "execute_result"
    }
   ],
   "source": [
    "hp"
   ]
  },
  {
   "attachments": {},
   "cell_type": "markdown",
   "metadata": {},
   "source": [
    "## Hyperparameter Tuning\n",
    "\n",
    "We will first use halving grid search cv to try to find the best combination of hyperparameter for the gradient boosting classifier."
   ]
  },
  {
   "cell_type": "code",
   "execution_count": 242,
   "metadata": {},
   "outputs": [],
   "source": [
    "# Grid of hyperparameter values\n",
    "param_grid = {\n",
    "    # XGBoost hyperparameter\n",
    "    'classifier__learning_rate': [0.0001, 0.001, 0.01, 0.1], \n",
    "    'classifier__n_estimators': list(range(50, 350, 50)), # Number of trees\n",
    "    'classifier__max_depth': list(range(3, 11, 2)), # Tree size\n",
    "    'classifier__gamma': [0, 5], # Regularization complexity \n",
    "    'classifier__colsample_bytree': [0.3, 0.5, 0.7], # Column sampling (features)\n",
    "    'classifier__subsample': [0.5, 0.75, 1.0] # Row sampling (training instances)\n",
    "}"
   ]
  },
  {
   "attachments": {},
   "cell_type": "markdown",
   "metadata": {},
   "source": [
    "The total number of models that could be train is $k$ (k fold csv) times total number of parameters (product of all values in the grid):"
   ]
  },
  {
   "cell_type": "code",
   "execution_count": 243,
   "metadata": {},
   "outputs": [
    {
     "data": {
      "text/plain": [
       "8640"
      ]
     },
     "execution_count": 243,
     "metadata": {},
     "output_type": "execute_result"
    }
   ],
   "source": [
    "len(ParameterGrid(param_grid=param_grid)) * 5"
   ]
  },
  {
   "attachments": {},
   "cell_type": "markdown",
   "metadata": {},
   "source": [
    "The randomized halving grid search uses successive halving to reduce the training time:"
   ]
  },
  {
   "cell_type": "code",
   "execution_count": 244,
   "metadata": {},
   "outputs": [
    {
     "name": "stdout",
     "output_type": "stream",
     "text": [
      "n_iterations: 7\n",
      "n_required_iterations: 7\n",
      "n_possible_iterations: 8\n",
      "min_resources_: 20\n",
      "max_resources_: 58476\n",
      "aggressive_elimination: False\n",
      "factor: 3\n",
      "----------\n",
      "iter: 0\n",
      "n_candidates: 1728\n",
      "n_resources: 20\n",
      "Fitting 5 folds for each of 1728 candidates, totalling 8640 fits\n"
     ]
    },
    {
     "name": "stderr",
     "output_type": "stream",
     "text": [
      "<frozen importlib._bootstrap>:228: RuntimeWarning: scipy._lib.messagestream.MessageStream size changed, may indicate binary incompatibility. Expected 56 from C header, got 64 from PyObject\n",
      "<frozen importlib._bootstrap>:228: RuntimeWarning: scipy._lib.messagestream.MessageStream size changed, may indicate binary incompatibility. Expected 56 from C header, got 64 from PyObject\n",
      "<frozen importlib._bootstrap>:228: RuntimeWarning: scipy._lib.messagestream.MessageStream size changed, may indicate binary incompatibility. Expected 56 from C header, got 64 from PyObject\n",
      "<frozen importlib._bootstrap>:228: RuntimeWarning: scipy._lib.messagestream.MessageStream size changed, may indicate binary incompatibility. Expected 56 from C header, got 64 from PyObject\n",
      "<frozen importlib._bootstrap>:228: RuntimeWarning: scipy._lib.messagestream.MessageStream size changed, may indicate binary incompatibility. Expected 56 from C header, got 64 from PyObject\n",
      "<frozen importlib._bootstrap>:228: RuntimeWarning: scipy._lib.messagestream.MessageStream size changed, may indicate binary incompatibility. Expected 56 from C header, got 64 from PyObject\n",
      "<frozen importlib._bootstrap>:228: RuntimeWarning: scipy._lib.messagestream.MessageStream size changed, may indicate binary incompatibility. Expected 56 from C header, got 64 from PyObject\n",
      "<frozen importlib._bootstrap>:228: RuntimeWarning: scipy._lib.messagestream.MessageStream size changed, may indicate binary incompatibility. Expected 56 from C header, got 64 from PyObject\n"
     ]
    },
    {
     "name": "stdout",
     "output_type": "stream",
     "text": [
      "----------\n",
      "iter: 1\n",
      "n_candidates: 576\n",
      "n_resources: 60\n",
      "Fitting 5 folds for each of 576 candidates, totalling 2880 fits\n",
      "----------\n",
      "iter: 2\n",
      "n_candidates: 192\n",
      "n_resources: 180\n",
      "Fitting 5 folds for each of 192 candidates, totalling 960 fits\n",
      "----------\n",
      "iter: 3\n",
      "n_candidates: 64\n",
      "n_resources: 540\n",
      "Fitting 5 folds for each of 64 candidates, totalling 320 fits\n",
      "----------\n",
      "iter: 4\n",
      "n_candidates: 22\n",
      "n_resources: 1620\n",
      "Fitting 5 folds for each of 22 candidates, totalling 110 fits\n",
      "----------\n",
      "iter: 5\n",
      "n_candidates: 8\n",
      "n_resources: 4860\n",
      "Fitting 5 folds for each of 8 candidates, totalling 40 fits\n",
      "----------\n",
      "iter: 6\n",
      "n_candidates: 3\n",
      "n_resources: 14580\n",
      "Fitting 5 folds for each of 3 candidates, totalling 15 fits\n"
     ]
    }
   ],
   "source": [
    "search = HalvingRandomSearchCV(\n",
    "    estimator=modeling_pipe,\n",
    "    param_distributions=param_grid,\n",
    "    cv=StratifiedKFold(n_splits=5),\n",
    "    scoring=make_scorer(f1_score, zero_division=0), # Use f1 score\n",
    "    refit=True, # Get best estimator upon completion\n",
    "    random_state=rs,\n",
    "    verbose=1,\n",
    "    n_jobs=-1 # Use all processors\n",
    ").fit(train_X, train_y)"
   ]
  },
  {
   "cell_type": "code",
   "execution_count": 252,
   "metadata": {},
   "outputs": [
    {
     "data": {
      "text/plain": [
       "['../outputs/models/baseline_model.joblib.dat']"
      ]
     },
     "execution_count": 252,
     "metadata": {},
     "output_type": "execute_result"
    }
   ],
   "source": [
    "# Save base model to disk\n",
    "joblib.dump(search.best_estimator_['classifier'], model_path + 'baseline_model.joblib.dat')"
   ]
  },
  {
   "cell_type": "code",
   "execution_count": 261,
   "metadata": {},
   "outputs": [
    {
     "data": {
      "text/plain": [
       "['../outputs/pipeline/baseline_pipeline_fitted.joblib']"
      ]
     },
     "execution_count": 261,
     "metadata": {},
     "output_type": "execute_result"
    }
   ],
   "source": [
    "# Save stored pipeline\n",
    "joblib.dump(search, '../outputs/pipeline/baseline_pipeline_fitted.joblib')"
   ]
  },
  {
   "cell_type": "code",
   "execution_count": 290,
   "metadata": {},
   "outputs": [
    {
     "data": {
      "text/plain": [
       "(xgboost.sklearn.XGBClassifier,\n",
       " sklearn.pipeline.Pipeline,\n",
       " sklearn.feature_selection._rfe.RFE)"
      ]
     },
     "execution_count": 290,
     "metadata": {},
     "output_type": "execute_result"
    }
   ],
   "source": [
    "# Best model\n",
    "model = search.best_estimator_['classifier']\n",
    "# Preprocessor trained on training data\n",
    "preprocessor_trained = search.best_estimator_['preprocessor']\n",
    "# Trained rfe for getting feature names\n",
    "rfe_trained = search.best_estimator_['preprocessor']['recursive_feature_selection']\n",
    "type(model), type(preprocessor_trained), type(rfe_trained)"
   ]
  },
  {
   "attachments": {},
   "cell_type": "markdown",
   "metadata": {},
   "source": [
    "## Feature Importance"
   ]
  },
  {
   "cell_type": "code",
   "execution_count": 295,
   "metadata": {},
   "outputs": [
    {
     "data": {
      "text/plain": [
       "array(['job', 'marital', 'education', 'default', 'housing', 'loan',\n",
       "       'contact', 'month', 'day_of_week', 'campaign', 'pdays', 'previous',\n",
       "       'poutcome', 'emp_var_rate', 'cons_price_idx', 'cons_conf_idx',\n",
       "       'euribor3m', 'nr_employed', 'job_mean', 'job_std', 'job_last',\n",
       "       'marital_mean', 'marital_std', 'education_mean', 'education_std',\n",
       "       'housing_mean', 'housing_std', 'loan_std', 'contact_mean',\n",
       "       'contact_std', 'month_mean', 'month_std', 'month_last',\n",
       "       'day_of_week_mean', 'day_of_week_std', 'campaign_mean',\n",
       "       'campaign_std', 'campaign_max', 'pdays_mean', 'pdays_std',\n",
       "       'previous_mean', 'previous_std', 'poutcome_std',\n",
       "       'emp_var_rate_std', 'cons_price_idx_mean', 'cons_price_idx_last',\n",
       "       'cons_conf_idx_mean', 'cons_conf_idx_std', 'cons_conf_idx_last',\n",
       "       'euribor3m_mean', 'euribor3m_std', 'euribor3m_min',\n",
       "       'euribor3m_last', 'nr_employed_std'], dtype=object)"
      ]
     },
     "execution_count": 295,
     "metadata": {},
     "output_type": "execute_result"
    }
   ],
   "source": [
    "rfe_trained.get_feature_names_out()"
   ]
  }
 ],
 "metadata": {
  "kernelspec": {
   "display_name": "python_for_machine_learning",
   "language": "python",
   "name": "python3"
  },
  "language_info": {
   "codemirror_mode": {
    "name": "ipython",
    "version": 3
   },
   "file_extension": ".py",
   "mimetype": "text/x-python",
   "name": "python",
   "nbconvert_exporter": "python",
   "pygments_lexer": "ipython3",
   "version": "3.9.6"
  },
  "orig_nbformat": 4,
  "vscode": {
   "interpreter": {
    "hash": "40fc6ebffc74793621f684cf09d9f3d0a501c91440a6f462aebac8d38ed47133"
   }
  }
 },
 "nbformat": 4,
 "nbformat_minor": 2
}
