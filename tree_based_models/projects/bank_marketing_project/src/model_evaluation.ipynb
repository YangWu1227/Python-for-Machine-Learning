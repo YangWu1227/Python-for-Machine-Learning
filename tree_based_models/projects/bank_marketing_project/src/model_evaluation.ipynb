{
 "cells": [
  {
   "cell_type": "code",
   "execution_count": 217,
   "metadata": {},
   "outputs": [
    {
     "name": "stdout",
     "output_type": "stream",
     "text": [
      "XGB Version 1.7.2\n"
     ]
    }
   ],
   "source": [
    "# Interactive\n",
    "from IPython.core.interactiveshell import InteractiveShell\n",
    "InteractiveShell.ast_node_interactivity = \"all\"\n",
    "\n",
    "# Standard library\n",
    "import warnings\n",
    "import os\n",
    "from functools import reduce\n",
    "\n",
    "# Data\n",
    "import numpy as np\n",
    "import pandas as pd\n",
    "from numpy.random import seed\n",
    "\n",
    "# Visualization\n",
    "import seaborn as sns\n",
    "import matplotlib.pyplot as plt\n",
    "from model_eval import plot_histograms, compute_average_accuracy\n",
    "\n",
    "# Machine Learning\n",
    "from sklearn.pipeline import Pipeline\n",
    "from sklearn.utils.validation import check_is_fitted\n",
    "from sklearn.tree import DecisionTreeClassifier\n",
    "from sklearn.neighbors import NearestNeighbors\n",
    "from sklearn.preprocessing import LabelEncoder, FunctionTransformer\n",
    "from sklearn.feature_selection import RFE\n",
    "from sklearn.model_selection import StratifiedKFold\n",
    "from sklearn.metrics import log_loss, f1_score, balanced_accuracy_score, make_scorer\n",
    "import xgboost as xgb\n",
    "import joblib\n",
    "# Imbalanced Learning\n",
    "from imblearn.over_sampling import SMOTE, BorderlineSMOTE\n",
    "from imblearn.under_sampling import EditedNearestNeighbours\n",
    "from imblearn.combine import SMOTEENN\n",
    "\n",
    "print('XGB Version',xgb.__version__)"
   ]
  },
  {
   "attachments": {},
   "cell_type": "markdown",
   "metadata": {},
   "source": [
    "## Global Settings"
   ]
  },
  {
   "cell_type": "code",
   "execution_count": 202,
   "metadata": {},
   "outputs": [],
   "source": [
    "# Random state\n",
    "seed = 127\n",
    "rs = np.random.RandomState(seed) \n",
    "\n",
    "# Train and test data paths\n",
    "train_path = '../data/train_test/'\n",
    "test_path = '../data/train_test/'\n",
    "\n",
    "# Other paths\n",
    "model_path = '../outputs/models/'\n",
    "plot_path = '../outputs/plots/'\n",
    "\n",
    "# K-fold\n",
    "folds = 5\n",
    "\n",
    "# Top x important features to visualize\n",
    "top_num_features = 20\n",
    "\n",
    "warnings.filterwarnings(\"ignore\")"
   ]
  },
  {
   "attachments": {},
   "cell_type": "markdown",
   "metadata": {},
   "source": [
    "## Data"
   ]
  },
  {
   "cell_type": "code",
   "execution_count": 203,
   "metadata": {},
   "outputs": [],
   "source": [
    "train_X, train_y = pd.read_parquet(train_path + 'train_X.parquet'), pd.read_parquet(train_path + 'train_y.parquet').to_numpy().ravel()\n",
    "test_X, test_y = pd.read_parquet(test_path + 'test_X.parquet'), pd.read_parquet(test_path + 'test_y.parquet').to_numpy().ravel()"
   ]
  },
  {
   "cell_type": "code",
   "execution_count": 204,
   "metadata": {},
   "outputs": [
    {
     "data": {
      "text/plain": [
       "((32950, 20), (32950,))"
      ]
     },
     "execution_count": 204,
     "metadata": {},
     "output_type": "execute_result"
    }
   ],
   "source": [
    "train_X.shape, train_y.shape"
   ]
  },
  {
   "cell_type": "code",
   "execution_count": 205,
   "metadata": {},
   "outputs": [
    {
     "data": {
      "text/plain": [
       "((8238, 20), (8238,))"
      ]
     },
     "execution_count": 205,
     "metadata": {},
     "output_type": "execute_result"
    }
   ],
   "source": [
    "test_X.shape, test_y.shape"
   ]
  },
  {
   "attachments": {},
   "cell_type": "markdown",
   "metadata": {},
   "source": [
    "## Baseline Model\n",
    "\n",
    "We begin by loading the baseline boosting classifier that we obtained from a grid search and use its parameters as a starting point for our k-fold cross validation:"
   ]
  },
  {
   "cell_type": "code",
   "execution_count": 206,
   "metadata": {},
   "outputs": [],
   "source": [
    "base_model = joblib.load(model_path + 'baseline_model.joblib.dat')"
   ]
  },
  {
   "cell_type": "code",
   "execution_count": 207,
   "metadata": {},
   "outputs": [
    {
     "data": {
      "text/plain": [
       "{'callbacks',\n",
       " 'early_stopping_rounds',\n",
       " 'enable_categorical',\n",
       " 'eval_metric',\n",
       " 'feature_types',\n",
       " 'importance_type',\n",
       " 'missing',\n",
       " 'n_estimators',\n",
       " 'use_label_encoder'}"
      ]
     },
     "execution_count": 207,
     "metadata": {},
     "output_type": "execute_result"
    }
   ],
   "source": [
    "# There are two functions for obtaining the parameters and they may not be same\n",
    "set(base_model.get_params().keys()) - set(base_model.get_xgb_params().keys())"
   ]
  },
  {
   "attachments": {},
   "cell_type": "markdown",
   "metadata": {},
   "source": [
    "### Parameter Set\n",
    "\n",
    "We can use the parameter set guided by the baseline model as a starting point and tune these parameters using k-fold cross validation:"
   ]
  },
  {
   "cell_type": "code",
   "execution_count": 208,
   "metadata": {},
   "outputs": [],
   "source": [
    "# Parameters for the booster object\n",
    "# See https://xgboost.readthedocs.io/en/stable/python/python_api.html#xgboost.Booster\n",
    "params_set = {'objective': 'binary:logistic',\n",
    "            'booster': 'gbtree',\n",
    "            'colsample_bylevel': 1,\n",
    "            'colsample_bynode': 1,\n",
    "            'colsample_bytree': 0.8,\n",
    "            'early_stopping_rounds': None,\n",
    "            'predictor': 'cpu_predictor',\n",
    "            'eval_metric': 'logloss',\n",
    "            'gamma': 3,\n",
    "            'learning_rate': 0.001,\n",
    "            'max_depth': 3,\n",
    "            'min_child_weight': 5,\n",
    "            'n_jobs': -1,\n",
    "            'random_state': seed,\n",
    "            'reg_alpha': 0,\n",
    "            'reg_lambda': 1,\n",
    "            'subsample': 0.5,\n",
    "            'tree_method': 'hist'}"
   ]
  },
  {
   "cell_type": "code",
   "execution_count": 209,
   "metadata": {},
   "outputs": [
    {
     "data": {
      "text/plain": [
       "['../outputs/models/param_set.joblib']"
      ]
     },
     "execution_count": 209,
     "metadata": {},
     "output_type": "execute_result"
    }
   ],
   "source": [
    "# Write the parameters to a file\n",
    "joblib.dump(params_set, model_path + 'param_set.joblib')"
   ]
  },
  {
   "attachments": {},
   "cell_type": "markdown",
   "metadata": {},
   "source": [
    "## Over Sampling and Under Sampling\n",
    "\n",
    "To address data imbalance, we will use two techniques for each parameter set we try:\n",
    "\n",
    "* Smote (over sampling the minority class) combined with edited nearest neighbors (under sampling the majority class)\n",
    "\n",
    "* Borderline Smote, which is another implementation of SMOTE, with no under sampling\n",
    "\n",
    "For each parameter set, we will use the technique that yields the best model. There could potentially be 5 fits per 5-fold cv multiplied by 2 (two alternative sampling techniques); in other words, there could potentially be a total of 10 fits for each parameter set we try.\n",
    "\n",
    "First, create an unfitted transformer that combines SMOTE and ENN: "
   ]
  },
  {
   "cell_type": "code",
   "execution_count": 210,
   "metadata": {},
   "outputs": [],
   "source": [
    "# Smote\n",
    "sm = SMOTE(\n",
    "    sampling_strategy='auto', # Oversample the minority class\n",
    "    random_state=rs, # Random state\n",
    "    k_neighbors=NearestNeighbors(n_neighbors=30, n_jobs=-1), # Number of nearest neighbors to used to construct synthetic samples\n",
    ")\n",
    "# Edited Nearest Neighbors\n",
    "enn = EditedNearestNeighbours(\n",
    "    sampling_strategy='auto', # Undersample the majority class\n",
    "    n_neighbors=30, # Number of nearest neighbors to used to construct synthetic samples\n",
    "    kind_sel='mode', # Majority vote of the neighbors will be used in order to exclude a sample (more conservative approach than 'all')\n",
    ")\n",
    "# Smote + Edited Nearest Neighbors, an instance of imblearn.combine._smote_enn.SMOTEENN\n",
    "smenn = SMOTEENN(\n",
    "    sampling_strategy='auto',\n",
    "    random_state=rs,\n",
    "    smote=sm,\n",
    "    enn=enn,\n",
    "    n_jobs=-1\n",
    ")"
   ]
  },
  {
   "attachments": {},
   "cell_type": "markdown",
   "metadata": {},
   "source": [
    "Next, create an unfitted `BorderlineSMOTE` transformer. Note that `kind='borderline-1` and `kind='borderline-2` will classify each sample \n",
    "to be: \n",
    "\n",
    "* noise, i.e. all nearest-neighbors are from a different class than the one of $x_{i}$\n",
    "  \n",
    "* in danger, i.e. at least half of the nearest neighbors are from the same class than $x_{i}$\n",
    "  \n",
    "* safe, i.e. all nearest neighbors are from the same class than $x_{i}$\n",
    "\n",
    "Borderline-1 will use samples *in danger* to generate new samples while borderline-2 will consider all samples for any class."
   ]
  },
  {
   "cell_type": "code",
   "execution_count": 211,
   "metadata": {},
   "outputs": [],
   "source": [
    "borderline_sm = BorderlineSMOTE(\n",
    "    sampling_strategy='auto',\n",
    "    random_state=rs,\n",
    "    k_neighbors=NearestNeighbors(n_neighbors=30, n_jobs=-1),\n",
    "    kind='borderline-2'\n",
    ")"
   ]
  },
  {
   "attachments": {},
   "cell_type": "markdown",
   "metadata": {},
   "source": [
    "We will save these transformers to disk, then, at train time, we load fresh instances of these transformers for each fold to *sample the training data for that specific fold*. This prevents data leakage."
   ]
  },
  {
   "cell_type": "code",
   "execution_count": 212,
   "metadata": {},
   "outputs": [
    {
     "data": {
      "text/plain": [
       "['../outputs/pipeline/smenn.joblib']"
      ]
     },
     "execution_count": 212,
     "metadata": {},
     "output_type": "execute_result"
    },
    {
     "data": {
      "text/plain": [
       "['../outputs/pipeline/borderline_sm.joblib']"
      ]
     },
     "execution_count": 212,
     "metadata": {},
     "output_type": "execute_result"
    }
   ],
   "source": [
    "joblib.dump(smenn, '../outputs/pipeline/smenn.joblib')\n",
    "joblib.dump(borderline_sm, '../outputs/pipeline/borderline_sm.joblib')"
   ]
  },
  {
   "attachments": {},
   "cell_type": "markdown",
   "metadata": {},
   "source": [
    "## Training with K-fold CV"
   ]
  },
  {
   "cell_type": "code",
   "execution_count": 213,
   "metadata": {},
   "outputs": [
    {
     "name": "stdout",
     "output_type": "stream",
     "text": [
      "################################################################################\n",
      "# Fold 1\n",
      "# Training set size 26360 Validation set size 6590\n",
      "# Training with 100% of the samples of the current fold\n",
      "################################################################################\n",
      "The training and validation sets are disjoint: True\n",
      "Preprocessor is not fitted yet\n",
      "Label encoder is not fitted yet\n"
     ]
    },
    {
     "data": {
      "text/plain": [
       "['../outputs/pipeline/preprocessor_fold_0.joblib']"
      ]
     },
     "execution_count": 213,
     "metadata": {},
     "output_type": "execute_result"
    },
    {
     "data": {
      "text/plain": [
       "['../outputs/pipeline/label_encoder_fold_0.joblib']"
      ]
     },
     "execution_count": 213,
     "metadata": {},
     "output_type": "execute_result"
    },
    {
     "name": "stdout",
     "output_type": "stream",
     "text": [
      "-- Training set size after preprocessor 26360 -- Validation set size after preprocessor 6590\n",
      "-- Positive class proportions (Train) 0.11 -- Positive class proportions (Validate) 0.11\n",
      "-- Training set size after sampling 42172 -- Positive class proportions after sampling 0.45\n",
      "[0]\ttrain-logloss:0.69265\tvalidate-logloss:0.69266\n",
      "[200]\ttrain-logloss:0.60820\tvalidate-logloss:0.67860\n",
      "[400]\ttrain-logloss:0.54666\tvalidate-logloss:0.65259\n",
      "[600]\ttrain-logloss:0.49907\tvalidate-logloss:0.62484\n",
      "[800]\ttrain-logloss:0.46197\tvalidate-logloss:0.59587\n",
      "[1000]\ttrain-logloss:0.43246\tvalidate-logloss:0.57149\n",
      "[1200]\ttrain-logloss:0.40803\tvalidate-logloss:0.55370\n",
      "[1400]\ttrain-logloss:0.38780\tvalidate-logloss:0.53409\n",
      "[1600]\ttrain-logloss:0.36979\tvalidate-logloss:0.51648\n",
      "[1800]\ttrain-logloss:0.35335\tvalidate-logloss:0.49518\n",
      "[1999]\ttrain-logloss:0.33852\tvalidate-logloss:0.47833\n",
      "Balanced Accuracy for fold 1 = 0.7121\n",
      "Zero Rule Accuracy for fold 1 = 0.5000\n",
      "################################################################################\n",
      "# Fold 2\n",
      "# Training set size 26360 Validation set size 6590\n",
      "# Training with 100% of the samples of the current fold\n",
      "################################################################################\n",
      "The training and validation sets are disjoint: True\n",
      "Preprocessor is not fitted yet\n",
      "Label encoder is not fitted yet\n"
     ]
    },
    {
     "data": {
      "text/plain": [
       "['../outputs/pipeline/preprocessor_fold_1.joblib']"
      ]
     },
     "execution_count": 213,
     "metadata": {},
     "output_type": "execute_result"
    },
    {
     "data": {
      "text/plain": [
       "['../outputs/pipeline/label_encoder_fold_1.joblib']"
      ]
     },
     "execution_count": 213,
     "metadata": {},
     "output_type": "execute_result"
    },
    {
     "name": "stdout",
     "output_type": "stream",
     "text": [
      "-- Training set size after preprocessor 26360 -- Validation set size after preprocessor 6590\n",
      "-- Positive class proportions (Train) 0.11 -- Positive class proportions (Validate) 0.11\n",
      "-- Training set size after sampling 42390 -- Positive class proportions after sampling 0.45\n",
      "[0]\ttrain-logloss:0.69265\tvalidate-logloss:0.69345\n",
      "[200]\ttrain-logloss:0.60854\tvalidate-logloss:0.63442\n",
      "[400]\ttrain-logloss:0.54660\tvalidate-logloss:0.59178\n",
      "[600]\ttrain-logloss:0.49838\tvalidate-logloss:0.55135\n",
      "[800]\ttrain-logloss:0.46087\tvalidate-logloss:0.52440\n",
      "[1000]\ttrain-logloss:0.43136\tvalidate-logloss:0.50444\n",
      "[1200]\ttrain-logloss:0.40749\tvalidate-logloss:0.48742\n",
      "[1400]\ttrain-logloss:0.38865\tvalidate-logloss:0.47561\n",
      "[1600]\ttrain-logloss:0.37272\tvalidate-logloss:0.46316\n",
      "[1800]\ttrain-logloss:0.35818\tvalidate-logloss:0.44908\n",
      "[1999]\ttrain-logloss:0.34340\tvalidate-logloss:0.43891\n",
      "Balanced Accuracy for fold 2 = 0.7110\n",
      "Zero Rule Accuracy for fold 2 = 0.5000\n",
      "################################################################################\n",
      "# Fold 3\n",
      "# Training set size 26360 Validation set size 6590\n",
      "# Training with 100% of the samples of the current fold\n",
      "################################################################################\n",
      "The training and validation sets are disjoint: True\n",
      "Preprocessor is not fitted yet\n",
      "Label encoder is not fitted yet\n"
     ]
    },
    {
     "data": {
      "text/plain": [
       "['../outputs/pipeline/preprocessor_fold_2.joblib']"
      ]
     },
     "execution_count": 213,
     "metadata": {},
     "output_type": "execute_result"
    },
    {
     "data": {
      "text/plain": [
       "['../outputs/pipeline/label_encoder_fold_2.joblib']"
      ]
     },
     "execution_count": 213,
     "metadata": {},
     "output_type": "execute_result"
    },
    {
     "name": "stdout",
     "output_type": "stream",
     "text": [
      "-- Training set size after preprocessor 26360 -- Validation set size after preprocessor 6590\n",
      "-- Positive class proportions (Train) 0.11 -- Positive class proportions (Validate) 0.11\n",
      "-- Training set size after sampling 42153 -- Positive class proportions after sampling 0.45\n",
      "[0]\ttrain-logloss:0.69264\tvalidate-logloss:0.69343\n",
      "[200]\ttrain-logloss:0.60548\tvalidate-logloss:0.67434\n",
      "[400]\ttrain-logloss:0.54168\tvalidate-logloss:0.64564\n",
      "[600]\ttrain-logloss:0.49320\tvalidate-logloss:0.61062\n",
      "[800]\ttrain-logloss:0.45591\tvalidate-logloss:0.57714\n",
      "[1000]\ttrain-logloss:0.42675\tvalidate-logloss:0.54845\n",
      "[1200]\ttrain-logloss:0.40324\tvalidate-logloss:0.52582\n",
      "[1400]\ttrain-logloss:0.38423\tvalidate-logloss:0.50702\n",
      "[1600]\ttrain-logloss:0.36947\tvalidate-logloss:0.48808\n",
      "[1800]\ttrain-logloss:0.35544\tvalidate-logloss:0.47491\n",
      "[1999]\ttrain-logloss:0.34264\tvalidate-logloss:0.46628\n",
      "Balanced Accuracy for fold 3 = 0.7064\n",
      "Zero Rule Accuracy for fold 3 = 0.5000\n",
      "################################################################################\n",
      "# Fold 4\n",
      "# Training set size 26360 Validation set size 6590\n",
      "# Training with 100% of the samples of the current fold\n",
      "################################################################################\n",
      "The training and validation sets are disjoint: True\n",
      "Preprocessor is not fitted yet\n",
      "Label encoder is not fitted yet\n"
     ]
    },
    {
     "data": {
      "text/plain": [
       "['../outputs/pipeline/preprocessor_fold_3.joblib']"
      ]
     },
     "execution_count": 213,
     "metadata": {},
     "output_type": "execute_result"
    },
    {
     "data": {
      "text/plain": [
       "['../outputs/pipeline/label_encoder_fold_3.joblib']"
      ]
     },
     "execution_count": 213,
     "metadata": {},
     "output_type": "execute_result"
    },
    {
     "name": "stdout",
     "output_type": "stream",
     "text": [
      "-- Training set size after preprocessor 26360 -- Validation set size after preprocessor 6590\n",
      "-- Positive class proportions (Train) 0.11 -- Positive class proportions (Validate) 0.11\n",
      "-- Training set size after sampling 42218 -- Positive class proportions after sampling 0.45\n",
      "[0]\ttrain-logloss:0.69266\tvalidate-logloss:0.69266\n",
      "[200]\ttrain-logloss:0.60954\tvalidate-logloss:0.67320\n",
      "[400]\ttrain-logloss:0.54865\tvalidate-logloss:0.63787\n",
      "[600]\ttrain-logloss:0.50193\tvalidate-logloss:0.59847\n",
      "[800]\ttrain-logloss:0.46435\tvalidate-logloss:0.56401\n",
      "[1000]\ttrain-logloss:0.43432\tvalidate-logloss:0.53938\n",
      "[1200]\ttrain-logloss:0.40981\tvalidate-logloss:0.51819\n",
      "[1400]\ttrain-logloss:0.39027\tvalidate-logloss:0.50334\n",
      "[1600]\ttrain-logloss:0.37419\tvalidate-logloss:0.48620\n",
      "[1800]\ttrain-logloss:0.35898\tvalidate-logloss:0.46829\n",
      "[1999]\ttrain-logloss:0.34520\tvalidate-logloss:0.45365\n",
      "Balanced Accuracy for fold 4 = 0.7346\n",
      "Zero Rule Accuracy for fold 4 = 0.5000\n",
      "################################################################################\n",
      "# Fold 5\n",
      "# Training set size 26360 Validation set size 6590\n",
      "# Training with 100% of the samples of the current fold\n",
      "################################################################################\n",
      "The training and validation sets are disjoint: True\n",
      "Preprocessor is not fitted yet\n",
      "Label encoder is not fitted yet\n"
     ]
    },
    {
     "data": {
      "text/plain": [
       "['../outputs/pipeline/preprocessor_fold_4.joblib']"
      ]
     },
     "execution_count": 213,
     "metadata": {},
     "output_type": "execute_result"
    },
    {
     "data": {
      "text/plain": [
       "['../outputs/pipeline/label_encoder_fold_4.joblib']"
      ]
     },
     "execution_count": 213,
     "metadata": {},
     "output_type": "execute_result"
    },
    {
     "name": "stdout",
     "output_type": "stream",
     "text": [
      "-- Training set size after preprocessor 26360 -- Validation set size after preprocessor 6590\n",
      "-- Positive class proportions (Train) 0.11 -- Positive class proportions (Validate) 0.11\n",
      "-- Training set size after sampling 42336 -- Positive class proportions after sampling 0.45\n",
      "[0]\ttrain-logloss:0.69266\tvalidate-logloss:0.69267\n",
      "[200]\ttrain-logloss:0.60966\tvalidate-logloss:0.67426\n",
      "[400]\ttrain-logloss:0.54817\tvalidate-logloss:0.64669\n",
      "[600]\ttrain-logloss:0.50132\tvalidate-logloss:0.61171\n",
      "[800]\ttrain-logloss:0.46540\tvalidate-logloss:0.57941\n",
      "[1000]\ttrain-logloss:0.43701\tvalidate-logloss:0.55148\n",
      "[1200]\ttrain-logloss:0.41361\tvalidate-logloss:0.52929\n",
      "[1400]\ttrain-logloss:0.39561\tvalidate-logloss:0.51156\n",
      "[1600]\ttrain-logloss:0.37893\tvalidate-logloss:0.49878\n",
      "[1800]\ttrain-logloss:0.36369\tvalidate-logloss:0.48699\n",
      "[1999]\ttrain-logloss:0.34963\tvalidate-logloss:0.47345\n",
      "Balanced Accuracy for fold 5 = 0.7255\n",
      "Zero Rule Accuracy for fold 5 = 0.5000\n"
     ]
    }
   ],
   "source": [
    "# Feature importance output container (list of pandas data frames)\n",
    "feat_imp_list = []\n",
    "# Out-of-fold prediction container\n",
    "oof = []\n",
    "# An instance of StratifiedKFold, whose split method generates indices to split data into training and validation set\n",
    "skf = StratifiedKFold(n_splits=folds, shuffle=True, random_state=rs)\n",
    "\n",
    "# Fives rounds of fitting\n",
    "for fold, (train_idx, valid_idx) in enumerate(skf.split(X=train_X, y=train_y)):\n",
    "    \n",
    "    # Print messages to console\n",
    "    print('#'* 80)\n",
    "    print('# Fold',fold + 1)\n",
    "    print('# Training set size', len(train_idx), 'Validation set size', len(valid_idx))\n",
    "    print(f'# Training with 100% of the samples of the current fold')\n",
    "    print('#'* 80)\n",
    "    \n",
    "    # Check that the indices are indeed disjoint for training and validation set\n",
    "    print('The training and validation sets are disjoint:', set(train_idx).isdisjoint(set(valid_idx)))\n",
    "    \n",
    "    # For each fold, we need to process the training data and target label using fresh instances of the preprocessor and label encoder\n",
    "    # This is because the preprocessor and label encoder must be fitted on the training data of the current fold to avoid data leakage\n",
    "    # Note, recursive feature elimination that ends the preprocessor pipeline is not stochastic since we used a decision tree classifier \n",
    "    # Therefore, each fresh instance of the preprocessor will lead to the same features being selected\n",
    "    preprocessor = joblib.load('../outputs/pipeline/preprocessor.joblib')\n",
    "    label_encoder = joblib.load('../outputs/pipeline/label_encoder.joblib')\n",
    "    # Check that neither of the objects are fitted\n",
    "    try:\n",
    "        preprocessor.transform(train_X.iloc[train_idx])\n",
    "    except:\n",
    "        print('Preprocessor is not fitted yet')\n",
    "        \n",
    "    try:\n",
    "        check_is_fitted(label_encoder)\n",
    "    except:\n",
    "        print('Label encoder is not fitted yet')\n",
    "        \n",
    "    # Fit and transform the preprocessor and label encoder on the training data of the current fold\n",
    "    fold_train_X = preprocessor.fit_transform(train_X.iloc[train_idx], train_y[train_idx])\n",
    "    fold_train_y = label_encoder.fit_transform(train_y[train_idx])\n",
    "    # Only transform (not fit) the validation data of the current fold\n",
    "    fold_valid_X = preprocessor.transform(train_X.iloc[valid_idx])\n",
    "    fold_valid_y = label_encoder.transform(train_y[valid_idx])\n",
    "    # Store fitted preprocessor and label encoder\n",
    "    joblib.dump(preprocessor, f'../outputs/pipeline/preprocessor_fold_{fold}.joblib')\n",
    "    joblib.dump(label_encoder, f'../outputs/pipeline/label_encoder_fold_{fold}.joblib')\n",
    "    \n",
    "    # Print messages to console\n",
    "    print('-- Training set size after preprocessor', fold_train_y.shape[0], '-- Validation set size after preprocessor', fold_valid_y.shape[0])\n",
    "    print('-- Positive class proportions (Train)', (fold_train_y.sum() / len(fold_train_y)).round(2), '-- Positive class proportions (Validate)', (fold_valid_y.sum() / len(fold_valid_y)).round(2))\n",
    "    \n",
    "    # Fit and resample the training data of the current fold\n",
    "    fold_train_X, fold_train_y = joblib.load('../outputs/pipeline/smenn.joblib').fit_resample(fold_train_X, fold_train_y)\n",
    "    # Print messages to console\n",
    "    print('-- Training set size after sampling', fold_train_y.shape[0], '-- Positive class proportions after sampling', (fold_train_y.sum() / len(fold_train_y)).round(2))\n",
    "    \n",
    "    # Fit the model on the training data of the current fold\n",
    "    feature_names = preprocessor['recursive_feature_selection'].get_feature_names_out().tolist()\n",
    "    dtrain = xgb.DMatrix(data=fold_train_X, label=fold_train_y, feature_names=feature_names)\n",
    "    dvalid = xgb.DMatrix(data=fold_valid_X, label=fold_valid_y, feature_names=feature_names)\n",
    "    model = xgb.train(\n",
    "        params=params_set,\n",
    "        dtrain=dtrain,\n",
    "        num_boost_round=2000, # Same as n_estimators in sklearn API\n",
    "        evals=[(dtrain, 'train'), (dvalid, 'validate')], # List of validation sets to be evaluated during training\n",
    "        verbose_eval=200, # Print messages to console every 'verbose_eval' rounds\n",
    "    )\n",
    "    model.save_model(model_path + f'model_fold_{fold + 1}.xgb')\n",
    "    \n",
    "    # Feature importance for the current fold\n",
    "    # The booster object has a get_score method that returns a dictionary of feature names and their importance scores\n",
    "    feat_imp = model.get_score(importance_type='weight')\n",
    "    df = pd.DataFrame({'feature': feat_imp.keys(), f'importance_{fold + 1}': feat_imp.values()})\n",
    "    # Add the current fold's feature importance to the container\n",
    "    feat_imp_list.append(df)\n",
    "    \n",
    "    # Out-of-fold prediction for the current fold\n",
    "    oof_pred = model.predict(data=dvalid)\n",
    "    score = balanced_accuracy_score(y_true=fold_valid_y, y_pred=oof_pred > 0.5)\n",
    "    # Zero rule predictions\n",
    "    fold_valid_y_zeror = np.zeros_like(fold_valid_y)\n",
    "    score_zeror = balanced_accuracy_score(y_true=fold_valid_y, y_pred=fold_valid_y_zeror)\n",
    "    print(f'Balanced Accuracy for fold {fold + 1} = {score:.4f}')\n",
    "    print(f'Zero Rule Accuracy for fold {fold + 1} = {score_zeror:.4f}')\n",
    "    \n",
    "    # Store predictions for the current fold\n",
    "    df = pd.DataFrame({'target': fold_valid_y, 'predictions': oof_pred})\n",
    "    oof.append(df)\n",
    "    \n",
    "    # Remove bindings so gc can collect the objects once reference count is zero\n",
    "    del fold_train_X, fold_train_y, fold_valid_X, fold_valid_y, dtrain, dvalid, model, score, score_zeror"
   ]
  },
  {
   "attachments": {},
   "cell_type": "markdown",
   "metadata": {},
   "source": [
    "* Based on experimentations, the combination of SMOTE and Edited nearest neighbors tends to lead to the lowest log-loss these parameter and features sets."
   ]
  },
  {
   "attachments": {},
   "cell_type": "markdown",
   "metadata": {},
   "source": [
    "### Predictions on Validation Sets\n",
    "\n",
    "We can visualize the out-of-fold predictions and compare the shape of their distributions to those of the true target labels:  "
   ]
  },
  {
   "cell_type": "code",
   "execution_count": 214,
   "metadata": {},
   "outputs": [
    {
     "data": {
      "image/png": "[encoded data removed]",
      "text/plain": [
       "<Figure size 1152x648 with 5 Axes>"
      ]
     },
     "metadata": {
      "needs_background": "light"
     },
     "output_type": "display_data"
    }
   ],
   "source": [
    "plot_histograms('predictions', oof, path='../outputs/plots/predictions_on_validation_set.pdf')"
   ]
  },
  {
   "cell_type": "code",
   "execution_count": 215,
   "metadata": {},
   "outputs": [
    {
     "data": {
      "image/png": "[encoded data removed]",
      "text/plain": [
       "<Figure size 1152x648 with 5 Axes>"
      ]
     },
     "metadata": {
      "needs_background": "light"
     },
     "output_type": "display_data"
    }
   ],
   "source": [
    "plot_histograms('target', oof)"
   ]
  },
  {
   "attachments": {},
   "cell_type": "markdown",
   "metadata": {},
   "source": [
    "As can be seen, the model predictions have right skewed distributions across all five folds, which indicates that the model has some predictive power. However, it is not perfect. We can quantify the overall balanced accuracy across these five folds by obtaining, for each fold, one measure of accuracy and taking the mean:"
   ]
  },
  {
   "cell_type": "code",
   "execution_count": 225,
   "metadata": {},
   "outputs": [
    {
     "data": {
      "text/plain": [
       "0.7179385023185085"
      ]
     },
     "execution_count": 225,
     "metadata": {},
     "output_type": "execute_result"
    }
   ],
   "source": [
    "compute_average_accuracy(oof)"
   ]
  },
  {
   "attachments": {},
   "cell_type": "markdown",
   "metadata": {},
   "source": [
    "Another way to measure model performance is to compare the overall prediction accuracy to the so-called 'dumb' guess metric. For binary classification using log loss as the evaluation metric, there is the magic number ~$0.693$, which is the value of the log loss function when predictions are simply random guesses for both classes with probability 0.5."
   ]
  },
  {
   "cell_type": "code",
   "execution_count": 228,
   "metadata": {},
   "outputs": [
    {
     "name": "stdout",
     "output_type": "stream",
     "text": [
      "Random Guess Log Loss Metric = 0.6931471805599453\n"
     ]
    }
   ],
   "source": [
    "actual = [0, 0, 1, 0, 0, 0, 1, 1, 0, 1]\n",
    "predictions = [\n",
    "    [0.5, 0.5],\n",
    "    [0.5, 0.5],\n",
    "    [0.5, 0.5],\n",
    "    [0.5, 0.5],\n",
    "    [0.5, 0.5],\n",
    "    [0.5, 0.5],\n",
    "    [0.5, 0.5],\n",
    "    [0.5, 0.5],\n",
    "    [0.5, 0.5],\n",
    "    [0.5, 0.5],\n",
    "]\n",
    "\n",
    "print('Random Guess Log Loss Metric =', log_loss(y_true=actual, y_pred=predictions))"
   ]
  },
  {
   "attachments": {},
   "cell_type": "markdown",
   "metadata": {},
   "source": [
    "As can be seen in the cross validation output, the log loss values for our model are generally in the range between 0.43 to 0.47."
   ]
  },
  {
   "attachments": {},
   "cell_type": "markdown",
   "metadata": {},
   "source": [
    "## Feature Importance"
   ]
  },
  {
   "cell_type": "code",
   "execution_count": 229,
   "metadata": {},
   "outputs": [],
   "source": [
    "# Order feature importance for each fold\n",
    "for i in range(5):\n",
    "    feat_imp_list[i].sort_values(by=f'importance_{i + 1}', ascending=True, inplace=True)"
   ]
  },
  {
   "cell_type": "code",
   "execution_count": 230,
   "metadata": {},
   "outputs": [
    {
     "data": {
      "text/plain": [
       "<AxesSubplot:title={'center':'Feature importance for fold 1'}, ylabel='feature'>"
      ]
     },
     "execution_count": 230,
     "metadata": {},
     "output_type": "execute_result"
    },
    {
     "data": {
      "image/png": "[encoded data removed]",
      "text/plain": [
       "<Figure size 864x720 with 1 Axes>"
      ]
     },
     "metadata": {
      "needs_background": "light"
     },
     "output_type": "display_data"
    },
    {
     "data": {
      "text/plain": [
       "<AxesSubplot:title={'center':'Feature importance for fold 2'}, ylabel='feature'>"
      ]
     },
     "execution_count": 230,
     "metadata": {},
     "output_type": "execute_result"
    },
    {
     "data": {
      "image/png": "[encoded data removed]",
      "text/plain": [
       "<Figure size 864x720 with 1 Axes>"
      ]
     },
     "metadata": {
      "needs_background": "light"
     },
     "output_type": "display_data"
    },
    {
     "data": {
      "text/plain": [
       "<AxesSubplot:title={'center':'Feature importance for fold 3'}, ylabel='feature'>"
      ]
     },
     "execution_count": 230,
     "metadata": {},
     "output_type": "execute_result"
    },
    {
     "data": {
      "image/png": "[encoded data removed]",
      "text/plain": [
       "<Figure size 864x720 with 1 Axes>"
      ]
     },
     "metadata": {
      "needs_background": "light"
     },
     "output_type": "display_data"
    },
    {
     "data": {
      "text/plain": [
       "<AxesSubplot:title={'center':'Feature importance for fold 4'}, ylabel='feature'>"
      ]
     },
     "execution_count": 230,
     "metadata": {},
     "output_type": "execute_result"
    },
    {
     "data": {
      "image/png": "[encoded data removed]",
      "text/plain": [
       "<Figure size 864x720 with 1 Axes>"
      ]
     },
     "metadata": {
      "needs_background": "light"
     },
     "output_type": "display_data"
    },
    {
     "data": {
      "text/plain": [
       "<AxesSubplot:title={'center':'Feature importance for fold 5'}, ylabel='feature'>"
      ]
     },
     "execution_count": 230,
     "metadata": {},
     "output_type": "execute_result"
    },
    {
     "data": {
      "image/png": "[encoded data removed]",
      "text/plain": [
       "<Figure size 864x720 with 1 Axes>"
      ]
     },
     "metadata": {
      "needs_background": "light"
     },
     "output_type": "display_data"
    }
   ],
   "source": [
    "for i in range(5):\n",
    "    feat_imp_list[i].iloc[-top_num_features:].plot.barh(x='feature', y=f'importance_{i + 1}', figsize=(12, 10), title=f'Feature importance for fold {i + 1}');\n",
    "    plt.savefig(f'../outputs/plots/feature_importance_fold_{i + 1}.pdf')\n",
    "    plt.show()"
   ]
  },
  {
   "attachments": {},
   "cell_type": "markdown",
   "metadata": {},
   "source": [
    "## Predictions on Test Data\n",
    "\n",
    "Finally, we make predictions on the test data. For each model, we generate one set of predictions on the test data and then take the average:"
   ]
  },
  {
   "cell_type": "code",
   "execution_count": 231,
   "metadata": {},
   "outputs": [],
   "source": [
    "pred = np.zeros_like(test_y)\n",
    "avg_test_y = np.zeros_like(test_y)\n",
    "for i in range(5):\n",
    "    # Initialize the model\n",
    "    model = xgb.Booster()\n",
    "    # Load the model\n",
    "    model.load_model(model_path + f'model_fold_{i + 1}.xgb')\n",
    "    # Processor the test set\n",
    "    fold_test_X = joblib.load('../outputs/pipeline/preprocessor_fold_' + str(i) + '.joblib').transform(test_X)\n",
    "    # Make predictions on the test set\n",
    "    pred += model.predict(xgb.DMatrix(data=fold_test_X))\n",
    "# Average the predictions\n",
    "pred /= 5\n",
    "pred = pred.astype('float64')"
   ]
  },
  {
   "attachments": {},
   "cell_type": "markdown",
   "metadata": {},
   "source": [
    "Distribution of predictions:"
   ]
  },
  {
   "cell_type": "code",
   "execution_count": 232,
   "metadata": {},
   "outputs": [
    {
     "data": {
      "image/png": "[encoded data removed]",
      "text/plain": [
       "<Figure size 864x720 with 1 Axes>"
      ]
     },
     "metadata": {
      "needs_background": "light"
     },
     "output_type": "display_data"
    }
   ],
   "source": [
    "plt.rcParams['figure.figsize'] = (12, 10)\n",
    "plt.hist(pred, bins=100, alpha=0.5);\n",
    "plt.title(f'Predictions on Test Set (Sample Size = {len(pred):,}))')\n",
    "plt.xlabel('Predicted Probability')\n",
    "plt.ylabel('Frequency')\n",
    "plt.savefig('../outputs/plots/predictions_on_test_set.pdf')\n",
    "plt.show();"
   ]
  }
 ],
 "metadata": {
  "kernelspec": {
   "display_name": "python_for_machine_learning",
   "language": "python",
   "name": "python3"
  },
  "language_info": {
   "codemirror_mode": {
    "name": "ipython",
    "version": 3
   },
   "file_extension": ".py",
   "mimetype": "text/x-python",
   "name": "python",
   "nbconvert_exporter": "python",
   "pygments_lexer": "ipython3",
   "version": "3.9.6 | packaged by conda-forge | (default, Jul 11 2021, 03:36:15) \n[Clang 11.1.0 ]"
  },
  "orig_nbformat": 4,
  "vscode": {
   "interpreter": {
    "hash": "40fc6ebffc74793621f684cf09d9f3d0a501c91440a6f462aebac8d38ed47133"
   }
  }
 },
 "nbformat": 4,
 "nbformat_minor": 2
}
